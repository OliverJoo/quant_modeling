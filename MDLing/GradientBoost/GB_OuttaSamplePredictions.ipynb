{
 "cells": [
  {
   "cell_type": "code",
   "execution_count": 15,
   "metadata": {
    "collapsed": true,
    "pycharm": {
     "name": "#%%\n"
    },
    "ExecuteTime": {
     "end_time": "2023-09-15T09:12:20.310660200Z",
     "start_time": "2023-09-15T09:12:20.232361900Z"
    }
   },
   "outputs": [],
   "source": [
    "import warnings\n",
    "warnings.filterwarnings('ignore')\n",
    "%matplotlib inline\n",
    "\n",
    "from time import time\n",
    "import sys, os\n",
    "from pathlib import Path\n",
    "\n",
    "import pandas as pd\n",
    "from scipy.stats import spearmanr\n",
    "\n",
    "import lightgbm as lgb\n",
    "from catboost import Pool, CatBoostRegressor\n",
    "\n",
    "import seaborn as sns\n",
    "sys.path.insert(1, os.path.join(sys.path[0], '..'))\n",
    "from utils4t import MultipleTimeSeriesCV\n",
    "sns.set_style('whitegrid')\n",
    "YEAR = 252\n",
    "idx = pd.IndexSlice\n",
    "scope_params = ['lookahead', 'train_length', 'test_length']\n",
    "daily_ic_metrics = ['daily_ic_mean', 'daily_ic_mean_n', 'daily_ic_median', 'daily_ic_median_n']\n",
    "lgb_train_params = ['learning_rate', 'num_leaves', 'feature_fraction', 'min_data_in_leaf']\n",
    "catboost_train_params = ['max_depth', 'min_child_samples']"
   ]
  },
  {
   "cell_type": "code",
   "execution_count": 16,
   "outputs": [],
   "source": [
    "# Generate LightGBM predictions\n",
    "base_params = dict(boosting='gbdt', objective='regression', verbose=-1, num_threads=6, device='cpu')\n",
    "\n",
    "categoricals = ['year', 'month', 'sector', 'weekday']\n",
    "lookahead = 1\n",
    "store = Path('data/predictions.h5')"
   ],
   "metadata": {
    "collapsed": false,
    "pycharm": {
     "name": "#%%\n"
    },
    "ExecuteTime": {
     "end_time": "2023-09-15T09:12:20.312658400Z",
     "start_time": "2023-09-15T09:12:20.253754900Z"
    }
   }
  },
  {
   "cell_type": "code",
   "execution_count": 17,
   "outputs": [],
   "source": [
    "data = pd.read_hdf('data/data.h5', 'model_data').sort_index()\n",
    "labels = sorted(data.filter(like='_fwd').columns)\n",
    "features = data.columns.difference(labels).tolist()\n",
    "label = f'r{lookahead:02}_fwd'\n",
    "data = data.loc[idx[:, '2010':], features + [label]].dropna()\n",
    "for feature in categoricals:\n",
    "    data[feature] = pd.factorize(data[feature], sort=True)[0]\n",
    "\n",
    "lgb_data = lgb.Dataset(data=data[features], label=data[label], categorical_feature=categoricals,\n",
    "                       free_raw_data=False)"
   ],
   "metadata": {
    "collapsed": false,
    "pycharm": {
     "name": "#%%\n"
    },
    "ExecuteTime": {
     "end_time": "2023-09-15T09:12:30.790863900Z",
     "start_time": "2023-09-15T09:12:20.270709500Z"
    }
   }
  },
  {
   "cell_type": "code",
   "execution_count": 18,
   "outputs": [
    {
     "name": "stdout",
     "output_type": "stream",
     "text": [
      "\n",
      "Position: 00\n",
      "1 2 3 4 \n",
      "Position: 01\n",
      "1 2 3 4 \n",
      "Position: 02\n",
      "1 2 3 4 \n",
      "Position: 03\n",
      "1 2 3 4 \n",
      "Position: 04\n",
      "1 2 3 4 \n",
      "Position: 05\n",
      "1 2 3 4 \n",
      "Position: 06\n",
      "1 2 3 4 \n",
      "Position: 07\n",
      "1 2 3 4 \n",
      "Position: 08\n",
      "1 2 3 4 \n",
      "Position: 09\n",
      "1 2 3 4                 0           1           2           3           4           5  \\\n",
      "count  252.000000  252.000000  252.000000  252.000000  252.000000  252.000000   \n",
      "mean     0.010675    0.011592    0.010631    0.008189    0.007743    0.006275   \n",
      "std      0.113152    0.113917    0.113226    0.118084    0.118385    0.119454   \n",
      "min     -0.272160   -0.285236   -0.259701   -0.327668   -0.318522   -0.316593   \n",
      "25%     -0.063408   -0.065001   -0.066844   -0.065090   -0.066343   -0.068451   \n",
      "50%      0.011066    0.013032    0.012221   -0.001202   -0.001485    0.000511   \n",
      "75%      0.080009    0.087169    0.084750    0.079256    0.076535    0.073616   \n",
      "max      0.314746    0.309612    0.318184    0.405628    0.398021    0.405234   \n",
      "\n",
      "                6           7           8           9  \n",
      "count  252.000000  252.000000  252.000000  252.000000  \n",
      "mean     0.010381    0.016475    0.009380    0.008815  \n",
      "std      0.112493    0.126813    0.115396    0.117524  \n",
      "min     -0.254204   -0.309817   -0.267355   -0.307169  \n",
      "25%     -0.070207   -0.062808   -0.067848   -0.073962  \n",
      "50%      0.009531    0.020143    0.008558    0.009955  \n",
      "75%      0.077654    0.094167    0.079498    0.086033  \n",
      "max      0.312991    0.346171    0.320396    0.325386  \n"
     ]
    }
   ],
   "source": [
    "# Generate predictions\n",
    "lgb_ic = pd.read_hdf('data/model_tuning.h5', 'lgb/ic')\n",
    "lgb_daily_ic = pd.read_hdf('data/model_tuning.h5', 'lgb/daily_ic')\n",
    "\n",
    "def get_lgb_params(data, t=5, best=0):\n",
    "    param_cols = scope_params[1:] + lgb_train_params + ['boost_rounds']\n",
    "    df = data[data.lookahead==t].sort_values('ic', ascending=False).iloc[best]\n",
    "    return df.loc[param_cols]\n",
    "\n",
    "for position in range(10):\n",
    "    params = get_lgb_params(lgb_daily_ic, t=lookahead, best=position)\n",
    "\n",
    "    params = params.to_dict()\n",
    "\n",
    "    for p in ['min_data_in_leaf', 'num_leaves']:\n",
    "        params[p] = int(params[p])\n",
    "\n",
    "    train_length = int(params.pop('train_length'))\n",
    "    test_length = int(params.pop('test_length'))\n",
    "    num_boost_round = int(params.pop('boost_rounds'))\n",
    "    params.update(base_params)\n",
    "\n",
    "    print(f'\\nPosition: {position:02}')\n",
    "\n",
    "    # 1-year out-of-sample period\n",
    "    n_splits = int(YEAR / test_length)\n",
    "    cv = MultipleTimeSeriesCV(n_splits=n_splits, test_period_length=test_length, lookahead=lookahead,\n",
    "                              train_period_length=train_length)\n",
    "\n",
    "    predictions = []\n",
    "    start = time()\n",
    "    for i, (train_idx, test_idx) in enumerate(cv.split(X=data), 1):\n",
    "        print(i, end=' ', flush=True)\n",
    "        lgb_train = lgb_data.subset(used_indices=train_idx.tolist(), params=params).construct()\n",
    "\n",
    "        model = lgb.train(params=params, train_set=lgb_train, num_boost_round=num_boost_round,\n",
    "                          verbose_eval=False)\n",
    "\n",
    "        test_set = data.iloc[test_idx, :]\n",
    "        y_test = test_set.loc[:, label].to_frame('y_test')\n",
    "        y_pred = model.predict(test_set.loc[:, model.feature_name()])\n",
    "        predictions.append(y_test.assign(prediction=y_pred))\n",
    "\n",
    "    if position == 0:\n",
    "        test_predictions = (pd.concat(predictions)\n",
    "                            .rename(columns={'prediction': position}))\n",
    "    else:\n",
    "        test_predictions[position] = pd.concat(predictions).prediction\n",
    "\n",
    "by_day = test_predictions.groupby(level='date')\n",
    "for position in range(10):\n",
    "    if position == 0:\n",
    "        ic_by_day = by_day.apply(lambda x: spearmanr(\n",
    "            x.y_test, x[position])[0]).to_frame()\n",
    "    else:\n",
    "        ic_by_day[position] = by_day.apply(\n",
    "            lambda x: spearmanr(x.y_test, x[position])[0])\n",
    "\n",
    "print(ic_by_day.describe())\n",
    "test_predictions.to_hdf(store, f'lgb/test/{lookahead:02}')"
   ],
   "metadata": {
    "collapsed": false,
    "pycharm": {
     "name": "#%%\n"
    },
    "ExecuteTime": {
     "end_time": "2023-09-15T09:25:01.418570200Z",
     "start_time": "2023-09-15T09:12:30.798842800Z"
    }
   }
  },
  {
   "cell_type": "code",
   "execution_count": 19,
   "outputs": [],
   "source": [
    "# Generate CatBoost predictions\n",
    "lookaheads = [1, 5, 21]\n",
    "label_dict = dict(zip(lookaheads, labels))\n",
    "\n",
    "lookahead = 1\n",
    "store = Path('data/predictions.h5')\n",
    "\n",
    "data = pd.read_hdf('data/data.h5', 'model_data').sort_index()\n",
    "labels = sorted(data.filter(like='_fwd').columns)\n",
    "features = data.columns.difference(labels).tolist()\n",
    "label = f'r{lookahead:02}_fwd'\n",
    "\n",
    "data = data.loc[idx[:, '2010':], features + [label]].dropna()\n",
    "for feature in categoricals:\n",
    "    data[feature] = pd.factorize(data[feature], sort=True)[0]\n",
    "\n",
    "cat_cols_idx = [data.columns.get_loc(c) for c in categoricals]\n",
    "catboost_data = Pool(label=data[label], data=data.drop(label, axis=1), cat_features=cat_cols_idx)"
   ],
   "metadata": {
    "collapsed": false,
    "pycharm": {
     "name": "#%%\n"
    },
    "ExecuteTime": {
     "end_time": "2023-09-15T09:25:13.166152700Z",
     "start_time": "2023-09-15T09:25:01.423556900Z"
    }
   }
  },
  {
   "cell_type": "code",
   "execution_count": 20,
   "outputs": [
    {
     "name": "stdout",
     "output_type": "stream",
     "text": [
      "\n",
      "Position: 00\n",
      "1 2 3 4 \n",
      "Position: 01\n",
      "1 2 3 4 \n",
      "Position: 02\n",
      "1 2 3 4 \n",
      "Position: 03\n",
      "1 2 3 4 \n",
      "Position: 04\n",
      "1 2 3 4 \n",
      "Position: 05\n",
      "1 2 3 4 \n",
      "Position: 06\n",
      "1 2 3 4 \n",
      "Position: 07\n",
      "1 2 3 4 \n",
      "Position: 08\n",
      "1 2 3 4 \n",
      "Position: 09\n",
      "1 2 3 4                 0           1           2           3           4           5  \\\n",
      "count  252.000000  252.000000  252.000000  252.000000  252.000000  252.000000   \n",
      "mean     0.016724    0.016368    0.015685    0.016137    0.016227    0.016137   \n",
      "std      0.097576    0.099424    0.098993    0.098963    0.098876    0.098963   \n",
      "min     -0.286148   -0.286148   -0.290912   -0.286148   -0.286148   -0.286148   \n",
      "25%     -0.043081   -0.047206   -0.047474   -0.046847   -0.047474   -0.046847   \n",
      "50%      0.014120    0.019711    0.017389    0.020700    0.019711    0.020700   \n",
      "75%      0.079402    0.080934    0.081175    0.081175    0.081175    0.081175   \n",
      "max      0.311490    0.336327    0.311490    0.311490    0.311490    0.311490   \n",
      "\n",
      "                6           7           8           9  \n",
      "count  252.000000  252.000000  252.000000  252.000000  \n",
      "mean     0.016278    0.005821    0.005595    0.005657  \n",
      "std      0.099510    0.132305    0.132774    0.132654  \n",
      "min     -0.286148   -0.450722   -0.450722   -0.450722  \n",
      "25%     -0.046444   -0.082263   -0.084772   -0.083190  \n",
      "50%      0.020700    0.006085    0.006949    0.010134  \n",
      "75%      0.080934    0.098425    0.093775    0.094221  \n",
      "max      0.336327    0.347997    0.347997    0.347997  \n"
     ]
    }
   ],
   "source": [
    "# Generate predictions\n",
    "catboost_ic = pd.read_hdf('data/model_tuning.h5', 'catboost/ic')\n",
    "catboost_ic_avg = pd.read_hdf('data/model_tuning.h5', 'catboost/daily_ic')\n",
    "\n",
    "def get_cb_params(data, t=5, best=0):\n",
    "    param_cols = scope_params[1:] + catboost_train_params + ['boost_rounds']\n",
    "    df = data[data.lookahead==t].sort_values('ic', ascending=False).iloc[best]\n",
    "    return df.loc[param_cols]\n",
    "\n",
    "for position in range(10):\n",
    "    params = get_cb_params(catboost_ic_avg, t=lookahead, best=position)\n",
    "\n",
    "    params = params.to_dict()\n",
    "\n",
    "    for p in ['max_depth', 'min_child_samples']:\n",
    "        params[p] = int(params[p])\n",
    "\n",
    "    train_length = int(params.pop('train_length'))\n",
    "    test_length = int(params.pop('test_length'))\n",
    "    num_boost_round = int(params.pop('boost_rounds'))\n",
    "    params['task_type'] = 'GPU'\n",
    "    params['thread_count'] = -1\n",
    "\n",
    "    print(f'\\nPosition: {position:02}')\n",
    "\n",
    "    # 1-year out-of-sample period\n",
    "    n_splits = int(YEAR / test_length)\n",
    "    cv = MultipleTimeSeriesCV(n_splits=n_splits, test_period_length=test_length, lookahead=lookahead,\n",
    "                              train_period_length=train_length)\n",
    "\n",
    "    predictions = []\n",
    "    start = time()\n",
    "    for i, (train_idx, test_idx) in enumerate(cv.split(X=data), 1):\n",
    "        print(i, end=' ', flush=True)\n",
    "        train_set = catboost_data.slice(train_idx.tolist())\n",
    "\n",
    "        model = CatBoostRegressor(**params)\n",
    "        model.fit(X=train_set, verbose_eval=False)\n",
    "\n",
    "        test_set = data.iloc[test_idx, :]\n",
    "        y_test = test_set.loc[:, label].to_frame('y_test')\n",
    "        y_pred = model.predict(test_set.loc[:, model.feature_names_])\n",
    "        predictions.append(y_test.assign(prediction=y_pred))\n",
    "\n",
    "    if position == 0:\n",
    "        test_predictions = (pd.concat(predictions)\n",
    "                            .rename(columns={'prediction': position}))\n",
    "    else:\n",
    "        test_predictions[position] = pd.concat(predictions).prediction\n",
    "\n",
    "by_day = test_predictions.groupby(level='date')\n",
    "for position in range(10):\n",
    "    if position == 0:\n",
    "        ic_by_day = by_day.apply(lambda x: spearmanr(x.y_test, x[position])[0]).to_frame()\n",
    "    else:\n",
    "        ic_by_day[position] = by_day.apply(lambda x: spearmanr(x.y_test, x[position])[0])\n",
    "\n",
    "print(ic_by_day.describe())\n",
    "test_predictions.to_hdf(store, f'catboost/test/{lookahead:02}')"
   ],
   "metadata": {
    "collapsed": false,
    "pycharm": {
     "name": "#%%\n"
    },
    "ExecuteTime": {
     "end_time": "2023-09-15T10:21:38.386305500Z",
     "start_time": "2023-09-15T09:25:13.167149900Z"
    }
   }
  }
 ],
 "metadata": {
  "kernelspec": {
   "display_name": "Python 3",
   "language": "python",
   "name": "python3"
  },
  "language_info": {
   "codemirror_mode": {
    "name": "ipython",
    "version": 2
   },
   "file_extension": ".py",
   "mimetype": "text/x-python",
   "name": "python",
   "nbconvert_exporter": "python",
   "pygments_lexer": "ipython2",
   "version": "2.7.6"
  }
 },
 "nbformat": 4,
 "nbformat_minor": 0
}
