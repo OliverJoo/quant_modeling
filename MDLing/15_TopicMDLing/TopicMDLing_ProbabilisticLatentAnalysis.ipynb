{
 "cells": [
  {
   "cell_type": "code",
   "execution_count": 2,
   "metadata": {
    "collapsed": true,
    "pycharm": {
     "name": "#%%\n"
    }
   },
   "outputs": [],
   "source": [
    "import warnings\n",
    "warnings.filterwarnings('ignore')\n",
    "%matplotlib inline\n",
    "\n",
    "from pathlib import Path\n",
    "from random import randint\n",
    "import numpy as np\n",
    "import pandas as pd\n",
    "\n",
    "# sklearn for feature extraction & modeling\n",
    "from sklearn.feature_extraction.text import TfidfVectorizer\n",
    "from sklearn.decomposition import NMF\n",
    "from sklearn.model_selection import train_test_split\n",
    "\n",
    "# Visualization\n",
    "import matplotlib.pyplot as plt\n",
    "import seaborn as sns\n",
    "np.random.seed(42)\n",
    "sns.set_style('whitegrid')\n",
    "pd.options.display.float_format = '{:,.2f}'.format\n",
    "\n",
    "DATA_DIR = Path('data')"
   ]
  },
  {
   "cell_type": "code",
   "execution_count": 3,
   "outputs": [
    {
     "name": "stdout",
     "output_type": "stream",
     "text": [
      "<class 'pandas.core.frame.DataFrame'>\n",
      "RangeIndex: 2225 entries, 0 to 2224\n",
      "Data columns (total 3 columns):\n",
      " #   Column    Non-Null Count  Dtype \n",
      "---  ------    --------------  ----- \n",
      " 0   Category  2225 non-null   object\n",
      " 1   Heading   2225 non-null   object\n",
      " 2   Article   2225 non-null   object\n",
      "dtypes: object(3)\n",
      "memory usage: 52.3+ KB\n"
     ]
    }
   ],
   "source": [
    "path = DATA_DIR / 'bbc'\n",
    "files = sorted(list(path.glob('**/*.txt')))\n",
    "doc_list = []\n",
    "for i, file in enumerate(files):\n",
    "    with open(str(file), encoding='latin1') as f:\n",
    "        topic = file.parts[-2]\n",
    "        lines = f.readlines()\n",
    "        heading = lines[0].strip()\n",
    "        body = ' '.join([l.strip() for l in lines[1:]])\n",
    "        doc_list.append([topic.capitalize(), heading, body])\n",
    "\n",
    "# Convert to DataFrame\n",
    "docs = pd.DataFrame(doc_list, columns=['Category', 'Heading', 'Article'])\n",
    "docs.info()"
   ],
   "metadata": {
    "collapsed": false,
    "pycharm": {
     "name": "#%%\n"
    }
   }
  },
  {
   "cell_type": "code",
   "execution_count": 4,
   "outputs": [
    {
     "data": {
      "text/plain": "((2175, 3), (50, 3))"
     },
     "execution_count": 4,
     "metadata": {},
     "output_type": "execute_result"
    }
   ],
   "source": [
    "# Create Train & Test Sets\n",
    "train_docs, test_docs = train_test_split(docs, stratify=docs.Category, test_size=50, random_state=42)\n",
    "train_docs.shape, test_docs.shape"
   ],
   "metadata": {
    "collapsed": false,
    "pycharm": {
     "name": "#%%\n"
    }
   }
  },
  {
   "cell_type": "code",
   "execution_count": 5,
   "outputs": [
    {
     "data": {
      "text/plain": "Sport            12\nBusiness         11\nEntertainment     9\nTech              9\nPolitics          9\nName: Category, dtype: int64"
     },
     "execution_count": 5,
     "metadata": {},
     "output_type": "execute_result"
    }
   ],
   "source": [
    "pd.Series(test_docs.Category).value_counts()"
   ],
   "metadata": {
    "collapsed": false,
    "pycharm": {
     "name": "#%%\n"
    }
   }
  },
  {
   "cell_type": "code",
   "execution_count": 6,
   "outputs": [
    {
     "data": {
      "text/plain": "<2175x2907 sparse matrix of type '<class 'numpy.float64'>'\n\twith 205235 stored elements in Compressed Sparse Row format>"
     },
     "execution_count": 6,
     "metadata": {},
     "output_type": "execute_result"
    }
   ],
   "source": [
    "# Vectorize train & test sets\n",
    "vectorizer = TfidfVectorizer(max_df=.2, min_df=.01, stop_words='english')\n",
    "\n",
    "train_dtm = vectorizer.fit_transform(train_docs.Article)\n",
    "words = vectorizer.get_feature_names()\n",
    "train_dtm"
   ],
   "metadata": {
    "collapsed": false,
    "pycharm": {
     "name": "#%%\n"
    }
   }
  },
  {
   "cell_type": "code",
   "execution_count": 7,
   "outputs": [
    {
     "data": {
      "text/plain": "<50x2907 sparse matrix of type '<class 'numpy.float64'>'\n\twith 4649 stored elements in Compressed Sparse Row format>"
     },
     "execution_count": 7,
     "metadata": {},
     "output_type": "execute_result"
    }
   ],
   "source": [
    "test_dtm = vectorizer.transform(test_docs.Article)\n",
    "test_dtm"
   ],
   "metadata": {
    "collapsed": false,
    "pycharm": {
     "name": "#%%\n"
    }
   }
  },
  {
   "cell_type": "code",
   "execution_count": 8,
   "outputs": [
    {
     "data": {
      "text/plain": "film       41.47\ngame       36.54\nbest       36.33\nlabour     32.75\nmusic      30.97\ncompany    29.73\nelection   28.09\nengland    28.08\nmarket     27.67\nparty      27.44\ndtype: float64"
     },
     "execution_count": 8,
     "metadata": {},
     "output_type": "execute_result"
    }
   ],
   "source": [
    "# Get token counts\n",
    "train_token_count = train_dtm.sum(0).A.squeeze()\n",
    "tokens = vectorizer.get_feature_names()\n",
    "word_count = pd.Series(train_token_count, index=tokens).sort_values(ascending=False)\n",
    "word_count.head(10)"
   ],
   "metadata": {
    "collapsed": false,
    "pycharm": {
     "name": "#%%\n"
    }
   }
  },
  {
   "cell_type": "code",
   "execution_count": 9,
   "outputs": [
    {
     "data": {
      "text/plain": "NMF(beta_loss='kullback-leibler', max_iter=1000, n_components=5,\n    random_state=42, solver='mu')"
     },
     "execution_count": 9,
     "metadata": {},
     "output_type": "execute_result"
    }
   ],
   "source": [
    "# probabilistic Latent Semantic Analysis: pLSA\n",
    "# pLSA is both symmetric and asymmetric formulations of how word-document co-occurrences come about.\n",
    "# 1) symmetric formulations assume that both words and documents are generated by the latent topic class.\n",
    "# 2) asymmetric model assumes that topics are selected given the document, and words result in a second step given the topic.\n",
    "# # of topics(hyperparameter) - chosen prior to training and is not learned from the data\n",
    "n_components = 5\n",
    "topic_labels = ['Topic {}'.format(i) for i in range(1, n_components+1)]\n",
    "# NMF: Non-Negative Matrix Factorization (NMF) - same with pLSA\n",
    "nmf = NMF(n_components=n_components, random_state=42, solver='mu', beta_loss='kullback-leibler',\n",
    "          max_iter=1000)\n",
    "nmf.fit(train_dtm)"
   ],
   "metadata": {
    "collapsed": false,
    "pycharm": {
     "name": "#%%\n"
    }
   }
  },
  {
   "cell_type": "code",
   "execution_count": 10,
   "outputs": [
    {
     "data": {
      "text/plain": "315.9373470674159"
     },
     "execution_count": 10,
     "metadata": {},
     "output_type": "execute_result"
    }
   ],
   "source": [
    "nmf.reconstruction_err_"
   ],
   "metadata": {
    "collapsed": false,
    "pycharm": {
     "name": "#%%\n"
    }
   }
  },
  {
   "cell_type": "code",
   "execution_count": 11,
   "outputs": [
    {
     "data": {
      "text/plain": "(2175, 5)"
     },
     "execution_count": 11,
     "metadata": {},
     "output_type": "execute_result"
    }
   ],
   "source": [
    "# Explore Topics\n",
    "train_doc_topics = nmf.transform(train_dtm)\n",
    "train_doc_topics.shape"
   ],
   "metadata": {
    "collapsed": false,
    "pycharm": {
     "name": "#%%\n"
    }
   }
  },
  {
   "cell_type": "code",
   "execution_count": 12,
   "outputs": [
    {
     "data": {
      "text/plain": "Category                        Entertainment\nHeading     Oasis star fined for German brawl\nTopic 1                                  0.03\nTopic 2                                  0.01\nTopic 3                                  0.02\nTopic 4                                  0.03\nTopic 5                                  0.00\ndtype: object"
     },
     "execution_count": 12,
     "metadata": {},
     "output_type": "execute_result"
    }
   ],
   "source": [
    "i = randint(0, len(train_docs))\n",
    "(train_docs.iloc[i, :2].append(pd.Series(train_doc_topics[i], index=topic_labels)))"
   ],
   "metadata": {
    "collapsed": false,
    "pycharm": {
     "name": "#%%\n"
    }
   }
  },
  {
   "cell_type": "code",
   "execution_count": 13,
   "outputs": [],
   "source": [
    "train_result = pd.DataFrame(data=train_doc_topics, columns=topic_labels, index=train_docs.Category)\n",
    "test_eval = pd.DataFrame(data=nmf.transform(test_dtm), columns=topic_labels, index=test_docs.Category)"
   ],
   "metadata": {
    "collapsed": false,
    "pycharm": {
     "name": "#%%\n"
    }
   }
  },
  {
   "cell_type": "code",
   "execution_count": 14,
   "outputs": [
    {
     "data": {
      "text/plain": "<Figure size 931.75x432 with 2 Axes>",
      "image/png": "[encoded data removed]"
     },
     "metadata": {},
     "output_type": "display_data"
    }
   ],
   "source": [
    "result = pd.melt(train_result.assign(Data='Train').append(test_eval.assign(Data='Test')).reset_index(),\n",
    "                 id_vars=['Data', 'Category'], var_name='Topic', value_name='Weight')\n",
    "\n",
    "result = pd.melt(train_result.assign(Data='Train').append(test_eval.assign(Data='Test')).reset_index(),\n",
    "                 id_vars=['Data', 'Category'], var_name='Topic', value_name='Weight')\n",
    "\n",
    "g =sns.catplot(x='Category', y='Weight', hue='Topic', row='Data', kind='bar', data=result, height=3, aspect=4);\n",
    "# Because of the probabilistic nature, pLSA produces only positive topic weight(more straightforward topic-category relationship)"
   ],
   "metadata": {
    "collapsed": false,
    "pycharm": {
     "name": "#%%\n"
    }
   }
  },
  {
   "cell_type": "code",
   "execution_count": 15,
   "outputs": [
    {
     "data": {
      "text/plain": "          Topic 1  Topic 2  Topic 3  Topic 4  Topic 5\nfilm         0.01     0.00     0.00     0.95     0.00\ngame         0.00     0.53     0.00     0.00     0.12\nbest         0.05     0.15     0.02     0.53     0.00\nlabour       0.02     0.00     0.67     0.00     0.00\nmusic        0.00     0.00     0.00     0.37     0.30\ncompany      0.38     0.00     0.00     0.00     0.00\nelection     0.03     0.00     0.56     0.00     0.00\nengland      0.04     0.38     0.07     0.00     0.00\nmarket       0.35     0.00     0.00     0.00     0.00\nparty        0.01     0.00     0.55     0.01     0.02",
      "text/html": "<div>\n<style scoped>\n    .dataframe tbody tr th:only-of-type {\n        vertical-align: middle;\n    }\n\n    .dataframe tbody tr th {\n        vertical-align: top;\n    }\n\n    .dataframe thead th {\n        text-align: right;\n    }\n</style>\n<table border=\"1\" class=\"dataframe\">\n  <thead>\n    <tr style=\"text-align: right;\">\n      <th></th>\n      <th>Topic 1</th>\n      <th>Topic 2</th>\n      <th>Topic 3</th>\n      <th>Topic 4</th>\n      <th>Topic 5</th>\n    </tr>\n  </thead>\n  <tbody>\n    <tr>\n      <th>film</th>\n      <td>0.01</td>\n      <td>0.00</td>\n      <td>0.00</td>\n      <td>0.95</td>\n      <td>0.00</td>\n    </tr>\n    <tr>\n      <th>game</th>\n      <td>0.00</td>\n      <td>0.53</td>\n      <td>0.00</td>\n      <td>0.00</td>\n      <td>0.12</td>\n    </tr>\n    <tr>\n      <th>best</th>\n      <td>0.05</td>\n      <td>0.15</td>\n      <td>0.02</td>\n      <td>0.53</td>\n      <td>0.00</td>\n    </tr>\n    <tr>\n      <th>labour</th>\n      <td>0.02</td>\n      <td>0.00</td>\n      <td>0.67</td>\n      <td>0.00</td>\n      <td>0.00</td>\n    </tr>\n    <tr>\n      <th>music</th>\n      <td>0.00</td>\n      <td>0.00</td>\n      <td>0.00</td>\n      <td>0.37</td>\n      <td>0.30</td>\n    </tr>\n    <tr>\n      <th>company</th>\n      <td>0.38</td>\n      <td>0.00</td>\n      <td>0.00</td>\n      <td>0.00</td>\n      <td>0.00</td>\n    </tr>\n    <tr>\n      <th>election</th>\n      <td>0.03</td>\n      <td>0.00</td>\n      <td>0.56</td>\n      <td>0.00</td>\n      <td>0.00</td>\n    </tr>\n    <tr>\n      <th>england</th>\n      <td>0.04</td>\n      <td>0.38</td>\n      <td>0.07</td>\n      <td>0.00</td>\n      <td>0.00</td>\n    </tr>\n    <tr>\n      <th>market</th>\n      <td>0.35</td>\n      <td>0.00</td>\n      <td>0.00</td>\n      <td>0.00</td>\n      <td>0.00</td>\n    </tr>\n    <tr>\n      <th>party</th>\n      <td>0.01</td>\n      <td>0.00</td>\n      <td>0.55</td>\n      <td>0.01</td>\n      <td>0.02</td>\n    </tr>\n  </tbody>\n</table>\n</div>"
     },
     "execution_count": 15,
     "metadata": {},
     "output_type": "execute_result"
    }
   ],
   "source": [
    "topics = pd.DataFrame(nmf.components_.T, index=tokens, columns=topic_labels)\n",
    "topics.loc[word_count.head(10).index]"
   ],
   "metadata": {
    "collapsed": false,
    "pycharm": {
     "name": "#%%\n"
    }
   }
  },
  {
   "cell_type": "code",
   "execution_count": 16,
   "outputs": [
    {
     "data": {
      "text/plain": "<Figure size 1152x576 with 2 Axes>",
      "image/png": "[encoded data removed]"
     },
     "metadata": {},
     "output_type": "display_data"
    }
   ],
   "source": [
    "fig, ax = plt.subplots(figsize=(16, 10))\n",
    "top_words, top_vals = pd.DataFrame(), pd.DataFrame()\n",
    "for topic, words_ in topics.items():\n",
    "    top10 = words_.nlargest(10).index\n",
    "    vals = words_.loc[top10].values\n",
    "    top_vals[topic] = vals\n",
    "    top_words[topic] = top10.tolist()\n",
    "\n",
    "sns.heatmap(pd.DataFrame(top_vals), annot=top_words, fmt = '', center=0,\n",
    "            cmap=sns.diverging_palette(0, 255, sep=1, n=256), ax=ax);\n",
    "ax.set_title('Top Words per Topic')\n",
    "fig.tight_layout();"
   ],
   "metadata": {
    "collapsed": false,
    "pycharm": {
     "name": "#%%\n"
    }
   }
  },
  {
   "cell_type": "code",
   "execution_count": 17,
   "outputs": [
    {
     "data": {
      "text/plain": "      Topic 1  Topic 2  Topic 3  Topic 4  Topic 5\n000m     0.00     0.07     0.00     0.00     0.00\n10       0.18     0.07     0.00     0.08     0.00\n100      0.10     0.00     0.00     0.00     0.04\n100m     0.02     0.05     0.00     0.00     0.00\n11       0.10     0.02     0.00     0.07     0.00",
      "text/html": "<div>\n<style scoped>\n    .dataframe tbody tr th:only-of-type {\n        vertical-align: middle;\n    }\n\n    .dataframe tbody tr th {\n        vertical-align: top;\n    }\n\n    .dataframe thead th {\n        text-align: right;\n    }\n</style>\n<table border=\"1\" class=\"dataframe\">\n  <thead>\n    <tr style=\"text-align: right;\">\n      <th></th>\n      <th>Topic 1</th>\n      <th>Topic 2</th>\n      <th>Topic 3</th>\n      <th>Topic 4</th>\n      <th>Topic 5</th>\n    </tr>\n  </thead>\n  <tbody>\n    <tr>\n      <th>000m</th>\n      <td>0.00</td>\n      <td>0.07</td>\n      <td>0.00</td>\n      <td>0.00</td>\n      <td>0.00</td>\n    </tr>\n    <tr>\n      <th>10</th>\n      <td>0.18</td>\n      <td>0.07</td>\n      <td>0.00</td>\n      <td>0.08</td>\n      <td>0.00</td>\n    </tr>\n    <tr>\n      <th>100</th>\n      <td>0.10</td>\n      <td>0.00</td>\n      <td>0.00</td>\n      <td>0.00</td>\n      <td>0.04</td>\n    </tr>\n    <tr>\n      <th>100m</th>\n      <td>0.02</td>\n      <td>0.05</td>\n      <td>0.00</td>\n      <td>0.00</td>\n      <td>0.00</td>\n    </tr>\n    <tr>\n      <th>11</th>\n      <td>0.10</td>\n      <td>0.02</td>\n      <td>0.00</td>\n      <td>0.07</td>\n      <td>0.00</td>\n    </tr>\n  </tbody>\n</table>\n</div>"
     },
     "execution_count": 17,
     "metadata": {},
     "output_type": "execute_result"
    }
   ],
   "source": [
    "topics = pd.DataFrame(nmf.components_.T, index=words, columns=topic_labels)\n",
    "topics.head()"
   ],
   "metadata": {
    "collapsed": false,
    "pycharm": {
     "name": "#%%\n"
    }
   }
  },
  {
   "cell_type": "code",
   "execution_count": 18,
   "outputs": [
    {
     "data": {
      "text/plain": "    Topic 1  Topic 2     Topic 3 Topic 4     Topic 5\n0   company     game      labour    film      mobile\n1    market      win    election    best  technology\n2      2004  england       blair  awards    software\n3      firm     play       party   music       users\n4     sales     club       brown   award     digital\n5  european     team    minister    band         use\n6    growth    match      howard   album       music\n7   economy      cup       prime   films    computer\n8  expected  players     britain    star       phone\n9     group      old  chancellor   actor       games",
      "text/html": "<div>\n<style scoped>\n    .dataframe tbody tr th:only-of-type {\n        vertical-align: middle;\n    }\n\n    .dataframe tbody tr th {\n        vertical-align: top;\n    }\n\n    .dataframe thead th {\n        text-align: right;\n    }\n</style>\n<table border=\"1\" class=\"dataframe\">\n  <thead>\n    <tr style=\"text-align: right;\">\n      <th></th>\n      <th>Topic 1</th>\n      <th>Topic 2</th>\n      <th>Topic 3</th>\n      <th>Topic 4</th>\n      <th>Topic 5</th>\n    </tr>\n  </thead>\n  <tbody>\n    <tr>\n      <th>0</th>\n      <td>company</td>\n      <td>game</td>\n      <td>labour</td>\n      <td>film</td>\n      <td>mobile</td>\n    </tr>\n    <tr>\n      <th>1</th>\n      <td>market</td>\n      <td>win</td>\n      <td>election</td>\n      <td>best</td>\n      <td>technology</td>\n    </tr>\n    <tr>\n      <th>2</th>\n      <td>2004</td>\n      <td>england</td>\n      <td>blair</td>\n      <td>awards</td>\n      <td>software</td>\n    </tr>\n    <tr>\n      <th>3</th>\n      <td>firm</td>\n      <td>play</td>\n      <td>party</td>\n      <td>music</td>\n      <td>users</td>\n    </tr>\n    <tr>\n      <th>4</th>\n      <td>sales</td>\n      <td>club</td>\n      <td>brown</td>\n      <td>award</td>\n      <td>digital</td>\n    </tr>\n    <tr>\n      <th>5</th>\n      <td>european</td>\n      <td>team</td>\n      <td>minister</td>\n      <td>band</td>\n      <td>use</td>\n    </tr>\n    <tr>\n      <th>6</th>\n      <td>growth</td>\n      <td>match</td>\n      <td>howard</td>\n      <td>album</td>\n      <td>music</td>\n    </tr>\n    <tr>\n      <th>7</th>\n      <td>economy</td>\n      <td>cup</td>\n      <td>prime</td>\n      <td>films</td>\n      <td>computer</td>\n    </tr>\n    <tr>\n      <th>8</th>\n      <td>expected</td>\n      <td>players</td>\n      <td>britain</td>\n      <td>star</td>\n      <td>phone</td>\n    </tr>\n    <tr>\n      <th>9</th>\n      <td>group</td>\n      <td>old</td>\n      <td>chancellor</td>\n      <td>actor</td>\n      <td>games</td>\n    </tr>\n  </tbody>\n</table>\n</div>"
     },
     "execution_count": 18,
     "metadata": {},
     "output_type": "execute_result"
    }
   ],
   "source": [
    "top_words = {}\n",
    "for topic, words_ in topics.items():\n",
    "    top_words[topic] = words_.nlargest(10).index.tolist()\n",
    "pd.DataFrame(top_words)"
   ],
   "metadata": {
    "collapsed": false,
    "pycharm": {
     "name": "#%%\n"
    }
   }
  }
 ],
 "metadata": {
  "kernelspec": {
   "display_name": "Python 3",
   "language": "python",
   "name": "python3"
  },
  "language_info": {
   "codemirror_mode": {
    "name": "ipython",
    "version": 2
   },
   "file_extension": ".py",
   "mimetype": "text/x-python",
   "name": "python",
   "nbconvert_exporter": "python",
   "pygments_lexer": "ipython2",
   "version": "2.7.6"
  }
 },
 "nbformat": 4,
 "nbformat_minor": 0
}