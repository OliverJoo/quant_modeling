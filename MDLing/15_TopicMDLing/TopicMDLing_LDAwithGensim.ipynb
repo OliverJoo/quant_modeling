{
 "cells": [
  {
   "cell_type": "code",
   "execution_count": 1,
   "metadata": {
    "collapsed": true,
    "pycharm": {
     "name": "#%%\n"
    }
   },
   "outputs": [
    {
     "name": "stderr",
     "output_type": "stream",
     "text": [
      "C:\\Users\\19498\\AppData\\Local\\Programs\\Python\\Python3_8\\lib\\site-packages\\gensim\\matutils.py:22: DeprecationWarning: Please use `triu` from the `scipy.linalg` namespace, the `scipy.linalg.special_matrices` namespace is deprecated.\n",
      "  from scipy.linalg.special_matrices import triu\n"
     ]
    }
   ],
   "source": [
    "import warnings\n",
    "warnings.filterwarnings('ignore')\n",
    "%matplotlib inline\n",
    "\n",
    "from pathlib import Path\n",
    "import pandas as pd\n",
    "\n",
    "# Visualization\n",
    "import seaborn as sns\n",
    "import pyLDAvis\n",
    "\n",
    "# sklearn for feature extraction & modeling\n",
    "from sklearn.feature_extraction.text import CountVectorizer\n",
    "from sklearn.model_selection import train_test_split\n",
    "import joblib\n",
    "\n",
    "# gensim for alternative models\n",
    "# gensim: NLP library with a fast LDA implementation and many additional features\n",
    "from gensim.models import LdaModel\n",
    "from gensim.corpora import Dictionary\n",
    "from gensim.matutils import Sparse2Corpus"
   ]
  },
  {
   "cell_type": "code",
   "execution_count": 2,
   "outputs": [],
   "source": [
    "sns.set_style('white')\n",
    "pyLDAvis.enable_notebook()\n",
    "\n",
    "# change to your data path if necessary\n",
    "DATA_DIR = Path('data')\n",
    "\n",
    "path = DATA_DIR / 'bbc'\n",
    "files = path.glob('**/*.txt')\n",
    "doc_list = []\n",
    "for i, file in enumerate(files):\n",
    "    with open(str(file), encoding='latin1') as f:\n",
    "        topic = file.parts[-2]\n",
    "        lines = f.readlines()\n",
    "        heading = lines[0].strip()\n",
    "        body = ' '.join([l.strip() for l in lines[1:]])\n",
    "        doc_list.append([topic.capitalize(), heading, body])"
   ],
   "metadata": {
    "collapsed": false,
    "pycharm": {
     "name": "#%%\n"
    }
   }
  },
  {
   "cell_type": "code",
   "execution_count": 3,
   "outputs": [
    {
     "name": "stdout",
     "output_type": "stream",
     "text": [
      "<class 'pandas.core.frame.DataFrame'>\n",
      "RangeIndex: 2225 entries, 0 to 2224\n",
      "Data columns (total 3 columns):\n",
      " #   Column   Non-Null Count  Dtype \n",
      "---  ------   --------------  ----- \n",
      " 0   topic    2225 non-null   object\n",
      " 1   heading  2225 non-null   object\n",
      " 2   article  2225 non-null   object\n",
      "dtypes: object(3)\n",
      "memory usage: 52.3+ KB\n"
     ]
    }
   ],
   "source": [
    "# Convert to DataFrame\n",
    "docs = pd.DataFrame(doc_list, columns=['topic', 'heading', 'article'])\n",
    "docs.info()"
   ],
   "metadata": {
    "collapsed": false,
    "pycharm": {
     "name": "#%%\n"
    }
   }
  },
  {
   "cell_type": "code",
   "execution_count": 4,
   "outputs": [],
   "source": [
    "# Create Train & Test Sets\n",
    "train_docs, test_docs = train_test_split(docs, stratify=docs.topic, test_size=50, random_state=42)"
   ],
   "metadata": {
    "collapsed": false,
    "pycharm": {
     "name": "#%%\n"
    }
   }
  },
  {
   "cell_type": "code",
   "execution_count": 5,
   "outputs": [
    {
     "data": {
      "text/plain": "((2175, 3), (50, 3))"
     },
     "execution_count": 5,
     "metadata": {},
     "output_type": "execute_result"
    }
   ],
   "source": [
    "train_docs.shape, test_docs.shape"
   ],
   "metadata": {
    "collapsed": false,
    "pycharm": {
     "name": "#%%\n"
    }
   }
  },
  {
   "cell_type": "code",
   "execution_count": 6,
   "outputs": [
    {
     "data": {
      "text/plain": "Sport            12\nBusiness         11\nEntertainment     9\nTech              9\nPolitics          9\nName: topic, dtype: int64"
     },
     "execution_count": 6,
     "metadata": {},
     "output_type": "execute_result"
    }
   ],
   "source": [
    "pd.Series(test_docs.topic).value_counts()"
   ],
   "metadata": {
    "collapsed": false,
    "pycharm": {
     "name": "#%%\n"
    }
   }
  },
  {
   "cell_type": "code",
   "execution_count": 7,
   "outputs": [
    {
     "data": {
      "text/plain": "<2175x2000 sparse matrix of type '<class 'numpy.int64'>'\n\twith 178762 stored elements in Compressed Sparse Row format>"
     },
     "execution_count": 7,
     "metadata": {},
     "output_type": "execute_result"
    }
   ],
   "source": [
    "vectorizer = CountVectorizer(max_df=.2, min_df=3, stop_words='english', max_features=2000)\n",
    "\n",
    "train_dtm = vectorizer.fit_transform(train_docs.article)\n",
    "words = vectorizer.get_feature_names()\n",
    "train_dtm"
   ],
   "metadata": {
    "collapsed": false,
    "pycharm": {
     "name": "#%%\n"
    }
   }
  },
  {
   "cell_type": "code",
   "execution_count": 8,
   "outputs": [
    {
     "data": {
      "text/plain": "<50x2000 sparse matrix of type '<class 'numpy.int64'>'\n\twith 4048 stored elements in Compressed Sparse Row format>"
     },
     "execution_count": 8,
     "metadata": {},
     "output_type": "execute_result"
    }
   ],
   "source": [
    "test_dtm = vectorizer.transform(test_docs.article)\n",
    "test_dtm"
   ],
   "metadata": {
    "collapsed": false,
    "pycharm": {
     "name": "#%%\n"
    }
   }
  },
  {
   "cell_type": "code",
   "execution_count": 9,
   "outputs": [],
   "source": [
    "# LDA with gensim\n",
    "max_df = .2 # ignore words that appear on the documents over 50% = limit frequent appearing words\n",
    "min_df = 3 # ignore words that appear on the documents below 3 counts = limit sparse words\n",
    "max_features = 2000\n",
    "\n",
    "stop_words = pd.read_csv('http://ir.dcs.gla.ac.uk/resources/linguistic_utils/stop_words', header=None,\n",
    "                         squeeze=True).tolist()"
   ],
   "metadata": {
    "collapsed": false,
    "pycharm": {
     "name": "#%%\n"
    }
   }
  },
  {
   "cell_type": "code",
   "execution_count": 10,
   "outputs": [],
   "source": [
    "vectorizer = CountVectorizer(max_df=max_df, min_df=min_df, stop_words='english', max_features=max_features)\n",
    "\n",
    "train_dtm = vectorizer.fit_transform(train_docs.article)\n",
    "test_dtm = vectorizer.transform(test_docs.article)"
   ],
   "metadata": {
    "collapsed": false,
    "pycharm": {
     "name": "#%%\n"
    }
   }
  },
  {
   "cell_type": "code",
   "execution_count": 11,
   "outputs": [],
   "source": [
    "# Convert sklearn DTM to gensim data structures\n",
    "train_corpus = Sparse2Corpus(train_dtm, documents_columns=False)\n",
    "test_corpus = Sparse2Corpus(test_dtm, documents_columns=False)\n",
    "id2word = pd.Series(vectorizer.get_feature_names()).to_dict()"
   ],
   "metadata": {
    "collapsed": false,
    "pycharm": {
     "name": "#%%\n"
    }
   }
  },
  {
   "cell_type": "code",
   "execution_count": 13,
   "outputs": [
    {
     "data": {
      "text/plain": "(0,\n '0.008*\"company\" + 0.005*\"lord\" + 0.005*\"firm\" + 0.005*\"film\" + 0.004*\"chief\" + 0.004*\"used\" + 0.004*\"yukos\" + 0.004*\"statement\" + 0.003*\"legal\" + 0.003*\"case\"')"
     },
     "execution_count": 13,
     "metadata": {},
     "output_type": "execute_result"
    }
   ],
   "source": [
    "num_topics = 5\n",
    "topic_labels = ['Topic {}'.format(i) for i in range(1, num_topics+1)]\n",
    "\n",
    "lda_gensim = LdaModel(corpus=train_corpus, num_topics=num_topics, id2word=id2word)\n",
    "\n",
    "topics = lda_gensim.print_topics()\n",
    "topics[0]"
   ],
   "metadata": {
    "collapsed": false,
    "pycharm": {
     "name": "#%%\n"
    }
   }
  },
  {
   "cell_type": "code",
   "execution_count": 31,
   "outputs": [
    {
     "name": "stdout",
     "output_type": "stream",
     "text": [
      "  Topic 1         Topic 2          Topic 3          Topic 4           Topic 5        \n",
      "     prob    term    prob     term    prob     term    prob      term    prob    term\n",
      "0   0.77%    best   0.59%    blair   0.77%  company   0.81%     party   0.58%     win\n",
      "1   0.67%    game   0.52%  economy   0.52%     lord   0.78%    labour   0.54%    game\n",
      "2   0.63%   music   0.42%      say   0.51%     firm   0.64%  election   0.46%  second\n",
      "3   0.51%   games   0.41%    brown   0.48%     film   0.49%     plans   0.44%    play\n",
      "4   0.44%  mobile   0.40%   labour   0.41%    chief   0.47%   kennedy   0.43%   match\n"
     ]
    },
    {
     "data": {
      "text/plain": "<Figure size 864x288 with 1 Axes>",
      "image/png": "[encoded data removed]"
     },
     "metadata": {},
     "output_type": "display_data"
    }
   ],
   "source": [
    "# Evaluate Topic Coherence\n",
    "coherence = lda_gensim.top_topics(corpus=train_corpus, coherence='u_mass')\n",
    "\n",
    "topic_coherence = []\n",
    "topic_words = pd.DataFrame()\n",
    "for t in range(len(coherence)):\n",
    "    label = topic_labels[t]\n",
    "    topic_coherence.append(coherence[t][1])\n",
    "    df = pd.DataFrame(coherence[t][0], columns=[(label, 'prob'), (label, 'term')])\n",
    "    df[(label, 'prob')] = df[(label, 'prob')].apply(lambda x: '{:.2%}'.format(x))\n",
    "    topic_words = pd.concat([topic_words, df], axis=1)\n",
    "\n",
    "topic_words.columns = pd.MultiIndex.from_tuples(topic_words.columns)\n",
    "pd.set_option('expand_frame_repr', False) # expansion of the column line limit\n",
    "topic_words.head().to_csv('topic_words.csv', index=False)\n",
    "print(topic_words.head())\n",
    "\n",
    "pd.Series(topic_coherence, index=topic_labels).plot.bar(figsize=(12,4));"
   ],
   "metadata": {
    "collapsed": false,
    "pycharm": {
     "name": "#%%\n"
    }
   }
  },
  {
   "cell_type": "code",
   "execution_count": 15,
   "outputs": [
    {
     "name": "stdout",
     "output_type": "stream",
     "text": [
      "Number of unique tokens: 2000\n",
      "Number of documents: 2175\n"
     ]
    }
   ],
   "source": [
    "# Using gensim Dictionary\n",
    "docs = [d.split() for d in train_docs.article.tolist()]\n",
    "docs = [[t for t in doc if t not in stop_words] for doc in docs]\n",
    "\n",
    "dictionary = Dictionary(docs)\n",
    "dictionary.filter_extremes(no_below=min_df, no_above=max_df, keep_n=max_features)\n",
    "\n",
    "corpus = [dictionary.doc2bow(doc) for doc in docs]\n",
    "\n",
    "print('Number of unique tokens: %d' % len(dictionary))\n",
    "print('Number of documents: %d' % len(corpus))"
   ],
   "metadata": {
    "collapsed": false,
    "pycharm": {
     "name": "#%%\n"
    }
   }
  },
  {
   "cell_type": "code",
   "execution_count": 16,
   "outputs": [
    {
     "data": {
      "text/plain": "[(0,\n  '0.008*\"company\" + 0.007*\"market\" + 0.006*\"economic\" + 0.006*\"chief\" + 0.006*\"growth\" + 0.006*\"firm\" + 0.006*\"sales\" + 0.006*\"economy\" + 0.005*\"rise\" + 0.005*\"oil\"'),\n (1,\n  '0.010*\"game\" + 0.009*\"win\" + 0.008*\"England\" + 0.007*\"play\" + 0.007*\"good\" + 0.006*\"team\" + 0.006*\"think\" + 0.006*\"club\" + 0.006*\"got\" + 0.006*\"really\"'),\n (2,\n  '0.022*\"best\" + 0.016*\"film\" + 0.010*\"won\" + 0.008*\"music\" + 0.007*\"British\" + 0.007*\"including\" + 0.007*\"director\" + 0.007*\"New\" + 0.006*\"UK\" + 0.006*\"Wales\"'),\n (3,\n  '0.012*\"government\" + 0.010*\"Labour\" + 0.009*\"Blair\" + 0.007*\"public\" + 0.007*\"election\" + 0.006*\"Brown\" + 0.006*\"say\" + 0.006*\"Lord\" + 0.006*\"party\" + 0.005*\"plans\"'),\n (4,\n  '0.009*\"mobile\" + 0.009*\"technology\" + 0.009*\"use\" + 0.008*\"music\" + 0.007*\"digital\" + 0.007*\"users\" + 0.007*\"games\" + 0.006*\"used\" + 0.006*\"net\" + 0.006*\"software\"')]"
     },
     "execution_count": 16,
     "metadata": {},
     "output_type": "execute_result"
    }
   ],
   "source": [
    "num_topics = 5\n",
    "chunksize = 500\n",
    "passes = 20\n",
    "iterations = 400\n",
    "eval_every = None # Don't evaluate model perplexity, takes too much time.\n",
    "\n",
    "temp = dictionary[0]  # This is only to \"load\" the dictionary.\n",
    "id2word = dictionary.id2token\n",
    "\n",
    "model = LdaModel(corpus=corpus, id2word=id2word, chunksize=chunksize, alpha='auto', eta='auto',\n",
    "                 iterations=iterations, num_topics=num_topics, passes=passes, eval_every=eval_every)\n",
    "\n",
    "model.show_topics()"
   ],
   "metadata": {
    "collapsed": false,
    "pycharm": {
     "name": "#%%\n"
    }
   }
  },
  {
   "cell_type": "code",
   "execution_count": 17,
   "outputs": [
    {
     "data": {
      "text/plain": "            0          1          2          3           4\n0    9.224776   0.100198  30.881353   0.101417    2.172622\n1    0.114528  17.738140   0.097544   9.548802   87.956863\n2   10.057119   5.600917   5.780658   0.101433  108.916023\n3   68.764313   0.100207   0.097538  13.431551    0.076570\n4    3.950819  32.365269   1.987029   0.101432    0.076571\n5   53.313030  47.525173   0.097546   0.101442   19.418892\n6  104.299553   1.826268   0.097534  10.156130    0.076571\n7    2.427577  88.347198  15.502679   0.101435    0.076570\n8   67.000450   2.798453   0.097540   0.101420   11.468063\n9   74.041313   3.891721   0.097524   0.101425    7.338481",
      "text/html": "<div>\n<style scoped>\n    .dataframe tbody tr th:only-of-type {\n        vertical-align: middle;\n    }\n\n    .dataframe tbody tr th {\n        vertical-align: top;\n    }\n\n    .dataframe thead th {\n        text-align: right;\n    }\n</style>\n<table border=\"1\" class=\"dataframe\">\n  <thead>\n    <tr style=\"text-align: right;\">\n      <th></th>\n      <th>0</th>\n      <th>1</th>\n      <th>2</th>\n      <th>3</th>\n      <th>4</th>\n    </tr>\n  </thead>\n  <tbody>\n    <tr>\n      <th>0</th>\n      <td>9.224776</td>\n      <td>0.100198</td>\n      <td>30.881353</td>\n      <td>0.101417</td>\n      <td>2.172622</td>\n    </tr>\n    <tr>\n      <th>1</th>\n      <td>0.114528</td>\n      <td>17.738140</td>\n      <td>0.097544</td>\n      <td>9.548802</td>\n      <td>87.956863</td>\n    </tr>\n    <tr>\n      <th>2</th>\n      <td>10.057119</td>\n      <td>5.600917</td>\n      <td>5.780658</td>\n      <td>0.101433</td>\n      <td>108.916023</td>\n    </tr>\n    <tr>\n      <th>3</th>\n      <td>68.764313</td>\n      <td>0.100207</td>\n      <td>0.097538</td>\n      <td>13.431551</td>\n      <td>0.076570</td>\n    </tr>\n    <tr>\n      <th>4</th>\n      <td>3.950819</td>\n      <td>32.365269</td>\n      <td>1.987029</td>\n      <td>0.101432</td>\n      <td>0.076571</td>\n    </tr>\n    <tr>\n      <th>5</th>\n      <td>53.313030</td>\n      <td>47.525173</td>\n      <td>0.097546</td>\n      <td>0.101442</td>\n      <td>19.418892</td>\n    </tr>\n    <tr>\n      <th>6</th>\n      <td>104.299553</td>\n      <td>1.826268</td>\n      <td>0.097534</td>\n      <td>10.156130</td>\n      <td>0.076571</td>\n    </tr>\n    <tr>\n      <th>7</th>\n      <td>2.427577</td>\n      <td>88.347198</td>\n      <td>15.502679</td>\n      <td>0.101435</td>\n      <td>0.076570</td>\n    </tr>\n    <tr>\n      <th>8</th>\n      <td>67.000450</td>\n      <td>2.798453</td>\n      <td>0.097540</td>\n      <td>0.101420</td>\n      <td>11.468063</td>\n    </tr>\n    <tr>\n      <th>9</th>\n      <td>74.041313</td>\n      <td>3.891721</td>\n      <td>0.097524</td>\n      <td>0.101425</td>\n      <td>7.338481</td>\n    </tr>\n  </tbody>\n</table>\n</div>"
     },
     "execution_count": 17,
     "metadata": {},
     "output_type": "execute_result"
    }
   ],
   "source": [
    "# Evaluating Topic Assignments on the Test Set\n",
    "docs_test = [d.split() for d in test_docs.article.tolist()]\n",
    "docs_test = [[t for t in doc if t not in stop_words] for doc in docs_test]\n",
    "\n",
    "test_dictionary = Dictionary(docs_test)\n",
    "test_dictionary.filter_extremes(no_below=min_df, no_above=max_df, keep_n=max_features)\n",
    "test_corpus = [dictionary.doc2bow(doc) for doc in docs_test]\n",
    "\n",
    "gamma, _ = model.inference(test_corpus)\n",
    "topic_scores = pd.DataFrame(gamma)\n",
    "topic_scores.head(10)"
   ],
   "metadata": {
    "collapsed": false,
    "pycharm": {
     "name": "#%%\n"
    }
   }
  },
  {
   "cell_type": "code",
   "execution_count": 18,
   "outputs": [
    {
     "data": {
      "text/plain": "          0         1         2         3         4\n0  0.217154  0.002359  0.726956  0.002387  0.051144\n1  0.000992  0.153636  0.000845  0.082705  0.761822\n2  0.077092  0.042933  0.044311  0.000778  0.834886\n3  0.833808  0.001215  0.001183  0.162866  0.000928\n4  0.102669  0.841069  0.051636  0.002636  0.001990",
      "text/html": "<div>\n<style scoped>\n    .dataframe tbody tr th:only-of-type {\n        vertical-align: middle;\n    }\n\n    .dataframe tbody tr th {\n        vertical-align: top;\n    }\n\n    .dataframe thead th {\n        text-align: right;\n    }\n</style>\n<table border=\"1\" class=\"dataframe\">\n  <thead>\n    <tr style=\"text-align: right;\">\n      <th></th>\n      <th>0</th>\n      <th>1</th>\n      <th>2</th>\n      <th>3</th>\n      <th>4</th>\n    </tr>\n  </thead>\n  <tbody>\n    <tr>\n      <th>0</th>\n      <td>0.217154</td>\n      <td>0.002359</td>\n      <td>0.726956</td>\n      <td>0.002387</td>\n      <td>0.051144</td>\n    </tr>\n    <tr>\n      <th>1</th>\n      <td>0.000992</td>\n      <td>0.153636</td>\n      <td>0.000845</td>\n      <td>0.082705</td>\n      <td>0.761822</td>\n    </tr>\n    <tr>\n      <th>2</th>\n      <td>0.077092</td>\n      <td>0.042933</td>\n      <td>0.044311</td>\n      <td>0.000778</td>\n      <td>0.834886</td>\n    </tr>\n    <tr>\n      <th>3</th>\n      <td>0.833808</td>\n      <td>0.001215</td>\n      <td>0.001183</td>\n      <td>0.162866</td>\n      <td>0.000928</td>\n    </tr>\n    <tr>\n      <th>4</th>\n      <td>0.102669</td>\n      <td>0.841069</td>\n      <td>0.051636</td>\n      <td>0.002636</td>\n      <td>0.001990</td>\n    </tr>\n  </tbody>\n</table>\n</div>"
     },
     "execution_count": 18,
     "metadata": {},
     "output_type": "execute_result"
    }
   ],
   "source": [
    "topic_probabilities = topic_scores.div(topic_scores.sum(axis=1), axis=0)\n",
    "topic_probabilities.head()"
   ],
   "metadata": {
    "collapsed": false,
    "pycharm": {
     "name": "#%%\n"
    }
   }
  },
  {
   "cell_type": "code",
   "execution_count": 19,
   "outputs": [
    {
     "data": {
      "text/plain": "0    2\n1    4\n2    4\n3    0\n4    1\ndtype: int64"
     },
     "execution_count": 19,
     "metadata": {},
     "output_type": "execute_result"
    }
   ],
   "source": [
    "topic_probabilities.idxmax(axis=1).head()"
   ],
   "metadata": {
    "collapsed": false,
    "pycharm": {
     "name": "#%%\n"
    }
   }
  },
  {
   "cell_type": "code",
   "execution_count": 20,
   "outputs": [
    {
     "name": "stderr",
     "output_type": "stream",
     "text": [
      "D:\\99.Dev\\Python\\pythonProject\\lib\\site-packages\\seaborn\\matrix.py:209: MatplotlibDeprecationWarning: The get_cmap function was deprecated in Matplotlib 3.7 and will be removed two minor releases later. Use ``matplotlib.colormaps[name]`` or ``matplotlib.colormaps.get_cmap(obj)`` instead.\n",
      "  self.cmap = mpl.cm.get_cmap(cmap)\n"
     ]
    },
    {
     "data": {
      "text/plain": "<Figure size 432x288 with 2 Axes>",
      "image/png": "[encoded data removed]"
     },
     "metadata": {},
     "output_type": "display_data"
    }
   ],
   "source": [
    "predictions = test_docs.topic.to_frame('topic').assign(predicted=topic_probabilities.idxmax(axis=1).values)\n",
    "heatmap_data = predictions.groupby('topic').predicted.value_counts().unstack()\n",
    "sns.heatmap(heatmap_data, annot=True, cmap='Blues');"
   ],
   "metadata": {
    "collapsed": false,
    "pycharm": {
     "name": "#%%\n"
    }
   }
  }
 ],
 "metadata": {
  "kernelspec": {
   "display_name": "Python 3",
   "language": "python",
   "name": "python3"
  },
  "language_info": {
   "codemirror_mode": {
    "name": "ipython",
    "version": 2
   },
   "file_extension": ".py",
   "mimetype": "text/x-python",
   "name": "python",
   "nbconvert_exporter": "python",
   "pygments_lexer": "ipython2",
   "version": "2.7.6"
  }
 },
 "nbformat": 4,
 "nbformat_minor": 0
}