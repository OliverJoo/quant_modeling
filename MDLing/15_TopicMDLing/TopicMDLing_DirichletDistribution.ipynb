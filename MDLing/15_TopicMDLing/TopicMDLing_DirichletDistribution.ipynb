{
 "cells": [
  {
   "cell_type": "code",
   "execution_count": 1,
   "metadata": {
    "collapsed": true,
    "pycharm": {
     "name": "#%%\n"
    },
    "ExecuteTime": {
     "end_time": "2023-09-20T00:47:43.475075900Z",
     "start_time": "2023-09-20T00:47:43.445155300Z"
    }
   },
   "outputs": [],
   "source": [
    "import warnings\n",
    "warnings.filterwarnings('ignore')\n",
    "%matplotlib inline\n",
    "\n",
    "import numpy as np\n",
    "import pandas as pd\n",
    "\n",
    "# Visualization\n",
    "from ipywidgets import interact, FloatSlider\n",
    "import matplotlib.pyplot as plt\n",
    "import seaborn as sns\n",
    "sns.set_style('white')"
   ]
  },
  {
   "cell_type": "code",
   "execution_count": 2,
   "outputs": [
    {
     "data": {
      "text/plain": "interactive(children=(FloatSlider(value=1.0, continuous_update=False, description='Alpha', max=10.0, min=0.01,…",
      "application/vnd.jupyter.widget-view+json": {
       "version_major": 2,
       "version_minor": 0,
       "model_id": "69d9da2e114a4dffa05330fbef9271c9"
      }
     },
     "metadata": {},
     "output_type": "display_data"
    }
   ],
   "source": [
    "# Simulate Dirichlet Distribution\n",
    "f = FloatSlider(value=1, min=1e-2, max=10, step=1e-2, continuous_update=False, description='Alpha')\n",
    "\n",
    "@interact(alpha=f)\n",
    "def sample_dirichlet(alpha):\n",
    "    topics = 10\n",
    "    draws = 9\n",
    "    alphas = np.full(shape=topics, fill_value=alpha)\n",
    "    samples = np.random.dirichlet(alpha=alphas, size=draws)\n",
    "\n",
    "    fig, axes = plt.subplots(nrows=3, ncols=3, sharex=True, sharey=True, figsize=(16, 10))\n",
    "    axes = axes.flatten()\n",
    "    plt.setp(axes, ylim=(0, 1))\n",
    "    for i, sample in enumerate(samples):\n",
    "        axes[i].bar(x=list(range(10)), height=sample, color=sns.color_palette(\"Set2\", 10))\n",
    "\n",
    "    fig.suptitle('Dirichlet Allocation | 10 Topics, 9 Samples')\n",
    "    sns.despine()\n",
    "    fig.tight_layout()\n",
    "    plt.subplots_adjust(top=.95)"
   ],
   "metadata": {
    "collapsed": false,
    "pycharm": {
     "name": "#%%\n"
    },
    "ExecuteTime": {
     "end_time": "2023-09-20T00:47:45.849725500Z",
     "start_time": "2023-09-20T00:47:43.479065500Z"
    }
   }
  }
 ],
 "metadata": {
  "kernelspec": {
   "display_name": "Python 3",
   "language": "python",
   "name": "python3"
  },
  "language_info": {
   "codemirror_mode": {
    "name": "ipython",
    "version": 2
   },
   "file_extension": ".py",
   "mimetype": "text/x-python",
   "name": "python",
   "nbconvert_exporter": "python",
   "pygments_lexer": "ipython2",
   "version": "2.7.6"
  }
 },
 "nbformat": 4,
 "nbformat_minor": 0
}
