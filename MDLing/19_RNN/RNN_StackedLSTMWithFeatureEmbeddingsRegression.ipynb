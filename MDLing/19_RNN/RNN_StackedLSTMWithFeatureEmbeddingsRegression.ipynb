{
 "cells": [
  {
   "cell_type": "code",
   "execution_count": 1,
   "metadata": {
    "collapsed": true,
    "pycharm": {
     "name": "#%%\n"
    }
   },
   "outputs": [],
   "source": [
    "import warnings\n",
    "warnings.filterwarnings('ignore')\n",
    "%matplotlib inline\n",
    "\n",
    "from pathlib import Path\n",
    "import numpy as np\n",
    "import pandas as pd\n",
    "\n",
    "from scipy.stats import spearmanr\n",
    "\n",
    "import tensorflow as tf\n",
    "from tensorflow.keras.callbacks import ModelCheckpoint, EarlyStopping\n",
    "from tensorflow.keras.models import Sequential, Model\n",
    "from tensorflow.keras.layers import Dense, LSTM, Input, concatenate, Embedding, Reshape, BatchNormalization\n",
    "import tensorflow.keras.backend as K\n",
    "\n",
    "import matplotlib.pyplot as plt\n",
    "from matplotlib.ticker import FuncFormatter\n",
    "import seaborn as sns"
   ]
  },
  {
   "cell_type": "code",
   "execution_count": 2,
   "outputs": [
    {
     "name": "stdout",
     "output_type": "stream",
     "text": [
      "Using GPU\n"
     ]
    }
   ],
   "source": [
    "gpu_devices = tf.config.experimental.list_physical_devices('GPU')\n",
    "if gpu_devices:\n",
    "    print('Using GPU')\n",
    "    tf.config.experimental.set_memory_growth(gpu_devices[0], True)\n",
    "    # tf.config.experimental.set_virtual_device_configuration(gpu_devices[0],\n",
    "    # [tf.config.experimental.VirtualDeviceConfiguration(memory_limit=1024*6)])\n",
    "else:\n",
    "    print('Using CPU')\n",
    "\n",
    "idx = pd.IndexSlice\n",
    "\n",
    "sns.set_style('whitegrid')\n",
    "np.random.seed(42)\n",
    "\n",
    "results_path = Path('results', 'lstm_embeddings')\n",
    "if not results_path.exists():\n",
    "    results_path.mkdir(parents=True)"
   ],
   "metadata": {
    "collapsed": false,
    "pycharm": {
     "name": "#%%\n"
    }
   }
  },
  {
   "cell_type": "code",
   "execution_count": 3,
   "outputs": [
    {
     "name": "stdout",
     "output_type": "stream",
     "text": [
      "<class 'pandas.core.frame.DataFrame'>\n",
      "MultiIndex: 1167341 entries, ('A', Timestamp('2009-01-11 00:00:00')) to ('ZUMZ', Timestamp('2017-12-31 00:00:00'))\n",
      "Data columns (total 66 columns):\n",
      " #   Column       Non-Null Count    Dtype  \n",
      "---  ------       --------------    -----  \n",
      " 0   fwd_returns  1167341 non-null  float64\n",
      " 1   1            1167341 non-null  float64\n",
      " 2   2            1167341 non-null  float64\n",
      " 3   3            1167341 non-null  float64\n",
      " 4   4            1167341 non-null  float64\n",
      " 5   5            1167341 non-null  float64\n",
      " 6   6            1167341 non-null  float64\n",
      " 7   7            1167341 non-null  float64\n",
      " 8   8            1167341 non-null  float64\n",
      " 9   9            1167341 non-null  float64\n",
      " 10  10           1167341 non-null  float64\n",
      " 11  11           1167341 non-null  float64\n",
      " 12  12           1167341 non-null  float64\n",
      " 13  13           1167341 non-null  float64\n",
      " 14  14           1167341 non-null  float64\n",
      " 15  15           1167341 non-null  float64\n",
      " 16  16           1167341 non-null  float64\n",
      " 17  17           1167341 non-null  float64\n",
      " 18  18           1167341 non-null  float64\n",
      " 19  19           1167341 non-null  float64\n",
      " 20  20           1167341 non-null  float64\n",
      " 21  21           1167341 non-null  float64\n",
      " 22  22           1167341 non-null  float64\n",
      " 23  23           1167341 non-null  float64\n",
      " 24  24           1167341 non-null  float64\n",
      " 25  25           1167341 non-null  float64\n",
      " 26  26           1167341 non-null  float64\n",
      " 27  27           1167341 non-null  float64\n",
      " 28  28           1167341 non-null  float64\n",
      " 29  29           1167341 non-null  float64\n",
      " 30  30           1167341 non-null  float64\n",
      " 31  31           1167341 non-null  float64\n",
      " 32  32           1167341 non-null  float64\n",
      " 33  33           1167341 non-null  float64\n",
      " 34  34           1167341 non-null  float64\n",
      " 35  35           1167341 non-null  float64\n",
      " 36  36           1167341 non-null  float64\n",
      " 37  37           1167341 non-null  float64\n",
      " 38  38           1167341 non-null  float64\n",
      " 39  39           1167341 non-null  float64\n",
      " 40  40           1167341 non-null  float64\n",
      " 41  41           1167341 non-null  float64\n",
      " 42  42           1167341 non-null  float64\n",
      " 43  43           1167341 non-null  float64\n",
      " 44  44           1167341 non-null  float64\n",
      " 45  45           1167341 non-null  float64\n",
      " 46  46           1167341 non-null  float64\n",
      " 47  47           1167341 non-null  float64\n",
      " 48  48           1167341 non-null  float64\n",
      " 49  49           1167341 non-null  float64\n",
      " 50  50           1167341 non-null  float64\n",
      " 51  51           1167341 non-null  float64\n",
      " 52  52           1167341 non-null  float64\n",
      " 53  ticker       1167341 non-null  int64  \n",
      " 54  month_1      1167341 non-null  uint8  \n",
      " 55  month_2      1167341 non-null  uint8  \n",
      " 56  month_3      1167341 non-null  uint8  \n",
      " 57  month_4      1167341 non-null  uint8  \n",
      " 58  month_5      1167341 non-null  uint8  \n",
      " 59  month_6      1167341 non-null  uint8  \n",
      " 60  month_7      1167341 non-null  uint8  \n",
      " 61  month_8      1167341 non-null  uint8  \n",
      " 62  month_9      1167341 non-null  uint8  \n",
      " 63  month_10     1167341 non-null  uint8  \n",
      " 64  month_11     1167341 non-null  uint8  \n",
      " 65  month_12     1167341 non-null  uint8  \n",
      "dtypes: float64(53), int64(1), uint8(12)\n",
      "memory usage: 498.8+ MB\n"
     ]
    }
   ],
   "source": [
    "data = pd.read_hdf('rnn_data.h5', 'returns_weekly').drop('label', axis=1)\n",
    "data['ticker'] = pd.factorize(data.index.get_level_values('ticker'))[0]\n",
    "data['month'] = data.index.get_level_values('date').month\n",
    "data = pd.get_dummies(data, columns=['month'], prefix='month')\n",
    "data.info()"
   ],
   "metadata": {
    "collapsed": false,
    "pycharm": {
     "name": "#%%\n"
    }
   }
  },
  {
   "cell_type": "code",
   "execution_count": 4,
   "outputs": [
    {
     "data": {
      "text/plain": "                   fwd_returns         1         2         3         4  \\\nticker date                                                              \nZUMZ   2017-12-03     0.047244  0.007937  0.000000  0.058824 -0.005571   \n       2017-12-10     0.062657  0.047244  0.007937  0.000000  0.058824   \n       2017-12-17    -0.051887  0.062657  0.047244  0.007937  0.000000   \n       2017-12-24     0.067164 -0.051887  0.062657  0.047244  0.007937   \n       2017-12-31    -0.029138  0.067164 -0.051887  0.062657  0.047244   \n\n                          5         6         7         8         9  ...  \\\nticker date                                                          ...   \nZUMZ   2017-12-03  0.016997  0.029155 -0.065395  0.013812  0.100304  ...   \n       2017-12-10 -0.005571  0.016997  0.029155 -0.065395  0.013812  ...   \n       2017-12-17  0.058824 -0.005571  0.016997  0.029155 -0.065395  ...   \n       2017-12-24  0.000000  0.058824 -0.005571  0.016997  0.029155  ...   \n       2017-12-31  0.007937  0.000000  0.058824 -0.005571  0.016997  ...   \n\n                   month_3  month_4  month_5  month_6  month_7  month_8  \\\nticker date                                                               \nZUMZ   2017-12-03        0        0        0        0        0        0   \n       2017-12-10        0        0        0        0        0        0   \n       2017-12-17        0        0        0        0        0        0   \n       2017-12-24        0        0        0        0        0        0   \n       2017-12-31        0        0        0        0        0        0   \n\n                   month_9  month_10  month_11  month_12  \nticker date                                               \nZUMZ   2017-12-03        0         0         0         1  \n       2017-12-10        0         0         0         1  \n       2017-12-17        0         0         0         1  \n       2017-12-24        0         0         0         1  \n       2017-12-31        0         0         0         1  \n\n[5 rows x 66 columns]",
      "text/html": "<div>\n<style scoped>\n    .dataframe tbody tr th:only-of-type {\n        vertical-align: middle;\n    }\n\n    .dataframe tbody tr th {\n        vertical-align: top;\n    }\n\n    .dataframe thead th {\n        text-align: right;\n    }\n</style>\n<table border=\"1\" class=\"dataframe\">\n  <thead>\n    <tr style=\"text-align: right;\">\n      <th></th>\n      <th></th>\n      <th>fwd_returns</th>\n      <th>1</th>\n      <th>2</th>\n      <th>3</th>\n      <th>4</th>\n      <th>5</th>\n      <th>6</th>\n      <th>7</th>\n      <th>8</th>\n      <th>9</th>\n      <th>...</th>\n      <th>month_3</th>\n      <th>month_4</th>\n      <th>month_5</th>\n      <th>month_6</th>\n      <th>month_7</th>\n      <th>month_8</th>\n      <th>month_9</th>\n      <th>month_10</th>\n      <th>month_11</th>\n      <th>month_12</th>\n    </tr>\n    <tr>\n      <th>ticker</th>\n      <th>date</th>\n      <th></th>\n      <th></th>\n      <th></th>\n      <th></th>\n      <th></th>\n      <th></th>\n      <th></th>\n      <th></th>\n      <th></th>\n      <th></th>\n      <th></th>\n      <th></th>\n      <th></th>\n      <th></th>\n      <th></th>\n      <th></th>\n      <th></th>\n      <th></th>\n      <th></th>\n      <th></th>\n      <th></th>\n    </tr>\n  </thead>\n  <tbody>\n    <tr>\n      <th rowspan=\"5\" valign=\"top\">ZUMZ</th>\n      <th>2017-12-03</th>\n      <td>0.047244</td>\n      <td>0.007937</td>\n      <td>0.000000</td>\n      <td>0.058824</td>\n      <td>-0.005571</td>\n      <td>0.016997</td>\n      <td>0.029155</td>\n      <td>-0.065395</td>\n      <td>0.013812</td>\n      <td>0.100304</td>\n      <td>...</td>\n      <td>0</td>\n      <td>0</td>\n      <td>0</td>\n      <td>0</td>\n      <td>0</td>\n      <td>0</td>\n      <td>0</td>\n      <td>0</td>\n      <td>0</td>\n      <td>1</td>\n    </tr>\n    <tr>\n      <th>2017-12-10</th>\n      <td>0.062657</td>\n      <td>0.047244</td>\n      <td>0.007937</td>\n      <td>0.000000</td>\n      <td>0.058824</td>\n      <td>-0.005571</td>\n      <td>0.016997</td>\n      <td>0.029155</td>\n      <td>-0.065395</td>\n      <td>0.013812</td>\n      <td>...</td>\n      <td>0</td>\n      <td>0</td>\n      <td>0</td>\n      <td>0</td>\n      <td>0</td>\n      <td>0</td>\n      <td>0</td>\n      <td>0</td>\n      <td>0</td>\n      <td>1</td>\n    </tr>\n    <tr>\n      <th>2017-12-17</th>\n      <td>-0.051887</td>\n      <td>0.062657</td>\n      <td>0.047244</td>\n      <td>0.007937</td>\n      <td>0.000000</td>\n      <td>0.058824</td>\n      <td>-0.005571</td>\n      <td>0.016997</td>\n      <td>0.029155</td>\n      <td>-0.065395</td>\n      <td>...</td>\n      <td>0</td>\n      <td>0</td>\n      <td>0</td>\n      <td>0</td>\n      <td>0</td>\n      <td>0</td>\n      <td>0</td>\n      <td>0</td>\n      <td>0</td>\n      <td>1</td>\n    </tr>\n    <tr>\n      <th>2017-12-24</th>\n      <td>0.067164</td>\n      <td>-0.051887</td>\n      <td>0.062657</td>\n      <td>0.047244</td>\n      <td>0.007937</td>\n      <td>0.000000</td>\n      <td>0.058824</td>\n      <td>-0.005571</td>\n      <td>0.016997</td>\n      <td>0.029155</td>\n      <td>...</td>\n      <td>0</td>\n      <td>0</td>\n      <td>0</td>\n      <td>0</td>\n      <td>0</td>\n      <td>0</td>\n      <td>0</td>\n      <td>0</td>\n      <td>0</td>\n      <td>1</td>\n    </tr>\n    <tr>\n      <th>2017-12-31</th>\n      <td>-0.029138</td>\n      <td>0.067164</td>\n      <td>-0.051887</td>\n      <td>0.062657</td>\n      <td>0.047244</td>\n      <td>0.007937</td>\n      <td>0.000000</td>\n      <td>0.058824</td>\n      <td>-0.005571</td>\n      <td>0.016997</td>\n      <td>...</td>\n      <td>0</td>\n      <td>0</td>\n      <td>0</td>\n      <td>0</td>\n      <td>0</td>\n      <td>0</td>\n      <td>0</td>\n      <td>0</td>\n      <td>0</td>\n      <td>1</td>\n    </tr>\n  </tbody>\n</table>\n<p>5 rows × 66 columns</p>\n</div>"
     },
     "execution_count": 4,
     "metadata": {},
     "output_type": "execute_result"
    }
   ],
   "source": [
    "data.tail()"
   ],
   "metadata": {
    "collapsed": false,
    "pycharm": {
     "name": "#%%\n"
    }
   }
  },
  {
   "cell_type": "code",
   "execution_count": 5,
   "outputs": [],
   "source": [
    "# Train-test split\n",
    "window_size=52\n",
    "sequence = list(range(1, window_size+1))\n",
    "ticker = 1\n",
    "months = 12\n",
    "n_tickers = data.ticker.nunique()\n",
    "train_data = data.loc[idx[:, :'2016'], :]\n",
    "test_data = data.loc[idx[:, '2017'],:]"
   ],
   "metadata": {
    "collapsed": false,
    "pycharm": {
     "name": "#%%\n"
    }
   }
  },
  {
   "cell_type": "code",
   "execution_count": 6,
   "outputs": [
    {
     "data": {
      "text/plain": "([(1035424, 52, 1), (1035424,), (1035424, 12)], (1035424,))"
     },
     "execution_count": 6,
     "metadata": {},
     "output_type": "execute_result"
    }
   ],
   "source": [
    "X_train = [\n",
    "    train_data.loc[:, sequence].values.reshape(-1, window_size , 1),\n",
    "    train_data.ticker,\n",
    "    train_data.filter(like='month')\n",
    "]\n",
    "y_train = train_data.fwd_returns # fwd_returns for regression usage instead of binary label\n",
    "[x.shape for x in X_train], y_train.shape"
   ],
   "metadata": {
    "collapsed": false,
    "pycharm": {
     "name": "#%%\n"
    }
   }
  },
  {
   "cell_type": "code",
   "execution_count": 7,
   "outputs": [
    {
     "data": {
      "text/plain": "([(131917, 52, 1), (131917,), (131917, 12)], (131917,))"
     },
     "execution_count": 7,
     "metadata": {},
     "output_type": "execute_result"
    }
   ],
   "source": [
    "# keep the last year for testing\n",
    "X_test = [\n",
    "    test_data.loc[:, list(range(1, window_size+1))].values.reshape(-1, window_size , 1),\n",
    "    test_data.ticker,\n",
    "    test_data.filter(like='month')\n",
    "]\n",
    "y_test = test_data.fwd_returns\n",
    "[x.shape for x in X_test], y_test.shape"
   ],
   "metadata": {
    "collapsed": false,
    "pycharm": {
     "name": "#%%\n"
    }
   }
  },
  {
   "cell_type": "code",
   "execution_count": 8,
   "outputs": [],
   "source": [
    "K.clear_session()\n",
    "n_features = 1\n",
    "returns = Input(shape=(window_size, n_features), name='Returns')\n",
    "tickers = Input(shape=(1,), name='Tickers')\n",
    "months = Input(shape=(12,), name='Months')"
   ],
   "metadata": {
    "collapsed": false,
    "pycharm": {
     "name": "#%%\n"
    }
   }
  },
  {
   "cell_type": "code",
   "execution_count": 9,
   "outputs": [],
   "source": [
    "# LSTM Layers\n",
    "lstm1_units = 25\n",
    "lstm2_units = 10\n",
    "lstm1 = LSTM(units=lstm1_units, input_shape=(window_size, n_features), name='LSTM1', dropout=.2,\n",
    "             return_sequences=True)(returns)\n",
    "\n",
    "lstm_model = LSTM(units=lstm2_units, dropout=.2, name='LSTM2')(lstm1)"
   ],
   "metadata": {
    "collapsed": false,
    "pycharm": {
     "name": "#%%\n"
    }
   }
  },
  {
   "cell_type": "code",
   "execution_count": 10,
   "outputs": [],
   "source": [
    "# Embedding Layer\n",
    "ticker_embedding = Embedding(input_dim=n_tickers, output_dim=5, input_length=1)(tickers)\n",
    "ticker_embedding = Reshape(target_shape=(5,))(ticker_embedding)"
   ],
   "metadata": {
    "collapsed": false,
    "pycharm": {
     "name": "#%%\n"
    }
   }
  },
  {
   "cell_type": "code",
   "execution_count": 11,
   "outputs": [],
   "source": [
    "# Concatenate Model components\n",
    "merged = concatenate([lstm_model, ticker_embedding, months], name='Merged')\n",
    "\n",
    "bn = BatchNormalization()(merged)\n",
    "hidden_dense = Dense(10, name='FC1')(bn)\n",
    "\n",
    "output = Dense(1, name='Output')(hidden_dense)\n",
    "\n",
    "rnn = Model(inputs=[returns, tickers, months], outputs=output)"
   ],
   "metadata": {
    "collapsed": false,
    "pycharm": {
     "name": "#%%\n"
    }
   }
  },
  {
   "cell_type": "code",
   "execution_count": 12,
   "outputs": [
    {
     "name": "stdout",
     "output_type": "stream",
     "text": [
      "Model: \"model\"\n",
      "__________________________________________________________________________________________________\n",
      " Layer (type)                   Output Shape         Param #     Connected to                     \n",
      "==================================================================================================\n",
      " Returns (InputLayer)           [(None, 52, 1)]      0           []                               \n",
      "                                                                                                  \n",
      " Tickers (InputLayer)           [(None, 1)]          0           []                               \n",
      "                                                                                                  \n",
      " LSTM1 (LSTM)                   (None, 52, 25)       2700        ['Returns[0][0]']                \n",
      "                                                                                                  \n",
      " embedding (Embedding)          (None, 1, 5)         12445       ['Tickers[0][0]']                \n",
      "                                                                                                  \n",
      " LSTM2 (LSTM)                   (None, 10)           1440        ['LSTM1[0][0]']                  \n",
      "                                                                                                  \n",
      " reshape (Reshape)              (None, 5)            0           ['embedding[0][0]']              \n",
      "                                                                                                  \n",
      " Months (InputLayer)            [(None, 12)]         0           []                               \n",
      "                                                                                                  \n",
      " Merged (Concatenate)           (None, 27)           0           ['LSTM2[0][0]',                  \n",
      "                                                                  'reshape[0][0]',                \n",
      "                                                                  'Months[0][0]']                 \n",
      "                                                                                                  \n",
      " batch_normalization (BatchNorm  (None, 27)          108         ['Merged[0][0]']                 \n",
      " alization)                                                                                       \n",
      "                                                                                                  \n",
      " FC1 (Dense)                    (None, 10)           280         ['batch_normalization[0][0]']    \n",
      "                                                                                                  \n",
      " Output (Dense)                 (None, 1)            11          ['FC1[0][0]']                    \n",
      "                                                                                                  \n",
      "==================================================================================================\n",
      "Total params: 16,984\n",
      "Trainable params: 16,930\n",
      "Non-trainable params: 54\n",
      "__________________________________________________________________________________________________\n"
     ]
    }
   ],
   "source": [
    "rnn.summary()"
   ],
   "metadata": {
    "collapsed": false,
    "pycharm": {
     "name": "#%%\n"
    }
   }
  },
  {
   "cell_type": "code",
   "execution_count": 13,
   "outputs": [
    {
     "name": "stdout",
     "output_type": "stream",
     "text": [
      "Epoch 1/50\n",
      "16179/16179 [==============================] - ETA: 0s - loss: 0.0056\n",
      "Epoch 00001: val_loss improved from inf to 0.00159, saving model to results/lstm_embeddings\\lstm.regression.h5\n",
      "16179/16179 [==============================] - 174s 10ms/step - loss: 0.0056 - val_loss: 0.0016\n",
      "Epoch 2/50\n",
      "16174/16179 [============================>.] - ETA: 0s - loss: 0.0029\n",
      "Epoch 00002: val_loss improved from 0.00159 to 0.00159, saving model to results/lstm_embeddings\\lstm.regression.h5\n",
      "16179/16179 [==============================] - 165s 10ms/step - loss: 0.0029 - val_loss: 0.0016\n",
      "Epoch 3/50\n",
      "16175/16179 [============================>.] - ETA: 0s - loss: 0.0029\n",
      "Epoch 00003: val_loss improved from 0.00159 to 0.00154, saving model to results/lstm_embeddings\\lstm.regression.h5\n",
      "16179/16179 [==============================] - 165s 10ms/step - loss: 0.0029 - val_loss: 0.0015\n",
      "Epoch 4/50\n",
      "16174/16179 [============================>.] - ETA: 0s - loss: 0.0028\n",
      "Epoch 00004: val_loss improved from 0.00154 to 0.00154, saving model to results/lstm_embeddings\\lstm.regression.h5\n",
      "16179/16179 [==============================] - 165s 10ms/step - loss: 0.0028 - val_loss: 0.0015\n",
      "Epoch 5/50\n",
      "16177/16179 [============================>.] - ETA: 0s - loss: 0.0028\n",
      "Epoch 00005: val_loss improved from 0.00154 to 0.00153, saving model to results/lstm_embeddings\\lstm.regression.h5\n",
      "16179/16179 [==============================] - 164s 10ms/step - loss: 0.0028 - val_loss: 0.0015\n",
      "Epoch 6/50\n",
      "16175/16179 [============================>.] - ETA: 0s - loss: 0.0028\n",
      "Epoch 00006: val_loss did not improve from 0.00153\n",
      "16179/16179 [==============================] - 165s 10ms/step - loss: 0.0028 - val_loss: 0.0015\n",
      "Epoch 7/50\n",
      "16175/16179 [============================>.] - ETA: 0s - loss: 0.0028\n",
      "Epoch 00007: val_loss did not improve from 0.00153\n",
      "16179/16179 [==============================] - 166s 10ms/step - loss: 0.0028 - val_loss: 0.0015\n",
      "Epoch 8/50\n",
      "16174/16179 [============================>.] - ETA: 0s - loss: 0.0028\n",
      "Epoch 00008: val_loss did not improve from 0.00153\n",
      "16179/16179 [==============================] - 164s 10ms/step - loss: 0.0028 - val_loss: 0.0016\n",
      "Epoch 9/50\n",
      "16176/16179 [============================>.] - ETA: 0s - loss: 0.0028\n",
      "Epoch 00009: val_loss did not improve from 0.00153\n",
      "16179/16179 [==============================] - 162s 10ms/step - loss: 0.0028 - val_loss: 0.0016\n",
      "Epoch 10/50\n",
      "16179/16179 [==============================] - ETA: 0s - loss: 0.0028\n",
      "Epoch 00010: val_loss did not improve from 0.00153\n",
      "16179/16179 [==============================] - 163s 10ms/step - loss: 0.0028 - val_loss: 0.0015\n"
     ]
    }
   ],
   "source": [
    "# Train the Model\n",
    "optimizer =tf.keras.optimizers.Adam()\n",
    "\n",
    "rnn.compile(loss='mse', optimizer=optimizer)\n",
    "lstm_path = (results_path / 'lstm.regression.h5').as_posix()\n",
    "\n",
    "checkpointer = ModelCheckpoint(filepath=lstm_path, verbose=1, monitor='val_loss', mode='min',\n",
    "                               save_best_only=True)\n",
    "early_stopping = EarlyStopping(monitor='val_loss', patience=5, restore_best_weights=True)\n",
    "training = rnn.fit(X_train, y_train, epochs=50, batch_size=64, validation_data=(X_test, y_test),\n",
    "                   callbacks=[early_stopping, checkpointer], verbose=1, workers=6)"
   ],
   "metadata": {
    "collapsed": false,
    "pycharm": {
     "name": "#%%\n"
    }
   }
  },
  {
   "cell_type": "code",
   "execution_count": 15,
   "outputs": [
    {
     "name": "stdout",
     "output_type": "stream",
     "text": [
      "<class 'pandas.core.frame.DataFrame'>\n",
      "MultiIndex: 131917 entries, ('A', Timestamp('2017-01-01 00:00:00')) to ('ZUMZ', Timestamp('2017-12-31 00:00:00'))\n",
      "Data columns (total 3 columns):\n",
      " #   Column   Non-Null Count   Dtype  \n",
      "---  ------   --------------   -----  \n",
      " 0   ret      131917 non-null  float64\n",
      " 1   y_pred   131917 non-null  float32\n",
      " 2   deciles  131917 non-null  int64  \n",
      "dtypes: float32(1), float64(1), int64(1)\n",
      "memory usage: 3.1+ MB\n"
     ]
    }
   ],
   "source": [
    "loss_history = pd.DataFrame(training.history)\n",
    "\n",
    "# Evaluate model performance\n",
    "test_predict = pd.Series(rnn.predict(X_test).squeeze(), index=y_test.index)\n",
    "df = y_test.to_frame('ret').assign(y_pred=test_predict)\n",
    "by_date = df.groupby(level='date')\n",
    "df['deciles'] = by_date.y_pred.apply(pd.qcut, q=5, labels=False, duplicates='drop') # y_pred divides 5 deciles\n",
    "ic = by_date.apply(lambda x: spearmanr(x.ret, x.y_pred)[0]).mul(100)\n",
    "df.info()"
   ],
   "metadata": {
    "collapsed": false,
    "pycharm": {
     "name": "#%%\n"
    }
   }
  },
  {
   "cell_type": "code",
   "execution_count": 16,
   "outputs": [
    {
     "name": "stdout",
     "output_type": "stream",
     "text": [
      "3.77 (0.00%)\n"
     ]
    }
   ],
   "source": [
    "test_predict = test_predict.to_frame('prediction')\n",
    "test_predict.index.names = ['symbol', 'date']\n",
    "test_predict.to_hdf(results_path / 'predictions.h5', 'predictions')\n",
    "rho, p = spearmanr(df.ret, df.y_pred)\n",
    "print(f'{rho*100:.2f} ({p:.2%})')"
   ],
   "metadata": {
    "collapsed": false,
    "pycharm": {
     "name": "#%%\n"
    }
   }
  },
  {
   "cell_type": "code",
   "execution_count": 18,
   "outputs": [
    {
     "data": {
      "text/plain": "<Figure size 1296x576 with 2 Axes>",
      "image/png": "[encoded data removed]"
     },
     "metadata": {},
     "output_type": "display_data"
    }
   ],
   "source": [
    "fig, axes = plt.subplots(ncols=2, figsize=(18,8))\n",
    "sns.barplot(x='deciles', y='ret', data=df, ax=axes[0])\n",
    "axes[0].set_title('Weekly Fwd Returns by Predicted Quintile')\n",
    "axes[0].yaxis.set_major_formatter(FuncFormatter(lambda y, _: '{:.2%}'.format(y)))\n",
    "axes[0].set_ylabel('Weekly Returns')\n",
    "axes[0].set_xlabel('Quintiles')\n",
    "\n",
    "avg_ic = ic.mean()\n",
    "title = f'4-Week Rolling IC | Weekly avg: {avg_ic:.2f} | Overall: {rho*100:.2f}'\n",
    "ic.rolling(4).mean().dropna().plot(ax=axes[1], title=title)\n",
    "axes[1].axhline(avg_ic, ls='--', c='k', lw=1)\n",
    "axes[1].axhline(0, c='k', lw=1)\n",
    "axes[1].set_ylabel('IC')\n",
    "axes[1].set_xlabel('Date')\n",
    "\n",
    "sns.despine()\n",
    "fig.tight_layout()\n",
    "fig.savefig(results_path / 'lstm_reg');"
   ],
   "metadata": {
    "collapsed": false,
    "pycharm": {
     "name": "#%%\n"
    }
   }
  }
 ],
 "metadata": {
  "kernelspec": {
   "display_name": "Python 3",
   "language": "python",
   "name": "python3"
  },
  "language_info": {
   "codemirror_mode": {
    "name": "ipython",
    "version": 2
   },
   "file_extension": ".py",
   "mimetype": "text/x-python",
   "name": "python",
   "nbconvert_exporter": "python",
   "pygments_lexer": "ipython2",
   "version": "2.7.6"
  }
 },
 "nbformat": 4,
 "nbformat_minor": 0
}