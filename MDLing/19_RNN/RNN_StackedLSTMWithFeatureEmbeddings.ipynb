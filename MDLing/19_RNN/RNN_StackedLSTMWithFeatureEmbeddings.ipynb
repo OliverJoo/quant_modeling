{
 "cells": [
  {
   "cell_type": "code",
   "execution_count": 1,
   "metadata": {
    "collapsed": true,
    "pycharm": {
     "name": "#%%\n"
    }
   },
   "outputs": [],
   "source": [
    "import warnings\n",
    "warnings.filterwarnings('ignore')\n",
    "%matplotlib inline\n",
    "\n",
    "from pathlib import Path\n",
    "import numpy as np\n",
    "import pandas as pd\n",
    "from scipy.stats import spearmanr\n",
    "from sklearn.metrics import roc_auc_score\n",
    "\n",
    "import tensorflow as tf\n",
    "from tensorflow.keras.callbacks import ModelCheckpoint, EarlyStopping\n",
    "from tensorflow.keras.models import Model\n",
    "from tensorflow.keras.layers import Dense, LSTM, Input, concatenate, Embedding, Reshape, BatchNormalization\n",
    "import tensorflow.keras.backend as K\n",
    "\n",
    "import matplotlib.pyplot as plt\n",
    "import seaborn as sns"
   ]
  },
  {
   "cell_type": "code",
   "execution_count": 2,
   "outputs": [
    {
     "name": "stdout",
     "output_type": "stream",
     "text": [
      "Using GPU\n"
     ]
    }
   ],
   "source": [
    "gpu_devices = tf.config.experimental.list_physical_devices('GPU')\n",
    "if gpu_devices:\n",
    "    print('Using GPU')\n",
    "    tf.config.experimental.set_memory_growth(gpu_devices[0], True)\n",
    "    # tf.config.experimental.set_virtual_device_configuration(gpu_devices[0],\n",
    "    # [tf.config.experimental.VirtualDeviceConfiguration(memory_limit=1024*6)])\n",
    "else:\n",
    "    print('Using CPU')\n",
    "\n",
    "idx = pd.IndexSlice\n",
    "sns.set_style('whitegrid')\n",
    "\n",
    "np.random.seed(42)\n",
    "results_path = Path('results', 'lstm_embeddings')\n",
    "if not results_path.exists():\n",
    "    results_path.mkdir(parents=True)"
   ],
   "metadata": {
    "collapsed": false,
    "pycharm": {
     "name": "#%%\n"
    }
   }
  },
  {
   "cell_type": "code",
   "execution_count": 3,
   "outputs": [
    {
     "name": "stdout",
     "output_type": "stream",
     "text": [
      "<class 'pandas.core.frame.DataFrame'>\n",
      "MultiIndex: 1167341 entries, ('A', Timestamp('2009-01-11 00:00:00')) to ('ZUMZ', Timestamp('2017-12-31 00:00:00'))\n",
      "Data columns (total 67 columns):\n",
      " #   Column       Non-Null Count    Dtype  \n",
      "---  ------       --------------    -----  \n",
      " 0   fwd_returns  1167341 non-null  float64\n",
      " 1   1            1167341 non-null  float64\n",
      " 2   2            1167341 non-null  float64\n",
      " 3   3            1167341 non-null  float64\n",
      " 4   4            1167341 non-null  float64\n",
      " 5   5            1167341 non-null  float64\n",
      " 6   6            1167341 non-null  float64\n",
      " 7   7            1167341 non-null  float64\n",
      " 8   8            1167341 non-null  float64\n",
      " 9   9            1167341 non-null  float64\n",
      " 10  10           1167341 non-null  float64\n",
      " 11  11           1167341 non-null  float64\n",
      " 12  12           1167341 non-null  float64\n",
      " 13  13           1167341 non-null  float64\n",
      " 14  14           1167341 non-null  float64\n",
      " 15  15           1167341 non-null  float64\n",
      " 16  16           1167341 non-null  float64\n",
      " 17  17           1167341 non-null  float64\n",
      " 18  18           1167341 non-null  float64\n",
      " 19  19           1167341 non-null  float64\n",
      " 20  20           1167341 non-null  float64\n",
      " 21  21           1167341 non-null  float64\n",
      " 22  22           1167341 non-null  float64\n",
      " 23  23           1167341 non-null  float64\n",
      " 24  24           1167341 non-null  float64\n",
      " 25  25           1167341 non-null  float64\n",
      " 26  26           1167341 non-null  float64\n",
      " 27  27           1167341 non-null  float64\n",
      " 28  28           1167341 non-null  float64\n",
      " 29  29           1167341 non-null  float64\n",
      " 30  30           1167341 non-null  float64\n",
      " 31  31           1167341 non-null  float64\n",
      " 32  32           1167341 non-null  float64\n",
      " 33  33           1167341 non-null  float64\n",
      " 34  34           1167341 non-null  float64\n",
      " 35  35           1167341 non-null  float64\n",
      " 36  36           1167341 non-null  float64\n",
      " 37  37           1167341 non-null  float64\n",
      " 38  38           1167341 non-null  float64\n",
      " 39  39           1167341 non-null  float64\n",
      " 40  40           1167341 non-null  float64\n",
      " 41  41           1167341 non-null  float64\n",
      " 42  42           1167341 non-null  float64\n",
      " 43  43           1167341 non-null  float64\n",
      " 44  44           1167341 non-null  float64\n",
      " 45  45           1167341 non-null  float64\n",
      " 46  46           1167341 non-null  float64\n",
      " 47  47           1167341 non-null  float64\n",
      " 48  48           1167341 non-null  float64\n",
      " 49  49           1167341 non-null  float64\n",
      " 50  50           1167341 non-null  float64\n",
      " 51  51           1167341 non-null  float64\n",
      " 52  52           1167341 non-null  float64\n",
      " 53  label        1167341 non-null  int32  \n",
      " 54  ticker       1167341 non-null  int64  \n",
      " 55  month_1      1167341 non-null  uint8  \n",
      " 56  month_2      1167341 non-null  uint8  \n",
      " 57  month_3      1167341 non-null  uint8  \n",
      " 58  month_4      1167341 non-null  uint8  \n",
      " 59  month_5      1167341 non-null  uint8  \n",
      " 60  month_6      1167341 non-null  uint8  \n",
      " 61  month_7      1167341 non-null  uint8  \n",
      " 62  month_8      1167341 non-null  uint8  \n",
      " 63  month_9      1167341 non-null  uint8  \n",
      " 64  month_10     1167341 non-null  uint8  \n",
      " 65  month_11     1167341 non-null  uint8  \n",
      " 66  month_12     1167341 non-null  uint8  \n",
      "dtypes: float64(53), int32(1), int64(1), uint8(12)\n",
      "memory usage: 503.3+ MB\n"
     ]
    }
   ],
   "source": [
    "data = pd.read_hdf('rnn_data.h5', 'returns_weekly')\n",
    "data['ticker'] = pd.factorize(data.index.get_level_values('ticker'))[0]\n",
    "data['month'] = data.index.get_level_values('date').month\n",
    "data = pd.get_dummies(data, columns=['month'], prefix='month')\n",
    "data.info()"
   ],
   "metadata": {
    "collapsed": false,
    "pycharm": {
     "name": "#%%\n"
    }
   }
  },
  {
   "cell_type": "code",
   "execution_count": 4,
   "outputs": [
    {
     "data": {
      "text/plain": "                   fwd_returns         1         2         3         4  \\\nticker date                                                              \nA      2009-01-11     0.140394  0.051133 -0.050983 -0.063830  0.007532   \n       2009-01-18     0.053456  0.140394  0.051133 -0.050983 -0.063830   \n       2009-01-25    -0.044593  0.053456  0.140394  0.051133 -0.050983   \n       2009-02-01    -0.030043 -0.044593  0.053456  0.140394  0.051133   \n       2009-02-08     0.067478 -0.030043 -0.044593  0.053456  0.140394   \n\n                          5         6         7         8         9  ...  \\\nticker date                                                          ...   \nA      2009-01-11 -0.083378  0.089069 -0.163861 -0.049908 -0.015773  ...   \n       2009-01-18  0.007532 -0.083378  0.089069 -0.166667 -0.049908  ...   \n       2009-01-25 -0.063830  0.007532 -0.083378  0.089069 -0.166747  ...   \n       2009-02-01 -0.050983 -0.063830  0.007532 -0.083378  0.089069  ...   \n       2009-02-08  0.051133 -0.050983 -0.063830  0.007532 -0.083378  ...   \n\n                   month_3  month_4  month_5  month_6  month_7  month_8  \\\nticker date                                                               \nA      2009-01-11        0        0        0        0        0        0   \n       2009-01-18        0        0        0        0        0        0   \n       2009-01-25        0        0        0        0        0        0   \n       2009-02-01        0        0        0        0        0        0   \n       2009-02-08        0        0        0        0        0        0   \n\n                   month_9  month_10  month_11  month_12  \nticker date                                               \nA      2009-01-11        0         0         0         0  \n       2009-01-18        0         0         0         0  \n       2009-01-25        0         0         0         0  \n       2009-02-01        0         0         0         0  \n       2009-02-08        0         0         0         0  \n\n[5 rows x 67 columns]",
      "text/html": "<div>\n<style scoped>\n    .dataframe tbody tr th:only-of-type {\n        vertical-align: middle;\n    }\n\n    .dataframe tbody tr th {\n        vertical-align: top;\n    }\n\n    .dataframe thead th {\n        text-align: right;\n    }\n</style>\n<table border=\"1\" class=\"dataframe\">\n  <thead>\n    <tr style=\"text-align: right;\">\n      <th></th>\n      <th></th>\n      <th>fwd_returns</th>\n      <th>1</th>\n      <th>2</th>\n      <th>3</th>\n      <th>4</th>\n      <th>5</th>\n      <th>6</th>\n      <th>7</th>\n      <th>8</th>\n      <th>9</th>\n      <th>...</th>\n      <th>month_3</th>\n      <th>month_4</th>\n      <th>month_5</th>\n      <th>month_6</th>\n      <th>month_7</th>\n      <th>month_8</th>\n      <th>month_9</th>\n      <th>month_10</th>\n      <th>month_11</th>\n      <th>month_12</th>\n    </tr>\n    <tr>\n      <th>ticker</th>\n      <th>date</th>\n      <th></th>\n      <th></th>\n      <th></th>\n      <th></th>\n      <th></th>\n      <th></th>\n      <th></th>\n      <th></th>\n      <th></th>\n      <th></th>\n      <th></th>\n      <th></th>\n      <th></th>\n      <th></th>\n      <th></th>\n      <th></th>\n      <th></th>\n      <th></th>\n      <th></th>\n      <th></th>\n      <th></th>\n    </tr>\n  </thead>\n  <tbody>\n    <tr>\n      <th rowspan=\"5\" valign=\"top\">A</th>\n      <th>2009-01-11</th>\n      <td>0.140394</td>\n      <td>0.051133</td>\n      <td>-0.050983</td>\n      <td>-0.063830</td>\n      <td>0.007532</td>\n      <td>-0.083378</td>\n      <td>0.089069</td>\n      <td>-0.163861</td>\n      <td>-0.049908</td>\n      <td>-0.015773</td>\n      <td>...</td>\n      <td>0</td>\n      <td>0</td>\n      <td>0</td>\n      <td>0</td>\n      <td>0</td>\n      <td>0</td>\n      <td>0</td>\n      <td>0</td>\n      <td>0</td>\n      <td>0</td>\n    </tr>\n    <tr>\n      <th>2009-01-18</th>\n      <td>0.053456</td>\n      <td>0.140394</td>\n      <td>0.051133</td>\n      <td>-0.050983</td>\n      <td>-0.063830</td>\n      <td>0.007532</td>\n      <td>-0.083378</td>\n      <td>0.089069</td>\n      <td>-0.166667</td>\n      <td>-0.049908</td>\n      <td>...</td>\n      <td>0</td>\n      <td>0</td>\n      <td>0</td>\n      <td>0</td>\n      <td>0</td>\n      <td>0</td>\n      <td>0</td>\n      <td>0</td>\n      <td>0</td>\n      <td>0</td>\n    </tr>\n    <tr>\n      <th>2009-01-25</th>\n      <td>-0.044593</td>\n      <td>0.053456</td>\n      <td>0.140394</td>\n      <td>0.051133</td>\n      <td>-0.050983</td>\n      <td>-0.063830</td>\n      <td>0.007532</td>\n      <td>-0.083378</td>\n      <td>0.089069</td>\n      <td>-0.166747</td>\n      <td>...</td>\n      <td>0</td>\n      <td>0</td>\n      <td>0</td>\n      <td>0</td>\n      <td>0</td>\n      <td>0</td>\n      <td>0</td>\n      <td>0</td>\n      <td>0</td>\n      <td>0</td>\n    </tr>\n    <tr>\n      <th>2009-02-01</th>\n      <td>-0.030043</td>\n      <td>-0.044593</td>\n      <td>0.053456</td>\n      <td>0.140394</td>\n      <td>0.051133</td>\n      <td>-0.050983</td>\n      <td>-0.063830</td>\n      <td>0.007532</td>\n      <td>-0.083378</td>\n      <td>0.089069</td>\n      <td>...</td>\n      <td>0</td>\n      <td>0</td>\n      <td>0</td>\n      <td>0</td>\n      <td>0</td>\n      <td>0</td>\n      <td>0</td>\n      <td>0</td>\n      <td>0</td>\n      <td>0</td>\n    </tr>\n    <tr>\n      <th>2009-02-08</th>\n      <td>0.067478</td>\n      <td>-0.030043</td>\n      <td>-0.044593</td>\n      <td>0.053456</td>\n      <td>0.140394</td>\n      <td>0.051133</td>\n      <td>-0.050983</td>\n      <td>-0.063830</td>\n      <td>0.007532</td>\n      <td>-0.083378</td>\n      <td>...</td>\n      <td>0</td>\n      <td>0</td>\n      <td>0</td>\n      <td>0</td>\n      <td>0</td>\n      <td>0</td>\n      <td>0</td>\n      <td>0</td>\n      <td>0</td>\n      <td>0</td>\n    </tr>\n  </tbody>\n</table>\n<p>5 rows × 67 columns</p>\n</div>"
     },
     "execution_count": 4,
     "metadata": {},
     "output_type": "execute_result"
    }
   ],
   "source": [
    "data.head()"
   ],
   "metadata": {
    "collapsed": false,
    "pycharm": {
     "name": "#%%\n"
    }
   }
  },
  {
   "cell_type": "code",
   "execution_count": 5,
   "outputs": [],
   "source": [
    "# Train-test split\n",
    "window_size=52\n",
    "sequence = list(range(1, window_size+1))\n",
    "ticker = 1\n",
    "months = 12\n",
    "n_tickers = data.ticker.nunique()\n",
    "train_data = data.drop('fwd_returns', axis=1).loc[idx[:, :'2016'], :]\n",
    "test_data = data.drop('fwd_returns', axis=1).loc[idx[:, '2017'],:]"
   ],
   "metadata": {
    "collapsed": false,
    "pycharm": {
     "name": "#%%\n"
    }
   }
  },
  {
   "cell_type": "code",
   "execution_count": 6,
   "outputs": [
    {
     "data": {
      "text/plain": "([(1035424, 52, 1), (1035424,), (1035424, 12)], (1035424,))"
     },
     "execution_count": 6,
     "metadata": {},
     "output_type": "execute_result"
    }
   ],
   "source": [
    "# reshape to 3 dimensions for RNN\n",
    "X_train = [\n",
    "            train_data.loc[:, sequence].values.reshape(-1, window_size , 1), # lagged return series\n",
    "            train_data.ticker, # integer encoded stock ticker (1 dimensional array)\n",
    "            train_data.filter(like='month') # month dummies as a 2 dimensional array with 1 column per month\n",
    "          ]\n",
    "# label(fwd_returns) > 0 ==> 1 otherwise 0 (by RNN_BuildDataset) for binary price changes\n",
    "y_train = train_data.label\n",
    "[x.shape for x in X_train], y_train.shape"
   ],
   "metadata": {
    "collapsed": false,
    "pycharm": {
     "name": "#%%\n"
    }
   }
  },
  {
   "cell_type": "code",
   "execution_count": 7,
   "outputs": [
    {
     "data": {
      "text/plain": "                   month_1  month_2  month_3  month_4  month_5  month_6  \\\nticker date                                                               \nA      2009-01-11        1        0        0        0        0        0   \n       2009-01-18        1        0        0        0        0        0   \n       2009-01-25        1        0        0        0        0        0   \n       2009-02-01        0        1        0        0        0        0   \n       2009-02-08        0        1        0        0        0        0   \n...                    ...      ...      ...      ...      ...      ...   \nZUMZ   2016-11-27        0        0        0        0        0        0   \n       2016-12-04        0        0        0        0        0        0   \n       2016-12-11        0        0        0        0        0        0   \n       2016-12-18        0        0        0        0        0        0   \n       2016-12-25        0        0        0        0        0        0   \n\n                   month_7  month_8  month_9  month_10  month_11  month_12  \nticker date                                                                 \nA      2009-01-11        0        0        0         0         0         0  \n       2009-01-18        0        0        0         0         0         0  \n       2009-01-25        0        0        0         0         0         0  \n       2009-02-01        0        0        0         0         0         0  \n       2009-02-08        0        0        0         0         0         0  \n...                    ...      ...      ...       ...       ...       ...  \nZUMZ   2016-11-27        0        0        0         0         1         0  \n       2016-12-04        0        0        0         0         0         1  \n       2016-12-11        0        0        0         0         0         1  \n       2016-12-18        0        0        0         0         0         1  \n       2016-12-25        0        0        0         0         0         1  \n\n[1035424 rows x 12 columns]",
      "text/html": "<div>\n<style scoped>\n    .dataframe tbody tr th:only-of-type {\n        vertical-align: middle;\n    }\n\n    .dataframe tbody tr th {\n        vertical-align: top;\n    }\n\n    .dataframe thead th {\n        text-align: right;\n    }\n</style>\n<table border=\"1\" class=\"dataframe\">\n  <thead>\n    <tr style=\"text-align: right;\">\n      <th></th>\n      <th></th>\n      <th>month_1</th>\n      <th>month_2</th>\n      <th>month_3</th>\n      <th>month_4</th>\n      <th>month_5</th>\n      <th>month_6</th>\n      <th>month_7</th>\n      <th>month_8</th>\n      <th>month_9</th>\n      <th>month_10</th>\n      <th>month_11</th>\n      <th>month_12</th>\n    </tr>\n    <tr>\n      <th>ticker</th>\n      <th>date</th>\n      <th></th>\n      <th></th>\n      <th></th>\n      <th></th>\n      <th></th>\n      <th></th>\n      <th></th>\n      <th></th>\n      <th></th>\n      <th></th>\n      <th></th>\n      <th></th>\n    </tr>\n  </thead>\n  <tbody>\n    <tr>\n      <th rowspan=\"5\" valign=\"top\">A</th>\n      <th>2009-01-11</th>\n      <td>1</td>\n      <td>0</td>\n      <td>0</td>\n      <td>0</td>\n      <td>0</td>\n      <td>0</td>\n      <td>0</td>\n      <td>0</td>\n      <td>0</td>\n      <td>0</td>\n      <td>0</td>\n      <td>0</td>\n    </tr>\n    <tr>\n      <th>2009-01-18</th>\n      <td>1</td>\n      <td>0</td>\n      <td>0</td>\n      <td>0</td>\n      <td>0</td>\n      <td>0</td>\n      <td>0</td>\n      <td>0</td>\n      <td>0</td>\n      <td>0</td>\n      <td>0</td>\n      <td>0</td>\n    </tr>\n    <tr>\n      <th>2009-01-25</th>\n      <td>1</td>\n      <td>0</td>\n      <td>0</td>\n      <td>0</td>\n      <td>0</td>\n      <td>0</td>\n      <td>0</td>\n      <td>0</td>\n      <td>0</td>\n      <td>0</td>\n      <td>0</td>\n      <td>0</td>\n    </tr>\n    <tr>\n      <th>2009-02-01</th>\n      <td>0</td>\n      <td>1</td>\n      <td>0</td>\n      <td>0</td>\n      <td>0</td>\n      <td>0</td>\n      <td>0</td>\n      <td>0</td>\n      <td>0</td>\n      <td>0</td>\n      <td>0</td>\n      <td>0</td>\n    </tr>\n    <tr>\n      <th>2009-02-08</th>\n      <td>0</td>\n      <td>1</td>\n      <td>0</td>\n      <td>0</td>\n      <td>0</td>\n      <td>0</td>\n      <td>0</td>\n      <td>0</td>\n      <td>0</td>\n      <td>0</td>\n      <td>0</td>\n      <td>0</td>\n    </tr>\n    <tr>\n      <th>...</th>\n      <th>...</th>\n      <td>...</td>\n      <td>...</td>\n      <td>...</td>\n      <td>...</td>\n      <td>...</td>\n      <td>...</td>\n      <td>...</td>\n      <td>...</td>\n      <td>...</td>\n      <td>...</td>\n      <td>...</td>\n      <td>...</td>\n    </tr>\n    <tr>\n      <th rowspan=\"5\" valign=\"top\">ZUMZ</th>\n      <th>2016-11-27</th>\n      <td>0</td>\n      <td>0</td>\n      <td>0</td>\n      <td>0</td>\n      <td>0</td>\n      <td>0</td>\n      <td>0</td>\n      <td>0</td>\n      <td>0</td>\n      <td>0</td>\n      <td>1</td>\n      <td>0</td>\n    </tr>\n    <tr>\n      <th>2016-12-04</th>\n      <td>0</td>\n      <td>0</td>\n      <td>0</td>\n      <td>0</td>\n      <td>0</td>\n      <td>0</td>\n      <td>0</td>\n      <td>0</td>\n      <td>0</td>\n      <td>0</td>\n      <td>0</td>\n      <td>1</td>\n    </tr>\n    <tr>\n      <th>2016-12-11</th>\n      <td>0</td>\n      <td>0</td>\n      <td>0</td>\n      <td>0</td>\n      <td>0</td>\n      <td>0</td>\n      <td>0</td>\n      <td>0</td>\n      <td>0</td>\n      <td>0</td>\n      <td>0</td>\n      <td>1</td>\n    </tr>\n    <tr>\n      <th>2016-12-18</th>\n      <td>0</td>\n      <td>0</td>\n      <td>0</td>\n      <td>0</td>\n      <td>0</td>\n      <td>0</td>\n      <td>0</td>\n      <td>0</td>\n      <td>0</td>\n      <td>0</td>\n      <td>0</td>\n      <td>1</td>\n    </tr>\n    <tr>\n      <th>2016-12-25</th>\n      <td>0</td>\n      <td>0</td>\n      <td>0</td>\n      <td>0</td>\n      <td>0</td>\n      <td>0</td>\n      <td>0</td>\n      <td>0</td>\n      <td>0</td>\n      <td>0</td>\n      <td>0</td>\n      <td>1</td>\n    </tr>\n  </tbody>\n</table>\n<p>1035424 rows × 12 columns</p>\n</div>"
     },
     "execution_count": 7,
     "metadata": {},
     "output_type": "execute_result"
    }
   ],
   "source": [
    "train_data.filter(like='month')"
   ],
   "metadata": {
    "collapsed": false,
    "pycharm": {
     "name": "#%%\n"
    }
   }
  },
  {
   "cell_type": "code",
   "execution_count": 6,
   "outputs": [
    {
     "data": {
      "text/plain": "([(131917, 52, 1), (131917,), (131917, 12)], (131917,))"
     },
     "execution_count": 6,
     "metadata": {},
     "output_type": "execute_result"
    }
   ],
   "source": [
    "# keep the last year for testing\n",
    "X_test = [test_data.loc[:, list(range(1, window_size+1))].values.reshape(-1, window_size , 1),\n",
    "    test_data.ticker, test_data.filter(like='month')]\n",
    "y_test = test_data.label\n",
    "[x.shape for x in X_test], y_test.shape"
   ],
   "metadata": {
    "collapsed": false,
    "pycharm": {
     "name": "#%%\n"
    }
   }
  },
  {
   "cell_type": "code",
   "execution_count": 8,
   "outputs": [],
   "source": [
    "# Define the Model Architecture\n",
    "K.clear_session()\n",
    "n_features = 1\n",
    "returns = Input(shape=(window_size, n_features), name='Returns')\n",
    "tickers = Input(shape=(1,), name='Tickers')\n",
    "months = Input(shape=(12,), name='Months')\n",
    "\n",
    "# LSTM Layers\n",
    "lstm1_units = 25\n",
    "lstm2_units = 10\n",
    "lstm1 = LSTM(units=lstm1_units, input_shape=(window_size, n_features), name='LSTM1', dropout=.2,\n",
    "             return_sequences=True)(returns)\n",
    "\n",
    "lstm_model = LSTM(units=lstm2_units, dropout=.2, name='LSTM2')(lstm1)"
   ],
   "metadata": {
    "collapsed": false,
    "pycharm": {
     "name": "#%%\n"
    }
   }
  },
  {
   "cell_type": "code",
   "execution_count": 9,
   "outputs": [],
   "source": [
    "# Embedding Layer\n",
    "ticker_embedding = Embedding(input_dim=n_tickers, output_dim=5, input_length=1)(tickers)\n",
    "ticker_embedding = Reshape(target_shape=(5,))(ticker_embedding)"
   ],
   "metadata": {
    "collapsed": false,
    "pycharm": {
     "name": "#%%\n"
    }
   }
  },
  {
   "cell_type": "code",
   "execution_count": 10,
   "outputs": [],
   "source": [
    "# Concatenate Model components\n",
    "merged = concatenate([lstm_model, ticker_embedding, months], name='Merged')\n",
    "\n",
    "bn = BatchNormalization()(merged)\n",
    "hidden_dense = Dense(10, name='FC1')(bn)\n",
    "\n",
    "output = Dense(1, name='Output', activation='sigmoid')(hidden_dense)\n",
    "\n",
    "rnn = Model(inputs=[returns, tickers, months], outputs=output)"
   ],
   "metadata": {
    "collapsed": false,
    "pycharm": {
     "name": "#%%\n"
    }
   }
  },
  {
   "cell_type": "code",
   "execution_count": 11,
   "outputs": [
    {
     "name": "stdout",
     "output_type": "stream",
     "text": [
      "Model: \"model\"\n",
      "__________________________________________________________________________________________________\n",
      " Layer (type)                   Output Shape         Param #     Connected to                     \n",
      "==================================================================================================\n",
      " Returns (InputLayer)           [(None, 52, 1)]      0           []                               \n",
      "                                                                                                  \n",
      " Tickers (InputLayer)           [(None, 1)]          0           []                               \n",
      "                                                                                                  \n",
      " LSTM1 (LSTM)                   (None, 52, 25)       2700        ['Returns[0][0]']                \n",
      "                                                                                                  \n",
      " embedding (Embedding)          (None, 1, 5)         12445       ['Tickers[0][0]']                \n",
      "                                                                                                  \n",
      " LSTM2 (LSTM)                   (None, 10)           1440        ['LSTM1[0][0]']                  \n",
      "                                                                                                  \n",
      " reshape (Reshape)              (None, 5)            0           ['embedding[0][0]']              \n",
      "                                                                                                  \n",
      " Months (InputLayer)            [(None, 12)]         0           []                               \n",
      "                                                                                                  \n",
      " Merged (Concatenate)           (None, 27)           0           ['LSTM2[0][0]',                  \n",
      "                                                                  'reshape[0][0]',                \n",
      "                                                                  'Months[0][0]']                 \n",
      "                                                                                                  \n",
      " batch_normalization (BatchNorm  (None, 27)          108         ['Merged[0][0]']                 \n",
      " alization)                                                                                       \n",
      "                                                                                                  \n",
      " FC1 (Dense)                    (None, 10)           280         ['batch_normalization[0][0]']    \n",
      "                                                                                                  \n",
      " Output (Dense)                 (None, 1)            11          ['FC1[0][0]']                    \n",
      "                                                                                                  \n",
      "==================================================================================================\n",
      "Total params: 16,984\n",
      "Trainable params: 16,930\n",
      "Non-trainable params: 54\n",
      "__________________________________________________________________________________________________\n"
     ]
    }
   ],
   "source": [
    "rnn.summary()"
   ],
   "metadata": {
    "collapsed": false,
    "pycharm": {
     "name": "#%%\n"
    }
   }
  },
  {
   "cell_type": "code",
   "execution_count": 12,
   "outputs": [
    {
     "name": "stdout",
     "output_type": "stream",
     "text": [
      "Epoch 1/50\n",
      "32353/32357 [============================>.] - ETA: 0s - loss: 0.6895 - accuracy: 0.5365 - AUC: 0.5493\n",
      "Epoch 00001: val_AUC improved from -inf to 0.62010, saving model to results/lstm_embeddings\\lstm.classification.h5\n",
      "32357/32357 [==============================] - 386s 12ms/step - loss: 0.6895 - accuracy: 0.5365 - AUC: 0.5493 - val_loss: 0.6783 - val_accuracy: 0.5754 - val_AUC: 0.6201\n",
      "Epoch 2/50\n",
      "32355/32357 [============================>.] - ETA: 0s - loss: 0.6861 - accuracy: 0.5475 - AUC: 0.5655\n",
      "Epoch 00002: val_AUC improved from 0.62010 to 0.62713, saving model to results/lstm_embeddings\\lstm.classification.h5\n",
      "32357/32357 [==============================] - 372s 11ms/step - loss: 0.6861 - accuracy: 0.5475 - AUC: 0.5655 - val_loss: 0.6780 - val_accuracy: 0.5723 - val_AUC: 0.6271\n",
      "Epoch 3/50\n",
      "32353/32357 [============================>.] - ETA: 0s - loss: 0.6811 - accuracy: 0.5485 - AUC: 0.5683\n",
      "Epoch 00003: val_AUC improved from 0.62713 to 0.67151, saving model to results/lstm_embeddings\\lstm.classification.h5\n",
      "32357/32357 [==============================] - 375s 12ms/step - loss: 0.6811 - accuracy: 0.5485 - AUC: 0.5683 - val_loss: 0.5786 - val_accuracy: 0.6109 - val_AUC: 0.6715\n",
      "Epoch 4/50\n",
      "32353/32357 [============================>.] - ETA: 0s - loss: 0.6804 - accuracy: 0.5479 - AUC: 0.5675\n",
      "Epoch 00004: val_AUC improved from 0.67151 to 0.67897, saving model to results/lstm_embeddings\\lstm.classification.h5\n",
      "32357/32357 [==============================] - 378s 12ms/step - loss: 0.6804 - accuracy: 0.5479 - AUC: 0.5675 - val_loss: 0.5728 - val_accuracy: 0.6178 - val_AUC: 0.6790\n",
      "Epoch 5/50\n",
      "32357/32357 [==============================] - ETA: 0s - loss: 0.6760 - accuracy: 0.5515 - AUC: 0.5728\n",
      "Epoch 00005: val_AUC did not improve from 0.67897\n",
      "32357/32357 [==============================] - 383s 12ms/step - loss: 0.6760 - accuracy: 0.5515 - AUC: 0.5728 - val_loss: 0.5732 - val_accuracy: 0.6154 - val_AUC: 0.6784\n",
      "Epoch 6/50\n",
      "32357/32357 [==============================] - ETA: 0s - loss: 0.6747 - accuracy: 0.5536 - AUC: 0.5759\n",
      "Epoch 00006: val_AUC did not improve from 0.67897\n",
      "32357/32357 [==============================] - 382s 12ms/step - loss: 0.6747 - accuracy: 0.5536 - AUC: 0.5759 - val_loss: 0.5732 - val_accuracy: 0.6153 - val_AUC: 0.6789\n",
      "Epoch 7/50\n",
      "32353/32357 [============================>.] - ETA: 0s - loss: 0.6736 - accuracy: 0.5551 - AUC: 0.5793\n",
      "Epoch 00007: val_AUC did not improve from 0.67897\n",
      "32357/32357 [==============================] - 382s 12ms/step - loss: 0.6736 - accuracy: 0.5551 - AUC: 0.5793 - val_loss: 0.5712 - val_accuracy: 0.6185 - val_AUC: 0.6782\n",
      "Epoch 8/50\n",
      "32356/32357 [============================>.] - ETA: 0s - loss: 0.6737 - accuracy: 0.5558 - AUC: 0.5802\n",
      "Epoch 00008: val_AUC improved from 0.67897 to 0.68780, saving model to results/lstm_embeddings\\lstm.classification.h5\n",
      "32357/32357 [==============================] - 388s 12ms/step - loss: 0.6737 - accuracy: 0.5558 - AUC: 0.5802 - val_loss: 0.5705 - val_accuracy: 0.6204 - val_AUC: 0.6878\n",
      "Epoch 9/50\n",
      "32356/32357 [============================>.] - ETA: 0s - loss: 0.6734 - accuracy: 0.5565 - AUC: 0.5808\n",
      "Epoch 00009: val_AUC did not improve from 0.68780\n",
      "32357/32357 [==============================] - 415s 13ms/step - loss: 0.6734 - accuracy: 0.5565 - AUC: 0.5808 - val_loss: 0.5734 - val_accuracy: 0.6226 - val_AUC: 0.6865\n",
      "Epoch 10/50\n",
      "32356/32357 [============================>.] - ETA: 0s - loss: 0.6727 - accuracy: 0.5561 - AUC: 0.5812\n",
      "Epoch 00010: val_AUC did not improve from 0.68780\n",
      "32357/32357 [==============================] - 442s 14ms/step - loss: 0.6727 - accuracy: 0.5561 - AUC: 0.5812 - val_loss: 0.5692 - val_accuracy: 0.6219 - val_AUC: 0.6849\n",
      "Epoch 11/50\n",
      "32355/32357 [============================>.] - ETA: 0s - loss: 0.6720 - accuracy: 0.5576 - AUC: 0.5836\n",
      "Epoch 00011: val_AUC did not improve from 0.68780\n",
      "32357/32357 [==============================] - 439s 14ms/step - loss: 0.6720 - accuracy: 0.5576 - AUC: 0.5836 - val_loss: 0.5702 - val_accuracy: 0.6204 - val_AUC: 0.6838\n",
      "Epoch 12/50\n",
      "32353/32357 [============================>.] - ETA: 0s - loss: 0.6716 - accuracy: 0.5594 - AUC: 0.5854\n",
      "Epoch 00012: val_AUC improved from 0.68780 to 0.68956, saving model to results/lstm_embeddings\\lstm.classification.h5\n",
      "32357/32357 [==============================] - 422s 13ms/step - loss: 0.6716 - accuracy: 0.5594 - AUC: 0.5854 - val_loss: 0.5678 - val_accuracy: 0.6217 - val_AUC: 0.6896\n",
      "Epoch 13/50\n",
      "32357/32357 [==============================] - ETA: 0s - loss: 0.6710 - accuracy: 0.5602 - AUC: 0.5873\n",
      "Epoch 00013: val_AUC did not improve from 0.68956\n",
      "32357/32357 [==============================] - 388s 12ms/step - loss: 0.6710 - accuracy: 0.5602 - AUC: 0.5873 - val_loss: 0.5691 - val_accuracy: 0.6204 - val_AUC: 0.6887\n",
      "Epoch 14/50\n",
      "32354/32357 [============================>.] - ETA: 0s - loss: 0.6704 - accuracy: 0.5614 - AUC: 0.5892\n",
      "Epoch 00014: val_AUC improved from 0.68956 to 0.68995, saving model to results/lstm_embeddings\\lstm.classification.h5\n",
      "32357/32357 [==============================] - 388s 12ms/step - loss: 0.6704 - accuracy: 0.5614 - AUC: 0.5892 - val_loss: 0.5744 - val_accuracy: 0.6174 - val_AUC: 0.6900\n",
      "Epoch 15/50\n",
      "32354/32357 [============================>.] - ETA: 0s - loss: 0.6697 - accuracy: 0.5626 - AUC: 0.5913\n",
      "Epoch 00015: val_AUC did not improve from 0.68995\n",
      "32357/32357 [==============================] - 393s 12ms/step - loss: 0.6697 - accuracy: 0.5626 - AUC: 0.5913 - val_loss: 0.5717 - val_accuracy: 0.6187 - val_AUC: 0.6868\n",
      "Epoch 16/50\n",
      "32357/32357 [==============================] - ETA: 0s - loss: 0.6696 - accuracy: 0.5633 - AUC: 0.5929\n",
      "Epoch 00016: val_AUC did not improve from 0.68995\n",
      "32357/32357 [==============================] - 395s 12ms/step - loss: 0.6696 - accuracy: 0.5633 - AUC: 0.5929 - val_loss: 0.5706 - val_accuracy: 0.6178 - val_AUC: 0.6845\n",
      "Epoch 17/50\n",
      "32353/32357 [============================>.] - ETA: 0s - loss: 0.6689 - accuracy: 0.5648 - AUC: 0.5939\n",
      "Epoch 00017: val_AUC did not improve from 0.68995\n",
      "32357/32357 [==============================] - 384s 12ms/step - loss: 0.6689 - accuracy: 0.5648 - AUC: 0.5939 - val_loss: 0.5727 - val_accuracy: 0.6171 - val_AUC: 0.6838\n",
      "Epoch 18/50\n",
      "32356/32357 [============================>.] - ETA: 0s - loss: 0.6686 - accuracy: 0.5656 - AUC: 0.5956\n",
      "Epoch 00018: val_AUC did not improve from 0.68995\n",
      "32357/32357 [==============================] - 379s 12ms/step - loss: 0.6686 - accuracy: 0.5656 - AUC: 0.5956 - val_loss: 0.5725 - val_accuracy: 0.6175 - val_AUC: 0.6834\n",
      "Epoch 19/50\n",
      "32354/32357 [============================>.] - ETA: 0s - loss: 0.6683 - accuracy: 0.5658 - AUC: 0.5962\n",
      "Epoch 00019: val_AUC did not improve from 0.68995\n",
      "32357/32357 [==============================] - 385s 12ms/step - loss: 0.6683 - accuracy: 0.5658 - AUC: 0.5962 - val_loss: 0.5700 - val_accuracy: 0.6172 - val_AUC: 0.6837\n"
     ]
    }
   ],
   "source": [
    "# Train the Model\n",
    "optimizer = tf.keras.optimizers.RMSprop(lr=0.001, rho=0.9, epsilon=1e-08, decay=0.0)\n",
    "rnn.compile(loss='binary_crossentropy', optimizer=optimizer,\n",
    "            metrics=['accuracy', tf.keras.metrics.AUC(name='AUC')])\n",
    "lstm_path = (results_path / 'lstm.classification.h5').as_posix()\n",
    "\n",
    "checkpointer = ModelCheckpoint(filepath=lstm_path, verbose=1, monitor='val_AUC', mode='max',\n",
    "                               save_best_only=True)\n",
    "early_stopping = EarlyStopping(monitor='val_AUC', patience=5, restore_best_weights=True, mode='max')\n",
    "training = rnn.fit(X_train, y_train, epochs=50, batch_size=32, validation_data=(X_test, y_test),\n",
    "                   callbacks=[early_stopping, checkpointer], verbose=1, workers=6)"
   ],
   "metadata": {
    "collapsed": false,
    "pycharm": {
     "name": "#%%\n"
    }
   }
  },
  {
   "cell_type": "code",
   "execution_count": 13,
   "outputs": [
    {
     "data": {
      "text/plain": "<Figure size 1296x576 with 3 Axes>",
      "image/png": "[encoded data removed]"
     },
     "metadata": {},
     "output_type": "display_data"
    }
   ],
   "source": [
    "loss_history = pd.DataFrame(training.history)\n",
    "def which_metric(m):\n",
    "    return m.split('_')[-1]\n",
    "fig, axes = plt.subplots(ncols=3, figsize=(18,8))\n",
    "\n",
    "for i, (metric, hist) in enumerate(loss_history.groupby(which_metric, axis=1)):\n",
    "    hist.plot(ax=axes[i], title=metric)\n",
    "    axes[i].legend(['Training', 'Validation'])\n",
    "\n",
    "sns.despine()\n",
    "fig.tight_layout()\n",
    "fig.savefig(results_path / 'lstm_stacked_classification', dpi=300);"
   ],
   "metadata": {
    "collapsed": false,
    "pycharm": {
     "name": "#%%\n"
    }
   }
  },
  {
   "cell_type": "code",
   "execution_count": 14,
   "outputs": [
    {
     "data": {
      "text/plain": "0.6899879139445898"
     },
     "execution_count": 14,
     "metadata": {},
     "output_type": "execute_result"
    }
   ],
   "source": [
    "# Evaluate model(directional price moves estimation) performance\n",
    "test_predict = pd.Series(rnn.predict(X_test).squeeze(), index=y_test.index)\n",
    "roc_auc_score(y_score=test_predict, y_true=y_test)"
   ],
   "metadata": {
    "collapsed": false,
    "pycharm": {
     "name": "#%%\n"
    }
   }
  },
  {
   "cell_type": "code",
   "execution_count": 15,
   "outputs": [
    {
     "data": {
      "text/plain": "0.6173578841241083"
     },
     "execution_count": 15,
     "metadata": {},
     "output_type": "execute_result"
    }
   ],
   "source": [
    "((test_predict>.5) == y_test).astype(int).mean()"
   ],
   "metadata": {
    "collapsed": false,
    "pycharm": {
     "name": "#%%\n"
    }
   }
  },
  {
   "cell_type": "code",
   "execution_count": 16,
   "outputs": [
    {
     "data": {
      "text/plain": "0.32505728563581054"
     },
     "execution_count": 16,
     "metadata": {},
     "output_type": "execute_result"
    }
   ],
   "source": [
    "spearmanr(test_predict, y_test)[0]"
   ],
   "metadata": {
    "collapsed": false,
    "pycharm": {
     "name": "#%%\n"
    }
   }
  }
 ],
 "metadata": {
  "kernelspec": {
   "display_name": "Python 3",
   "language": "python",
   "name": "python3"
  },
  "language_info": {
   "codemirror_mode": {
    "name": "ipython",
    "version": 2
   },
   "file_extension": ".py",
   "mimetype": "text/x-python",
   "name": "python",
   "nbconvert_exporter": "python",
   "pygments_lexer": "ipython2",
   "version": "2.7.6"
  }
 },
 "nbformat": 4,
 "nbformat_minor": 0
}