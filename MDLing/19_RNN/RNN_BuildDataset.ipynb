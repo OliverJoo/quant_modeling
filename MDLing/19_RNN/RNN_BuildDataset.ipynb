{
 "cells": [
  {
   "cell_type": "code",
   "execution_count": 3,
   "metadata": {
    "collapsed": true,
    "pycharm": {
     "name": "#%%\n"
    }
   },
   "outputs": [],
   "source": [
    "# build dataset for stacked LSTM with feature Embeddings\n",
    "import warnings\n",
    "warnings.filterwarnings('ignore')\n",
    "from pathlib import Path\n",
    "\n",
    "import numpy as np\n",
    "import pandas as pd\n",
    "np.random.seed(42)\n",
    "idx = pd.IndexSlice"
   ]
  },
  {
   "cell_type": "code",
   "execution_count": 4,
   "outputs": [
    {
     "name": "stdout",
     "output_type": "stream",
     "text": [
      "<class 'pandas.core.frame.DataFrame'>\n",
      "MultiIndex: 5698754 entries, (Timestamp('2010-01-04 00:00:00'), 'A') to (Timestamp('2017-12-29 00:00:00'), 'ZUMZ')\n",
      "Data columns (total 2 columns):\n",
      " #   Column      Dtype  \n",
      "---  ------      -----  \n",
      " 0   adj_close   float64\n",
      " 1   adj_volume  float64\n",
      "dtypes: float64(2)\n",
      "memory usage: 109.5+ MB\n"
     ]
    }
   ],
   "source": [
    "DATA_DIR = Path('data')\n",
    "prices = (pd.read_hdf(DATA_DIR / 'assets.h5', 'quandl/wiki/prices')\n",
    "          .loc[idx['2010':'2017', :], ['adj_close', 'adj_volume']])\n",
    "prices.info()"
   ],
   "metadata": {
    "collapsed": false,
    "pycharm": {
     "name": "#%%\n"
    }
   }
  },
  {
   "cell_type": "code",
   "execution_count": 5,
   "outputs": [
    {
     "name": "stdout",
     "output_type": "stream",
     "text": [
      "<class 'pandas.core.frame.DataFrame'>\n",
      "DatetimeIndex: 2013 entries, 2017-12-29 to 2010-01-04\n",
      "Columns: 500 entries, AAPL to CNC\n",
      "dtypes: float64(500)\n",
      "memory usage: 7.7 MB\n"
     ]
    }
   ],
   "source": [
    "# Select most traded stocks\n",
    "n_dates = len(prices.index.unique('date'))\n",
    "dollar_vol = (prices.adj_close.mul(prices.adj_volume).unstack('ticker')\n",
    "              .dropna(thresh=int(.95 * n_dates), axis=1).rank(ascending=False, axis=1).stack('ticker'))\n",
    "most_traded = dollar_vol.groupby(level='ticker').mean().nsmallest(500).index\n",
    "returns = (prices.loc[idx[:, most_traded], 'adj_close'].unstack('ticker').pct_change()\n",
    "           .sort_index(ascending=False))\n",
    "returns.info()"
   ],
   "metadata": {
    "collapsed": false,
    "pycharm": {
     "name": "#%%\n"
    }
   }
  },
  {
   "cell_type": "code",
   "execution_count": 6,
   "outputs": [
    {
     "data": {
      "text/plain": "ticker          AAPL       BAC     GOOGL      MSFT      AMZN         C  \\\ndate                                                                     \n2010-01-15 -0.016712 -0.033294 -0.016699 -0.003230 -0.001649 -0.025641   \n2010-01-14 -0.005792  0.012034  0.004701  0.020099 -0.013632  0.002857   \n2010-01-13  0.014106  0.015892 -0.005741  0.009312  0.013820 -0.005682   \n2010-01-12 -0.011375 -0.033668 -0.017684 -0.006607 -0.022700 -0.030303   \n2010-01-11 -0.008822  0.008939 -0.001512 -0.012720 -0.024056  0.011142   \n2010-01-08  0.006648 -0.008860  0.013331  0.006830  0.027077 -0.016438   \n2010-01-07 -0.001849  0.032947 -0.023280 -0.010335 -0.017013  0.002747   \n2010-01-06 -0.015906  0.011728 -0.025209 -0.006137 -0.018116  0.031161   \n2010-01-05  0.001729  0.032505 -0.004404  0.000323  0.005900  0.038235   \n2010-01-04       NaN       NaN       NaN       NaN       NaN       NaN   \n\nticker           XOM       JPM        GE      INTC  ...       FRT      CDNS  \\\ndate                                                ...                       \n2010-01-15 -0.008180 -0.022600 -0.015569 -0.031657  ...  0.008054 -0.015823   \n2010-01-14  0.000144  0.009944 -0.007724  0.024809  ... -0.004011 -0.010955   \n2010-01-13 -0.004003  0.017475  0.003578  0.017081  ...  0.019845  0.030645   \n2010-01-12 -0.004979 -0.023355  0.000597 -0.016325  ... -0.017123 -0.022082   \n2010-01-11  0.011220 -0.003357  0.009639  0.005761  ...  0.012513  0.000000   \n2010-01-08 -0.004011 -0.002456  0.021538  0.011165  ... -0.006292  0.014400   \n2010-01-07 -0.003142  0.019809  0.051780 -0.009615  ... -0.000300  0.019576   \n2010-01-06  0.008643  0.005495 -0.005151 -0.003354  ... -0.002689  0.011551   \n2010-01-05  0.003905  0.019370  0.005178 -0.000479  ... -0.001193 -0.009804   \n2010-01-04       NaN       NaN       NaN       NaN  ...       NaN       NaN   \n\nticker          GRMN       FNF      FTNT       EAT      ATHN      RGLD  \\\ndate                                                                     \n2010-01-15 -0.001705 -0.007407 -0.013568 -0.017476 -0.009643 -0.017277   \n2010-01-14  0.014999 -0.004425  0.023663  0.043214 -0.002187 -0.015372   \n2010-01-13  0.025436  0.023396 -0.017686  0.024205  0.041211  0.007225   \n2010-01-12 -0.013998  0.000755 -0.012968  0.000692 -0.042929 -0.031587   \n2010-01-11  0.014797  0.008378 -0.002984  0.001386 -0.027548  0.007452   \n2010-01-08  0.050357 -0.000761  0.033933 -0.017699 -0.003590  0.026463   \n2010-01-07  0.004685 -0.016467  0.002061  0.000681 -0.001055 -0.007795   \n2010-01-06 -0.007440  0.021407  0.055465  0.022284  0.010874  0.018383   \n2010-01-05  0.002486 -0.038942  0.021667 -0.019126  0.005790 -0.002708   \n2010-01-04       NaN       NaN       NaN       NaN       NaN       NaN   \n\nticker           MTD       CNC  \ndate                            \n2010-01-15 -0.026296  0.001818  \n2010-01-14  0.008255  0.013825  \n2010-01-13  0.013584  0.017824  \n2010-01-12 -0.014168 -0.003738  \n2010-01-11  0.008909 -0.007881  \n2010-01-08  0.016926 -0.010096  \n2010-01-07 -0.017317  0.024929  \n2010-01-06 -0.007670  0.011899  \n2010-01-05 -0.024991 -0.031797  \n2010-01-04       NaN       NaN  \n\n[10 rows x 500 columns]",
      "text/html": "<div>\n<style scoped>\n    .dataframe tbody tr th:only-of-type {\n        vertical-align: middle;\n    }\n\n    .dataframe tbody tr th {\n        vertical-align: top;\n    }\n\n    .dataframe thead th {\n        text-align: right;\n    }\n</style>\n<table border=\"1\" class=\"dataframe\">\n  <thead>\n    <tr style=\"text-align: right;\">\n      <th>ticker</th>\n      <th>AAPL</th>\n      <th>BAC</th>\n      <th>GOOGL</th>\n      <th>MSFT</th>\n      <th>AMZN</th>\n      <th>C</th>\n      <th>XOM</th>\n      <th>JPM</th>\n      <th>GE</th>\n      <th>INTC</th>\n      <th>...</th>\n      <th>FRT</th>\n      <th>CDNS</th>\n      <th>GRMN</th>\n      <th>FNF</th>\n      <th>FTNT</th>\n      <th>EAT</th>\n      <th>ATHN</th>\n      <th>RGLD</th>\n      <th>MTD</th>\n      <th>CNC</th>\n    </tr>\n    <tr>\n      <th>date</th>\n      <th></th>\n      <th></th>\n      <th></th>\n      <th></th>\n      <th></th>\n      <th></th>\n      <th></th>\n      <th></th>\n      <th></th>\n      <th></th>\n      <th></th>\n      <th></th>\n      <th></th>\n      <th></th>\n      <th></th>\n      <th></th>\n      <th></th>\n      <th></th>\n      <th></th>\n      <th></th>\n      <th></th>\n    </tr>\n  </thead>\n  <tbody>\n    <tr>\n      <th>2010-01-15</th>\n      <td>-0.016712</td>\n      <td>-0.033294</td>\n      <td>-0.016699</td>\n      <td>-0.003230</td>\n      <td>-0.001649</td>\n      <td>-0.025641</td>\n      <td>-0.008180</td>\n      <td>-0.022600</td>\n      <td>-0.015569</td>\n      <td>-0.031657</td>\n      <td>...</td>\n      <td>0.008054</td>\n      <td>-0.015823</td>\n      <td>-0.001705</td>\n      <td>-0.007407</td>\n      <td>-0.013568</td>\n      <td>-0.017476</td>\n      <td>-0.009643</td>\n      <td>-0.017277</td>\n      <td>-0.026296</td>\n      <td>0.001818</td>\n    </tr>\n    <tr>\n      <th>2010-01-14</th>\n      <td>-0.005792</td>\n      <td>0.012034</td>\n      <td>0.004701</td>\n      <td>0.020099</td>\n      <td>-0.013632</td>\n      <td>0.002857</td>\n      <td>0.000144</td>\n      <td>0.009944</td>\n      <td>-0.007724</td>\n      <td>0.024809</td>\n      <td>...</td>\n      <td>-0.004011</td>\n      <td>-0.010955</td>\n      <td>0.014999</td>\n      <td>-0.004425</td>\n      <td>0.023663</td>\n      <td>0.043214</td>\n      <td>-0.002187</td>\n      <td>-0.015372</td>\n      <td>0.008255</td>\n      <td>0.013825</td>\n    </tr>\n    <tr>\n      <th>2010-01-13</th>\n      <td>0.014106</td>\n      <td>0.015892</td>\n      <td>-0.005741</td>\n      <td>0.009312</td>\n      <td>0.013820</td>\n      <td>-0.005682</td>\n      <td>-0.004003</td>\n      <td>0.017475</td>\n      <td>0.003578</td>\n      <td>0.017081</td>\n      <td>...</td>\n      <td>0.019845</td>\n      <td>0.030645</td>\n      <td>0.025436</td>\n      <td>0.023396</td>\n      <td>-0.017686</td>\n      <td>0.024205</td>\n      <td>0.041211</td>\n      <td>0.007225</td>\n      <td>0.013584</td>\n      <td>0.017824</td>\n    </tr>\n    <tr>\n      <th>2010-01-12</th>\n      <td>-0.011375</td>\n      <td>-0.033668</td>\n      <td>-0.017684</td>\n      <td>-0.006607</td>\n      <td>-0.022700</td>\n      <td>-0.030303</td>\n      <td>-0.004979</td>\n      <td>-0.023355</td>\n      <td>0.000597</td>\n      <td>-0.016325</td>\n      <td>...</td>\n      <td>-0.017123</td>\n      <td>-0.022082</td>\n      <td>-0.013998</td>\n      <td>0.000755</td>\n      <td>-0.012968</td>\n      <td>0.000692</td>\n      <td>-0.042929</td>\n      <td>-0.031587</td>\n      <td>-0.014168</td>\n      <td>-0.003738</td>\n    </tr>\n    <tr>\n      <th>2010-01-11</th>\n      <td>-0.008822</td>\n      <td>0.008939</td>\n      <td>-0.001512</td>\n      <td>-0.012720</td>\n      <td>-0.024056</td>\n      <td>0.011142</td>\n      <td>0.011220</td>\n      <td>-0.003357</td>\n      <td>0.009639</td>\n      <td>0.005761</td>\n      <td>...</td>\n      <td>0.012513</td>\n      <td>0.000000</td>\n      <td>0.014797</td>\n      <td>0.008378</td>\n      <td>-0.002984</td>\n      <td>0.001386</td>\n      <td>-0.027548</td>\n      <td>0.007452</td>\n      <td>0.008909</td>\n      <td>-0.007881</td>\n    </tr>\n    <tr>\n      <th>2010-01-08</th>\n      <td>0.006648</td>\n      <td>-0.008860</td>\n      <td>0.013331</td>\n      <td>0.006830</td>\n      <td>0.027077</td>\n      <td>-0.016438</td>\n      <td>-0.004011</td>\n      <td>-0.002456</td>\n      <td>0.021538</td>\n      <td>0.011165</td>\n      <td>...</td>\n      <td>-0.006292</td>\n      <td>0.014400</td>\n      <td>0.050357</td>\n      <td>-0.000761</td>\n      <td>0.033933</td>\n      <td>-0.017699</td>\n      <td>-0.003590</td>\n      <td>0.026463</td>\n      <td>0.016926</td>\n      <td>-0.010096</td>\n    </tr>\n    <tr>\n      <th>2010-01-07</th>\n      <td>-0.001849</td>\n      <td>0.032947</td>\n      <td>-0.023280</td>\n      <td>-0.010335</td>\n      <td>-0.017013</td>\n      <td>0.002747</td>\n      <td>-0.003142</td>\n      <td>0.019809</td>\n      <td>0.051780</td>\n      <td>-0.009615</td>\n      <td>...</td>\n      <td>-0.000300</td>\n      <td>0.019576</td>\n      <td>0.004685</td>\n      <td>-0.016467</td>\n      <td>0.002061</td>\n      <td>0.000681</td>\n      <td>-0.001055</td>\n      <td>-0.007795</td>\n      <td>-0.017317</td>\n      <td>0.024929</td>\n    </tr>\n    <tr>\n      <th>2010-01-06</th>\n      <td>-0.015906</td>\n      <td>0.011728</td>\n      <td>-0.025209</td>\n      <td>-0.006137</td>\n      <td>-0.018116</td>\n      <td>0.031161</td>\n      <td>0.008643</td>\n      <td>0.005495</td>\n      <td>-0.005151</td>\n      <td>-0.003354</td>\n      <td>...</td>\n      <td>-0.002689</td>\n      <td>0.011551</td>\n      <td>-0.007440</td>\n      <td>0.021407</td>\n      <td>0.055465</td>\n      <td>0.022284</td>\n      <td>0.010874</td>\n      <td>0.018383</td>\n      <td>-0.007670</td>\n      <td>0.011899</td>\n    </tr>\n    <tr>\n      <th>2010-01-05</th>\n      <td>0.001729</td>\n      <td>0.032505</td>\n      <td>-0.004404</td>\n      <td>0.000323</td>\n      <td>0.005900</td>\n      <td>0.038235</td>\n      <td>0.003905</td>\n      <td>0.019370</td>\n      <td>0.005178</td>\n      <td>-0.000479</td>\n      <td>...</td>\n      <td>-0.001193</td>\n      <td>-0.009804</td>\n      <td>0.002486</td>\n      <td>-0.038942</td>\n      <td>0.021667</td>\n      <td>-0.019126</td>\n      <td>0.005790</td>\n      <td>-0.002708</td>\n      <td>-0.024991</td>\n      <td>-0.031797</td>\n    </tr>\n    <tr>\n      <th>2010-01-04</th>\n      <td>NaN</td>\n      <td>NaN</td>\n      <td>NaN</td>\n      <td>NaN</td>\n      <td>NaN</td>\n      <td>NaN</td>\n      <td>NaN</td>\n      <td>NaN</td>\n      <td>NaN</td>\n      <td>NaN</td>\n      <td>...</td>\n      <td>NaN</td>\n      <td>NaN</td>\n      <td>NaN</td>\n      <td>NaN</td>\n      <td>NaN</td>\n      <td>NaN</td>\n      <td>NaN</td>\n      <td>NaN</td>\n      <td>NaN</td>\n      <td>NaN</td>\n    </tr>\n  </tbody>\n</table>\n<p>10 rows × 500 columns</p>\n</div>"
     },
     "execution_count": 6,
     "metadata": {},
     "output_type": "execute_result"
    }
   ],
   "source": [
    "returns.tail(10)"
   ],
   "metadata": {
    "collapsed": false,
    "pycharm": {
     "name": "#%%\n"
    }
   }
  },
  {
   "cell_type": "code",
   "execution_count": 7,
   "outputs": [
    {
     "name": "stdout",
     "output_type": "stream",
     "text": [
      "<class 'pandas.core.frame.DataFrame'>\n",
      "MultiIndex: 995499 entries, ('A', Timestamp('2010-02-04 00:00:00')) to ('ZION', Timestamp('2017-12-29 00:00:00'))\n",
      "Data columns (total 22 columns):\n",
      " #   Column  Non-Null Count   Dtype  \n",
      "---  ------  --------------   -----  \n",
      " 0   label   995499 non-null  float64\n",
      " 1   1       995499 non-null  float64\n",
      " 2   2       995499 non-null  float64\n",
      " 3   3       995499 non-null  float64\n",
      " 4   4       995499 non-null  float64\n",
      " 5   5       995499 non-null  float64\n",
      " 6   6       995499 non-null  float64\n",
      " 7   7       995499 non-null  float64\n",
      " 8   8       995499 non-null  float64\n",
      " 9   9       995499 non-null  float64\n",
      " 10  10      995499 non-null  float64\n",
      " 11  11      995499 non-null  float64\n",
      " 12  12      995499 non-null  float64\n",
      " 13  13      995499 non-null  float64\n",
      " 14  14      995499 non-null  float64\n",
      " 15  15      995499 non-null  float64\n",
      " 16  16      995499 non-null  float64\n",
      " 17  17      995499 non-null  float64\n",
      " 18  18      995499 non-null  float64\n",
      " 19  19      995499 non-null  float64\n",
      " 20  20      995499 non-null  float64\n",
      " 21  21      995499 non-null  float64\n",
      "dtypes: float64(22)\n",
      "memory usage: 171.0+ MB\n"
     ]
    }
   ],
   "source": [
    "# Stack 21-day time series\n",
    "n = len(returns)\n",
    "T = 21 # days\n",
    "tcols = list(range(T))\n",
    "tickers = returns.columns\n",
    "data = pd.DataFrame()\n",
    "for i in range(n-T-1):\n",
    "    df = returns.iloc[i:i+T+1]\n",
    "    date = df.index.max()\n",
    "    data = pd.concat([data, df.reset_index(drop=True).T.assign(date=date, ticker=tickers)\n",
    "                      .set_index(['ticker', 'date'])])\n",
    "data = data.rename(columns={0: 'label'}).sort_index().dropna()\n",
    "data.loc[:, tcols[1:]] = (data.loc[:, tcols[1:]].apply(lambda x: x.clip(lower=x.quantile(.01),\n",
    "                                                  upper=x.quantile(.99))))\n",
    "data.info()"
   ],
   "metadata": {
    "collapsed": false,
    "pycharm": {
     "name": "#%%\n"
    }
   }
  },
  {
   "cell_type": "code",
   "execution_count": 8,
   "outputs": [
    {
     "data": {
      "text/plain": "                      label         1         2         3         4         5  \\\nticker date                                                                     \nA      2010-02-04 -0.015911  0.001356  0.012702  0.039244 -0.023005 -0.016455   \n       2010-02-05  0.003440 -0.015911  0.001356  0.012702  0.039244 -0.023005   \n       2010-02-08  0.001028  0.003440 -0.015911  0.001356  0.012702  0.039244   \n       2010-02-09  0.007192  0.001028  0.003440 -0.015911  0.001356  0.012702   \n       2010-02-10 -0.005440  0.007192  0.001028  0.003440 -0.015911  0.001356   \n       2010-02-11  0.003761 -0.005440  0.007192  0.001028  0.003440 -0.015911   \n       2010-02-12  0.021117  0.003761 -0.005440  0.007192  0.001028  0.003440   \n       2010-02-16  0.009006  0.021117  0.003761 -0.005440  0.007192  0.001028   \n       2010-02-17  0.012562  0.009006  0.021117  0.003761 -0.005440  0.007192   \n       2010-02-18  0.011427  0.012562  0.009006  0.021117  0.003761 -0.005440   \n\n                          6         7         8         9  ...        12  \\\nticker date                                                ...             \nA      2010-02-04 -0.004097 -0.005433  0.009599 -0.044233  ...  0.012159   \n       2010-02-05 -0.016455 -0.004097 -0.005433  0.009599  ... -0.005519   \n       2010-02-08 -0.023005 -0.016455 -0.004097 -0.005433  ... -0.003591   \n       2010-02-09  0.039244 -0.023005 -0.016455 -0.004097  ... -0.044233   \n       2010-02-10  0.012702  0.039244 -0.023005 -0.016455  ...  0.009599   \n       2010-02-11  0.001356  0.012702  0.039244 -0.023005  ... -0.005433   \n       2010-02-12 -0.015911  0.001356  0.012702  0.039244  ... -0.004097   \n       2010-02-16  0.003440 -0.015911  0.001356  0.012702  ... -0.016455   \n       2010-02-17  0.001028  0.003440 -0.015911  0.001356  ... -0.023005   \n       2010-02-18  0.007192  0.001028  0.003440 -0.015911  ...  0.039244   \n\n                         13        14        15        16        17        18  \\\nticker date                                                                     \nA      2010-02-04 -0.023114  0.014989  0.007882 -0.012005  0.000649 -0.000325   \n       2010-02-05  0.012159 -0.023114  0.014989  0.007882 -0.012005  0.000649   \n       2010-02-08 -0.005519  0.012159 -0.023114  0.014989  0.007882 -0.012005   \n       2010-02-09 -0.003591 -0.005519  0.012159 -0.023114  0.014989  0.007882   \n       2010-02-10 -0.044233 -0.003591 -0.005519  0.012159 -0.023114  0.014989   \n       2010-02-11  0.009599 -0.044233 -0.003591 -0.005519  0.012159 -0.023114   \n       2010-02-12 -0.005433  0.009599 -0.044233 -0.003591 -0.005519  0.012159   \n       2010-02-16 -0.004097 -0.005433  0.009599 -0.044233 -0.003591 -0.005519   \n       2010-02-17 -0.016455 -0.004097 -0.005433  0.009599 -0.044233 -0.003591   \n       2010-02-18 -0.023005 -0.016455 -0.004097 -0.005433  0.009599 -0.044233   \n\n                         19        20        21  \nticker date                                      \nA      2010-02-04 -0.001297 -0.003553 -0.010863  \n       2010-02-05 -0.000325 -0.001297 -0.003553  \n       2010-02-08  0.000649 -0.000325 -0.001297  \n       2010-02-09 -0.012005  0.000649 -0.000325  \n       2010-02-10  0.007882 -0.012005  0.000649  \n       2010-02-11  0.014989  0.007882 -0.012005  \n       2010-02-12 -0.023114  0.014989  0.007882  \n       2010-02-16  0.012159 -0.023114  0.014989  \n       2010-02-17 -0.005519  0.012159 -0.023114  \n       2010-02-18 -0.003591 -0.005519  0.012159  \n\n[10 rows x 22 columns]",
      "text/html": "<div>\n<style scoped>\n    .dataframe tbody tr th:only-of-type {\n        vertical-align: middle;\n    }\n\n    .dataframe tbody tr th {\n        vertical-align: top;\n    }\n\n    .dataframe thead th {\n        text-align: right;\n    }\n</style>\n<table border=\"1\" class=\"dataframe\">\n  <thead>\n    <tr style=\"text-align: right;\">\n      <th></th>\n      <th></th>\n      <th>label</th>\n      <th>1</th>\n      <th>2</th>\n      <th>3</th>\n      <th>4</th>\n      <th>5</th>\n      <th>6</th>\n      <th>7</th>\n      <th>8</th>\n      <th>9</th>\n      <th>...</th>\n      <th>12</th>\n      <th>13</th>\n      <th>14</th>\n      <th>15</th>\n      <th>16</th>\n      <th>17</th>\n      <th>18</th>\n      <th>19</th>\n      <th>20</th>\n      <th>21</th>\n    </tr>\n    <tr>\n      <th>ticker</th>\n      <th>date</th>\n      <th></th>\n      <th></th>\n      <th></th>\n      <th></th>\n      <th></th>\n      <th></th>\n      <th></th>\n      <th></th>\n      <th></th>\n      <th></th>\n      <th></th>\n      <th></th>\n      <th></th>\n      <th></th>\n      <th></th>\n      <th></th>\n      <th></th>\n      <th></th>\n      <th></th>\n      <th></th>\n      <th></th>\n    </tr>\n  </thead>\n  <tbody>\n    <tr>\n      <th rowspan=\"10\" valign=\"top\">A</th>\n      <th>2010-02-04</th>\n      <td>-0.015911</td>\n      <td>0.001356</td>\n      <td>0.012702</td>\n      <td>0.039244</td>\n      <td>-0.023005</td>\n      <td>-0.016455</td>\n      <td>-0.004097</td>\n      <td>-0.005433</td>\n      <td>0.009599</td>\n      <td>-0.044233</td>\n      <td>...</td>\n      <td>0.012159</td>\n      <td>-0.023114</td>\n      <td>0.014989</td>\n      <td>0.007882</td>\n      <td>-0.012005</td>\n      <td>0.000649</td>\n      <td>-0.000325</td>\n      <td>-0.001297</td>\n      <td>-0.003553</td>\n      <td>-0.010863</td>\n    </tr>\n    <tr>\n      <th>2010-02-05</th>\n      <td>0.003440</td>\n      <td>-0.015911</td>\n      <td>0.001356</td>\n      <td>0.012702</td>\n      <td>0.039244</td>\n      <td>-0.023005</td>\n      <td>-0.016455</td>\n      <td>-0.004097</td>\n      <td>-0.005433</td>\n      <td>0.009599</td>\n      <td>...</td>\n      <td>-0.005519</td>\n      <td>0.012159</td>\n      <td>-0.023114</td>\n      <td>0.014989</td>\n      <td>0.007882</td>\n      <td>-0.012005</td>\n      <td>0.000649</td>\n      <td>-0.000325</td>\n      <td>-0.001297</td>\n      <td>-0.003553</td>\n    </tr>\n    <tr>\n      <th>2010-02-08</th>\n      <td>0.001028</td>\n      <td>0.003440</td>\n      <td>-0.015911</td>\n      <td>0.001356</td>\n      <td>0.012702</td>\n      <td>0.039244</td>\n      <td>-0.023005</td>\n      <td>-0.016455</td>\n      <td>-0.004097</td>\n      <td>-0.005433</td>\n      <td>...</td>\n      <td>-0.003591</td>\n      <td>-0.005519</td>\n      <td>0.012159</td>\n      <td>-0.023114</td>\n      <td>0.014989</td>\n      <td>0.007882</td>\n      <td>-0.012005</td>\n      <td>0.000649</td>\n      <td>-0.000325</td>\n      <td>-0.001297</td>\n    </tr>\n    <tr>\n      <th>2010-02-09</th>\n      <td>0.007192</td>\n      <td>0.001028</td>\n      <td>0.003440</td>\n      <td>-0.015911</td>\n      <td>0.001356</td>\n      <td>0.012702</td>\n      <td>0.039244</td>\n      <td>-0.023005</td>\n      <td>-0.016455</td>\n      <td>-0.004097</td>\n      <td>...</td>\n      <td>-0.044233</td>\n      <td>-0.003591</td>\n      <td>-0.005519</td>\n      <td>0.012159</td>\n      <td>-0.023114</td>\n      <td>0.014989</td>\n      <td>0.007882</td>\n      <td>-0.012005</td>\n      <td>0.000649</td>\n      <td>-0.000325</td>\n    </tr>\n    <tr>\n      <th>2010-02-10</th>\n      <td>-0.005440</td>\n      <td>0.007192</td>\n      <td>0.001028</td>\n      <td>0.003440</td>\n      <td>-0.015911</td>\n      <td>0.001356</td>\n      <td>0.012702</td>\n      <td>0.039244</td>\n      <td>-0.023005</td>\n      <td>-0.016455</td>\n      <td>...</td>\n      <td>0.009599</td>\n      <td>-0.044233</td>\n      <td>-0.003591</td>\n      <td>-0.005519</td>\n      <td>0.012159</td>\n      <td>-0.023114</td>\n      <td>0.014989</td>\n      <td>0.007882</td>\n      <td>-0.012005</td>\n      <td>0.000649</td>\n    </tr>\n    <tr>\n      <th>2010-02-11</th>\n      <td>0.003761</td>\n      <td>-0.005440</td>\n      <td>0.007192</td>\n      <td>0.001028</td>\n      <td>0.003440</td>\n      <td>-0.015911</td>\n      <td>0.001356</td>\n      <td>0.012702</td>\n      <td>0.039244</td>\n      <td>-0.023005</td>\n      <td>...</td>\n      <td>-0.005433</td>\n      <td>0.009599</td>\n      <td>-0.044233</td>\n      <td>-0.003591</td>\n      <td>-0.005519</td>\n      <td>0.012159</td>\n      <td>-0.023114</td>\n      <td>0.014989</td>\n      <td>0.007882</td>\n      <td>-0.012005</td>\n    </tr>\n    <tr>\n      <th>2010-02-12</th>\n      <td>0.021117</td>\n      <td>0.003761</td>\n      <td>-0.005440</td>\n      <td>0.007192</td>\n      <td>0.001028</td>\n      <td>0.003440</td>\n      <td>-0.015911</td>\n      <td>0.001356</td>\n      <td>0.012702</td>\n      <td>0.039244</td>\n      <td>...</td>\n      <td>-0.004097</td>\n      <td>-0.005433</td>\n      <td>0.009599</td>\n      <td>-0.044233</td>\n      <td>-0.003591</td>\n      <td>-0.005519</td>\n      <td>0.012159</td>\n      <td>-0.023114</td>\n      <td>0.014989</td>\n      <td>0.007882</td>\n    </tr>\n    <tr>\n      <th>2010-02-16</th>\n      <td>0.009006</td>\n      <td>0.021117</td>\n      <td>0.003761</td>\n      <td>-0.005440</td>\n      <td>0.007192</td>\n      <td>0.001028</td>\n      <td>0.003440</td>\n      <td>-0.015911</td>\n      <td>0.001356</td>\n      <td>0.012702</td>\n      <td>...</td>\n      <td>-0.016455</td>\n      <td>-0.004097</td>\n      <td>-0.005433</td>\n      <td>0.009599</td>\n      <td>-0.044233</td>\n      <td>-0.003591</td>\n      <td>-0.005519</td>\n      <td>0.012159</td>\n      <td>-0.023114</td>\n      <td>0.014989</td>\n    </tr>\n    <tr>\n      <th>2010-02-17</th>\n      <td>0.012562</td>\n      <td>0.009006</td>\n      <td>0.021117</td>\n      <td>0.003761</td>\n      <td>-0.005440</td>\n      <td>0.007192</td>\n      <td>0.001028</td>\n      <td>0.003440</td>\n      <td>-0.015911</td>\n      <td>0.001356</td>\n      <td>...</td>\n      <td>-0.023005</td>\n      <td>-0.016455</td>\n      <td>-0.004097</td>\n      <td>-0.005433</td>\n      <td>0.009599</td>\n      <td>-0.044233</td>\n      <td>-0.003591</td>\n      <td>-0.005519</td>\n      <td>0.012159</td>\n      <td>-0.023114</td>\n    </tr>\n    <tr>\n      <th>2010-02-18</th>\n      <td>0.011427</td>\n      <td>0.012562</td>\n      <td>0.009006</td>\n      <td>0.021117</td>\n      <td>0.003761</td>\n      <td>-0.005440</td>\n      <td>0.007192</td>\n      <td>0.001028</td>\n      <td>0.003440</td>\n      <td>-0.015911</td>\n      <td>...</td>\n      <td>0.039244</td>\n      <td>-0.023005</td>\n      <td>-0.016455</td>\n      <td>-0.004097</td>\n      <td>-0.005433</td>\n      <td>0.009599</td>\n      <td>-0.044233</td>\n      <td>-0.003591</td>\n      <td>-0.005519</td>\n      <td>0.012159</td>\n    </tr>\n  </tbody>\n</table>\n<p>10 rows × 22 columns</p>\n</div>"
     },
     "execution_count": 8,
     "metadata": {},
     "output_type": "execute_result"
    }
   ],
   "source": [
    "data.head(10)"
   ],
   "metadata": {
    "collapsed": false,
    "pycharm": {
     "name": "#%%\n"
    }
   }
  },
  {
   "cell_type": "code",
   "execution_count": 9,
   "outputs": [
    {
     "data": {
      "text/plain": "(995499, 22)"
     },
     "execution_count": 9,
     "metadata": {},
     "output_type": "execute_result"
    }
   ],
   "source": [
    "data.shape"
   ],
   "metadata": {
    "collapsed": false,
    "pycharm": {
     "name": "#%%\n"
    }
   }
  },
  {
   "cell_type": "code",
   "execution_count": 6,
   "outputs": [],
   "source": [
    "data.to_hdf('rnn_data.h5', 'returns_daily')"
   ],
   "metadata": {
    "collapsed": false,
    "pycharm": {
     "name": "#%%\n"
    }
   }
  },
  {
   "cell_type": "code",
   "execution_count": 10,
   "outputs": [
    {
     "name": "stdout",
     "output_type": "stream",
     "text": [
      "<class 'pandas.core.frame.DataFrame'>\n",
      "DatetimeIndex: 2896 entries, 2007-01-01 to 2018-03-27\n",
      "Columns: 3199 entries, A to ZUMZ\n",
      "dtypes: float64(3199)\n",
      "memory usage: 70.7 MB\n"
     ]
    }
   ],
   "source": [
    "# Build weekly dataset\n",
    "prices = (pd.read_hdf(DATA_DIR / 'assets.h5', 'quandl/wiki/prices').adj_close.unstack().loc['2007':])\n",
    "prices.info()"
   ],
   "metadata": {
    "collapsed": false,
    "pycharm": {
     "name": "#%%\n"
    }
   }
  },
  {
   "cell_type": "code",
   "execution_count": 11,
   "outputs": [
    {
     "data": {
      "text/plain": "ticker              A  AA        AAL    AAMC        AAN   AAOI       AAON  \\\ndate                                                                        \n2007-07-17  27.153179 NaN  91.721476     NaN  16.551349    NaN   5.954568   \n2016-07-27  46.691791 NaN  35.771299   13.03  22.805042  12.74  26.350613   \n2013-09-20  36.134688 NaN  49.082682  365.41  27.096127    NaN  17.070743   \n2013-07-25  32.330672 NaN  48.926782  320.00  28.135152    NaN  14.978867   \n2014-05-23  39.200531 NaN  37.904693  942.00  32.551478  18.76  20.261686   \n2009-01-30  12.334912 NaN  14.732600     NaN  11.439045    NaN   4.870917   \n2016-06-15  44.284879 NaN  30.128920   16.92  22.446535  10.19  25.824593   \n2011-06-02  32.870356 NaN  23.670897     NaN  27.408453    NaN   8.897639   \n2011-05-11  34.132502 NaN  25.957438     NaN  26.806749    NaN   9.142171   \n2008-03-26  20.460398 NaN  22.163858     NaN  13.052036    NaN   5.433317   \n\nticker             AAP        AAPL        AAT  ...  ZIOP  ZIXI    ZLC   ZLTQ  \\\ndate                                           ...                             \n2007-07-17   38.257252   17.851858        NaN  ...  5.04  2.04  22.99    NaN   \n2016-07-27  164.352880  100.611757  43.312284  ...  5.02  3.93    NaN  33.67   \n2013-09-20   80.094596   61.767655  27.973987  ...  3.28  4.94  14.13   9.60   \n2013-07-25   81.592863   57.566380  30.178821  ...  2.93  4.53   9.30   6.20   \n2014-05-23  122.517507   82.576969  31.424208  ...  3.36  3.31  21.75  15.82   \n2009-01-30   31.870529   11.582961        NaN  ...  0.82  1.30   1.24    NaN   \n2016-06-15  153.288269   94.933716  39.619740  ...  6.12  4.06    NaN  27.90   \n2011-06-02   59.592923   44.478931  18.108518  ...  6.98  3.63   6.35    NaN   \n2011-05-11   67.786827   44.623895  18.291181  ...  6.60  3.50   3.60    NaN   \n2008-03-26   34.026984   18.642232        NaN  ...  2.65  3.88  21.87    NaN   \n\nticker             ZMH   ZNGA   ZOES    ZQK        ZTS   ZUMZ  \ndate                                                           \n2007-07-17   85.420753    NaN    NaN  13.86        NaN  41.34  \n2016-07-27         NaN  2.890  35.48    NaN  49.469502  16.87  \n2013-09-20   81.716214  3.485    NaN   6.82  31.179033  27.31  \n2013-07-25   81.509736  3.500    NaN   6.51  29.497655  28.17  \n2014-05-23  100.831875  3.280  28.83   6.22  29.770519  28.79  \n2009-01-30   35.205111    NaN    NaN   2.10        NaN   7.15  \n2016-06-15         NaN  2.640  37.25    NaN  46.763873  15.00  \n2011-06-02   64.152611    NaN    NaN   4.38        NaN  25.84  \n2011-05-11   66.880040    NaN    NaN   4.74        NaN  28.82  \n2008-03-26   75.497555    NaN    NaN  10.49        NaN  18.15  \n\n[10 rows x 3199 columns]",
      "text/html": "<div>\n<style scoped>\n    .dataframe tbody tr th:only-of-type {\n        vertical-align: middle;\n    }\n\n    .dataframe tbody tr th {\n        vertical-align: top;\n    }\n\n    .dataframe thead th {\n        text-align: right;\n    }\n</style>\n<table border=\"1\" class=\"dataframe\">\n  <thead>\n    <tr style=\"text-align: right;\">\n      <th>ticker</th>\n      <th>A</th>\n      <th>AA</th>\n      <th>AAL</th>\n      <th>AAMC</th>\n      <th>AAN</th>\n      <th>AAOI</th>\n      <th>AAON</th>\n      <th>AAP</th>\n      <th>AAPL</th>\n      <th>AAT</th>\n      <th>...</th>\n      <th>ZIOP</th>\n      <th>ZIXI</th>\n      <th>ZLC</th>\n      <th>ZLTQ</th>\n      <th>ZMH</th>\n      <th>ZNGA</th>\n      <th>ZOES</th>\n      <th>ZQK</th>\n      <th>ZTS</th>\n      <th>ZUMZ</th>\n    </tr>\n    <tr>\n      <th>date</th>\n      <th></th>\n      <th></th>\n      <th></th>\n      <th></th>\n      <th></th>\n      <th></th>\n      <th></th>\n      <th></th>\n      <th></th>\n      <th></th>\n      <th></th>\n      <th></th>\n      <th></th>\n      <th></th>\n      <th></th>\n      <th></th>\n      <th></th>\n      <th></th>\n      <th></th>\n      <th></th>\n      <th></th>\n    </tr>\n  </thead>\n  <tbody>\n    <tr>\n      <th>2007-07-17</th>\n      <td>27.153179</td>\n      <td>NaN</td>\n      <td>91.721476</td>\n      <td>NaN</td>\n      <td>16.551349</td>\n      <td>NaN</td>\n      <td>5.954568</td>\n      <td>38.257252</td>\n      <td>17.851858</td>\n      <td>NaN</td>\n      <td>...</td>\n      <td>5.04</td>\n      <td>2.04</td>\n      <td>22.99</td>\n      <td>NaN</td>\n      <td>85.420753</td>\n      <td>NaN</td>\n      <td>NaN</td>\n      <td>13.86</td>\n      <td>NaN</td>\n      <td>41.34</td>\n    </tr>\n    <tr>\n      <th>2016-07-27</th>\n      <td>46.691791</td>\n      <td>NaN</td>\n      <td>35.771299</td>\n      <td>13.03</td>\n      <td>22.805042</td>\n      <td>12.74</td>\n      <td>26.350613</td>\n      <td>164.352880</td>\n      <td>100.611757</td>\n      <td>43.312284</td>\n      <td>...</td>\n      <td>5.02</td>\n      <td>3.93</td>\n      <td>NaN</td>\n      <td>33.67</td>\n      <td>NaN</td>\n      <td>2.890</td>\n      <td>35.48</td>\n      <td>NaN</td>\n      <td>49.469502</td>\n      <td>16.87</td>\n    </tr>\n    <tr>\n      <th>2013-09-20</th>\n      <td>36.134688</td>\n      <td>NaN</td>\n      <td>49.082682</td>\n      <td>365.41</td>\n      <td>27.096127</td>\n      <td>NaN</td>\n      <td>17.070743</td>\n      <td>80.094596</td>\n      <td>61.767655</td>\n      <td>27.973987</td>\n      <td>...</td>\n      <td>3.28</td>\n      <td>4.94</td>\n      <td>14.13</td>\n      <td>9.60</td>\n      <td>81.716214</td>\n      <td>3.485</td>\n      <td>NaN</td>\n      <td>6.82</td>\n      <td>31.179033</td>\n      <td>27.31</td>\n    </tr>\n    <tr>\n      <th>2013-07-25</th>\n      <td>32.330672</td>\n      <td>NaN</td>\n      <td>48.926782</td>\n      <td>320.00</td>\n      <td>28.135152</td>\n      <td>NaN</td>\n      <td>14.978867</td>\n      <td>81.592863</td>\n      <td>57.566380</td>\n      <td>30.178821</td>\n      <td>...</td>\n      <td>2.93</td>\n      <td>4.53</td>\n      <td>9.30</td>\n      <td>6.20</td>\n      <td>81.509736</td>\n      <td>3.500</td>\n      <td>NaN</td>\n      <td>6.51</td>\n      <td>29.497655</td>\n      <td>28.17</td>\n    </tr>\n    <tr>\n      <th>2014-05-23</th>\n      <td>39.200531</td>\n      <td>NaN</td>\n      <td>37.904693</td>\n      <td>942.00</td>\n      <td>32.551478</td>\n      <td>18.76</td>\n      <td>20.261686</td>\n      <td>122.517507</td>\n      <td>82.576969</td>\n      <td>31.424208</td>\n      <td>...</td>\n      <td>3.36</td>\n      <td>3.31</td>\n      <td>21.75</td>\n      <td>15.82</td>\n      <td>100.831875</td>\n      <td>3.280</td>\n      <td>28.83</td>\n      <td>6.22</td>\n      <td>29.770519</td>\n      <td>28.79</td>\n    </tr>\n    <tr>\n      <th>2009-01-30</th>\n      <td>12.334912</td>\n      <td>NaN</td>\n      <td>14.732600</td>\n      <td>NaN</td>\n      <td>11.439045</td>\n      <td>NaN</td>\n      <td>4.870917</td>\n      <td>31.870529</td>\n      <td>11.582961</td>\n      <td>NaN</td>\n      <td>...</td>\n      <td>0.82</td>\n      <td>1.30</td>\n      <td>1.24</td>\n      <td>NaN</td>\n      <td>35.205111</td>\n      <td>NaN</td>\n      <td>NaN</td>\n      <td>2.10</td>\n      <td>NaN</td>\n      <td>7.15</td>\n    </tr>\n    <tr>\n      <th>2016-06-15</th>\n      <td>44.284879</td>\n      <td>NaN</td>\n      <td>30.128920</td>\n      <td>16.92</td>\n      <td>22.446535</td>\n      <td>10.19</td>\n      <td>25.824593</td>\n      <td>153.288269</td>\n      <td>94.933716</td>\n      <td>39.619740</td>\n      <td>...</td>\n      <td>6.12</td>\n      <td>4.06</td>\n      <td>NaN</td>\n      <td>27.90</td>\n      <td>NaN</td>\n      <td>2.640</td>\n      <td>37.25</td>\n      <td>NaN</td>\n      <td>46.763873</td>\n      <td>15.00</td>\n    </tr>\n    <tr>\n      <th>2011-06-02</th>\n      <td>32.870356</td>\n      <td>NaN</td>\n      <td>23.670897</td>\n      <td>NaN</td>\n      <td>27.408453</td>\n      <td>NaN</td>\n      <td>8.897639</td>\n      <td>59.592923</td>\n      <td>44.478931</td>\n      <td>18.108518</td>\n      <td>...</td>\n      <td>6.98</td>\n      <td>3.63</td>\n      <td>6.35</td>\n      <td>NaN</td>\n      <td>64.152611</td>\n      <td>NaN</td>\n      <td>NaN</td>\n      <td>4.38</td>\n      <td>NaN</td>\n      <td>25.84</td>\n    </tr>\n    <tr>\n      <th>2011-05-11</th>\n      <td>34.132502</td>\n      <td>NaN</td>\n      <td>25.957438</td>\n      <td>NaN</td>\n      <td>26.806749</td>\n      <td>NaN</td>\n      <td>9.142171</td>\n      <td>67.786827</td>\n      <td>44.623895</td>\n      <td>18.291181</td>\n      <td>...</td>\n      <td>6.60</td>\n      <td>3.50</td>\n      <td>3.60</td>\n      <td>NaN</td>\n      <td>66.880040</td>\n      <td>NaN</td>\n      <td>NaN</td>\n      <td>4.74</td>\n      <td>NaN</td>\n      <td>28.82</td>\n    </tr>\n    <tr>\n      <th>2008-03-26</th>\n      <td>20.460398</td>\n      <td>NaN</td>\n      <td>22.163858</td>\n      <td>NaN</td>\n      <td>13.052036</td>\n      <td>NaN</td>\n      <td>5.433317</td>\n      <td>34.026984</td>\n      <td>18.642232</td>\n      <td>NaN</td>\n      <td>...</td>\n      <td>2.65</td>\n      <td>3.88</td>\n      <td>21.87</td>\n      <td>NaN</td>\n      <td>75.497555</td>\n      <td>NaN</td>\n      <td>NaN</td>\n      <td>10.49</td>\n      <td>NaN</td>\n      <td>18.15</td>\n    </tr>\n  </tbody>\n</table>\n<p>10 rows × 3199 columns</p>\n</div>"
     },
     "execution_count": 11,
     "metadata": {},
     "output_type": "execute_result"
    }
   ],
   "source": [
    "prices.sample(10)"
   ],
   "metadata": {
    "collapsed": false,
    "pycharm": {
     "name": "#%%\n"
    }
   }
  },
  {
   "cell_type": "code",
   "execution_count": 12,
   "outputs": [
    {
     "name": "stdout",
     "output_type": "stream",
     "text": [
      "<class 'pandas.core.frame.DataFrame'>\n",
      "DatetimeIndex: 522 entries, 2017-12-31 to 2008-01-06\n",
      "Freq: -1W-SUN\n",
      "Columns: 2489 entries, A to ZUMZ\n",
      "dtypes: float64(2489)\n",
      "memory usage: 9.9 MB\n"
     ]
    }
   ],
   "source": [
    "# Resample to weekly frequency\n",
    "returns = (prices.resample('W').last().pct_change().loc['2008': '2017'].dropna(axis=1)\n",
    "           .sort_index(ascending=False))\n",
    "returns.info()"
   ],
   "metadata": {
    "collapsed": false,
    "pycharm": {
     "name": "#%%\n"
    }
   }
  },
  {
   "cell_type": "code",
   "execution_count": 13,
   "outputs": [
    {
     "data": {
      "text/plain": "ticker             A       AAL       AAN      AAON       AAP      AAPL  \\\ndate                                                                     \n2017-12-31 -0.005642 -0.010648 -0.010184 -0.001361 -0.008553 -0.033027   \n2017-12-24 -0.003846  0.029965  0.090171  0.044034 -0.001490  0.006557   \n2017-12-17  0.003413  0.000784 -0.052591 -0.014006  0.003888  0.026569   \n2017-12-10 -0.019071  0.041012 -0.005359 -0.017882  0.010375 -0.009822   \n2017-12-03 -0.009660  0.009267  0.105501  0.013947  0.112630 -0.022404   \n2008-02-03  0.038265  0.252238  0.002941  0.095182  0.097833  0.028767   \n2008-01-27 -0.013963 -0.048762  0.191310  0.071788  0.043997 -0.194286   \n2008-01-20 -0.065000  0.086627 -0.080541 -0.054762 -0.007176 -0.065609   \n2008-01-13  0.035375 -0.041902 -0.037818 -0.046538 -0.101486 -0.040878   \n2008-01-06 -0.072553 -0.156356 -0.068707 -0.133301 -0.065496 -0.098984   \n\nticker          AAWW      ABAX       ABC      ABCB  ...      ZEUS      ZIGO  \\\ndate                                                ...                       \n2017-12-31 -0.024938 -0.001814 -0.006922 -0.019329  ... -0.029797  0.000000   \n2017-12-24  0.046087  0.032681 -0.007620  0.017598  ...  0.032153  0.000000   \n2017-12-17  0.004367  0.008396  0.074625  0.026567  ...  0.036715  0.000000   \n2017-12-10 -0.028014 -0.010386  0.020600 -0.054271  ... -0.002410  0.000000   \n2017-12-03  0.073838 -0.028456  0.045796  0.024717  ...  0.065742  0.000000   \n2008-02-03  0.006245 -0.078058  0.036913  0.083217  ...  0.137066  0.127561   \n2008-01-27 -0.008984 -0.090807 -0.034771  0.054572  ...  0.018349 -0.026292   \n2008-01-20  0.015818 -0.019721 -0.015219 -0.044397  ...  0.040573  0.010999   \n2008-01-13 -0.052095  0.097385  0.080137 -0.017313  ... -0.054176 -0.047993   \n2008-01-06 -0.029478 -0.098374 -0.037363 -0.132733  ... -0.027290 -0.075806   \n\nticker          ZINC      ZION      ZIOP      ZIXI       ZLC       ZMH  \\\ndate                                                                     \n2017-12-31  0.000000 -0.009741  0.022222 -0.015730  0.000000  0.000000   \n2017-12-24  0.000000  0.026395 -0.068966 -0.024123  0.000000  0.000000   \n2017-12-17  0.000000 -0.018064 -0.018059  0.075472  0.000000  0.000000   \n2017-12-10  0.000000  0.016973 -0.015556 -0.055679  0.000000  0.000000   \n2017-12-03  0.000000  0.080475  0.014656 -0.006637  0.000000  0.000000   \n2008-02-03  0.286550  0.167722 -0.087879  0.069364  0.171949  0.193189   \n2008-01-27 -0.046975  0.136418 -0.003021  0.145695  0.042164 -0.014553   \n2008-01-20 -0.167109 -0.051614 -0.054286 -0.124638  0.037172 -0.037312   \n2008-01-13 -0.102381  0.037264 -0.022346 -0.172662  0.011799  0.051880   \n2008-01-06 -0.004739 -0.081058  0.101538 -0.143737 -0.134100  0.000752   \n\nticker           ZQK      ZUMZ  \ndate                            \n2017-12-31  0.000000 -0.029138  \n2017-12-24  0.000000  0.067164  \n2017-12-17  0.000000 -0.051887  \n2017-12-10  0.000000  0.062657  \n2017-12-03  0.000000  0.047244  \n2008-02-03  0.127811  0.149083  \n2008-01-27  0.141892  0.118666  \n2008-01-20 -0.030144 -0.076969  \n2008-01-13  0.018692 -0.094249  \n2008-01-06 -0.133102 -0.269012  \n\n[10 rows x 2489 columns]",
      "text/html": "<div>\n<style scoped>\n    .dataframe tbody tr th:only-of-type {\n        vertical-align: middle;\n    }\n\n    .dataframe tbody tr th {\n        vertical-align: top;\n    }\n\n    .dataframe thead th {\n        text-align: right;\n    }\n</style>\n<table border=\"1\" class=\"dataframe\">\n  <thead>\n    <tr style=\"text-align: right;\">\n      <th>ticker</th>\n      <th>A</th>\n      <th>AAL</th>\n      <th>AAN</th>\n      <th>AAON</th>\n      <th>AAP</th>\n      <th>AAPL</th>\n      <th>AAWW</th>\n      <th>ABAX</th>\n      <th>ABC</th>\n      <th>ABCB</th>\n      <th>...</th>\n      <th>ZEUS</th>\n      <th>ZIGO</th>\n      <th>ZINC</th>\n      <th>ZION</th>\n      <th>ZIOP</th>\n      <th>ZIXI</th>\n      <th>ZLC</th>\n      <th>ZMH</th>\n      <th>ZQK</th>\n      <th>ZUMZ</th>\n    </tr>\n    <tr>\n      <th>date</th>\n      <th></th>\n      <th></th>\n      <th></th>\n      <th></th>\n      <th></th>\n      <th></th>\n      <th></th>\n      <th></th>\n      <th></th>\n      <th></th>\n      <th></th>\n      <th></th>\n      <th></th>\n      <th></th>\n      <th></th>\n      <th></th>\n      <th></th>\n      <th></th>\n      <th></th>\n      <th></th>\n      <th></th>\n    </tr>\n  </thead>\n  <tbody>\n    <tr>\n      <th>2017-12-31</th>\n      <td>-0.005642</td>\n      <td>-0.010648</td>\n      <td>-0.010184</td>\n      <td>-0.001361</td>\n      <td>-0.008553</td>\n      <td>-0.033027</td>\n      <td>-0.024938</td>\n      <td>-0.001814</td>\n      <td>-0.006922</td>\n      <td>-0.019329</td>\n      <td>...</td>\n      <td>-0.029797</td>\n      <td>0.000000</td>\n      <td>0.000000</td>\n      <td>-0.009741</td>\n      <td>0.022222</td>\n      <td>-0.015730</td>\n      <td>0.000000</td>\n      <td>0.000000</td>\n      <td>0.000000</td>\n      <td>-0.029138</td>\n    </tr>\n    <tr>\n      <th>2017-12-24</th>\n      <td>-0.003846</td>\n      <td>0.029965</td>\n      <td>0.090171</td>\n      <td>0.044034</td>\n      <td>-0.001490</td>\n      <td>0.006557</td>\n      <td>0.046087</td>\n      <td>0.032681</td>\n      <td>-0.007620</td>\n      <td>0.017598</td>\n      <td>...</td>\n      <td>0.032153</td>\n      <td>0.000000</td>\n      <td>0.000000</td>\n      <td>0.026395</td>\n      <td>-0.068966</td>\n      <td>-0.024123</td>\n      <td>0.000000</td>\n      <td>0.000000</td>\n      <td>0.000000</td>\n      <td>0.067164</td>\n    </tr>\n    <tr>\n      <th>2017-12-17</th>\n      <td>0.003413</td>\n      <td>0.000784</td>\n      <td>-0.052591</td>\n      <td>-0.014006</td>\n      <td>0.003888</td>\n      <td>0.026569</td>\n      <td>0.004367</td>\n      <td>0.008396</td>\n      <td>0.074625</td>\n      <td>0.026567</td>\n      <td>...</td>\n      <td>0.036715</td>\n      <td>0.000000</td>\n      <td>0.000000</td>\n      <td>-0.018064</td>\n      <td>-0.018059</td>\n      <td>0.075472</td>\n      <td>0.000000</td>\n      <td>0.000000</td>\n      <td>0.000000</td>\n      <td>-0.051887</td>\n    </tr>\n    <tr>\n      <th>2017-12-10</th>\n      <td>-0.019071</td>\n      <td>0.041012</td>\n      <td>-0.005359</td>\n      <td>-0.017882</td>\n      <td>0.010375</td>\n      <td>-0.009822</td>\n      <td>-0.028014</td>\n      <td>-0.010386</td>\n      <td>0.020600</td>\n      <td>-0.054271</td>\n      <td>...</td>\n      <td>-0.002410</td>\n      <td>0.000000</td>\n      <td>0.000000</td>\n      <td>0.016973</td>\n      <td>-0.015556</td>\n      <td>-0.055679</td>\n      <td>0.000000</td>\n      <td>0.000000</td>\n      <td>0.000000</td>\n      <td>0.062657</td>\n    </tr>\n    <tr>\n      <th>2017-12-03</th>\n      <td>-0.009660</td>\n      <td>0.009267</td>\n      <td>0.105501</td>\n      <td>0.013947</td>\n      <td>0.112630</td>\n      <td>-0.022404</td>\n      <td>0.073838</td>\n      <td>-0.028456</td>\n      <td>0.045796</td>\n      <td>0.024717</td>\n      <td>...</td>\n      <td>0.065742</td>\n      <td>0.000000</td>\n      <td>0.000000</td>\n      <td>0.080475</td>\n      <td>0.014656</td>\n      <td>-0.006637</td>\n      <td>0.000000</td>\n      <td>0.000000</td>\n      <td>0.000000</td>\n      <td>0.047244</td>\n    </tr>\n    <tr>\n      <th>2008-02-03</th>\n      <td>0.038265</td>\n      <td>0.252238</td>\n      <td>0.002941</td>\n      <td>0.095182</td>\n      <td>0.097833</td>\n      <td>0.028767</td>\n      <td>0.006245</td>\n      <td>-0.078058</td>\n      <td>0.036913</td>\n      <td>0.083217</td>\n      <td>...</td>\n      <td>0.137066</td>\n      <td>0.127561</td>\n      <td>0.286550</td>\n      <td>0.167722</td>\n      <td>-0.087879</td>\n      <td>0.069364</td>\n      <td>0.171949</td>\n      <td>0.193189</td>\n      <td>0.127811</td>\n      <td>0.149083</td>\n    </tr>\n    <tr>\n      <th>2008-01-27</th>\n      <td>-0.013963</td>\n      <td>-0.048762</td>\n      <td>0.191310</td>\n      <td>0.071788</td>\n      <td>0.043997</td>\n      <td>-0.194286</td>\n      <td>-0.008984</td>\n      <td>-0.090807</td>\n      <td>-0.034771</td>\n      <td>0.054572</td>\n      <td>...</td>\n      <td>0.018349</td>\n      <td>-0.026292</td>\n      <td>-0.046975</td>\n      <td>0.136418</td>\n      <td>-0.003021</td>\n      <td>0.145695</td>\n      <td>0.042164</td>\n      <td>-0.014553</td>\n      <td>0.141892</td>\n      <td>0.118666</td>\n    </tr>\n    <tr>\n      <th>2008-01-20</th>\n      <td>-0.065000</td>\n      <td>0.086627</td>\n      <td>-0.080541</td>\n      <td>-0.054762</td>\n      <td>-0.007176</td>\n      <td>-0.065609</td>\n      <td>0.015818</td>\n      <td>-0.019721</td>\n      <td>-0.015219</td>\n      <td>-0.044397</td>\n      <td>...</td>\n      <td>0.040573</td>\n      <td>0.010999</td>\n      <td>-0.167109</td>\n      <td>-0.051614</td>\n      <td>-0.054286</td>\n      <td>-0.124638</td>\n      <td>0.037172</td>\n      <td>-0.037312</td>\n      <td>-0.030144</td>\n      <td>-0.076969</td>\n    </tr>\n    <tr>\n      <th>2008-01-13</th>\n      <td>0.035375</td>\n      <td>-0.041902</td>\n      <td>-0.037818</td>\n      <td>-0.046538</td>\n      <td>-0.101486</td>\n      <td>-0.040878</td>\n      <td>-0.052095</td>\n      <td>0.097385</td>\n      <td>0.080137</td>\n      <td>-0.017313</td>\n      <td>...</td>\n      <td>-0.054176</td>\n      <td>-0.047993</td>\n      <td>-0.102381</td>\n      <td>0.037264</td>\n      <td>-0.022346</td>\n      <td>-0.172662</td>\n      <td>0.011799</td>\n      <td>0.051880</td>\n      <td>0.018692</td>\n      <td>-0.094249</td>\n    </tr>\n    <tr>\n      <th>2008-01-06</th>\n      <td>-0.072553</td>\n      <td>-0.156356</td>\n      <td>-0.068707</td>\n      <td>-0.133301</td>\n      <td>-0.065496</td>\n      <td>-0.098984</td>\n      <td>-0.029478</td>\n      <td>-0.098374</td>\n      <td>-0.037363</td>\n      <td>-0.132733</td>\n      <td>...</td>\n      <td>-0.027290</td>\n      <td>-0.075806</td>\n      <td>-0.004739</td>\n      <td>-0.081058</td>\n      <td>0.101538</td>\n      <td>-0.143737</td>\n      <td>-0.134100</td>\n      <td>0.000752</td>\n      <td>-0.133102</td>\n      <td>-0.269012</td>\n    </tr>\n  </tbody>\n</table>\n<p>10 rows × 2489 columns</p>\n</div>"
     },
     "execution_count": 13,
     "metadata": {},
     "output_type": "execute_result"
    }
   ],
   "source": [
    "returns.head().append(returns.tail())"
   ],
   "metadata": {
    "collapsed": false,
    "pycharm": {
     "name": "#%%\n"
    }
   }
  },
  {
   "cell_type": "code",
   "execution_count": 14,
   "outputs": [
    {
     "name": "stdout",
     "output_type": "stream",
     "text": [
      "<class 'pandas.core.frame.DataFrame'>\n",
      "MultiIndex: 1167341 entries, ('A', Timestamp('2017-12-31 00:00:00')) to ('ZUMZ', Timestamp('2009-01-11 00:00:00'))\n",
      "Data columns (total 53 columns):\n",
      " #   Column  Non-Null Count    Dtype  \n",
      "---  ------  --------------    -----  \n",
      " 0   0       1167341 non-null  float64\n",
      " 1   1       1167341 non-null  float64\n",
      " 2   2       1167341 non-null  float64\n",
      " 3   3       1167341 non-null  float64\n",
      " 4   4       1167341 non-null  float64\n",
      " 5   5       1167341 non-null  float64\n",
      " 6   6       1167341 non-null  float64\n",
      " 7   7       1167341 non-null  float64\n",
      " 8   8       1167341 non-null  float64\n",
      " 9   9       1167341 non-null  float64\n",
      " 10  10      1167341 non-null  float64\n",
      " 11  11      1167341 non-null  float64\n",
      " 12  12      1167341 non-null  float64\n",
      " 13  13      1167341 non-null  float64\n",
      " 14  14      1167341 non-null  float64\n",
      " 15  15      1167341 non-null  float64\n",
      " 16  16      1167341 non-null  float64\n",
      " 17  17      1167341 non-null  float64\n",
      " 18  18      1167341 non-null  float64\n",
      " 19  19      1167341 non-null  float64\n",
      " 20  20      1167341 non-null  float64\n",
      " 21  21      1167341 non-null  float64\n",
      " 22  22      1167341 non-null  float64\n",
      " 23  23      1167341 non-null  float64\n",
      " 24  24      1167341 non-null  float64\n",
      " 25  25      1167341 non-null  float64\n",
      " 26  26      1167341 non-null  float64\n",
      " 27  27      1167341 non-null  float64\n",
      " 28  28      1167341 non-null  float64\n",
      " 29  29      1167341 non-null  float64\n",
      " 30  30      1167341 non-null  float64\n",
      " 31  31      1167341 non-null  float64\n",
      " 32  32      1167341 non-null  float64\n",
      " 33  33      1167341 non-null  float64\n",
      " 34  34      1167341 non-null  float64\n",
      " 35  35      1167341 non-null  float64\n",
      " 36  36      1167341 non-null  float64\n",
      " 37  37      1167341 non-null  float64\n",
      " 38  38      1167341 non-null  float64\n",
      " 39  39      1167341 non-null  float64\n",
      " 40  40      1167341 non-null  float64\n",
      " 41  41      1167341 non-null  float64\n",
      " 42  42      1167341 non-null  float64\n",
      " 43  43      1167341 non-null  float64\n",
      " 44  44      1167341 non-null  float64\n",
      " 45  45      1167341 non-null  float64\n",
      " 46  46      1167341 non-null  float64\n",
      " 47  47      1167341 non-null  float64\n",
      " 48  48      1167341 non-null  float64\n",
      " 49  49      1167341 non-null  float64\n",
      " 50  50      1167341 non-null  float64\n",
      " 51  51      1167341 non-null  float64\n",
      " 52  52      1167341 non-null  float64\n",
      "dtypes: float64(53)\n",
      "memory usage: 476.6+ MB\n"
     ]
    }
   ],
   "source": [
    "# Create & stack 52-week sequences\n",
    "n = len(returns)\n",
    "T = 52 # weeks\n",
    "tcols = list(range(T))\n",
    "tickers = returns.columns\n",
    "data = pd.DataFrame()\n",
    "for i in range(n-T-1):\n",
    "    df = returns.iloc[i:i+T+1]\n",
    "    date = df.index.max()\n",
    "    data = pd.concat([data, (df.reset_index(drop=True).T.assign(date=date, ticker=tickers)\n",
    "                             .set_index(['ticker', 'date']))])\n",
    "data.info()"
   ],
   "metadata": {
    "collapsed": false,
    "pycharm": {
     "name": "#%%\n"
    }
   }
  },
  {
   "cell_type": "code",
   "execution_count": 15,
   "outputs": [
    {
     "data": {
      "text/plain": "                         0         1         2         3         4         5   \\\nticker date                                                                     \nA      2017-12-31 -0.005642 -0.003846  0.003413 -0.019071 -0.009660  0.008286   \nAAL    2017-12-31 -0.010648  0.029965  0.000784  0.041012  0.009267  0.024689   \nAAN    2017-12-31 -0.010184  0.090171 -0.052591 -0.005359  0.105501 -0.027702   \nAAON   2017-12-31 -0.001361  0.044034 -0.014006 -0.017882  0.013947  0.040639   \nAAP    2017-12-31 -0.008553 -0.001490  0.003888  0.010375  0.112630 -0.000448   \nZIXI   2009-01-11  0.207599  0.215047 -0.036036 -0.075000 -0.040000 -0.155405   \nZLC    2009-01-11 -0.144638  0.204204  0.003012  0.040752 -0.220049 -0.310287   \nZMH    2009-01-11  0.003113  0.050566 -0.000754  0.022359  0.036494  0.005895   \nZQK    2009-01-11 -0.038647  0.239521 -0.125654  0.248366  0.275000 -0.142857   \nZUMZ   2009-01-11  0.168831 -0.002591 -0.069880 -0.009547 -0.076075  0.049769   \n\n                         6         7         8         9   ...        43  \\\nticker date                                                ...             \nA      2017-12-31  0.029636 -0.022817  0.005885  0.010706  ...  0.004639   \nAAL    2017-12-31  0.034265 -0.034352 -0.002313 -0.084328  ...  0.011668   \nAAN    2017-12-31 -0.003553  0.004392 -0.069239 -0.084230  ...  0.028698   \nAAON   2017-12-31  0.019231 -0.018868 -0.010057  0.005780  ...  0.023188   \nAAP    2017-12-31  0.099114 -0.007090 -0.001587 -0.055888  ... -0.012585   \nZIXI   2009-01-11  0.165354 -0.196203 -0.141304  0.027933  ...  0.022727   \nZLC    2009-01-11 -0.244586 -0.345288 -0.135544 -0.186987  ... -0.003158   \nZMH    2009-01-11  0.000805 -0.112143 -0.052988 -0.044799  ...  0.019026   \nZQK    2009-01-11  0.573034 -0.450617 -0.256881 -0.158301  ...  0.053592   \nZUMZ   2009-01-11  0.196676  0.018336 -0.177494 -0.116803  ...  0.080085   \n\n                         44        45        46        47        48        49  \\\nticker date                                                                     \nA      2017-12-31  0.002131  0.025218  0.019846  0.015005  0.021630 -0.021976   \nAAL    2017-12-31 -0.013430  0.009903  0.053175 -0.058573 -0.021875  0.007345   \nAAN    2017-12-31  0.009283 -0.103827  0.004009 -0.019974  0.007588 -0.054290   \nAAON   2017-12-31  0.004367  0.000000  0.010294 -0.028571  0.070336 -0.006079   \nAAP    2017-12-31 -0.026303 -0.015056  0.007988 -0.009856 -0.041574 -0.018823   \nZIXI   2009-01-11  0.010204 -0.107062  0.089330  0.057743  0.029730  0.069364   \nZLC    2009-01-11 -0.016563  0.143195  0.045792 -0.094678  0.027043  0.171949   \nZMH    2009-01-11 -0.001727 -0.008951  0.001714 -0.025944 -0.016671  0.193189   \nZQK    2009-01-11 -0.025556 -0.039488  0.003212  0.047085 -0.064008  0.127811   \nZUMZ   2009-01-11 -0.197383 -0.059893  0.013001 -0.077461 -0.001497  0.149083   \n\n                         50        51        52  \nticker date                                      \nA      2017-12-31  0.014586  0.053336 -0.011001  \nAAL    2017-12-31  0.031162 -0.010281 -0.036922  \nAAN    2017-12-31  0.038561 -0.035324 -0.007138  \nAAON   2017-12-31  0.006116 -0.010590 -0.006015  \nAAP    2017-12-31  0.030419  0.003016 -0.010358  \nZIXI   2009-01-11  0.145695 -0.124638 -0.172662  \nZLC    2009-01-11  0.042164  0.037172  0.011799  \nZMH    2009-01-11 -0.014553 -0.037312  0.051880  \nZQK    2009-01-11  0.141892 -0.030144  0.018692  \nZUMZ   2009-01-11  0.118666 -0.076969 -0.094249  \n\n[10 rows x 53 columns]",
      "text/html": "<div>\n<style scoped>\n    .dataframe tbody tr th:only-of-type {\n        vertical-align: middle;\n    }\n\n    .dataframe tbody tr th {\n        vertical-align: top;\n    }\n\n    .dataframe thead th {\n        text-align: right;\n    }\n</style>\n<table border=\"1\" class=\"dataframe\">\n  <thead>\n    <tr style=\"text-align: right;\">\n      <th></th>\n      <th></th>\n      <th>0</th>\n      <th>1</th>\n      <th>2</th>\n      <th>3</th>\n      <th>4</th>\n      <th>5</th>\n      <th>6</th>\n      <th>7</th>\n      <th>8</th>\n      <th>9</th>\n      <th>...</th>\n      <th>43</th>\n      <th>44</th>\n      <th>45</th>\n      <th>46</th>\n      <th>47</th>\n      <th>48</th>\n      <th>49</th>\n      <th>50</th>\n      <th>51</th>\n      <th>52</th>\n    </tr>\n    <tr>\n      <th>ticker</th>\n      <th>date</th>\n      <th></th>\n      <th></th>\n      <th></th>\n      <th></th>\n      <th></th>\n      <th></th>\n      <th></th>\n      <th></th>\n      <th></th>\n      <th></th>\n      <th></th>\n      <th></th>\n      <th></th>\n      <th></th>\n      <th></th>\n      <th></th>\n      <th></th>\n      <th></th>\n      <th></th>\n      <th></th>\n      <th></th>\n    </tr>\n  </thead>\n  <tbody>\n    <tr>\n      <th>A</th>\n      <th>2017-12-31</th>\n      <td>-0.005642</td>\n      <td>-0.003846</td>\n      <td>0.003413</td>\n      <td>-0.019071</td>\n      <td>-0.009660</td>\n      <td>0.008286</td>\n      <td>0.029636</td>\n      <td>-0.022817</td>\n      <td>0.005885</td>\n      <td>0.010706</td>\n      <td>...</td>\n      <td>0.004639</td>\n      <td>0.002131</td>\n      <td>0.025218</td>\n      <td>0.019846</td>\n      <td>0.015005</td>\n      <td>0.021630</td>\n      <td>-0.021976</td>\n      <td>0.014586</td>\n      <td>0.053336</td>\n      <td>-0.011001</td>\n    </tr>\n    <tr>\n      <th>AAL</th>\n      <th>2017-12-31</th>\n      <td>-0.010648</td>\n      <td>0.029965</td>\n      <td>0.000784</td>\n      <td>0.041012</td>\n      <td>0.009267</td>\n      <td>0.024689</td>\n      <td>0.034265</td>\n      <td>-0.034352</td>\n      <td>-0.002313</td>\n      <td>-0.084328</td>\n      <td>...</td>\n      <td>0.011668</td>\n      <td>-0.013430</td>\n      <td>0.009903</td>\n      <td>0.053175</td>\n      <td>-0.058573</td>\n      <td>-0.021875</td>\n      <td>0.007345</td>\n      <td>0.031162</td>\n      <td>-0.010281</td>\n      <td>-0.036922</td>\n    </tr>\n    <tr>\n      <th>AAN</th>\n      <th>2017-12-31</th>\n      <td>-0.010184</td>\n      <td>0.090171</td>\n      <td>-0.052591</td>\n      <td>-0.005359</td>\n      <td>0.105501</td>\n      <td>-0.027702</td>\n      <td>-0.003553</td>\n      <td>0.004392</td>\n      <td>-0.069239</td>\n      <td>-0.084230</td>\n      <td>...</td>\n      <td>0.028698</td>\n      <td>0.009283</td>\n      <td>-0.103827</td>\n      <td>0.004009</td>\n      <td>-0.019974</td>\n      <td>0.007588</td>\n      <td>-0.054290</td>\n      <td>0.038561</td>\n      <td>-0.035324</td>\n      <td>-0.007138</td>\n    </tr>\n    <tr>\n      <th>AAON</th>\n      <th>2017-12-31</th>\n      <td>-0.001361</td>\n      <td>0.044034</td>\n      <td>-0.014006</td>\n      <td>-0.017882</td>\n      <td>0.013947</td>\n      <td>0.040639</td>\n      <td>0.019231</td>\n      <td>-0.018868</td>\n      <td>-0.010057</td>\n      <td>0.005780</td>\n      <td>...</td>\n      <td>0.023188</td>\n      <td>0.004367</td>\n      <td>0.000000</td>\n      <td>0.010294</td>\n      <td>-0.028571</td>\n      <td>0.070336</td>\n      <td>-0.006079</td>\n      <td>0.006116</td>\n      <td>-0.010590</td>\n      <td>-0.006015</td>\n    </tr>\n    <tr>\n      <th>AAP</th>\n      <th>2017-12-31</th>\n      <td>-0.008553</td>\n      <td>-0.001490</td>\n      <td>0.003888</td>\n      <td>0.010375</td>\n      <td>0.112630</td>\n      <td>-0.000448</td>\n      <td>0.099114</td>\n      <td>-0.007090</td>\n      <td>-0.001587</td>\n      <td>-0.055888</td>\n      <td>...</td>\n      <td>-0.012585</td>\n      <td>-0.026303</td>\n      <td>-0.015056</td>\n      <td>0.007988</td>\n      <td>-0.009856</td>\n      <td>-0.041574</td>\n      <td>-0.018823</td>\n      <td>0.030419</td>\n      <td>0.003016</td>\n      <td>-0.010358</td>\n    </tr>\n    <tr>\n      <th>ZIXI</th>\n      <th>2009-01-11</th>\n      <td>0.207599</td>\n      <td>0.215047</td>\n      <td>-0.036036</td>\n      <td>-0.075000</td>\n      <td>-0.040000</td>\n      <td>-0.155405</td>\n      <td>0.165354</td>\n      <td>-0.196203</td>\n      <td>-0.141304</td>\n      <td>0.027933</td>\n      <td>...</td>\n      <td>0.022727</td>\n      <td>0.010204</td>\n      <td>-0.107062</td>\n      <td>0.089330</td>\n      <td>0.057743</td>\n      <td>0.029730</td>\n      <td>0.069364</td>\n      <td>0.145695</td>\n      <td>-0.124638</td>\n      <td>-0.172662</td>\n    </tr>\n    <tr>\n      <th>ZLC</th>\n      <th>2009-01-11</th>\n      <td>-0.144638</td>\n      <td>0.204204</td>\n      <td>0.003012</td>\n      <td>0.040752</td>\n      <td>-0.220049</td>\n      <td>-0.310287</td>\n      <td>-0.244586</td>\n      <td>-0.345288</td>\n      <td>-0.135544</td>\n      <td>-0.186987</td>\n      <td>...</td>\n      <td>-0.003158</td>\n      <td>-0.016563</td>\n      <td>0.143195</td>\n      <td>0.045792</td>\n      <td>-0.094678</td>\n      <td>0.027043</td>\n      <td>0.171949</td>\n      <td>0.042164</td>\n      <td>0.037172</td>\n      <td>0.011799</td>\n    </tr>\n    <tr>\n      <th>ZMH</th>\n      <th>2009-01-11</th>\n      <td>0.003113</td>\n      <td>0.050566</td>\n      <td>-0.000754</td>\n      <td>0.022359</td>\n      <td>0.036494</td>\n      <td>0.005895</td>\n      <td>0.000805</td>\n      <td>-0.112143</td>\n      <td>-0.052988</td>\n      <td>-0.044799</td>\n      <td>...</td>\n      <td>0.019026</td>\n      <td>-0.001727</td>\n      <td>-0.008951</td>\n      <td>0.001714</td>\n      <td>-0.025944</td>\n      <td>-0.016671</td>\n      <td>0.193189</td>\n      <td>-0.014553</td>\n      <td>-0.037312</td>\n      <td>0.051880</td>\n    </tr>\n    <tr>\n      <th>ZQK</th>\n      <th>2009-01-11</th>\n      <td>-0.038647</td>\n      <td>0.239521</td>\n      <td>-0.125654</td>\n      <td>0.248366</td>\n      <td>0.275000</td>\n      <td>-0.142857</td>\n      <td>0.573034</td>\n      <td>-0.450617</td>\n      <td>-0.256881</td>\n      <td>-0.158301</td>\n      <td>...</td>\n      <td>0.053592</td>\n      <td>-0.025556</td>\n      <td>-0.039488</td>\n      <td>0.003212</td>\n      <td>0.047085</td>\n      <td>-0.064008</td>\n      <td>0.127811</td>\n      <td>0.141892</td>\n      <td>-0.030144</td>\n      <td>0.018692</td>\n    </tr>\n    <tr>\n      <th>ZUMZ</th>\n      <th>2009-01-11</th>\n      <td>0.168831</td>\n      <td>-0.002591</td>\n      <td>-0.069880</td>\n      <td>-0.009547</td>\n      <td>-0.076075</td>\n      <td>0.049769</td>\n      <td>0.196676</td>\n      <td>0.018336</td>\n      <td>-0.177494</td>\n      <td>-0.116803</td>\n      <td>...</td>\n      <td>0.080085</td>\n      <td>-0.197383</td>\n      <td>-0.059893</td>\n      <td>0.013001</td>\n      <td>-0.077461</td>\n      <td>-0.001497</td>\n      <td>0.149083</td>\n      <td>0.118666</td>\n      <td>-0.076969</td>\n      <td>-0.094249</td>\n    </tr>\n  </tbody>\n</table>\n<p>10 rows × 53 columns</p>\n</div>"
     },
     "execution_count": 15,
     "metadata": {},
     "output_type": "execute_result"
    }
   ],
   "source": [
    "pd.concat([data.head(), data.tail()])"
   ],
   "metadata": {
    "collapsed": false,
    "pycharm": {
     "name": "#%%\n"
    }
   }
  },
  {
   "cell_type": "code",
   "execution_count": 16,
   "outputs": [
    {
     "data": {
      "text/plain": "(1167341, 54)"
     },
     "execution_count": 16,
     "metadata": {},
     "output_type": "execute_result"
    }
   ],
   "source": [
    "data[tcols] = (data[tcols].apply(lambda x: x.clip(lower=x.quantile(.01), upper=x.quantile(.99))))\n",
    "data = data.rename(columns={0: 'fwd_returns'})\n",
    "data['label'] = (data['fwd_returns'] > 0).astype(int)\n",
    "data.shape"
   ],
   "metadata": {
    "collapsed": false,
    "pycharm": {
     "name": "#%%\n"
    }
   }
  },
  {
   "cell_type": "code",
   "execution_count": 17,
   "outputs": [
    {
     "data": {
      "text/plain": "                   fwd_returns         1         2         3         4  \\\nticker date                                                              \nA      2017-12-31    -0.005642 -0.003846  0.003413 -0.019071 -0.009660   \nAAL    2017-12-31    -0.010648  0.029965  0.000784  0.041012  0.009267   \nAAN    2017-12-31    -0.010184  0.090171 -0.052591 -0.005359  0.105501   \nAAON   2017-12-31    -0.001361  0.044034 -0.014006 -0.017882  0.013947   \nAAP    2017-12-31    -0.008553 -0.001490  0.003888  0.010375  0.112630   \n\n                          5         6         7         8         9  ...  \\\nticker date                                                          ...   \nA      2017-12-31  0.008286  0.029636 -0.022817  0.005885  0.010706  ...   \nAAL    2017-12-31  0.024689  0.034265 -0.034352 -0.002313 -0.084328  ...   \nAAN    2017-12-31 -0.027702 -0.003553  0.004392 -0.069239 -0.084230  ...   \nAAON   2017-12-31  0.040639  0.019231 -0.018868 -0.010057  0.005780  ...   \nAAP    2017-12-31 -0.000448  0.099114 -0.007090 -0.001587 -0.055888  ...   \n\n                         44        45        46        47        48        49  \\\nticker date                                                                     \nA      2017-12-31  0.002131  0.025218  0.019846  0.015005  0.021630 -0.021976   \nAAL    2017-12-31 -0.013430  0.009903  0.053175 -0.058573 -0.021875  0.007345   \nAAN    2017-12-31  0.009283 -0.103827  0.004009 -0.019974  0.007588 -0.054290   \nAAON   2017-12-31  0.004367  0.000000  0.010294 -0.028571  0.070336 -0.006079   \nAAP    2017-12-31 -0.026303 -0.015056  0.007988 -0.009856 -0.041574 -0.018823   \n\n                         50        51        52  label  \nticker date                                             \nA      2017-12-31  0.014586  0.053336 -0.011001      0  \nAAL    2017-12-31  0.031162 -0.010281 -0.036922      0  \nAAN    2017-12-31  0.038561 -0.035324 -0.007138      0  \nAAON   2017-12-31  0.006116 -0.010590 -0.006015      0  \nAAP    2017-12-31  0.030419  0.003016 -0.010358      0  \n\n[5 rows x 54 columns]",
      "text/html": "<div>\n<style scoped>\n    .dataframe tbody tr th:only-of-type {\n        vertical-align: middle;\n    }\n\n    .dataframe tbody tr th {\n        vertical-align: top;\n    }\n\n    .dataframe thead th {\n        text-align: right;\n    }\n</style>\n<table border=\"1\" class=\"dataframe\">\n  <thead>\n    <tr style=\"text-align: right;\">\n      <th></th>\n      <th></th>\n      <th>fwd_returns</th>\n      <th>1</th>\n      <th>2</th>\n      <th>3</th>\n      <th>4</th>\n      <th>5</th>\n      <th>6</th>\n      <th>7</th>\n      <th>8</th>\n      <th>9</th>\n      <th>...</th>\n      <th>44</th>\n      <th>45</th>\n      <th>46</th>\n      <th>47</th>\n      <th>48</th>\n      <th>49</th>\n      <th>50</th>\n      <th>51</th>\n      <th>52</th>\n      <th>label</th>\n    </tr>\n    <tr>\n      <th>ticker</th>\n      <th>date</th>\n      <th></th>\n      <th></th>\n      <th></th>\n      <th></th>\n      <th></th>\n      <th></th>\n      <th></th>\n      <th></th>\n      <th></th>\n      <th></th>\n      <th></th>\n      <th></th>\n      <th></th>\n      <th></th>\n      <th></th>\n      <th></th>\n      <th></th>\n      <th></th>\n      <th></th>\n      <th></th>\n      <th></th>\n    </tr>\n  </thead>\n  <tbody>\n    <tr>\n      <th>A</th>\n      <th>2017-12-31</th>\n      <td>-0.005642</td>\n      <td>-0.003846</td>\n      <td>0.003413</td>\n      <td>-0.019071</td>\n      <td>-0.009660</td>\n      <td>0.008286</td>\n      <td>0.029636</td>\n      <td>-0.022817</td>\n      <td>0.005885</td>\n      <td>0.010706</td>\n      <td>...</td>\n      <td>0.002131</td>\n      <td>0.025218</td>\n      <td>0.019846</td>\n      <td>0.015005</td>\n      <td>0.021630</td>\n      <td>-0.021976</td>\n      <td>0.014586</td>\n      <td>0.053336</td>\n      <td>-0.011001</td>\n      <td>0</td>\n    </tr>\n    <tr>\n      <th>AAL</th>\n      <th>2017-12-31</th>\n      <td>-0.010648</td>\n      <td>0.029965</td>\n      <td>0.000784</td>\n      <td>0.041012</td>\n      <td>0.009267</td>\n      <td>0.024689</td>\n      <td>0.034265</td>\n      <td>-0.034352</td>\n      <td>-0.002313</td>\n      <td>-0.084328</td>\n      <td>...</td>\n      <td>-0.013430</td>\n      <td>0.009903</td>\n      <td>0.053175</td>\n      <td>-0.058573</td>\n      <td>-0.021875</td>\n      <td>0.007345</td>\n      <td>0.031162</td>\n      <td>-0.010281</td>\n      <td>-0.036922</td>\n      <td>0</td>\n    </tr>\n    <tr>\n      <th>AAN</th>\n      <th>2017-12-31</th>\n      <td>-0.010184</td>\n      <td>0.090171</td>\n      <td>-0.052591</td>\n      <td>-0.005359</td>\n      <td>0.105501</td>\n      <td>-0.027702</td>\n      <td>-0.003553</td>\n      <td>0.004392</td>\n      <td>-0.069239</td>\n      <td>-0.084230</td>\n      <td>...</td>\n      <td>0.009283</td>\n      <td>-0.103827</td>\n      <td>0.004009</td>\n      <td>-0.019974</td>\n      <td>0.007588</td>\n      <td>-0.054290</td>\n      <td>0.038561</td>\n      <td>-0.035324</td>\n      <td>-0.007138</td>\n      <td>0</td>\n    </tr>\n    <tr>\n      <th>AAON</th>\n      <th>2017-12-31</th>\n      <td>-0.001361</td>\n      <td>0.044034</td>\n      <td>-0.014006</td>\n      <td>-0.017882</td>\n      <td>0.013947</td>\n      <td>0.040639</td>\n      <td>0.019231</td>\n      <td>-0.018868</td>\n      <td>-0.010057</td>\n      <td>0.005780</td>\n      <td>...</td>\n      <td>0.004367</td>\n      <td>0.000000</td>\n      <td>0.010294</td>\n      <td>-0.028571</td>\n      <td>0.070336</td>\n      <td>-0.006079</td>\n      <td>0.006116</td>\n      <td>-0.010590</td>\n      <td>-0.006015</td>\n      <td>0</td>\n    </tr>\n    <tr>\n      <th>AAP</th>\n      <th>2017-12-31</th>\n      <td>-0.008553</td>\n      <td>-0.001490</td>\n      <td>0.003888</td>\n      <td>0.010375</td>\n      <td>0.112630</td>\n      <td>-0.000448</td>\n      <td>0.099114</td>\n      <td>-0.007090</td>\n      <td>-0.001587</td>\n      <td>-0.055888</td>\n      <td>...</td>\n      <td>-0.026303</td>\n      <td>-0.015056</td>\n      <td>0.007988</td>\n      <td>-0.009856</td>\n      <td>-0.041574</td>\n      <td>-0.018823</td>\n      <td>0.030419</td>\n      <td>0.003016</td>\n      <td>-0.010358</td>\n      <td>0</td>\n    </tr>\n  </tbody>\n</table>\n<p>5 rows × 54 columns</p>\n</div>"
     },
     "execution_count": 17,
     "metadata": {},
     "output_type": "execute_result"
    }
   ],
   "source": [
    "data.head()"
   ],
   "metadata": {
    "collapsed": false,
    "pycharm": {
     "name": "#%%\n"
    }
   }
  },
  {
   "cell_type": "code",
   "execution_count": 12,
   "outputs": [],
   "source": [
    "data.sort_index().to_hdf('rnn_data.h5', 'returns_weekly')"
   ],
   "metadata": {
    "collapsed": false,
    "pycharm": {
     "name": "#%%\n"
    }
   }
  }
 ],
 "metadata": {
  "kernelspec": {
   "display_name": "Python 3",
   "language": "python",
   "name": "python3"
  },
  "language_info": {
   "codemirror_mode": {
    "name": "ipython",
    "version": 2
   },
   "file_extension": ".py",
   "mimetype": "text/x-python",
   "name": "python",
   "nbconvert_exporter": "python",
   "pygments_lexer": "ipython2",
   "version": "2.7.6"
  }
 },
 "nbformat": 4,
 "nbformat_minor": 0
}