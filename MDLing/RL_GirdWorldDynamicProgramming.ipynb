{
 "cells": [
  {
   "cell_type": "code",
   "execution_count": 1,
   "metadata": {
    "collapsed": true,
    "pycharm": {
     "name": "#%%\n"
    }
   },
   "outputs": [],
   "source": [
    "%matplotlib inline\n",
    "\n",
    "from time import process_time\n",
    "import numpy as np\n",
    "import pandas as pd\n",
    "from mdptoolbox import mdp\n",
    "from itertools import product"
   ]
  },
  {
   "cell_type": "code",
   "execution_count": 2,
   "outputs": [],
   "source": [
    "# Set up Gridworld\n",
    "grid_size = (3, 4)\n",
    "blocked_cell = (1, 1)\n",
    "baseline_reward = -0.02\n",
    "absorbing_cells = {(0, 3): 1, (1, 3): -1}\n",
    "actions = ['L', 'U', 'R', 'D']\n",
    "num_actions = len(actions)\n",
    "probs = [.1, .8, .1, 0]"
   ],
   "metadata": {
    "collapsed": false,
    "pycharm": {
     "name": "#%%\n"
    }
   }
  },
  {
   "cell_type": "code",
   "execution_count": 3,
   "outputs": [],
   "source": [
    "to_1d = lambda x: np.ravel_multi_index(x, grid_size)\n",
    "to_2d = lambda x: np.unravel_index(x, grid_size)"
   ],
   "metadata": {
    "collapsed": false,
    "pycharm": {
     "name": "#%%\n"
    }
   }
  },
  {
   "cell_type": "code",
   "execution_count": 4,
   "outputs": [],
   "source": [
    "num_states = np.product(grid_size)\n",
    "cells = list(np.ndindex(grid_size))\n",
    "states = list(range(len(cells)))\n",
    "cell_state = dict(zip(cells, states))\n",
    "state_cell= dict(zip(states, cells))\n",
    "absorbing_states = {to_1d(s):r for s, r in absorbing_cells.items()}\n",
    "blocked_state = to_1d(blocked_cell)"
   ],
   "metadata": {
    "collapsed": false,
    "pycharm": {
     "name": "#%%\n"
    }
   }
  },
  {
   "cell_type": "code",
   "execution_count": 5,
   "outputs": [
    {
     "data": {
      "text/plain": "{'U': {'L': 0.1, 'U': 0.8, 'R': 0.1, 'D': 0},\n 'R': {'U': 0.1, 'R': 0.8, 'D': 0.1, 'L': 0},\n 'D': {'R': 0.1, 'D': 0.8, 'L': 0.1, 'U': 0},\n 'L': {'D': 0.1, 'L': 0.8, 'U': 0.1, 'R': 0}}"
     },
     "execution_count": 5,
     "metadata": {},
     "output_type": "execute_result"
    }
   ],
   "source": [
    "state_rewards = np.full(num_states, baseline_reward)\n",
    "state_rewards[blocked_state] = 0\n",
    "for state, reward in absorbing_states.items():\n",
    "    state_rewards[state] = reward\n",
    "\n",
    "action_outcomes = {}\n",
    "for i, action in enumerate(actions):\n",
    "    probs_ = dict(zip([actions[j % 4] for j in range(i, num_actions + i)], probs))\n",
    "    action_outcomes[actions[(i + 1) % 4]] = probs_\n",
    "\n",
    "action_outcomes"
   ],
   "metadata": {
    "collapsed": false,
    "pycharm": {
     "name": "#%%\n"
    }
   }
  },
  {
   "cell_type": "code",
   "execution_count": 6,
   "outputs": [
    {
     "data": {
      "text/plain": "array([-0.02, -0.02, -0.02,  1.  , -0.02,  0.  , -0.02, -1.  , -0.02,\n       -0.02, -0.02, -0.02])"
     },
     "execution_count": 6,
     "metadata": {},
     "output_type": "execute_result"
    }
   ],
   "source": [
    "# Transition Matrix\n",
    "def get_new_cell(state, move):\n",
    "    cell = to_2d(state)\n",
    "    if actions[move] == 'U':\n",
    "        return cell[0] - 1, cell[1]\n",
    "    elif actions[move] == 'D':\n",
    "        return cell[0] + 1, cell[1]\n",
    "    elif actions[move] == 'R':\n",
    "        return cell[0], cell[1] + 1\n",
    "    elif actions[move] == 'L':\n",
    "        return cell[0], cell[1] - 1\n",
    "\n",
    "state_rewards"
   ],
   "metadata": {
    "collapsed": false,
    "pycharm": {
     "name": "#%%\n"
    }
   }
  },
  {
   "cell_type": "code",
   "execution_count": 7,
   "outputs": [],
   "source": [
    "def update_transitions_and_rewards(state, action, outcome):\n",
    "    if state in absorbing_states.keys() or state == blocked_state:\n",
    "        transitions[action, state, state] = 1\n",
    "    else:\n",
    "        new_cell = get_new_cell(state, outcome)\n",
    "        p = action_outcomes[actions[action]][actions[outcome]]\n",
    "        if new_cell not in cells or new_cell == blocked_cell:\n",
    "            transitions[action, state, state] += p\n",
    "            rewards[action, state, state] = baseline_reward\n",
    "        else:\n",
    "            new_state= to_1d(new_cell)\n",
    "            transitions[action, state, new_state] = p\n",
    "            rewards[action, state, new_state] = state_rewards[new_state]"
   ],
   "metadata": {
    "collapsed": false,
    "pycharm": {
     "name": "#%%\n"
    }
   }
  },
  {
   "cell_type": "code",
   "execution_count": 8,
   "outputs": [
    {
     "data": {
      "text/plain": "((4, 12, 12), (4, 12, 12))"
     },
     "execution_count": 8,
     "metadata": {},
     "output_type": "execute_result"
    }
   ],
   "source": [
    "rewards = np.zeros(shape=(num_actions, num_states, num_states))\n",
    "transitions = np.zeros((num_actions, num_states, num_states))\n",
    "actions_ = list(range(num_actions))\n",
    "for action, outcome, state in product(actions_, actions_, states):\n",
    "    update_transitions_and_rewards(state, action, outcome)\n",
    "\n",
    "rewards.shape, transitions.shape"
   ],
   "metadata": {
    "collapsed": false,
    "pycharm": {
     "name": "#%%\n"
    }
   }
  },
  {
   "cell_type": "code",
   "execution_count": 9,
   "outputs": [
    {
     "name": "stdout",
     "output_type": "stream",
     "text": [
      "# Iterations: 31 | Time: 0.0010\n"
     ]
    }
   ],
   "source": [
    "# PyMDPToolbox\n",
    "\n",
    "# Value Iteration\n",
    "gamma = .99\n",
    "epsilon = 1e-5\n",
    "\n",
    "vi = mdp.ValueIteration(transitions=transitions, reward=rewards, discount=gamma, epsilon=epsilon)\n",
    "\n",
    "vi.run()\n",
    "print(f'# Iterations: {vi.iter:,d} | Time: {vi.time:.4f}')"
   ],
   "metadata": {
    "collapsed": false,
    "pycharm": {
     "name": "#%%\n"
    }
   }
  },
  {
   "cell_type": "code",
   "execution_count": 10,
   "outputs": [
    {
     "data": {
      "text/plain": "   0  1  2  3\n0  R  R  R  L\n1  U  L  U  L\n2  U  L  L  L",
      "text/html": "<div>\n<style scoped>\n    .dataframe tbody tr th:only-of-type {\n        vertical-align: middle;\n    }\n\n    .dataframe tbody tr th {\n        vertical-align: top;\n    }\n\n    .dataframe thead th {\n        text-align: right;\n    }\n</style>\n<table border=\"1\" class=\"dataframe\">\n  <thead>\n    <tr style=\"text-align: right;\">\n      <th></th>\n      <th>0</th>\n      <th>1</th>\n      <th>2</th>\n      <th>3</th>\n    </tr>\n  </thead>\n  <tbody>\n    <tr>\n      <th>0</th>\n      <td>R</td>\n      <td>R</td>\n      <td>R</td>\n      <td>L</td>\n    </tr>\n    <tr>\n      <th>1</th>\n      <td>U</td>\n      <td>L</td>\n      <td>U</td>\n      <td>L</td>\n    </tr>\n    <tr>\n      <th>2</th>\n      <td>U</td>\n      <td>L</td>\n      <td>L</td>\n      <td>L</td>\n    </tr>\n  </tbody>\n</table>\n</div>"
     },
     "execution_count": 10,
     "metadata": {},
     "output_type": "execute_result"
    }
   ],
   "source": [
    "policy = np.asarray([actions[i] for i in vi.policy])\n",
    "pd.DataFrame(policy.reshape(grid_size))"
   ],
   "metadata": {
    "collapsed": false,
    "pycharm": {
     "name": "#%%\n"
    }
   }
  },
  {
   "cell_type": "code",
   "execution_count": 11,
   "outputs": [
    {
     "data": {
      "text/plain": "          0         1         2         3\n0  0.884143  0.925054  0.961986  0.000000\n1  0.848181  0.000000  0.714643  0.000000\n2  0.808345  0.773328  0.736099  0.516083",
      "text/html": "<div>\n<style scoped>\n    .dataframe tbody tr th:only-of-type {\n        vertical-align: middle;\n    }\n\n    .dataframe tbody tr th {\n        vertical-align: top;\n    }\n\n    .dataframe thead th {\n        text-align: right;\n    }\n</style>\n<table border=\"1\" class=\"dataframe\">\n  <thead>\n    <tr style=\"text-align: right;\">\n      <th></th>\n      <th>0</th>\n      <th>1</th>\n      <th>2</th>\n      <th>3</th>\n    </tr>\n  </thead>\n  <tbody>\n    <tr>\n      <th>0</th>\n      <td>0.884143</td>\n      <td>0.925054</td>\n      <td>0.961986</td>\n      <td>0.000000</td>\n    </tr>\n    <tr>\n      <th>1</th>\n      <td>0.848181</td>\n      <td>0.000000</td>\n      <td>0.714643</td>\n      <td>0.000000</td>\n    </tr>\n    <tr>\n      <th>2</th>\n      <td>0.808345</td>\n      <td>0.773328</td>\n      <td>0.736099</td>\n      <td>0.516083</td>\n    </tr>\n  </tbody>\n</table>\n</div>"
     },
     "execution_count": 11,
     "metadata": {},
     "output_type": "execute_result"
    }
   ],
   "source": [
    "value = np.asarray(vi.V).reshape(grid_size)\n",
    "pd.DataFrame(value)"
   ],
   "metadata": {
    "collapsed": false,
    "pycharm": {
     "name": "#%%\n"
    }
   }
  },
  {
   "cell_type": "code",
   "execution_count": 12,
   "outputs": [
    {
     "name": "stdout",
     "output_type": "stream",
     "text": [
      "# Iterations: 7 | Time: 0.0419\n"
     ]
    }
   ],
   "source": [
    "# Policy Iteration\n",
    "pi = mdp.PolicyIteration(transitions=transitions, reward=rewards, discount=gamma, max_iter=1000)\n",
    "\n",
    "pi.run()\n",
    "print(f'# Iterations: {pi.iter:,d} | Time: {pi.time:.4f}')"
   ],
   "metadata": {
    "collapsed": false,
    "pycharm": {
     "name": "#%%\n"
    }
   }
  },
  {
   "cell_type": "code",
   "execution_count": 13,
   "outputs": [
    {
     "data": {
      "text/plain": "   0  1  2  3\n0  R  R  R  L\n1  U  L  U  L\n2  U  L  L  L",
      "text/html": "<div>\n<style scoped>\n    .dataframe tbody tr th:only-of-type {\n        vertical-align: middle;\n    }\n\n    .dataframe tbody tr th {\n        vertical-align: top;\n    }\n\n    .dataframe thead th {\n        text-align: right;\n    }\n</style>\n<table border=\"1\" class=\"dataframe\">\n  <thead>\n    <tr style=\"text-align: right;\">\n      <th></th>\n      <th>0</th>\n      <th>1</th>\n      <th>2</th>\n      <th>3</th>\n    </tr>\n  </thead>\n  <tbody>\n    <tr>\n      <th>0</th>\n      <td>R</td>\n      <td>R</td>\n      <td>R</td>\n      <td>L</td>\n    </tr>\n    <tr>\n      <th>1</th>\n      <td>U</td>\n      <td>L</td>\n      <td>U</td>\n      <td>L</td>\n    </tr>\n    <tr>\n      <th>2</th>\n      <td>U</td>\n      <td>L</td>\n      <td>L</td>\n      <td>L</td>\n    </tr>\n  </tbody>\n</table>\n</div>"
     },
     "execution_count": 13,
     "metadata": {},
     "output_type": "execute_result"
    }
   ],
   "source": [
    "policy = np.asarray([actions[i] for i in pi.policy])\n",
    "pd.DataFrame(policy.reshape(grid_size))"
   ],
   "metadata": {
    "collapsed": false,
    "pycharm": {
     "name": "#%%\n"
    }
   }
  },
  {
   "cell_type": "code",
   "execution_count": 14,
   "outputs": [
    {
     "data": {
      "text/plain": "          0         1         2             3\n0  0.884143  0.925054  0.961986  1.594721e-16\n1  0.848181  0.000000  0.714643 -0.000000e+00\n2  0.808345  0.773328  0.736099  5.160828e-01",
      "text/html": "<div>\n<style scoped>\n    .dataframe tbody tr th:only-of-type {\n        vertical-align: middle;\n    }\n\n    .dataframe tbody tr th {\n        vertical-align: top;\n    }\n\n    .dataframe thead th {\n        text-align: right;\n    }\n</style>\n<table border=\"1\" class=\"dataframe\">\n  <thead>\n    <tr style=\"text-align: right;\">\n      <th></th>\n      <th>0</th>\n      <th>1</th>\n      <th>2</th>\n      <th>3</th>\n    </tr>\n  </thead>\n  <tbody>\n    <tr>\n      <th>0</th>\n      <td>0.884143</td>\n      <td>0.925054</td>\n      <td>0.961986</td>\n      <td>1.594721e-16</td>\n    </tr>\n    <tr>\n      <th>1</th>\n      <td>0.848181</td>\n      <td>0.000000</td>\n      <td>0.714643</td>\n      <td>-0.000000e+00</td>\n    </tr>\n    <tr>\n      <th>2</th>\n      <td>0.808345</td>\n      <td>0.773328</td>\n      <td>0.736099</td>\n      <td>5.160828e-01</td>\n    </tr>\n  </tbody>\n</table>\n</div>"
     },
     "execution_count": 14,
     "metadata": {},
     "output_type": "execute_result"
    }
   ],
   "source": [
    "value = np.asarray(pi.V).reshape(grid_size)\n",
    "pd.DataFrame(value)"
   ],
   "metadata": {
    "collapsed": false,
    "pycharm": {
     "name": "#%%\n"
    }
   }
  },
  {
   "cell_type": "code",
   "execution_count": 15,
   "outputs": [],
   "source": [
    "# Value Iteration\n",
    "skip_states = list(absorbing_states.keys())+[blocked_state]\n",
    "states_to_update = [s for s in states if s not in skip_states]\n",
    "\n",
    "V = np.random.rand(num_states)\n",
    "V[skip_states] = 0\n",
    "gamma = .99\n",
    "epsilon = 1e-5"
   ],
   "metadata": {
    "collapsed": false,
    "pycharm": {
     "name": "#%%\n"
    }
   }
  },
  {
   "cell_type": "code",
   "execution_count": 16,
   "outputs": [
    {
     "name": "stdout",
     "output_type": "stream",
     "text": [
      "# Iterations 29 | Time 0.0000\n",
      "          0         1         2         3\n",
      "0  0.884143  0.925054  0.961986  0.000000\n",
      "1  0.848181  0.000000  0.714643  0.000000\n",
      "2  0.808345  0.773328  0.736099  0.516083\n"
     ]
    }
   ],
   "source": [
    "iterations = 0\n",
    "start = process_time()\n",
    "converged = False\n",
    "while not converged:\n",
    "    V_ = np.copy(V)\n",
    "    for state in states_to_update:\n",
    "        q_sa = np.sum(transitions[:, state] * (rewards[:, state] + gamma* V), axis=1)\n",
    "        V[state] = np.max(q_sa)\n",
    "    if np.sum(np.fabs(V - V_)) < epsilon:\n",
    "        converged = True\n",
    "\n",
    "    iterations += 1\n",
    "    if iterations % 1000 == 0:\n",
    "        print(np.sum(np.fabs(V - V_)))\n",
    "\n",
    "print(f'# Iterations {iterations} | Time {process_time() - start:.4f}')\n",
    "print(pd.DataFrame(V.reshape(grid_size)))"
   ],
   "metadata": {
    "collapsed": false,
    "pycharm": {
     "name": "#%%\n"
    }
   }
  },
  {
   "cell_type": "code",
   "execution_count": 17,
   "outputs": [
    {
     "data": {
      "text/plain": "True"
     },
     "execution_count": 17,
     "metadata": {},
     "output_type": "execute_result"
    }
   ],
   "source": [
    "np.allclose(V.reshape(grid_size), np.asarray(vi.V).reshape(grid_size))"
   ],
   "metadata": {
    "collapsed": false,
    "pycharm": {
     "name": "#%%\n"
    }
   }
  },
  {
   "cell_type": "code",
   "execution_count": 18,
   "outputs": [
    {
     "data": {
      "text/plain": "array([2, 2, 2, 0, 1, 0, 0, 0, 1, 0, 0, 0], dtype=int64)"
     },
     "execution_count": 18,
     "metadata": {},
     "output_type": "execute_result"
    }
   ],
   "source": [
    "# Optimal Policy\n",
    "for state, reward in absorbing_states.items():\n",
    "    V[state] = reward\n",
    "\n",
    "policy = np.argmax(np.sum(transitions * V, 2),0)\n",
    "policy"
   ],
   "metadata": {
    "collapsed": false,
    "pycharm": {
     "name": "#%%\n"
    }
   }
  },
  {
   "cell_type": "code",
   "execution_count": 19,
   "outputs": [
    {
     "data": {
      "text/plain": "   0  1  2  3\n0  R  R  R  L\n1  U  L  L  L\n2  U  L  L  L",
      "text/html": "<div>\n<style scoped>\n    .dataframe tbody tr th:only-of-type {\n        vertical-align: middle;\n    }\n\n    .dataframe tbody tr th {\n        vertical-align: top;\n    }\n\n    .dataframe thead th {\n        text-align: right;\n    }\n</style>\n<table border=\"1\" class=\"dataframe\">\n  <thead>\n    <tr style=\"text-align: right;\">\n      <th></th>\n      <th>0</th>\n      <th>1</th>\n      <th>2</th>\n      <th>3</th>\n    </tr>\n  </thead>\n  <tbody>\n    <tr>\n      <th>0</th>\n      <td>R</td>\n      <td>R</td>\n      <td>R</td>\n      <td>L</td>\n    </tr>\n    <tr>\n      <th>1</th>\n      <td>U</td>\n      <td>L</td>\n      <td>L</td>\n      <td>L</td>\n    </tr>\n    <tr>\n      <th>2</th>\n      <td>U</td>\n      <td>L</td>\n      <td>L</td>\n      <td>L</td>\n    </tr>\n  </tbody>\n</table>\n</div>"
     },
     "execution_count": 19,
     "metadata": {},
     "output_type": "execute_result"
    }
   ],
   "source": [
    "pd.DataFrame(policy.reshape(grid_size)).replace(dict(enumerate(actions)))"
   ],
   "metadata": {
    "collapsed": false,
    "pycharm": {
     "name": "#%%\n"
    }
   }
  },
  {
   "cell_type": "code",
   "execution_count": 20,
   "outputs": [],
   "source": [
    "# Policy Iteration\n",
    "def policy_improvement(value, transitions):\n",
    "    for state, reward in absorbing_states.items():\n",
    "        value[state] = reward\n",
    "    return np.argmax(np.sum(transitions * value, 2),0)\n",
    "\n",
    "V = np.random.rand(num_states)\n",
    "V[skip_states] = 0\n",
    "pi = np.random.choice(list(range(num_actions)), size=num_states)"
   ],
   "metadata": {
    "collapsed": false,
    "pycharm": {
     "name": "#%%\n"
    }
   }
  },
  {
   "cell_type": "code",
   "execution_count": 21,
   "outputs": [
    {
     "name": "stdout",
     "output_type": "stream",
     "text": [
      "# Iterations 3 | Time 0.0000\n"
     ]
    }
   ],
   "source": [
    "iterations = 0\n",
    "start = process_time()\n",
    "converged = False\n",
    "while not converged:\n",
    "    pi_ = np.copy(pi)\n",
    "    for state in states_to_update:\n",
    "        action = policy[state]\n",
    "        V[state] = np.dot(transitions[action, state], (rewards[action, state] + gamma* V))\n",
    "        pi = policy_improvement(V.copy(), transitions)\n",
    "    if np.array_equal(pi_, pi):\n",
    "        converged = True\n",
    "    iterations += 1\n",
    "\n",
    "print(f'# Iterations {iterations} | Time {process_time() - start:.4f}')"
   ],
   "metadata": {
    "collapsed": false,
    "pycharm": {
     "name": "#%%\n"
    }
   }
  },
  {
   "cell_type": "code",
   "execution_count": 22,
   "outputs": [
    {
     "data": {
      "text/plain": "   0  1  2  3\n0  R  R  R  L\n1  U  L  U  L\n2  U  L  U  L",
      "text/html": "<div>\n<style scoped>\n    .dataframe tbody tr th:only-of-type {\n        vertical-align: middle;\n    }\n\n    .dataframe tbody tr th {\n        vertical-align: top;\n    }\n\n    .dataframe thead th {\n        text-align: right;\n    }\n</style>\n<table border=\"1\" class=\"dataframe\">\n  <thead>\n    <tr style=\"text-align: right;\">\n      <th></th>\n      <th>0</th>\n      <th>1</th>\n      <th>2</th>\n      <th>3</th>\n    </tr>\n  </thead>\n  <tbody>\n    <tr>\n      <th>0</th>\n      <td>R</td>\n      <td>R</td>\n      <td>R</td>\n      <td>L</td>\n    </tr>\n    <tr>\n      <th>1</th>\n      <td>U</td>\n      <td>L</td>\n      <td>U</td>\n      <td>L</td>\n    </tr>\n    <tr>\n      <th>2</th>\n      <td>U</td>\n      <td>L</td>\n      <td>U</td>\n      <td>L</td>\n    </tr>\n  </tbody>\n</table>\n</div>"
     },
     "execution_count": 22,
     "metadata": {},
     "output_type": "execute_result"
    }
   ],
   "source": [
    "pd.DataFrame(pi.reshape(grid_size)).replace(dict(enumerate(actions)))"
   ],
   "metadata": {
    "collapsed": false,
    "pycharm": {
     "name": "#%%\n"
    }
   }
  },
  {
   "cell_type": "code",
   "execution_count": 23,
   "outputs": [
    {
     "data": {
      "text/plain": "          0         1         2         3\n0  0.814431  0.919626  0.955838  0.000000\n1  0.731303  0.000000  0.634186  0.000000\n2  0.647915  0.577527  0.541438  0.333944",
      "text/html": "<div>\n<style scoped>\n    .dataframe tbody tr th:only-of-type {\n        vertical-align: middle;\n    }\n\n    .dataframe tbody tr th {\n        vertical-align: top;\n    }\n\n    .dataframe thead th {\n        text-align: right;\n    }\n</style>\n<table border=\"1\" class=\"dataframe\">\n  <thead>\n    <tr style=\"text-align: right;\">\n      <th></th>\n      <th>0</th>\n      <th>1</th>\n      <th>2</th>\n      <th>3</th>\n    </tr>\n  </thead>\n  <tbody>\n    <tr>\n      <th>0</th>\n      <td>0.814431</td>\n      <td>0.919626</td>\n      <td>0.955838</td>\n      <td>0.000000</td>\n    </tr>\n    <tr>\n      <th>1</th>\n      <td>0.731303</td>\n      <td>0.000000</td>\n      <td>0.634186</td>\n      <td>0.000000</td>\n    </tr>\n    <tr>\n      <th>2</th>\n      <td>0.647915</td>\n      <td>0.577527</td>\n      <td>0.541438</td>\n      <td>0.333944</td>\n    </tr>\n  </tbody>\n</table>\n</div>"
     },
     "execution_count": 23,
     "metadata": {},
     "output_type": "execute_result"
    }
   ],
   "source": [
    "pd.DataFrame(V.reshape(grid_size))"
   ],
   "metadata": {
    "collapsed": false,
    "pycharm": {
     "name": "#%%\n"
    }
   }
  }
 ],
 "metadata": {
  "kernelspec": {
   "display_name": "Python 3",
   "language": "python",
   "name": "python3"
  },
  "language_info": {
   "codemirror_mode": {
    "name": "ipython",
    "version": 2
   },
   "file_extension": ".py",
   "mimetype": "text/x-python",
   "name": "python",
   "nbconvert_exporter": "python",
   "pygments_lexer": "ipython2",
   "version": "2.7.6"
  }
 },
 "nbformat": 4,
 "nbformat_minor": 0
}