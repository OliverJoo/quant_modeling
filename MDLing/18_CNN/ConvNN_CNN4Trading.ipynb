{
 "cells": [
  {
   "cell_type": "code",
   "execution_count": 1,
   "metadata": {
    "collapsed": true,
    "pycharm": {
     "name": "#%%\n"
    }
   },
   "outputs": [],
   "source": [
    "import warnings\n",
    "warnings.filterwarnings('ignore')\n",
    "%matplotlib inline\n",
    "\n",
    "from time import time\n",
    "from pathlib import Path\n",
    "import sys, os\n",
    "\n",
    "import numpy as np\n",
    "import pandas as pd\n",
    "\n",
    "from sklearn.preprocessing import MinMaxScaler\n",
    "from scipy.stats import spearmanr\n",
    "\n",
    "import tensorflow as tf\n",
    "from tensorflow.keras.models import Sequential\n",
    "from tensorflow.keras.layers import Dense, Dropout, Flatten, Conv2D, MaxPooling2D\n",
    "\n",
    "import matplotlib.pyplot as plt\n",
    "import seaborn as sns\n",
    "from utils4t import MultipleTimeSeriesCV, format_time"
   ]
  },
  {
   "cell_type": "code",
   "execution_count": 2,
   "outputs": [
    {
     "name": "stdout",
     "output_type": "stream",
     "text": [
      "Using GPU\n"
     ]
    }
   ],
   "source": [
    "gpu_devices = tf.config.experimental.list_physical_devices('GPU')\n",
    "if gpu_devices:\n",
    "    print('Using GPU')\n",
    "    tf.config.experimental.set_memory_growth(gpu_devices[0], True)\n",
    "else:\n",
    "    print('Using CPU')\n",
    "\n",
    "sns.set_style('whitegrid')\n",
    "np.random.seed(42)\n",
    "size = 15\n",
    "lookahead = 1\n",
    "\n",
    "results_path = Path('results', 'cnn_for_trading')\n",
    "if not results_path.exists():\n",
    "    results_path.mkdir(parents=True)"
   ],
   "metadata": {
    "collapsed": false,
    "pycharm": {
     "name": "#%%\n"
    }
   }
  },
  {
   "cell_type": "code",
   "execution_count": 3,
   "outputs": [
    {
     "name": "stdout",
     "output_type": "stream",
     "text": [
      "<class 'pandas.core.frame.DataFrame'>\n",
      "MultiIndex: 2416051 entries, ('A', Timestamp('2001-01-02 00:00:00')) to ('ZTS', Timestamp('2018-03-27 00:00:00'))\n",
      "Columns: 225 entries, 01_CMO to 11_WMA\n",
      "dtypes: float32(195), float64(30)\n",
      "memory usage: 2.3+ GB\n"
     ]
    }
   ],
   "source": [
    "# Load Model Data\n",
    "with pd.HDFStore('data/universe_data.h5') as store:\n",
    "    features = store['img_data']\n",
    "    targets = store['targets']\n",
    "features.info()"
   ],
   "metadata": {
    "collapsed": false,
    "pycharm": {
     "name": "#%%\n"
    }
   }
  },
  {
   "cell_type": "code",
   "execution_count": 5,
   "outputs": [
    {
     "data": {
      "text/plain": "                      01_CMO    01_ROC   01_NATR    01_PPO   01_MACD  \\\nsymbol date                                                            \nA      2001-01-02 -34.412796 -0.973141  6.947728  0.585962  0.534434   \n       2001-01-03  12.697194  2.633023  7.902791  1.489047  0.594177   \n       2001-01-04  25.371769  8.878505  7.599194  2.874703  0.748755   \n       2001-01-05  -0.667682 -1.573114  8.137382  2.481612  0.687998   \n       2001-01-08 -12.974548 -3.724462  8.088328  1.464707  0.534037   \n       2001-01-09 -14.725676 -3.196347  7.756344  0.662250  0.393383   \n       2001-01-10   6.201897  8.706761  7.151905  1.021115  0.403544   \n       2001-01-11  22.686089  2.547657  6.885161  2.109057  0.528496   \n       2001-01-12   8.185741 -3.639485  6.569717  2.223989  0.542454   \n       2001-01-16  23.762115  5.684708  6.123020  3.042057  0.658498   \n\n                     01_CMA    01_RMW    01_HML  01_Market    01_SMB  ...  \\\nsymbol date                                                           ...   \nA      2001-01-02  0.025279 -0.006478 -0.016951   0.013758 -0.011674  ...   \n       2001-01-03  0.014975 -0.008856 -0.018188   0.009819 -0.020037  ...   \n       2001-01-04  0.005857 -0.002693 -0.021231   0.004036 -0.009937  ...   \n       2001-01-05  0.000882 -0.003614 -0.013796   0.005879 -0.005555  ...   \n       2001-01-08 -0.019798 -0.003292  0.017045   0.014734  0.015989  ...   \n       2001-01-09 -0.057114 -0.016250  0.077492   0.023451  0.046154  ...   \n       2001-01-10 -0.080198 -0.032393  0.107490   0.018679  0.061976  ...   \n       2001-01-11 -0.035940 -0.019112  0.033739   0.005908  0.027541  ...   \n       2001-01-12 -0.033253 -0.013577  0.029525   0.008077  0.021867  ...   \n       2001-01-16 -0.021099  0.001203  0.010575   0.012431  0.019688  ...   \n\n                     11_CMA    11_RMW    11_HML  11_Market    11_SMB  \\\nsymbol date                                                            \nA      2001-01-02 -0.000318  0.001430 -0.002984   0.017752  0.008332   \n       2001-01-03  0.000321  0.002027 -0.004751   0.017179  0.006739   \n       2001-01-04 -0.000894  0.002713 -0.006307   0.016025  0.010261   \n       2001-01-05 -0.001228  0.001167 -0.004730   0.016212  0.009304   \n       2001-01-08  0.000942  0.001341 -0.005059   0.017432  0.010896   \n       2001-01-09  0.003383  0.003184 -0.008622   0.017611  0.009998   \n       2001-01-10  0.002964  0.002954 -0.008293   0.017326  0.009965   \n       2001-01-11  0.002584  0.002016 -0.007086   0.017121  0.009000   \n       2001-01-12  0.002168  0.002470 -0.006528   0.017463  0.007894   \n       2001-01-16  0.002428  0.002848 -0.007988   0.016461  0.007431   \n\n                     11_BBH    11_BBL     11_RSI     11_EMA     11_WMA  \nsymbol date                                                             \nA      2001-01-02  0.151378  0.004491  46.341988  36.953236  37.318766  \n       2001-01-03  0.066146  0.090595  54.497822  37.110993  37.350420  \n       2001-01-04  0.034141  0.120748  57.293777  37.420349  37.568837  \n       2001-01-05  0.080985  0.075976  52.150497  37.437270  37.528706  \n       2001-01-08  0.102645  0.049909  49.463108  37.306922  37.354283  \n       2001-01-09  0.095221  0.044919  49.090408  37.171844  37.184575  \n       2001-01-10  0.055356  0.081671  52.609795  37.238066  37.231630  \n       2001-01-11  0.020442  0.114962  55.785439  37.477090  37.467154  \n       2001-01-12  0.041336  0.093935  53.361328  37.573217  37.585091  \n       2001-01-16  0.016178  0.120144  56.280544  37.823378  37.873037  \n\n[10 rows x 225 columns]",
      "text/html": "<div>\n<style scoped>\n    .dataframe tbody tr th:only-of-type {\n        vertical-align: middle;\n    }\n\n    .dataframe tbody tr th {\n        vertical-align: top;\n    }\n\n    .dataframe thead th {\n        text-align: right;\n    }\n</style>\n<table border=\"1\" class=\"dataframe\">\n  <thead>\n    <tr style=\"text-align: right;\">\n      <th></th>\n      <th></th>\n      <th>01_CMO</th>\n      <th>01_ROC</th>\n      <th>01_NATR</th>\n      <th>01_PPO</th>\n      <th>01_MACD</th>\n      <th>01_CMA</th>\n      <th>01_RMW</th>\n      <th>01_HML</th>\n      <th>01_Market</th>\n      <th>01_SMB</th>\n      <th>...</th>\n      <th>11_CMA</th>\n      <th>11_RMW</th>\n      <th>11_HML</th>\n      <th>11_Market</th>\n      <th>11_SMB</th>\n      <th>11_BBH</th>\n      <th>11_BBL</th>\n      <th>11_RSI</th>\n      <th>11_EMA</th>\n      <th>11_WMA</th>\n    </tr>\n    <tr>\n      <th>symbol</th>\n      <th>date</th>\n      <th></th>\n      <th></th>\n      <th></th>\n      <th></th>\n      <th></th>\n      <th></th>\n      <th></th>\n      <th></th>\n      <th></th>\n      <th></th>\n      <th></th>\n      <th></th>\n      <th></th>\n      <th></th>\n      <th></th>\n      <th></th>\n      <th></th>\n      <th></th>\n      <th></th>\n      <th></th>\n      <th></th>\n    </tr>\n  </thead>\n  <tbody>\n    <tr>\n      <th rowspan=\"10\" valign=\"top\">A</th>\n      <th>2001-01-02</th>\n      <td>-34.412796</td>\n      <td>-0.973141</td>\n      <td>6.947728</td>\n      <td>0.585962</td>\n      <td>0.534434</td>\n      <td>0.025279</td>\n      <td>-0.006478</td>\n      <td>-0.016951</td>\n      <td>0.013758</td>\n      <td>-0.011674</td>\n      <td>...</td>\n      <td>-0.000318</td>\n      <td>0.001430</td>\n      <td>-0.002984</td>\n      <td>0.017752</td>\n      <td>0.008332</td>\n      <td>0.151378</td>\n      <td>0.004491</td>\n      <td>46.341988</td>\n      <td>36.953236</td>\n      <td>37.318766</td>\n    </tr>\n    <tr>\n      <th>2001-01-03</th>\n      <td>12.697194</td>\n      <td>2.633023</td>\n      <td>7.902791</td>\n      <td>1.489047</td>\n      <td>0.594177</td>\n      <td>0.014975</td>\n      <td>-0.008856</td>\n      <td>-0.018188</td>\n      <td>0.009819</td>\n      <td>-0.020037</td>\n      <td>...</td>\n      <td>0.000321</td>\n      <td>0.002027</td>\n      <td>-0.004751</td>\n      <td>0.017179</td>\n      <td>0.006739</td>\n      <td>0.066146</td>\n      <td>0.090595</td>\n      <td>54.497822</td>\n      <td>37.110993</td>\n      <td>37.350420</td>\n    </tr>\n    <tr>\n      <th>2001-01-04</th>\n      <td>25.371769</td>\n      <td>8.878505</td>\n      <td>7.599194</td>\n      <td>2.874703</td>\n      <td>0.748755</td>\n      <td>0.005857</td>\n      <td>-0.002693</td>\n      <td>-0.021231</td>\n      <td>0.004036</td>\n      <td>-0.009937</td>\n      <td>...</td>\n      <td>-0.000894</td>\n      <td>0.002713</td>\n      <td>-0.006307</td>\n      <td>0.016025</td>\n      <td>0.010261</td>\n      <td>0.034141</td>\n      <td>0.120748</td>\n      <td>57.293777</td>\n      <td>37.420349</td>\n      <td>37.568837</td>\n    </tr>\n    <tr>\n      <th>2001-01-05</th>\n      <td>-0.667682</td>\n      <td>-1.573114</td>\n      <td>8.137382</td>\n      <td>2.481612</td>\n      <td>0.687998</td>\n      <td>0.000882</td>\n      <td>-0.003614</td>\n      <td>-0.013796</td>\n      <td>0.005879</td>\n      <td>-0.005555</td>\n      <td>...</td>\n      <td>-0.001228</td>\n      <td>0.001167</td>\n      <td>-0.004730</td>\n      <td>0.016212</td>\n      <td>0.009304</td>\n      <td>0.080985</td>\n      <td>0.075976</td>\n      <td>52.150497</td>\n      <td>37.437270</td>\n      <td>37.528706</td>\n    </tr>\n    <tr>\n      <th>2001-01-08</th>\n      <td>-12.974548</td>\n      <td>-3.724462</td>\n      <td>8.088328</td>\n      <td>1.464707</td>\n      <td>0.534037</td>\n      <td>-0.019798</td>\n      <td>-0.003292</td>\n      <td>0.017045</td>\n      <td>0.014734</td>\n      <td>0.015989</td>\n      <td>...</td>\n      <td>0.000942</td>\n      <td>0.001341</td>\n      <td>-0.005059</td>\n      <td>0.017432</td>\n      <td>0.010896</td>\n      <td>0.102645</td>\n      <td>0.049909</td>\n      <td>49.463108</td>\n      <td>37.306922</td>\n      <td>37.354283</td>\n    </tr>\n    <tr>\n      <th>2001-01-09</th>\n      <td>-14.725676</td>\n      <td>-3.196347</td>\n      <td>7.756344</td>\n      <td>0.662250</td>\n      <td>0.393383</td>\n      <td>-0.057114</td>\n      <td>-0.016250</td>\n      <td>0.077492</td>\n      <td>0.023451</td>\n      <td>0.046154</td>\n      <td>...</td>\n      <td>0.003383</td>\n      <td>0.003184</td>\n      <td>-0.008622</td>\n      <td>0.017611</td>\n      <td>0.009998</td>\n      <td>0.095221</td>\n      <td>0.044919</td>\n      <td>49.090408</td>\n      <td>37.171844</td>\n      <td>37.184575</td>\n    </tr>\n    <tr>\n      <th>2001-01-10</th>\n      <td>6.201897</td>\n      <td>8.706761</td>\n      <td>7.151905</td>\n      <td>1.021115</td>\n      <td>0.403544</td>\n      <td>-0.080198</td>\n      <td>-0.032393</td>\n      <td>0.107490</td>\n      <td>0.018679</td>\n      <td>0.061976</td>\n      <td>...</td>\n      <td>0.002964</td>\n      <td>0.002954</td>\n      <td>-0.008293</td>\n      <td>0.017326</td>\n      <td>0.009965</td>\n      <td>0.055356</td>\n      <td>0.081671</td>\n      <td>52.609795</td>\n      <td>37.238066</td>\n      <td>37.231630</td>\n    </tr>\n    <tr>\n      <th>2001-01-11</th>\n      <td>22.686089</td>\n      <td>2.547657</td>\n      <td>6.885161</td>\n      <td>2.109057</td>\n      <td>0.528496</td>\n      <td>-0.035940</td>\n      <td>-0.019112</td>\n      <td>0.033739</td>\n      <td>0.005908</td>\n      <td>0.027541</td>\n      <td>...</td>\n      <td>0.002584</td>\n      <td>0.002016</td>\n      <td>-0.007086</td>\n      <td>0.017121</td>\n      <td>0.009000</td>\n      <td>0.020442</td>\n      <td>0.114962</td>\n      <td>55.785439</td>\n      <td>37.477090</td>\n      <td>37.467154</td>\n    </tr>\n    <tr>\n      <th>2001-01-12</th>\n      <td>8.185741</td>\n      <td>-3.639485</td>\n      <td>6.569717</td>\n      <td>2.223989</td>\n      <td>0.542454</td>\n      <td>-0.033253</td>\n      <td>-0.013577</td>\n      <td>0.029525</td>\n      <td>0.008077</td>\n      <td>0.021867</td>\n      <td>...</td>\n      <td>0.002168</td>\n      <td>0.002470</td>\n      <td>-0.006528</td>\n      <td>0.017463</td>\n      <td>0.007894</td>\n      <td>0.041336</td>\n      <td>0.093935</td>\n      <td>53.361328</td>\n      <td>37.573217</td>\n      <td>37.585091</td>\n    </tr>\n    <tr>\n      <th>2001-01-16</th>\n      <td>23.762115</td>\n      <td>5.684708</td>\n      <td>6.123020</td>\n      <td>3.042057</td>\n      <td>0.658498</td>\n      <td>-0.021099</td>\n      <td>0.001203</td>\n      <td>0.010575</td>\n      <td>0.012431</td>\n      <td>0.019688</td>\n      <td>...</td>\n      <td>0.002428</td>\n      <td>0.002848</td>\n      <td>-0.007988</td>\n      <td>0.016461</td>\n      <td>0.007431</td>\n      <td>0.016178</td>\n      <td>0.120144</td>\n      <td>56.280544</td>\n      <td>37.823378</td>\n      <td>37.873037</td>\n    </tr>\n  </tbody>\n</table>\n<p>10 rows × 225 columns</p>\n</div>"
     },
     "execution_count": 5,
     "metadata": {},
     "output_type": "execute_result"
    }
   ],
   "source": [
    "features.head(10)"
   ],
   "metadata": {
    "collapsed": false,
    "pycharm": {
     "name": "#%%\n"
    }
   }
  },
  {
   "cell_type": "code",
   "execution_count": 8,
   "outputs": [
    {
     "data": {
      "text/plain": "                    r01_fwd  r01dec_fwd   r05_fwd  r05dec_fwd\nsymbol date                                                  \nA      2001-01-02  0.103184         7.0  0.041667         6.0\n       2001-01-03  0.037769         8.0 -0.014609         5.0\n       2001-01-04 -0.054764         2.0 -0.011845         4.0\n       2001-01-05 -0.032873         1.0  0.019433         5.0\n       2001-01-08 -0.004695         4.0  0.092770         7.0\n       2001-01-09  0.043585         8.0  0.168679         8.0\n       2001-01-10  0.040680         7.0  0.221479         9.0\n       2001-01-11 -0.024844         2.0  0.138985         9.0\n       2001-01-12  0.036701         8.0  0.117940         9.0\n       2001-01-16  0.064444         9.0  0.078364         7.0",
      "text/html": "<div>\n<style scoped>\n    .dataframe tbody tr th:only-of-type {\n        vertical-align: middle;\n    }\n\n    .dataframe tbody tr th {\n        vertical-align: top;\n    }\n\n    .dataframe thead th {\n        text-align: right;\n    }\n</style>\n<table border=\"1\" class=\"dataframe\">\n  <thead>\n    <tr style=\"text-align: right;\">\n      <th></th>\n      <th></th>\n      <th>r01_fwd</th>\n      <th>r01dec_fwd</th>\n      <th>r05_fwd</th>\n      <th>r05dec_fwd</th>\n    </tr>\n    <tr>\n      <th>symbol</th>\n      <th>date</th>\n      <th></th>\n      <th></th>\n      <th></th>\n      <th></th>\n    </tr>\n  </thead>\n  <tbody>\n    <tr>\n      <th rowspan=\"10\" valign=\"top\">A</th>\n      <th>2001-01-02</th>\n      <td>0.103184</td>\n      <td>7.0</td>\n      <td>0.041667</td>\n      <td>6.0</td>\n    </tr>\n    <tr>\n      <th>2001-01-03</th>\n      <td>0.037769</td>\n      <td>8.0</td>\n      <td>-0.014609</td>\n      <td>5.0</td>\n    </tr>\n    <tr>\n      <th>2001-01-04</th>\n      <td>-0.054764</td>\n      <td>2.0</td>\n      <td>-0.011845</td>\n      <td>4.0</td>\n    </tr>\n    <tr>\n      <th>2001-01-05</th>\n      <td>-0.032873</td>\n      <td>1.0</td>\n      <td>0.019433</td>\n      <td>5.0</td>\n    </tr>\n    <tr>\n      <th>2001-01-08</th>\n      <td>-0.004695</td>\n      <td>4.0</td>\n      <td>0.092770</td>\n      <td>7.0</td>\n    </tr>\n    <tr>\n      <th>2001-01-09</th>\n      <td>0.043585</td>\n      <td>8.0</td>\n      <td>0.168679</td>\n      <td>8.0</td>\n    </tr>\n    <tr>\n      <th>2001-01-10</th>\n      <td>0.040680</td>\n      <td>7.0</td>\n      <td>0.221479</td>\n      <td>9.0</td>\n    </tr>\n    <tr>\n      <th>2001-01-11</th>\n      <td>-0.024844</td>\n      <td>2.0</td>\n      <td>0.138985</td>\n      <td>9.0</td>\n    </tr>\n    <tr>\n      <th>2001-01-12</th>\n      <td>0.036701</td>\n      <td>8.0</td>\n      <td>0.117940</td>\n      <td>9.0</td>\n    </tr>\n    <tr>\n      <th>2001-01-16</th>\n      <td>0.064444</td>\n      <td>9.0</td>\n      <td>0.078364</td>\n      <td>7.0</td>\n    </tr>\n  </tbody>\n</table>\n</div>"
     },
     "execution_count": 8,
     "metadata": {},
     "output_type": "execute_result"
    }
   ],
   "source": [
    "targets.head(10)"
   ],
   "metadata": {
    "collapsed": false,
    "pycharm": {
     "name": "#%%\n"
    }
   }
  },
  {
   "cell_type": "code",
   "execution_count": 4,
   "outputs": [
    {
     "data": {
      "text/plain": "((1208025, 225), (1208025, 4))"
     },
     "execution_count": 4,
     "metadata": {},
     "output_type": "execute_result"
    }
   ],
   "source": [
    "features = features[:int(len(features)/2)]\n",
    "targets = targets[:int(len(targets)/2)]\n",
    "\n",
    "features.shape, targets.shape"
   ],
   "metadata": {
    "collapsed": false,
    "pycharm": {
     "name": "#%%\n"
    }
   }
  },
  {
   "cell_type": "code",
   "execution_count": 5,
   "outputs": [
    {
     "name": "stdout",
     "output_type": "stream",
     "text": [
      "<class 'pandas.core.frame.DataFrame'>\n",
      "MultiIndex: 1208025 entries, ('A', Timestamp('2001-01-02 00:00:00')) to ('JNPR', Timestamp('2012-08-14 00:00:00'))\n",
      "Data columns (total 4 columns):\n",
      " #   Column      Non-Null Count    Dtype  \n",
      "---  ------      --------------    -----  \n",
      " 0   r01_fwd     1207668 non-null  float64\n",
      " 1   r01dec_fwd  1207667 non-null  float64\n",
      " 2   r05_fwd     1206240 non-null  float64\n",
      " 3   r05dec_fwd  1206240 non-null  float64\n",
      "dtypes: float64(4)\n",
      "memory usage: 41.7+ MB\n"
     ]
    }
   ],
   "source": [
    "targets.info()"
   ],
   "metadata": {
    "collapsed": false,
    "pycharm": {
     "name": "#%%\n"
    }
   }
  },
  {
   "cell_type": "code",
   "execution_count": 6,
   "outputs": [],
   "source": [
    "outcome = f'r{lookahead:02}_fwd'\n",
    "features = features.join(targets[[outcome]]).dropna()\n",
    "target = features[outcome]\n",
    "features = features.drop(outcome, axis=1)"
   ],
   "metadata": {
    "collapsed": false,
    "pycharm": {
     "name": "#%%\n"
    }
   }
  },
  {
   "cell_type": "code",
   "execution_count": 7,
   "outputs": [
    {
     "name": "stdout",
     "output_type": "stream",
     "text": [
      "Model: \"sequential\"\n",
      "_________________________________________________________________\n",
      " Layer (type)                Output Shape              Param #   \n",
      "=================================================================\n",
      " CONV1 (Conv2D)              (None, 15, 15, 16)        160       \n",
      "                                                                 \n",
      " CONV2 (Conv2D)              (None, 15, 15, 32)        4640      \n",
      "                                                                 \n",
      " POOL2 (MaxPooling2D)        (None, 7, 7, 32)          0         \n",
      "                                                                 \n",
      " DROP1 (Dropout)             (None, 7, 7, 32)          0         \n",
      "                                                                 \n",
      " FLAT1 (Flatten)             (None, 1568)              0         \n",
      "                                                                 \n",
      " FC1 (Dense)                 (None, 32)                50208     \n",
      "                                                                 \n",
      " DROP2 (Dropout)             (None, 32)                0         \n",
      "                                                                 \n",
      " FC2 (Dense)                 (None, 1)                 33        \n",
      "                                                                 \n",
      "=================================================================\n",
      "Total params: 55,041\n",
      "Trainable params: 55,041\n",
      "Non-trainable params: 0\n",
      "_________________________________________________________________\n"
     ]
    }
   ],
   "source": [
    "# CNN\n",
    "def make_model(filter1=16, act1='relu', filter2=32, act2='relu', do1=.25, do2=.5, dense=32):\n",
    "    input_shape = (size, size, 1)\n",
    "    cnn = Sequential([\n",
    "        Conv2D(filters=filter1, kernel_size=3, padding='same', activation=act1, input_shape=input_shape,\n",
    "               name='CONV1'),\n",
    "        Conv2D(filters=filter2, kernel_size=3, padding='same', activation=act2, name='CONV2'),\n",
    "        MaxPooling2D(pool_size=2, name='POOL2'),\n",
    "        Dropout(do1, name='DROP1'),\n",
    "        Flatten(name='FLAT1'),\n",
    "        Dense(dense, activation='relu', name='FC1'),\n",
    "        Dropout(do2, name='DROP2'),\n",
    "        Dense(1, activation='linear', name='FC2')\n",
    "    ])\n",
    "    cnn.compile(loss='mse',\n",
    "                optimizer=tf.keras.optimizers.SGD(learning_rate=0.01, momentum=0.9,\n",
    "                                                  nesterov=False, name='SGD'),\n",
    "                metrics=[tf.keras.metrics.RootMeanSquaredError(name='rmse')])\n",
    "    return cnn\n",
    "\n",
    "cnn = make_model()\n",
    "cnn.summary()"
   ],
   "metadata": {
    "collapsed": false,
    "pycharm": {
     "name": "#%%\n"
    }
   }
  },
  {
   "cell_type": "code",
   "execution_count": 8,
   "outputs": [],
   "source": [
    "# Train the Model\n",
    "train_period_length = 5 * 12 * 21\n",
    "test_period_length = 5 * 21\n",
    "n_splits = 16\n",
    "cv = MultipleTimeSeriesCV(n_splits=n_splits, train_period_length=train_period_length,\n",
    "                          test_period_length=test_period_length, lookahead=lookahead)\n",
    "\n",
    "def get_train_valid_data(X, y, train_idx, test_idx):\n",
    "    x_train, y_train = X.iloc[train_idx, :], y.iloc[train_idx]\n",
    "    x_val, y_val = X.iloc[test_idx, :], y.iloc[test_idx]\n",
    "    scaler = MinMaxScaler(feature_range=(-1, 1))\n",
    "    x_train = scaler.fit_transform(x_train)\n",
    "    x_val = scaler.transform(x_val)\n",
    "    return (x_train.reshape(-1, size, size, 1), y_train, x_val.reshape(-1, size, size, 1), y_val)"
   ],
   "metadata": {
    "collapsed": false,
    "pycharm": {
     "name": "#%%\n"
    }
   }
  },
  {
   "cell_type": "code",
   "execution_count": 9,
   "outputs": [
    {
     "name": "stdout",
     "output_type": "stream",
     "text": [
      "Epoch 1/10\n",
      "5331/5331 [==============================] - 26s 3ms/step - loss: 3.9476e-04 - rmse: 0.0199 - val_loss: 3.7491e-04 - val_rmse: 0.0194\n",
      "Epoch 2/10\n",
      "5331/5331 [==============================] - 17s 3ms/step - loss: 3.6020e-04 - rmse: 0.0190 - val_loss: 3.7463e-04 - val_rmse: 0.0194\n",
      "Epoch 3/10\n",
      "5331/5331 [==============================] - 17s 3ms/step - loss: 3.5943e-04 - rmse: 0.0190 - val_loss: 3.7412e-04 - val_rmse: 0.0193\n",
      "Epoch 4/10\n",
      "5331/5331 [==============================] - 17s 3ms/step - loss: 3.5934e-04 - rmse: 0.0190 - val_loss: 3.7427e-04 - val_rmse: 0.0193\n",
      "Epoch 5/10\n",
      "5331/5331 [==============================] - 17s 3ms/step - loss: 3.5922e-04 - rmse: 0.0190 - val_loss: 3.7461e-04 - val_rmse: 0.0194\n",
      "Epoch 6/10\n",
      "5331/5331 [==============================] - 17s 3ms/step - loss: 3.5908e-04 - rmse: 0.0189 - val_loss: 3.7411e-04 - val_rmse: 0.0193\n",
      "Epoch 7/10\n",
      "5331/5331 [==============================] - 17s 3ms/step - loss: 3.5876e-04 - rmse: 0.0189 - val_loss: 3.7411e-04 - val_rmse: 0.0193\n",
      "Epoch 8/10\n",
      "5331/5331 [==============================] - 17s 3ms/step - loss: 3.5889e-04 - rmse: 0.0189 - val_loss: 3.7408e-04 - val_rmse: 0.0193\n",
      "Epoch 9/10\n",
      "5331/5331 [==============================] - 17s 3ms/step - loss: 3.5899e-04 - rmse: 0.0189 - val_loss: 3.7418e-04 - val_rmse: 0.0193\n",
      "Epoch 10/10\n",
      "5331/5331 [==============================] - 16s 3ms/step - loss: 3.5886e-04 - rmse: 0.0189 - val_loss: 3.7409e-04 - val_rmse: 0.0193\n",
      "00:03:04 | fold:01 | Mean:-0.0143 | Median:-0.0139\n",
      "Epoch 1/10\n",
      "5405/5405 [==============================] - 17s 3ms/step - loss: 4.3149e-04 - rmse: 0.0208 - val_loss: 2.3938e-04 - val_rmse: 0.0155\n",
      "Epoch 2/10\n",
      "5405/5405 [==============================] - 16s 3ms/step - loss: 3.7284e-04 - rmse: 0.0193 - val_loss: 2.3939e-04 - val_rmse: 0.0155\n",
      "Epoch 3/10\n",
      "5405/5405 [==============================] - 16s 3ms/step - loss: 3.7228e-04 - rmse: 0.0193 - val_loss: 2.3883e-04 - val_rmse: 0.0155\n",
      "Epoch 4/10\n",
      "5405/5405 [==============================] - 16s 3ms/step - loss: 3.7193e-04 - rmse: 0.0193 - val_loss: 2.3937e-04 - val_rmse: 0.0155\n",
      "Epoch 5/10\n",
      "5405/5405 [==============================] - 16s 3ms/step - loss: 3.7196e-04 - rmse: 0.0193 - val_loss: 2.3896e-04 - val_rmse: 0.0155\n",
      "Epoch 6/10\n",
      "5405/5405 [==============================] - 16s 3ms/step - loss: 3.7209e-04 - rmse: 0.0193 - val_loss: 2.3883e-04 - val_rmse: 0.0155\n",
      "Epoch 7/10\n",
      "5405/5405 [==============================] - 16s 3ms/step - loss: 3.7181e-04 - rmse: 0.0193 - val_loss: 2.4011e-04 - val_rmse: 0.0155\n",
      "Epoch 8/10\n",
      "5405/5405 [==============================] - 16s 3ms/step - loss: 3.7216e-04 - rmse: 0.0193 - val_loss: 2.3965e-04 - val_rmse: 0.0155\n",
      "Epoch 9/10\n",
      "5405/5405 [==============================] - 16s 3ms/step - loss: 3.7198e-04 - rmse: 0.0193 - val_loss: 2.3910e-04 - val_rmse: 0.0155\n",
      "Epoch 10/10\n",
      "5405/5405 [==============================] - 16s 3ms/step - loss: 3.7194e-04 - rmse: 0.0193 - val_loss: 2.4037e-04 - val_rmse: 0.0155\n",
      "00:05:51 | fold:02 | Mean:-0.0064 | Median:-0.0140\n",
      "Epoch 1/10\n",
      "5457/5457 [==============================] - 17s 3ms/step - loss: 4.1834e-04 - rmse: 0.0205 - val_loss: 2.3962e-04 - val_rmse: 0.0155\n",
      "Epoch 2/10\n",
      "5457/5457 [==============================] - 16s 3ms/step - loss: 3.8333e-04 - rmse: 0.0196 - val_loss: 2.3818e-04 - val_rmse: 0.0154\n",
      "Epoch 3/10\n",
      "5457/5457 [==============================] - 16s 3ms/step - loss: 3.8293e-04 - rmse: 0.0196 - val_loss: 2.3860e-04 - val_rmse: 0.0154\n",
      "Epoch 4/10\n",
      "5457/5457 [==============================] - 17s 3ms/step - loss: 3.8260e-04 - rmse: 0.0196 - val_loss: 2.3814e-04 - val_rmse: 0.0154\n",
      "Epoch 5/10\n",
      "5457/5457 [==============================] - 16s 3ms/step - loss: 3.8253e-04 - rmse: 0.0196 - val_loss: 2.3815e-04 - val_rmse: 0.0154\n",
      "Epoch 6/10\n",
      "5457/5457 [==============================] - 17s 3ms/step - loss: 3.8239e-04 - rmse: 0.0196 - val_loss: 2.3795e-04 - val_rmse: 0.0154\n",
      "Epoch 7/10\n",
      "5457/5457 [==============================] - 16s 3ms/step - loss: 3.8243e-04 - rmse: 0.0196 - val_loss: 2.3958e-04 - val_rmse: 0.0155\n",
      "Epoch 8/10\n",
      "5457/5457 [==============================] - 16s 3ms/step - loss: 3.8243e-04 - rmse: 0.0196 - val_loss: 2.3818e-04 - val_rmse: 0.0154\n",
      "Epoch 9/10\n",
      "5457/5457 [==============================] - 16s 3ms/step - loss: 3.8233e-04 - rmse: 0.0196 - val_loss: 2.3804e-04 - val_rmse: 0.0154\n",
      "Epoch 10/10\n",
      "5457/5457 [==============================] - 16s 3ms/step - loss: 3.8220e-04 - rmse: 0.0195 - val_loss: 2.3914e-04 - val_rmse: 0.0155\n",
      "00:08:38 | fold:03 | Mean:-0.0136 | Median:-0.0319\n",
      "Epoch 1/10\n",
      "5489/5489 [==============================] - 17s 3ms/step - loss: 4.8953e-04 - rmse: 0.0221 - val_loss: 3.6572e-04 - val_rmse: 0.0191\n",
      "Epoch 2/10\n",
      "5489/5489 [==============================] - 16s 3ms/step - loss: 4.3442e-04 - rmse: 0.0208 - val_loss: 3.6321e-04 - val_rmse: 0.0191\n",
      "Epoch 3/10\n",
      "5489/5489 [==============================] - 16s 3ms/step - loss: 4.3401e-04 - rmse: 0.0208 - val_loss: 3.6325e-04 - val_rmse: 0.0191\n",
      "Epoch 4/10\n",
      "5489/5489 [==============================] - 16s 3ms/step - loss: 4.3385e-04 - rmse: 0.0208 - val_loss: 3.6407e-04 - val_rmse: 0.0191\n",
      "Epoch 5/10\n",
      "5489/5489 [==============================] - 16s 3ms/step - loss: 4.3385e-04 - rmse: 0.0208 - val_loss: 3.6479e-04 - val_rmse: 0.0191\n",
      "Epoch 6/10\n",
      "5489/5489 [==============================] - 16s 3ms/step - loss: 4.3376e-04 - rmse: 0.0208 - val_loss: 3.6407e-04 - val_rmse: 0.0191\n",
      "Epoch 7/10\n",
      "5489/5489 [==============================] - 16s 3ms/step - loss: 4.3373e-04 - rmse: 0.0208 - val_loss: 3.6326e-04 - val_rmse: 0.0191\n",
      "Epoch 8/10\n",
      "5489/5489 [==============================] - 17s 3ms/step - loss: 4.3363e-04 - rmse: 0.0208 - val_loss: 3.6493e-04 - val_rmse: 0.0191\n",
      "Epoch 9/10\n",
      "5489/5489 [==============================] - 17s 3ms/step - loss: 4.3362e-04 - rmse: 0.0208 - val_loss: 3.6352e-04 - val_rmse: 0.0191\n",
      "Epoch 10/10\n",
      "5489/5489 [==============================] - 17s 3ms/step - loss: 4.3361e-04 - rmse: 0.0208 - val_loss: 3.6518e-04 - val_rmse: 0.0191\n",
      "00:11:27 | fold:04 | Mean: 0.0153 | Median: 0.0242\n",
      "Epoch 1/10\n",
      "5517/5517 [==============================] - 17s 3ms/step - loss: 4.4885e-04 - rmse: 0.0212 - val_loss: 4.8888e-04 - val_rmse: 0.0221\n",
      "Epoch 2/10\n",
      "5517/5517 [==============================] - 17s 3ms/step - loss: 4.2034e-04 - rmse: 0.0205 - val_loss: 4.9042e-04 - val_rmse: 0.0221\n",
      "Epoch 3/10\n",
      "5517/5517 [==============================] - 17s 3ms/step - loss: 4.1981e-04 - rmse: 0.0205 - val_loss: 4.8897e-04 - val_rmse: 0.0221\n",
      "Epoch 4/10\n",
      "5517/5517 [==============================] - 17s 3ms/step - loss: 4.1972e-04 - rmse: 0.0205 - val_loss: 4.9116e-04 - val_rmse: 0.0222\n",
      "Epoch 5/10\n",
      "5517/5517 [==============================] - 17s 3ms/step - loss: 4.1938e-04 - rmse: 0.0205 - val_loss: 4.8931e-04 - val_rmse: 0.0221\n",
      "Epoch 6/10\n",
      "5517/5517 [==============================] - 17s 3ms/step - loss: 4.1951e-04 - rmse: 0.0205 - val_loss: 4.8915e-04 - val_rmse: 0.0221\n",
      "Epoch 7/10\n",
      "5517/5517 [==============================] - 17s 3ms/step - loss: 4.1943e-04 - rmse: 0.0205 - val_loss: 4.9264e-04 - val_rmse: 0.0222\n",
      "Epoch 8/10\n",
      "5517/5517 [==============================] - 17s 3ms/step - loss: 4.1938e-04 - rmse: 0.0205 - val_loss: 4.8853e-04 - val_rmse: 0.0221\n",
      "Epoch 9/10\n",
      "5517/5517 [==============================] - 17s 3ms/step - loss: 4.1942e-04 - rmse: 0.0205 - val_loss: 4.8826e-04 - val_rmse: 0.0221\n",
      "Epoch 10/10\n",
      "5517/5517 [==============================] - 17s 3ms/step - loss: 4.1949e-04 - rmse: 0.0205 - val_loss: 4.8875e-04 - val_rmse: 0.0221\n",
      "00:14:19 | fold:05 | Mean: 0.0298 | Median: 0.0314\n",
      "Epoch 1/10\n",
      "5536/5536 [==============================] - 17s 3ms/step - loss: 4.2157e-04 - rmse: 0.0205 - val_loss: 6.9636e-04 - val_rmse: 0.0264\n",
      "Epoch 2/10\n",
      "5536/5536 [==============================] - 17s 3ms/step - loss: 3.9018e-04 - rmse: 0.0198 - val_loss: 6.9456e-04 - val_rmse: 0.0264\n",
      "Epoch 3/10\n",
      "5536/5536 [==============================] - 17s 3ms/step - loss: 3.8979e-04 - rmse: 0.0197 - val_loss: 6.9807e-04 - val_rmse: 0.0264\n",
      "Epoch 4/10\n",
      "5536/5536 [==============================] - 17s 3ms/step - loss: 3.8935e-04 - rmse: 0.0197 - val_loss: 6.9626e-04 - val_rmse: 0.0264\n",
      "Epoch 5/10\n",
      "5536/5536 [==============================] - 17s 3ms/step - loss: 3.8934e-04 - rmse: 0.0197 - val_loss: 6.9637e-04 - val_rmse: 0.0264\n",
      "Epoch 6/10\n",
      "5536/5536 [==============================] - 17s 3ms/step - loss: 3.8939e-04 - rmse: 0.0197 - val_loss: 6.9512e-04 - val_rmse: 0.0264\n",
      "Epoch 7/10\n",
      "5536/5536 [==============================] - 17s 3ms/step - loss: 3.8932e-04 - rmse: 0.0197 - val_loss: 6.9446e-04 - val_rmse: 0.0264\n",
      "Epoch 8/10\n",
      "5536/5536 [==============================] - 17s 3ms/step - loss: 3.8929e-04 - rmse: 0.0197 - val_loss: 6.9502e-04 - val_rmse: 0.0264\n",
      "Epoch 9/10\n",
      "5536/5536 [==============================] - 17s 3ms/step - loss: 3.8922e-04 - rmse: 0.0197 - val_loss: 6.9485e-04 - val_rmse: 0.0264\n",
      "Epoch 10/10\n",
      "5536/5536 [==============================] - 17s 3ms/step - loss: 3.8932e-04 - rmse: 0.0197 - val_loss: 6.9499e-04 - val_rmse: 0.0264\n",
      "00:17:13 | fold:06 | Mean:-0.0063 | Median:-0.0075\n",
      "Epoch 1/10\n",
      "5550/5550 [==============================] - 18s 3ms/step - loss: 4.2910e-04 - rmse: 0.0207 - val_loss: 4.4397e-04 - val_rmse: 0.0211\n",
      "Epoch 2/10\n",
      "5550/5550 [==============================] - 17s 3ms/step - loss: 4.0220e-04 - rmse: 0.0201 - val_loss: 4.4383e-04 - val_rmse: 0.0211\n",
      "Epoch 3/10\n",
      "5550/5550 [==============================] - 17s 3ms/step - loss: 4.0183e-04 - rmse: 0.0200 - val_loss: 4.4216e-04 - val_rmse: 0.0210\n",
      "Epoch 4/10\n",
      "5550/5550 [==============================] - 17s 3ms/step - loss: 4.0159e-04 - rmse: 0.0200 - val_loss: 4.4530e-04 - val_rmse: 0.0211\n",
      "Epoch 5/10\n",
      "5550/5550 [==============================] - 17s 3ms/step - loss: 4.0142e-04 - rmse: 0.0200 - val_loss: 4.3960e-04 - val_rmse: 0.0210\n",
      "Epoch 6/10\n",
      "5550/5550 [==============================] - 17s 3ms/step - loss: 4.0123e-04 - rmse: 0.0200 - val_loss: 4.4439e-04 - val_rmse: 0.0211\n",
      "Epoch 7/10\n",
      "5550/5550 [==============================] - 17s 3ms/step - loss: 4.0120e-04 - rmse: 0.0200 - val_loss: 4.4682e-04 - val_rmse: 0.0211\n",
      "Epoch 8/10\n",
      "5550/5550 [==============================] - 17s 3ms/step - loss: 4.0122e-04 - rmse: 0.0200 - val_loss: 4.4029e-04 - val_rmse: 0.0210\n",
      "Epoch 9/10\n",
      "5550/5550 [==============================] - 17s 3ms/step - loss: 4.0133e-04 - rmse: 0.0200 - val_loss: 4.3969e-04 - val_rmse: 0.0210\n",
      "Epoch 10/10\n",
      "5550/5550 [==============================] - 17s 3ms/step - loss: 4.0119e-04 - rmse: 0.0200 - val_loss: 4.4093e-04 - val_rmse: 0.0210\n",
      "00:20:07 | fold:07 | Mean: 0.0462 | Median: 0.0670\n",
      "Epoch 1/10\n",
      "5554/5554 [==============================] - 18s 3ms/step - loss: 4.6410e-04 - rmse: 0.0215 - val_loss: 3.4608e-04 - val_rmse: 0.0186\n",
      "Epoch 2/10\n",
      "5554/5554 [==============================] - 17s 3ms/step - loss: 4.0382e-04 - rmse: 0.0201 - val_loss: 3.4514e-04 - val_rmse: 0.0186\n",
      "Epoch 3/10\n",
      "5554/5554 [==============================] - 17s 3ms/step - loss: 4.0330e-04 - rmse: 0.0201 - val_loss: 3.4505e-04 - val_rmse: 0.0186\n",
      "Epoch 4/10\n",
      "5554/5554 [==============================] - 17s 3ms/step - loss: 4.0335e-04 - rmse: 0.0201 - val_loss: 3.4503e-04 - val_rmse: 0.0186\n",
      "Epoch 5/10\n",
      "5554/5554 [==============================] - 17s 3ms/step - loss: 4.0305e-04 - rmse: 0.0201 - val_loss: 3.4653e-04 - val_rmse: 0.0186\n",
      "Epoch 6/10\n",
      "5554/5554 [==============================] - 17s 3ms/step - loss: 4.0326e-04 - rmse: 0.0201 - val_loss: 3.4520e-04 - val_rmse: 0.0186\n",
      "Epoch 7/10\n",
      "5554/5554 [==============================] - 17s 3ms/step - loss: 4.0330e-04 - rmse: 0.0201 - val_loss: 3.5004e-04 - val_rmse: 0.0187\n",
      "Epoch 8/10\n",
      "5554/5554 [==============================] - 17s 3ms/step - loss: 4.0324e-04 - rmse: 0.0201 - val_loss: 3.4861e-04 - val_rmse: 0.0187\n",
      "Epoch 9/10\n",
      "5554/5554 [==============================] - 17s 3ms/step - loss: 4.0315e-04 - rmse: 0.0201 - val_loss: 3.4507e-04 - val_rmse: 0.0186\n",
      "Epoch 10/10\n",
      "5554/5554 [==============================] - 17s 3ms/step - loss: 4.0316e-04 - rmse: 0.0201 - val_loss: 3.4533e-04 - val_rmse: 0.0186\n",
      "00:23:05 | fold:08 | Mean: 0.0185 | Median: 0.0163\n",
      "Epoch 1/10\n",
      "5562/5562 [==============================] - 18s 3ms/step - loss: 4.6309e-04 - rmse: 0.0215 - val_loss: 2.9180e-04 - val_rmse: 0.0171\n",
      "Epoch 2/10\n",
      "5562/5562 [==============================] - 17s 3ms/step - loss: 4.3442e-04 - rmse: 0.0208 - val_loss: 2.8821e-04 - val_rmse: 0.0170\n",
      "Epoch 3/10\n",
      "5562/5562 [==============================] - 17s 3ms/step - loss: 4.3400e-04 - rmse: 0.0208 - val_loss: 2.8904e-04 - val_rmse: 0.0170\n",
      "Epoch 4/10\n",
      "5562/5562 [==============================] - 17s 3ms/step - loss: 4.3378e-04 - rmse: 0.0208 - val_loss: 2.8794e-04 - val_rmse: 0.0170\n",
      "Epoch 5/10\n",
      "5562/5562 [==============================] - 17s 3ms/step - loss: 4.3362e-04 - rmse: 0.0208 - val_loss: 2.8746e-04 - val_rmse: 0.0170\n",
      "Epoch 6/10\n",
      "5562/5562 [==============================] - 17s 3ms/step - loss: 4.3359e-04 - rmse: 0.0208 - val_loss: 2.8739e-04 - val_rmse: 0.0170\n",
      "Epoch 7/10\n",
      "5562/5562 [==============================] - 17s 3ms/step - loss: 4.3354e-04 - rmse: 0.0208 - val_loss: 2.8841e-04 - val_rmse: 0.0170\n",
      "Epoch 8/10\n",
      "5562/5562 [==============================] - 17s 3ms/step - loss: 4.3347e-04 - rmse: 0.0208 - val_loss: 2.8757e-04 - val_rmse: 0.0170\n",
      "Epoch 9/10\n",
      "5562/5562 [==============================] - 17s 3ms/step - loss: 4.3354e-04 - rmse: 0.0208 - val_loss: 2.8727e-04 - val_rmse: 0.0169\n",
      "Epoch 10/10\n",
      "5562/5562 [==============================] - 17s 3ms/step - loss: 4.3345e-04 - rmse: 0.0208 - val_loss: 2.8762e-04 - val_rmse: 0.0170\n",
      "00:26:01 | fold:09 | Mean: 0.0019 | Median: 0.0027\n",
      "Epoch 1/10\n",
      "5564/5564 [==============================] - 18s 3ms/step - loss: 6.4321e-04 - rmse: 0.0254 - val_loss: 2.7344e-04 - val_rmse: 0.0165\n",
      "Epoch 2/10\n",
      "5564/5564 [==============================] - 17s 3ms/step - loss: 5.9557e-04 - rmse: 0.0244 - val_loss: 2.7608e-04 - val_rmse: 0.0166\n",
      "Epoch 3/10\n",
      "5564/5564 [==============================] - 17s 3ms/step - loss: 5.9492e-04 - rmse: 0.0244 - val_loss: 2.7316e-04 - val_rmse: 0.0165\n",
      "Epoch 4/10\n",
      "5564/5564 [==============================] - 17s 3ms/step - loss: 5.9482e-04 - rmse: 0.0244 - val_loss: 2.7266e-04 - val_rmse: 0.0165\n",
      "Epoch 5/10\n",
      "5564/5564 [==============================] - 17s 3ms/step - loss: 5.9458e-04 - rmse: 0.0244 - val_loss: 2.7405e-04 - val_rmse: 0.0166\n",
      "Epoch 6/10\n",
      "5564/5564 [==============================] - 17s 3ms/step - loss: 5.9446e-04 - rmse: 0.0244 - val_loss: 2.7267e-04 - val_rmse: 0.0165\n",
      "Epoch 7/10\n",
      "5564/5564 [==============================] - 17s 3ms/step - loss: 5.9471e-04 - rmse: 0.0244 - val_loss: 2.7572e-04 - val_rmse: 0.0166\n",
      "Epoch 8/10\n",
      "5564/5564 [==============================] - 17s 3ms/step - loss: 5.9450e-04 - rmse: 0.0244 - val_loss: 2.7327e-04 - val_rmse: 0.0165\n",
      "Epoch 9/10\n",
      "5564/5564 [==============================] - 17s 3ms/step - loss: 5.9464e-04 - rmse: 0.0244 - val_loss: 2.7353e-04 - val_rmse: 0.0165\n",
      "Epoch 10/10\n",
      "5564/5564 [==============================] - 17s 3ms/step - loss: 5.9450e-04 - rmse: 0.0244 - val_loss: 2.7322e-04 - val_rmse: 0.0165\n",
      "00:28:56 | fold:10 | Mean: 0.0202 | Median: 0.0228\n",
      "Epoch 1/10\n",
      "5567/5567 [==============================] - 18s 3ms/step - loss: 9.2805e-04 - rmse: 0.0305 - val_loss: 2.7723e-04 - val_rmse: 0.0167\n",
      "Epoch 2/10\n",
      "5567/5567 [==============================] - 17s 3ms/step - loss: 8.9023e-04 - rmse: 0.0298 - val_loss: 2.8515e-04 - val_rmse: 0.0169\n",
      "Epoch 3/10\n",
      "5567/5567 [==============================] - 17s 3ms/step - loss: 8.8982e-04 - rmse: 0.0298 - val_loss: 2.8252e-04 - val_rmse: 0.0168\n",
      "Epoch 4/10\n",
      "5567/5567 [==============================] - 17s 3ms/step - loss: 8.8956e-04 - rmse: 0.0298 - val_loss: 2.7713e-04 - val_rmse: 0.0166\n",
      "Epoch 5/10\n",
      "5567/5567 [==============================] - 17s 3ms/step - loss: 8.8944e-04 - rmse: 0.0298 - val_loss: 2.8556e-04 - val_rmse: 0.0169\n",
      "Epoch 6/10\n",
      "5567/5567 [==============================] - 17s 3ms/step - loss: 8.8959e-04 - rmse: 0.0298 - val_loss: 2.8421e-04 - val_rmse: 0.0169\n",
      "Epoch 7/10\n",
      "5567/5567 [==============================] - 17s 3ms/step - loss: 8.8967e-04 - rmse: 0.0298 - val_loss: 2.7713e-04 - val_rmse: 0.0166\n",
      "Epoch 8/10\n",
      "5567/5567 [==============================] - 17s 3ms/step - loss: 8.8926e-04 - rmse: 0.0298 - val_loss: 2.7728e-04 - val_rmse: 0.0167\n",
      "Epoch 9/10\n",
      "5567/5567 [==============================] - 17s 3ms/step - loss: 8.8962e-04 - rmse: 0.0298 - val_loss: 2.7860e-04 - val_rmse: 0.0167\n",
      "Epoch 10/10\n",
      "5567/5567 [==============================] - 17s 3ms/step - loss: 8.8928e-04 - rmse: 0.0298 - val_loss: 2.7900e-04 - val_rmse: 0.0167\n",
      "00:31:53 | fold:11 | Mean:-0.0000 | Median: 0.0118\n",
      "Epoch 1/10\n",
      "5571/5571 [==============================] - 18s 3ms/step - loss: 9.7680e-04 - rmse: 0.0313 - val_loss: 3.2680e-04 - val_rmse: 0.0181\n",
      "Epoch 2/10\n",
      "5571/5571 [==============================] - 17s 3ms/step - loss: 9.3533e-04 - rmse: 0.0306 - val_loss: 3.2695e-04 - val_rmse: 0.0181\n",
      "Epoch 3/10\n",
      "5571/5571 [==============================] - 17s 3ms/step - loss: 9.3473e-04 - rmse: 0.0306 - val_loss: 3.2830e-04 - val_rmse: 0.0181\n",
      "Epoch 4/10\n",
      "5571/5571 [==============================] - 17s 3ms/step - loss: 9.3395e-04 - rmse: 0.0306 - val_loss: 3.2896e-04 - val_rmse: 0.0181\n",
      "Epoch 5/10\n",
      "5571/5571 [==============================] - 17s 3ms/step - loss: 9.3455e-04 - rmse: 0.0306 - val_loss: 3.2938e-04 - val_rmse: 0.0181\n",
      "Epoch 6/10\n",
      "5571/5571 [==============================] - 17s 3ms/step - loss: 9.3452e-04 - rmse: 0.0306 - val_loss: 3.3007e-04 - val_rmse: 0.0182\n",
      "Epoch 7/10\n",
      "5571/5571 [==============================] - 17s 3ms/step - loss: 9.3437e-04 - rmse: 0.0306 - val_loss: 3.3128e-04 - val_rmse: 0.0182\n",
      "Epoch 8/10\n",
      "5571/5571 [==============================] - 17s 3ms/step - loss: 9.3411e-04 - rmse: 0.0306 - val_loss: 3.2754e-04 - val_rmse: 0.0181\n",
      "Epoch 9/10\n",
      "5571/5571 [==============================] - 17s 3ms/step - loss: 9.3407e-04 - rmse: 0.0306 - val_loss: 3.2721e-04 - val_rmse: 0.0181\n",
      "Epoch 10/10\n",
      "5571/5571 [==============================] - 17s 3ms/step - loss: 9.3410e-04 - rmse: 0.0306 - val_loss: 3.3254e-04 - val_rmse: 0.0182\n",
      "00:34:50 | fold:12 | Mean: 0.0080 | Median: 0.0203\n"
     ]
    }
   ],
   "source": [
    "batch_size = 64\n",
    "checkpoint_path = results_path / f'lookahead_{lookahead:02d}'\n",
    "if not checkpoint_path.exists():\n",
    "    checkpoint_path.mkdir(parents=True, exist_ok=True)\n",
    "\n",
    "start = time()\n",
    "ic  = []\n",
    "epoch = 10\n",
    "\n",
    "for fold, (train_idx, test_idx) in enumerate(cv.split(features)):\n",
    "    X_train, y_train, X_val, y_val = get_train_valid_data(features, target, train_idx, test_idx)\n",
    "    preds = y_val.to_frame('actual')\n",
    "    r = pd.DataFrame(index=y_val.index.unique(level='date')).sort_index()\n",
    "    model = make_model(filter1=16, act1='relu', filter2=32, act2='relu', do1=.25, do2=.5, dense=32)\n",
    "    best_mean = best_median = -np.inf\n",
    "\n",
    "    model.fit(X_train, y_train, batch_size=batch_size, validation_data=(X_val, y_val),\n",
    "              epochs=epoch, shuffle=True, workers=6)\n",
    "    model.save_weights((checkpoint_path / f'ckpt_{fold}').as_posix())\n",
    "    preds[epoch] = model.predict(X_val).squeeze()\n",
    "    r[epoch] = preds.groupby(level='date').apply(lambda x: spearmanr(x.actual, x[epoch])[0]).to_frame(epoch)\n",
    "    print(f'{format_time(time()-start)} | fold:{fold + 1:02d} | Mean:{r[epoch].mean():7.4f} | Median:{r[epoch].median():7.4f}')\n",
    "\n",
    "    # source code has been changed simply because of the memory problem\n",
    "    # for epoch in range(20):\n",
    "    #     model.fit(X_train, y_train, batch_size=batch_size, validation_data=(X_val, y_val),\n",
    "    #               epochs=epoch + 1, initial_epoch=epoch, verbose=0, shuffle=True, workers=6)\n",
    "    #     model.save_weights((checkpoint_path / f'ckpt_{fold}_{epoch}').as_posix())\n",
    "    #     preds[epoch] = model.predict(X_val).squeeze()\n",
    "    #     r[epoch] = preds.groupby(level='date').apply(lambda x: spearmanr(x.actual, x[epoch])[0]).to_frame(epoch)\n",
    "    #     print(f'{format_time(time()-start)} | fold:{fold + 1:02d} | epoch:{epoch + 1:02d} | Mean:{r[epoch].mean():7.4f} | Median:{r[epoch].median():7.4f}')\n",
    "    ic.append(r.assign(fold=fold))\n",
    "    \n",
    "    if fold > 10:\n",
    "        break\n",
    "\n",
    "ic = pd.concat(ic)\n",
    "ic.to_csv(checkpoint_path / 'ic.csv')"
   ],
   "metadata": {
    "collapsed": false,
    "pycharm": {
     "name": "#%%\n"
    }
   }
  },
  {
   "cell_type": "code",
   "execution_count": 10,
   "outputs": [
    {
     "data": {
      "text/plain": "<Figure size 432x288 with 1 Axes>",
      "image/png": "[encoded data removed]"
     },
     "metadata": {},
     "output_type": "display_data"
    }
   ],
   "source": [
    "# Evaluate results\n",
    "ic.groupby('fold').mean().boxplot();"
   ],
   "metadata": {
    "collapsed": false,
    "pycharm": {
     "name": "#%%\n"
    }
   }
  },
  {
   "cell_type": "code",
   "execution_count": 180,
   "outputs": [
    {
     "data": {
      "text/plain": "            10\nfold          \n0    -0.014330\n1    -0.006414\n2    -0.013591\n3     0.015334\n4     0.029792\n5    -0.006340\n6     0.046164\n7     0.018540\n8     0.001946\n9     0.020180\n10   -0.000001\n11    0.008016",
      "text/html": "<div>\n<style scoped>\n    .dataframe tbody tr th:only-of-type {\n        vertical-align: middle;\n    }\n\n    .dataframe tbody tr th {\n        vertical-align: top;\n    }\n\n    .dataframe thead th {\n        text-align: right;\n    }\n</style>\n<table border=\"1\" class=\"dataframe\">\n  <thead>\n    <tr style=\"text-align: right;\">\n      <th></th>\n      <th>10</th>\n    </tr>\n    <tr>\n      <th>fold</th>\n      <th></th>\n    </tr>\n  </thead>\n  <tbody>\n    <tr>\n      <th>0</th>\n      <td>-0.014330</td>\n    </tr>\n    <tr>\n      <th>1</th>\n      <td>-0.006414</td>\n    </tr>\n    <tr>\n      <th>2</th>\n      <td>-0.013591</td>\n    </tr>\n    <tr>\n      <th>3</th>\n      <td>0.015334</td>\n    </tr>\n    <tr>\n      <th>4</th>\n      <td>0.029792</td>\n    </tr>\n    <tr>\n      <th>5</th>\n      <td>-0.006340</td>\n    </tr>\n    <tr>\n      <th>6</th>\n      <td>0.046164</td>\n    </tr>\n    <tr>\n      <th>7</th>\n      <td>0.018540</td>\n    </tr>\n    <tr>\n      <th>8</th>\n      <td>0.001946</td>\n    </tr>\n    <tr>\n      <th>9</th>\n      <td>0.020180</td>\n    </tr>\n    <tr>\n      <th>10</th>\n      <td>-0.000001</td>\n    </tr>\n    <tr>\n      <th>11</th>\n      <td>0.008016</td>\n    </tr>\n  </tbody>\n</table>\n</div>"
     },
     "execution_count": 180,
     "metadata": {},
     "output_type": "execute_result"
    }
   ],
   "source": [
    "ic.groupby('fold').mean()"
   ],
   "metadata": {
    "collapsed": false,
    "pycharm": {
     "name": "#%%\n"
    }
   }
  },
  {
   "cell_type": "code",
   "execution_count": 11,
   "outputs": [
    {
     "data": {
      "text/plain": "<Figure size 432x288 with 1 Axes>",
      "image/png": "[encoded data removed]"
     },
     "metadata": {},
     "output_type": "display_data"
    }
   ],
   "source": [
    "ic.groupby('fold').mean().mean().sort_index().plot.bar(rot=0);"
   ],
   "metadata": {
    "collapsed": false,
    "pycharm": {
     "name": "#%%\n"
    }
   }
  },
  {
   "cell_type": "code",
   "execution_count": 15,
   "outputs": [
    {
     "data": {
      "text/plain": "<Figure size 1296x720 with 2 Axes>",
      "image/png": "[encoded data removed]"
     },
     "metadata": {},
     "output_type": "display_data"
    }
   ],
   "source": [
    "cmap = sns.diverging_palette(h_neg=20, h_pos=210)\n",
    "fig, ax = plt.subplots(figsize=(18, 10))\n",
    "sns.heatmap(ic.groupby('fold').mean().mul(100), ax=ax, center=0, cmap=cmap, annot=True, fmt='.1f')\n",
    "fig.tight_layout()"
   ],
   "metadata": {
    "collapsed": false,
    "pycharm": {
     "name": "#%%\n"
    }
   }
  },
  {
   "cell_type": "code",
   "execution_count": 14,
   "outputs": [],
   "source": [
    "# Make Predictions\n",
    "# def generate_predictions(epoch):\n",
    "def generate_predictions():\n",
    "    predictions = []\n",
    "    for fold, (train_idx, test_idx) in enumerate(cv.split(features)):\n",
    "        if fold == 12:\n",
    "            break\n",
    "        X_train, y_train, X_val, y_val = get_train_valid_data(features, target, train_idx, test_idx)\n",
    "        preds = y_val.to_frame('actual')\n",
    "        model = make_model(filter1=16, act1='relu', filter2=32, act2='relu', do1=.25, do2=.5, dense=32)\n",
    "        # status = model.load_weights((checkpoint_path / f'ckpt_{fold}_{epoch}').as_posix())\n",
    "        status = model.load_weights((checkpoint_path / f'ckpt_{fold}').as_posix())\n",
    "        status.expect_partial()\n",
    "        predictions.append(pd.Series(model.predict(X_val).squeeze(), index=y_val.index))\n",
    "    return pd.concat(predictions)\n",
    "\n",
    "preds = {}\n",
    "for i in enumerate(ic.drop('fold', axis=1).mean().nlargest(3).index):\n",
    "    preds[i] = generate_predictions()\n",
    "with pd.HDFStore(results_path / 'predictions.h5') as store:\n",
    "    store.put('predictions', pd.DataFrame(preds).sort_index())"
   ],
   "metadata": {
    "collapsed": false,
    "pycharm": {
     "name": "#%%\n"
    }
   }
  },
  {
   "cell_type": "code",
   "execution_count": 179,
   "outputs": [
    {
     "data": {
      "text/plain": "           prediction                                                    \\\nsymbol              A       AAL       AAP      AAPL      ABBV       ABC   \ndate                                                                      \n2013-03-25  -0.001340 -0.001364 -0.001362 -0.001363       NaN -0.001370   \n2013-03-26  -0.001348 -0.001364 -0.001367 -0.001359       NaN -0.001372   \n2013-03-27  -0.001349 -0.001364 -0.001365 -0.001343       NaN -0.001372   \n2013-03-28  -0.001349 -0.001370 -0.001373 -0.001336       NaN -0.001382   \n2013-04-01  -0.001343 -0.001362 -0.001365 -0.001332       NaN -0.001384   \n...               ...       ...       ...       ...       ...       ...   \n2018-03-20   0.000157  0.000152  0.000155  0.000167  0.000146  0.000152   \n2018-03-21   0.000168  0.000156  0.000149  0.000173  0.000154  0.000154   \n2018-03-22   0.000164  0.000152  0.000148  0.000178  0.000130  0.000153   \n2018-03-23   0.000168  0.000153  0.000145  0.000187  0.000136  0.000166   \n2018-03-26   0.000171  0.000158  0.000141  0.000177  0.000156  0.000178   \n\n                                                    ...                      \\\nsymbol           ABT       ACE       ACI       ACN  ...       ITW       IVZ   \ndate                                                ...                       \n2013-03-25 -0.001346 -0.001361 -0.001355 -0.001337  ... -0.001344 -0.001347   \n2013-03-26 -0.001355 -0.001364 -0.001356 -0.001341  ... -0.001344 -0.001358   \n2013-03-27 -0.001360 -0.001364 -0.001360 -0.001343  ... -0.001342 -0.001354   \n2013-03-28 -0.001366 -0.001368 -0.001346 -0.001351  ... -0.001345 -0.001358   \n2013-04-01 -0.001366 -0.001364 -0.001337 -0.001349  ... -0.001345 -0.001344   \n...              ...       ...       ...       ...  ...       ...       ...   \n2018-03-20  0.000135       NaN       NaN  0.000131  ...  0.000130  0.000138   \n2018-03-21  0.000142       NaN       NaN  0.000136  ...  0.000129  0.000137   \n2018-03-22  0.000178       NaN       NaN  0.000156  ...  0.000150  0.000138   \n2018-03-23  0.000166       NaN       NaN  0.000167  ...  0.000153  0.000141   \n2018-03-26  0.000159       NaN       NaN  0.000166  ...  0.000163  0.000133   \n\n                                                                        \\\nsymbol          JBHT       JBL      JBLU       JCI       JCP      JDSU   \ndate                                                                     \n2013-03-25 -0.001355 -0.001332 -0.001362 -0.001345 -0.001331 -0.001354   \n2013-03-26 -0.001355 -0.001331 -0.001359 -0.001347 -0.001332 -0.001354   \n2013-03-27 -0.001355 -0.001332 -0.001363 -0.001346 -0.001333 -0.001354   \n2013-03-28 -0.001361 -0.001336 -0.001362 -0.001359 -0.001332 -0.001355   \n2013-04-01 -0.001347 -0.001332 -0.001346 -0.001353 -0.001332 -0.001351   \n...              ...       ...       ...       ...       ...       ...   \n2018-03-20  0.000143       NaN  0.000133  0.000166  0.000206       NaN   \n2018-03-21  0.000142       NaN  0.000152  0.000180  0.000208       NaN   \n2018-03-22  0.000156       NaN  0.000151  0.000165  0.000210       NaN   \n2018-03-23  0.000163       NaN  0.000150  0.000168  0.000191       NaN   \n2018-03-26  0.000152       NaN  0.000158  0.000162  0.000196       NaN   \n\n                                \nsymbol           JEC       JNJ  \ndate                            \n2013-03-25 -0.001382 -0.001374  \n2013-03-26 -0.001393 -0.001389  \n2013-03-27 -0.001395 -0.001392  \n2013-03-28 -0.001398 -0.001395  \n2013-04-01 -0.001367 -0.001397  \n...              ...       ...  \n2018-03-20       NaN  0.000177  \n2018-03-21       NaN  0.000178  \n2018-03-22       NaN  0.000169  \n2018-03-23       NaN  0.000169  \n2018-03-26       NaN  0.000189  \n\n[1260 rows x 294 columns]",
      "text/html": "<div>\n<style scoped>\n    .dataframe tbody tr th:only-of-type {\n        vertical-align: middle;\n    }\n\n    .dataframe tbody tr th {\n        vertical-align: top;\n    }\n\n    .dataframe thead tr th {\n        text-align: left;\n    }\n\n    .dataframe thead tr:last-of-type th {\n        text-align: right;\n    }\n</style>\n<table border=\"1\" class=\"dataframe\">\n  <thead>\n    <tr>\n      <th></th>\n      <th colspan=\"21\" halign=\"left\">prediction</th>\n    </tr>\n    <tr>\n      <th>symbol</th>\n      <th>A</th>\n      <th>AAL</th>\n      <th>AAP</th>\n      <th>AAPL</th>\n      <th>ABBV</th>\n      <th>ABC</th>\n      <th>ABT</th>\n      <th>ACE</th>\n      <th>ACI</th>\n      <th>ACN</th>\n      <th>...</th>\n      <th>ITW</th>\n      <th>IVZ</th>\n      <th>JBHT</th>\n      <th>JBL</th>\n      <th>JBLU</th>\n      <th>JCI</th>\n      <th>JCP</th>\n      <th>JDSU</th>\n      <th>JEC</th>\n      <th>JNJ</th>\n    </tr>\n    <tr>\n      <th>date</th>\n      <th></th>\n      <th></th>\n      <th></th>\n      <th></th>\n      <th></th>\n      <th></th>\n      <th></th>\n      <th></th>\n      <th></th>\n      <th></th>\n      <th></th>\n      <th></th>\n      <th></th>\n      <th></th>\n      <th></th>\n      <th></th>\n      <th></th>\n      <th></th>\n      <th></th>\n      <th></th>\n      <th></th>\n    </tr>\n  </thead>\n  <tbody>\n    <tr>\n      <th>2013-03-25</th>\n      <td>-0.001340</td>\n      <td>-0.001364</td>\n      <td>-0.001362</td>\n      <td>-0.001363</td>\n      <td>NaN</td>\n      <td>-0.001370</td>\n      <td>-0.001346</td>\n      <td>-0.001361</td>\n      <td>-0.001355</td>\n      <td>-0.001337</td>\n      <td>...</td>\n      <td>-0.001344</td>\n      <td>-0.001347</td>\n      <td>-0.001355</td>\n      <td>-0.001332</td>\n      <td>-0.001362</td>\n      <td>-0.001345</td>\n      <td>-0.001331</td>\n      <td>-0.001354</td>\n      <td>-0.001382</td>\n      <td>-0.001374</td>\n    </tr>\n    <tr>\n      <th>2013-03-26</th>\n      <td>-0.001348</td>\n      <td>-0.001364</td>\n      <td>-0.001367</td>\n      <td>-0.001359</td>\n      <td>NaN</td>\n      <td>-0.001372</td>\n      <td>-0.001355</td>\n      <td>-0.001364</td>\n      <td>-0.001356</td>\n      <td>-0.001341</td>\n      <td>...</td>\n      <td>-0.001344</td>\n      <td>-0.001358</td>\n      <td>-0.001355</td>\n      <td>-0.001331</td>\n      <td>-0.001359</td>\n      <td>-0.001347</td>\n      <td>-0.001332</td>\n      <td>-0.001354</td>\n      <td>-0.001393</td>\n      <td>-0.001389</td>\n    </tr>\n    <tr>\n      <th>2013-03-27</th>\n      <td>-0.001349</td>\n      <td>-0.001364</td>\n      <td>-0.001365</td>\n      <td>-0.001343</td>\n      <td>NaN</td>\n      <td>-0.001372</td>\n      <td>-0.001360</td>\n      <td>-0.001364</td>\n      <td>-0.001360</td>\n      <td>-0.001343</td>\n      <td>...</td>\n      <td>-0.001342</td>\n      <td>-0.001354</td>\n      <td>-0.001355</td>\n      <td>-0.001332</td>\n      <td>-0.001363</td>\n      <td>-0.001346</td>\n      <td>-0.001333</td>\n      <td>-0.001354</td>\n      <td>-0.001395</td>\n      <td>-0.001392</td>\n    </tr>\n    <tr>\n      <th>2013-03-28</th>\n      <td>-0.001349</td>\n      <td>-0.001370</td>\n      <td>-0.001373</td>\n      <td>-0.001336</td>\n      <td>NaN</td>\n      <td>-0.001382</td>\n      <td>-0.001366</td>\n      <td>-0.001368</td>\n      <td>-0.001346</td>\n      <td>-0.001351</td>\n      <td>...</td>\n      <td>-0.001345</td>\n      <td>-0.001358</td>\n      <td>-0.001361</td>\n      <td>-0.001336</td>\n      <td>-0.001362</td>\n      <td>-0.001359</td>\n      <td>-0.001332</td>\n      <td>-0.001355</td>\n      <td>-0.001398</td>\n      <td>-0.001395</td>\n    </tr>\n    <tr>\n      <th>2013-04-01</th>\n      <td>-0.001343</td>\n      <td>-0.001362</td>\n      <td>-0.001365</td>\n      <td>-0.001332</td>\n      <td>NaN</td>\n      <td>-0.001384</td>\n      <td>-0.001366</td>\n      <td>-0.001364</td>\n      <td>-0.001337</td>\n      <td>-0.001349</td>\n      <td>...</td>\n      <td>-0.001345</td>\n      <td>-0.001344</td>\n      <td>-0.001347</td>\n      <td>-0.001332</td>\n      <td>-0.001346</td>\n      <td>-0.001353</td>\n      <td>-0.001332</td>\n      <td>-0.001351</td>\n      <td>-0.001367</td>\n      <td>-0.001397</td>\n    </tr>\n    <tr>\n      <th>...</th>\n      <td>...</td>\n      <td>...</td>\n      <td>...</td>\n      <td>...</td>\n      <td>...</td>\n      <td>...</td>\n      <td>...</td>\n      <td>...</td>\n      <td>...</td>\n      <td>...</td>\n      <td>...</td>\n      <td>...</td>\n      <td>...</td>\n      <td>...</td>\n      <td>...</td>\n      <td>...</td>\n      <td>...</td>\n      <td>...</td>\n      <td>...</td>\n      <td>...</td>\n      <td>...</td>\n    </tr>\n    <tr>\n      <th>2018-03-20</th>\n      <td>0.000157</td>\n      <td>0.000152</td>\n      <td>0.000155</td>\n      <td>0.000167</td>\n      <td>0.000146</td>\n      <td>0.000152</td>\n      <td>0.000135</td>\n      <td>NaN</td>\n      <td>NaN</td>\n      <td>0.000131</td>\n      <td>...</td>\n      <td>0.000130</td>\n      <td>0.000138</td>\n      <td>0.000143</td>\n      <td>NaN</td>\n      <td>0.000133</td>\n      <td>0.000166</td>\n      <td>0.000206</td>\n      <td>NaN</td>\n      <td>NaN</td>\n      <td>0.000177</td>\n    </tr>\n    <tr>\n      <th>2018-03-21</th>\n      <td>0.000168</td>\n      <td>0.000156</td>\n      <td>0.000149</td>\n      <td>0.000173</td>\n      <td>0.000154</td>\n      <td>0.000154</td>\n      <td>0.000142</td>\n      <td>NaN</td>\n      <td>NaN</td>\n      <td>0.000136</td>\n      <td>...</td>\n      <td>0.000129</td>\n      <td>0.000137</td>\n      <td>0.000142</td>\n      <td>NaN</td>\n      <td>0.000152</td>\n      <td>0.000180</td>\n      <td>0.000208</td>\n      <td>NaN</td>\n      <td>NaN</td>\n      <td>0.000178</td>\n    </tr>\n    <tr>\n      <th>2018-03-22</th>\n      <td>0.000164</td>\n      <td>0.000152</td>\n      <td>0.000148</td>\n      <td>0.000178</td>\n      <td>0.000130</td>\n      <td>0.000153</td>\n      <td>0.000178</td>\n      <td>NaN</td>\n      <td>NaN</td>\n      <td>0.000156</td>\n      <td>...</td>\n      <td>0.000150</td>\n      <td>0.000138</td>\n      <td>0.000156</td>\n      <td>NaN</td>\n      <td>0.000151</td>\n      <td>0.000165</td>\n      <td>0.000210</td>\n      <td>NaN</td>\n      <td>NaN</td>\n      <td>0.000169</td>\n    </tr>\n    <tr>\n      <th>2018-03-23</th>\n      <td>0.000168</td>\n      <td>0.000153</td>\n      <td>0.000145</td>\n      <td>0.000187</td>\n      <td>0.000136</td>\n      <td>0.000166</td>\n      <td>0.000166</td>\n      <td>NaN</td>\n      <td>NaN</td>\n      <td>0.000167</td>\n      <td>...</td>\n      <td>0.000153</td>\n      <td>0.000141</td>\n      <td>0.000163</td>\n      <td>NaN</td>\n      <td>0.000150</td>\n      <td>0.000168</td>\n      <td>0.000191</td>\n      <td>NaN</td>\n      <td>NaN</td>\n      <td>0.000169</td>\n    </tr>\n    <tr>\n      <th>2018-03-26</th>\n      <td>0.000171</td>\n      <td>0.000158</td>\n      <td>0.000141</td>\n      <td>0.000177</td>\n      <td>0.000156</td>\n      <td>0.000178</td>\n      <td>0.000159</td>\n      <td>NaN</td>\n      <td>NaN</td>\n      <td>0.000166</td>\n      <td>...</td>\n      <td>0.000163</td>\n      <td>0.000133</td>\n      <td>0.000152</td>\n      <td>NaN</td>\n      <td>0.000158</td>\n      <td>0.000162</td>\n      <td>0.000196</td>\n      <td>NaN</td>\n      <td>NaN</td>\n      <td>0.000189</td>\n    </tr>\n  </tbody>\n</table>\n<p>1260 rows × 294 columns</p>\n</div>"
     },
     "execution_count": 179,
     "metadata": {},
     "output_type": "execute_result"
    }
   ],
   "source": [
    "df_predictions = pd.DataFrame(preds)\n",
    "df_predictions.columns = ['prediction']\n",
    "df_predictions = df_predictions.swaplevel().unstack()\n",
    "df_predictions.sort_values(by='date', ascending=True)"
   ],
   "metadata": {
    "collapsed": false,
    "pycharm": {
     "name": "#%%\n"
    }
   }
  }
 ],
 "metadata": {
  "kernelspec": {
   "display_name": "Python 3",
   "language": "python",
   "name": "python3"
  },
  "language_info": {
   "codemirror_mode": {
    "name": "ipython",
    "version": 2
   },
   "file_extension": ".py",
   "mimetype": "text/x-python",
   "name": "python",
   "nbconvert_exporter": "python",
   "pygments_lexer": "ipython2",
   "version": "2.7.6"
  }
 },
 "nbformat": 4,
 "nbformat_minor": 0
}