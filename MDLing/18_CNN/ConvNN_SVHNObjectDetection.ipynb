{
 "cells": [
  {
   "cell_type": "code",
   "execution_count": 1,
   "metadata": {
    "collapsed": true,
    "pycharm": {
     "name": "#%%\n"
    },
    "ExecuteTime": {
     "end_time": "2023-09-26T00:43:13.447415500Z",
     "start_time": "2023-09-26T00:42:54.561718500Z"
    }
   },
   "outputs": [],
   "source": [
    "%matplotlib inline\n",
    "from pathlib import Path\n",
    "import pandas as pd\n",
    "import numpy as np\n",
    "\n",
    "import matplotlib.pyplot as plt\n",
    "import seaborn as sns\n",
    "\n",
    "from sklearn.metrics import confusion_matrix\n",
    "\n",
    "import tensorflow as tf\n",
    "from tensorflow.keras.models import Model\n",
    "from tensorflow.keras.applications.vgg16 import VGG16\n",
    "from tensorflow.keras.callbacks import ModelCheckpoint, EarlyStopping\n",
    "from tensorflow.keras.layers import (Flatten, Dense, BatchNormalization, Activation, Concatenate)\n",
    "from tensorflow.keras import backend as K\n",
    "from matplotlib.ticker import FuncFormatter"
   ]
  },
  {
   "cell_type": "code",
   "execution_count": 2,
   "outputs": [
    {
     "name": "stdout",
     "output_type": "stream",
     "text": [
      "Using CPU\n"
     ]
    }
   ],
   "source": [
    "gpu_devices = tf.config.experimental.list_physical_devices('GPU')\n",
    "if gpu_devices:\n",
    "    print('Using GPU')\n",
    "    tf.config.experimental.set_memory_growth(gpu_devices[0], True)\n",
    "    # tf.config.experimental.set_virtual_device_configuration(gpu_devices[0],\n",
    "    # [tf.config.experimental.VirtualDeviceConfiguration(memory_limit=1024*6)])\n",
    "else:\n",
    "    print('Using CPU')\n",
    "\n",
    "sns.set_style('whitegrid')\n",
    "data_path = Path('data', 'image', 'svhn')\n",
    "\n",
    "results_path = Path('results', 'svhn')\n",
    "if not results_path.exists():\n",
    "    results_path.mkdir()"
   ],
   "metadata": {
    "collapsed": false,
    "pycharm": {
     "name": "#%%\n"
    },
    "ExecuteTime": {
     "end_time": "2023-09-26T00:43:13.502490100Z",
     "start_time": "2023-09-26T00:43:13.451405500Z"
    }
   }
  },
  {
   "cell_type": "code",
   "execution_count": 3,
   "outputs": [],
   "source": [
    "# Settings\n",
    "IMG_SIZE = 32\n",
    "IMG_SHAPE = (IMG_SIZE, IMG_SIZE, 3)\n",
    "SEQ_LENGTH = 4\n",
    "N_CLASSES = 11\n",
    "\n",
    "# Load Data\n",
    "X_train = np.load(data_path / 'X_train.npy')\n",
    "y_train = np.load(data_path / 'y_train.npy')"
   ],
   "metadata": {
    "collapsed": false,
    "pycharm": {
     "name": "#%%\n"
    },
    "ExecuteTime": {
     "end_time": "2023-09-26T00:43:17.722430100Z",
     "start_time": "2023-09-26T00:43:13.497502500Z"
    }
   }
  },
  {
   "cell_type": "code",
   "execution_count": 4,
   "outputs": [
    {
     "data": {
      "text/plain": "0     4\n1    10\n2    11\n3    11\n4    11\ndtype: int64"
     },
     "execution_count": 4,
     "metadata": {},
     "output_type": "execute_result"
    }
   ],
   "source": [
    "X_train = X_train[y_train[:, 0] < 5]\n",
    "y_train = y_train[y_train[:, 0] < 5, :5]\n",
    "y_train[:, 0] -= 1\n",
    "X_test = np.load(data_path / 'X_test.npy')\n",
    "y_test = np.load(data_path / 'y_test.npy')\n",
    "X_test = X_test[y_test[:, 0] < 5]\n",
    "y_test = y_test[y_test[:, 0] < 5, :5]\n",
    "y_test[:, 0] -= 1\n",
    "pd.DataFrame(y_train).nunique()"
   ],
   "metadata": {
    "collapsed": false,
    "pycharm": {
     "name": "#%%\n"
    },
    "ExecuteTime": {
     "end_time": "2023-09-26T00:43:19.458701100Z",
     "start_time": "2023-09-26T00:43:17.725422200Z"
    }
   }
  },
  {
   "cell_type": "code",
   "execution_count": 5,
   "outputs": [
    {
     "data": {
      "text/plain": "(33392, 5)"
     },
     "execution_count": 5,
     "metadata": {},
     "output_type": "execute_result"
    }
   ],
   "source": [
    "y_train.shape"
   ],
   "metadata": {
    "collapsed": false,
    "pycharm": {
     "name": "#%%\n"
    },
    "ExecuteTime": {
     "end_time": "2023-09-26T00:43:19.491613100Z",
     "start_time": "2023-09-26T00:43:19.432769900Z"
    }
   }
  },
  {
   "cell_type": "code",
   "execution_count": 6,
   "outputs": [],
   "source": [
    "# Best Architecture\n",
    "digit_pos = {1: [4, 14], 2: [14, 25], 3: [25, 36], 4: [36, 47]}\n",
    "\n",
    "def weighted_accuracy(y_true, y_pred):\n",
    "    n_digits_pred = K.argmax(y_pred[:, :SEQ_LENGTH], axis=1)\n",
    "\n",
    "    digit_preds = {}\n",
    "    for digit, (start, end) in digit_pos.items():\n",
    "        digit_preds[digit] = K.argmax(y_pred[:, start:end], axis=1)\n",
    "    preds = tf.dtypes.cast(tf.stack((n_digits_pred, digit_preds[1], digit_preds[2], digit_preds[3],\n",
    "                                     digit_preds[4]), axis=1), tf.float32)\n",
    "\n",
    "    return K.mean(K.sum(tf.dtypes.cast(K.equal(y_true, preds), tf.int64), axis=1) / 5)\n",
    "\n",
    "def weighted_entropy(y_true, y_pred):\n",
    "    cce = tf.keras.losses.SparseCategoricalCrossentropy()\n",
    "    n_digits = y_pred[:, :SEQ_LENGTH]\n",
    "\n",
    "    digits = {}\n",
    "    for digit, (start, end) in digit_pos.items():\n",
    "        digits[digit] = y_pred[:, start:end]\n",
    "    return (cce(y_true[:, 0], n_digits) + cce(y_true[:, 1], digits[1]) + cce(y_true[:, 2], digits[2]) +\n",
    "            cce(y_true[:, 3], digits[3]) + cce(y_true[:, 4], digits[4])) / 5"
   ],
   "metadata": {
    "collapsed": false,
    "pycharm": {
     "name": "#%%\n"
    },
    "ExecuteTime": {
     "end_time": "2023-09-26T00:43:19.492615Z",
     "start_time": "2023-09-26T00:43:19.451719Z"
    }
   }
  },
  {
   "cell_type": "code",
   "execution_count": 7,
   "outputs": [],
   "source": [
    "vgg16 = VGG16(input_shape=IMG_SHAPE, include_top=False, weights='imagenet')\n",
    "vgg16.trainable = False\n",
    "x = vgg16.output\n",
    "x = Flatten()(x)\n",
    "x = BatchNormalization()(x)\n",
    "x = Dense(256)(x)\n",
    "x = BatchNormalization()(x)\n",
    "x = Activation('relu')(x)\n",
    "x = Dense(128)(x)\n",
    "x = BatchNormalization()(x)\n",
    "x = Activation('relu')(x)\n",
    "n_digits = Dense(SEQ_LENGTH, activation='softmax', name='n_digits')(x)\n",
    "digit1 = Dense(N_CLASSES-1, activation='softmax', name='d1')(x)\n",
    "digit2 = Dense(N_CLASSES, activation='softmax', name='d2')(x)\n",
    "digit3 = Dense(N_CLASSES, activation='softmax', name='d3')(x)\n",
    "digit4 = Dense(N_CLASSES, activation='softmax', name='d4')(x)\n",
    "predictions = Concatenate()([n_digits, digit1, digit2, digit3, digit4])\n",
    "\n",
    "model = Model(inputs=vgg16.input, outputs=predictions)\n",
    "model.compile(optimizer='adam', loss=weighted_entropy, metrics=[weighted_accuracy])"
   ],
   "metadata": {
    "collapsed": false,
    "pycharm": {
     "name": "#%%\n"
    },
    "ExecuteTime": {
     "end_time": "2023-09-26T00:43:21.822083Z",
     "start_time": "2023-09-26T00:43:19.463687100Z"
    }
   }
  },
  {
   "cell_type": "code",
   "execution_count": 8,
   "outputs": [],
   "source": [
    "# Define Callbacks\n",
    "svhn_path = (results_path / 'svhn.weights.best.hdf5').as_posix()\n",
    "checkpointer = ModelCheckpoint(filepath=svhn_path, verbose=1, monitor='val_weighted_accuracy',\n",
    "                               save_best_only=True)\n",
    "early_stopping = EarlyStopping(monitor='val_weighted_accuracy', patience=5)"
   ],
   "metadata": {
    "collapsed": false,
    "pycharm": {
     "name": "#%%\n"
    },
    "ExecuteTime": {
     "end_time": "2023-09-26T00:43:21.838039800Z",
     "start_time": "2023-09-26T00:43:21.825074800Z"
    }
   }
  },
  {
   "cell_type": "code",
   "execution_count": 9,
   "outputs": [
    {
     "name": "stdout",
     "output_type": "stream",
     "text": [
      "Epoch 1/50\n",
      "WARNING:tensorflow:AutoGraph could not transform <function weighted_entropy at 0x000002954A0AD550> and will run it as-is.\n",
      "Please report this to the TensorFlow team. When filing the bug, set the verbosity to 10 (on Linux, `export AUTOGRAPH_VERBOSITY=10`) and attach the full output.\n",
      "Cause: module 'gast' has no attribute 'Index'\n",
      "To silence this warning, decorate the function with @tf.autograph.experimental.do_not_convert\n",
      "WARNING: AutoGraph could not transform <function weighted_entropy at 0x000002954A0AD550> and will run it as-is.\n",
      "Please report this to the TensorFlow team. When filing the bug, set the verbosity to 10 (on Linux, `export AUTOGRAPH_VERBOSITY=10`) and attach the full output.\n",
      "Cause: module 'gast' has no attribute 'Index'\n",
      "To silence this warning, decorate the function with @tf.autograph.experimental.do_not_convert\n",
      "WARNING:tensorflow:AutoGraph could not transform <function weighted_accuracy at 0x000002954A0ADF70> and will run it as-is.\n",
      "Please report this to the TensorFlow team. When filing the bug, set the verbosity to 10 (on Linux, `export AUTOGRAPH_VERBOSITY=10`) and attach the full output.\n",
      "Cause: module 'gast' has no attribute 'Index'\n",
      "To silence this warning, decorate the function with @tf.autograph.experimental.do_not_convert\n",
      "WARNING: AutoGraph could not transform <function weighted_accuracy at 0x000002954A0ADF70> and will run it as-is.\n",
      "Please report this to the TensorFlow team. When filing the bug, set the verbosity to 10 (on Linux, `export AUTOGRAPH_VERBOSITY=10`) and attach the full output.\n",
      "Cause: module 'gast' has no attribute 'Index'\n",
      "To silence this warning, decorate the function with @tf.autograph.experimental.do_not_convert\n",
      "940/940 [==============================] - ETA: 0s - loss: nan - weighted_accuracy: 0.0681\n",
      "Epoch 00001: val_weighted_accuracy improved from -inf to 0.05925, saving model to results/svhn\\svhn.weights.best.hdf5\n",
      "940/940 [==============================] - 259s 276ms/step - loss: nan - weighted_accuracy: 0.0681 - val_loss: nan - val_weighted_accuracy: 0.0592\n",
      "Epoch 2/50\n",
      "940/940 [==============================] - ETA: 0s - loss: nan - weighted_accuracy: 0.0606\n",
      "Epoch 00002: val_weighted_accuracy did not improve from 0.05925\n",
      "940/940 [==============================] - 256s 273ms/step - loss: nan - weighted_accuracy: 0.0606 - val_loss: nan - val_weighted_accuracy: 0.0592\n",
      "Epoch 3/50\n",
      "940/940 [==============================] - ETA: 0s - loss: nan - weighted_accuracy: 0.0605\n",
      "Epoch 00003: val_weighted_accuracy did not improve from 0.05925\n",
      "940/940 [==============================] - 258s 274ms/step - loss: nan - weighted_accuracy: 0.0605 - val_loss: nan - val_weighted_accuracy: 0.0592\n",
      "Epoch 4/50\n",
      "940/940 [==============================] - ETA: 0s - loss: nan - weighted_accuracy: 0.0605\n",
      "Epoch 00004: val_weighted_accuracy did not improve from 0.05925\n",
      "940/940 [==============================] - 256s 273ms/step - loss: nan - weighted_accuracy: 0.0605 - val_loss: nan - val_weighted_accuracy: 0.0592\n",
      "Epoch 5/50\n",
      "939/940 [============================>.] - ETA: 0s - loss: nan - weighted_accuracy: 0.0605\n",
      "Epoch 00005: val_weighted_accuracy did not improve from 0.05925\n",
      "940/940 [==============================] - 256s 272ms/step - loss: nan - weighted_accuracy: 0.0606 - val_loss: nan - val_weighted_accuracy: 0.0592\n",
      "Epoch 6/50\n",
      "940/940 [==============================] - ETA: 0s - loss: nan - weighted_accuracy: 0.0605\n",
      "Epoch 00006: val_weighted_accuracy did not improve from 0.05925\n",
      "940/940 [==============================] - 253s 269ms/step - loss: nan - weighted_accuracy: 0.0605 - val_loss: nan - val_weighted_accuracy: 0.0592\n"
     ]
    }
   ],
   "source": [
    "# Train Transfer Model\n",
    "epochs = 50\n",
    "result = model.fit(x=X_train, y=y_train, validation_split=.1, batch_size=32, epochs=epochs, verbose=1,\n",
    "                    callbacks=[checkpointer, early_stopping], workers=6)"
   ],
   "metadata": {
    "collapsed": false,
    "pycharm": {
     "name": "#%%\n"
    },
    "ExecuteTime": {
     "end_time": "2023-09-26T01:09:07.246035100Z",
     "start_time": "2023-09-26T00:43:21.840034900Z"
    }
   }
  },
  {
   "cell_type": "code",
   "execution_count": 10,
   "outputs": [
    {
     "name": "stdout",
     "output_type": "stream",
     "text": [
      "409/409 [==============================] - 99s 241ms/step\n"
     ]
    }
   ],
   "source": [
    "# Evaluate Results\n",
    "metrics = pd.DataFrame(result.history)\n",
    "initial_epochs = len(metrics)\n",
    "y_pred = model.predict(X_test, verbose=1)"
   ],
   "metadata": {
    "collapsed": false,
    "pycharm": {
     "name": "#%%\n"
    },
    "ExecuteTime": {
     "end_time": "2023-09-26T01:10:47.124180400Z",
     "start_time": "2023-09-26T01:09:07.248030800Z"
    }
   }
  },
  {
   "cell_type": "code",
   "execution_count": 11,
   "outputs": [
    {
     "data": {
      "text/plain": "0.19003520587785092"
     },
     "execution_count": 11,
     "metadata": {},
     "output_type": "execute_result"
    }
   ],
   "source": [
    "n_digits = y_pred[:, :SEQ_LENGTH]\n",
    "digits = {}\n",
    "for digit, (start, end) in digit_pos.items():\n",
    "    digits[digit] = y_pred[:, start:end]\n",
    "\n",
    "(y_test[:, 0] == np.argmax(n_digits, axis=1)).sum()/len(n_digits)"
   ],
   "metadata": {
    "collapsed": false,
    "pycharm": {
     "name": "#%%\n"
    },
    "ExecuteTime": {
     "end_time": "2023-09-26T01:10:47.172052300Z",
     "start_time": "2023-09-26T01:10:47.127171800Z"
    }
   }
  },
  {
   "cell_type": "code",
   "execution_count": 12,
   "outputs": [
    {
     "data": {
      "text/plain": "array([[2483,    0,    0,    0],\n       [8356,    0,    0,    0],\n       [2081,    0,    0,    0],\n       [ 146,    0,    0,    0]], dtype=int64)"
     },
     "execution_count": 12,
     "metadata": {},
     "output_type": "execute_result"
    }
   ],
   "source": [
    "confusion_matrix(y_true=y_test[:, 0], y_pred=np.argmax(n_digits, axis=1))"
   ],
   "metadata": {
    "collapsed": false,
    "pycharm": {
     "name": "#%%\n"
    },
    "ExecuteTime": {
     "end_time": "2023-09-26T01:10:47.221918600Z",
     "start_time": "2023-09-26T01:10:47.175043900Z"
    }
   }
  },
  {
   "cell_type": "code",
   "execution_count": 13,
   "outputs": [
    {
     "data": {
      "text/plain": "<Figure size 432x288 with 1 Axes>",
      "image/png": "[encoded data removed]"
     },
     "metadata": {},
     "output_type": "display_data"
    }
   ],
   "source": [
    "accuracy = np.zeros_like(y_test)\n",
    "accuracy[:, 0] = (y_test[:, 0] == np.argmax(n_digits, axis=1))\n",
    "\n",
    "for i in range(1, 5):\n",
    "    accuracy[:, i] = (y_test[:, i] == np.argmax(digits[i], axis=1))\n",
    "\n",
    "acc_by_output = {}\n",
    "for i in range(5):\n",
    "    acc_by_output[i] = accuracy[:, i].sum()/accuracy[:, i].shape[0]\n",
    "\n",
    "acc_up_to_out = {}\n",
    "for i in range(1, 6):\n",
    "    r = accuracy[:, :i].all(1)\n",
    "    acc_up_to_out[i-1] = r.sum()/r.shape[0]\n",
    "\n",
    "pd.DataFrame({'acc1': acc_by_output, 'acc2': acc_up_to_out}).plot.bar()\n",
    "sns.despine();"
   ],
   "metadata": {
    "collapsed": false,
    "pycharm": {
     "name": "#%%\n"
    },
    "ExecuteTime": {
     "end_time": "2023-09-26T01:10:48.379862700Z",
     "start_time": "2023-09-26T01:10:47.220921300Z"
    }
   }
  },
  {
   "cell_type": "code",
   "execution_count": 14,
   "outputs": [
    {
     "data": {
      "text/plain": "{'loss': [nan, nan, nan, nan, nan, nan],\n 'weighted_accuracy': [0.06807181239128113,\n  0.0605585090816021,\n  0.060512006282806396,\n  0.060511961579322815,\n  0.060558516532182693,\n  0.06051196530461311],\n 'val_loss': [nan, nan, nan, nan, nan, nan],\n 'val_weighted_accuracy': [0.05924604833126068,\n  0.05924604833126068,\n  0.05924604833126068,\n  0.05924604833126068,\n  0.05924604833126068,\n  0.05924604833126068]}"
     },
     "execution_count": 14,
     "metadata": {},
     "output_type": "execute_result"
    }
   ],
   "source": [
    "result.history"
   ],
   "metadata": {
    "collapsed": false,
    "ExecuteTime": {
     "end_time": "2023-09-26T01:10:48.390834Z",
     "start_time": "2023-09-26T01:10:48.378869200Z"
    }
   }
  },
  {
   "cell_type": "code",
   "execution_count": 15,
   "outputs": [
    {
     "name": "stdout",
     "output_type": "stream",
     "text": [
      "Model: \"functional_1\"\n",
      "__________________________________________________________________________________________________\n",
      "Layer (type)                    Output Shape         Param #     Connected to                     \n",
      "==================================================================================================\n",
      "input_1 (InputLayer)            [(None, 32, 32, 3)]  0                                            \n",
      "__________________________________________________________________________________________________\n",
      "block1_conv1 (Conv2D)           (None, 32, 32, 64)   1792        input_1[0][0]                    \n",
      "__________________________________________________________________________________________________\n",
      "block1_conv2 (Conv2D)           (None, 32, 32, 64)   36928       block1_conv1[0][0]               \n",
      "__________________________________________________________________________________________________\n",
      "block1_pool (MaxPooling2D)      (None, 16, 16, 64)   0           block1_conv2[0][0]               \n",
      "__________________________________________________________________________________________________\n",
      "block2_conv1 (Conv2D)           (None, 16, 16, 128)  73856       block1_pool[0][0]                \n",
      "__________________________________________________________________________________________________\n",
      "block2_conv2 (Conv2D)           (None, 16, 16, 128)  147584      block2_conv1[0][0]               \n",
      "__________________________________________________________________________________________________\n",
      "block2_pool (MaxPooling2D)      (None, 8, 8, 128)    0           block2_conv2[0][0]               \n",
      "__________________________________________________________________________________________________\n",
      "block3_conv1 (Conv2D)           (None, 8, 8, 256)    295168      block2_pool[0][0]                \n",
      "__________________________________________________________________________________________________\n",
      "block3_conv2 (Conv2D)           (None, 8, 8, 256)    590080      block3_conv1[0][0]               \n",
      "__________________________________________________________________________________________________\n",
      "block3_conv3 (Conv2D)           (None, 8, 8, 256)    590080      block3_conv2[0][0]               \n",
      "__________________________________________________________________________________________________\n",
      "block3_pool (MaxPooling2D)      (None, 4, 4, 256)    0           block3_conv3[0][0]               \n",
      "__________________________________________________________________________________________________\n",
      "block4_conv1 (Conv2D)           (None, 4, 4, 512)    1180160     block3_pool[0][0]                \n",
      "__________________________________________________________________________________________________\n",
      "block4_conv2 (Conv2D)           (None, 4, 4, 512)    2359808     block4_conv1[0][0]               \n",
      "__________________________________________________________________________________________________\n",
      "block4_conv3 (Conv2D)           (None, 4, 4, 512)    2359808     block4_conv2[0][0]               \n",
      "__________________________________________________________________________________________________\n",
      "block4_pool (MaxPooling2D)      (None, 2, 2, 512)    0           block4_conv3[0][0]               \n",
      "__________________________________________________________________________________________________\n",
      "block5_conv1 (Conv2D)           (None, 2, 2, 512)    2359808     block4_pool[0][0]                \n",
      "__________________________________________________________________________________________________\n",
      "block5_conv2 (Conv2D)           (None, 2, 2, 512)    2359808     block5_conv1[0][0]               \n",
      "__________________________________________________________________________________________________\n",
      "block5_conv3 (Conv2D)           (None, 2, 2, 512)    2359808     block5_conv2[0][0]               \n",
      "__________________________________________________________________________________________________\n",
      "block5_pool (MaxPooling2D)      (None, 1, 1, 512)    0           block5_conv3[0][0]               \n",
      "__________________________________________________________________________________________________\n",
      "flatten (Flatten)               (None, 512)          0           block5_pool[0][0]                \n",
      "__________________________________________________________________________________________________\n",
      "batch_normalization (BatchNorma (None, 512)          2048        flatten[0][0]                    \n",
      "__________________________________________________________________________________________________\n",
      "dense (Dense)                   (None, 256)          131328      batch_normalization[0][0]        \n",
      "__________________________________________________________________________________________________\n",
      "batch_normalization_1 (BatchNor (None, 256)          1024        dense[0][0]                      \n",
      "__________________________________________________________________________________________________\n",
      "activation (Activation)         (None, 256)          0           batch_normalization_1[0][0]      \n",
      "__________________________________________________________________________________________________\n",
      "dense_1 (Dense)                 (None, 128)          32896       activation[0][0]                 \n",
      "__________________________________________________________________________________________________\n",
      "batch_normalization_2 (BatchNor (None, 128)          512         dense_1[0][0]                    \n",
      "__________________________________________________________________________________________________\n",
      "activation_1 (Activation)       (None, 128)          0           batch_normalization_2[0][0]      \n",
      "__________________________________________________________________________________________________\n",
      "n_digits (Dense)                (None, 4)            516         activation_1[0][0]               \n",
      "__________________________________________________________________________________________________\n",
      "d1 (Dense)                      (None, 10)           1290        activation_1[0][0]               \n",
      "__________________________________________________________________________________________________\n",
      "d2 (Dense)                      (None, 11)           1419        activation_1[0][0]               \n",
      "__________________________________________________________________________________________________\n",
      "d3 (Dense)                      (None, 11)           1419        activation_1[0][0]               \n",
      "__________________________________________________________________________________________________\n",
      "d4 (Dense)                      (None, 11)           1419        activation_1[0][0]               \n",
      "__________________________________________________________________________________________________\n",
      "concatenate (Concatenate)       (None, 47)           0           n_digits[0][0]                   \n",
      "                                                                 d1[0][0]                         \n",
      "                                                                 d2[0][0]                         \n",
      "                                                                 d3[0][0]                         \n",
      "                                                                 d4[0][0]                         \n",
      "==================================================================================================\n",
      "Total params: 14,888,559\n",
      "Trainable params: 172,079\n",
      "Non-trainable params: 14,716,480\n",
      "__________________________________________________________________________________________________\n"
     ]
    }
   ],
   "source": [
    "model.summary()"
   ],
   "metadata": {
    "collapsed": false,
    "ExecuteTime": {
     "end_time": "2023-09-26T01:10:48.401805100Z",
     "start_time": "2023-09-26T01:10:48.386844200Z"
    }
   }
  },
  {
   "cell_type": "code",
   "execution_count": 16,
   "outputs": [
    {
     "data": {
      "text/plain": "20"
     },
     "execution_count": 16,
     "metadata": {},
     "output_type": "execute_result"
    }
   ],
   "source": [
    "len(model.trainable_variables)"
   ],
   "metadata": {
    "collapsed": false,
    "ExecuteTime": {
     "end_time": "2023-09-26T01:10:48.482588500Z",
     "start_time": "2023-09-26T01:10:48.400806700Z"
    }
   }
  },
  {
   "cell_type": "code",
   "execution_count": null,
   "outputs": [
    {
     "name": "stdout",
     "output_type": "stream",
     "text": [
      "Epoch 7/56\n"
     ]
    }
   ],
   "source": [
    "# # Fine Tune VGG16 weights\n",
    "# vgg16.trainable = True\n",
    "# # Fine-tune from this layer onwards\n",
    "# start_fine_tuning_at = 1\n",
    "# \n",
    "# # Freeze all the layers before the `fine_tune_at` layer\n",
    "# for layer in vgg16.layers[:start_fine_tuning_at]:\n",
    "#     layer.trainable =  False\n",
    "# \n",
    "# model.compile(optimizer='adam', loss=weighted_entropy, metrics=[weighted_accuracy])\n",
    "# \n",
    "# fine_tune_epochs = 50\n",
    "# total_epochs = initial_epochs + fine_tune_epochs\n",
    "# \n",
    "# result_fine_tune = model.fit(x=X_train, y=y_train, validation_split=.1, batch_size=32, epochs=total_epochs, initial_epoch=initial_epochs, callbacks=[early_stopping], workers=6)"
   ],
   "metadata": {
    "collapsed": false,
    "pycharm": {
     "name": "#%%\n"
    },
    "is_executing": true,
    "ExecuteTime": {
     "start_time": "2023-09-26T01:10:48.414769200Z"
    }
   }
  },
  {
   "cell_type": "code",
   "execution_count": null,
   "outputs": [],
   "source": [
    "# metrics_tuned = metrics.append(pd.DataFrame(result_fine_tune.history), ignore_index=True)\n",
    "# metrics_tuned.info()"
   ],
   "metadata": {
    "collapsed": false,
    "pycharm": {
     "name": "#%%\n"
    },
    "is_executing": true
   }
  },
  {
   "cell_type": "code",
   "execution_count": null,
   "outputs": [],
   "source": [
    "# fig, axes = plt.subplots(ncols=2, figsize=(15, 4))\n",
    "# metrics_tuned[['loss', 'val_loss']].plot(ax=axes[1], title='Cross-Entropy Loss')\n",
    "# metrics_tuned[['weighted_accuracy', 'val_weighted_accuracy']].plot(ax=axes[0], title=f'Accuracy (Best: {metrics_tuned.val_weighted_accuracy.max():.2%})')\n",
    "# axes[0].yaxis.set_major_formatter(FuncFormatter(lambda y, _: '{:.0%}'.format(y)))\n",
    "# axes[0].set_ylabel('Accuracy')\n",
    "# axes[1].set_ylabel('Loss')\n",
    "# \n",
    "# for ax in axes:\n",
    "#     ax.axvline(14, ls='--', lw=1, c='k')\n",
    "#     ax.legend(['Training', 'Validation', 'Start Fine Tuning'])\n",
    "#     ax.set_xlabel('Epoch')\n",
    "# \n",
    "# fig.tight_layout()\n",
    "# fig.savefig(results_path / 'transfer_learning_svhn');"
   ],
   "metadata": {
    "collapsed": false,
    "pycharm": {
     "name": "#%%\n"
    },
    "is_executing": true
   }
  }
 ],
 "metadata": {
  "kernelspec": {
   "display_name": "Python 3",
   "language": "python",
   "name": "python3"
  },
  "language_info": {
   "codemirror_mode": {
    "name": "ipython",
    "version": 2
   },
   "file_extension": ".py",
   "mimetype": "text/x-python",
   "name": "python",
   "nbconvert_exporter": "python",
   "pygments_lexer": "ipython2",
   "version": "2.7.6"
  }
 },
 "nbformat": 4,
 "nbformat_minor": 0
}
