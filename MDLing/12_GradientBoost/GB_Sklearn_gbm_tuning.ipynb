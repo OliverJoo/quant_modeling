{
 "cells": [
  {
   "cell_type": "code",
   "execution_count": 2,
   "metadata": {
    "collapsed": true,
    "pycharm": {
     "name": "#%%\n"
    }
   },
   "outputs": [],
   "source": [
    "from time import time\n",
    "import numpy as np\n",
    "import pandas as pd\n",
    "import warnings\n",
    "\n",
    "from sklearn.ensemble import GradientBoostingClassifier\n",
    "from sklearn.model_selection import GridSearchCV\n",
    "from itertools import product\n",
    "import joblib\n",
    "from pathlib import Path\n",
    "\n",
    "warnings.filterwarnings('ignore')\n",
    "np.random.seed(42)"
   ]
  },
  {
   "cell_type": "code",
   "execution_count": 3,
   "outputs": [],
   "source": [
    "def get_one_hot_data(df, cols=('year', 'month', 'age', 'msize')):\n",
    "    cols = list(cols)\n",
    "    df = pd.get_dummies(df, columns=cols + ['sector'], prefix=cols + [''], prefix_sep=['_'] * len(cols) + [''])\n",
    "    return df.rename(columns={c: c.replace('.0', '').replace(' ', '_').lower() for c in df.columns})"
   ],
   "metadata": {
    "collapsed": false,
    "pycharm": {
     "name": "#%%\n"
    }
   }
  },
  {
   "cell_type": "code",
   "execution_count": 4,
   "outputs": [],
   "source": [
    "# Create holdout test set\n",
    "def get_holdout_set(target, features, period=6):\n",
    "    idx = pd.IndexSlice\n",
    "    label = target.name\n",
    "    dates = np.sort(target.index.get_level_values('date').unique())\n",
    "    cv_start, cv_end = dates[0], dates[-period - 2]\n",
    "    holdout_start, holdout_end = dates[-period - 1], dates[-1]\n",
    "\n",
    "    df = features.join(target.to_frame())\n",
    "    train = df.loc[idx[:, cv_start: cv_end], :]\n",
    "    y_train, X_train = train[label], train.drop(label, axis=1)\n",
    "\n",
    "    test = df.loc[idx[:, holdout_start: holdout_end], :]\n",
    "    y_test, X_test = test[label], test.drop(label, axis=1)\n",
    "    return y_train, X_train, y_test, X_test\n",
    "\n",
    "# Custom TimeSeriesSplit\n",
    "class OneStepTimeSeriesSplit:\n",
    "    \"\"\"Generates tuples of train_idx, test_idx pairs Assumes the index contains a level labeled 'date'\"\"\"\n",
    "\n",
    "    def __init__(self, n_splits=3, test_period_length=1, shuffle=False):\n",
    "        self.n_splits = n_splits\n",
    "        self.test_period_length = test_period_length\n",
    "        self.shuffle = shuffle\n",
    "        self.test_end = n_splits * test_period_length\n",
    "\n",
    "    @staticmethod\n",
    "    def chunks(l, n):\n",
    "        for i in range(0, len(l), n):\n",
    "            yield l[i:i + n]\n",
    "\n",
    "    def split(self, X, y=None, groups=None):\n",
    "        unique_dates = (X.index.get_level_values('date').unique().sort_values(ascending=False)\n",
    "        [:self.test_end])\n",
    "\n",
    "        dates = X.reset_index()[['date']]\n",
    "        for test_date in self.chunks(unique_dates, self.test_period_length):\n",
    "            train_idx = dates[dates.date < min(test_date)].index\n",
    "            test_idx = dates[dates.date.isin(test_date)].index\n",
    "            if self.shuffle:\n",
    "                np.random.shuffle(list(train_idx))\n",
    "            yield train_idx, test_idx\n",
    "\n",
    "    def get_n_splits(self, X, y, groups=None):\n",
    "        return self.n_splits\n",
    "\n",
    "# Instantiate GradientBoostingClassifier\n",
    "# loss{‘deviance’, ‘exponential’} : deviance for logistic regression, exponential for AdaBoost\n",
    "gb_clf = GradientBoostingClassifier(loss='deviance', learning_rate=0.1, n_estimators=100, subsample=1.0,\n",
    "                                    criterion='friedman_mse', min_samples_split=2, min_samples_leaf=1,\n",
    "                                    min_weight_fraction_leaf=0.0, max_depth=3, min_impurity_decrease=0.0,\n",
    "                                    init=None, random_state=None, max_features=None, verbose=0,\n",
    "                                    max_leaf_nodes=None, warm_start=False,\n",
    "                                    validation_fraction=0.1, n_iter_no_change=None, tol=0.0001)"
   ],
   "metadata": {
    "collapsed": false,
    "pycharm": {
     "name": "#%%\n"
    }
   }
  },
  {
   "cell_type": "code",
   "execution_count": 5,
   "outputs": [
    {
     "name": "stdout",
     "output_type": "stream",
     "text": [
      "<class 'pandas.io.pytables.HDFStore'>\n",
      "File path: data\\assets.h5\n",
      "/engineered_features                        frame        (shape->[358914,33])                                                                \n",
      "/quandl/wiki/prices                         frame        (shape->[15389314,12])                                                              \n",
      "/quandl/wiki/stocks                         frame        (shape->[1,2])                                                                      \n",
      "/sp500/fred                                 frame        (shape->[2608,1])                                                                   \n",
      "/sp500/stocks                               frame        (shape->[503,7])                                                                    \n",
      "/sp500/stooq                                frame        (shape->[18517,5])                                                                  \n",
      "/stooq/jp/tse/stocks/prices                 frame_table  (typ->appendable_multi,nrows->12655032,ncols->7,indexers->[index],dc->[date,ticker])\n",
      "/stooq/jp/tse/stocks/tickers                frame_table  (typ->appendable,nrows->3889,ncols->2,indexers->[index],dc->[])                     \n",
      "/stooq/us/nasdaq/etfs/prices                frame_table  (typ->appendable_multi,nrows->856539,ncols->7,indexers->[index],dc->[date,ticker])  \n",
      "/stooq/us/nasdaq/etfs/tickers               frame_table  (typ->appendable,nrows->379,ncols->2,indexers->[index],dc->[])                      \n",
      "/stooq/us/nasdaq/stocks/prices              frame_table  (typ->appendable_multi,nrows->8212846,ncols->7,indexers->[index],dc->[date,ticker]) \n",
      "/stooq/us/nasdaq/stocks/tickers             frame_table  (typ->appendable,nrows->5050,ncols->2,indexers->[index],dc->[])                     \n",
      "/stooq/us/nyse/etfs/prices                  frame_table  (typ->appendable_multi,nrows->4403232,ncols->7,indexers->[index],dc->[date,ticker]) \n",
      "/stooq/us/nyse/etfs/tickers                 frame_table  (typ->appendable,nrows->2260,ncols->2,indexers->[index],dc->[])                     \n",
      "/stooq/us/nyse/stocks/prices                frame_table  (typ->appendable_multi,nrows->8744588,ncols->7,indexers->[index],dc->[date,ticker]) \n",
      "/stooq/us/nyse/stocks/tickers               frame_table  (typ->appendable,nrows->3698,ncols->2,indexers->[index],dc->[])                     \n",
      "/stooq/us/nysemkt/stocks/prices             frame_table  (typ->appendable_multi,nrows->834693,ncols->7,indexers->[index],dc->[date,ticker])  \n",
      "/stooq/us/nysemkt/stocks/tickers            frame_table  (typ->appendable,nrows->355,ncols->2,indexers->[index],dc->[])                      \n",
      "/us_equities/stocks                         frame        (shape->[6834,6])                                                                   \n",
      "                   return_1m  return_2m  return_3m  return_6m  return_9m  \\\n",
      "ticker date                                                                \n",
      "ZUMZ   2017-10-31  -0.024862   0.190660   0.115956  -0.002805  -0.014066   \n",
      "       2017-11-30   0.235127   0.097461   0.205302   0.073430   0.007402   \n",
      "       2017-12-31  -0.044725   0.086226   0.047857   0.090987   0.014465   \n",
      "       2018-01-31  -0.003601  -0.024380   0.055418   0.085265   0.016237   \n",
      "       2018-02-28  -0.050602  -0.027386  -0.033200   0.079484   0.036640   \n",
      "\n",
      "                   return_12m    Mkt-RF       SMB       HML       RMW  ...  \\\n",
      "ticker date                                                            ...   \n",
      "ZUMZ   2017-10-31   -0.019115  0.118684  0.283629  1.061429  2.597181  ...   \n",
      "       2017-11-30   -0.010687 -0.772268  1.001880  1.353344  2.953964  ...   \n",
      "       2017-12-31   -0.003996 -0.772493  1.331478  1.327658  3.467731  ...   \n",
      "       2018-01-31    0.002864 -0.965140  1.664637  1.528651  3.650790  ...   \n",
      "       2018-02-28   -0.002905  0.074156  1.167027  1.322157  2.983583  ...   \n",
      "\n",
      "                   return_1m_t-5  return_1m_t-6  target_1m  target_2m  \\\n",
      "ticker date                                                             \n",
      "ZUMZ   2017-10-31      -0.206128      -0.019126   0.235127   0.086226   \n",
      "       2017-11-30      -0.133333      -0.206128  -0.044725  -0.024380   \n",
      "       2017-12-31       0.028340      -0.133333  -0.003601  -0.027386   \n",
      "       2018-01-31      -0.019685       0.028340  -0.050602   0.066466   \n",
      "       2018-02-28       0.430943      -0.019685   0.197970        NaN   \n",
      "\n",
      "                   target_3m  target_6m  target_12m  age  msize  \\\n",
      "ticker date                                                       \n",
      "ZUMZ   2017-10-31   0.055418        NaN         NaN    3    2.0   \n",
      "       2017-11-30  -0.033200        NaN         NaN    3    2.0   \n",
      "       2017-12-31   0.042579        NaN         NaN    3    2.0   \n",
      "       2018-01-31        NaN        NaN         NaN    3    2.0   \n",
      "       2018-02-28        NaN        NaN         NaN    3    2.0   \n",
      "\n",
      "                              sector  \n",
      "ticker date                           \n",
      "ZUMZ   2017-10-31  Consumer Services  \n",
      "       2017-11-30  Consumer Services  \n",
      "       2017-12-31  Consumer Services  \n",
      "       2018-01-31  Consumer Services  \n",
      "       2018-02-28  Consumer Services  \n",
      "\n",
      "[5 rows x 33 columns]\n"
     ]
    }
   ],
   "source": [
    "DATA_STORE = Path('data/assets.h5')\n",
    "\n",
    "def get_data(start='2010', end='2018', holding_period=1, dropna=False):\n",
    "    idx = pd.IndexSlice\n",
    "    target = f'target_{holding_period}m'\n",
    "    with pd.HDFStore(DATA_STORE) as store:\n",
    "        print(store.info())\n",
    "        df = store['engineered_features']\n",
    "\n",
    "    print(df.tail())\n",
    "\n",
    "    if start is not None and end is not None:\n",
    "        df = df.loc[idx[:, start: end], :]\n",
    "    if dropna:\n",
    "        df = df.dropna()\n",
    "\n",
    "    y = (df[target] > 0).astype(int)\n",
    "    X = df.drop([c for c in df.columns if c.startswith('target')], axis=1)\n",
    "    return y, X\n",
    "\n",
    "n_splits = 12\n",
    "cv = OneStepTimeSeriesSplit(n_splits=n_splits)\n",
    "y, features = get_data()\n",
    "X = get_one_hot_data(features).dropna()\n",
    "\n",
    "y, X, y_test, X_test = get_holdout_set(target=y, features=X)\n",
    "\n",
    "data_path = Path('data')\n",
    "if not data_path.exists():\n",
    "    data_path.mkdir()\n",
    "\n",
    "with pd.HDFStore(data_path / 'tuning_sklearn_gbm.h5') as store:\n",
    "    store.put('holdout/features', X_test)\n",
    "    store.put('holdout/target', y_test)\n",
    "    store.put('cv/target', y)\n",
    "    store.put('cv/features', X)"
   ],
   "metadata": {
    "collapsed": false,
    "pycharm": {
     "name": "#%%\n"
    }
   }
  },
  {
   "cell_type": "code",
   "execution_count": 6,
   "outputs": [
    {
     "data": {
      "text/plain": "                   return_1m  return_2m  return_3m  return_6m  return_9m  \\\nticker date                                                                \nZUMZ   2017-03-31  -0.102941  -0.044637  -0.057387   0.002759   0.027704   \n       2017-04-30  -0.019126  -0.061969  -0.036208  -0.035159   0.006192   \n       2017-05-31  -0.206128  -0.117567  -0.112718  -0.088212  -0.017474   \n       2017-06-30  -0.133333  -0.170529  -0.122854  -0.090710  -0.040993   \n       2017-07-31   0.028340  -0.055951  -0.108927  -0.073281  -0.060403   \n\n                   return_12m    mkt-rf       smb       hml       rmw  ...  \\\nticker date                                                            ...   \nZUMZ   2017-03-31   -0.007044  1.005997  0.130166 -0.826775  2.247905  ...   \n       2017-04-30    0.005633  1.198188 -0.329949 -0.566054  1.931023  ...   \n       2017-05-31   -0.003599  1.260955 -0.792299 -0.087712  1.830295  ...   \n       2017-06-30   -0.012200  1.210833 -0.605000  0.128989  1.819012  ...   \n       2017-07-31   -0.023912  1.269729 -0.708600  0.121143  1.964291  ...   \n\n                   consumer_non-durables  consumer_services  energy  finance  \\\nticker date                                                                    \nZUMZ   2017-03-31                      0                  1       0        0   \n       2017-04-30                      0                  1       0        0   \n       2017-05-31                      0                  1       0        0   \n       2017-06-30                      0                  1       0        0   \n       2017-07-31                      0                  1       0        0   \n\n                   health_care  miscellaneous  public_utilities  technology  \\\nticker date                                                                   \nZUMZ   2017-03-31            0              0                 0           0   \n       2017-04-30            0              0                 0           0   \n       2017-05-31            0              0                 0           0   \n       2017-06-30            0              0                 0           0   \n       2017-07-31            0              0                 0           0   \n\n                   transportation  unknown  \nticker date                                 \nZUMZ   2017-03-31               0        0  \n       2017-04-30               0        0  \n       2017-05-31               0        0  \n       2017-06-30               0        0  \n       2017-07-31               0        0  \n\n[5 rows x 74 columns]",
      "text/html": "<div>\n<style scoped>\n    .dataframe tbody tr th:only-of-type {\n        vertical-align: middle;\n    }\n\n    .dataframe tbody tr th {\n        vertical-align: top;\n    }\n\n    .dataframe thead th {\n        text-align: right;\n    }\n</style>\n<table border=\"1\" class=\"dataframe\">\n  <thead>\n    <tr style=\"text-align: right;\">\n      <th></th>\n      <th></th>\n      <th>return_1m</th>\n      <th>return_2m</th>\n      <th>return_3m</th>\n      <th>return_6m</th>\n      <th>return_9m</th>\n      <th>return_12m</th>\n      <th>mkt-rf</th>\n      <th>smb</th>\n      <th>hml</th>\n      <th>rmw</th>\n      <th>...</th>\n      <th>consumer_non-durables</th>\n      <th>consumer_services</th>\n      <th>energy</th>\n      <th>finance</th>\n      <th>health_care</th>\n      <th>miscellaneous</th>\n      <th>public_utilities</th>\n      <th>technology</th>\n      <th>transportation</th>\n      <th>unknown</th>\n    </tr>\n    <tr>\n      <th>ticker</th>\n      <th>date</th>\n      <th></th>\n      <th></th>\n      <th></th>\n      <th></th>\n      <th></th>\n      <th></th>\n      <th></th>\n      <th></th>\n      <th></th>\n      <th></th>\n      <th></th>\n      <th></th>\n      <th></th>\n      <th></th>\n      <th></th>\n      <th></th>\n      <th></th>\n      <th></th>\n      <th></th>\n      <th></th>\n      <th></th>\n    </tr>\n  </thead>\n  <tbody>\n    <tr>\n      <th rowspan=\"5\" valign=\"top\">ZUMZ</th>\n      <th>2017-03-31</th>\n      <td>-0.102941</td>\n      <td>-0.044637</td>\n      <td>-0.057387</td>\n      <td>0.002759</td>\n      <td>0.027704</td>\n      <td>-0.007044</td>\n      <td>1.005997</td>\n      <td>0.130166</td>\n      <td>-0.826775</td>\n      <td>2.247905</td>\n      <td>...</td>\n      <td>0</td>\n      <td>1</td>\n      <td>0</td>\n      <td>0</td>\n      <td>0</td>\n      <td>0</td>\n      <td>0</td>\n      <td>0</td>\n      <td>0</td>\n      <td>0</td>\n    </tr>\n    <tr>\n      <th>2017-04-30</th>\n      <td>-0.019126</td>\n      <td>-0.061969</td>\n      <td>-0.036208</td>\n      <td>-0.035159</td>\n      <td>0.006192</td>\n      <td>0.005633</td>\n      <td>1.198188</td>\n      <td>-0.329949</td>\n      <td>-0.566054</td>\n      <td>1.931023</td>\n      <td>...</td>\n      <td>0</td>\n      <td>1</td>\n      <td>0</td>\n      <td>0</td>\n      <td>0</td>\n      <td>0</td>\n      <td>0</td>\n      <td>0</td>\n      <td>0</td>\n      <td>0</td>\n    </tr>\n    <tr>\n      <th>2017-05-31</th>\n      <td>-0.206128</td>\n      <td>-0.117567</td>\n      <td>-0.112718</td>\n      <td>-0.088212</td>\n      <td>-0.017474</td>\n      <td>-0.003599</td>\n      <td>1.260955</td>\n      <td>-0.792299</td>\n      <td>-0.087712</td>\n      <td>1.830295</td>\n      <td>...</td>\n      <td>0</td>\n      <td>1</td>\n      <td>0</td>\n      <td>0</td>\n      <td>0</td>\n      <td>0</td>\n      <td>0</td>\n      <td>0</td>\n      <td>0</td>\n      <td>0</td>\n    </tr>\n    <tr>\n      <th>2017-06-30</th>\n      <td>-0.133333</td>\n      <td>-0.170529</td>\n      <td>-0.122854</td>\n      <td>-0.090710</td>\n      <td>-0.040993</td>\n      <td>-0.012200</td>\n      <td>1.210833</td>\n      <td>-0.605000</td>\n      <td>0.128989</td>\n      <td>1.819012</td>\n      <td>...</td>\n      <td>0</td>\n      <td>1</td>\n      <td>0</td>\n      <td>0</td>\n      <td>0</td>\n      <td>0</td>\n      <td>0</td>\n      <td>0</td>\n      <td>0</td>\n      <td>0</td>\n    </tr>\n    <tr>\n      <th>2017-07-31</th>\n      <td>0.028340</td>\n      <td>-0.055951</td>\n      <td>-0.108927</td>\n      <td>-0.073281</td>\n      <td>-0.060403</td>\n      <td>-0.023912</td>\n      <td>1.269729</td>\n      <td>-0.708600</td>\n      <td>0.121143</td>\n      <td>1.964291</td>\n      <td>...</td>\n      <td>0</td>\n      <td>1</td>\n      <td>0</td>\n      <td>0</td>\n      <td>0</td>\n      <td>0</td>\n      <td>0</td>\n      <td>0</td>\n      <td>0</td>\n      <td>0</td>\n    </tr>\n  </tbody>\n</table>\n<p>5 rows × 74 columns</p>\n</div>"
     },
     "execution_count": 6,
     "metadata": {},
     "output_type": "execute_result"
    }
   ],
   "source": [
    "X.tail()"
   ],
   "metadata": {
    "collapsed": false,
    "pycharm": {
     "name": "#%%\n"
    }
   }
  },
  {
   "cell_type": "code",
   "execution_count": 11,
   "outputs": [
    {
     "name": "stdout",
     "output_type": "stream",
     "text": [
      "# Models = : 32\n"
     ]
    }
   ],
   "source": [
    "# Parameter Grid - reduced several params coz of time-consuming from original params\n",
    "param_grid = dict(learning_rate=[.01, .1], max_depth=list(range(4, 9, 4)), max_features=['sqrt', 1],\n",
    "        min_impurity_decrease=[.01], min_samples_split=[10, 50], n_estimators=[100], subsample=[.8, 1])\n",
    "all_params = list(product(*param_grid.values()))\n",
    "print('# Models = :', len(all_params))"
   ],
   "metadata": {
    "collapsed": false,
    "pycharm": {
     "name": "#%%\n"
    }
   }
  },
  {
   "cell_type": "code",
   "execution_count": 12,
   "outputs": [
    {
     "name": "stdout",
     "output_type": "stream",
     "text": [
      "Fitting 12 folds for each of 32 candidates, totalling 384 fits\n",
      "Done in 1684421634.52s\n"
     ]
    },
    {
     "data": {
      "text/plain": "['results/sklearn_gbm_gridsearch.joblib']"
     },
     "execution_count": 12,
     "metadata": {},
     "output_type": "execute_result"
    }
   ],
   "source": [
    "gs = GridSearchCV(gb_clf, param_grid, cv=cv, scoring='roc_auc', verbose=3, n_jobs=-1, return_train_score=True)\n",
    "\n",
    "start = time()\n",
    "gs.fit(X=X, y=y)\n",
    "done = time()\n",
    "\n",
    "print(f'Done in {done:.2f}s')\n",
    "joblib.dump(gs, 'results/sklearn_gbm_gridsearch.joblib')"
   ],
   "metadata": {
    "collapsed": false,
    "pycharm": {
     "name": "#%%\n"
    }
   }
  }
 ],
 "metadata": {
  "kernelspec": {
   "display_name": "Python 3",
   "language": "python",
   "name": "python3"
  },
  "language_info": {
   "codemirror_mode": {
    "name": "ipython",
    "version": 2
   },
   "file_extension": ".py",
   "mimetype": "text/x-python",
   "name": "python",
   "nbconvert_exporter": "python",
   "pygments_lexer": "ipython2",
   "version": "2.7.6"
  }
 },
 "nbformat": 4,
 "nbformat_minor": 0
}