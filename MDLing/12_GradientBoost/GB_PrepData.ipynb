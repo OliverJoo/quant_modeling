{
 "cells": [
  {
   "cell_type": "code",
   "execution_count": 1,
   "metadata": {
    "collapsed": true,
    "pycharm": {
     "name": "#%%\n"
    }
   },
   "outputs": [],
   "source": [
    "import warnings\n",
    "warnings.filterwarnings('ignore')\n",
    "\n",
    "%matplotlib inline\n",
    "\n",
    "import numpy as np\n",
    "import pandas as pd\n",
    "import matplotlib.pyplot as plt\n",
    "import seaborn as sns\n",
    "import talib\n",
    "from talib import RSI, BBANDS, MACD, ATR\n",
    "\n",
    "MONTH = 21\n",
    "YEAR = 12 * MONTH\n",
    "START = '2010-01-01'\n",
    "END = '2017-12-31'\n",
    "sns.set_style('darkgrid')\n",
    "idx = pd.IndexSlice\n",
    "percentiles = [.001, .01, .02, .03, .04, .05]\n",
    "percentiles += [1-p for p in percentiles[::-1]]\n",
    "T = [1, 5, 10, 21, 42, 63]"
   ]
  },
  {
   "cell_type": "code",
   "execution_count": 2,
   "outputs": [],
   "source": [
    "# Loading Quandl Wiki Stock Prices & Meta Data\n",
    "DATA_STORE = 'data/assets.h5'\n",
    "ohlcv = ['adj_open', 'adj_close', 'adj_low', 'adj_high', 'adj_volume']\n",
    "\n",
    "with pd.HDFStore(DATA_STORE) as store:\n",
    "    prices = (store['quandl/wiki/prices'].loc[idx[START:END, :], ohlcv]\n",
    "              .rename(columns=lambda x: x.replace('adj_', '')).swaplevel().sort_index())\n",
    "    metadata = (store['us_equities/stocks'].loc[:, ['marketcap', 'sector']])"
   ],
   "metadata": {
    "collapsed": false,
    "pycharm": {
     "name": "#%%\n"
    }
   }
  },
  {
   "cell_type": "code",
   "execution_count": 3,
   "outputs": [
    {
     "data": {
      "text/plain": "                        open      close        low       high     volume\nticker date                                                             \nA      2010-01-04  21.415535  21.354133  21.239108  21.579273  2729300.0\n       2010-01-05  21.292732  21.122172  20.985724  21.299554  2994300.0\n       2010-01-06  21.047125  21.047125  20.985724  21.149461  2320300.0\n       2010-01-07  20.999368  21.019836  20.808341  21.026658  2214000.0\n       2010-01-08  20.903855  21.013013  20.740117  21.047125  2670900.0\nZUMZ   2017-12-22  21.550000  21.450000  21.300000  21.700000   209585.0\n       2017-12-26  21.450000  21.850000  21.450000  22.200000   213951.0\n       2017-12-27  21.800000  21.150000  20.950000  22.250000   227325.0\n       2017-12-28  21.200000  21.200000  21.050000  21.450000   162070.0\n       2017-12-29  21.250000  20.825000  20.800000  21.450000   222040.0",
      "text/html": "<div>\n<style scoped>\n    .dataframe tbody tr th:only-of-type {\n        vertical-align: middle;\n    }\n\n    .dataframe tbody tr th {\n        vertical-align: top;\n    }\n\n    .dataframe thead th {\n        text-align: right;\n    }\n</style>\n<table border=\"1\" class=\"dataframe\">\n  <thead>\n    <tr style=\"text-align: right;\">\n      <th></th>\n      <th></th>\n      <th>open</th>\n      <th>close</th>\n      <th>low</th>\n      <th>high</th>\n      <th>volume</th>\n    </tr>\n    <tr>\n      <th>ticker</th>\n      <th>date</th>\n      <th></th>\n      <th></th>\n      <th></th>\n      <th></th>\n      <th></th>\n    </tr>\n  </thead>\n  <tbody>\n    <tr>\n      <th rowspan=\"5\" valign=\"top\">A</th>\n      <th>2010-01-04</th>\n      <td>21.415535</td>\n      <td>21.354133</td>\n      <td>21.239108</td>\n      <td>21.579273</td>\n      <td>2729300.0</td>\n    </tr>\n    <tr>\n      <th>2010-01-05</th>\n      <td>21.292732</td>\n      <td>21.122172</td>\n      <td>20.985724</td>\n      <td>21.299554</td>\n      <td>2994300.0</td>\n    </tr>\n    <tr>\n      <th>2010-01-06</th>\n      <td>21.047125</td>\n      <td>21.047125</td>\n      <td>20.985724</td>\n      <td>21.149461</td>\n      <td>2320300.0</td>\n    </tr>\n    <tr>\n      <th>2010-01-07</th>\n      <td>20.999368</td>\n      <td>21.019836</td>\n      <td>20.808341</td>\n      <td>21.026658</td>\n      <td>2214000.0</td>\n    </tr>\n    <tr>\n      <th>2010-01-08</th>\n      <td>20.903855</td>\n      <td>21.013013</td>\n      <td>20.740117</td>\n      <td>21.047125</td>\n      <td>2670900.0</td>\n    </tr>\n    <tr>\n      <th rowspan=\"5\" valign=\"top\">ZUMZ</th>\n      <th>2017-12-22</th>\n      <td>21.550000</td>\n      <td>21.450000</td>\n      <td>21.300000</td>\n      <td>21.700000</td>\n      <td>209585.0</td>\n    </tr>\n    <tr>\n      <th>2017-12-26</th>\n      <td>21.450000</td>\n      <td>21.850000</td>\n      <td>21.450000</td>\n      <td>22.200000</td>\n      <td>213951.0</td>\n    </tr>\n    <tr>\n      <th>2017-12-27</th>\n      <td>21.800000</td>\n      <td>21.150000</td>\n      <td>20.950000</td>\n      <td>22.250000</td>\n      <td>227325.0</td>\n    </tr>\n    <tr>\n      <th>2017-12-28</th>\n      <td>21.200000</td>\n      <td>21.200000</td>\n      <td>21.050000</td>\n      <td>21.450000</td>\n      <td>162070.0</td>\n    </tr>\n    <tr>\n      <th>2017-12-29</th>\n      <td>21.250000</td>\n      <td>20.825000</td>\n      <td>20.800000</td>\n      <td>21.450000</td>\n      <td>222040.0</td>\n    </tr>\n  </tbody>\n</table>\n</div>"
     },
     "execution_count": 3,
     "metadata": {},
     "output_type": "execute_result"
    }
   ],
   "source": [
    "pd.concat([prices.head(), prices.tail()])"
   ],
   "metadata": {
    "collapsed": false,
    "pycharm": {
     "name": "#%%\n"
    }
   }
  },
  {
   "cell_type": "code",
   "execution_count": 4,
   "outputs": [],
   "source": [
    "prices.volume /= 1e3\n",
    "prices.index.names = ['symbol', 'date']\n",
    "metadata.index.name = 'symbol'"
   ],
   "metadata": {
    "collapsed": false,
    "pycharm": {
     "name": "#%%\n"
    }
   }
  },
  {
   "cell_type": "code",
   "execution_count": 5,
   "outputs": [],
   "source": [
    "# Remove stocks with insufficient observations\n",
    "min_obs = 7 * YEAR\n",
    "nobs = prices.groupby(level='symbol').size()\n",
    "keep = nobs[nobs > min_obs].index\n",
    "prices = prices.loc[idx[keep, :], :]\n",
    "\n",
    "# Align price and meta data\n",
    "metadata = metadata[~metadata.index.duplicated() & metadata.sector.notnull()]\n",
    "metadata.sector = metadata.sector.str.lower().str.replace(' ', '_')\n",
    "shared = (prices.index.get_level_values('symbol').unique().intersection(metadata.index))\n",
    "metadata = metadata.loc[shared, :]\n",
    "prices = prices.loc[idx[shared, :], :]"
   ],
   "metadata": {
    "collapsed": false,
    "pycharm": {
     "name": "#%%\n"
    }
   }
  },
  {
   "cell_type": "code",
   "execution_count": 30,
   "outputs": [
    {
     "data": {
      "text/plain": "                          marketcap\nsector                             \nconsumer_durables      2.738500e+11\ntransportation         5.649100e+11\nmiscellaneous          8.874000e+11\nbasic_industries       8.937500e+11\nconsumer_non-durables  1.501720e+12\npublic_utilities       1.541190e+12\nenergy                 1.711440e+12\ncapital_goods          1.817080e+12\nhealth_care            3.267450e+12\nfinance                3.413510e+12\nconsumer_services      4.398360e+12\ntechnology             5.347350e+12",
      "text/html": "<div>\n<style scoped>\n    .dataframe tbody tr th:only-of-type {\n        vertical-align: middle;\n    }\n\n    .dataframe tbody tr th {\n        vertical-align: top;\n    }\n\n    .dataframe thead th {\n        text-align: right;\n    }\n</style>\n<table border=\"1\" class=\"dataframe\">\n  <thead>\n    <tr style=\"text-align: right;\">\n      <th></th>\n      <th>marketcap</th>\n    </tr>\n    <tr>\n      <th>sector</th>\n      <th></th>\n    </tr>\n  </thead>\n  <tbody>\n    <tr>\n      <th>consumer_durables</th>\n      <td>2.738500e+11</td>\n    </tr>\n    <tr>\n      <th>transportation</th>\n      <td>5.649100e+11</td>\n    </tr>\n    <tr>\n      <th>miscellaneous</th>\n      <td>8.874000e+11</td>\n    </tr>\n    <tr>\n      <th>basic_industries</th>\n      <td>8.937500e+11</td>\n    </tr>\n    <tr>\n      <th>consumer_non-durables</th>\n      <td>1.501720e+12</td>\n    </tr>\n    <tr>\n      <th>public_utilities</th>\n      <td>1.541190e+12</td>\n    </tr>\n    <tr>\n      <th>energy</th>\n      <td>1.711440e+12</td>\n    </tr>\n    <tr>\n      <th>capital_goods</th>\n      <td>1.817080e+12</td>\n    </tr>\n    <tr>\n      <th>health_care</th>\n      <td>3.267450e+12</td>\n    </tr>\n    <tr>\n      <th>finance</th>\n      <td>3.413510e+12</td>\n    </tr>\n    <tr>\n      <th>consumer_services</th>\n      <td>4.398360e+12</td>\n    </tr>\n    <tr>\n      <th>technology</th>\n      <td>5.347350e+12</td>\n    </tr>\n  </tbody>\n</table>\n</div>"
     },
     "execution_count": 30,
     "metadata": {},
     "output_type": "execute_result"
    }
   ],
   "source": [
    "metadata.groupby('sector').sum().sort_values(by='marketcap', ascending=True)"
   ],
   "metadata": {
    "collapsed": false,
    "pycharm": {
     "name": "#%%\n"
    }
   }
  },
  {
   "cell_type": "code",
   "execution_count": 10,
   "outputs": [
    {
     "data": {
      "text/plain": "consumer_services        187\nfinance                  168\ntechnology               116\nhealth_care              103\ncapital_goods             94\nbasic_industries          67\npublic_utilities          66\nconsumer_non-durables     61\nenergy                    51\nconsumer_durables         36\nmiscellaneous             28\ntransportation            23\nName: sector, dtype: int64"
     },
     "execution_count": 10,
     "metadata": {},
     "output_type": "execute_result"
    }
   ],
   "source": [
    "# Limit universe to 1,000 stocks with highest market cap\n",
    "universe = metadata.marketcap.nlargest(1000).index\n",
    "prices = prices.loc[idx[universe, :], :]\n",
    "metadata = metadata.loc[universe]\n",
    "metadata.sector.value_counts()"
   ],
   "metadata": {
    "collapsed": false,
    "pycharm": {
     "name": "#%%\n"
    }
   }
  },
  {
   "cell_type": "code",
   "execution_count": 11,
   "outputs": [
    {
     "name": "stdout",
     "output_type": "stream",
     "text": [
      "<class 'pandas.core.frame.DataFrame'>\n",
      "MultiIndex: 2004775 entries, ('AAPL', Timestamp('2010-01-04 00:00:00')) to ('NTCT', Timestamp('2017-12-29 00:00:00'))\n",
      "Data columns (total 5 columns):\n",
      " #   Column  Non-Null Count    Dtype  \n",
      "---  ------  --------------    -----  \n",
      " 0   open    2004775 non-null  float64\n",
      " 1   close   2004775 non-null  float64\n",
      " 2   low     2004775 non-null  float64\n",
      " 3   high    2004775 non-null  float64\n",
      " 4   volume  2004775 non-null  float64\n",
      "dtypes: float64(5)\n",
      "memory usage: 84.9+ MB\n"
     ]
    }
   ],
   "source": [
    "prices.info(show_counts=True)"
   ],
   "metadata": {
    "collapsed": false,
    "pycharm": {
     "name": "#%%\n"
    }
   }
  },
  {
   "cell_type": "code",
   "execution_count": 12,
   "outputs": [
    {
     "name": "stdout",
     "output_type": "stream",
     "text": [
      "<class 'pandas.core.frame.DataFrame'>\n",
      "Index: 1000 entries, AAPL to NTCT\n",
      "Data columns (total 2 columns):\n",
      " #   Column     Non-Null Count  Dtype  \n",
      "---  ------     --------------  -----  \n",
      " 0   marketcap  1000 non-null   float64\n",
      " 1   sector     1000 non-null   object \n",
      "dtypes: float64(1), object(1)\n",
      "memory usage: 23.4+ KB\n"
     ]
    },
    {
     "data": {
      "text/plain": "           marketcap             sector\nsymbol                                 \nFIBK    2.410000e+09            finance\nMDP     2.410000e+09  consumer_services\nMGLN    2.400000e+09        health_care\nITRI    2.380000e+09      capital_goods\nNTCT    2.380000e+09         technology",
      "text/html": "<div>\n<style scoped>\n    .dataframe tbody tr th:only-of-type {\n        vertical-align: middle;\n    }\n\n    .dataframe tbody tr th {\n        vertical-align: top;\n    }\n\n    .dataframe thead th {\n        text-align: right;\n    }\n</style>\n<table border=\"1\" class=\"dataframe\">\n  <thead>\n    <tr style=\"text-align: right;\">\n      <th></th>\n      <th>marketcap</th>\n      <th>sector</th>\n    </tr>\n    <tr>\n      <th>symbol</th>\n      <th></th>\n      <th></th>\n    </tr>\n  </thead>\n  <tbody>\n    <tr>\n      <th>FIBK</th>\n      <td>2.410000e+09</td>\n      <td>finance</td>\n    </tr>\n    <tr>\n      <th>MDP</th>\n      <td>2.410000e+09</td>\n      <td>consumer_services</td>\n    </tr>\n    <tr>\n      <th>MGLN</th>\n      <td>2.400000e+09</td>\n      <td>health_care</td>\n    </tr>\n    <tr>\n      <th>ITRI</th>\n      <td>2.380000e+09</td>\n      <td>capital_goods</td>\n    </tr>\n    <tr>\n      <th>NTCT</th>\n      <td>2.380000e+09</td>\n      <td>technology</td>\n    </tr>\n  </tbody>\n</table>\n</div>"
     },
     "execution_count": 12,
     "metadata": {},
     "output_type": "execute_result"
    }
   ],
   "source": [
    "metadata.info()\n",
    "metadata.tail()"
   ],
   "metadata": {
    "collapsed": false,
    "pycharm": {
     "name": "#%%\n"
    }
   }
  },
  {
   "cell_type": "code",
   "execution_count": 13,
   "outputs": [
    {
     "data": {
      "text/plain": "symbol             AAPL         AMZN        GOOGL         MSFT          JPM  \\\ndate                                                                          \n2017-12-27  4773.981172  3876.059546  1678.988130  2008.493973  1615.510169   \n2017-12-28  4694.413073  3724.225210  1642.603672  1963.256411  1573.230028   \n2017-12-29  4571.883552  3362.807779  1565.370748  1932.462189  1514.818079   \n2017-08-07  4455.296658  3271.678665  1520.575442  1867.307379  1432.090547   \n2017-04-14  4333.371051  3194.840504  1501.757511  1838.016890  1400.698712   \n\nsymbol             XOM         JNJ            V          BAC          WFC  \\\ndate                                                                        \n2017-12-27  931.822708  820.703792  1074.076538  2366.495901  1332.360674   \n2017-12-28  925.161393  802.404440  1078.590957  2291.780910  1297.209089   \n2017-12-29  921.750678  797.322705  1031.171032  2189.194870  1249.101322   \n2017-08-07  879.867905  757.435437   968.292349  2075.482479  1224.058019   \n2017-04-14  866.474826  753.425480   944.652702  1991.096398  1197.833963   \n\nsymbol      ...        CLF         EE        JACK       NNI       TROX  \\\ndate        ...                                                          \n2017-12-27  ...  75.451622  12.524655  102.390126  5.553589  60.819626   \n2017-12-28  ...  74.621444  12.462259   99.935894  5.568057  57.582267   \n2017-12-29  ...  74.268476  12.015000   95.415511  5.395868  53.048666   \n2017-08-07  ...  74.589541  11.803360   80.844332  5.233405  49.381328   \n2017-04-14  ...  73.913994  11.752013   78.344440  5.277082  49.132825   \n\nsymbol          FIBK        MDP       MGLN       ITRI       NTCT  \ndate                                                              \n2017-12-27  9.807255  37.922555  16.133700  24.832113  35.345407  \n2017-12-28  9.641455  34.245981  15.937043  24.868890  33.739124  \n2017-12-29  9.180718  32.617539  15.295468  24.798635  31.764210  \n2017-08-07  9.148248  31.511530  15.376514  24.494609  30.783422  \n2017-04-14  9.061540  29.783921  13.133072  24.912334  30.846009  \n\n[5 rows x 1000 columns]",
      "text/html": "<div>\n<style scoped>\n    .dataframe tbody tr th:only-of-type {\n        vertical-align: middle;\n    }\n\n    .dataframe tbody tr th {\n        vertical-align: top;\n    }\n\n    .dataframe thead th {\n        text-align: right;\n    }\n</style>\n<table border=\"1\" class=\"dataframe\">\n  <thead>\n    <tr style=\"text-align: right;\">\n      <th>symbol</th>\n      <th>AAPL</th>\n      <th>AMZN</th>\n      <th>GOOGL</th>\n      <th>MSFT</th>\n      <th>JPM</th>\n      <th>XOM</th>\n      <th>JNJ</th>\n      <th>V</th>\n      <th>BAC</th>\n      <th>WFC</th>\n      <th>...</th>\n      <th>CLF</th>\n      <th>EE</th>\n      <th>JACK</th>\n      <th>NNI</th>\n      <th>TROX</th>\n      <th>FIBK</th>\n      <th>MDP</th>\n      <th>MGLN</th>\n      <th>ITRI</th>\n      <th>NTCT</th>\n    </tr>\n    <tr>\n      <th>date</th>\n      <th></th>\n      <th></th>\n      <th></th>\n      <th></th>\n      <th></th>\n      <th></th>\n      <th></th>\n      <th></th>\n      <th></th>\n      <th></th>\n      <th></th>\n      <th></th>\n      <th></th>\n      <th></th>\n      <th></th>\n      <th></th>\n      <th></th>\n      <th></th>\n      <th></th>\n      <th></th>\n      <th></th>\n    </tr>\n  </thead>\n  <tbody>\n    <tr>\n      <th>2017-12-27</th>\n      <td>4773.981172</td>\n      <td>3876.059546</td>\n      <td>1678.988130</td>\n      <td>2008.493973</td>\n      <td>1615.510169</td>\n      <td>931.822708</td>\n      <td>820.703792</td>\n      <td>1074.076538</td>\n      <td>2366.495901</td>\n      <td>1332.360674</td>\n      <td>...</td>\n      <td>75.451622</td>\n      <td>12.524655</td>\n      <td>102.390126</td>\n      <td>5.553589</td>\n      <td>60.819626</td>\n      <td>9.807255</td>\n      <td>37.922555</td>\n      <td>16.133700</td>\n      <td>24.832113</td>\n      <td>35.345407</td>\n    </tr>\n    <tr>\n      <th>2017-12-28</th>\n      <td>4694.413073</td>\n      <td>3724.225210</td>\n      <td>1642.603672</td>\n      <td>1963.256411</td>\n      <td>1573.230028</td>\n      <td>925.161393</td>\n      <td>802.404440</td>\n      <td>1078.590957</td>\n      <td>2291.780910</td>\n      <td>1297.209089</td>\n      <td>...</td>\n      <td>74.621444</td>\n      <td>12.462259</td>\n      <td>99.935894</td>\n      <td>5.568057</td>\n      <td>57.582267</td>\n      <td>9.641455</td>\n      <td>34.245981</td>\n      <td>15.937043</td>\n      <td>24.868890</td>\n      <td>33.739124</td>\n    </tr>\n    <tr>\n      <th>2017-12-29</th>\n      <td>4571.883552</td>\n      <td>3362.807779</td>\n      <td>1565.370748</td>\n      <td>1932.462189</td>\n      <td>1514.818079</td>\n      <td>921.750678</td>\n      <td>797.322705</td>\n      <td>1031.171032</td>\n      <td>2189.194870</td>\n      <td>1249.101322</td>\n      <td>...</td>\n      <td>74.268476</td>\n      <td>12.015000</td>\n      <td>95.415511</td>\n      <td>5.395868</td>\n      <td>53.048666</td>\n      <td>9.180718</td>\n      <td>32.617539</td>\n      <td>15.295468</td>\n      <td>24.798635</td>\n      <td>31.764210</td>\n    </tr>\n    <tr>\n      <th>2017-08-07</th>\n      <td>4455.296658</td>\n      <td>3271.678665</td>\n      <td>1520.575442</td>\n      <td>1867.307379</td>\n      <td>1432.090547</td>\n      <td>879.867905</td>\n      <td>757.435437</td>\n      <td>968.292349</td>\n      <td>2075.482479</td>\n      <td>1224.058019</td>\n      <td>...</td>\n      <td>74.589541</td>\n      <td>11.803360</td>\n      <td>80.844332</td>\n      <td>5.233405</td>\n      <td>49.381328</td>\n      <td>9.148248</td>\n      <td>31.511530</td>\n      <td>15.376514</td>\n      <td>24.494609</td>\n      <td>30.783422</td>\n    </tr>\n    <tr>\n      <th>2017-04-14</th>\n      <td>4333.371051</td>\n      <td>3194.840504</td>\n      <td>1501.757511</td>\n      <td>1838.016890</td>\n      <td>1400.698712</td>\n      <td>866.474826</td>\n      <td>753.425480</td>\n      <td>944.652702</td>\n      <td>1991.096398</td>\n      <td>1197.833963</td>\n      <td>...</td>\n      <td>73.913994</td>\n      <td>11.752013</td>\n      <td>78.344440</td>\n      <td>5.277082</td>\n      <td>49.132825</td>\n      <td>9.061540</td>\n      <td>29.783921</td>\n      <td>13.133072</td>\n      <td>24.912334</td>\n      <td>30.846009</td>\n    </tr>\n  </tbody>\n</table>\n<p>5 rows × 1000 columns</p>\n</div>"
     },
     "execution_count": 13,
     "metadata": {},
     "output_type": "execute_result"
    }
   ],
   "source": [
    "# Rank assets by Rolling Average Dollar Volume\n",
    "prices['dollar_vol'] = prices[['close', 'volume']].prod(1).div(1e3)\n",
    "\n",
    "# 21d MA with 1 trading month\n",
    "dollar_vol_ma = (prices.dollar_vol.unstack('symbol').rolling(window=21, min_periods=1).mean())\n",
    "dollar_vol_ma.tail()"
   ],
   "metadata": {
    "collapsed": false,
    "pycharm": {
     "name": "#%%\n"
    }
   }
  },
  {
   "cell_type": "code",
   "execution_count": 14,
   "outputs": [
    {
     "name": "stdout",
     "output_type": "stream",
     "text": [
      "<class 'pandas.core.frame.DataFrame'>\n",
      "MultiIndex: 2004775 entries, ('AAPL', Timestamp('2010-01-04 00:00:00')) to ('NTCT', Timestamp('2017-12-29 00:00:00'))\n",
      "Data columns (total 7 columns):\n",
      " #   Column           Non-Null Count    Dtype  \n",
      "---  ------           --------------    -----  \n",
      " 0   open             2004775 non-null  float64\n",
      " 1   close            2004775 non-null  float64\n",
      " 2   low              2004775 non-null  float64\n",
      " 3   high             2004775 non-null  float64\n",
      " 4   volume           2004775 non-null  float64\n",
      " 5   dollar_vol       2004775 non-null  float64\n",
      " 6   dollar_vol_rank  2004775 non-null  float64\n",
      "dtypes: float64(7)\n",
      "memory usage: 115.5+ MB\n"
     ]
    }
   ],
   "source": [
    "# Rank stocks by moving average\n",
    "prices['dollar_vol_rank'] = (dollar_vol_ma.rank(axis=1, ascending=False).stack('symbol').swaplevel())\n",
    "\n",
    "prices.info(show_counts=True)"
   ],
   "metadata": {
    "collapsed": false,
    "pycharm": {
     "name": "#%%\n"
    }
   }
  },
  {
   "cell_type": "code",
   "execution_count": 15,
   "outputs": [
    {
     "data": {
      "text/plain": "                    open  close     low    high   volume  dollar_vol  \\\nsymbol date                                                            \nNTCT   2017-12-22  31.40  31.55  31.050  31.725  568.152   17.925196   \n       2017-12-26  31.40  31.05  30.800  31.550  404.679   12.565283   \n       2017-12-27  31.10  31.05  30.800  31.300  278.693    8.653418   \n       2017-12-28  31.05  30.65  30.475  31.050  264.128    8.095523   \n       2017-12-29  30.70  30.45  30.250  30.800  393.595   11.984968   \n\n                   dollar_vol_rank  \nsymbol date                         \nNTCT   2017-12-22            666.0  \n       2017-12-26            668.0  \n       2017-12-27            675.0  \n       2017-12-28            687.0  \n       2017-12-29            701.0  ",
      "text/html": "<div>\n<style scoped>\n    .dataframe tbody tr th:only-of-type {\n        vertical-align: middle;\n    }\n\n    .dataframe tbody tr th {\n        vertical-align: top;\n    }\n\n    .dataframe thead th {\n        text-align: right;\n    }\n</style>\n<table border=\"1\" class=\"dataframe\">\n  <thead>\n    <tr style=\"text-align: right;\">\n      <th></th>\n      <th></th>\n      <th>open</th>\n      <th>close</th>\n      <th>low</th>\n      <th>high</th>\n      <th>volume</th>\n      <th>dollar_vol</th>\n      <th>dollar_vol_rank</th>\n    </tr>\n    <tr>\n      <th>symbol</th>\n      <th>date</th>\n      <th></th>\n      <th></th>\n      <th></th>\n      <th></th>\n      <th></th>\n      <th></th>\n      <th></th>\n    </tr>\n  </thead>\n  <tbody>\n    <tr>\n      <th rowspan=\"5\" valign=\"top\">NTCT</th>\n      <th>2017-12-22</th>\n      <td>31.40</td>\n      <td>31.55</td>\n      <td>31.050</td>\n      <td>31.725</td>\n      <td>568.152</td>\n      <td>17.925196</td>\n      <td>666.0</td>\n    </tr>\n    <tr>\n      <th>2017-12-26</th>\n      <td>31.40</td>\n      <td>31.05</td>\n      <td>30.800</td>\n      <td>31.550</td>\n      <td>404.679</td>\n      <td>12.565283</td>\n      <td>668.0</td>\n    </tr>\n    <tr>\n      <th>2017-12-27</th>\n      <td>31.10</td>\n      <td>31.05</td>\n      <td>30.800</td>\n      <td>31.300</td>\n      <td>278.693</td>\n      <td>8.653418</td>\n      <td>675.0</td>\n    </tr>\n    <tr>\n      <th>2017-12-28</th>\n      <td>31.05</td>\n      <td>30.65</td>\n      <td>30.475</td>\n      <td>31.050</td>\n      <td>264.128</td>\n      <td>8.095523</td>\n      <td>687.0</td>\n    </tr>\n    <tr>\n      <th>2017-12-29</th>\n      <td>30.70</td>\n      <td>30.45</td>\n      <td>30.250</td>\n      <td>30.800</td>\n      <td>393.595</td>\n      <td>11.984968</td>\n      <td>701.0</td>\n    </tr>\n  </tbody>\n</table>\n</div>"
     },
     "execution_count": 15,
     "metadata": {},
     "output_type": "execute_result"
    }
   ],
   "source": [
    "prices.tail()"
   ],
   "metadata": {
    "collapsed": false,
    "pycharm": {
     "name": "#%%\n"
    }
   }
  },
  {
   "cell_type": "code",
   "execution_count": 16,
   "outputs": [
    {
     "data": {
      "text/plain": "<Figure size 432x288 with 1 Axes>",
      "image/png": "[encoded data removed]"
     },
     "metadata": {},
     "output_type": "display_data"
    }
   ],
   "source": [
    "# Compute RSI(Relative Strength Index)\n",
    "prices['rsi'] = prices.groupby(level='symbol').close.apply(RSI)\n",
    "ax = sns.distplot(prices.rsi.dropna())\n",
    "ax.axvline(30, ls='--', lw=1, c='k')\n",
    "ax.axvline(70, ls='--', lw=1, c='k')\n",
    "ax.set_title('RSI Distribution with Signal Threshold')\n",
    "sns.despine()"
   ],
   "metadata": {
    "collapsed": false,
    "pycharm": {
     "name": "#%%\n"
    }
   }
  },
  {
   "cell_type": "code",
   "execution_count": 17,
   "outputs": [
    {
     "data": {
      "text/plain": "<Figure size 1080x360 with 2 Axes>",
      "image/png": "[encoded data removed]"
     },
     "metadata": {},
     "output_type": "display_data"
    }
   ],
   "source": [
    "# Compute Bollinger Bands\n",
    "def compute_bb(close):\n",
    "    high, mid, low = BBANDS(close, timeperiod=20)\n",
    "    return pd.DataFrame({'bb_high': high, 'bb_low': low}, index=close.index)\n",
    "\n",
    "prices = (prices.join(prices.groupby(level='symbol').close.apply(compute_bb)))\n",
    "prices['bb_high'] = prices.bb_high.sub(prices.close).div(prices.bb_high).apply(np.log1p)\n",
    "prices['bb_low'] = prices.close.sub(prices.bb_low).div(prices.close).apply(np.log1p)\n",
    "fig, axes = plt.subplots(ncols=2, figsize=(15, 5))\n",
    "sns.distplot(prices.loc[prices.dollar_vol_rank<100, 'bb_low'].dropna(), ax=axes[0])\n",
    "sns.distplot(prices.loc[prices.dollar_vol_rank<100, 'bb_high'].dropna(), ax=axes[1])\n",
    "sns.despine()"
   ],
   "metadata": {
    "collapsed": false,
    "pycharm": {
     "name": "#%%\n"
    }
   }
  },
  {
   "cell_type": "code",
   "execution_count": 18,
   "outputs": [],
   "source": [
    "# Compute Average True Range\n",
    "prices['NATR'] = prices.groupby(level='symbol', group_keys=False).apply(lambda x:\n",
    "                                                        talib.NATR(x.high, x.low, x.close))\n",
    "def compute_atr(stock_data):\n",
    "    df = ATR(stock_data.high, stock_data.low, stock_data.close, timeperiod=14)\n",
    "    return df.sub(df.mean()).div(df.std())\n",
    "\n",
    "prices['ATR'] = (prices.groupby('symbol', group_keys=False).apply(compute_atr))\n",
    "\n",
    "# Compute MACD(Moving Average Convergence/Divergence)\n",
    "prices['PPO'] = prices.groupby(level='symbol').close.apply(talib.PPO) # Percentage Price Oscillator(Momentum)\n",
    "\n",
    "def compute_macd(close):\n",
    "    macd = MACD(close)[0]\n",
    "    return (macd - np.mean(macd))/np.std(macd)\n",
    "\n",
    "prices['MACD'] = (prices.groupby('symbol', group_keys=False).close.apply(compute_macd))\n",
    "\n",
    "# Combine Price and Meta Data\n",
    "metadata.sector = pd.factorize(metadata.sector)[0].astype(int)\n",
    "prices = prices.join(metadata[['sector']])"
   ],
   "metadata": {
    "collapsed": false,
    "pycharm": {
     "name": "#%%\n"
    }
   }
  },
  {
   "cell_type": "code",
   "execution_count": 19,
   "outputs": [
    {
     "data": {
      "text/plain": "                    open  close     low    high   volume  dollar_vol  \\\nsymbol date                                                            \nNTCT   2017-12-22  31.40  31.55  31.050  31.725  568.152   17.925196   \n       2017-12-26  31.40  31.05  30.800  31.550  404.679   12.565283   \n       2017-12-27  31.10  31.05  30.800  31.300  278.693    8.653418   \n       2017-12-28  31.05  30.65  30.475  31.050  264.128    8.095523   \n       2017-12-29  30.70  30.45  30.250  30.800  393.595   11.984968   \n\n                   dollar_vol_rank        rsi   bb_high    bb_low      NATR  \\\nsymbol date                                                                   \nNTCT   2017-12-22            666.0  61.741125  0.015633  0.078165  2.711828   \n       2017-12-26            668.0  55.773339  0.031844  0.064335  2.731209   \n       2017-12-27            675.0  55.773339  0.030640  0.063999  2.651144   \n       2017-12-28            687.0  51.183203  0.038697  0.051319  2.627906   \n       2017-12-29            701.0  49.011255  0.043142  0.045558  2.585243   \n\n                        ATR       PPO      MACD  sector  \nsymbol date                                              \nNTCT   2017-12-22  0.105730 -0.566611  0.239059       0  \n       2017-12-26  0.073142 -0.198381  0.259566       0  \n       2017-12-27 -0.034279 -0.012578  0.271750       0  \n       2017-12-28 -0.110880  0.270304  0.230382       0  \n       2017-12-29 -0.189725  0.530498  0.170974       0  ",
      "text/html": "<div>\n<style scoped>\n    .dataframe tbody tr th:only-of-type {\n        vertical-align: middle;\n    }\n\n    .dataframe tbody tr th {\n        vertical-align: top;\n    }\n\n    .dataframe thead th {\n        text-align: right;\n    }\n</style>\n<table border=\"1\" class=\"dataframe\">\n  <thead>\n    <tr style=\"text-align: right;\">\n      <th></th>\n      <th></th>\n      <th>open</th>\n      <th>close</th>\n      <th>low</th>\n      <th>high</th>\n      <th>volume</th>\n      <th>dollar_vol</th>\n      <th>dollar_vol_rank</th>\n      <th>rsi</th>\n      <th>bb_high</th>\n      <th>bb_low</th>\n      <th>NATR</th>\n      <th>ATR</th>\n      <th>PPO</th>\n      <th>MACD</th>\n      <th>sector</th>\n    </tr>\n    <tr>\n      <th>symbol</th>\n      <th>date</th>\n      <th></th>\n      <th></th>\n      <th></th>\n      <th></th>\n      <th></th>\n      <th></th>\n      <th></th>\n      <th></th>\n      <th></th>\n      <th></th>\n      <th></th>\n      <th></th>\n      <th></th>\n      <th></th>\n      <th></th>\n    </tr>\n  </thead>\n  <tbody>\n    <tr>\n      <th rowspan=\"5\" valign=\"top\">NTCT</th>\n      <th>2017-12-22</th>\n      <td>31.40</td>\n      <td>31.55</td>\n      <td>31.050</td>\n      <td>31.725</td>\n      <td>568.152</td>\n      <td>17.925196</td>\n      <td>666.0</td>\n      <td>61.741125</td>\n      <td>0.015633</td>\n      <td>0.078165</td>\n      <td>2.711828</td>\n      <td>0.105730</td>\n      <td>-0.566611</td>\n      <td>0.239059</td>\n      <td>0</td>\n    </tr>\n    <tr>\n      <th>2017-12-26</th>\n      <td>31.40</td>\n      <td>31.05</td>\n      <td>30.800</td>\n      <td>31.550</td>\n      <td>404.679</td>\n      <td>12.565283</td>\n      <td>668.0</td>\n      <td>55.773339</td>\n      <td>0.031844</td>\n      <td>0.064335</td>\n      <td>2.731209</td>\n      <td>0.073142</td>\n      <td>-0.198381</td>\n      <td>0.259566</td>\n      <td>0</td>\n    </tr>\n    <tr>\n      <th>2017-12-27</th>\n      <td>31.10</td>\n      <td>31.05</td>\n      <td>30.800</td>\n      <td>31.300</td>\n      <td>278.693</td>\n      <td>8.653418</td>\n      <td>675.0</td>\n      <td>55.773339</td>\n      <td>0.030640</td>\n      <td>0.063999</td>\n      <td>2.651144</td>\n      <td>-0.034279</td>\n      <td>-0.012578</td>\n      <td>0.271750</td>\n      <td>0</td>\n    </tr>\n    <tr>\n      <th>2017-12-28</th>\n      <td>31.05</td>\n      <td>30.65</td>\n      <td>30.475</td>\n      <td>31.050</td>\n      <td>264.128</td>\n      <td>8.095523</td>\n      <td>687.0</td>\n      <td>51.183203</td>\n      <td>0.038697</td>\n      <td>0.051319</td>\n      <td>2.627906</td>\n      <td>-0.110880</td>\n      <td>0.270304</td>\n      <td>0.230382</td>\n      <td>0</td>\n    </tr>\n    <tr>\n      <th>2017-12-29</th>\n      <td>30.70</td>\n      <td>30.45</td>\n      <td>30.250</td>\n      <td>30.800</td>\n      <td>393.595</td>\n      <td>11.984968</td>\n      <td>701.0</td>\n      <td>49.011255</td>\n      <td>0.043142</td>\n      <td>0.045558</td>\n      <td>2.585243</td>\n      <td>-0.189725</td>\n      <td>0.530498</td>\n      <td>0.170974</td>\n      <td>0</td>\n    </tr>\n  </tbody>\n</table>\n</div>"
     },
     "execution_count": 19,
     "metadata": {},
     "output_type": "execute_result"
    }
   ],
   "source": [
    "prices.tail()"
   ],
   "metadata": {
    "collapsed": false,
    "pycharm": {
     "name": "#%%\n"
    }
   }
  },
  {
   "cell_type": "code",
   "execution_count": 42,
   "outputs": [
    {
     "data": {
      "text/plain": "                r01           r05           r10           r21           r42  \\\ncount  2.004774e+06  2.004770e+06  2.004765e+06  2.004754e+06  2.004733e+06   \nmean   6.586866e-04  3.258556e-03  6.394677e-03  1.330321e-02  2.629577e-02   \nstd    1.102832e-01  2.458175e-01  3.437509e-01  4.892082e-01  6.884867e-01   \nmin   -9.981835e-01 -9.982033e-01 -9.981934e-01 -9.982273e-01 -9.982566e-01   \n25%   -8.103131e-03 -1.738473e-02 -2.339956e-02 -3.198326e-02 -3.960659e-02   \n50%    6.502272e-04  3.634941e-03  6.975585e-03  1.439895e-02  2.708018e-02   \n75%    9.506371e-03  2.437091e-02  3.697024e-02  5.895998e-02  9.212237e-02   \nmax    1.155272e+02  1.150669e+02  1.200070e+02  1.209208e+02  1.246000e+02   \n\n                r63  \ncount  2.004712e+06  \nmean   3.904280e-02  \nstd    8.564652e-01  \nmin   -9.982944e-01  \n25%   -4.489451e-02  \n50%    3.868220e-02  \n75%    1.201739e-01  \nmax    1.320833e+02  ",
      "text/html": "<div>\n<style scoped>\n    .dataframe tbody tr th:only-of-type {\n        vertical-align: middle;\n    }\n\n    .dataframe tbody tr th {\n        vertical-align: top;\n    }\n\n    .dataframe thead th {\n        text-align: right;\n    }\n</style>\n<table border=\"1\" class=\"dataframe\">\n  <thead>\n    <tr style=\"text-align: right;\">\n      <th></th>\n      <th>r01</th>\n      <th>r05</th>\n      <th>r10</th>\n      <th>r21</th>\n      <th>r42</th>\n      <th>r63</th>\n    </tr>\n  </thead>\n  <tbody>\n    <tr>\n      <th>count</th>\n      <td>2.004774e+06</td>\n      <td>2.004770e+06</td>\n      <td>2.004765e+06</td>\n      <td>2.004754e+06</td>\n      <td>2.004733e+06</td>\n      <td>2.004712e+06</td>\n    </tr>\n    <tr>\n      <th>mean</th>\n      <td>6.586866e-04</td>\n      <td>3.258556e-03</td>\n      <td>6.394677e-03</td>\n      <td>1.330321e-02</td>\n      <td>2.629577e-02</td>\n      <td>3.904280e-02</td>\n    </tr>\n    <tr>\n      <th>std</th>\n      <td>1.102832e-01</td>\n      <td>2.458175e-01</td>\n      <td>3.437509e-01</td>\n      <td>4.892082e-01</td>\n      <td>6.884867e-01</td>\n      <td>8.564652e-01</td>\n    </tr>\n    <tr>\n      <th>min</th>\n      <td>-9.981835e-01</td>\n      <td>-9.982033e-01</td>\n      <td>-9.981934e-01</td>\n      <td>-9.982273e-01</td>\n      <td>-9.982566e-01</td>\n      <td>-9.982944e-01</td>\n    </tr>\n    <tr>\n      <th>25%</th>\n      <td>-8.103131e-03</td>\n      <td>-1.738473e-02</td>\n      <td>-2.339956e-02</td>\n      <td>-3.198326e-02</td>\n      <td>-3.960659e-02</td>\n      <td>-4.489451e-02</td>\n    </tr>\n    <tr>\n      <th>50%</th>\n      <td>6.502272e-04</td>\n      <td>3.634941e-03</td>\n      <td>6.975585e-03</td>\n      <td>1.439895e-02</td>\n      <td>2.708018e-02</td>\n      <td>3.868220e-02</td>\n    </tr>\n    <tr>\n      <th>75%</th>\n      <td>9.506371e-03</td>\n      <td>2.437091e-02</td>\n      <td>3.697024e-02</td>\n      <td>5.895998e-02</td>\n      <td>9.212237e-02</td>\n      <td>1.201739e-01</td>\n    </tr>\n    <tr>\n      <th>max</th>\n      <td>1.155272e+02</td>\n      <td>1.150669e+02</td>\n      <td>1.200070e+02</td>\n      <td>1.209208e+02</td>\n      <td>1.246000e+02</td>\n      <td>1.320833e+02</td>\n    </tr>\n  </tbody>\n</table>\n</div>"
     },
     "execution_count": 42,
     "metadata": {},
     "output_type": "execute_result"
    }
   ],
   "source": [
    "# Historical Returns\n",
    "by_sym = prices.groupby(level='symbol').close.fillna(float(\"-inf\"))\n",
    "for t in T:\n",
    "    prices[f'r{t:02}'] = by_sym.pct_change(t)\n",
    "\n",
    "# Daily historical return deciles\n",
    "for t in T:\n",
    "    prices[f'r{t:02}dec'] = (prices[f'r{t:02}'].groupby(level='date').apply(lambda x: pd.qcut(x,q=10,\n",
    "                                                      labels=False, duplicates='drop')))\n",
    "\n",
    "# Daily sector return deciles\n",
    "for t in T:\n",
    "    prices[f'r{t:02}q_sector'] = (prices.groupby(['date', 'sector'])[f'r{t:02}']\n",
    "                                  .transform(lambda x: pd.qcut(x, q=5, labels=False, duplicates='drop')))\n",
    "\n",
    "# Compute Forward Returns\n",
    "for t in [1, 5, 21]:\n",
    "    prices[f'r{t:02}_fwd'] = prices.groupby(level='symbol')[f'r{t:02}'].shift(-t)\n",
    "\n",
    "prices[[f'r{t:02}' for t in T]].describe()"
   ],
   "metadata": {
    "collapsed": false,
    "pycharm": {
     "name": "#%%\n"
    }
   }
  },
  {
   "cell_type": "code",
   "execution_count": 49,
   "outputs": [
    {
     "data": {
      "text/plain": "                    open  close     low    high    volume  dollar_vol  \\\nsymbol date                                                             \nNTCT   2017-12-15  30.00  30.05  29.650  30.250  2330.772   70.039699   \n       2017-12-18  30.30  31.05  30.055  31.100  2578.571   80.064630   \n       2017-12-19  31.05  30.90  30.550  31.250   704.168   21.758791   \n       2017-12-20  31.15  30.85  30.750  31.400   536.858   16.562069   \n       2017-12-21  30.90  31.30  30.150  31.450   776.135   24.293025   \n       2017-12-22  31.40  31.55  31.050  31.725   568.152   17.925196   \n       2017-12-26  31.40  31.05  30.800  31.550   404.679   12.565283   \n       2017-12-27  31.10  31.05  30.800  31.300   278.693    8.653418   \n       2017-12-28  31.05  30.65  30.475  31.050   264.128    8.095523   \n       2017-12-29  30.70  30.45  30.250  30.800   393.595   11.984968   \n\n                   dollar_vol_rank        rsi   bb_high    bb_low  ...  \\\nsymbol date                                                        ...   \nNTCT   2017-12-15            679.0  49.039685  0.052398  0.035500  ...   \n       2017-12-18            653.0  58.057780  0.024222  0.063795  ...   \n       2017-12-19            652.0  56.444245  0.030116  0.059049  ...   \n       2017-12-20            655.0  55.886688  0.031118  0.057532  ...   \n       2017-12-21            658.0  59.741108  0.020012  0.070484  ...   \n       2017-12-22            666.0  61.741125  0.015633  0.078165  ...   \n       2017-12-26            668.0  55.773339  0.031844  0.064335  ...   \n       2017-12-27            675.0  55.773339  0.030640  0.063999  ...   \n       2017-12-28            687.0  51.183203  0.038697  0.051319  ...   \n       2017-12-29            701.0  49.011255  0.043142  0.045558  ...   \n\n                   r63dec  r01q_sector  r05q_sector  r10q_sector  r21q_sector  \\\nsymbol date                                                                     \nNTCT   2017-12-15     0.0          0.0          2.0          0.0          2.0   \n       2017-12-18     0.0          4.0          4.0          1.0          3.0   \n       2017-12-19     0.0          2.0          4.0          2.0          3.0   \n       2017-12-20     1.0          2.0          4.0          4.0          2.0   \n       2017-12-21     1.0          4.0          4.0          4.0          2.0   \n       2017-12-22     1.0          4.0          4.0          4.0          3.0   \n       2017-12-26     1.0          0.0          4.0          4.0          3.0   \n       2017-12-27     1.0          1.0          3.0          4.0          3.0   \n       2017-12-28     0.0          0.0          2.0          4.0          2.0   \n       2017-12-29     0.0          2.0          0.0          3.0          0.0   \n\n                   r42q_sector  r63q_sector   r01_fwd   r05_fwd  r21_fwd  \nsymbol date                                                               \nNTCT   2017-12-15          0.0          0.0  0.033278  0.049917      NaN  \n       2017-12-18          1.0          0.0 -0.004831  0.000000      NaN  \n       2017-12-19          1.0          0.0 -0.001618  0.004854      NaN  \n       2017-12-20          1.0          0.0  0.014587 -0.006483      NaN  \n       2017-12-21          2.0          0.0  0.007987 -0.027157      NaN  \n       2017-12-22          2.0          0.0 -0.015848       NaN      NaN  \n       2017-12-26          2.0          0.0  0.000000       NaN      NaN  \n       2017-12-27          2.0          0.0 -0.012882       NaN      NaN  \n       2017-12-28          3.0          0.0 -0.006525       NaN      NaN  \n       2017-12-29          4.0          0.0       NaN       NaN      NaN  \n\n[10 rows x 36 columns]",
      "text/html": "<div>\n<style scoped>\n    .dataframe tbody tr th:only-of-type {\n        vertical-align: middle;\n    }\n\n    .dataframe tbody tr th {\n        vertical-align: top;\n    }\n\n    .dataframe thead th {\n        text-align: right;\n    }\n</style>\n<table border=\"1\" class=\"dataframe\">\n  <thead>\n    <tr style=\"text-align: right;\">\n      <th></th>\n      <th></th>\n      <th>open</th>\n      <th>close</th>\n      <th>low</th>\n      <th>high</th>\n      <th>volume</th>\n      <th>dollar_vol</th>\n      <th>dollar_vol_rank</th>\n      <th>rsi</th>\n      <th>bb_high</th>\n      <th>bb_low</th>\n      <th>...</th>\n      <th>r63dec</th>\n      <th>r01q_sector</th>\n      <th>r05q_sector</th>\n      <th>r10q_sector</th>\n      <th>r21q_sector</th>\n      <th>r42q_sector</th>\n      <th>r63q_sector</th>\n      <th>r01_fwd</th>\n      <th>r05_fwd</th>\n      <th>r21_fwd</th>\n    </tr>\n    <tr>\n      <th>symbol</th>\n      <th>date</th>\n      <th></th>\n      <th></th>\n      <th></th>\n      <th></th>\n      <th></th>\n      <th></th>\n      <th></th>\n      <th></th>\n      <th></th>\n      <th></th>\n      <th></th>\n      <th></th>\n      <th></th>\n      <th></th>\n      <th></th>\n      <th></th>\n      <th></th>\n      <th></th>\n      <th></th>\n      <th></th>\n      <th></th>\n    </tr>\n  </thead>\n  <tbody>\n    <tr>\n      <th rowspan=\"10\" valign=\"top\">NTCT</th>\n      <th>2017-12-15</th>\n      <td>30.00</td>\n      <td>30.05</td>\n      <td>29.650</td>\n      <td>30.250</td>\n      <td>2330.772</td>\n      <td>70.039699</td>\n      <td>679.0</td>\n      <td>49.039685</td>\n      <td>0.052398</td>\n      <td>0.035500</td>\n      <td>...</td>\n      <td>0.0</td>\n      <td>0.0</td>\n      <td>2.0</td>\n      <td>0.0</td>\n      <td>2.0</td>\n      <td>0.0</td>\n      <td>0.0</td>\n      <td>0.033278</td>\n      <td>0.049917</td>\n      <td>NaN</td>\n    </tr>\n    <tr>\n      <th>2017-12-18</th>\n      <td>30.30</td>\n      <td>31.05</td>\n      <td>30.055</td>\n      <td>31.100</td>\n      <td>2578.571</td>\n      <td>80.064630</td>\n      <td>653.0</td>\n      <td>58.057780</td>\n      <td>0.024222</td>\n      <td>0.063795</td>\n      <td>...</td>\n      <td>0.0</td>\n      <td>4.0</td>\n      <td>4.0</td>\n      <td>1.0</td>\n      <td>3.0</td>\n      <td>1.0</td>\n      <td>0.0</td>\n      <td>-0.004831</td>\n      <td>0.000000</td>\n      <td>NaN</td>\n    </tr>\n    <tr>\n      <th>2017-12-19</th>\n      <td>31.05</td>\n      <td>30.90</td>\n      <td>30.550</td>\n      <td>31.250</td>\n      <td>704.168</td>\n      <td>21.758791</td>\n      <td>652.0</td>\n      <td>56.444245</td>\n      <td>0.030116</td>\n      <td>0.059049</td>\n      <td>...</td>\n      <td>0.0</td>\n      <td>2.0</td>\n      <td>4.0</td>\n      <td>2.0</td>\n      <td>3.0</td>\n      <td>1.0</td>\n      <td>0.0</td>\n      <td>-0.001618</td>\n      <td>0.004854</td>\n      <td>NaN</td>\n    </tr>\n    <tr>\n      <th>2017-12-20</th>\n      <td>31.15</td>\n      <td>30.85</td>\n      <td>30.750</td>\n      <td>31.400</td>\n      <td>536.858</td>\n      <td>16.562069</td>\n      <td>655.0</td>\n      <td>55.886688</td>\n      <td>0.031118</td>\n      <td>0.057532</td>\n      <td>...</td>\n      <td>1.0</td>\n      <td>2.0</td>\n      <td>4.0</td>\n      <td>4.0</td>\n      <td>2.0</td>\n      <td>1.0</td>\n      <td>0.0</td>\n      <td>0.014587</td>\n      <td>-0.006483</td>\n      <td>NaN</td>\n    </tr>\n    <tr>\n      <th>2017-12-21</th>\n      <td>30.90</td>\n      <td>31.30</td>\n      <td>30.150</td>\n      <td>31.450</td>\n      <td>776.135</td>\n      <td>24.293025</td>\n      <td>658.0</td>\n      <td>59.741108</td>\n      <td>0.020012</td>\n      <td>0.070484</td>\n      <td>...</td>\n      <td>1.0</td>\n      <td>4.0</td>\n      <td>4.0</td>\n      <td>4.0</td>\n      <td>2.0</td>\n      <td>2.0</td>\n      <td>0.0</td>\n      <td>0.007987</td>\n      <td>-0.027157</td>\n      <td>NaN</td>\n    </tr>\n    <tr>\n      <th>2017-12-22</th>\n      <td>31.40</td>\n      <td>31.55</td>\n      <td>31.050</td>\n      <td>31.725</td>\n      <td>568.152</td>\n      <td>17.925196</td>\n      <td>666.0</td>\n      <td>61.741125</td>\n      <td>0.015633</td>\n      <td>0.078165</td>\n      <td>...</td>\n      <td>1.0</td>\n      <td>4.0</td>\n      <td>4.0</td>\n      <td>4.0</td>\n      <td>3.0</td>\n      <td>2.0</td>\n      <td>0.0</td>\n      <td>-0.015848</td>\n      <td>NaN</td>\n      <td>NaN</td>\n    </tr>\n    <tr>\n      <th>2017-12-26</th>\n      <td>31.40</td>\n      <td>31.05</td>\n      <td>30.800</td>\n      <td>31.550</td>\n      <td>404.679</td>\n      <td>12.565283</td>\n      <td>668.0</td>\n      <td>55.773339</td>\n      <td>0.031844</td>\n      <td>0.064335</td>\n      <td>...</td>\n      <td>1.0</td>\n      <td>0.0</td>\n      <td>4.0</td>\n      <td>4.0</td>\n      <td>3.0</td>\n      <td>2.0</td>\n      <td>0.0</td>\n      <td>0.000000</td>\n      <td>NaN</td>\n      <td>NaN</td>\n    </tr>\n    <tr>\n      <th>2017-12-27</th>\n      <td>31.10</td>\n      <td>31.05</td>\n      <td>30.800</td>\n      <td>31.300</td>\n      <td>278.693</td>\n      <td>8.653418</td>\n      <td>675.0</td>\n      <td>55.773339</td>\n      <td>0.030640</td>\n      <td>0.063999</td>\n      <td>...</td>\n      <td>1.0</td>\n      <td>1.0</td>\n      <td>3.0</td>\n      <td>4.0</td>\n      <td>3.0</td>\n      <td>2.0</td>\n      <td>0.0</td>\n      <td>-0.012882</td>\n      <td>NaN</td>\n      <td>NaN</td>\n    </tr>\n    <tr>\n      <th>2017-12-28</th>\n      <td>31.05</td>\n      <td>30.65</td>\n      <td>30.475</td>\n      <td>31.050</td>\n      <td>264.128</td>\n      <td>8.095523</td>\n      <td>687.0</td>\n      <td>51.183203</td>\n      <td>0.038697</td>\n      <td>0.051319</td>\n      <td>...</td>\n      <td>0.0</td>\n      <td>0.0</td>\n      <td>2.0</td>\n      <td>4.0</td>\n      <td>2.0</td>\n      <td>3.0</td>\n      <td>0.0</td>\n      <td>-0.006525</td>\n      <td>NaN</td>\n      <td>NaN</td>\n    </tr>\n    <tr>\n      <th>2017-12-29</th>\n      <td>30.70</td>\n      <td>30.45</td>\n      <td>30.250</td>\n      <td>30.800</td>\n      <td>393.595</td>\n      <td>11.984968</td>\n      <td>701.0</td>\n      <td>49.011255</td>\n      <td>0.043142</td>\n      <td>0.045558</td>\n      <td>...</td>\n      <td>0.0</td>\n      <td>2.0</td>\n      <td>0.0</td>\n      <td>3.0</td>\n      <td>0.0</td>\n      <td>4.0</td>\n      <td>0.0</td>\n      <td>NaN</td>\n      <td>NaN</td>\n      <td>NaN</td>\n    </tr>\n  </tbody>\n</table>\n<p>10 rows × 36 columns</p>\n</div>"
     },
     "execution_count": 49,
     "metadata": {},
     "output_type": "execute_result"
    }
   ],
   "source": [
    "prices.tail(10)"
   ],
   "metadata": {
    "collapsed": false,
    "pycharm": {
     "name": "#%%\n"
    }
   }
  },
  {
   "cell_type": "code",
   "execution_count": 50,
   "outputs": [
    {
     "name": "stdout",
     "output_type": "stream",
     "text": [
      "<class 'pandas.core.frame.DataFrame'>\n",
      "MultiIndex: 1926804 entries, ('AAPL', Timestamp('2010-01-04 00:00:00')) to ('NTCT', Timestamp('2017-12-29 00:00:00'))\n",
      "Data columns (total 39 columns):\n",
      " #   Column           Non-Null Count    Dtype  \n",
      "---  ------           --------------    -----  \n",
      " 0   open             1926804 non-null  float64\n",
      " 1   close            1926804 non-null  float64\n",
      " 2   low              1926804 non-null  float64\n",
      " 3   high             1926804 non-null  float64\n",
      " 4   volume           1926804 non-null  float64\n",
      " 5   dollar_vol       1926804 non-null  float64\n",
      " 6   dollar_vol_rank  1926804 non-null  float64\n",
      " 7   rsi              1913350 non-null  float64\n",
      " 8   bb_high          1908545 non-null  float64\n",
      " 9   bb_low           1908543 non-null  float64\n",
      " 10  NATR             1913350 non-null  float64\n",
      " 11  ATR              1913350 non-null  float64\n",
      " 12  PPO              1902779 non-null  float64\n",
      " 13  MACD             1895091 non-null  float64\n",
      " 14  sector           1926804 non-null  int32  \n",
      " 15  r01              1926803 non-null  float64\n",
      " 16  r05              1926799 non-null  float64\n",
      " 17  r10              1926794 non-null  float64\n",
      " 18  r21              1926783 non-null  float64\n",
      " 19  r42              1926762 non-null  float64\n",
      " 20  r63              1926741 non-null  float64\n",
      " 21  r01dec           1926800 non-null  float64\n",
      " 22  r05dec           1926799 non-null  float64\n",
      " 23  r10dec           1926794 non-null  float64\n",
      " 24  r21dec           1926783 non-null  float64\n",
      " 25  r42dec           1926762 non-null  float64\n",
      " 26  r63dec           1926741 non-null  float64\n",
      " 27  r01q_sector      1926800 non-null  float64\n",
      " 28  r05q_sector      1926799 non-null  float64\n",
      " 29  r10q_sector      1926794 non-null  float64\n",
      " 30  r21q_sector      1926783 non-null  float64\n",
      " 31  r42q_sector      1926762 non-null  float64\n",
      " 32  r63q_sector      1926741 non-null  float64\n",
      " 33  r01_fwd          1925843 non-null  float64\n",
      " 34  r05_fwd          1921999 non-null  float64\n",
      " 35  r21_fwd          1906623 non-null  float64\n",
      " 36  year             1926804 non-null  int64  \n",
      " 37  month            1926804 non-null  int64  \n",
      " 38  weekday          1926804 non-null  int64  \n",
      "dtypes: float64(35), int32(1), int64(3)\n",
      "memory usage: 574.1+ MB\n"
     ]
    }
   ],
   "source": [
    "# Remove outliers\n",
    "outliers = prices[prices.r01 > 1].index.get_level_values('symbol').unique()\n",
    "prices = prices.drop(outliers, level='symbol')\n",
    "\n",
    "# Create time and sector dummy variables\n",
    "prices['year'] = prices.index.get_level_values('date').year\n",
    "prices['month'] = prices.index.get_level_values('date').month\n",
    "prices['weekday'] = prices.index.get_level_values('date').weekday\n",
    "prices.info(show_counts=True)"
   ],
   "metadata": {
    "collapsed": false,
    "pycharm": {
     "name": "#%%\n"
    }
   }
  },
  {
   "cell_type": "code",
   "execution_count": 51,
   "outputs": [],
   "source": [
    "prices.drop(['open', 'close', 'low', 'high', 'volume'], axis=1).to_hdf('data/data.h5', 'model_data')"
   ],
   "metadata": {
    "collapsed": false,
    "pycharm": {
     "name": "#%%\n"
    }
   }
  },
  {
   "cell_type": "code",
   "execution_count": 53,
   "outputs": [
    {
     "data": {
      "text/plain": "                        open      close        low       high      volume  \\\nsymbol date                                                                 \nAAPL   2010-01-04  27.428730  27.503268  27.293790  27.566240  123432.400   \n       2010-01-05  27.579091  27.550818  27.405597  27.706320  150476.200   \n       2010-01-06  27.550818  27.112585  27.084312  27.660055  138040.000   \n       2010-01-07  27.212826  27.062465  26.865839  27.244955  119282.800   \n       2010-01-08  27.026481  27.242385  26.867124  27.244955  111902.700   \nNTCT   2017-12-22  31.400000  31.550000  31.050000  31.725000     568.152   \n       2017-12-26  31.400000  31.050000  30.800000  31.550000     404.679   \n       2017-12-27  31.100000  31.050000  30.800000  31.300000     278.693   \n       2017-12-28  31.050000  30.650000  30.475000  31.050000     264.128   \n       2017-12-29  30.700000  30.450000  30.250000  30.800000     393.595   \n\n                    dollar_vol  dollar_vol_rank        rsi   bb_high  \\\nsymbol date                                                            \nAAPL   2010-01-04  3394.794352              1.0        NaN       NaN   \n       2010-01-05  4145.742393              1.0        NaN       NaN   \n       2010-01-06  3742.621292              1.0        NaN       NaN   \n       2010-01-07  3228.086599              1.0        NaN       NaN   \n       2010-01-08  3048.496380              2.0        NaN       NaN   \nNTCT   2017-12-22    17.925196            666.0  61.741125  0.015633   \n       2017-12-26    12.565283            668.0  55.773339  0.031844   \n       2017-12-27     8.653418            675.0  55.773339  0.030640   \n       2017-12-28     8.095523            687.0  51.183203  0.038697   \n       2017-12-29    11.984968            701.0  49.011255  0.043142   \n\n                     bb_low  ...  r10q_sector  r21q_sector  r42q_sector  \\\nsymbol date                  ...                                          \nAAPL   2010-01-04       NaN  ...          NaN          NaN          NaN   \n       2010-01-05       NaN  ...          NaN          NaN          NaN   \n       2010-01-06       NaN  ...          NaN          NaN          NaN   \n       2010-01-07       NaN  ...          NaN          NaN          NaN   \n       2010-01-08       NaN  ...          NaN          NaN          NaN   \nNTCT   2017-12-22  0.078165  ...          4.0          3.0          2.0   \n       2017-12-26  0.064335  ...          4.0          3.0          2.0   \n       2017-12-27  0.063999  ...          4.0          3.0          2.0   \n       2017-12-28  0.051319  ...          4.0          2.0          3.0   \n       2017-12-29  0.045558  ...          3.0          0.0          4.0   \n\n                   r63q_sector   r01_fwd   r05_fwd   r21_fwd  year  month  \\\nsymbol date                                                                 \nAAPL   2010-01-04          NaN  0.001729 -0.018223 -0.069062  2010      1   \n       2010-01-05          NaN -0.015906 -0.031066 -0.104161  2010      1   \n       2010-01-06          NaN -0.001849 -0.001517 -0.073518  2010      1   \n       2010-01-07          NaN  0.006648 -0.005461 -0.078165  2010      1   \n       2010-01-08          NaN -0.008822 -0.028540 -0.074488  2010      1   \nNTCT   2017-12-22          0.0 -0.015848       NaN       NaN  2017     12   \n       2017-12-26          0.0  0.000000       NaN       NaN  2017     12   \n       2017-12-27          0.0 -0.012882       NaN       NaN  2017     12   \n       2017-12-28          0.0 -0.006525       NaN       NaN  2017     12   \n       2017-12-29          0.0       NaN       NaN       NaN  2017     12   \n\n                   weekday  \nsymbol date                 \nAAPL   2010-01-04        0  \n       2010-01-05        1  \n       2010-01-06        2  \n       2010-01-07        3  \n       2010-01-08        4  \nNTCT   2017-12-22        4  \n       2017-12-26        1  \n       2017-12-27        2  \n       2017-12-28        3  \n       2017-12-29        4  \n\n[10 rows x 39 columns]",
      "text/html": "<div>\n<style scoped>\n    .dataframe tbody tr th:only-of-type {\n        vertical-align: middle;\n    }\n\n    .dataframe tbody tr th {\n        vertical-align: top;\n    }\n\n    .dataframe thead th {\n        text-align: right;\n    }\n</style>\n<table border=\"1\" class=\"dataframe\">\n  <thead>\n    <tr style=\"text-align: right;\">\n      <th></th>\n      <th></th>\n      <th>open</th>\n      <th>close</th>\n      <th>low</th>\n      <th>high</th>\n      <th>volume</th>\n      <th>dollar_vol</th>\n      <th>dollar_vol_rank</th>\n      <th>rsi</th>\n      <th>bb_high</th>\n      <th>bb_low</th>\n      <th>...</th>\n      <th>r10q_sector</th>\n      <th>r21q_sector</th>\n      <th>r42q_sector</th>\n      <th>r63q_sector</th>\n      <th>r01_fwd</th>\n      <th>r05_fwd</th>\n      <th>r21_fwd</th>\n      <th>year</th>\n      <th>month</th>\n      <th>weekday</th>\n    </tr>\n    <tr>\n      <th>symbol</th>\n      <th>date</th>\n      <th></th>\n      <th></th>\n      <th></th>\n      <th></th>\n      <th></th>\n      <th></th>\n      <th></th>\n      <th></th>\n      <th></th>\n      <th></th>\n      <th></th>\n      <th></th>\n      <th></th>\n      <th></th>\n      <th></th>\n      <th></th>\n      <th></th>\n      <th></th>\n      <th></th>\n      <th></th>\n      <th></th>\n    </tr>\n  </thead>\n  <tbody>\n    <tr>\n      <th rowspan=\"5\" valign=\"top\">AAPL</th>\n      <th>2010-01-04</th>\n      <td>27.428730</td>\n      <td>27.503268</td>\n      <td>27.293790</td>\n      <td>27.566240</td>\n      <td>123432.400</td>\n      <td>3394.794352</td>\n      <td>1.0</td>\n      <td>NaN</td>\n      <td>NaN</td>\n      <td>NaN</td>\n      <td>...</td>\n      <td>NaN</td>\n      <td>NaN</td>\n      <td>NaN</td>\n      <td>NaN</td>\n      <td>0.001729</td>\n      <td>-0.018223</td>\n      <td>-0.069062</td>\n      <td>2010</td>\n      <td>1</td>\n      <td>0</td>\n    </tr>\n    <tr>\n      <th>2010-01-05</th>\n      <td>27.579091</td>\n      <td>27.550818</td>\n      <td>27.405597</td>\n      <td>27.706320</td>\n      <td>150476.200</td>\n      <td>4145.742393</td>\n      <td>1.0</td>\n      <td>NaN</td>\n      <td>NaN</td>\n      <td>NaN</td>\n      <td>...</td>\n      <td>NaN</td>\n      <td>NaN</td>\n      <td>NaN</td>\n      <td>NaN</td>\n      <td>-0.015906</td>\n      <td>-0.031066</td>\n      <td>-0.104161</td>\n      <td>2010</td>\n      <td>1</td>\n      <td>1</td>\n    </tr>\n    <tr>\n      <th>2010-01-06</th>\n      <td>27.550818</td>\n      <td>27.112585</td>\n      <td>27.084312</td>\n      <td>27.660055</td>\n      <td>138040.000</td>\n      <td>3742.621292</td>\n      <td>1.0</td>\n      <td>NaN</td>\n      <td>NaN</td>\n      <td>NaN</td>\n      <td>...</td>\n      <td>NaN</td>\n      <td>NaN</td>\n      <td>NaN</td>\n      <td>NaN</td>\n      <td>-0.001849</td>\n      <td>-0.001517</td>\n      <td>-0.073518</td>\n      <td>2010</td>\n      <td>1</td>\n      <td>2</td>\n    </tr>\n    <tr>\n      <th>2010-01-07</th>\n      <td>27.212826</td>\n      <td>27.062465</td>\n      <td>26.865839</td>\n      <td>27.244955</td>\n      <td>119282.800</td>\n      <td>3228.086599</td>\n      <td>1.0</td>\n      <td>NaN</td>\n      <td>NaN</td>\n      <td>NaN</td>\n      <td>...</td>\n      <td>NaN</td>\n      <td>NaN</td>\n      <td>NaN</td>\n      <td>NaN</td>\n      <td>0.006648</td>\n      <td>-0.005461</td>\n      <td>-0.078165</td>\n      <td>2010</td>\n      <td>1</td>\n      <td>3</td>\n    </tr>\n    <tr>\n      <th>2010-01-08</th>\n      <td>27.026481</td>\n      <td>27.242385</td>\n      <td>26.867124</td>\n      <td>27.244955</td>\n      <td>111902.700</td>\n      <td>3048.496380</td>\n      <td>2.0</td>\n      <td>NaN</td>\n      <td>NaN</td>\n      <td>NaN</td>\n      <td>...</td>\n      <td>NaN</td>\n      <td>NaN</td>\n      <td>NaN</td>\n      <td>NaN</td>\n      <td>-0.008822</td>\n      <td>-0.028540</td>\n      <td>-0.074488</td>\n      <td>2010</td>\n      <td>1</td>\n      <td>4</td>\n    </tr>\n    <tr>\n      <th rowspan=\"5\" valign=\"top\">NTCT</th>\n      <th>2017-12-22</th>\n      <td>31.400000</td>\n      <td>31.550000</td>\n      <td>31.050000</td>\n      <td>31.725000</td>\n      <td>568.152</td>\n      <td>17.925196</td>\n      <td>666.0</td>\n      <td>61.741125</td>\n      <td>0.015633</td>\n      <td>0.078165</td>\n      <td>...</td>\n      <td>4.0</td>\n      <td>3.0</td>\n      <td>2.0</td>\n      <td>0.0</td>\n      <td>-0.015848</td>\n      <td>NaN</td>\n      <td>NaN</td>\n      <td>2017</td>\n      <td>12</td>\n      <td>4</td>\n    </tr>\n    <tr>\n      <th>2017-12-26</th>\n      <td>31.400000</td>\n      <td>31.050000</td>\n      <td>30.800000</td>\n      <td>31.550000</td>\n      <td>404.679</td>\n      <td>12.565283</td>\n      <td>668.0</td>\n      <td>55.773339</td>\n      <td>0.031844</td>\n      <td>0.064335</td>\n      <td>...</td>\n      <td>4.0</td>\n      <td>3.0</td>\n      <td>2.0</td>\n      <td>0.0</td>\n      <td>0.000000</td>\n      <td>NaN</td>\n      <td>NaN</td>\n      <td>2017</td>\n      <td>12</td>\n      <td>1</td>\n    </tr>\n    <tr>\n      <th>2017-12-27</th>\n      <td>31.100000</td>\n      <td>31.050000</td>\n      <td>30.800000</td>\n      <td>31.300000</td>\n      <td>278.693</td>\n      <td>8.653418</td>\n      <td>675.0</td>\n      <td>55.773339</td>\n      <td>0.030640</td>\n      <td>0.063999</td>\n      <td>...</td>\n      <td>4.0</td>\n      <td>3.0</td>\n      <td>2.0</td>\n      <td>0.0</td>\n      <td>-0.012882</td>\n      <td>NaN</td>\n      <td>NaN</td>\n      <td>2017</td>\n      <td>12</td>\n      <td>2</td>\n    </tr>\n    <tr>\n      <th>2017-12-28</th>\n      <td>31.050000</td>\n      <td>30.650000</td>\n      <td>30.475000</td>\n      <td>31.050000</td>\n      <td>264.128</td>\n      <td>8.095523</td>\n      <td>687.0</td>\n      <td>51.183203</td>\n      <td>0.038697</td>\n      <td>0.051319</td>\n      <td>...</td>\n      <td>4.0</td>\n      <td>2.0</td>\n      <td>3.0</td>\n      <td>0.0</td>\n      <td>-0.006525</td>\n      <td>NaN</td>\n      <td>NaN</td>\n      <td>2017</td>\n      <td>12</td>\n      <td>3</td>\n    </tr>\n    <tr>\n      <th>2017-12-29</th>\n      <td>30.700000</td>\n      <td>30.450000</td>\n      <td>30.250000</td>\n      <td>30.800000</td>\n      <td>393.595</td>\n      <td>11.984968</td>\n      <td>701.0</td>\n      <td>49.011255</td>\n      <td>0.043142</td>\n      <td>0.045558</td>\n      <td>...</td>\n      <td>3.0</td>\n      <td>0.0</td>\n      <td>4.0</td>\n      <td>0.0</td>\n      <td>NaN</td>\n      <td>NaN</td>\n      <td>NaN</td>\n      <td>2017</td>\n      <td>12</td>\n      <td>4</td>\n    </tr>\n  </tbody>\n</table>\n<p>10 rows × 39 columns</p>\n</div>"
     },
     "execution_count": 53,
     "metadata": {},
     "output_type": "execute_result"
    }
   ],
   "source": [
    "pd.concat([prices.head(), prices.tail()])"
   ],
   "metadata": {
    "collapsed": false,
    "pycharm": {
     "name": "#%%\n"
    }
   }
  }
 ],
 "metadata": {
  "kernelspec": {
   "display_name": "Python 3",
   "language": "python",
   "name": "python3"
  },
  "language_info": {
   "codemirror_mode": {
    "name": "ipython",
    "version": 2
   },
   "file_extension": ".py",
   "mimetype": "text/x-python",
   "name": "python",
   "nbconvert_exporter": "python",
   "pygments_lexer": "ipython2",
   "version": "2.7.6"
  }
 },
 "nbformat": 4,
 "nbformat_minor": 0
}