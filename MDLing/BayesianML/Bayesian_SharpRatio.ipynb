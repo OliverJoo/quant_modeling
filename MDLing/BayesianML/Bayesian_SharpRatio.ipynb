{
 "cells": [
  {
   "cell_type": "code",
   "execution_count": 1,
   "outputs": [
    {
     "name": "stderr",
     "output_type": "stream",
     "text": [
      "WARNING (theano.tensor.blas): Using NumPy C-API based implementation for BLAS functions.\n"
     ]
    },
    {
     "ename": "OSError",
     "evalue": "``data`` does not exist",
     "output_type": "error",
     "traceback": [
      "\u001B[1;31m---------------------------------------------------------------------------\u001B[0m",
      "\u001B[1;31mOSError\u001B[0m                                   Traceback (most recent call last)",
      "Input \u001B[1;32mIn [1]\u001B[0m, in \u001B[0;36m<cell line: 17>\u001B[1;34m()\u001B[0m\n\u001B[0;32m     14\u001B[0m benchmark \u001B[38;5;241m=\u001B[39m web\u001B[38;5;241m.\u001B[39mDataReader(\u001B[38;5;124m'\u001B[39m\u001B[38;5;124mSP500\u001B[39m\u001B[38;5;124m'\u001B[39m, data_source\u001B[38;5;241m=\u001B[39m\u001B[38;5;124m'\u001B[39m\u001B[38;5;124mfred\u001B[39m\u001B[38;5;124m'\u001B[39m, start\u001B[38;5;241m=\u001B[39m\u001B[38;5;241m2010\u001B[39m)\n\u001B[0;32m     15\u001B[0m benchmark\u001B[38;5;241m.\u001B[39mcolumns \u001B[38;5;241m=\u001B[39m [\u001B[38;5;124m'\u001B[39m\u001B[38;5;124mbenchmark\u001B[39m\u001B[38;5;124m'\u001B[39m]\n\u001B[1;32m---> 17\u001B[0m \u001B[38;5;28;01mwith\u001B[39;00m \u001B[43mpd\u001B[49m\u001B[38;5;241;43m.\u001B[39;49m\u001B[43mHDFStore\u001B[49m\u001B[43m(\u001B[49m\u001B[38;5;124;43m'\u001B[39;49m\u001B[38;5;124;43mdata/assets.h5\u001B[39;49m\u001B[38;5;124;43m'\u001B[39;49m\u001B[43m)\u001B[49m \u001B[38;5;28;01mas\u001B[39;00m store:\n\u001B[0;32m     18\u001B[0m     stock \u001B[38;5;241m=\u001B[39m store[\u001B[38;5;124m'\u001B[39m\u001B[38;5;124mquandl/wiki/prices\u001B[39m\u001B[38;5;124m'\u001B[39m]\u001B[38;5;241m.\u001B[39madj_close\u001B[38;5;241m.\u001B[39munstack()[\u001B[38;5;124m'\u001B[39m\u001B[38;5;124mAMZN\u001B[39m\u001B[38;5;124m'\u001B[39m]\u001B[38;5;241m.\u001B[39mto_frame(\u001B[38;5;124m'\u001B[39m\u001B[38;5;124mstock\u001B[39m\u001B[38;5;124m'\u001B[39m)\n\u001B[0;32m     19\u001B[0m data \u001B[38;5;241m=\u001B[39m stock\u001B[38;5;241m.\u001B[39mjoin(benchmark)\u001B[38;5;241m.\u001B[39mpct_change()\u001B[38;5;241m.\u001B[39mdropna()\u001B[38;5;241m.\u001B[39mloc[\u001B[38;5;124m'\u001B[39m\u001B[38;5;124m2010\u001B[39m\u001B[38;5;124m'\u001B[39m:]\n",
      "File \u001B[1;32mD:\\99.Dev\\Anaconda\\envs\\ml4t\\lib\\site-packages\\pandas\\io\\pytables.py:561\u001B[0m, in \u001B[0;36mHDFStore.__init__\u001B[1;34m(self, path, mode, complevel, complib, fletcher32, **kwargs)\u001B[0m\n\u001B[0;32m    559\u001B[0m \u001B[38;5;28mself\u001B[39m\u001B[38;5;241m.\u001B[39m_fletcher32 \u001B[38;5;241m=\u001B[39m fletcher32\n\u001B[0;32m    560\u001B[0m \u001B[38;5;28mself\u001B[39m\u001B[38;5;241m.\u001B[39m_filters \u001B[38;5;241m=\u001B[39m \u001B[38;5;28;01mNone\u001B[39;00m\n\u001B[1;32m--> 561\u001B[0m \u001B[38;5;28;43mself\u001B[39;49m\u001B[38;5;241;43m.\u001B[39;49m\u001B[43mopen\u001B[49m\u001B[43m(\u001B[49m\u001B[43mmode\u001B[49m\u001B[38;5;241;43m=\u001B[39;49m\u001B[43mmode\u001B[49m\u001B[43m,\u001B[49m\u001B[43m \u001B[49m\u001B[38;5;241;43m*\u001B[39;49m\u001B[38;5;241;43m*\u001B[39;49m\u001B[43mkwargs\u001B[49m\u001B[43m)\u001B[49m\n",
      "File \u001B[1;32mD:\\99.Dev\\Anaconda\\envs\\ml4t\\lib\\site-packages\\pandas\\io\\pytables.py:710\u001B[0m, in \u001B[0;36mHDFStore.open\u001B[1;34m(self, mode, **kwargs)\u001B[0m\n\u001B[0;32m    704\u001B[0m     msg \u001B[38;5;241m=\u001B[39m (\n\u001B[0;32m    705\u001B[0m         \u001B[38;5;124m\"\u001B[39m\u001B[38;5;124mCannot open HDF5 file, which is already opened, \u001B[39m\u001B[38;5;124m\"\u001B[39m\n\u001B[0;32m    706\u001B[0m         \u001B[38;5;124m\"\u001B[39m\u001B[38;5;124meven in read-only mode.\u001B[39m\u001B[38;5;124m\"\u001B[39m\n\u001B[0;32m    707\u001B[0m     )\n\u001B[0;32m    708\u001B[0m     \u001B[38;5;28;01mraise\u001B[39;00m \u001B[38;5;167;01mValueError\u001B[39;00m(msg)\n\u001B[1;32m--> 710\u001B[0m \u001B[38;5;28mself\u001B[39m\u001B[38;5;241m.\u001B[39m_handle \u001B[38;5;241m=\u001B[39m \u001B[43mtables\u001B[49m\u001B[38;5;241;43m.\u001B[39;49m\u001B[43mopen_file\u001B[49m\u001B[43m(\u001B[49m\u001B[38;5;28;43mself\u001B[39;49m\u001B[38;5;241;43m.\u001B[39;49m\u001B[43m_path\u001B[49m\u001B[43m,\u001B[49m\u001B[43m \u001B[49m\u001B[38;5;28;43mself\u001B[39;49m\u001B[38;5;241;43m.\u001B[39;49m\u001B[43m_mode\u001B[49m\u001B[43m,\u001B[49m\u001B[43m \u001B[49m\u001B[38;5;241;43m*\u001B[39;49m\u001B[38;5;241;43m*\u001B[39;49m\u001B[43mkwargs\u001B[49m\u001B[43m)\u001B[49m\n",
      "File \u001B[1;32mD:\\99.Dev\\Anaconda\\envs\\ml4t\\lib\\site-packages\\tables\\file.py:315\u001B[0m, in \u001B[0;36mopen_file\u001B[1;34m(filename, mode, title, root_uep, filters, **kwargs)\u001B[0m\n\u001B[0;32m    310\u001B[0m             \u001B[38;5;28;01mraise\u001B[39;00m \u001B[38;5;167;01mValueError\u001B[39;00m(\n\u001B[0;32m    311\u001B[0m                 \u001B[38;5;124m\"\u001B[39m\u001B[38;5;124mThe file \u001B[39m\u001B[38;5;124m'\u001B[39m\u001B[38;5;132;01m%s\u001B[39;00m\u001B[38;5;124m'\u001B[39m\u001B[38;5;124m is already opened.  Please \u001B[39m\u001B[38;5;124m\"\u001B[39m\n\u001B[0;32m    312\u001B[0m                 \u001B[38;5;124m\"\u001B[39m\u001B[38;5;124mclose it before reopening in write mode.\u001B[39m\u001B[38;5;124m\"\u001B[39m \u001B[38;5;241m%\u001B[39m filename)\n\u001B[0;32m    314\u001B[0m \u001B[38;5;66;03m# Finally, create the File instance, and return it\u001B[39;00m\n\u001B[1;32m--> 315\u001B[0m \u001B[38;5;28;01mreturn\u001B[39;00m \u001B[43mFile\u001B[49m\u001B[43m(\u001B[49m\u001B[43mfilename\u001B[49m\u001B[43m,\u001B[49m\u001B[43m \u001B[49m\u001B[43mmode\u001B[49m\u001B[43m,\u001B[49m\u001B[43m \u001B[49m\u001B[43mtitle\u001B[49m\u001B[43m,\u001B[49m\u001B[43m \u001B[49m\u001B[43mroot_uep\u001B[49m\u001B[43m,\u001B[49m\u001B[43m \u001B[49m\u001B[43mfilters\u001B[49m\u001B[43m,\u001B[49m\u001B[43m \u001B[49m\u001B[38;5;241;43m*\u001B[39;49m\u001B[38;5;241;43m*\u001B[39;49m\u001B[43mkwargs\u001B[49m\u001B[43m)\u001B[49m\n",
      "File \u001B[1;32mD:\\99.Dev\\Anaconda\\envs\\ml4t\\lib\\site-packages\\tables\\file.py:778\u001B[0m, in \u001B[0;36mFile.__init__\u001B[1;34m(self, filename, mode, title, root_uep, filters, **kwargs)\u001B[0m\n\u001B[0;32m    775\u001B[0m \u001B[38;5;28mself\u001B[39m\u001B[38;5;241m.\u001B[39mparams \u001B[38;5;241m=\u001B[39m params\n\u001B[0;32m    777\u001B[0m \u001B[38;5;66;03m# Now, it is time to initialize the File extension\u001B[39;00m\n\u001B[1;32m--> 778\u001B[0m \u001B[38;5;28;43mself\u001B[39;49m\u001B[38;5;241;43m.\u001B[39;49m\u001B[43m_g_new\u001B[49m\u001B[43m(\u001B[49m\u001B[43mfilename\u001B[49m\u001B[43m,\u001B[49m\u001B[43m \u001B[49m\u001B[43mmode\u001B[49m\u001B[43m,\u001B[49m\u001B[43m \u001B[49m\u001B[38;5;241;43m*\u001B[39;49m\u001B[38;5;241;43m*\u001B[39;49m\u001B[43mparams\u001B[49m\u001B[43m)\u001B[49m\n\u001B[0;32m    780\u001B[0m \u001B[38;5;66;03m# Check filters and set PyTables format version for new files.\u001B[39;00m\n\u001B[0;32m    781\u001B[0m new \u001B[38;5;241m=\u001B[39m \u001B[38;5;28mself\u001B[39m\u001B[38;5;241m.\u001B[39m_v_new\n",
      "File \u001B[1;32mtables/hdf5extension.pyx:374\u001B[0m, in \u001B[0;36mtables.hdf5extension.File._g_new\u001B[1;34m()\u001B[0m\n",
      "File \u001B[1;32mD:\\99.Dev\\Anaconda\\envs\\ml4t\\lib\\site-packages\\tables\\utils.py:182\u001B[0m, in \u001B[0;36mcheck_file_access\u001B[1;34m(filename, mode)\u001B[0m\n\u001B[0;32m    180\u001B[0m         check_file_access(filename, \u001B[38;5;124m'\u001B[39m\u001B[38;5;124mr+\u001B[39m\u001B[38;5;124m'\u001B[39m)\n\u001B[0;32m    181\u001B[0m     \u001B[38;5;28;01melse\u001B[39;00m:\n\u001B[1;32m--> 182\u001B[0m         \u001B[43mcheck_file_access\u001B[49m\u001B[43m(\u001B[49m\u001B[43mfilename\u001B[49m\u001B[43m,\u001B[49m\u001B[43m \u001B[49m\u001B[38;5;124;43m'\u001B[39;49m\u001B[38;5;124;43mw\u001B[39;49m\u001B[38;5;124;43m'\u001B[39;49m\u001B[43m)\u001B[49m\n\u001B[0;32m    183\u001B[0m \u001B[38;5;28;01melif\u001B[39;00m mode \u001B[38;5;241m==\u001B[39m \u001B[38;5;124m'\u001B[39m\u001B[38;5;124mr+\u001B[39m\u001B[38;5;124m'\u001B[39m:\n\u001B[0;32m    184\u001B[0m     check_file_access(filename, \u001B[38;5;124m'\u001B[39m\u001B[38;5;124mr\u001B[39m\u001B[38;5;124m'\u001B[39m)\n",
      "File \u001B[1;32mD:\\99.Dev\\Anaconda\\envs\\ml4t\\lib\\site-packages\\tables\\utils.py:172\u001B[0m, in \u001B[0;36mcheck_file_access\u001B[1;34m(filename, mode)\u001B[0m\n\u001B[0;32m    170\u001B[0m     parentname \u001B[38;5;241m=\u001B[39m \u001B[38;5;124m'\u001B[39m\u001B[38;5;124m.\u001B[39m\u001B[38;5;124m'\u001B[39m\n\u001B[0;32m    171\u001B[0m \u001B[38;5;28;01mif\u001B[39;00m \u001B[38;5;129;01mnot\u001B[39;00m os\u001B[38;5;241m.\u001B[39maccess(parentname, os\u001B[38;5;241m.\u001B[39mF_OK):\n\u001B[1;32m--> 172\u001B[0m     \u001B[38;5;28;01mraise\u001B[39;00m \u001B[38;5;167;01mIOError\u001B[39;00m(\u001B[38;5;124m\"\u001B[39m\u001B[38;5;124m``\u001B[39m\u001B[38;5;132;01m%s\u001B[39;00m\u001B[38;5;124m`` does not exist\u001B[39m\u001B[38;5;124m\"\u001B[39m \u001B[38;5;241m%\u001B[39m (parentname,))\n\u001B[0;32m    173\u001B[0m \u001B[38;5;28;01mif\u001B[39;00m \u001B[38;5;129;01mnot\u001B[39;00m os\u001B[38;5;241m.\u001B[39mpath\u001B[38;5;241m.\u001B[39misdir(parentname):\n\u001B[0;32m    174\u001B[0m     \u001B[38;5;28;01mraise\u001B[39;00m \u001B[38;5;167;01mIOError\u001B[39;00m(\u001B[38;5;124m\"\u001B[39m\u001B[38;5;124m``\u001B[39m\u001B[38;5;132;01m%s\u001B[39;00m\u001B[38;5;124m`` is not a directory\u001B[39m\u001B[38;5;124m\"\u001B[39m \u001B[38;5;241m%\u001B[39m (parentname,))\n",
      "\u001B[1;31mOSError\u001B[0m: ``data`` does not exist"
     ]
    }
   ],
   "source": [
    "import warnings\n",
    "warnings.filterwarnings('ignore')\n",
    "import numpy as np\n",
    "import pandas as pd\n",
    "import pandas_datareader.data as web\n",
    "\n",
    "import pymc3 as pm\n",
    "import arviz\n",
    "from scipy import stats\n",
    "\n",
    "import seaborn as sns\n",
    "import matplotlib.pyplot as plt\n",
    "from matplotlib import gridspec\n",
    "benchmark = web.DataReader('SP500', data_source='fred', start=2010)\n",
    "benchmark.columns = ['benchmark']\n",
    "\n",
    "with pd.HDFStore('data/assets.h5') as store:\n",
    "    stock = store['quandl/wiki/prices'].adj_close.unstack()['AMZN'].to_frame('stock')\n",
    "data = stock.join(benchmark).pct_change().dropna().loc['2010':]\n",
    "\n",
    "data.info()"
   ],
   "metadata": {
    "collapsed": false,
    "pycharm": {
     "name": "#%%\n"
    },
    "ExecuteTime": {
     "end_time": "2023-09-21T10:56:57.461081800Z",
     "start_time": "2023-09-21T10:56:51.731402800Z"
    }
   }
  },
  {
   "cell_type": "code",
   "execution_count": null,
   "outputs": [],
   "source": [
    "mean_prior = data.stock.mean()\n",
    "std_prior = data.stock.std()\n",
    "std_low = std_prior / 1000\n",
    "std_high = std_prior * 1000\n",
    "\n",
    "with pm.Model() as sharpe_model:\n",
    "    mean = pm.Normal('mean', mu=mean_prior, sd=std_prior)\n",
    "    std = pm.Uniform('std', lower=std_low, upper=std_high)\n",
    "\n",
    "    nu = pm.Exponential('nu_minus_two', 1 / 29, testval=4) + 2.\n",
    "    returns = pm.StudentT('returns', nu=nu, mu=mean, sd=std, observed=data.stock)\n",
    "\n",
    "    sharpe = returns.distribution.mean / returns.distribution.variance ** .5 * np.sqrt(252)\n",
    "    pm.Deterministic('sharpe', sharpe)\n",
    "sharpe_model.model"
   ],
   "metadata": {
    "collapsed": false,
    "pycharm": {
     "name": "#%%\n"
    },
    "ExecuteTime": {
     "start_time": "2023-09-21T10:56:57.464074200Z"
    }
   }
  },
  {
   "cell_type": "code",
   "execution_count": null,
   "outputs": [],
   "source": [
    "pm.model_to_graphviz(model=sharpe_model)"
   ],
   "metadata": {
    "collapsed": false,
    "pycharm": {
     "name": "#%%\n"
    },
    "ExecuteTime": {
     "end_time": "2023-09-21T10:56:57.465071600Z",
     "start_time": "2023-09-21T10:56:57.465071600Z"
    }
   }
  },
  {
   "cell_type": "code",
   "execution_count": null,
   "outputs": [],
   "source": [
    "tune = 2000\n",
    "draws = 200\n",
    "with sharpe_model:\n",
    "    trace = pm.sample(tune=tune, draws=draws, chains=4, cores=1)"
   ],
   "metadata": {
    "collapsed": false,
    "pycharm": {
     "name": "#%%\n"
    },
    "ExecuteTime": {
     "start_time": "2023-09-21T10:56:57.467066300Z"
    }
   }
  },
  {
   "cell_type": "code",
   "execution_count": null,
   "outputs": [],
   "source": [
    "trace_df = pm.trace_to_dataframe(trace).assign(chain=lambda x: x.index // draws)\n",
    "trace_df.info()"
   ],
   "metadata": {
    "collapsed": false,
    "pycharm": {
     "name": "#%%\n"
    },
    "ExecuteTime": {
     "start_time": "2023-09-21T10:56:57.469087600Z"
    }
   }
  },
  {
   "cell_type": "code",
   "execution_count": null,
   "outputs": [],
   "source": [
    "# arviz.plot_trace(data=trace);"
   ],
   "metadata": {
    "collapsed": false,
    "pycharm": {
     "name": "#%%\n"
    },
    "ExecuteTime": {
     "start_time": "2023-09-21T10:56:57.470059Z"
    }
   }
  },
  {
   "cell_type": "code",
   "execution_count": null,
   "outputs": [],
   "source": [
    "# Continue Sampling\n",
    "draws = 25000\n",
    "with sharpe_model:\n",
    "    trace = pm.sample(draws=draws, trace=trace, chains=4, cores=1)"
   ],
   "metadata": {
    "collapsed": false,
    "pycharm": {
     "name": "#%%\n"
    },
    "ExecuteTime": {
     "start_time": "2023-09-21T10:56:57.472053900Z"
    }
   }
  },
  {
   "cell_type": "code",
   "execution_count": null,
   "outputs": [],
   "source": [
    "pm.trace_to_dataframe(trace).shape"
   ],
   "metadata": {
    "collapsed": false,
    "pycharm": {
     "name": "#%%\n"
    },
    "ExecuteTime": {
     "start_time": "2023-09-21T10:56:57.474047900Z"
    }
   }
  },
  {
   "cell_type": "code",
   "execution_count": null,
   "outputs": [],
   "source": [
    "df = pm.trace_to_dataframe(trace).iloc[400:].reset_index(drop=True).assign(chain=lambda x: x.index // draws)\n",
    "trace_df = pd.concat([trace_df.assign(run=1), df.assign(run=2)])\n",
    "trace_df.info()"
   ],
   "metadata": {
    "collapsed": false,
    "pycharm": {
     "name": "#%%\n"
    },
    "ExecuteTime": {
     "start_time": "2023-09-21T10:56:57.475045800Z"
    }
   }
  },
  {
   "cell_type": "code",
   "execution_count": null,
   "outputs": [],
   "source": [
    "trace_df.tail(10)"
   ],
   "metadata": {
    "collapsed": false,
    "ExecuteTime": {
     "start_time": "2023-09-21T10:56:57.477039200Z"
    }
   }
  },
  {
   "cell_type": "code",
   "execution_count": null,
   "outputs": [],
   "source": [
    "trace_df_long = pd.melt(trace_df, id_vars=['run', 'chain'])"
   ],
   "metadata": {
    "collapsed": false,
    "pycharm": {
     "name": "#%%\n"
    },
    "ExecuteTime": {
     "end_time": "2023-09-21T10:56:57.481029600Z",
     "start_time": "2023-09-21T10:56:57.479034700Z"
    }
   }
  },
  {
   "cell_type": "code",
   "execution_count": null,
   "outputs": [],
   "source": [
    "g = sns.FacetGrid(trace_df_long, col='variable', row='run', hue='chain', sharex='col', sharey=False)\n",
    "g = g.map(sns.distplot, 'value', hist=False, rug=False)"
   ],
   "metadata": {
    "collapsed": false,
    "pycharm": {
     "name": "#%%\n"
    },
    "ExecuteTime": {
     "start_time": "2023-09-21T10:56:57.481029600Z"
    }
   }
  },
  {
   "cell_type": "code",
   "execution_count": null,
   "outputs": [],
   "source": [
    "# arviz.plot_trace(data=trace);"
   ],
   "metadata": {
    "collapsed": false,
    "pycharm": {
     "name": "#%%\n"
    },
    "ExecuteTime": {
     "start_time": "2023-09-21T10:56:57.482026800Z"
    }
   }
  },
  {
   "cell_type": "code",
   "execution_count": null,
   "outputs": [],
   "source": [
    "# arviz.plot_posterior(data=trace)"
   ],
   "metadata": {
    "collapsed": false,
    "pycharm": {
     "name": "#%%\n"
    },
    "ExecuteTime": {
     "start_time": "2023-09-21T10:56:57.483023300Z"
    }
   }
  },
  {
   "cell_type": "code",
   "execution_count": null,
   "outputs": [],
   "source": [
    "# arviz.plot_forest(data=trace);"
   ],
   "metadata": {
    "collapsed": false,
    "pycharm": {
     "name": "#%%\n"
    },
    "ExecuteTime": {
     "start_time": "2023-09-21T10:56:57.484021300Z"
    }
   }
  },
  {
   "cell_type": "code",
   "execution_count": null,
   "outputs": [],
   "source": [
    "data.describe()"
   ],
   "metadata": {
    "collapsed": false,
    "pycharm": {
     "name": "#%%\n"
    },
    "ExecuteTime": {
     "start_time": "2023-09-21T10:56:57.485018300Z"
    }
   }
  },
  {
   "cell_type": "code",
   "execution_count": null,
   "outputs": [],
   "source": [
    "# Sharpe Ratio Comparison as a Probabilistic Model\n",
    "group = {1: data.stock, 2: data.benchmark}\n",
    "combined = pd.concat([g for i, g in group.items()])\n",
    "\n",
    "# priors\n",
    "mean_prior = combined.mean()\n",
    "std_prior = combined.std()\n",
    "std_low = std_prior / 1000\n",
    "std_high = std_prior * 1000\n",
    "T = 251 ** .5\n",
    "mean, std, returns = {}, {}, {}\n",
    "with pm.Model() as best:\n",
    "    nu = pm.Exponential('nu_minus_two', 1 / 29, testval=4) + 2.\n",
    "    for i in [1, 2]:\n",
    "        mean[i] = pm.Normal(f'mean_g{i}', mu=mean_prior, sd=std_prior, testval=group[i].mean())\n",
    "        std[i] = pm.Uniform(f'std_g{i}', lower=std_low, upper=std_high, testval=group[i].std())\n",
    "        returns[i] = pm.StudentT(f'returns_g{i}', nu=nu, mu=mean[i], sd=std[i], observed=group[i])\n",
    "        pm.Deterministic(f'vol_g{i}', returns[i].distribution.sd * T)\n",
    "        pm.Deterministic(f'sharpe_g{i}', returns[i].distribution.mean / returns[i].distribution.sd * T)\n",
    "\n",
    "    mean_diff = pm.Deterministic('mean diff', mean[1] - mean[2])\n",
    "    pm.Deterministic('std diff', std[1] - std[2])\n",
    "    pm.Deterministic('effect size', mean_diff / (std[i] ** 2 + std[2] ** 2) ** .5 / 2)\n",
    "\n",
    "pm.model_to_graphviz(model=best)"
   ],
   "metadata": {
    "collapsed": false,
    "pycharm": {
     "name": "#%%\n"
    },
    "ExecuteTime": {
     "start_time": "2023-09-21T10:56:57.486015900Z"
    }
   }
  },
  {
   "cell_type": "code",
   "execution_count": null,
   "outputs": [],
   "source": [
    "with best:\n",
    "    trace = pm.sample(draws=10000, tune=2500, progressbar=True, cores=1)"
   ],
   "metadata": {
    "collapsed": false,
    "pycharm": {
     "name": "#%%\n"
    },
    "ExecuteTime": {
     "start_time": "2023-09-21T10:56:57.487013100Z"
    }
   }
  },
  {
   "cell_type": "code",
   "execution_count": null,
   "outputs": [],
   "source": [
    "pm.trace_to_dataframe(trace).info()"
   ],
   "metadata": {
    "collapsed": false,
    "pycharm": {
     "name": "#%%\n"
    },
    "ExecuteTime": {
     "start_time": "2023-09-21T10:56:57.488010900Z"
    }
   }
  },
  {
   "cell_type": "code",
   "execution_count": null,
   "outputs": [],
   "source": [
    "# Evaluating the Trace\n",
    "\n",
    "burn = 0\n",
    "trace = trace[burn:]\n",
    "\n",
    "fig = plt.figure(figsize=(14, 8), constrained_layout=True)\n",
    "gs = gridspec.GridSpec(4, 2, wspace=0.1, hspace=0.4)\n",
    "axs = [plt.subplot(gs[i, j]) for i in [0, 1, 2] for j in [0, 1]]\n",
    "axs.append(plt.subplot(gs[3, :]))\n",
    "\n",
    "def distplot_w_perc(trace, ax):\n",
    "    sns.distplot(trace, ax=ax)\n",
    "    ax.axvline(stats.scoreatpercentile(trace, 2.5), color='0.5', label='2.5 and 97.5 percentiles')\n",
    "    ax.axvline(stats.scoreatpercentile(trace, 97.5), color='0.5')\n",
    "\n",
    "for i in [1, 2]:\n",
    "    label = f'Group {i}'\n",
    "    sns.distplot(trace[f'mean_g{i}'], ax=axs[0], label=label)\n",
    "    sns.distplot(trace[f'vol_g{i}'], ax=axs[2], label=label)\n",
    "    sns.distplot(trace[f'sharpe_g{i}'], ax=axs[4], label=label)\n",
    "\n",
    "distplot_w_perc(trace['mean diff'], axs[1])\n",
    "distplot_w_perc(trace['vol_g1'] - trace['vol_g2'], axs[3])\n",
    "distplot_w_perc(trace['sharpe_g1'] - trace['sharpe_g2'], axs[5])\n",
    "\n",
    "sns.distplot(trace['effect size'], ax=axs[6])\n",
    "for p in [2.5, 97.5]:\n",
    "    axs[6].axvline(stats.scoreatpercentile(trace['effect size'], p), color='0.5')\n",
    "\n",
    "for i in range(5):\n",
    "    axs[i].legend(loc=0, frameon=True, framealpha=0.5)\n",
    "\n",
    "axs[0].set(xlabel='Mean', ylabel='Belief', yticklabels=[])\n",
    "axs[1].set(xlabel='Difference of means', yticklabels=[])\n",
    "axs[2].set(xlabel='Annual volatility', ylabel='Belief', yticklabels=[])\n",
    "axs[3].set(xlabel='Difference of volatility', yticklabels=[])\n",
    "axs[4].set(xlabel='Sharpe', ylabel='Belief', yticklabels=[])\n",
    "axs[5].set(xlabel='Difference of Sharpes', yticklabels=[])\n",
    "axs[6].set(xlabel='Difference of means normalized by volatility', ylabel='Belief', yticklabels=[])"
   ],
   "metadata": {
    "collapsed": false,
    "pycharm": {
     "name": "#%%\n"
    },
    "ExecuteTime": {
     "start_time": "2023-09-21T10:56:57.490004400Z"
    }
   }
  },
  {
   "cell_type": "code",
   "execution_count": null,
   "outputs": [],
   "source": [
    "\n",
    "def plot_traces(traces, burnin=2000):\n",
    "    '''\n",
    "    Plot traces with overlaid means and values\n",
    "    '''\n",
    "    summary = arviz.summary(traces[burnin:])['mean'].to_dict()\n",
    "    ax = arviz.plot_trace(traces[burnin:], figsize=(15, len(traces.varnames)*1.5), lines=summary)\n",
    "\n",
    "    for i, mn in enumerate(summary.values()):\n",
    "        ax[i, 0].annotate(f'{mn:.2f}', xy=(mn, 0), xycoords='data', xytext=(5, 10), textcoords='offset points',\n",
    "                          rotation=90, va='bottom', fontsize='large', color='#AA0022')"
   ],
   "metadata": {
    "collapsed": false,
    "pycharm": {
     "name": "#%%\n"
    },
    "ExecuteTime": {
     "start_time": "2023-09-21T10:56:57.491003100Z"
    }
   }
  },
  {
   "cell_type": "code",
   "execution_count": null,
   "outputs": [],
   "source": [
    "plot_traces(trace, burnin=0)"
   ],
   "metadata": {
    "collapsed": false,
    "ExecuteTime": {
     "start_time": "2023-09-21T10:56:57.492000700Z"
    }
   }
  }
 ],
 "metadata": {
  "kernelspec": {
   "display_name": "Python 3",
   "language": "python",
   "name": "python3"
  },
  "language_info": {
   "codemirror_mode": {
    "name": "ipython",
    "version": 2
   },
   "file_extension": ".py",
   "mimetype": "text/x-python",
   "name": "python",
   "nbconvert_exporter": "python",
   "pygments_lexer": "ipython2",
   "version": "2.7.6"
  }
 },
 "nbformat": 4,
 "nbformat_minor": 0
}
