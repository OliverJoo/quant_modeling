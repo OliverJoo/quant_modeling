{
 "cells": [
  {
   "cell_type": "code",
   "execution_count": 1,
   "metadata": {
    "collapsed": true,
    "pycharm": {
     "name": "#%%\n"
    },
    "ExecuteTime": {
     "end_time": "2023-09-25T09:18:41.291936400Z",
     "start_time": "2023-09-25T09:18:32.195392700Z"
    }
   },
   "outputs": [],
   "source": [
    "import warnings\n",
    "warnings.filterwarnings('ignore')\n",
    "%matplotlib inline\n",
    "from pathlib import Path\n",
    "from time import time\n",
    "from collections import deque\n",
    "from random import sample\n",
    "\n",
    "import numpy as np\n",
    "import pandas as pd\n",
    "\n",
    "import matplotlib.pyplot as plt\n",
    "from matplotlib.ticker import FuncFormatter\n",
    "import seaborn as sns\n",
    "\n",
    "import tensorflow as tf\n",
    "from tensorflow.keras import Sequential\n",
    "from tensorflow.keras.layers import Dense, Dropout\n",
    "from tensorflow.keras.optimizers import Adam\n",
    "from tensorflow.keras.regularizers import l2\n",
    "\n",
    "import gym\n",
    "from gym.envs.registration import register"
   ]
  },
  {
   "cell_type": "code",
   "execution_count": 2,
   "outputs": [
    {
     "name": "stdout",
     "output_type": "stream",
     "text": [
      "Using CPU\n"
     ]
    }
   ],
   "source": [
    "gpu_devices = tf.config.experimental.list_physical_devices('GPU')\n",
    "if gpu_devices:\n",
    "    print('Using GPU')\n",
    "    tf.config.experimental.set_memory_growth(gpu_devices[0], True)\n",
    "else:\n",
    "    print('Using CPU')\n",
    "\n",
    "np.random.seed(42)\n",
    "tf.random.set_seed(42)\n",
    "sns.set_style('whitegrid')\n",
    "\n",
    "results_path = Path('results', 'trading_bot')\n",
    "if not results_path.exists():\n",
    "    results_path.mkdir(parents=True)"
   ],
   "metadata": {
    "collapsed": false,
    "pycharm": {
     "name": "#%%\n"
    },
    "ExecuteTime": {
     "end_time": "2023-09-25T09:18:41.306773500Z",
     "start_time": "2023-09-25T09:18:41.284954400Z"
    }
   }
  },
  {
   "cell_type": "code",
   "execution_count": 3,
   "outputs": [],
   "source": [
    "def format_time(t):\n",
    "    m_, s = divmod(t, 60)\n",
    "    h, m = divmod(m_, 60)\n",
    "    return '{:02.0f}:{:02.0f}:{:02.0f}'.format(h, m, s)"
   ],
   "metadata": {
    "collapsed": false,
    "pycharm": {
     "name": "#%%\n"
    },
    "ExecuteTime": {
     "end_time": "2023-09-25T09:18:41.344665Z",
     "start_time": "2023-09-25T09:18:41.302910200Z"
    }
   }
  },
  {
   "cell_type": "code",
   "execution_count": 4,
   "outputs": [],
   "source": [
    "# Set up Gym Environment\n",
    "\n",
    "trading_days = 252\n",
    "register( id='trading-v0', entry_point='trading_env:TradingEnvironment', max_episode_steps=trading_days )"
   ],
   "metadata": {
    "collapsed": false,
    "pycharm": {
     "name": "#%%\n"
    },
    "ExecuteTime": {
     "end_time": "2023-09-25T09:18:41.356963200Z",
     "start_time": "2023-09-25T09:18:41.316747400Z"
    }
   }
  },
  {
   "cell_type": "code",
   "execution_count": 5,
   "outputs": [
    {
     "name": "stdout",
     "output_type": "stream",
     "text": [
      "Trading costs: 0.10% | Time costs: 0.01%\n"
     ]
    }
   ],
   "source": [
    "# Initialize Trading Environment\n",
    "trading_cost_bps = 1e-3\n",
    "time_cost_bps = 1e-4\n",
    "print(f'Trading costs: {trading_cost_bps:.2%} | Time costs: {time_cost_bps:.2%}')"
   ],
   "metadata": {
    "collapsed": false,
    "pycharm": {
     "name": "#%%\n"
    },
    "ExecuteTime": {
     "end_time": "2023-09-25T09:18:41.357960700Z",
     "start_time": "2023-09-25T09:18:41.332289800Z"
    }
   }
  },
  {
   "cell_type": "code",
   "execution_count": 6,
   "outputs": [
    {
     "name": "stderr",
     "output_type": "stream",
     "text": [
      "INFO:trading_env:trading_env logger started.\n",
      "INFO:trading_env:loading data for AAPL...\n",
      "INFO:trading_env:got data for AAPL...\n",
      "INFO:trading_env:None\n"
     ]
    },
    {
     "name": "stdout",
     "output_type": "stream",
     "text": [
      "<class 'pandas.core.frame.DataFrame'>\n",
      "MultiIndex: 9367 entries, (Timestamp('1981-01-30 00:00:00'), 'AAPL') to (Timestamp('2018-03-27 00:00:00'), 'AAPL')\n",
      "Data columns (total 10 columns):\n",
      " #   Column   Non-Null Count  Dtype  \n",
      "---  ------   --------------  -----  \n",
      " 0   returns  9367 non-null   float64\n",
      " 1   ret_2    9367 non-null   float64\n",
      " 2   ret_5    9367 non-null   float64\n",
      " 3   ret_10   9367 non-null   float64\n",
      " 4   ret_21   9367 non-null   float64\n",
      " 5   rsi      9367 non-null   float64\n",
      " 6   macd     9367 non-null   float64\n",
      " 7   atr      9367 non-null   float64\n",
      " 8   stoch    9367 non-null   float64\n",
      " 9   ultosc   9367 non-null   float64\n",
      "dtypes: float64(10)\n",
      "memory usage: 1.5+ MB\n"
     ]
    },
    {
     "data": {
      "text/plain": "[42]"
     },
     "execution_count": 6,
     "metadata": {},
     "output_type": "execute_result"
    }
   ],
   "source": [
    "trading_environment = gym.make('trading-v0', ticker='AAPL', trading_days=trading_days,\n",
    "                               trading_cost_bps=trading_cost_bps, time_cost_bps=time_cost_bps)\n",
    "trading_environment.seed(42)"
   ],
   "metadata": {
    "collapsed": false,
    "pycharm": {
     "name": "#%%\n"
    },
    "ExecuteTime": {
     "end_time": "2023-09-25T09:18:57.541031200Z",
     "start_time": "2023-09-25T09:18:41.347438Z"
    }
   }
  },
  {
   "cell_type": "code",
   "execution_count": 18,
   "outputs": [
    {
     "ename": "AttributeError",
     "evalue": "'TradingEnvironment' object has no attribute 'tail'",
     "output_type": "error",
     "traceback": [
      "\u001B[1;31m---------------------------------------------------------------------------\u001B[0m",
      "\u001B[1;31mAttributeError\u001B[0m                            Traceback (most recent call last)",
      "Input \u001B[1;32mIn [18]\u001B[0m, in \u001B[0;36m<cell line: 1>\u001B[1;34m()\u001B[0m\n\u001B[1;32m----> 1\u001B[0m \u001B[43mtrading_environment\u001B[49m\u001B[38;5;241;43m.\u001B[39;49m\u001B[43mtail\u001B[49m(\u001B[38;5;241m10\u001B[39m)\n",
      "File \u001B[1;32mD:\\99.Dev\\Anaconda\\envs\\ml4t\\lib\\site-packages\\gym\\core.py:238\u001B[0m, in \u001B[0;36mWrapper.__getattr__\u001B[1;34m(self, name)\u001B[0m\n\u001B[0;32m    234\u001B[0m \u001B[38;5;28;01mif\u001B[39;00m name\u001B[38;5;241m.\u001B[39mstartswith(\u001B[38;5;124m\"\u001B[39m\u001B[38;5;124m_\u001B[39m\u001B[38;5;124m\"\u001B[39m):\n\u001B[0;32m    235\u001B[0m     \u001B[38;5;28;01mraise\u001B[39;00m \u001B[38;5;167;01mAttributeError\u001B[39;00m(\n\u001B[0;32m    236\u001B[0m         \u001B[38;5;124m\"\u001B[39m\u001B[38;5;124mattempted to get missing private attribute \u001B[39m\u001B[38;5;124m'\u001B[39m\u001B[38;5;132;01m{}\u001B[39;00m\u001B[38;5;124m'\u001B[39m\u001B[38;5;124m\"\u001B[39m\u001B[38;5;241m.\u001B[39mformat(name)\n\u001B[0;32m    237\u001B[0m     )\n\u001B[1;32m--> 238\u001B[0m \u001B[38;5;28;01mreturn\u001B[39;00m \u001B[38;5;28;43mgetattr\u001B[39;49m\u001B[43m(\u001B[49m\u001B[38;5;28;43mself\u001B[39;49m\u001B[38;5;241;43m.\u001B[39;49m\u001B[43menv\u001B[49m\u001B[43m,\u001B[49m\u001B[43m \u001B[49m\u001B[43mname\u001B[49m\u001B[43m)\u001B[49m\n",
      "\u001B[1;31mAttributeError\u001B[0m: 'TradingEnvironment' object has no attribute 'tail'"
     ]
    }
   ],
   "source": [
    "trading_environment.tail(10)"
   ],
   "metadata": {
    "collapsed": false,
    "ExecuteTime": {
     "end_time": "2023-09-25T18:00:00.370045400Z",
     "start_time": "2023-09-25T17:59:59.833619Z"
    }
   }
  },
  {
   "cell_type": "code",
   "execution_count": 7,
   "outputs": [],
   "source": [
    "# Get Environment Params\n",
    "state_dim = trading_environment.observation_space.shape[0]\n",
    "num_actions = trading_environment.action_space.n\n",
    "max_episode_steps = trading_environment.spec.max_episode_steps"
   ],
   "metadata": {
    "collapsed": false,
    "pycharm": {
     "name": "#%%\n"
    },
    "ExecuteTime": {
     "end_time": "2023-09-25T09:18:57.555171900Z",
     "start_time": "2023-09-25T09:18:57.534987200Z"
    }
   }
  },
  {
   "cell_type": "code",
   "execution_count": 8,
   "outputs": [],
   "source": [
    "# Define Trading Agent\n",
    "class DDQNAgent:\n",
    "    def __init__(self, state_dim, num_actions, learning_rate, gamma, epsilon_start, epsilon_end,\n",
    "                 epsilon_decay_steps, epsilon_exponential_decay, replay_capacity, architecture, l2_reg,\n",
    "                 tau, batch_size):\n",
    "\n",
    "        self.state_dim = state_dim\n",
    "        self.num_actions = num_actions\n",
    "        self.experience = deque([], maxlen=replay_capacity)\n",
    "        self.learning_rate = learning_rate\n",
    "        self.gamma = gamma\n",
    "        self.architecture = architecture\n",
    "        self.l2_reg = l2_reg\n",
    "\n",
    "        self.online_network = self.build_model()\n",
    "        self.target_network = self.build_model(trainable=False)\n",
    "        self.update_target()\n",
    "\n",
    "        self.epsilon = epsilon_start\n",
    "        self.epsilon_decay_steps = epsilon_decay_steps\n",
    "        self.epsilon_decay = (epsilon_start - epsilon_end) / epsilon_decay_steps\n",
    "        self.epsilon_exponential_decay = epsilon_exponential_decay\n",
    "        self.epsilon_history = []\n",
    "\n",
    "        self.total_steps = self.train_steps = 0\n",
    "        self.episodes = self.episode_length = self.train_episodes = 0\n",
    "        self.steps_per_episode = []\n",
    "        self.episode_reward = 0\n",
    "        self.rewards_history = []\n",
    "\n",
    "        self.batch_size = batch_size\n",
    "        self.tau = tau\n",
    "        self.losses = []\n",
    "        self.idx = tf.range(batch_size)\n",
    "        self.train = True\n",
    "\n",
    "    def build_model(self, trainable=True):\n",
    "        layers = []\n",
    "        n = len(self.architecture)\n",
    "        for i, units in enumerate(self.architecture, 1):\n",
    "            layers.append(Dense(units=units, input_dim=self.state_dim if i == 1 else None, activation='relu', kernel_regularizer=l2(self.l2_reg), name=f'Dense_{i}', trainable=trainable))\n",
    "        layers.append(Dropout(.1))\n",
    "        layers.append(Dense(units=self.num_actions, trainable=trainable, name='Output'))\n",
    "        model = Sequential(layers)\n",
    "        model.compile(loss='mean_squared_error', optimizer=Adam(lr=self.learning_rate))\n",
    "        return model\n",
    "\n",
    "    def update_target(self):\n",
    "        self.target_network.set_weights(self.online_network.get_weights())\n",
    "\n",
    "    def epsilon_greedy_policy(self, state):\n",
    "        self.total_steps += 1\n",
    "        if np.random.rand() <= self.epsilon:\n",
    "            return np.random.choice(self.num_actions)\n",
    "        q = self.online_network.predict(state)\n",
    "        return np.argmax(q, axis=1).squeeze()\n",
    "\n",
    "    def memorize_transition(self, s, a, r, s_prime, not_done):\n",
    "        if not_done:\n",
    "            self.episode_reward += r\n",
    "            self.episode_length += 1\n",
    "        else:\n",
    "            if self.train:\n",
    "                if self.episodes < self.epsilon_decay_steps:\n",
    "                    self.epsilon -= self.epsilon_decay\n",
    "                else:\n",
    "                    self.epsilon *= self.epsilon_exponential_decay\n",
    "\n",
    "            self.episodes += 1\n",
    "            self.rewards_history.append(self.episode_reward)\n",
    "            self.steps_per_episode.append(self.episode_length)\n",
    "            self.episode_reward, self.episode_length = 0, 0\n",
    "\n",
    "        self.experience.append((s, a, r, s_prime, not_done))\n",
    "\n",
    "    def experience_replay(self):\n",
    "        if self.batch_size > len(self.experience):\n",
    "            return\n",
    "        minibatch = map(np.array, zip(*sample(self.experience, self.batch_size)))\n",
    "        states, actions, rewards, next_states, not_done = minibatch\n",
    "\n",
    "        next_q_values = self.online_network.predict_on_batch(next_states)\n",
    "        best_actions = tf.argmax(next_q_values, axis=1)\n",
    "\n",
    "        next_q_values_target = self.target_network.predict_on_batch(next_states)\n",
    "        target_q_values = tf.gather_nd(next_q_values_target,\n",
    "                                       tf.stack((self.idx, tf.cast(best_actions, tf.int32)), axis=1))\n",
    "\n",
    "        targets = rewards + not_done * self.gamma * target_q_values\n",
    "\n",
    "        q_values = self.online_network.predict_on_batch(states)\n",
    "        q_values[[self.idx, actions]] = targets\n",
    "\n",
    "        loss = self.online_network.train_on_batch(x=states, y=q_values)\n",
    "        self.losses.append(loss)\n",
    "\n",
    "        if self.total_steps % self.tau == 0:\n",
    "            self.update_target()"
   ],
   "metadata": {
    "collapsed": false,
    "pycharm": {
     "name": "#%%\n"
    },
    "ExecuteTime": {
     "end_time": "2023-09-25T09:18:57.608439300Z",
     "start_time": "2023-09-25T09:18:57.561243Z"
    }
   }
  },
  {
   "cell_type": "code",
   "execution_count": 9,
   "outputs": [],
   "source": [
    "# Define hyperparameters\n",
    "gamma = .99,  # discount factor\n",
    "tau = 100  # target network update frequency\n",
    "\n",
    "# NN Architecture\n",
    "architecture = (256, 256)  # units per layer\n",
    "learning_rate = 0.0001  # learning rate\n",
    "l2_reg = 1e-6  # L2 regularization\n",
    "\n",
    "# Experience Replay\n",
    "replay_capacity = int(1e6)\n",
    "batch_size = 4096\n",
    "\n",
    "# e?-greedy Policy\n",
    "epsilon_start = 1.0\n",
    "epsilon_end = .01\n",
    "epsilon_decay_steps = 250\n",
    "epsilon_exponential_decay = .99"
   ],
   "metadata": {
    "collapsed": false,
    "pycharm": {
     "name": "#%%\n"
    },
    "ExecuteTime": {
     "end_time": "2023-09-25T09:18:57.624237600Z",
     "start_time": "2023-09-25T09:18:57.582303200Z"
    }
   }
  },
  {
   "cell_type": "code",
   "execution_count": 10,
   "outputs": [
    {
     "name": "stdout",
     "output_type": "stream",
     "text": [
      "Model: \"sequential\"\n",
      "_________________________________________________________________\n",
      "Layer (type)                 Output Shape              Param #   \n",
      "=================================================================\n",
      "Dense_1 (Dense)              (None, 256)               2816      \n",
      "_________________________________________________________________\n",
      "Dense_2 (Dense)              (None, 256)               65792     \n",
      "_________________________________________________________________\n",
      "dropout (Dropout)            (None, 256)               0         \n",
      "_________________________________________________________________\n",
      "Output (Dense)               (None, 3)                 771       \n",
      "=================================================================\n",
      "Total params: 69,379\n",
      "Trainable params: 69,379\n",
      "Non-trainable params: 0\n",
      "_________________________________________________________________\n"
     ]
    }
   ],
   "source": [
    "# Create DDQN Agent\n",
    "tf.keras.backend.clear_session()\n",
    "ddqn = DDQNAgent(state_dim=state_dim, num_actions=num_actions, learning_rate=learning_rate, gamma=gamma,\n",
    "                 epsilon_start=epsilon_start, epsilon_end=epsilon_end, epsilon_decay_steps=epsilon_decay_steps,\n",
    "                 epsilon_exponential_decay=epsilon_exponential_decay, replay_capacity=replay_capacity,\n",
    "                 architecture=architecture, l2_reg=l2_reg, tau=tau, batch_size=batch_size)\n",
    "ddqn.online_network.summary()"
   ],
   "metadata": {
    "collapsed": false,
    "pycharm": {
     "name": "#%%\n"
    },
    "ExecuteTime": {
     "end_time": "2023-09-25T09:18:59.345113Z",
     "start_time": "2023-09-25T09:18:57.594825100Z"
    }
   }
  },
  {
   "cell_type": "code",
   "execution_count": 11,
   "outputs": [],
   "source": [
    "# Run Experiment\n",
    "\n",
    "# Set parameters\n",
    "total_steps = 0\n",
    "max_episodes = 1000\n",
    "\n",
    "# Initialize variables\n",
    "episode_time, navs, market_navs, diffs, episode_eps = [], [], [], [], []\n",
    "\n",
    "# Visualization\n",
    "def track_results(episode, nav_ma_100, nav_ma_10, market_nav_100, market_nav_10,\n",
    "                  win_ratio, total, epsilon):\n",
    "    time_ma = np.mean([episode_time[-100:]])\n",
    "    T = np.sum(episode_time)\n",
    "\n",
    "    template = '{:>4d} | {} | Agent: {:>6.1%} ({:>6.1%}) | Market: {:>6.1%} ({:>6.1%}) | '\n",
    "    template += 'Wins: {:>5.1%} | eps: {:>6.3f}'\n",
    "    print(template.format(episode, format_time(total), nav_ma_100-1, nav_ma_10-1,\n",
    "                          market_nav_100-1, market_nav_10-1, win_ratio, epsilon))"
   ],
   "metadata": {
    "collapsed": false,
    "pycharm": {
     "name": "#%%\n"
    },
    "ExecuteTime": {
     "end_time": "2023-09-25T09:18:59.355360300Z",
     "start_time": "2023-09-25T09:18:59.340126100Z"
    }
   }
  },
  {
   "cell_type": "code",
   "execution_count": 12,
   "outputs": [
    {
     "name": "stdout",
     "output_type": "stream",
     "text": [
      "  10 | 00:00:04 | Agent: -39.0% (-39.0%) | Market:   4.6% (  4.6%) | Wins: 20.0% | eps:  0.960\n",
      "  20 | 00:01:20 | Agent: -35.1% (-31.3%) | Market:  23.2% ( 41.8%) | Wins: 20.0% | eps:  0.921\n",
      "  30 | 00:04:35 | Agent: -28.8% (-16.2%) | Market:  20.6% ( 15.4%) | Wins: 20.0% | eps:  0.881\n",
      "  40 | 00:07:54 | Agent: -24.6% (-12.0%) | Market:  21.2% ( 23.0%) | Wins: 22.5% | eps:  0.842\n",
      "  50 | 00:11:18 | Agent: -23.3% (-17.9%) | Market:  20.2% ( 16.4%) | Wins: 22.0% | eps:  0.802\n",
      "  60 | 00:14:49 | Agent: -24.7% (-32.0%) | Market:  24.5% ( 45.6%) | Wins: 21.7% | eps:  0.762\n",
      "  70 | 00:18:24 | Agent: -24.1% (-20.6%) | Market:  29.4% ( 59.3%) | Wins: 21.4% | eps:  0.723\n",
      "  80 | 00:22:03 | Agent: -25.2% (-32.7%) | Market:  27.6% ( 14.7%) | Wins: 21.2% | eps:  0.683\n",
      "  90 | 00:25:49 | Agent: -25.0% (-23.7%) | Market:  24.3% ( -2.1%) | Wins: 23.3% | eps:  0.644\n",
      " 100 | 00:29:37 | Agent: -25.3% (-28.0%) | Market:  24.0% ( 20.9%) | Wins: 23.0% | eps:  0.604\n",
      " 110 | 00:33:42 | Agent: -24.2% (-27.5%) | Market:  26.0% ( 25.0%) | Wins: 23.0% | eps:  0.564\n",
      " 120 | 00:37:46 | Agent: -24.6% (-35.9%) | Market:  29.9% ( 80.6%) | Wins: 24.0% | eps:  0.525\n",
      " 130 | 00:41:52 | Agent: -27.5% (-44.3%) | Market:  36.4% ( 80.3%) | Wins: 24.0% | eps:  0.485\n",
      " 140 | 00:46:06 | Agent: -27.6% (-13.6%) | Market:  35.4% ( 13.4%) | Wins: 25.0% | eps:  0.446\n",
      " 150 | 00:50:19 | Agent: -28.9% (-30.4%) | Market:  37.9% ( 41.0%) | Wins: 24.0% | eps:  0.406\n",
      " 160 | 00:54:30 | Agent: -27.5% (-18.2%) | Market:  34.9% ( 15.7%) | Wins: 27.0% | eps:  0.366\n",
      " 170 | 00:58:45 | Agent: -28.0% (-26.2%) | Market:  32.7% ( 37.8%) | Wins: 28.0% | eps:  0.327\n",
      " 180 | 01:03:07 | Agent: -28.7% (-39.6%) | Market:  37.6% ( 63.3%) | Wins: 28.0% | eps:  0.287\n",
      " 190 | 01:07:34 | Agent: -30.3% (-39.5%) | Market:  43.9% ( 61.3%) | Wins: 26.0% | eps:  0.248\n",
      " 200 | 01:12:07 | Agent: -30.6% (-31.3%) | Market:  43.9% ( 20.4%) | Wins: 27.0% | eps:  0.208\n",
      " 210 | 01:16:39 | Agent: -29.6% (-17.4%) | Market:  45.1% ( 37.2%) | Wins: 28.0% | eps:  0.168\n",
      " 220 | 01:21:17 | Agent: -28.4% (-23.4%) | Market:  41.2% ( 41.3%) | Wins: 29.0% | eps:  0.129\n",
      " 230 | 01:26:01 | Agent: -25.3% (-13.9%) | Market:  35.5% ( 24.2%) | Wins: 31.0% | eps:  0.089\n",
      " 240 | 01:30:51 | Agent: -25.1% (-11.7%) | Market:  32.7% (-14.7%) | Wins: 34.0% | eps:  0.050\n",
      " 250 | 01:35:44 | Agent: -25.1% (-30.1%) | Market:  31.5% ( 28.6%) | Wins: 36.0% | eps:  0.010\n",
      " 260 | 01:40:57 | Agent: -26.7% (-33.6%) | Market:  33.1% ( 31.6%) | Wins: 34.0% | eps:  0.009\n",
      " 270 | 01:46:21 | Agent: -26.6% (-25.4%) | Market:  31.5% ( 21.8%) | Wins: 35.0% | eps:  0.008\n",
      " 280 | 01:51:43 | Agent: -27.1% (-44.4%) | Market:  33.6% ( 84.3%) | Wins: 34.0% | eps:  0.007\n",
      " 290 | 01:56:58 | Agent: -24.5% (-13.9%) | Market:  28.4% (  9.6%) | Wins: 35.0% | eps:  0.007\n",
      " 300 | 02:02:16 | Agent: -24.5% (-31.7%) | Market:  31.0% ( 46.1%) | Wins: 34.0% | eps:  0.006\n",
      " 310 | 02:07:35 | Agent: -25.4% (-25.6%) | Market:  31.0% ( 36.7%) | Wins: 34.0% | eps:  0.005\n",
      " 320 | 02:12:51 | Agent: -26.2% (-31.6%) | Market:  30.9% ( 40.5%) | Wins: 32.0% | eps:  0.005\n",
      " 330 | 02:18:07 | Agent: -27.9% (-31.0%) | Market:  32.3% ( 38.6%) | Wins: 30.0% | eps:  0.004\n",
      " 340 | 02:23:25 | Agent: -30.5% (-38.1%) | Market:  41.8% ( 79.7%) | Wins: 25.0% | eps:  0.004\n",
      " 350 | 02:28:48 | Agent: -29.7% (-22.2%) | Market:  42.4% ( 35.0%) | Wins: 26.0% | eps:  0.004\n",
      " 360 | 02:34:15 | Agent: -27.7% (-13.1%) | Market:  39.9% (  6.4%) | Wins: 27.0% | eps:  0.003\n",
      " 370 | 02:39:44 | Agent: -27.8% (-26.7%) | Market:  40.8% ( 30.6%) | Wins: 26.0% | eps:  0.003\n",
      " 380 | 02:45:08 | Agent: -26.7% (-33.1%) | Market:  39.3% ( 69.3%) | Wins: 28.0% | eps:  0.003\n",
      " 390 | 02:50:34 | Agent: -28.7% (-34.2%) | Market:  42.6% ( 42.7%) | Wins: 28.0% | eps:  0.002\n",
      " 400 | 02:55:59 | Agent: -27.2% (-16.6%) | Market:  40.2% ( 22.7%) | Wins: 30.0% | eps:  0.002\n",
      " 410 | 03:01:29 | Agent: -28.9% (-42.8%) | Market:  42.3% ( 57.8%) | Wins: 28.0% | eps:  0.002\n",
      " 420 | 03:06:60 | Agent: -26.5% ( -7.7%) | Market:  38.6% (  2.7%) | Wins: 32.0% | eps:  0.002\n",
      " 430 | 03:12:30 | Agent: -25.8% (-23.3%) | Market:  36.7% ( 19.6%) | Wins: 32.0% | eps:  0.002\n",
      " 440 | 03:18:03 | Agent: -24.0% (-20.1%) | Market:  30.4% ( 17.3%) | Wins: 34.0% | eps:  0.001\n",
      " 450 | 03:23:35 | Agent: -25.2% (-34.7%) | Market:  31.8% ( 48.6%) | Wins: 32.0% | eps:  0.001\n",
      " 460 | 03:29:08 | Agent: -27.2% (-33.0%) | Market:  38.0% ( 68.8%) | Wins: 31.0% | eps:  0.001\n",
      " 470 | 03:34:41 | Agent: -26.7% (-21.2%) | Market:  37.1% ( 21.5%) | Wins: 31.0% | eps:  0.001\n",
      " 480 | 03:40:17 | Agent: -27.3% (-39.7%) | Market:  35.9% ( 56.9%) | Wins: 30.0% | eps:  0.001\n",
      " 490 | 03:45:54 | Agent: -24.9% ( -9.5%) | Market:  31.6% ( -0.1%) | Wins: 32.0% | eps:  0.001\n",
      " 500 | 03:51:30 | Agent: -26.1% (-29.1%) | Market:  32.3% ( 29.9%) | Wins: 31.0% | eps:  0.001\n",
      " 510 | 03:57:04 | Agent: -25.3% (-34.3%) | Market:  30.2% ( 36.8%) | Wins: 31.0% | eps:  0.001\n",
      " 520 | 04:02:40 | Agent: -27.2% (-27.1%) | Market:  32.8% ( 29.0%) | Wins: 29.0% | eps:  0.001\n",
      " 530 | 04:08:18 | Agent: -27.7% (-28.6%) | Market:  33.1% ( 22.4%) | Wins: 31.0% | eps:  0.001\n",
      " 540 | 04:13:55 | Agent: -28.3% (-25.7%) | Market:  33.1% ( 17.4%) | Wins: 31.0% | eps:  0.001\n",
      " 550 | 04:19:34 | Agent: -28.4% (-36.2%) | Market:  33.2% ( 49.0%) | Wins: 30.0% | eps:  0.000\n",
      " 560 | 04:25:12 | Agent: -27.2% (-20.4%) | Market:  29.9% ( 35.9%) | Wins: 30.0% | eps:  0.000\n",
      " 570 | 04:30:51 | Agent: -27.8% (-27.3%) | Market:  31.1% ( 34.2%) | Wins: 28.0% | eps:  0.000\n",
      " 580 | 04:36:31 | Agent: -27.4% (-35.6%) | Market:  33.4% ( 79.9%) | Wins: 28.0% | eps:  0.000\n",
      " 590 | 04:42:12 | Agent: -28.9% (-24.7%) | Market:  37.0% ( 35.8%) | Wins: 25.0% | eps:  0.000\n",
      " 600 | 04:47:55 | Agent: -29.8% (-37.6%) | Market:  39.2% ( 51.3%) | Wins: 24.0% | eps:  0.000\n",
      " 610 | 04:53:38 | Agent: -28.9% (-25.8%) | Market:  38.5% ( 29.6%) | Wins: 27.0% | eps:  0.000\n",
      " 620 | 04:59:24 | Agent: -29.2% (-30.1%) | Market:  39.6% ( 40.6%) | Wins: 25.0% | eps:  0.000\n",
      " 630 | 05:05:12 | Agent: -29.5% (-31.4%) | Market:  40.7% ( 33.5%) | Wins: 22.0% | eps:  0.000\n",
      " 640 | 05:10:59 | Agent: -30.8% (-38.8%) | Market:  44.5% ( 54.8%) | Wins: 19.0% | eps:  0.000\n",
      " 650 | 05:16:48 | Agent: -28.1% ( -9.1%) | Market:  40.2% (  6.4%) | Wins: 23.0% | eps:  0.000\n",
      " 660 | 05:22:37 | Agent: -28.1% (-20.9%) | Market:  38.9% ( 22.9%) | Wins: 22.0% | eps:  0.000\n",
      " 670 | 05:28:28 | Agent: -27.6% (-21.9%) | Market:  37.5% ( 20.2%) | Wins: 24.0% | eps:  0.000\n",
      " 680 | 05:34:19 | Agent: -26.0% (-19.9%) | Market:  31.2% ( 16.4%) | Wins: 26.0% | eps:  0.000\n",
      " 690 | 05:40:12 | Agent: -26.9% (-33.0%) | Market:  30.5% ( 29.1%) | Wins: 26.0% | eps:  0.000\n",
      " 700 | 05:46:05 | Agent: -25.3% (-21.7%) | Market:  27.8% ( 24.7%) | Wins: 27.0% | eps:  0.000\n",
      " 710 | 05:52:00 | Agent: -24.6% (-19.2%) | Market:  25.4% (  5.0%) | Wins: 25.0% | eps:  0.000\n",
      " 720 | 05:57:56 | Agent: -24.0% (-24.1%) | Market:  25.5% ( 41.7%) | Wins: 26.0% | eps:  0.000\n",
      " 730 | 06:03:52 | Agent: -23.0% (-21.6%) | Market:  26.5% ( 44.2%) | Wins: 31.0% | eps:  0.000\n",
      " 740 | 06:09:48 | Agent: -22.0% (-28.7%) | Market:  25.7% ( 46.5%) | Wins: 34.0% | eps:  0.000\n",
      " 750 | 06:15:34 | Agent: -23.9% (-28.2%) | Market:  28.4% ( 33.3%) | Wins: 31.0% | eps:  0.000\n",
      " 760 | 06:21:23 | Agent: -23.0% (-11.3%) | Market:  26.9% (  8.3%) | Wins: 32.0% | eps:  0.000\n",
      " 770 | 06:27:09 | Agent: -23.3% (-25.5%) | Market:  28.1% ( 31.9%) | Wins: 31.0% | eps:  0.000\n",
      " 780 | 06:32:51 | Agent: -22.7% (-13.2%) | Market:  28.0% ( 15.5%) | Wins: 32.0% | eps:  0.000\n",
      " 790 | 06:38:37 | Agent: -22.1% (-27.3%) | Market:  29.0% ( 38.5%) | Wins: 34.0% | eps:  0.000\n",
      " 800 | 06:44:27 | Agent: -23.1% (-31.5%) | Market:  29.3% ( 28.1%) | Wins: 32.0% | eps:  0.000\n",
      " 810 | 06:50:06 | Agent: -25.5% (-43.6%) | Market:  35.6% ( 67.6%) | Wins: 31.0% | eps:  0.000\n",
      " 820 | 06:55:45 | Agent: -25.5% (-24.4%) | Market:  34.7% ( 33.0%) | Wins: 31.0% | eps:  0.000\n",
      " 830 | 07:01:27 | Agent: -24.8% (-13.9%) | Market:  30.3% (  0.7%) | Wins: 29.0% | eps:  0.000\n",
      " 840 | 07:07:09 | Agent: -22.9% (-10.5%) | Market:  26.7% (  9.7%) | Wins: 31.0% | eps:  0.000\n",
      " 850 | 07:12:53 | Agent: -23.0% (-29.0%) | Market:  26.2% ( 28.5%) | Wins: 32.0% | eps:  0.000\n",
      " 860 | 07:18:37 | Agent: -24.4% (-25.3%) | Market:  27.7% ( 23.3%) | Wins: 32.0% | eps:  0.000\n",
      " 870 | 07:24:23 | Agent: -23.5% (-16.3%) | Market:  24.0% ( -4.8%) | Wins: 35.0% | eps:  0.000\n",
      " 880 | 07:30:09 | Agent: -22.6% ( -4.5%) | Market:  23.8% ( 13.1%) | Wins: 36.0% | eps:  0.000\n",
      " 890 | 07:35:56 | Agent: -23.7% (-37.6%) | Market:  22.2% ( 22.3%) | Wins: 33.0% | eps:  0.000\n",
      " 900 | 07:41:46 | Agent: -22.7% (-22.3%) | Market:  22.0% ( 26.5%) | Wins: 35.0% | eps:  0.000\n",
      " 910 | 07:47:35 | Agent: -18.5% ( -1.3%) | Market:  15.5% (  2.9%) | Wins: 40.0% | eps:  0.000\n",
      " 920 | 07:53:27 | Agent: -20.3% (-42.2%) | Market:  16.9% ( 46.4%) | Wins: 39.0% | eps:  0.000\n",
      " 930 | 07:59:19 | Agent: -19.7% ( -7.9%) | Market:  15.2% (-16.4%) | Wins: 41.0% | eps:  0.000\n",
      " 940 | 08:05:12 | Agent: -20.3% (-16.1%) | Market:  15.8% ( 15.7%) | Wins: 39.0% | eps:  0.000\n",
      " 950 | 08:11:07 | Agent: -19.9% (-25.1%) | Market:  17.2% ( 43.3%) | Wins: 41.0% | eps:  0.000\n",
      " 960 | 08:17:03 | Agent: -21.9% (-45.8%) | Market:  21.4% ( 65.3%) | Wins: 38.0% | eps:  0.000\n",
      " 970 | 08:22:59 | Agent: -21.0% ( -7.0%) | Market:  22.2% (  2.4%) | Wins: 39.0% | eps:  0.000\n",
      " 980 | 08:28:57 | Agent: -22.1% (-15.5%) | Market:  22.9% ( 20.5%) | Wins: 37.0% | eps:  0.000\n",
      " 990 | 08:34:56 | Agent: -19.5% (-11.9%) | Market:  19.9% ( -7.9%) | Wins: 41.0% | eps:  0.000\n",
      "1000 | 08:40:56 | Agent: -18.7% (-14.2%) | Market:  17.6% (  3.5%) | Wins: 42.0% | eps:  0.000\n"
     ]
    }
   ],
   "source": [
    "# Train Agent\n",
    "start = time()\n",
    "results = []\n",
    "for episode in range(1, max_episodes + 1):\n",
    "    this_state = trading_environment.reset()\n",
    "    for episode_step in range(max_episode_steps):\n",
    "        action = ddqn.epsilon_greedy_policy(this_state.reshape(-1, state_dim))\n",
    "        next_state, reward, done, _ = trading_environment.step(action)\n",
    "\n",
    "        ddqn.memorize_transition(this_state, action, reward, next_state, 0.0 if done else 1.0)\n",
    "        if ddqn.train:\n",
    "            ddqn.experience_replay()\n",
    "        if done:\n",
    "            break\n",
    "        this_state = next_state\n",
    "\n",
    "    # get DataFrame with seqence of actions, returns and nav values\n",
    "    result = trading_environment.env.simulator.result()\n",
    "\n",
    "    # get results of last step\n",
    "    final = result.iloc[-1]\n",
    "\n",
    "    # apply return (net of cost) of last action to last starting nav\n",
    "    nav = final.nav * (1 + final.strategy_return)\n",
    "    navs.append(nav)\n",
    "\n",
    "    # market nav\n",
    "    market_nav = final.market_nav\n",
    "    market_navs.append(market_nav)\n",
    "\n",
    "    # track difference between agent an market NAV results\n",
    "    diff = nav - market_nav\n",
    "    diffs.append(diff)\n",
    "\n",
    "    if episode % 10 == 0:\n",
    "        track_results(episode,\n",
    "                      # show mov. average results for 100 (10) periods\n",
    "                      np.mean(navs[-100:]), np.mean(navs[-10:]),\n",
    "                      np.mean(market_navs[-100:]), np.mean(market_navs[-10:]),\n",
    "                      # share of agent wins, defined as higher ending nav\n",
    "                      np.sum([s > 0 for s in diffs[-100:]])/min(len(diffs), 100), time() - start, ddqn.epsilon)\n",
    "    if len(diffs) > 25 and all([r > 0 for r in diffs[-25:]]):\n",
    "        print(result.tail())\n",
    "        break\n",
    "\n",
    "trading_environment.close()"
   ],
   "metadata": {
    "collapsed": false,
    "pycharm": {
     "name": "#%%\n"
    },
    "ExecuteTime": {
     "end_time": "2023-09-25T17:59:55.113064200Z",
     "start_time": "2023-09-25T09:18:59.356309Z"
    }
   }
  },
  {
   "cell_type": "code",
   "execution_count": 13,
   "outputs": [
    {
     "name": "stdout",
     "output_type": "stream",
     "text": [
      "<class 'pandas.core.frame.DataFrame'>\n",
      "Int64Index: 1000 entries, 1 to 1000\n",
      "Data columns (total 4 columns):\n",
      " #   Column             Non-Null Count  Dtype  \n",
      "---  ------             --------------  -----  \n",
      " 0   Agent              1000 non-null   float64\n",
      " 1   Market             1000 non-null   float64\n",
      " 2   Difference         1000 non-null   float64\n",
      " 3   Strategy Wins (%)  901 non-null    float64\n",
      "dtypes: float64(4)\n",
      "memory usage: 39.1 KB\n"
     ]
    }
   ],
   "source": [
    "# Store Results\n",
    "results = pd.DataFrame({'Episode': list(range(1, episode+1)), 'Agent': navs, 'Market': market_navs,\n",
    "                        'Difference': diffs}).set_index('Episode')\n",
    "\n",
    "results['Strategy Wins (%)'] = (results.Difference > 0).rolling(100).sum()\n",
    "results.info()"
   ],
   "metadata": {
    "collapsed": false,
    "pycharm": {
     "name": "#%%\n"
    },
    "ExecuteTime": {
     "end_time": "2023-09-25T17:59:56.714223900Z",
     "start_time": "2023-09-25T17:59:55.128026Z"
    }
   }
  },
  {
   "cell_type": "code",
   "execution_count": 14,
   "outputs": [],
   "source": [
    "results.to_csv(results_path / 'results.csv', index=False)"
   ],
   "metadata": {
    "collapsed": false,
    "pycharm": {
     "name": "#%%\n"
    },
    "ExecuteTime": {
     "end_time": "2023-09-25T17:59:56.802989900Z",
     "start_time": "2023-09-25T17:59:56.712229Z"
    }
   }
  },
  {
   "cell_type": "code",
   "execution_count": 15,
   "outputs": [
    {
     "data": {
      "text/plain": "<Figure size 432x288 with 1 Axes>",
      "image/png": "[encoded data removed]"
     },
     "metadata": {},
     "output_type": "display_data"
    }
   ],
   "source": [
    "with sns.axes_style('white'):\n",
    "    sns.distplot(results.Difference)\n",
    "    sns.despine()"
   ],
   "metadata": {
    "collapsed": false,
    "pycharm": {
     "name": "#%%\n"
    },
    "ExecuteTime": {
     "end_time": "2023-09-25T17:59:58.583862800Z",
     "start_time": "2023-09-25T17:59:56.806975900Z"
    }
   }
  },
  {
   "cell_type": "code",
   "execution_count": 16,
   "outputs": [
    {
     "name": "stdout",
     "output_type": "stream",
     "text": [
      "<class 'pandas.core.frame.DataFrame'>\n",
      "Int64Index: 1000 entries, 1 to 1000\n",
      "Data columns (total 4 columns):\n",
      " #   Column             Non-Null Count  Dtype  \n",
      "---  ------             --------------  -----  \n",
      " 0   Agent              1000 non-null   float64\n",
      " 1   Market             1000 non-null   float64\n",
      " 2   Difference         1000 non-null   float64\n",
      " 3   Strategy Wins (%)  901 non-null    float64\n",
      "dtypes: float64(4)\n",
      "memory usage: 39.1 KB\n"
     ]
    }
   ],
   "source": [
    "# Evaluate Results\n",
    "results.info()"
   ],
   "metadata": {
    "collapsed": false,
    "pycharm": {
     "name": "#%%\n"
    },
    "ExecuteTime": {
     "end_time": "2023-09-25T17:59:58.596834700Z",
     "start_time": "2023-09-25T17:59:58.583862800Z"
    }
   }
  },
  {
   "cell_type": "code",
   "execution_count": 17,
   "outputs": [
    {
     "data": {
      "text/plain": "<Figure size 1296x720 with 2 Axes>",
      "image/png": "[encoded data removed]"
     },
     "metadata": {},
     "output_type": "display_data"
    }
   ],
   "source": [
    "fig, axes = plt.subplots(ncols=2, figsize=(18, 10), sharey=True)\n",
    "\n",
    "df1 = (results[['Agent', 'Market']].sub(1).rolling(100).mean())\n",
    "df1.plot(ax=axes[0], title='Annual Returns (Moving Average)', lw=1)\n",
    "\n",
    "df2 = results['Strategy Wins (%)'].div(100).rolling(50).mean()\n",
    "df2.plot(ax=axes[1], title='Agent Outperformance (%, Moving Average)')\n",
    "\n",
    "for ax in axes:\n",
    "    ax.yaxis.set_major_formatter(FuncFormatter(lambda y, _: '{:.0%}'.format(y)))\n",
    "    ax.xaxis.set_major_formatter(FuncFormatter(lambda x, _: '{:,.0f}'.format(x)))\n",
    "axes[1].axhline(.5, ls='--', c='k', lw=1)\n",
    "\n",
    "sns.despine()\n",
    "fig.tight_layout()\n",
    "fig.savefig(results_path / 'performance', dpi=300)"
   ],
   "metadata": {
    "collapsed": false,
    "pycharm": {
     "name": "#%%\n"
    },
    "ExecuteTime": {
     "end_time": "2023-09-25T17:59:59.823638800Z",
     "start_time": "2023-09-25T17:59:58.588856100Z"
    }
   }
  }
 ],
 "metadata": {
  "kernelspec": {
   "display_name": "Python 3",
   "language": "python",
   "name": "python3"
  },
  "language_info": {
   "codemirror_mode": {
    "name": "ipython",
    "version": 2
   },
   "file_extension": ".py",
   "mimetype": "text/x-python",
   "name": "python",
   "nbconvert_exporter": "python",
   "pygments_lexer": "ipython2",
   "version": "2.7.6"
  }
 },
 "nbformat": 4,
 "nbformat_minor": 0
}
