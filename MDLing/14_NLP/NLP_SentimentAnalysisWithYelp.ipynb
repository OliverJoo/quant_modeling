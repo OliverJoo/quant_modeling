{
 "cells": [
  {
   "cell_type": "code",
   "execution_count": 42,
   "metadata": {
    "collapsed": true,
    "pycharm": {
     "name": "#%%\n"
    }
   },
   "outputs": [],
   "source": [
    "import warnings\n",
    "warnings.filterwarnings('ignore')\n",
    "%matplotlib inline\n",
    "\n",
    "from pathlib import Path\n",
    "import json\n",
    "from time import time\n",
    "\n",
    "import numpy as np\n",
    "import pandas as pd\n",
    "\n",
    "from scipy import sparse\n",
    "\n",
    "# spacy, textblob and nltk for language processing\n",
    "from textblob import TextBlob\n",
    "\n",
    "# sklearn for feature extraction & modeling\n",
    "from sklearn.feature_extraction.text import CountVectorizer\n",
    "from sklearn.naive_bayes import MultinomialNB\n",
    "from sklearn.linear_model import LogisticRegression\n",
    "from sklearn.metrics import accuracy_score, confusion_matrix\n",
    "import joblib\n",
    "\n",
    "import lightgbm as lgb\n",
    "\n",
    "# Visualization\n",
    "import matplotlib.pyplot as plt\n",
    "import seaborn as sns\n",
    "sns.set_style('white')\n",
    "np.random.seed(42)"
   ]
  },
  {
   "cell_type": "code",
   "execution_count": 102,
   "outputs": [
    {
     "name": "stdout",
     "output_type": "stream",
     "text": [
      "<class 'pandas.core.frame.DataFrame'>\n",
      "Int64Index: 3495140 entries, 0 to 3495139\n",
      "Data columns (total 25 columns):\n",
      " #   Column              Non-Null Count    Dtype  \n",
      "---  ------              --------------    -----  \n",
      " 0   stars               3495140 non-null  float64\n",
      " 1   useful              3495140 non-null  int64  \n",
      " 2   funny               3495140 non-null  int64  \n",
      " 3   cool                3495140 non-null  int64  \n",
      " 4   text                3495140 non-null  object \n",
      " 5   year                3495140 non-null  int64  \n",
      " 6   month               3495140 non-null  int64  \n",
      " 7   review_count        3152850 non-null  float64\n",
      " 8   useful_user         3152850 non-null  float64\n",
      " 9   funny_user          3152850 non-null  float64\n",
      " 10  cool_user           3152850 non-null  float64\n",
      " 11  fans                3152850 non-null  float64\n",
      " 12  average_stars       3152850 non-null  float64\n",
      " 13  compliment_hot      3152850 non-null  float64\n",
      " 14  compliment_more     3152850 non-null  float64\n",
      " 15  compliment_profile  3152850 non-null  float64\n",
      " 16  compliment_cute     3152850 non-null  float64\n",
      " 17  compliment_list     3152850 non-null  float64\n",
      " 18  compliment_note     3152850 non-null  float64\n",
      " 19  compliment_plain    3152850 non-null  float64\n",
      " 20  compliment_cool     3152850 non-null  float64\n",
      " 21  compliment_funny    3152850 non-null  float64\n",
      " 22  compliment_writer   3152850 non-null  float64\n",
      " 23  compliment_photos   3152850 non-null  float64\n",
      " 24  member_yrs          3152850 non-null  float64\n",
      "dtypes: float64(19), int64(5), object(1)\n",
      "memory usage: 693.3+ MB\n"
     ]
    }
   ],
   "source": [
    "pd.reset_option('max_colwidth')\n",
    "\n",
    "data_dir = Path('data', 'yelp')\n",
    "yelp_reviews = pd.read_parquet(data_dir / 'user_reviews.parquet')\n",
    "yelp_reviews.info(null_counts=True)"
   ],
   "metadata": {
    "collapsed": false,
    "pycharm": {
     "name": "#%%\n"
    }
   }
  },
  {
   "cell_type": "code",
   "execution_count": 44,
   "outputs": [
    {
     "data": {
      "text/plain": "         stars  useful  funny  cool  \\\n525305     4.0       1      0     0   \n65915      4.0       0      0     0   \n2579520    5.0       0      0     0   \n647056     1.0       3      0     0   \n951223     5.0       4      0     2   \n\n                                                      text  year  month  \\\n525305   Stopped in for breakfast. Great atmosphere and...  2019      9   \n65915    Absolutely fantastic place - we came here at 5...  2015      1   \n2579520  Amazing!!! We travel the US and love trying ne...  2021      3   \n647056   These people are scam artists.  Read the revie...  2017      8   \n951223   Finally a decent margarita! I can't testify to...  2017      6   \n\n         review_count  useful_user  funny_user  ...  compliment_profile  \\\n525305           26.0         14.0         3.0  ...                 1.0   \n65915            94.0        259.0        22.0  ...                 0.0   \n2579520           NaN          NaN         NaN  ...                 NaN   \n647056            2.0          3.0         0.0  ...                 0.0   \n951223          453.0       1815.0       504.0  ...                 1.0   \n\n         compliment_cute  compliment_list  compliment_note  compliment_plain  \\\n525305               0.0              0.0              1.0               1.0   \n65915                0.0              0.0              4.0               1.0   \n2579520              NaN              NaN              NaN               NaN   \n647056               0.0              0.0              0.0               0.0   \n951223               1.0              0.0             26.0              45.0   \n\n         compliment_cool  compliment_funny  compliment_writer  \\\n525305               2.0               2.0                2.0   \n65915                3.0               3.0                3.0   \n2579520              NaN               NaN                NaN   \n647056               0.0               0.0                0.0   \n951223              59.0              59.0               49.0   \n\n         compliment_photos  member_yrs  \n525305                 0.0         7.0  \n65915                  0.0        11.0  \n2579520                NaN         NaN  \n647056                 0.0         6.0  \n951223                50.0         6.0  \n\n[5 rows x 25 columns]",
      "text/html": "<div>\n<style scoped>\n    .dataframe tbody tr th:only-of-type {\n        vertical-align: middle;\n    }\n\n    .dataframe tbody tr th {\n        vertical-align: top;\n    }\n\n    .dataframe thead th {\n        text-align: right;\n    }\n</style>\n<table border=\"1\" class=\"dataframe\">\n  <thead>\n    <tr style=\"text-align: right;\">\n      <th></th>\n      <th>stars</th>\n      <th>useful</th>\n      <th>funny</th>\n      <th>cool</th>\n      <th>text</th>\n      <th>year</th>\n      <th>month</th>\n      <th>review_count</th>\n      <th>useful_user</th>\n      <th>funny_user</th>\n      <th>...</th>\n      <th>compliment_profile</th>\n      <th>compliment_cute</th>\n      <th>compliment_list</th>\n      <th>compliment_note</th>\n      <th>compliment_plain</th>\n      <th>compliment_cool</th>\n      <th>compliment_funny</th>\n      <th>compliment_writer</th>\n      <th>compliment_photos</th>\n      <th>member_yrs</th>\n    </tr>\n  </thead>\n  <tbody>\n    <tr>\n      <th>525305</th>\n      <td>4.0</td>\n      <td>1</td>\n      <td>0</td>\n      <td>0</td>\n      <td>Stopped in for breakfast. Great atmosphere and...</td>\n      <td>2019</td>\n      <td>9</td>\n      <td>26.0</td>\n      <td>14.0</td>\n      <td>3.0</td>\n      <td>...</td>\n      <td>1.0</td>\n      <td>0.0</td>\n      <td>0.0</td>\n      <td>1.0</td>\n      <td>1.0</td>\n      <td>2.0</td>\n      <td>2.0</td>\n      <td>2.0</td>\n      <td>0.0</td>\n      <td>7.0</td>\n    </tr>\n    <tr>\n      <th>65915</th>\n      <td>4.0</td>\n      <td>0</td>\n      <td>0</td>\n      <td>0</td>\n      <td>Absolutely fantastic place - we came here at 5...</td>\n      <td>2015</td>\n      <td>1</td>\n      <td>94.0</td>\n      <td>259.0</td>\n      <td>22.0</td>\n      <td>...</td>\n      <td>0.0</td>\n      <td>0.0</td>\n      <td>0.0</td>\n      <td>4.0</td>\n      <td>1.0</td>\n      <td>3.0</td>\n      <td>3.0</td>\n      <td>3.0</td>\n      <td>0.0</td>\n      <td>11.0</td>\n    </tr>\n    <tr>\n      <th>2579520</th>\n      <td>5.0</td>\n      <td>0</td>\n      <td>0</td>\n      <td>0</td>\n      <td>Amazing!!! We travel the US and love trying ne...</td>\n      <td>2021</td>\n      <td>3</td>\n      <td>NaN</td>\n      <td>NaN</td>\n      <td>NaN</td>\n      <td>...</td>\n      <td>NaN</td>\n      <td>NaN</td>\n      <td>NaN</td>\n      <td>NaN</td>\n      <td>NaN</td>\n      <td>NaN</td>\n      <td>NaN</td>\n      <td>NaN</td>\n      <td>NaN</td>\n      <td>NaN</td>\n    </tr>\n    <tr>\n      <th>647056</th>\n      <td>1.0</td>\n      <td>3</td>\n      <td>0</td>\n      <td>0</td>\n      <td>These people are scam artists.  Read the revie...</td>\n      <td>2017</td>\n      <td>8</td>\n      <td>2.0</td>\n      <td>3.0</td>\n      <td>0.0</td>\n      <td>...</td>\n      <td>0.0</td>\n      <td>0.0</td>\n      <td>0.0</td>\n      <td>0.0</td>\n      <td>0.0</td>\n      <td>0.0</td>\n      <td>0.0</td>\n      <td>0.0</td>\n      <td>0.0</td>\n      <td>6.0</td>\n    </tr>\n    <tr>\n      <th>951223</th>\n      <td>5.0</td>\n      <td>4</td>\n      <td>0</td>\n      <td>2</td>\n      <td>Finally a decent margarita! I can't testify to...</td>\n      <td>2017</td>\n      <td>6</td>\n      <td>453.0</td>\n      <td>1815.0</td>\n      <td>504.0</td>\n      <td>...</td>\n      <td>1.0</td>\n      <td>1.0</td>\n      <td>0.0</td>\n      <td>26.0</td>\n      <td>45.0</td>\n      <td>59.0</td>\n      <td>59.0</td>\n      <td>49.0</td>\n      <td>50.0</td>\n      <td>6.0</td>\n    </tr>\n  </tbody>\n</table>\n<p>5 rows × 25 columns</p>\n</div>"
     },
     "execution_count": 44,
     "metadata": {},
     "output_type": "execute_result"
    }
   ],
   "source": [
    "yelp_reviews.sample(5)"
   ],
   "metadata": {
    "collapsed": false,
    "pycharm": {
     "name": "#%%\n"
    }
   }
  },
  {
   "cell_type": "code",
   "execution_count": 45,
   "outputs": [],
   "source": [
    "yelp_dir = Path('results', 'yelp')\n",
    "\n",
    "text_features_dir = yelp_dir / 'data'\n",
    "if not text_features_dir.exists():\n",
    "    text_features_dir.mkdir(exist_ok=True, parents=True)"
   ],
   "metadata": {
    "collapsed": false,
    "pycharm": {
     "name": "#%%\n"
    }
   }
  },
  {
   "cell_type": "code",
   "execution_count": 46,
   "outputs": [
    {
     "data": {
      "text/plain": "<Figure size 1296x576 with 3 Axes>",
      "image/png": "[encoded data removed]"
     },
     "metadata": {},
     "output_type": "display_data"
    }
   ],
   "source": [
    "# Reviews & Stars by Year\n",
    "fig, axes = plt.subplots(ncols=3, figsize=(18, 8))\n",
    "yelp_reviews.year.value_counts().sort_index().plot.bar(title='Reviews per Year', ax=axes[0], rot=0);\n",
    "sns.lineplot(x='year', y='stars', data=yelp_reviews, ax=axes[1])\n",
    "axes[1].set_title('Stars per year')\n",
    "\n",
    "stars_dist = yelp_reviews.stars.value_counts(normalize=True).sort_index().mul(100)\n",
    "stars_dist.index = stars_dist.index.astype(int)\n",
    "stars_dist.plot.barh(title='# Stars Breakdown', ax=axes[2])\n",
    "axes[2].set_xlabel('Share of all Ratings (%)')\n",
    "axes[2].set_ylabel('Number of Stars');\n",
    "\n",
    "sns.despine()\n",
    "fig.tight_layout();\n",
    "# since the limited memory, the below graphs exhibits half of the data collected\n",
    "# (totally 6 million reviews collected. 3 million reviews used here)"
   ],
   "metadata": {
    "collapsed": false,
    "pycharm": {
     "name": "#%%\n"
    }
   }
  },
  {
   "cell_type": "code",
   "execution_count": 47,
   "outputs": [
    {
     "data": {
      "text/plain": "<Figure size 432x288 with 1 Axes>",
      "image/png": "[encoded data removed]"
     },
     "metadata": {},
     "output_type": "display_data"
    }
   ],
   "source": [
    "# Years of Membership Breakdown\n",
    "ax = yelp_reviews.member_yrs.value_counts().div(1000).sort_index().plot.bar(title='Years of Membership', rot=0)\n",
    "ax.set_xlabel('Number of Years')\n",
    "ax.set_ylabel(\"Number of Members  ('000)\")\n",
    "sns.despine()\n",
    "plt.tight_layout()"
   ],
   "metadata": {
    "collapsed": false,
    "pycharm": {
     "name": "#%%\n"
    }
   }
  },
  {
   "cell_type": "code",
   "execution_count": 48,
   "outputs": [
    {
     "name": "stdout",
     "output_type": "stream",
     "text": [
      "# Training Obs: 611,406 | # Test Obs: 452,065\n"
     ]
    }
   ],
   "source": [
    "# Create train-test split\n",
    "train = yelp_reviews[yelp_reviews.year < 2019].sample(frac=.25)\n",
    "test = yelp_reviews[yelp_reviews.year == 2019]\n",
    "print(f'# Training Obs: {len(train):,.0f} | # Test Obs: {len(test):,.0f}')"
   ],
   "metadata": {
    "collapsed": false,
    "pycharm": {
     "name": "#%%\n"
    }
   }
  },
  {
   "cell_type": "code",
   "execution_count": 49,
   "outputs": [],
   "source": [
    "# train.to_parquet(text_features_dir / 'train.parquet')\n",
    "# test.to_parquet(text_features_dir / 'test.parquet')\n",
    "del yelp_reviews"
   ],
   "metadata": {
    "collapsed": false,
    "pycharm": {
     "name": "#%%\n"
    }
   }
  },
  {
   "cell_type": "code",
   "execution_count": 50,
   "outputs": [],
   "source": [
    "# Reload stored data\n",
    "train = pd.read_parquet(text_features_dir / 'train.parquet')\n",
    "test = pd.read_parquet(text_features_dir / 'test.parquet')"
   ],
   "metadata": {
    "collapsed": false,
    "pycharm": {
     "name": "#%%\n"
    }
   }
  },
  {
   "cell_type": "code",
   "execution_count": 51,
   "outputs": [
    {
     "data": {
      "text/plain": "<611406x10000 sparse matrix of type '<class 'numpy.int64'>'\n\twith 27068040 stored elements in Compressed Sparse Row format>"
     },
     "execution_count": 51,
     "metadata": {},
     "output_type": "execute_result"
    }
   ],
   "source": [
    "# Create Yelp review document-term matrix\n",
    "vectorizer = CountVectorizer(stop_words='english', ngram_range=(1, 2), max_features=10000)\n",
    "train_dtm = vectorizer.fit_transform(train.text)\n",
    "\n",
    "# sparse.save_npz(text_features_dir / 'train_dtm', train_dtm)\n",
    "test_dtm = vectorizer.transform(test.text)\n",
    "# sparse.save_npz(text_features_dir / 'test_dtm', test_dtm)\n",
    "\n",
    "train_dtm"
   ],
   "metadata": {
    "collapsed": false,
    "pycharm": {
     "name": "#%%\n"
    }
   }
  },
  {
   "cell_type": "code",
   "execution_count": 52,
   "outputs": [],
   "source": [
    "# Reload stored data\n",
    "train_dtm = sparse.load_npz(text_features_dir / 'train_dtm.npz')\n",
    "test_dtm = sparse.load_npz(text_features_dir / 'test_dtm.npz')"
   ],
   "metadata": {
    "collapsed": false,
    "pycharm": {
     "name": "#%%\n"
    }
   }
  },
  {
   "cell_type": "code",
   "execution_count": 53,
   "outputs": [
    {
     "name": "stdout",
     "output_type": "stream",
     "text": [
      "<class 'pandas.core.frame.DataFrame'>\n",
      "Int64Index: 1063471 entries, 404137 to 3489775\n",
      "Data columns (total 24 columns):\n",
      " #   Column              Non-Null Count    Dtype  \n",
      "---  ------              --------------    -----  \n",
      " 0   useful              1063471 non-null  int64  \n",
      " 1   funny               1063471 non-null  int64  \n",
      " 2   cool                1063471 non-null  int64  \n",
      " 3   review_count        953817 non-null   float64\n",
      " 4   useful_user         953817 non-null   float64\n",
      " 5   funny_user          953817 non-null   float64\n",
      " 6   cool_user           953817 non-null   float64\n",
      " 7   fans                953817 non-null   float64\n",
      " 8   average_stars       953817 non-null   float64\n",
      " 9   compliment_hot      953817 non-null   float64\n",
      " 10  compliment_more     953817 non-null   float64\n",
      " 11  compliment_profile  953817 non-null   float64\n",
      " 12  compliment_cute     953817 non-null   float64\n",
      " 13  compliment_list     953817 non-null   float64\n",
      " 14  compliment_note     953817 non-null   float64\n",
      " 15  compliment_plain    953817 non-null   float64\n",
      " 16  compliment_cool     953817 non-null   float64\n",
      " 17  compliment_funny    953817 non-null   float64\n",
      " 18  compliment_writer   953817 non-null   float64\n",
      " 19  compliment_photos   953817 non-null   float64\n",
      " 20  year                1063471 non-null  int64  \n",
      " 21  month               1063471 non-null  int64  \n",
      " 22  member_yrs          953817 non-null   float64\n",
      " 23  source              1063471 non-null  object \n",
      "dtypes: float64(18), int64(5), object(1)\n",
      "memory usage: 202.8+ MB\n"
     ]
    }
   ],
   "source": [
    "# One-hot-encoding\n",
    "df = pd.concat([train.drop(['text', 'stars'], axis=1).assign(source='train'),\n",
    "                test.drop(['text', 'stars'], axis=1).assign(source='test')])\n",
    "uniques = df.nunique()\n",
    "binned = pd.concat([(df.loc[:, uniques[uniques > 20].index]\n",
    "                     .apply(pd.qcut, q=10, labels=False, duplicates='drop')),\n",
    "                    df.loc[:, uniques[uniques <= 20].index]], axis=1)\n",
    "binned.info(null_counts=True)"
   ],
   "metadata": {
    "collapsed": false,
    "pycharm": {
     "name": "#%%\n"
    }
   }
  },
  {
   "cell_type": "code",
   "execution_count": 73,
   "outputs": [
    {
     "data": {
      "text/plain": "         useful  funny  cool  review_count  useful_user  funny_user  \\\n2577527       1      0     0           2.0          3.0         1.0   \n1653326       0      0     0           6.0          7.0         5.0   \n234787        0      0     0           8.0          8.0         6.0   \n339915        2      0     0           9.0          9.0         7.0   \n5799          0      0     0           2.0          1.0         0.0   \n3391591       2      0     0           1.0          1.0         0.0   \n3151484       0      0     0           NaN          NaN         NaN   \n235535        0      0     0           6.0          6.0         4.0   \n2419142       3      0     0           8.0          7.0         5.0   \n1860017       0      0     0           8.0          7.0         5.0   \n\n         cool_user  fans  average_stars  compliment_hot  ...  compliment_note  \\\n2577527        0.0   0.0            0.0             0.0  ...              0.0   \n1653326        5.0   2.0            4.0             1.0  ...              1.0   \n234787         6.0   3.0            9.0             2.0  ...              3.0   \n339915         7.0   4.0            4.0             3.0  ...              4.0   \n5799           1.0   0.0            7.0             0.0  ...              0.0   \n3391591        0.0   0.0            1.0             0.0  ...              0.0   \n3151484        NaN   NaN            NaN             NaN  ...              NaN   \n235535         3.0   0.0            2.0             0.0  ...              1.0   \n2419142        5.0   2.0            4.0             0.0  ...              0.0   \n1860017        5.0   0.0            8.0             0.0  ...              0.0   \n\n         compliment_plain  compliment_cool  compliment_funny  \\\n2577527               0.0              0.0               0.0   \n1653326               0.0              2.0               2.0   \n234787                4.0              3.0               3.0   \n339915                4.0              4.0               4.0   \n5799                  0.0              0.0               0.0   \n3391591               0.0              0.0               0.0   \n3151484               NaN              NaN               NaN   \n235535                0.0              0.0               0.0   \n2419142               0.0              0.0               0.0   \n1860017               0.0              0.0               0.0   \n\n         compliment_writer  compliment_photos  year  month  member_yrs  source  \n2577527                0.0                0.0  2019      5         9.0    test  \n1653326                2.0                0.0  2007      8        14.0   train  \n234787                 2.0                2.0  2018      5         5.0   train  \n339915                 3.0                2.0  2012      5        11.0   train  \n5799                   0.0                0.0  2017      7         4.0   train  \n3391591                0.0                0.0  2019     11         2.0    test  \n3151484                NaN                NaN  2014      3         NaN   train  \n235535                 0.0                0.0  2017      3         9.0   train  \n2419142                2.0                0.0  2016      1        13.0   train  \n1860017                0.0                0.0  2019     12         8.0    test  \n\n[10 rows x 24 columns]",
      "text/html": "<div>\n<style scoped>\n    .dataframe tbody tr th:only-of-type {\n        vertical-align: middle;\n    }\n\n    .dataframe tbody tr th {\n        vertical-align: top;\n    }\n\n    .dataframe thead th {\n        text-align: right;\n    }\n</style>\n<table border=\"1\" class=\"dataframe\">\n  <thead>\n    <tr style=\"text-align: right;\">\n      <th></th>\n      <th>useful</th>\n      <th>funny</th>\n      <th>cool</th>\n      <th>review_count</th>\n      <th>useful_user</th>\n      <th>funny_user</th>\n      <th>cool_user</th>\n      <th>fans</th>\n      <th>average_stars</th>\n      <th>compliment_hot</th>\n      <th>...</th>\n      <th>compliment_note</th>\n      <th>compliment_plain</th>\n      <th>compliment_cool</th>\n      <th>compliment_funny</th>\n      <th>compliment_writer</th>\n      <th>compliment_photos</th>\n      <th>year</th>\n      <th>month</th>\n      <th>member_yrs</th>\n      <th>source</th>\n    </tr>\n  </thead>\n  <tbody>\n    <tr>\n      <th>2577527</th>\n      <td>1</td>\n      <td>0</td>\n      <td>0</td>\n      <td>2.0</td>\n      <td>3.0</td>\n      <td>1.0</td>\n      <td>0.0</td>\n      <td>0.0</td>\n      <td>0.0</td>\n      <td>0.0</td>\n      <td>...</td>\n      <td>0.0</td>\n      <td>0.0</td>\n      <td>0.0</td>\n      <td>0.0</td>\n      <td>0.0</td>\n      <td>0.0</td>\n      <td>2019</td>\n      <td>5</td>\n      <td>9.0</td>\n      <td>test</td>\n    </tr>\n    <tr>\n      <th>1653326</th>\n      <td>0</td>\n      <td>0</td>\n      <td>0</td>\n      <td>6.0</td>\n      <td>7.0</td>\n      <td>5.0</td>\n      <td>5.0</td>\n      <td>2.0</td>\n      <td>4.0</td>\n      <td>1.0</td>\n      <td>...</td>\n      <td>1.0</td>\n      <td>0.0</td>\n      <td>2.0</td>\n      <td>2.0</td>\n      <td>2.0</td>\n      <td>0.0</td>\n      <td>2007</td>\n      <td>8</td>\n      <td>14.0</td>\n      <td>train</td>\n    </tr>\n    <tr>\n      <th>234787</th>\n      <td>0</td>\n      <td>0</td>\n      <td>0</td>\n      <td>8.0</td>\n      <td>8.0</td>\n      <td>6.0</td>\n      <td>6.0</td>\n      <td>3.0</td>\n      <td>9.0</td>\n      <td>2.0</td>\n      <td>...</td>\n      <td>3.0</td>\n      <td>4.0</td>\n      <td>3.0</td>\n      <td>3.0</td>\n      <td>2.0</td>\n      <td>2.0</td>\n      <td>2018</td>\n      <td>5</td>\n      <td>5.0</td>\n      <td>train</td>\n    </tr>\n    <tr>\n      <th>339915</th>\n      <td>2</td>\n      <td>0</td>\n      <td>0</td>\n      <td>9.0</td>\n      <td>9.0</td>\n      <td>7.0</td>\n      <td>7.0</td>\n      <td>4.0</td>\n      <td>4.0</td>\n      <td>3.0</td>\n      <td>...</td>\n      <td>4.0</td>\n      <td>4.0</td>\n      <td>4.0</td>\n      <td>4.0</td>\n      <td>3.0</td>\n      <td>2.0</td>\n      <td>2012</td>\n      <td>5</td>\n      <td>11.0</td>\n      <td>train</td>\n    </tr>\n    <tr>\n      <th>5799</th>\n      <td>0</td>\n      <td>0</td>\n      <td>0</td>\n      <td>2.0</td>\n      <td>1.0</td>\n      <td>0.0</td>\n      <td>1.0</td>\n      <td>0.0</td>\n      <td>7.0</td>\n      <td>0.0</td>\n      <td>...</td>\n      <td>0.0</td>\n      <td>0.0</td>\n      <td>0.0</td>\n      <td>0.0</td>\n      <td>0.0</td>\n      <td>0.0</td>\n      <td>2017</td>\n      <td>7</td>\n      <td>4.0</td>\n      <td>train</td>\n    </tr>\n    <tr>\n      <th>3391591</th>\n      <td>2</td>\n      <td>0</td>\n      <td>0</td>\n      <td>1.0</td>\n      <td>1.0</td>\n      <td>0.0</td>\n      <td>0.0</td>\n      <td>0.0</td>\n      <td>1.0</td>\n      <td>0.0</td>\n      <td>...</td>\n      <td>0.0</td>\n      <td>0.0</td>\n      <td>0.0</td>\n      <td>0.0</td>\n      <td>0.0</td>\n      <td>0.0</td>\n      <td>2019</td>\n      <td>11</td>\n      <td>2.0</td>\n      <td>test</td>\n    </tr>\n    <tr>\n      <th>3151484</th>\n      <td>0</td>\n      <td>0</td>\n      <td>0</td>\n      <td>NaN</td>\n      <td>NaN</td>\n      <td>NaN</td>\n      <td>NaN</td>\n      <td>NaN</td>\n      <td>NaN</td>\n      <td>NaN</td>\n      <td>...</td>\n      <td>NaN</td>\n      <td>NaN</td>\n      <td>NaN</td>\n      <td>NaN</td>\n      <td>NaN</td>\n      <td>NaN</td>\n      <td>2014</td>\n      <td>3</td>\n      <td>NaN</td>\n      <td>train</td>\n    </tr>\n    <tr>\n      <th>235535</th>\n      <td>0</td>\n      <td>0</td>\n      <td>0</td>\n      <td>6.0</td>\n      <td>6.0</td>\n      <td>4.0</td>\n      <td>3.0</td>\n      <td>0.0</td>\n      <td>2.0</td>\n      <td>0.0</td>\n      <td>...</td>\n      <td>1.0</td>\n      <td>0.0</td>\n      <td>0.0</td>\n      <td>0.0</td>\n      <td>0.0</td>\n      <td>0.0</td>\n      <td>2017</td>\n      <td>3</td>\n      <td>9.0</td>\n      <td>train</td>\n    </tr>\n    <tr>\n      <th>2419142</th>\n      <td>3</td>\n      <td>0</td>\n      <td>0</td>\n      <td>8.0</td>\n      <td>7.0</td>\n      <td>5.0</td>\n      <td>5.0</td>\n      <td>2.0</td>\n      <td>4.0</td>\n      <td>0.0</td>\n      <td>...</td>\n      <td>0.0</td>\n      <td>0.0</td>\n      <td>0.0</td>\n      <td>0.0</td>\n      <td>2.0</td>\n      <td>0.0</td>\n      <td>2016</td>\n      <td>1</td>\n      <td>13.0</td>\n      <td>train</td>\n    </tr>\n    <tr>\n      <th>1860017</th>\n      <td>0</td>\n      <td>0</td>\n      <td>0</td>\n      <td>8.0</td>\n      <td>7.0</td>\n      <td>5.0</td>\n      <td>5.0</td>\n      <td>0.0</td>\n      <td>8.0</td>\n      <td>0.0</td>\n      <td>...</td>\n      <td>0.0</td>\n      <td>0.0</td>\n      <td>0.0</td>\n      <td>0.0</td>\n      <td>0.0</td>\n      <td>0.0</td>\n      <td>2019</td>\n      <td>12</td>\n      <td>8.0</td>\n      <td>test</td>\n    </tr>\n  </tbody>\n</table>\n<p>10 rows × 24 columns</p>\n</div>"
     },
     "execution_count": 73,
     "metadata": {},
     "output_type": "execute_result"
    }
   ],
   "source": [
    "binned.sample(10)"
   ],
   "metadata": {
    "collapsed": false,
    "pycharm": {
     "name": "#%%\n"
    }
   }
  },
  {
   "cell_type": "code",
   "execution_count": 74,
   "outputs": [
    {
     "data": {
      "text/plain": "(1063471, 119)"
     },
     "execution_count": 74,
     "metadata": {},
     "output_type": "execute_result"
    }
   ],
   "source": [
    "# One-Hot encoding\n",
    "dummies = pd.get_dummies(binned, columns=binned.columns.drop('source'), drop_first=True)\n",
    "# dummies.info()\n",
    "dummies.shape"
   ],
   "metadata": {
    "collapsed": false,
    "pycharm": {
     "name": "#%%\n"
    }
   }
  },
  {
   "cell_type": "code",
   "execution_count": 77,
   "outputs": [
    {
     "data": {
      "text/plain": "         useful_1  useful_2  useful_3  funny_1  cool_1  review_count_1.0  \\\n1821130         0         0         1        0       0                 0   \n456175          1         0         0        0       0                 0   \n2993237         0         0         0        0       0                 0   \n2834894         0         0         0        0       0                 0   \n3038052         0         0         0        0       0                 0   \n3415024         0         0         1        0       1                 0   \n3380280         0         0         0        0       0                 0   \n1481827         0         0         0        0       0                 0   \n\n         review_count_2.0  review_count_3.0  review_count_4.0  \\\n1821130                 0                 0                 0   \n456175                  0                 0                 0   \n2993237                 0                 0                 0   \n2834894                 0                 1                 0   \n3038052                 0                 0                 0   \n3415024                 0                 0                 0   \n3380280                 0                 0                 0   \n1481827                 0                 0                 0   \n\n         review_count_5.0  ...  member_yrs_8.0  member_yrs_9.0  \\\n1821130                 0  ...               0               0   \n456175                  0  ...               0               0   \n2993237                 0  ...               0               0   \n2834894                 0  ...               0               1   \n3038052                 0  ...               0               0   \n3415024                 0  ...               0               0   \n3380280                 0  ...               0               0   \n1481827                 0  ...               0               0   \n\n         member_yrs_10.0  member_yrs_11.0  member_yrs_12.0  member_yrs_13.0  \\\n1821130                0                0                0                0   \n456175                 0                0                0                0   \n2993237                0                0                0                0   \n2834894                0                0                0                0   \n3038052                0                0                0                0   \n3415024                0                0                0                1   \n3380280                0                0                1                0   \n1481827                0                1                0                0   \n\n         member_yrs_14.0  member_yrs_15.0  member_yrs_16.0  member_yrs_17.0  \n1821130                1                0                0                0  \n456175                 0                0                0                0  \n2993237                0                0                0                0  \n2834894                0                0                0                0  \n3038052                0                0                0                0  \n3415024                0                0                0                0  \n3380280                0                0                0                0  \n1481827                0                0                0                0  \n\n[8 rows x 118 columns]",
      "text/html": "<div>\n<style scoped>\n    .dataframe tbody tr th:only-of-type {\n        vertical-align: middle;\n    }\n\n    .dataframe tbody tr th {\n        vertical-align: top;\n    }\n\n    .dataframe thead th {\n        text-align: right;\n    }\n</style>\n<table border=\"1\" class=\"dataframe\">\n  <thead>\n    <tr style=\"text-align: right;\">\n      <th></th>\n      <th>useful_1</th>\n      <th>useful_2</th>\n      <th>useful_3</th>\n      <th>funny_1</th>\n      <th>cool_1</th>\n      <th>review_count_1.0</th>\n      <th>review_count_2.0</th>\n      <th>review_count_3.0</th>\n      <th>review_count_4.0</th>\n      <th>review_count_5.0</th>\n      <th>...</th>\n      <th>member_yrs_8.0</th>\n      <th>member_yrs_9.0</th>\n      <th>member_yrs_10.0</th>\n      <th>member_yrs_11.0</th>\n      <th>member_yrs_12.0</th>\n      <th>member_yrs_13.0</th>\n      <th>member_yrs_14.0</th>\n      <th>member_yrs_15.0</th>\n      <th>member_yrs_16.0</th>\n      <th>member_yrs_17.0</th>\n    </tr>\n  </thead>\n  <tbody>\n    <tr>\n      <th>1821130</th>\n      <td>0</td>\n      <td>0</td>\n      <td>1</td>\n      <td>0</td>\n      <td>0</td>\n      <td>0</td>\n      <td>0</td>\n      <td>0</td>\n      <td>0</td>\n      <td>0</td>\n      <td>...</td>\n      <td>0</td>\n      <td>0</td>\n      <td>0</td>\n      <td>0</td>\n      <td>0</td>\n      <td>0</td>\n      <td>1</td>\n      <td>0</td>\n      <td>0</td>\n      <td>0</td>\n    </tr>\n    <tr>\n      <th>456175</th>\n      <td>1</td>\n      <td>0</td>\n      <td>0</td>\n      <td>0</td>\n      <td>0</td>\n      <td>0</td>\n      <td>0</td>\n      <td>0</td>\n      <td>0</td>\n      <td>0</td>\n      <td>...</td>\n      <td>0</td>\n      <td>0</td>\n      <td>0</td>\n      <td>0</td>\n      <td>0</td>\n      <td>0</td>\n      <td>0</td>\n      <td>0</td>\n      <td>0</td>\n      <td>0</td>\n    </tr>\n    <tr>\n      <th>2993237</th>\n      <td>0</td>\n      <td>0</td>\n      <td>0</td>\n      <td>0</td>\n      <td>0</td>\n      <td>0</td>\n      <td>0</td>\n      <td>0</td>\n      <td>0</td>\n      <td>0</td>\n      <td>...</td>\n      <td>0</td>\n      <td>0</td>\n      <td>0</td>\n      <td>0</td>\n      <td>0</td>\n      <td>0</td>\n      <td>0</td>\n      <td>0</td>\n      <td>0</td>\n      <td>0</td>\n    </tr>\n    <tr>\n      <th>2834894</th>\n      <td>0</td>\n      <td>0</td>\n      <td>0</td>\n      <td>0</td>\n      <td>0</td>\n      <td>0</td>\n      <td>0</td>\n      <td>1</td>\n      <td>0</td>\n      <td>0</td>\n      <td>...</td>\n      <td>0</td>\n      <td>1</td>\n      <td>0</td>\n      <td>0</td>\n      <td>0</td>\n      <td>0</td>\n      <td>0</td>\n      <td>0</td>\n      <td>0</td>\n      <td>0</td>\n    </tr>\n    <tr>\n      <th>3038052</th>\n      <td>0</td>\n      <td>0</td>\n      <td>0</td>\n      <td>0</td>\n      <td>0</td>\n      <td>0</td>\n      <td>0</td>\n      <td>0</td>\n      <td>0</td>\n      <td>0</td>\n      <td>...</td>\n      <td>0</td>\n      <td>0</td>\n      <td>0</td>\n      <td>0</td>\n      <td>0</td>\n      <td>0</td>\n      <td>0</td>\n      <td>0</td>\n      <td>0</td>\n      <td>0</td>\n    </tr>\n    <tr>\n      <th>3415024</th>\n      <td>0</td>\n      <td>0</td>\n      <td>1</td>\n      <td>0</td>\n      <td>1</td>\n      <td>0</td>\n      <td>0</td>\n      <td>0</td>\n      <td>0</td>\n      <td>0</td>\n      <td>...</td>\n      <td>0</td>\n      <td>0</td>\n      <td>0</td>\n      <td>0</td>\n      <td>0</td>\n      <td>1</td>\n      <td>0</td>\n      <td>0</td>\n      <td>0</td>\n      <td>0</td>\n    </tr>\n    <tr>\n      <th>3380280</th>\n      <td>0</td>\n      <td>0</td>\n      <td>0</td>\n      <td>0</td>\n      <td>0</td>\n      <td>0</td>\n      <td>0</td>\n      <td>0</td>\n      <td>0</td>\n      <td>0</td>\n      <td>...</td>\n      <td>0</td>\n      <td>0</td>\n      <td>0</td>\n      <td>0</td>\n      <td>1</td>\n      <td>0</td>\n      <td>0</td>\n      <td>0</td>\n      <td>0</td>\n      <td>0</td>\n    </tr>\n    <tr>\n      <th>1481827</th>\n      <td>0</td>\n      <td>0</td>\n      <td>0</td>\n      <td>0</td>\n      <td>0</td>\n      <td>0</td>\n      <td>0</td>\n      <td>0</td>\n      <td>0</td>\n      <td>0</td>\n      <td>...</td>\n      <td>0</td>\n      <td>0</td>\n      <td>0</td>\n      <td>1</td>\n      <td>0</td>\n      <td>0</td>\n      <td>0</td>\n      <td>0</td>\n      <td>0</td>\n      <td>0</td>\n    </tr>\n  </tbody>\n</table>\n<p>8 rows × 118 columns</p>\n</div>"
     },
     "execution_count": 77,
     "metadata": {},
     "output_type": "execute_result"
    }
   ],
   "source": [
    "train_dummies = dummies[dummies.source=='train'].drop('source', axis=1)\n",
    "# train_dummies.info()\n",
    "train_dummies.sample(8)"
   ],
   "metadata": {
    "collapsed": false,
    "pycharm": {
     "name": "#%%\n"
    }
   }
  },
  {
   "cell_type": "code",
   "execution_count": 56,
   "outputs": [
    {
     "data": {
      "text/plain": "(611406, 118)"
     },
     "execution_count": 56,
     "metadata": {},
     "output_type": "execute_result"
    }
   ],
   "source": [
    "# Train set\n",
    "# Cast other feature columns to float and convert to a sparse matrix.\n",
    "train_numeric = sparse.csr_matrix(train_dummies.astype(np.uint8))\n",
    "train_numeric.shape"
   ],
   "metadata": {
    "collapsed": false,
    "pycharm": {
     "name": "#%%\n"
    }
   }
  },
  {
   "cell_type": "code",
   "execution_count": 57,
   "outputs": [
    {
     "data": {
      "text/plain": "(611406, 10118)"
     },
     "execution_count": 57,
     "metadata": {},
     "output_type": "execute_result"
    }
   ],
   "source": [
    "# Combine sparse matrices.\n",
    "train_dtm_numeric = sparse.hstack((train_dtm, train_numeric))\n",
    "train_dtm_numeric.shape"
   ],
   "metadata": {
    "collapsed": false,
    "pycharm": {
     "name": "#%%\n"
    }
   }
  },
  {
   "cell_type": "code",
   "execution_count": 58,
   "outputs": [],
   "source": [
    "# sparse.save_npz(text_features_dir / 'train_dtm_numeric', train_dtm_numeric)"
   ],
   "metadata": {
    "collapsed": false,
    "pycharm": {
     "name": "#%%\n"
    }
   }
  },
  {
   "cell_type": "code",
   "execution_count": 59,
   "outputs": [
    {
     "data": {
      "text/plain": "(452065, 10118)"
     },
     "execution_count": 59,
     "metadata": {},
     "output_type": "execute_result"
    }
   ],
   "source": [
    "# Repeat for test set\n",
    "test_dummies = dummies[dummies.source=='test'].drop('source', axis=1)\n",
    "test_numeric = sparse.csr_matrix(test_dummies.astype(np.int8))\n",
    "test_dtm_numeric = sparse.hstack((test_dtm, test_numeric))\n",
    "test_dtm_numeric.shape"
   ],
   "metadata": {
    "collapsed": false,
    "pycharm": {
     "name": "#%%\n"
    }
   }
  },
  {
   "cell_type": "code",
   "execution_count": 60,
   "outputs": [],
   "source": [
    "# sparse.save_npz(text_features_dir / 'test_dtm_numeric', test_dtm_numeric)"
   ],
   "metadata": {
    "collapsed": false,
    "pycharm": {
     "name": "#%%\n"
    }
   }
  },
  {
   "cell_type": "code",
   "execution_count": 61,
   "outputs": [],
   "source": [
    "# Reload stored data\n",
    "train_dtm_numeric = sparse.load_npz(text_features_dir / 'train_dtm_numeric.npz')\n",
    "test_dtm_numeric = sparse.load_npz(text_features_dir / 'test_dtm_numeric.npz')"
   ],
   "metadata": {
    "collapsed": false,
    "pycharm": {
     "name": "#%%\n"
    }
   }
  },
  {
   "cell_type": "code",
   "execution_count": 62,
   "outputs": [
    {
     "data": {
      "text/plain": "0.5089356619070267"
     },
     "execution_count": 62,
     "metadata": {},
     "output_type": "execute_result"
    }
   ],
   "source": [
    "# Benchmark Accuracy\n",
    "accuracy, runtime = {}, {}\n",
    "predictions = test[['stars']].copy()\n",
    "# np.full_like: Return a full array with the same shape and type as a given array\n",
    "naive_prediction = np.full_like(predictions.stars, fill_value=train.stars.mode().iloc[0])\n",
    "naive_benchmark = accuracy_score(predictions.stars, naive_prediction)\n",
    "\n",
    "naive_benchmark"
   ],
   "metadata": {
    "collapsed": false,
    "pycharm": {
     "name": "#%%\n"
    }
   }
  },
  {
   "cell_type": "code",
   "execution_count": 63,
   "outputs": [],
   "source": [
    "# Model Evaluation Helper\n",
    "result = 'nb_text'\n",
    "\n",
    "def evaluate_model(model, X_train, X_test, name, store=False):\n",
    "    start = time()\n",
    "    model.fit(X_train, train.stars)\n",
    "    runtime[name] = time() - start\n",
    "    predictions[name] = model.predict(X_test)\n",
    "    accuracy[result] = accuracy_score(test.stars, predictions[result])\n",
    "    if store:\n",
    "        joblib.dump(model, f'results/{result}.joblib')"
   ],
   "metadata": {
    "collapsed": false,
    "pycharm": {
     "name": "#%%\n"
    }
   }
  },
  {
   "cell_type": "code",
   "execution_count": 64,
   "outputs": [],
   "source": [
    "# Multinomial naive Bayes model\n",
    "nb = MultinomialNB()\n",
    "\n",
    "evaluate_model(nb, train_dtm, test_dtm, result, store=False)"
   ],
   "metadata": {
    "collapsed": false,
    "pycharm": {
     "name": "#%%\n"
    }
   }
  },
  {
   "cell_type": "code",
   "execution_count": 65,
   "outputs": [
    {
     "data": {
      "text/plain": "0.6416245451428445"
     },
     "execution_count": 65,
     "metadata": {},
     "output_type": "execute_result"
    }
   ],
   "source": [
    "accuracy[result]"
   ],
   "metadata": {
    "collapsed": false,
    "pycharm": {
     "name": "#%%\n"
    }
   }
  },
  {
   "cell_type": "code",
   "execution_count": 66,
   "outputs": [
    {
     "data": {
      "text/plain": "       1      2      3      4       5\n1  58670  14927   2675   1024    1431\n2  10184  12517   6867   1702    1098\n3   4740   7325  14490   8199    2540\n4   2947   2272   8979  40628   18778\n5  10866   1514   2924  51017  163751",
      "text/html": "<div>\n<style scoped>\n    .dataframe tbody tr th:only-of-type {\n        vertical-align: middle;\n    }\n\n    .dataframe tbody tr th {\n        vertical-align: top;\n    }\n\n    .dataframe thead th {\n        text-align: right;\n    }\n</style>\n<table border=\"1\" class=\"dataframe\">\n  <thead>\n    <tr style=\"text-align: right;\">\n      <th></th>\n      <th>1</th>\n      <th>2</th>\n      <th>3</th>\n      <th>4</th>\n      <th>5</th>\n    </tr>\n  </thead>\n  <tbody>\n    <tr>\n      <th>1</th>\n      <td>58670</td>\n      <td>14927</td>\n      <td>2675</td>\n      <td>1024</td>\n      <td>1431</td>\n    </tr>\n    <tr>\n      <th>2</th>\n      <td>10184</td>\n      <td>12517</td>\n      <td>6867</td>\n      <td>1702</td>\n      <td>1098</td>\n    </tr>\n    <tr>\n      <th>3</th>\n      <td>4740</td>\n      <td>7325</td>\n      <td>14490</td>\n      <td>8199</td>\n      <td>2540</td>\n    </tr>\n    <tr>\n      <th>4</th>\n      <td>2947</td>\n      <td>2272</td>\n      <td>8979</td>\n      <td>40628</td>\n      <td>18778</td>\n    </tr>\n    <tr>\n      <th>5</th>\n      <td>10866</td>\n      <td>1514</td>\n      <td>2924</td>\n      <td>51017</td>\n      <td>163751</td>\n    </tr>\n  </tbody>\n</table>\n</div>"
     },
     "execution_count": 66,
     "metadata": {},
     "output_type": "execute_result"
    }
   ],
   "source": [
    "# Confusion Matrix\n",
    "stars = index = list(range(1, 6))\n",
    "pd.DataFrame(confusion_matrix(test.stars, predictions[result]), columns=stars, index=stars)"
   ],
   "metadata": {
    "collapsed": false,
    "pycharm": {
     "name": "#%%\n"
    }
   }
  },
  {
   "cell_type": "code",
   "execution_count": 67,
   "outputs": [],
   "source": [
    "# Text & Numeric Features\n",
    "result = 'nb_combined'\n",
    "evaluate_model(nb, train_dtm_numeric, test_dtm_numeric, result, store=False)"
   ],
   "metadata": {
    "collapsed": false,
    "pycharm": {
     "name": "#%%\n"
    }
   }
  },
  {
   "cell_type": "code",
   "execution_count": 68,
   "outputs": [
    {
     "data": {
      "text/plain": "0.6514129605255882"
     },
     "execution_count": 68,
     "metadata": {},
     "output_type": "execute_result"
    }
   ],
   "source": [
    "accuracy[result]"
   ],
   "metadata": {
    "collapsed": false,
    "pycharm": {
     "name": "#%%\n"
    }
   }
  },
  {
   "cell_type": "code",
   "execution_count": 69,
   "outputs": [
    {
     "name": "stdout",
     "output_type": "stream",
     "text": [
      "     0.00001: 16.57s | 55.89%\n",
      "     0.00010: 19.09s | 66.27%\n",
      "     0.00100: 47.67s | 71.31%\n",
      "     0.01000: 46.11s | 72.77%\n",
      "     0.10000: 43.95s | 72.68%\n",
      "     1.00000: 46.20s | 72.46%\n",
      "    10.00000: 46.13s | 72.46%\n",
      "   100.00000: 47.53s | 72.41%\n",
      "  1000.00000: 47.97s | 72.44%\n",
      " 10000.00000: 46.19s | 72.47%\n",
      "100000.00000: 48.00s | 72.51%\n"
     ]
    }
   ],
   "source": [
    "# Multinomial Logistic Regression\n",
    "Cs = np.logspace(-5, 5, 11)\n",
    "\n",
    "# Text Features\n",
    "log_reg_text_accuracy = {}\n",
    "log_reg_text_runtime = []\n",
    "for i, C in enumerate(Cs):\n",
    "    start = time()\n",
    "    model = LogisticRegression(C=C, multi_class='multinomial', solver='lbfgs')\n",
    "\n",
    "    model.fit(train_dtm, train.stars)\n",
    "    log_reg_text_runtime.append(time() - start)\n",
    "    log_reg_text_accuracy[C] = accuracy_score(test.stars, model.predict(test_dtm))\n",
    "\n",
    "    print(f'{C:12.5f}: {log_reg_text_runtime[i]:.2f}s | {log_reg_text_accuracy[C]:.2%}', flush=True)"
   ],
   "metadata": {
    "collapsed": false,
    "pycharm": {
     "name": "#%%\n"
    }
   }
  },
  {
   "cell_type": "code",
   "execution_count": 89,
   "outputs": [],
   "source": [
    "pd.Series(log_reg_text_accuracy).to_csv(yelp_dir / 'logreg_text.csv')\n",
    "accuracy['lr_text'] = pd.Series(log_reg_text_accuracy).max()\n",
    "runtime['lr_text'] = np.mean(log_reg_text_runtime)"
   ],
   "metadata": {
    "collapsed": false,
    "pycharm": {
     "name": "#%%\n"
    }
   }
  },
  {
   "cell_type": "code",
   "execution_count": 90,
   "outputs": [
    {
     "name": "stdout",
     "output_type": "stream",
     "text": [
      "     0.00001: 15.97s | 56.82%\n",
      "     0.00010: 25.04s | 68.34%\n",
      "     0.00100: 61.82s | 72.50%\n",
      "     0.01000: 52.34s | 73.15%\n",
      "     0.10000: 53.57s | 72.59%\n",
      "     1.00000: 52.26s | 72.40%\n",
      "    10.00000: 52.58s | 72.38%\n",
      "   100.00000: 51.90s | 72.35%\n",
      "  1000.00000: 51.95s | 72.21%\n",
      " 10000.00000: 52.21s | 72.15%\n",
      "100000.00000: 52.59s | 72.36%\n"
     ]
    }
   ],
   "source": [
    "# Combined Features\n",
    "log_reg_comb_accuracy = {}\n",
    "log_reg_comb_runtime = []\n",
    "for i, C in enumerate(Cs):\n",
    "    start = time()\n",
    "    model = LogisticRegression(C=C, multi_class='multinomial', solver='lbfgs')\n",
    "\n",
    "    model.fit(train_dtm_numeric, train.stars)\n",
    "    log_reg_comb_runtime.append(time() - start)\n",
    "    log_reg_comb_accuracy[C] = accuracy_score(test.stars, model.predict(test_dtm_numeric))\n",
    "\n",
    "    print(f'{C:12.5f}: {log_reg_comb_runtime[i]:.2f}s | {log_reg_comb_accuracy[C]:.2%}', flush=True)"
   ],
   "metadata": {
    "collapsed": false,
    "pycharm": {
     "name": "#%%\n"
    }
   }
  },
  {
   "cell_type": "code",
   "execution_count": 91,
   "outputs": [],
   "source": [
    "pd.Series(log_reg_comb_accuracy).to_csv(yelp_dir / 'logreg_combined.csv')\n",
    "accuracy['lr_comb'] = pd.Series(log_reg_comb_accuracy).max()\n",
    "runtime['lr_comb'] = np.mean(log_reg_comb_runtime)"
   ],
   "metadata": {
    "collapsed": false,
    "pycharm": {
     "name": "#%%\n"
    }
   }
  },
  {
   "cell_type": "code",
   "execution_count": 92,
   "outputs": [
    {
     "name": "stdout",
     "output_type": "stream",
     "text": [
      "[LightGBM] [Warning] Auto-choosing row-wise multi-threading, the overhead of testing was 4.637143 seconds.\n",
      "You can set `force_row_wise=true` to remove the overhead.\n",
      "And if memory is not enough, you can set `force_col_wise=true`.\n",
      "[LightGBM] [Info] Total Bins 42503\n",
      "[LightGBM] [Info] Number of data points in the train set: 611406, number of used features: 10117\n",
      "[LightGBM] [Info] Start training from score -1.977768\n",
      "[LightGBM] [Info] Start training from score -2.499129\n",
      "[LightGBM] [Info] Start training from score -2.211830\n",
      "[LightGBM] [Info] Start training from score -1.442274\n",
      "[LightGBM] [Info] Start training from score -0.835688\n",
      "Training until validation scores don't improve for 25 rounds\n",
      "[25]\ttraining's multi_error: 0.394103\tvalid_1's multi_error: 0.327276\n",
      "[50]\ttraining's multi_error: 0.361253\tvalid_1's multi_error: 0.308588\n",
      "[75]\ttraining's multi_error: 0.345623\tvalid_1's multi_error: 0.298944\n",
      "[100]\ttraining's multi_error: 0.335075\tvalid_1's multi_error: 0.292062\n",
      "[125]\ttraining's multi_error: 0.327316\tvalid_1's multi_error: 0.287395\n",
      "[150]\ttraining's multi_error: 0.321518\tvalid_1's multi_error: 0.284362\n",
      "[175]\ttraining's multi_error: 0.316776\tvalid_1's multi_error: 0.282035\n",
      "[200]\ttraining's multi_error: 0.312431\tvalid_1's multi_error: 0.280115\n",
      "[225]\ttraining's multi_error: 0.308782\tvalid_1's multi_error: 0.278694\n",
      "[250]\ttraining's multi_error: 0.305403\tvalid_1's multi_error: 0.277628\n",
      "[275]\ttraining's multi_error: 0.302416\tvalid_1's multi_error: 0.276814\n",
      "[300]\ttraining's multi_error: 0.299459\tvalid_1's multi_error: 0.276186\n",
      "[325]\ttraining's multi_error: 0.297107\tvalid_1's multi_error: 0.275635\n",
      "[350]\ttraining's multi_error: 0.29452\tvalid_1's multi_error: 0.275292\n",
      "[375]\ttraining's multi_error: 0.292035\tvalid_1's multi_error: 0.274921\n",
      "[400]\ttraining's multi_error: 0.289747\tvalid_1's multi_error: 0.2745\n",
      "[425]\ttraining's multi_error: 0.287423\tvalid_1's multi_error: 0.274025\n",
      "[450]\ttraining's multi_error: 0.285154\tvalid_1's multi_error: 0.273748\n",
      "[475]\ttraining's multi_error: 0.283007\tvalid_1's multi_error: 0.273543\n",
      "[500]\ttraining's multi_error: 0.280866\tvalid_1's multi_error: 0.273217\n",
      "[525]\ttraining's multi_error: 0.278862\tvalid_1's multi_error: 0.273005\n",
      "[550]\ttraining's multi_error: 0.276878\tvalid_1's multi_error: 0.272912\n",
      "Early stopping, best iteration is:\n",
      "[540]\ttraining's multi_error: 0.2776\tvalid_1's multi_error: 0.272879\n"
     ]
    }
   ],
   "source": [
    "# Multiclass gradient boosting with LightGBM\n",
    "lgb_train = lgb.Dataset(data=train_dtm_numeric.tocsr().astype(np.float32), label=train.stars.sub(1),\n",
    "                        categorical_feature=list(range(train_dtm_numeric.shape[1])))\n",
    "lgb_test = lgb.Dataset(data=test_dtm_numeric.tocsr().astype(np.float32),  label=test.stars.sub(1),\n",
    "                       reference=lgb_train)\n",
    "param = {'objective': 'multiclass', 'metrics': ['multi_error'], 'num_class': 5}\n",
    "booster = lgb.train(params=param, train_set=lgb_train, num_boost_round=2000, early_stopping_rounds=25,\n",
    "                    valid_sets=[lgb_train, lgb_test], verbose_eval=25)\n",
    "\n",
    "booster.save_model((yelp_dir / 'lgb_model.txt').as_posix());\n",
    "y_pred_class = booster.predict(test_dtm_numeric.astype(float))\n",
    "\n",
    "accuracy['lgb_comb'] = accuracy_score(test.stars, y_pred_class.argmax(1) + 1)"
   ],
   "metadata": {
    "collapsed": false,
    "pycharm": {
     "name": "#%%\n"
    }
   }
  },
  {
   "cell_type": "code",
   "execution_count": 93,
   "outputs": [
    {
     "data": {
      "text/plain": "<Figure size 1152x576 with 2 Axes>",
      "image/png": "[encoded data removed]"
     },
     "metadata": {},
     "output_type": "display_data"
    }
   ],
   "source": [
    "# Comparison\n",
    "model_map = {'nb_combined': 'Naive Bayes', 'lr_comb': 'Logistic Regression', 'lgb_comb': 'LightGBM'}\n",
    "accuracy_ = {model_map[k]: v for k, v in accuracy.items() if model_map.get(k)}\n",
    "log_reg_text = pd.read_csv(yelp_dir / 'logreg_text.csv', index_col=0, squeeze=True)\n",
    "log_reg_combined = pd.read_csv(yelp_dir / 'logreg_combined.csv', index_col=0, squeeze=True)\n",
    "fig, axes = plt.subplots(ncols=2, figsize=(16, 8))\n",
    "pd.Series(accuracy_).sort_values().plot.barh(ax=axes[0], xlim=(.45, .75), title='Accuracy by Model')\n",
    "axes[0].axvline(naive_benchmark, ls='--', lw=1, c='k')\n",
    "\n",
    "log_reg = (log_reg_text.to_frame('text').join(log_reg_combined.to_frame('combined')))\n",
    "log_reg.plot(logx=True, ax=axes[1], title='Logistic Regression - Model Tuning')\n",
    "axes[1].set_xlabel('Regularization')\n",
    "axes[1].set_ylabel('Accuracy')\n",
    "axes[0].set_xlabel('Accuracy')\n",
    "sns.despine()\n",
    "fig.tight_layout()"
   ],
   "metadata": {
    "collapsed": false,
    "pycharm": {
     "name": "#%%\n"
    }
   }
  },
  {
   "cell_type": "code",
   "execution_count": 94,
   "outputs": [
    {
     "name": "stdout",
     "output_type": "stream",
     "text": [
      "This place kills it on food, drinks, and friendly service. What's not to love? I was only in New Orleans for 4 days and went there twice for brunch and twice for dinner! Unusual and delicious wines by the glass. The tuna crudo was amazing, as was the braised rabbit with sweet potato gnocchi and for brunch, house made chicken sausage with polenta and blistered cherry tomatoes. Attentive and relaxed service( even solo at the bar) and a great, open feel to the space. GO!\n"
     ]
    }
   ],
   "source": [
    "# Textblob for Sentiment Analysis\n",
    "sample_review = train.text.sample(1).iloc[0]\n",
    "print(sample_review)"
   ],
   "metadata": {
    "collapsed": false,
    "pycharm": {
     "name": "#%%\n"
    }
   }
  },
  {
   "cell_type": "code",
   "execution_count": 95,
   "outputs": [
    {
     "data": {
      "text/plain": "0.31628787878787873"
     },
     "execution_count": 95,
     "metadata": {},
     "output_type": "execute_result"
    }
   ],
   "source": [
    "# Polarity ranges from -1 (most negative) to 1 (most positive).\n",
    "TextBlob(sample_review).sentiment.polarity"
   ],
   "metadata": {
    "collapsed": false,
    "pycharm": {
     "name": "#%%\n"
    }
   }
  },
  {
   "cell_type": "code",
   "execution_count": 96,
   "outputs": [
    {
     "data": {
      "text/plain": "<Figure size 432x288 with 1 Axes>",
      "image/png": "[encoded data removed]"
     },
     "metadata": {},
     "output_type": "display_data"
    }
   ],
   "source": [
    "# Define a function that accepts text and returns the polarity.\n",
    "def detect_sentiment(text):\n",
    "    return TextBlob(text).sentiment.polarity\n",
    "\n",
    "train['sentiment'] = train.text.apply(detect_sentiment)\n",
    "sample_reviews = train[['stars', 'text']].sample(100000)\n",
    "\n",
    "# Create a new DataFrame column for sentiment (very SLOW)\n",
    "sample_reviews['sentiment'] = sample_reviews.text.apply(detect_sentiment)\n",
    "\n",
    "# Box plot of sentiment grouped by stars\n",
    "sns.boxenplot(x='stars', y='sentiment', data=train);"
   ],
   "metadata": {
    "collapsed": false,
    "pycharm": {
     "name": "#%%\n"
    }
   }
  },
  {
   "cell_type": "code",
   "execution_count": 106,
   "outputs": [
    {
     "data": {
      "text/plain": "820883                       Waitress was awful. Kept putting drinks on the table no one ordered. Couldn't stop to hear what we were saying\n2509                     Terrible service at this Domino's... They don't seem to have the ability to fulfill orders promptly and correctly.\n814089                                             Yuck.  The food choices for a vegan are terrible. The steamed tofu stuff was disgusting.\n2596116    I have been trying to get a refund for a month now.  Terrible customer service.  Now they want me to find their tracking number.\n1061848                                                                                  neighborhood pizza.  service is the worst ever !!!\nName: text, dtype: object"
     },
     "execution_count": 106,
     "metadata": {},
     "output_type": "execute_result"
    }
   ],
   "source": [
    "# Reviews with most negative sentiment\n",
    "train[train.sentiment == -1].text.head()"
   ],
   "metadata": {
    "collapsed": false,
    "pycharm": {
     "name": "#%%\n"
    }
   }
  },
  {
   "cell_type": "code",
   "execution_count": 107,
   "outputs": [
    {
     "data": {
      "text/plain": "1697076    Kelly S. must be smoking crack to say Sonny's has the worst steaks..\\n\\nGeno's, Jim's, Pats and Tony Luke's all take a backseat to Sonny's.  \\n\\nTheir menu is simple like any cheese steak eatery, but their quality choice of ingredients defiantly shows.  \\n\\nI'd recomend Sonny's to anyone who is looking for a cheese steak.  \\n\\nOh yeah, they just started to deliver too!\n1673968                                                                                                                                                                                                                                                                              Needed a caffeine fix while in the Madison area, a place sadly lacking in coffee houses. Before resigning\n358675                                                                                                       I used to live two blocks away from this pathmark and I've never been disappointed. Their fried chicken from the deli rviels ANY others in Philadelphia! I never had a problem with produce or customer service. Also one has to take into account this store IS on gray's ferry.\nName: text, dtype: object"
     },
     "execution_count": 107,
     "metadata": {},
     "output_type": "execute_result"
    }
   ],
   "source": [
    "# Negative sentiment in a 5-star review\n",
    "train.loc[(train.stars == 5) & (train.sentiment < -0.3), 'text'].head(3)"
   ],
   "metadata": {
    "collapsed": false,
    "pycharm": {
     "name": "#%%\n"
    }
   }
  },
  {
   "cell_type": "code",
   "execution_count": 105,
   "outputs": [
    {
     "data": {
      "text/plain": "1961389    Greasy, overcrowded, and pricey seafood. The food was \"good\" to my company, but then again I'm not a seafood fan.\nName: text, dtype: object"
     },
     "execution_count": 105,
     "metadata": {},
     "output_type": "execute_result"
    }
   ],
   "source": [
    "# Positive sentiment in a 1-star review\n",
    "train.loc[(train.stars == 1) & (train.sentiment > 0.5), 'text'].head(1)"
   ],
   "metadata": {
    "collapsed": false,
    "pycharm": {
     "name": "#%%\n"
    }
   }
  }
 ],
 "metadata": {
  "kernelspec": {
   "display_name": "Python 3",
   "language": "python",
   "name": "python3"
  },
  "language_info": {
   "codemirror_mode": {
    "name": "ipython",
    "version": 2
   },
   "file_extension": ".py",
   "mimetype": "text/x-python",
   "name": "python",
   "nbconvert_exporter": "python",
   "pygments_lexer": "ipython2",
   "version": "2.7.6"
  }
 },
 "nbformat": 4,
 "nbformat_minor": 0
}