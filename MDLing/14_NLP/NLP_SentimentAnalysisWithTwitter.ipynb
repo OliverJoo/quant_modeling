{
 "cells": [
  {
   "cell_type": "code",
   "execution_count": 1,
   "metadata": {
    "collapsed": true,
    "pycharm": {
     "name": "#%%\n"
    }
   },
   "outputs": [],
   "source": [
    "import warnings\n",
    "warnings.filterwarnings('ignore')\n",
    "%matplotlib inline\n",
    "\n",
    "from pathlib import Path\n",
    "import numpy as np\n",
    "import pandas as pd\n",
    "\n",
    "# Visualization\n",
    "import matplotlib.pyplot as plt\n",
    "import seaborn as sns\n",
    "\n",
    "# spacy, textblob and nltk for language processing\n",
    "from textblob import TextBlob\n",
    "\n",
    "# sklearn for feature extraction & modeling\n",
    "from sklearn.feature_extraction.text import CountVectorizer, TfidfVectorizer\n",
    "from sklearn.naive_bayes import MultinomialNB\n",
    "from sklearn.metrics import roc_auc_score, roc_curve, accuracy_score\n",
    "sns.set_style('white')"
   ]
  },
  {
   "cell_type": "code",
   "execution_count": 2,
   "outputs": [],
   "source": [
    "data_path = Path('data', 'sentiment140')\n",
    "if not data_path.exists():\n",
    "    data_path.mkdir(parents=True)\n",
    "names = ['polarity', 'id', 'date', 'query', 'user', 'text']"
   ],
   "metadata": {
    "collapsed": false,
    "pycharm": {
     "name": "#%%\n"
    }
   }
  },
  {
   "cell_type": "code",
   "execution_count": 3,
   "outputs": [
    {
     "name": "stdout",
     "output_type": "stream",
     "text": [
      "<class 'pandas.core.frame.DataFrame'>\n",
      "Int64Index: 1566668 entries, 0 to 1599999\n",
      "Data columns (total 4 columns):\n",
      " #   Column    Non-Null Count    Dtype         \n",
      "---  ------    --------------    -----         \n",
      " 0   polarity  1566668 non-null  int32         \n",
      " 1   date      1566668 non-null  datetime64[ns]\n",
      " 2   user      1566668 non-null  object        \n",
      " 3   text      1566668 non-null  object        \n",
      "dtypes: datetime64[ns](1), int32(1), object(2)\n",
      "memory usage: 53.8+ MB\n"
     ]
    }
   ],
   "source": [
    "def load_train_data():\n",
    "    parquet_file = data_path / 'train.parquet'\n",
    "    if not parquet_file.exists():\n",
    "        df = (pd.read_csv(data_path / 'train.csv', low_memory=False, encoding='latin1', header=None,\n",
    "                          names=names, parse_dates=['date']).drop(['id', 'query'], axis=1)\n",
    "              .drop_duplicates(subset=['polarity', 'text']))\n",
    "        df = df[df.text.str.len() <= 140]\n",
    "        df.polarity = (df.polarity > 0).astype(int)\n",
    "        df.to_parquet(parquet_file)\n",
    "        return df\n",
    "    else:\n",
    "        return pd.read_parquet(parquet_file)\n",
    "train = load_train_data()\n",
    "train.info(null_counts=True)"
   ],
   "metadata": {
    "collapsed": false,
    "pycharm": {
     "name": "#%%\n"
    }
   }
  },
  {
   "cell_type": "code",
   "execution_count": 4,
   "outputs": [
    {
     "data": {
      "text/plain": "         polarity                date             user  \\\n974304          1 2009-05-17 23:04:26  jamieharrington   \n1273509         1 2009-06-01 23:08:22           skyn3t   \n826504          1 2009-04-18 23:52:44     rhymen0cer0s   \n453788          0 2009-06-07 17:39:55    liveinlove852   \n47544           0 2009-05-02 03:17:00        Tougelabs   \n89542           0 2009-05-10 08:58:06      BrendaRanae   \n881095          1 2009-05-03 01:51:34      screwbarney   \n892420          1 2009-05-03 17:19:14          ryanr09   \n1208806         1 2009-05-31 23:35:43       kristinths   \n956933          1 2009-05-17 05:21:43  peace_luv_hope2   \n\n                                                      text  \n974304   @TyPie you don't still have the other one do y...  \n1273509  @mirkwood come my house, i will gift you some,...  \n826504   Not many people, but we did get encored. It wa...  \n453788   just talked to selena gomez on the phone ...th...  \n47544    Driving back to ny from oxford ct, trying to u...  \n89542    @dannywood Happy Mom's Day to your mom...I los...  \n881095                             is back from Tagaytay!   \n892420   @LeonardoZ haha...I'll pay off that house. *lo...  \n1208806                                Had a good weekend   \n956933   @mileycyrus good mornin miley.i luv u.ur such ...  ",
      "text/html": "<div>\n<style scoped>\n    .dataframe tbody tr th:only-of-type {\n        vertical-align: middle;\n    }\n\n    .dataframe tbody tr th {\n        vertical-align: top;\n    }\n\n    .dataframe thead th {\n        text-align: right;\n    }\n</style>\n<table border=\"1\" class=\"dataframe\">\n  <thead>\n    <tr style=\"text-align: right;\">\n      <th></th>\n      <th>polarity</th>\n      <th>date</th>\n      <th>user</th>\n      <th>text</th>\n    </tr>\n  </thead>\n  <tbody>\n    <tr>\n      <th>974304</th>\n      <td>1</td>\n      <td>2009-05-17 23:04:26</td>\n      <td>jamieharrington</td>\n      <td>@TyPie you don't still have the other one do y...</td>\n    </tr>\n    <tr>\n      <th>1273509</th>\n      <td>1</td>\n      <td>2009-06-01 23:08:22</td>\n      <td>skyn3t</td>\n      <td>@mirkwood come my house, i will gift you some,...</td>\n    </tr>\n    <tr>\n      <th>826504</th>\n      <td>1</td>\n      <td>2009-04-18 23:52:44</td>\n      <td>rhymen0cer0s</td>\n      <td>Not many people, but we did get encored. It wa...</td>\n    </tr>\n    <tr>\n      <th>453788</th>\n      <td>0</td>\n      <td>2009-06-07 17:39:55</td>\n      <td>liveinlove852</td>\n      <td>just talked to selena gomez on the phone ...th...</td>\n    </tr>\n    <tr>\n      <th>47544</th>\n      <td>0</td>\n      <td>2009-05-02 03:17:00</td>\n      <td>Tougelabs</td>\n      <td>Driving back to ny from oxford ct, trying to u...</td>\n    </tr>\n    <tr>\n      <th>89542</th>\n      <td>0</td>\n      <td>2009-05-10 08:58:06</td>\n      <td>BrendaRanae</td>\n      <td>@dannywood Happy Mom's Day to your mom...I los...</td>\n    </tr>\n    <tr>\n      <th>881095</th>\n      <td>1</td>\n      <td>2009-05-03 01:51:34</td>\n      <td>screwbarney</td>\n      <td>is back from Tagaytay!</td>\n    </tr>\n    <tr>\n      <th>892420</th>\n      <td>1</td>\n      <td>2009-05-03 17:19:14</td>\n      <td>ryanr09</td>\n      <td>@LeonardoZ haha...I'll pay off that house. *lo...</td>\n    </tr>\n    <tr>\n      <th>1208806</th>\n      <td>1</td>\n      <td>2009-05-31 23:35:43</td>\n      <td>kristinths</td>\n      <td>Had a good weekend</td>\n    </tr>\n    <tr>\n      <th>956933</th>\n      <td>1</td>\n      <td>2009-05-17 05:21:43</td>\n      <td>peace_luv_hope2</td>\n      <td>@mileycyrus good mornin miley.i luv u.ur such ...</td>\n    </tr>\n  </tbody>\n</table>\n</div>"
     },
     "execution_count": 4,
     "metadata": {},
     "output_type": "execute_result"
    }
   ],
   "source": [
    "train.sample(10)"
   ],
   "metadata": {
    "collapsed": false,
    "pycharm": {
     "name": "#%%\n"
    }
   }
  },
  {
   "cell_type": "code",
   "execution_count": 5,
   "outputs": [
    {
     "name": "stdout",
     "output_type": "stream",
     "text": [
      "<class 'pandas.core.frame.DataFrame'>\n",
      "Int64Index: 354 entries, 0 to 497\n",
      "Data columns (total 4 columns):\n",
      " #   Column    Non-Null Count  Dtype              \n",
      "---  ------    --------------  -----              \n",
      " 0   polarity  354 non-null    int64              \n",
      " 1   date      354 non-null    datetime64[ns, UTC]\n",
      " 2   user      354 non-null    object             \n",
      " 3   text      354 non-null    object             \n",
      "dtypes: datetime64[ns, UTC](1), int64(1), object(2)\n",
      "memory usage: 13.8+ KB\n"
     ]
    }
   ],
   "source": [
    "def load_test_data():\n",
    "    parquet_file = data_path / 'test.parquet'\n",
    "    if not parquet_file.exists():\n",
    "        df = (pd.read_csv('data/sentiment140/test.csv', low_memory=False, encoding='latin1', header=None,\n",
    "                          names=names, parse_dates=['date']).drop(['id', 'query'], axis=1)\n",
    "              .drop_duplicates(subset=['polarity', 'text']))\n",
    "        df = df[(df.text.str.len() <= 140) & (df.polarity.isin([0, 4]))]\n",
    "        df.to_parquet(parquet_file)\n",
    "        return df\n",
    "    else:\n",
    "        return pd.read_parquet(parquet_file)\n",
    "test = load_test_data()\n",
    "test.info(null_counts=True)"
   ],
   "metadata": {
    "collapsed": false,
    "pycharm": {
     "name": "#%%\n"
    }
   }
  },
  {
   "cell_type": "code",
   "execution_count": 6,
   "outputs": [
    {
     "data": {
      "text/plain": "     polarity                      date           user  \\\n237         4 2009-05-11 03:17:54+00:00       jhall515   \n123         0 2009-05-31 06:51:44+00:00     nicoleisms   \n476         4 2009-06-13 16:24:08+00:00       tessalau   \n489         4 2009-06-13 16:24:15+00:00  A_TALL_BLONDE   \n410         0 2009-06-02 03:34:37+00:00     arianaflyy   \n7           4 2009-05-11 03:26:10+00:00      dcostalis   \n40          4 2009-05-17 15:05:03+00:00    VickyTigger   \n15          4 2009-05-11 05:20:15+00:00   cameronwylie   \n454         4 2009-06-08 00:01:27+00:00          aiban   \n104         0 2009-05-25 17:46:06+00:00         fwhamm   \n\n                                                  text  \n237                         reading on my new Kindle2!  \n123  VIRAL MARKETING FAIL. This Acia Pills brand ou...  \n476  Excited about seeing Bobby Flay and Guy Fieri ...  \n489  i lam so in love with Bobby Flay... he is my f...  \n410                   this dentist's office is cold :/  \n7                        Jquery is my new best friend.  \n40   I'm listening to \"P.Y.T\" by Danny Gokey &lt;3 ...  \n15   #lebron best athlete of our generation, if not...  \n454  I'd say some sports writers are idiots for say...  \n104  is Twitter's connections API broken? Some twee...  ",
      "text/html": "<div>\n<style scoped>\n    .dataframe tbody tr th:only-of-type {\n        vertical-align: middle;\n    }\n\n    .dataframe tbody tr th {\n        vertical-align: top;\n    }\n\n    .dataframe thead th {\n        text-align: right;\n    }\n</style>\n<table border=\"1\" class=\"dataframe\">\n  <thead>\n    <tr style=\"text-align: right;\">\n      <th></th>\n      <th>polarity</th>\n      <th>date</th>\n      <th>user</th>\n      <th>text</th>\n    </tr>\n  </thead>\n  <tbody>\n    <tr>\n      <th>237</th>\n      <td>4</td>\n      <td>2009-05-11 03:17:54+00:00</td>\n      <td>jhall515</td>\n      <td>reading on my new Kindle2!</td>\n    </tr>\n    <tr>\n      <th>123</th>\n      <td>0</td>\n      <td>2009-05-31 06:51:44+00:00</td>\n      <td>nicoleisms</td>\n      <td>VIRAL MARKETING FAIL. This Acia Pills brand ou...</td>\n    </tr>\n    <tr>\n      <th>476</th>\n      <td>4</td>\n      <td>2009-06-13 16:24:08+00:00</td>\n      <td>tessalau</td>\n      <td>Excited about seeing Bobby Flay and Guy Fieri ...</td>\n    </tr>\n    <tr>\n      <th>489</th>\n      <td>4</td>\n      <td>2009-06-13 16:24:15+00:00</td>\n      <td>A_TALL_BLONDE</td>\n      <td>i lam so in love with Bobby Flay... he is my f...</td>\n    </tr>\n    <tr>\n      <th>410</th>\n      <td>0</td>\n      <td>2009-06-02 03:34:37+00:00</td>\n      <td>arianaflyy</td>\n      <td>this dentist's office is cold :/</td>\n    </tr>\n    <tr>\n      <th>7</th>\n      <td>4</td>\n      <td>2009-05-11 03:26:10+00:00</td>\n      <td>dcostalis</td>\n      <td>Jquery is my new best friend.</td>\n    </tr>\n    <tr>\n      <th>40</th>\n      <td>4</td>\n      <td>2009-05-17 15:05:03+00:00</td>\n      <td>VickyTigger</td>\n      <td>I'm listening to \"P.Y.T\" by Danny Gokey &amp;lt;3 ...</td>\n    </tr>\n    <tr>\n      <th>15</th>\n      <td>4</td>\n      <td>2009-05-11 05:20:15+00:00</td>\n      <td>cameronwylie</td>\n      <td>#lebron best athlete of our generation, if not...</td>\n    </tr>\n    <tr>\n      <th>454</th>\n      <td>4</td>\n      <td>2009-06-08 00:01:27+00:00</td>\n      <td>aiban</td>\n      <td>I'd say some sports writers are idiots for say...</td>\n    </tr>\n    <tr>\n      <th>104</th>\n      <td>0</td>\n      <td>2009-05-25 17:46:06+00:00</td>\n      <td>fwhamm</td>\n      <td>is Twitter's connections API broken? Some twee...</td>\n    </tr>\n  </tbody>\n</table>\n</div>"
     },
     "execution_count": 6,
     "metadata": {},
     "output_type": "execute_result"
    }
   ],
   "source": [
    "test.sample(10)"
   ],
   "metadata": {
    "collapsed": false,
    "pycharm": {
     "name": "#%%\n"
    }
   }
  },
  {
   "cell_type": "code",
   "execution_count": 7,
   "outputs": [
    {
     "data": {
      "text/plain": "   polarity                date             user  \\\n0         0 2009-04-06 22:19:45  _TheSpecialOne_   \n1         0 2009-04-06 22:19:49    scotthamilton   \n2         0 2009-04-06 22:19:53         mattycus   \n3         0 2009-04-06 22:19:57          ElleCTF   \n4         0 2009-04-06 22:19:57           Karoli   \n\n                                                text  \n0  @switchfoot http://twitpic.com/2y1zl - Awww, t...  \n1  is upset that he can't update his Facebook by ...  \n2  @Kenichan I dived many times for the ball. Man...  \n3    my whole body feels itchy and like its on fire   \n4  @nationwideclass no, it's not behaving at all....  ",
      "text/html": "<div>\n<style scoped>\n    .dataframe tbody tr th:only-of-type {\n        vertical-align: middle;\n    }\n\n    .dataframe tbody tr th {\n        vertical-align: top;\n    }\n\n    .dataframe thead th {\n        text-align: right;\n    }\n</style>\n<table border=\"1\" class=\"dataframe\">\n  <thead>\n    <tr style=\"text-align: right;\">\n      <th></th>\n      <th>polarity</th>\n      <th>date</th>\n      <th>user</th>\n      <th>text</th>\n    </tr>\n  </thead>\n  <tbody>\n    <tr>\n      <th>0</th>\n      <td>0</td>\n      <td>2009-04-06 22:19:45</td>\n      <td>_TheSpecialOne_</td>\n      <td>@switchfoot http://twitpic.com/2y1zl - Awww, t...</td>\n    </tr>\n    <tr>\n      <th>1</th>\n      <td>0</td>\n      <td>2009-04-06 22:19:49</td>\n      <td>scotthamilton</td>\n      <td>is upset that he can't update his Facebook by ...</td>\n    </tr>\n    <tr>\n      <th>2</th>\n      <td>0</td>\n      <td>2009-04-06 22:19:53</td>\n      <td>mattycus</td>\n      <td>@Kenichan I dived many times for the ball. Man...</td>\n    </tr>\n    <tr>\n      <th>3</th>\n      <td>0</td>\n      <td>2009-04-06 22:19:57</td>\n      <td>ElleCTF</td>\n      <td>my whole body feels itchy and like its on fire</td>\n    </tr>\n    <tr>\n      <th>4</th>\n      <td>0</td>\n      <td>2009-04-06 22:19:57</td>\n      <td>Karoli</td>\n      <td>@nationwideclass no, it's not behaving at all....</td>\n    </tr>\n  </tbody>\n</table>\n</div>"
     },
     "execution_count": 7,
     "metadata": {},
     "output_type": "execute_result"
    }
   ],
   "source": [
    "train.head()"
   ],
   "metadata": {
    "collapsed": false,
    "pycharm": {
     "name": "#%%\n"
    }
   }
  },
  {
   "cell_type": "code",
   "execution_count": 8,
   "outputs": [
    {
     "data": {
      "text/plain": "1    784335\n0    782333\nName: polarity, dtype: int64"
     },
     "execution_count": 8,
     "metadata": {},
     "output_type": "execute_result"
    }
   ],
   "source": [
    "train.polarity = (train.polarity>0).astype(int)\n",
    "train.polarity.value_counts()"
   ],
   "metadata": {
    "collapsed": false,
    "pycharm": {
     "name": "#%%\n"
    }
   }
  },
  {
   "cell_type": "code",
   "execution_count": 9,
   "outputs": [
    {
     "data": {
      "text/plain": "1    180\n0    174\nName: polarity, dtype: int64"
     },
     "execution_count": 9,
     "metadata": {},
     "output_type": "execute_result"
    }
   ],
   "source": [
    "test.polarity = (test.polarity>0).astype(int)\n",
    "test.polarity.value_counts()"
   ],
   "metadata": {
    "collapsed": false,
    "pycharm": {
     "name": "#%%\n"
    }
   }
  },
  {
   "cell_type": "code",
   "execution_count": 10,
   "outputs": [
    {
     "data": {
      "text/plain": "<Figure size 432x288 with 1 Axes>",
      "image/png": "[encoded data removed]"
     },
     "metadata": {},
     "output_type": "display_data"
    }
   ],
   "source": [
    "sns.distplot(train.text.str.len(), kde=False)\n",
    "sns.despine();"
   ],
   "metadata": {
    "collapsed": false,
    "pycharm": {
     "name": "#%%\n"
    }
   }
  },
  {
   "cell_type": "code",
   "execution_count": 11,
   "outputs": [
    {
     "data": {
      "text/plain": "count                 1566668\nunique                 765666\ntop       2009-06-15 12:53:14\nfreq                       20\nfirst     2009-04-06 22:19:45\nlast      2009-06-25 10:28:31\nName: date, dtype: object"
     },
     "execution_count": 11,
     "metadata": {},
     "output_type": "execute_result"
    }
   ],
   "source": [
    "train.date.describe()"
   ],
   "metadata": {
    "collapsed": false,
    "pycharm": {
     "name": "#%%\n"
    }
   }
  },
  {
   "cell_type": "code",
   "execution_count": 12,
   "outputs": [
    {
     "data": {
      "text/plain": "650606"
     },
     "execution_count": 12,
     "metadata": {},
     "output_type": "execute_result"
    }
   ],
   "source": [
    "train.user.nunique()"
   ],
   "metadata": {
    "collapsed": false,
    "pycharm": {
     "name": "#%%\n"
    }
   }
  },
  {
   "cell_type": "code",
   "execution_count": 13,
   "outputs": [
    {
     "data": {
      "text/plain": "lost_dog           549\nwebwoke            341\nSallytheShizzle    276\nVioletsCRUK        275\nmcraddictal        274\ntsarnick           247\nwhat_bugs_u        246\nKaren230683        237\nDarkPiano          232\nSongoftheOss       226\nName: user, dtype: int64"
     },
     "execution_count": 13,
     "metadata": {},
     "output_type": "execute_result"
    }
   ],
   "source": [
    "train.user.value_counts().head(10)"
   ],
   "metadata": {
    "collapsed": false,
    "pycharm": {
     "name": "#%%\n"
    }
   }
  },
  {
   "cell_type": "code",
   "execution_count": 14,
   "outputs": [
    {
     "data": {
      "text/plain": "         polarity                date             user  \\\n239667          0 2009-05-31 07:22:25  LaurenStevie_Ox   \n202166          0 2009-05-30 08:28:58       kareninaaa   \n779909          0 2009-06-24 23:47:10           iammic   \n716028          0 2009-06-20 17:49:51  cardhousedreams   \n914712          1 2009-05-09 23:31:48   AlissaFisher79   \n374877          0 2009-06-05 21:41:37        sweets_89   \n507318          0 2009-06-15 22:44:10          JooWang   \n436703          0 2009-06-07 09:11:51          Chelysa   \n783011          0 2009-06-25 01:32:35        vivienlow   \n1167690         1 2009-05-31 05:35:40    Courtney_Meow   \n\n                                                      text  \n239667   In The Garden Tanning, ListeningTo Music And H...  \n202166   @alqs duh me too qaaa. I dont have any idea ak...  \n779909   No more Shaq-i-boo for PHX SUNS!  http://bit.l...  \n716028   yummy sushi place with the best. bummed to be ...  \n914712   @CaseLynn Not us as far as I know  hee hee. We...  \n374877                   I have no one to eat dinner with   \n507318   Ugh I forgot to get water. Hopefully I don't f...  \n436703                    I want too ROCK AM RING now!!!!   \n783011   I've lost interest in Twitter already.  How? LOL.  \n1167690  im off,..gah exams tomorrow :| night twitter,....  ",
      "text/html": "<div>\n<style scoped>\n    .dataframe tbody tr th:only-of-type {\n        vertical-align: middle;\n    }\n\n    .dataframe tbody tr th {\n        vertical-align: top;\n    }\n\n    .dataframe thead th {\n        text-align: right;\n    }\n</style>\n<table border=\"1\" class=\"dataframe\">\n  <thead>\n    <tr style=\"text-align: right;\">\n      <th></th>\n      <th>polarity</th>\n      <th>date</th>\n      <th>user</th>\n      <th>text</th>\n    </tr>\n  </thead>\n  <tbody>\n    <tr>\n      <th>239667</th>\n      <td>0</td>\n      <td>2009-05-31 07:22:25</td>\n      <td>LaurenStevie_Ox</td>\n      <td>In The Garden Tanning, ListeningTo Music And H...</td>\n    </tr>\n    <tr>\n      <th>202166</th>\n      <td>0</td>\n      <td>2009-05-30 08:28:58</td>\n      <td>kareninaaa</td>\n      <td>@alqs duh me too qaaa. I dont have any idea ak...</td>\n    </tr>\n    <tr>\n      <th>779909</th>\n      <td>0</td>\n      <td>2009-06-24 23:47:10</td>\n      <td>iammic</td>\n      <td>No more Shaq-i-boo for PHX SUNS!  http://bit.l...</td>\n    </tr>\n    <tr>\n      <th>716028</th>\n      <td>0</td>\n      <td>2009-06-20 17:49:51</td>\n      <td>cardhousedreams</td>\n      <td>yummy sushi place with the best. bummed to be ...</td>\n    </tr>\n    <tr>\n      <th>914712</th>\n      <td>1</td>\n      <td>2009-05-09 23:31:48</td>\n      <td>AlissaFisher79</td>\n      <td>@CaseLynn Not us as far as I know  hee hee. We...</td>\n    </tr>\n    <tr>\n      <th>374877</th>\n      <td>0</td>\n      <td>2009-06-05 21:41:37</td>\n      <td>sweets_89</td>\n      <td>I have no one to eat dinner with</td>\n    </tr>\n    <tr>\n      <th>507318</th>\n      <td>0</td>\n      <td>2009-06-15 22:44:10</td>\n      <td>JooWang</td>\n      <td>Ugh I forgot to get water. Hopefully I don't f...</td>\n    </tr>\n    <tr>\n      <th>436703</th>\n      <td>0</td>\n      <td>2009-06-07 09:11:51</td>\n      <td>Chelysa</td>\n      <td>I want too ROCK AM RING now!!!!</td>\n    </tr>\n    <tr>\n      <th>783011</th>\n      <td>0</td>\n      <td>2009-06-25 01:32:35</td>\n      <td>vivienlow</td>\n      <td>I've lost interest in Twitter already.  How? LOL.</td>\n    </tr>\n    <tr>\n      <th>1167690</th>\n      <td>1</td>\n      <td>2009-05-31 05:35:40</td>\n      <td>Courtney_Meow</td>\n      <td>im off,..gah exams tomorrow :| night twitter,....</td>\n    </tr>\n  </tbody>\n</table>\n</div>"
     },
     "execution_count": 14,
     "metadata": {},
     "output_type": "execute_result"
    }
   ],
   "source": [
    "train.sample(10)"
   ],
   "metadata": {
    "collapsed": false,
    "pycharm": {
     "name": "#%%\n"
    }
   }
  },
  {
   "cell_type": "code",
   "execution_count": 15,
   "outputs": [
    {
     "data": {
      "text/plain": "<1566668x934 sparse matrix of type '<class 'numpy.int64'>'\n\twith 6332930 stored elements in Compressed Sparse Row format>"
     },
     "execution_count": 15,
     "metadata": {},
     "output_type": "execute_result"
    }
   ],
   "source": [
    "# Create text vectorizer\n",
    "vectorizer = CountVectorizer(min_df=.001, max_df=.8, stop_words='english')\n",
    "train_dtm = vectorizer.fit_transform(train.text)\n",
    "train_dtm"
   ],
   "metadata": {
    "collapsed": false,
    "pycharm": {
     "name": "#%%\n"
    }
   }
  },
  {
   "cell_type": "code",
   "execution_count": 16,
   "outputs": [],
   "source": [
    "test_dtm = vectorizer.transform(test.text)"
   ],
   "metadata": {
    "collapsed": false,
    "pycharm": {
     "name": "#%%\n"
    }
   }
  },
  {
   "cell_type": "code",
   "execution_count": 17,
   "outputs": [
    {
     "data": {
      "text/plain": "MultinomialNB()"
     },
     "execution_count": 17,
     "metadata": {},
     "output_type": "execute_result"
    }
   ],
   "source": [
    "# Train Naive Bayes Classifier\n",
    "nb = MultinomialNB()\n",
    "nb.fit(train_dtm, train.polarity)"
   ],
   "metadata": {
    "collapsed": false,
    "pycharm": {
     "name": "#%%\n"
    }
   }
  },
  {
   "cell_type": "code",
   "execution_count": 18,
   "outputs": [
    {
     "data": {
      "text/plain": "0.7768361581920904"
     },
     "execution_count": 18,
     "metadata": {},
     "output_type": "execute_result"
    }
   ],
   "source": [
    "predicted_polarity = nb.predict(test_dtm)\n",
    "accuracy_score(test.polarity, predicted_polarity)"
   ],
   "metadata": {
    "collapsed": false,
    "pycharm": {
     "name": "#%%\n"
    }
   }
  },
  {
   "cell_type": "code",
   "execution_count": 19,
   "outputs": [
    {
     "name": "stdout",
     "output_type": "stream",
     "text": [
      "good morning!! in about two hours im going to study  and ill will mis greys anatomy a lot im a hug fan!!! xoxo\n"
     ]
    },
    {
     "data": {
      "text/plain": "0.01171875"
     },
     "execution_count": 19,
     "metadata": {},
     "output_type": "execute_result"
    }
   ],
   "source": [
    "# TextBlob for Sentiment Analysis\n",
    "sample_positive = train.text.loc[25632]\n",
    "print(sample_positive)\n",
    "parsed_positive = TextBlob(sample_positive)\n",
    "parsed_positive.polarity"
   ],
   "metadata": {
    "collapsed": false,
    "pycharm": {
     "name": "#%%\n"
    }
   }
  },
  {
   "cell_type": "code",
   "execution_count": 20,
   "outputs": [
    {
     "name": "stdout",
     "output_type": "stream",
     "text": [
      " i hate this place\n"
     ]
    },
    {
     "data": {
      "text/plain": "-0.8"
     },
     "execution_count": 20,
     "metadata": {},
     "output_type": "execute_result"
    }
   ],
   "source": [
    "sample_negative = train.text.loc[636079]\n",
    "print(sample_negative)\n",
    "parsed_negative = TextBlob(sample_negative)\n",
    "parsed_negative.polarity"
   ],
   "metadata": {
    "collapsed": false,
    "pycharm": {
     "name": "#%%\n"
    }
   }
  },
  {
   "cell_type": "code",
   "execution_count": 21,
   "outputs": [
    {
     "data": {
      "text/plain": "                                                      text  sentiment\n623331   @gatormikenews There was a comment on my blog ...     0.0000\n1363023  PLEASE BELIEVE ANYTHING YU DO I CAN DO BETTA.....     0.0000\n975347   @Kay_Nain  i just wake madam..but i gone back....     0.0000\n163671   @bronte_saurus Oh. Hrmmm in that case I have n...     0.0000\n811944     Sitting in my cube watching the squirrels play      0.0000\n1581488  http://twitpic.com/7j6gb - I'll be seeing the ...     0.2000\n876382   @LuvinMeSomeD I love it! Early afternoon wine ...     0.4375\n1364878  @shaundiviney what if i want more calls but my...     0.5000\n806753   @ElleSergi haha! That made me laugh. I'd certa...     0.5875\n860993   @Raznwlvs Thank you for posting pics of the wo...     0.7500",
      "text/html": "<div>\n<style scoped>\n    .dataframe tbody tr th:only-of-type {\n        vertical-align: middle;\n    }\n\n    .dataframe tbody tr th {\n        vertical-align: top;\n    }\n\n    .dataframe thead th {\n        text-align: right;\n    }\n</style>\n<table border=\"1\" class=\"dataframe\">\n  <thead>\n    <tr style=\"text-align: right;\">\n      <th></th>\n      <th>text</th>\n      <th>sentiment</th>\n    </tr>\n  </thead>\n  <tbody>\n    <tr>\n      <th>623331</th>\n      <td>@gatormikenews There was a comment on my blog ...</td>\n      <td>0.0000</td>\n    </tr>\n    <tr>\n      <th>1363023</th>\n      <td>PLEASE BELIEVE ANYTHING YU DO I CAN DO BETTA.....</td>\n      <td>0.0000</td>\n    </tr>\n    <tr>\n      <th>975347</th>\n      <td>@Kay_Nain  i just wake madam..but i gone back....</td>\n      <td>0.0000</td>\n    </tr>\n    <tr>\n      <th>163671</th>\n      <td>@bronte_saurus Oh. Hrmmm in that case I have n...</td>\n      <td>0.0000</td>\n    </tr>\n    <tr>\n      <th>811944</th>\n      <td>Sitting in my cube watching the squirrels play</td>\n      <td>0.0000</td>\n    </tr>\n    <tr>\n      <th>1581488</th>\n      <td>http://twitpic.com/7j6gb - I'll be seeing the ...</td>\n      <td>0.2000</td>\n    </tr>\n    <tr>\n      <th>876382</th>\n      <td>@LuvinMeSomeD I love it! Early afternoon wine ...</td>\n      <td>0.4375</td>\n    </tr>\n    <tr>\n      <th>1364878</th>\n      <td>@shaundiviney what if i want more calls but my...</td>\n      <td>0.5000</td>\n    </tr>\n    <tr>\n      <th>806753</th>\n      <td>@ElleSergi haha! That made me laugh. I'd certa...</td>\n      <td>0.5875</td>\n    </tr>\n    <tr>\n      <th>860993</th>\n      <td>@Raznwlvs Thank you for posting pics of the wo...</td>\n      <td>0.7500</td>\n    </tr>\n  </tbody>\n</table>\n</div>"
     },
     "execution_count": 21,
     "metadata": {},
     "output_type": "execute_result"
    }
   ],
   "source": [
    "def estimate_polarity(text):\n",
    "    return TextBlob(text).sentiment.polarity\n",
    "\n",
    "train[['text']].sample(10).assign(sentiment=lambda x: x.text.apply(estimate_polarity)).sort_values('sentiment')"
   ],
   "metadata": {
    "collapsed": false,
    "pycharm": {
     "name": "#%%\n"
    }
   }
  },
  {
   "cell_type": "code",
   "execution_count": 22,
   "outputs": [
    {
     "data": {
      "text/plain": "0.7429378531073446"
     },
     "execution_count": 22,
     "metadata": {},
     "output_type": "execute_result"
    }
   ],
   "source": [
    "# Compare with TextBlob Polarity Score\n",
    "test['sentiment'] = test.text.apply(estimate_polarity)\n",
    "accuracy_score(test.polarity, (test.sentiment>0).astype(int))"
   ],
   "metadata": {
    "collapsed": false,
    "pycharm": {
     "name": "#%%\n"
    }
   }
  },
  {
   "cell_type": "code",
   "execution_count": 23,
   "outputs": [
    {
     "data": {
      "text/plain": "0.8254948914431672"
     },
     "execution_count": 23,
     "metadata": {},
     "output_type": "execute_result"
    }
   ],
   "source": [
    "roc_auc_score(y_true=test.polarity, y_score=test.sentiment)"
   ],
   "metadata": {
    "collapsed": false,
    "pycharm": {
     "name": "#%%\n"
    }
   }
  },
  {
   "cell_type": "code",
   "execution_count": 24,
   "outputs": [
    {
     "data": {
      "text/plain": "0.848595146871009"
     },
     "execution_count": 24,
     "metadata": {},
     "output_type": "execute_result"
    }
   ],
   "source": [
    "roc_auc_score(y_true=test.polarity, y_score=nb.predict_proba(test_dtm)[:, 1])"
   ],
   "metadata": {
    "collapsed": false,
    "pycharm": {
     "name": "#%%\n"
    }
   }
  },
  {
   "cell_type": "code",
   "execution_count": 25,
   "outputs": [],
   "source": [
    "fpr_tb, tpr_tb, _ = roc_curve(y_true=test.polarity, y_score=test.sentiment)\n",
    "roc_tb = pd.Series(tpr_tb, index=fpr_tb)\n",
    "fpr_nb, tpr_nb, _ = roc_curve(y_true=test.polarity, y_score=nb.predict_proba(test_dtm)[:, 1])\n",
    "roc_nb = pd.Series(tpr_nb, index=fpr_nb)"
   ],
   "metadata": {
    "collapsed": false,
    "pycharm": {
     "name": "#%%\n"
    }
   }
  },
  {
   "cell_type": "code",
   "execution_count": 26,
   "outputs": [
    {
     "data": {
      "text/plain": "<Figure size 1008x432 with 2 Axes>",
      "image/png": "[encoded data removed]"
     },
     "metadata": {},
     "output_type": "display_data"
    }
   ],
   "source": [
    "fig, axes = plt.subplots(ncols=2, figsize=(14, 6))\n",
    "sns.boxplot(x='polarity', y='sentiment', data=test, ax=axes[0])\n",
    "axes[0].set_title('TextBlob Sentiment Scores')\n",
    "roc_nb.plot(ax=axes[1], label='Naive Bayes', legend=True, lw=1, title='ROC Curves')\n",
    "roc_tb.plot(ax=axes[1], label='TextBlob', legend=True, lw=1)\n",
    "sns.despine()\n",
    "fig.tight_layout();\n",
    "# Naive Bayes outperforms TextBlob in this case. chk below"
   ],
   "metadata": {
    "collapsed": false,
    "pycharm": {
     "name": "#%%\n"
    }
   }
  }
 ],
 "metadata": {
  "kernelspec": {
   "display_name": "Python 3",
   "language": "python",
   "name": "python3"
  },
  "language_info": {
   "codemirror_mode": {
    "name": "ipython",
    "version": 2
   },
   "file_extension": ".py",
   "mimetype": "text/x-python",
   "name": "python",
   "nbconvert_exporter": "python",
   "pygments_lexer": "ipython2",
   "version": "2.7.6"
  }
 },
 "nbformat": 4,
 "nbformat_minor": 0
}