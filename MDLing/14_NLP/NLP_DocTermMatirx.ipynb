{
 "cells": [
  {
   "cell_type": "code",
   "execution_count": 93,
   "metadata": {
    "collapsed": true,
    "pycharm": {
     "name": "#%%\n"
    }
   },
   "outputs": [],
   "source": [
    "import warnings\n",
    "warnings.filterwarnings('ignore')\n",
    "%matplotlib inline\n",
    "\n",
    "from collections import Counter\n",
    "from pathlib import Path\n",
    "\n",
    "import numpy as np\n",
    "import pandas as pd\n",
    "from scipy import sparse\n",
    "from scipy.spatial.distance import pdist\n",
    "\n",
    "# Visualization\n",
    "import matplotlib.pyplot as plt\n",
    "from matplotlib.ticker import ScalarFormatter\n",
    "import seaborn as sns\n",
    "from ipywidgets import interact, FloatRangeSlider\n",
    "\n",
    "# spacy for language processing\n",
    "import spacy\n",
    "\n",
    "# sklearn for feature extraction & modeling\n",
    "from sklearn.feature_extraction.text import CountVectorizer, TfidfVectorizer, TfidfTransformer\n",
    "from sklearn.model_selection import train_test_split\n",
    "sns.set_style('white')"
   ]
  },
  {
   "cell_type": "code",
   "execution_count": 94,
   "outputs": [],
   "source": [
    "path = Path('data', 'bbc')\n",
    "files = sorted(list(path.glob('**/*.txt')))\n",
    "doc_list = []\n",
    "for i, file in enumerate(files):\n",
    "    topic = file.parts[-2]\n",
    "    article = file.read_text(encoding='latin1').split('\\n')\n",
    "    heading = article[0].strip()\n",
    "    body = ' '.join([l.strip() for l in article[1:]]).strip()\n",
    "    doc_list.append([topic, heading, body])"
   ],
   "metadata": {
    "collapsed": false,
    "pycharm": {
     "name": "#%%\n"
    }
   }
  },
  {
   "cell_type": "code",
   "execution_count": 95,
   "outputs": [
    {
     "name": "stdout",
     "output_type": "stream",
     "text": [
      "<class 'pandas.core.frame.DataFrame'>\n",
      "RangeIndex: 2225 entries, 0 to 2224\n",
      "Data columns (total 3 columns):\n",
      " #   Column   Non-Null Count  Dtype \n",
      "---  ------   --------------  ----- \n",
      " 0   topic    2225 non-null   object\n",
      " 1   heading  2225 non-null   object\n",
      " 2   body     2225 non-null   object\n",
      "dtypes: object(3)\n",
      "memory usage: 52.3+ KB\n"
     ]
    }
   ],
   "source": [
    "docs = pd.DataFrame(doc_list, columns=['topic', 'heading', 'body'])\n",
    "docs.info()"
   ],
   "metadata": {
    "collapsed": false,
    "pycharm": {
     "name": "#%%\n"
    }
   }
  },
  {
   "cell_type": "code",
   "execution_count": 96,
   "outputs": [
    {
     "data": {
      "text/plain": "             topic                            heading  \\\n764  entertainment   Cult band Kasabian surge forward   \n534  entertainment   New Harry Potter tops book chart   \n297       business  Fannie Mae 'should restate books'   \n526  entertainment      Spark heads world Booker list   \n581  entertainment      Box office blow for Alexander   \n\n                                                  body  \n764  Indie dance band Kasabian built up a cult foll...  \n534  Harry Potter and the Half-Blood Prince has top...  \n297  US mortgage company Fannie Mae should restate ...  \n526  Dame Muriel Spark is among three British autho...  \n581  Director Oliver Stone's historical epic Alexan...  ",
      "text/html": "<div>\n<style scoped>\n    .dataframe tbody tr th:only-of-type {\n        vertical-align: middle;\n    }\n\n    .dataframe tbody tr th {\n        vertical-align: top;\n    }\n\n    .dataframe thead th {\n        text-align: right;\n    }\n</style>\n<table border=\"1\" class=\"dataframe\">\n  <thead>\n    <tr style=\"text-align: right;\">\n      <th></th>\n      <th>topic</th>\n      <th>heading</th>\n      <th>body</th>\n    </tr>\n  </thead>\n  <tbody>\n    <tr>\n      <th>764</th>\n      <td>entertainment</td>\n      <td>Cult band Kasabian surge forward</td>\n      <td>Indie dance band Kasabian built up a cult foll...</td>\n    </tr>\n    <tr>\n      <th>534</th>\n      <td>entertainment</td>\n      <td>New Harry Potter tops book chart</td>\n      <td>Harry Potter and the Half-Blood Prince has top...</td>\n    </tr>\n    <tr>\n      <th>297</th>\n      <td>business</td>\n      <td>Fannie Mae 'should restate books'</td>\n      <td>US mortgage company Fannie Mae should restate ...</td>\n    </tr>\n    <tr>\n      <th>526</th>\n      <td>entertainment</td>\n      <td>Spark heads world Booker list</td>\n      <td>Dame Muriel Spark is among three British autho...</td>\n    </tr>\n    <tr>\n      <th>581</th>\n      <td>entertainment</td>\n      <td>Box office blow for Alexander</td>\n      <td>Director Oliver Stone's historical epic Alexan...</td>\n    </tr>\n  </tbody>\n</table>\n</div>"
     },
     "execution_count": 96,
     "metadata": {},
     "output_type": "execute_result"
    }
   ],
   "source": [
    "docs.sample(5)"
   ],
   "metadata": {
    "collapsed": false,
    "pycharm": {
     "name": "#%%\n"
    }
   }
  },
  {
   "cell_type": "code",
   "execution_count": 97,
   "outputs": [
    {
     "data": {
      "text/plain": "<pandas.io.formats.style.Styler at 0x189e70a7400>",
      "text/html": "<style type=\"text/css\">\n</style>\n<table id=\"T_407f3\">\n  <thead>\n    <tr>\n      <th class=\"blank level0\" >&nbsp;</th>\n      <th id=\"T_407f3_level0_col0\" class=\"col_heading level0 col0\" >count</th>\n    </tr>\n  </thead>\n  <tbody>\n    <tr>\n      <th id=\"T_407f3_level0_row0\" class=\"row_heading level0 row0\" >sport</th>\n      <td id=\"T_407f3_row0_col0\" class=\"data row0 col0\" >22.97%</td>\n    </tr>\n    <tr>\n      <th id=\"T_407f3_level0_row1\" class=\"row_heading level0 row1\" >business</th>\n      <td id=\"T_407f3_row1_col0\" class=\"data row1 col0\" >22.92%</td>\n    </tr>\n    <tr>\n      <th id=\"T_407f3_level0_row2\" class=\"row_heading level0 row2\" >politics</th>\n      <td id=\"T_407f3_row2_col0\" class=\"data row2 col0\" >18.74%</td>\n    </tr>\n    <tr>\n      <th id=\"T_407f3_level0_row3\" class=\"row_heading level0 row3\" >tech</th>\n      <td id=\"T_407f3_row3_col0\" class=\"data row3 col0\" >18.02%</td>\n    </tr>\n    <tr>\n      <th id=\"T_407f3_level0_row4\" class=\"row_heading level0 row4\" >entertainment</th>\n      <td id=\"T_407f3_row4_col0\" class=\"data row4 col0\" >17.35%</td>\n    </tr>\n  </tbody>\n</table>\n"
     },
     "execution_count": 97,
     "metadata": {},
     "output_type": "execute_result"
    }
   ],
   "source": [
    "docs.topic.value_counts(normalize=True).to_frame('count').style.format({'count': '{:,.2%}'.format})"
   ],
   "metadata": {
    "collapsed": false,
    "pycharm": {
     "name": "#%%\n"
    }
   }
  },
  {
   "cell_type": "code",
   "execution_count": 98,
   "outputs": [
    {
     "name": "stdout",
     "output_type": "stream",
     "text": [
      "Total word cnt: 842,910 | per article: 379\n"
     ]
    }
   ],
   "source": [
    "#word count\n",
    "word_count = docs.body.str.split().str.len().sum()\n",
    "print(f'Total word cnt: {word_count:,d} | per article: {word_count/len(docs):,.0f}')"
   ],
   "metadata": {
    "collapsed": false,
    "pycharm": {
     "name": "#%%\n"
    }
   }
  },
  {
   "cell_type": "code",
   "execution_count": 99,
   "outputs": [
    {
     "name": "stdout",
     "output_type": "stream",
     "text": [
      "1000 2000 "
     ]
    }
   ],
   "source": [
    "token_count = Counter()\n",
    "for i, doc in enumerate(docs.body.tolist(), 1):\n",
    "    if i%1000 == 0:\n",
    "        print(i, end=' ', flush=True)\n",
    "    token_count.update([t.strip() for t in doc.split()])"
   ],
   "metadata": {
    "collapsed": false,
    "pycharm": {
     "name": "#%%\n"
    }
   }
  },
  {
   "cell_type": "code",
   "execution_count": 100,
   "outputs": [
    {
     "name": "stdout",
     "output_type": "stream",
     "text": [
      "tockens: token\n",
      "the     44432\n",
      "to      24460\n",
      "of      19756\n",
      "and     17867\n",
      "a       17115\n",
      "in      16316\n",
      "is       8427\n",
      "for      8424\n",
      "that     7528\n",
      "The      7182\n",
      "Name: count, dtype: int64\n"
     ]
    },
    {
     "data": {
      "text/plain": "<Figure size 1008x288 with 1 Axes>",
      "image/png": "[encoded data removed]"
     },
     "metadata": {},
     "output_type": "display_data"
    }
   ],
   "source": [
    "tokens = (pd.DataFrame(token_count.most_common(), columns=['token', 'count']).set_index('token').squeeze())\n",
    "print(f'tockens: {tokens[:10]}')\n",
    "\n",
    "n = 50\n",
    "(tokens.iloc[:50].plot.bar(figsize=(14, 4), title=f'Most frequent {n} of {len(tokens):,d} tokens'))\n",
    "sns.despine()\n",
    "plt.tight_layout();"
   ],
   "metadata": {
    "collapsed": false,
    "pycharm": {
     "name": "#%%\n"
    }
   }
  },
  {
   "cell_type": "code",
   "execution_count": 101,
   "outputs": [
    {
     "data": {
      "text/plain": "<2225x29275 sparse matrix of type '<class 'numpy.int64'>'\n\twith 445870 stored elements in Compressed Sparse Row format>"
     },
     "execution_count": 101,
     "metadata": {},
     "output_type": "execute_result"
    }
   ],
   "source": [
    "# Document Frequency Distribution\n",
    "# max_df - to remove word that appears too frequently on documents\n",
    "binary_vectorizer = CountVectorizer(max_df=1.0, min_df=1, binary=True)\n",
    "\n",
    "binary_dtm = binary_vectorizer.fit_transform(docs.body)\n",
    "binary_dtm"
   ],
   "metadata": {
    "collapsed": false,
    "pycharm": {
     "name": "#%%\n"
    }
   }
  },
  {
   "cell_type": "code",
   "execution_count": 102,
   "outputs": [
    {
     "data": {
      "text/plain": "Index(['!', '\"', '\"\"unconscionable,', '\"'I', '\"'Oh', '\"'We', '\"'You', '\"(When',\n       '\"...it', '\"100%',\n       ...\n       'Â£900m', 'Â£910m).', 'Â£93.6bn)', 'Â£933m', 'Â£947m', 'Â£960m',\n       'Â£98)', 'Â£99', 'Â£9m', 'Â£9m,'],\n      dtype='object', length=47927)"
     },
     "execution_count": 102,
     "metadata": {},
     "output_type": "execute_result"
    }
   ],
   "source": [
    "n_docs, n_tokens = binary_dtm.shape\n",
    "tokens_dtm = binary_vectorizer.get_feature_names()\n",
    "tokens.index.difference(pd.Index(tokens_dtm))"
   ],
   "metadata": {
    "collapsed": false,
    "pycharm": {
     "name": "#%%\n"
    }
   }
  },
  {
   "cell_type": "code",
   "execution_count": 103,
   "outputs": [
    {
     "data": {
      "text/plain": "29275"
     },
     "execution_count": 103,
     "metadata": {},
     "output_type": "execute_result"
    }
   ],
   "source": [
    "len(binary_vectorizer.get_feature_names())"
   ],
   "metadata": {
    "collapsed": false,
    "pycharm": {
     "name": "#%%\n"
    }
   }
  },
  {
   "cell_type": "code",
   "execution_count": 104,
   "outputs": [],
   "source": [
    "results_path = Path('results', 'bbc')\n",
    "if not results_path.exists():\n",
    "    results_path.mkdir(parents=True)\n",
    "\n",
    "dtm_path = results_path / 'binary_dtm.npz'\n",
    "if not dtm_path.exists():\n",
    "    sparse.save_npz(dtm_path, binary_dtm)\n",
    "\n",
    "token_path = results_path / 'tokens.csv'\n",
    "if not token_path.exists():\n",
    "    pd.Series(tokens_dtm).to_csv(token_path, index=False)\n",
    "else:\n",
    "    tokens = pd.read_csv(token_path, header=None, squeeze=True)\n",
    "\n",
    "doc_freq = pd.Series(np.array(binary_dtm.sum(axis=0)).squeeze()).div(n_docs)\n",
    "max_unique_tokens = np.array(binary_dtm.sum(axis=1)).squeeze().max()"
   ],
   "metadata": {
    "collapsed": false,
    "pycharm": {
     "name": "#%%\n"
    }
   }
  },
  {
   "cell_type": "code",
   "execution_count": 105,
   "outputs": [
    {
     "data": {
      "text/plain": "interactive(children=(FloatRangeSlider(value=(0.0, 1.0), description='Doc. Freq.', layout=Layout(width='800px'…",
      "application/vnd.jupyter.widget-view+json": {
       "version_major": 2,
       "version_minor": 0,
       "model_id": "3902eaaa18ff4d5a98e24d6e7b9edf47"
      }
     },
     "metadata": {},
     "output_type": "display_data"
    }
   ],
   "source": [
    "df_range = FloatRangeSlider(value=[0.0, 1.0], min=0, max=1, step=0.0001, description='Doc. Freq.',\n",
    "                            disabled=False, continuous_update=True, orientation='horizontal', readout=True,\n",
    "                            readout_format='.1%', layout={'width': '800px'})\n",
    "\n",
    "@interact(df_range=df_range)\n",
    "def document_frequency_simulator(df_range):\n",
    "    min_df, max_df = df_range\n",
    "    keep = doc_freq.between(left=min_df, right=max_df)\n",
    "    left = keep.sum()\n",
    "\n",
    "    fig, axes = plt.subplots(ncols=2, figsize=(16, 8))\n",
    "\n",
    "    updated_dtm = binary_dtm.tocsc()[:, np.flatnonzero(keep)]\n",
    "    unique_tokens_per_doc = np.array(updated_dtm.sum(axis=1)).squeeze()\n",
    "    sns.distplot(unique_tokens_per_doc, ax=axes[0], kde=False, norm_hist=False)\n",
    "    axes[0].set_title('Unique Tokens per Doc')\n",
    "    axes[0].set_yscale('log')\n",
    "    axes[0].set_xlabel('# Unique Tokens')\n",
    "    axes[0].set_ylabel('# Documents (log scale)')\n",
    "    axes[0].set_xlim(0, max_unique_tokens)\n",
    "    axes[0].yaxis.set_major_formatter(ScalarFormatter())\n",
    "\n",
    "    term_freq = pd.Series(np.array(updated_dtm.sum(axis=0)).squeeze())\n",
    "    sns.distplot(term_freq, ax=axes[1], kde=False, norm_hist=False)\n",
    "    axes[1].set_title('Document Frequency')\n",
    "    axes[1].set_ylabel('# Tokens')\n",
    "    axes[1].set_xlabel('# Documents')\n",
    "    axes[1].set_yscale('log')\n",
    "    axes[1].set_xlim(0, n_docs)\n",
    "    axes[1].yaxis.set_major_formatter(ScalarFormatter())\n",
    "\n",
    "    title = f'Document/Term Frequency Distribution | # Tokens: {left:,d} ({left/n_tokens:.2%})'\n",
    "    fig.suptitle(title, fontsize=14)\n",
    "    sns.despine()\n",
    "    fig.tight_layout()\n",
    "    fig.subplots_adjust(top=.9)"
   ],
   "metadata": {
    "collapsed": false,
    "pycharm": {
     "name": "#%%\n"
    }
   }
  },
  {
   "cell_type": "code",
   "execution_count": 106,
   "outputs": [
    {
     "data": {
      "text/plain": "(6, 245)"
     },
     "execution_count": 106,
     "metadata": {},
     "output_type": "execute_result"
    }
   ],
   "source": [
    "m = binary_dtm.todense()\n",
    "# return most similar article among documents by cosine similarity(can use various metrics)\n",
    "pairwise_distances = pdist(m, metric='cosine')\n",
    "closest = np.argmin(pairwise_distances)\n",
    "rows, cols = np.triu_indices(n_docs)\n",
    "rows[closest], cols[closest]"
   ],
   "metadata": {
    "collapsed": false,
    "pycharm": {
     "name": "#%%\n"
    }
   }
  },
  {
   "cell_type": "code",
   "execution_count": 107,
   "outputs": [
    {
     "data": {
      "text/plain": "topic                                               business\nheading                     Jobs growth still slow in the US\nbody       The US created fewer jobs than expected in Jan...\nName: 6, dtype: object"
     },
     "execution_count": 107,
     "metadata": {},
     "output_type": "execute_result"
    }
   ],
   "source": [
    "docs.iloc[6].to_frame(6).join(docs.iloc[245].to_frame(245)).to_csv(results_path / 'most_similar.csv')\n",
    "docs.iloc[6]"
   ],
   "metadata": {
    "collapsed": false,
    "pycharm": {
     "name": "#%%\n"
    }
   }
  },
  {
   "cell_type": "code",
   "execution_count": 108,
   "outputs": [
    {
     "data": {
      "text/plain": "0    28972\n1      265\n2       38\ndtype: int64"
     },
     "execution_count": 108,
     "metadata": {},
     "output_type": "execute_result"
    }
   ],
   "source": [
    "pd.DataFrame(binary_dtm[[6, 245], :].todense()).sum(0).value_counts()"
   ],
   "metadata": {
    "collapsed": false,
    "pycharm": {
     "name": "#%%\n"
    }
   }
  },
  {
   "cell_type": "code",
   "execution_count": 109,
   "outputs": [
    {
     "data": {
      "text/plain": "<2225x29275 sparse matrix of type '<class 'numpy.int64'>'\n\twith 445870 stored elements in Compressed Sparse Row format>"
     },
     "execution_count": 109,
     "metadata": {},
     "output_type": "execute_result"
    }
   ],
   "source": [
    "# Baseline: number of unique tokens\n",
    "vectorizer = CountVectorizer() # default: binary=False\n",
    "doc_term_matrix = vectorizer.fit_transform(docs.body)\n",
    "doc_term_matrix"
   ],
   "metadata": {
    "collapsed": false,
    "pycharm": {
     "name": "#%%\n"
    }
   }
  },
  {
   "cell_type": "code",
   "execution_count": 110,
   "outputs": [
    {
     "data": {
      "text/plain": "(2225, 29275)"
     },
     "execution_count": 110,
     "metadata": {},
     "output_type": "execute_result"
    }
   ],
   "source": [
    "doc_term_matrix.shape"
   ],
   "metadata": {
    "collapsed": false,
    "pycharm": {
     "name": "#%%\n"
    }
   }
  },
  {
   "cell_type": "code",
   "execution_count": 111,
   "outputs": [
    {
     "data": {
      "text/plain": "['00',\n '000',\n '0001',\n '000bn',\n '000m',\n '000s',\n '000th',\n '001',\n '001and',\n '001st']"
     },
     "execution_count": 111,
     "metadata": {},
     "output_type": "execute_result"
    }
   ],
   "source": [
    "# vectorizer keeps words\n",
    "words = vectorizer.get_feature_names()\n",
    "words[:10]"
   ],
   "metadata": {
    "collapsed": false,
    "pycharm": {
     "name": "#%%\n"
    }
   }
  },
  {
   "cell_type": "code",
   "execution_count": 112,
   "outputs": [
    {
     "data": {
      "text/plain": "   00  000  0001  000bn  000m  000s  000th  001  001and  001st  ...  zooms  \\\n0   0    1     0      0     0     0      0    0       0      0  ...      0   \n1   0    0     0      0     0     0      0    0       0      0  ...      0   \n2   0    0     0      0     0     0      0    0       0      0  ...      0   \n3   0    1     0      0     0     0      0    0       0      0  ...      0   \n4   0    0     0      0     0     0      0    0       0      0  ...      0   \n\n   zooropa  zornotza  zorro  zubair  zuluaga  zurich  zutons  zvonareva  \\\n0        0         0      0       0        0       0       0          0   \n1        0         0      0       0        0       0       0          0   \n2        0         0      0       0        0       0       0          0   \n3        0         0      0       0        0       0       0          0   \n4        0         0      0       0        0       0       0          0   \n\n   zvyagintsev  \n0            0  \n1            0  \n2            0  \n3            0  \n4            0  \n\n[5 rows x 29275 columns]",
      "text/html": "<div>\n<style scoped>\n    .dataframe tbody tr th:only-of-type {\n        vertical-align: middle;\n    }\n\n    .dataframe tbody tr th {\n        vertical-align: top;\n    }\n\n    .dataframe thead th {\n        text-align: right;\n    }\n</style>\n<table border=\"1\" class=\"dataframe\">\n  <thead>\n    <tr style=\"text-align: right;\">\n      <th></th>\n      <th>00</th>\n      <th>000</th>\n      <th>0001</th>\n      <th>000bn</th>\n      <th>000m</th>\n      <th>000s</th>\n      <th>000th</th>\n      <th>001</th>\n      <th>001and</th>\n      <th>001st</th>\n      <th>...</th>\n      <th>zooms</th>\n      <th>zooropa</th>\n      <th>zornotza</th>\n      <th>zorro</th>\n      <th>zubair</th>\n      <th>zuluaga</th>\n      <th>zurich</th>\n      <th>zutons</th>\n      <th>zvonareva</th>\n      <th>zvyagintsev</th>\n    </tr>\n  </thead>\n  <tbody>\n    <tr>\n      <th>0</th>\n      <td>0</td>\n      <td>1</td>\n      <td>0</td>\n      <td>0</td>\n      <td>0</td>\n      <td>0</td>\n      <td>0</td>\n      <td>0</td>\n      <td>0</td>\n      <td>0</td>\n      <td>...</td>\n      <td>0</td>\n      <td>0</td>\n      <td>0</td>\n      <td>0</td>\n      <td>0</td>\n      <td>0</td>\n      <td>0</td>\n      <td>0</td>\n      <td>0</td>\n      <td>0</td>\n    </tr>\n    <tr>\n      <th>1</th>\n      <td>0</td>\n      <td>0</td>\n      <td>0</td>\n      <td>0</td>\n      <td>0</td>\n      <td>0</td>\n      <td>0</td>\n      <td>0</td>\n      <td>0</td>\n      <td>0</td>\n      <td>...</td>\n      <td>0</td>\n      <td>0</td>\n      <td>0</td>\n      <td>0</td>\n      <td>0</td>\n      <td>0</td>\n      <td>0</td>\n      <td>0</td>\n      <td>0</td>\n      <td>0</td>\n    </tr>\n    <tr>\n      <th>2</th>\n      <td>0</td>\n      <td>0</td>\n      <td>0</td>\n      <td>0</td>\n      <td>0</td>\n      <td>0</td>\n      <td>0</td>\n      <td>0</td>\n      <td>0</td>\n      <td>0</td>\n      <td>...</td>\n      <td>0</td>\n      <td>0</td>\n      <td>0</td>\n      <td>0</td>\n      <td>0</td>\n      <td>0</td>\n      <td>0</td>\n      <td>0</td>\n      <td>0</td>\n      <td>0</td>\n    </tr>\n    <tr>\n      <th>3</th>\n      <td>0</td>\n      <td>1</td>\n      <td>0</td>\n      <td>0</td>\n      <td>0</td>\n      <td>0</td>\n      <td>0</td>\n      <td>0</td>\n      <td>0</td>\n      <td>0</td>\n      <td>...</td>\n      <td>0</td>\n      <td>0</td>\n      <td>0</td>\n      <td>0</td>\n      <td>0</td>\n      <td>0</td>\n      <td>0</td>\n      <td>0</td>\n      <td>0</td>\n      <td>0</td>\n    </tr>\n    <tr>\n      <th>4</th>\n      <td>0</td>\n      <td>0</td>\n      <td>0</td>\n      <td>0</td>\n      <td>0</td>\n      <td>0</td>\n      <td>0</td>\n      <td>0</td>\n      <td>0</td>\n      <td>0</td>\n      <td>...</td>\n      <td>0</td>\n      <td>0</td>\n      <td>0</td>\n      <td>0</td>\n      <td>0</td>\n      <td>0</td>\n      <td>0</td>\n      <td>0</td>\n      <td>0</td>\n      <td>0</td>\n    </tr>\n  </tbody>\n</table>\n<p>5 rows × 29275 columns</p>\n</div>"
     },
     "execution_count": 112,
     "metadata": {},
     "output_type": "execute_result"
    }
   ],
   "source": [
    "# from scipy compressed sparse row matrix to sparse DataFrame\n",
    "doc_term_matrix_df = pd.DataFrame.sparse.from_spmatrix(doc_term_matrix, columns=words)\n",
    "doc_term_matrix_df.head()"
   ],
   "metadata": {
    "collapsed": false,
    "pycharm": {
     "name": "#%%\n"
    }
   }
  },
  {
   "cell_type": "code",
   "execution_count": 113,
   "outputs": [
    {
     "data": {
      "text/plain": "the    52574\nto     24767\nof     19930\nand    18574\nin     17553\ndtype: int32"
     },
     "execution_count": 113,
     "metadata": {},
     "output_type": "execute_result"
    }
   ],
   "source": [
    "# Most frequent terms\n",
    "word_freq = doc_term_matrix_df.sum(axis=0).astype(int)\n",
    "word_freq.sort_values(ascending=False).head()"
   ],
   "metadata": {
    "collapsed": false,
    "pycharm": {
     "name": "#%%\n"
    }
   }
  },
  {
   "cell_type": "code",
   "execution_count": 114,
   "outputs": [
    {
     "data": {
      "text/plain": "(2225, 29275)"
     },
     "execution_count": 114,
     "metadata": {},
     "output_type": "execute_result"
    }
   ],
   "source": [
    "# Compute relative term frequency\n",
    "vectorizer = CountVectorizer(binary=True)\n",
    "doc_term_matrix = vectorizer.fit_transform(docs.body)\n",
    "doc_term_matrix.shape"
   ],
   "metadata": {
    "collapsed": false,
    "pycharm": {
     "name": "#%%\n"
    }
   }
  },
  {
   "cell_type": "code",
   "execution_count": 115,
   "outputs": [
    {
     "data": {
      "text/plain": "the     1.000000\nto      0.995056\nof      0.991461\nand     0.991011\nin      0.990562\nfor     0.930337\non      0.906517\nis      0.862472\nit      0.858427\nsaid    0.848539\ndtype: float64"
     },
     "execution_count": 115,
     "metadata": {},
     "output_type": "execute_result"
    }
   ],
   "source": [
    "words = vectorizer.get_feature_names()\n",
    "word_freq = doc_term_matrix.sum(axis=0)\n",
    "\n",
    "# reduce to 1D array\n",
    "word_freq_1d = np.squeeze(np.asarray(word_freq))\n",
    "\n",
    "pd.Series(word_freq_1d, index=words).div(docs.shape[0]).sort_values(ascending=False).head(10)"
   ],
   "metadata": {
    "collapsed": false,
    "pycharm": {
     "name": "#%%\n"
    }
   }
  },
  {
   "cell_type": "code",
   "execution_count": 116,
   "outputs": [
    {
     "data": {
      "text/plain": "<Figure size 1296x1296 with 2 Axes>",
      "image/png": "[encoded data removed]"
     },
     "metadata": {},
     "output_type": "display_data"
    }
   ],
   "source": [
    "# Visualize Doc-Term Matrix\n",
    "sns.heatmap(pd.DataFrame(doc_term_matrix.todense(), columns=words), cmap='Blues')\n",
    "plt.gcf().set_size_inches(18, 18);"
   ],
   "metadata": {
    "collapsed": false,
    "pycharm": {
     "name": "#%%\n"
    }
   }
  },
  {
   "cell_type": "code",
   "execution_count": 117,
   "outputs": [
    {
     "data": {
      "text/plain": "(2225, 12789)"
     },
     "execution_count": 117,
     "metadata": {},
     "output_type": "execute_result"
    }
   ],
   "source": [
    "# Using thresholds to reduce the number of tokens\n",
    "vectorizer = CountVectorizer(max_df=.2, min_df=3, stop_words='english')\n",
    "doc_term_matrix = vectorizer.fit_transform(docs.body)\n",
    "doc_term_matrix.shape"
   ],
   "metadata": {
    "collapsed": false,
    "pycharm": {
     "name": "#%%\n"
    }
   }
  },
  {
   "cell_type": "code",
   "execution_count": 118,
   "outputs": [
    {
     "data": {
      "text/plain": "(2225, 25216)"
     },
     "execution_count": 118,
     "metadata": {},
     "output_type": "execute_result"
    }
   ],
   "source": [
    "# Building a custom tokenizer for Lemmatization with spacy\n",
    "# Lemmatization considers words and the part of speech. Whereas, the word only for stemming.\n",
    "nlp = spacy.load('en_core_web_sm')\n",
    "def tokenizer(doc):\n",
    "    return [w.lemma_ for w in nlp(doc) if not w.is_punct | w.is_space]\n",
    "\n",
    "vectorizer = CountVectorizer(tokenizer=tokenizer, binary=True)\n",
    "doc_term_matrix = vectorizer.fit_transform(docs.body)\n",
    "doc_term_matrix.shape"
   ],
   "metadata": {
    "collapsed": false,
    "pycharm": {
     "name": "#%%\n"
    }
   }
  },
  {
   "cell_type": "code",
   "execution_count": 119,
   "outputs": [
    {
     "data": {
      "text/plain": "from    0.702022\nbut     0.732135\nas      0.742022\nby      0.765843\nat      0.792809\nwith    0.824719\nthat    0.830562\nit      0.858427\nsay     0.881798\n's      0.895730\non      0.906517\nfor     0.930337\nhave    0.971236\nin      0.990562\nand     0.991011\nof      0.991461\na       0.992809\nto      0.995056\nbe      0.998202\nthe     1.000000\ndtype: float64"
     },
     "execution_count": 119,
     "metadata": {},
     "output_type": "execute_result"
    }
   ],
   "source": [
    "lemmatized_words = vectorizer.get_feature_names()\n",
    "word_freq = doc_term_matrix.sum(axis=0)\n",
    "word_freq_1d = np.squeeze(np.asarray(word_freq))\n",
    "word_freq_1d = pd.Series(word_freq_1d, index=lemmatized_words).div(docs.shape[0])\n",
    "word_freq_1d.sort_values().tail(20)"
   ],
   "metadata": {
    "collapsed": false,
    "pycharm": {
     "name": "#%%\n"
    }
   }
  },
  {
   "cell_type": "code",
   "execution_count": 120,
   "outputs": [],
   "source": [
    "sample_docs = ['call you tomorrow', 'Call me a taxi', 'please call me... PLEASE!']"
   ],
   "metadata": {
    "collapsed": false,
    "pycharm": {
     "name": "#%%\n"
    }
   }
  },
  {
   "cell_type": "code",
   "execution_count": 121,
   "outputs": [
    {
     "name": "stdout",
     "output_type": "stream",
     "text": [
      "   call  me  please  taxi  tomorrow  you\n",
      "0     1   0       0     0         1    1\n",
      "1     1   1       0     1         0    0\n",
      "2     1   1       2     0         0    0\n"
     ]
    }
   ],
   "source": [
    "# Compute term frequency\n",
    "vectorizer = CountVectorizer()\n",
    "tf_dtm = vectorizer.fit_transform(sample_docs).todense()\n",
    "tokens = vectorizer.get_feature_names()\n",
    "term_frequency = pd.DataFrame(data=tf_dtm, columns=tokens)\n",
    "print(term_frequency)"
   ],
   "metadata": {
    "collapsed": false,
    "pycharm": {
     "name": "#%%\n"
    }
   }
  },
  {
   "cell_type": "code",
   "execution_count": 122,
   "outputs": [
    {
     "name": "stdout",
     "output_type": "stream",
     "text": [
      "   call  me  please  taxi  tomorrow  you\n",
      "0     3   2       1     1         1    1\n"
     ]
    }
   ],
   "source": [
    "# Compute document frequency\n",
    "vectorizer = CountVectorizer(binary=True)\n",
    "df_dtm = vectorizer.fit_transform(sample_docs).todense().sum(axis=0)\n",
    "document_frequency = pd.DataFrame(data=df_dtm, columns=tokens)\n",
    "print(document_frequency)"
   ],
   "metadata": {
    "collapsed": false,
    "pycharm": {
     "name": "#%%\n"
    }
   }
  },
  {
   "cell_type": "code",
   "execution_count": 123,
   "outputs": [
    {
     "name": "stdout",
     "output_type": "stream",
     "text": [
      "       call   me  please  taxi  tomorrow  you\n",
      "0  0.333333  0.0     0.0   0.0       1.0  1.0\n",
      "1  0.333333  0.5     0.0   1.0       0.0  0.0\n",
      "2  0.333333  0.5     2.0   0.0       0.0  0.0\n"
     ]
    }
   ],
   "source": [
    "# Compute TfIDF\n",
    "tfidf = pd.DataFrame(data=tf_dtm/df_dtm, columns=tokens)\n",
    "print(tfidf)"
   ],
   "metadata": {
    "collapsed": false,
    "pycharm": {
     "name": "#%%\n"
    }
   }
  },
  {
   "cell_type": "code",
   "execution_count": 150,
   "outputs": [
    {
     "name": "stdout",
     "output_type": "stream",
     "text": [
      "       call        me    please      taxi  tomorrow       you\n",
      "0  0.385372  0.000000  0.000000  0.000000  0.652491  0.652491\n",
      "1  0.425441  0.547832  0.000000  0.720333  0.000000  0.000000\n",
      "2  0.266075  0.342620  0.901008  0.000000  0.000000  0.000000\n"
     ]
    }
   ],
   "source": [
    "# for smoothing effect - smooth_idf(+1) and sublinear_tf(1+log(tf))\n",
    "vect = TfidfVectorizer(smooth_idf=True, norm='l2', # squared weights sum to 1 by document\n",
    "                       sublinear_tf=False,   # if True, use 1+log(tf)\n",
    "                       binary=False)\n",
    "print(pd.DataFrame(vect.fit_transform(sample_docs).todense(), columns=vect.get_feature_names()))"
   ],
   "metadata": {
    "collapsed": false,
    "pycharm": {
     "name": "#%%\n"
    }
   }
  },
  {
   "cell_type": "code",
   "execution_count": 125,
   "outputs": [
    {
     "data": {
      "text/plain": "(2225, 28980)"
     },
     "execution_count": 125,
     "metadata": {},
     "output_type": "execute_result"
    }
   ],
   "source": [
    "# TfIDF with new articles\n",
    "tfidf = TfidfVectorizer(stop_words='english')\n",
    "dtm_tfidf = tfidf.fit_transform(docs.body)\n",
    "tokens = tfidf.get_feature_names()\n",
    "dtm_tfidf.shape"
   ],
   "metadata": {
    "collapsed": false,
    "pycharm": {
     "name": "#%%\n"
    }
   }
  },
  {
   "cell_type": "code",
   "execution_count": 152,
   "outputs": [
    {
     "data": {
      "text/plain": "                tfidf\ntoken                \nsaid        87.251494\nmr          58.220783\nyear        41.982178\npeople      37.303707\nnew         34.197388\nfilm        29.728250\ngovernment  28.792651\nworld       27.031199\ntime        26.358319\nbest        26.304266\nbaked        0.014186\npavlovian    0.014186\nbuzzcocks    0.014186\nsisterhood   0.014186\nsiouxsie     0.014186\nsioux        0.014186\nbane         0.014186\nbiassed      0.014186\nduetted      0.014186\nspeechless   0.014186",
      "text/html": "<div>\n<style scoped>\n    .dataframe tbody tr th:only-of-type {\n        vertical-align: middle;\n    }\n\n    .dataframe tbody tr th {\n        vertical-align: top;\n    }\n\n    .dataframe thead th {\n        text-align: right;\n    }\n</style>\n<table border=\"1\" class=\"dataframe\">\n  <thead>\n    <tr style=\"text-align: right;\">\n      <th></th>\n      <th>tfidf</th>\n    </tr>\n    <tr>\n      <th>token</th>\n      <th></th>\n    </tr>\n  </thead>\n  <tbody>\n    <tr>\n      <th>said</th>\n      <td>87.251494</td>\n    </tr>\n    <tr>\n      <th>mr</th>\n      <td>58.220783</td>\n    </tr>\n    <tr>\n      <th>year</th>\n      <td>41.982178</td>\n    </tr>\n    <tr>\n      <th>people</th>\n      <td>37.303707</td>\n    </tr>\n    <tr>\n      <th>new</th>\n      <td>34.197388</td>\n    </tr>\n    <tr>\n      <th>film</th>\n      <td>29.728250</td>\n    </tr>\n    <tr>\n      <th>government</th>\n      <td>28.792651</td>\n    </tr>\n    <tr>\n      <th>world</th>\n      <td>27.031199</td>\n    </tr>\n    <tr>\n      <th>time</th>\n      <td>26.358319</td>\n    </tr>\n    <tr>\n      <th>best</th>\n      <td>26.304266</td>\n    </tr>\n    <tr>\n      <th>baked</th>\n      <td>0.014186</td>\n    </tr>\n    <tr>\n      <th>pavlovian</th>\n      <td>0.014186</td>\n    </tr>\n    <tr>\n      <th>buzzcocks</th>\n      <td>0.014186</td>\n    </tr>\n    <tr>\n      <th>sisterhood</th>\n      <td>0.014186</td>\n    </tr>\n    <tr>\n      <th>siouxsie</th>\n      <td>0.014186</td>\n    </tr>\n    <tr>\n      <th>sioux</th>\n      <td>0.014186</td>\n    </tr>\n    <tr>\n      <th>bane</th>\n      <td>0.014186</td>\n    </tr>\n    <tr>\n      <th>biassed</th>\n      <td>0.014186</td>\n    </tr>\n    <tr>\n      <th>duetted</th>\n      <td>0.014186</td>\n    </tr>\n    <tr>\n      <th>speechless</th>\n      <td>0.014186</td>\n    </tr>\n  </tbody>\n</table>\n</div>"
     },
     "execution_count": 152,
     "metadata": {},
     "output_type": "execute_result"
    }
   ],
   "source": [
    "token_freq = (pd.DataFrame({'tfidf': dtm_tfidf.sum(axis=0).A1, 'token': tokens})\n",
    "              .sort_values('tfidf', ascending=False))\n",
    "token_freq.head(10).append(token_freq.tail(10)).set_index('token')"
   ],
   "metadata": {
    "collapsed": false,
    "pycharm": {
     "name": "#%%\n"
    }
   }
  },
  {
   "cell_type": "code",
   "execution_count": 127,
   "outputs": [
    {
     "name": "stdout",
     "output_type": "stream",
     "text": [
      "Topic:\tTech\n",
      "\n",
      "Sony PSP tipped as a 'must-have'\n",
      "\n",
      "Sony's Playstation Portable is the top gadget for 2005, according to a round-up of ultimate gizmos compiled by Stuff Magazine.  It beats the iPod into second place in the Top Ten Essentials list which predicts what gadget-lovers are likely to covet this year. Owning all 10 gadgets will set the gadget lover back Â£7,455. That is Â£1,000 cheaper than last year's list due to falling manufacturing costs making gadgets more affordable.  Portable gadgets dominate the list, including Sharp's 902 3G mobile phone, the Pentax Optio SV digital camera and Samsung's Yepp YH-999 video jukebox.  \"What this year's Essentials shows is that gadgets are now cheaper, sexier and more indispensable than ever. We've got to the point where we can't live our lives without certain technology,\" said Adam Vaughan, editor of Stuff Essentials. The proliferation of gadgets in our homes is inexorably altering the role of the high street in our lives thinks Mr Vaughan. \"Take digital cameras, who would now pay to develop an entire film of photos? Or legitimate downloads, who would travel miles to a record shop when they could download the song in minutes for 70p?\" he asks. Next year will see a new set of technologies capturing the imaginations of gadget lovers, Stuff predicts. The Xbox 2, high-definition TV and MP3 mobiles will be among the list of must-haves that will dominate 2006, it says. The spring launch of the PSP in the UK is eagerly awaited by gaming fans.\n"
     ]
    }
   ],
   "source": [
    "# Summarizing news articles using TfIDF weights\n",
    "article = docs.sample(1).squeeze()\n",
    "article_id = article.name\n",
    "print(f'Topic:\\t{article.topic.capitalize()}\\n\\n{article.heading}\\n')\n",
    "print(article.body.strip())"
   ],
   "metadata": {
    "collapsed": false,
    "pycharm": {
     "name": "#%%\n"
    }
   }
  },
  {
   "cell_type": "code",
   "execution_count": 128,
   "outputs": [
    {
     "data": {
      "text/plain": "gadgets       0.339949\nessentials    0.291426\ngadget        0.265057\nlist          0.205897\nstuff         0.201818\nvaughan       0.179435\ndominate      0.159211\nlovers        0.155889\npredicts      0.145656\ncheaper       0.134545\ndtype: float64"
     },
     "execution_count": 128,
     "metadata": {},
     "output_type": "execute_result"
    }
   ],
   "source": [
    "# Select most relevant tokens by tfidf value\n",
    "article_tfidf = dtm_tfidf[article_id].todense().A1\n",
    "article_tokens = pd.Series(article_tfidf, index=tokens)\n",
    "article_tokens.sort_values(ascending=False).head(10)"
   ],
   "metadata": {
    "collapsed": false,
    "pycharm": {
     "name": "#%%\n"
    }
   }
  },
  {
   "cell_type": "code",
   "execution_count": 129,
   "outputs": [
    {
     "data": {
      "text/plain": "['film',\n 'in',\n 'year.',\n 'to',\n 'of',\n \"year's\",\n 'mobile',\n 'gadgets',\n 'he',\n 'photos?']"
     },
     "execution_count": 129,
     "metadata": {},
     "output_type": "execute_result"
    }
   ],
   "source": [
    "# Compare to random selection\n",
    "pd.Series(article.body.split()).sample(10).tolist()"
   ],
   "metadata": {
    "collapsed": false,
    "pycharm": {
     "name": "#%%\n"
    }
   }
  },
  {
   "cell_type": "code",
   "execution_count": 130,
   "outputs": [
    {
     "data": {
      "text/plain": "((2175, 3), (50, 3))"
     },
     "execution_count": 130,
     "metadata": {},
     "output_type": "execute_result"
    }
   ],
   "source": [
    "# Create Train & Test Sets - Stratified train_test_split\n",
    "train_docs, test_docs = train_test_split(docs, stratify=docs.topic, test_size=50, random_state=42)\n",
    "train_docs.shape, test_docs.shape"
   ],
   "metadata": {
    "collapsed": false,
    "pycharm": {
     "name": "#%%\n"
    }
   }
  },
  {
   "cell_type": "code",
   "execution_count": 131,
   "outputs": [
    {
     "data": {
      "text/plain": "sport            12\nbusiness         11\nentertainment     9\ntech              9\npolitics          9\nName: topic, dtype: int64"
     },
     "execution_count": 131,
     "metadata": {},
     "output_type": "execute_result"
    }
   ],
   "source": [
    "pd.Series(test_docs.topic).value_counts()"
   ],
   "metadata": {
    "collapsed": false,
    "pycharm": {
     "name": "#%%\n"
    }
   }
  },
  {
   "cell_type": "code",
   "execution_count": 132,
   "outputs": [
    {
     "data": {
      "text/plain": "<2175x2000 sparse matrix of type '<class 'numpy.int64'>'\n\twith 178762 stored elements in Compressed Sparse Row format>"
     },
     "execution_count": 132,
     "metadata": {},
     "output_type": "execute_result"
    }
   ],
   "source": [
    "# Vectorize train & test sets\n",
    "vectorizer = CountVectorizer(max_df=.2, min_df=3, stop_words='english', max_features=2000)\n",
    "\n",
    "train_dtm = vectorizer.fit_transform(train_docs.body)\n",
    "words = vectorizer.get_feature_names()\n",
    "train_dtm"
   ],
   "metadata": {
    "collapsed": false,
    "pycharm": {
     "name": "#%%\n"
    }
   }
  },
  {
   "cell_type": "code",
   "execution_count": 133,
   "outputs": [
    {
     "data": {
      "text/plain": "<50x2000 sparse matrix of type '<class 'numpy.int64'>'\n\twith 4048 stored elements in Compressed Sparse Row format>"
     },
     "execution_count": 133,
     "metadata": {},
     "output_type": "execute_result"
    }
   ],
   "source": [
    "test_dtm = vectorizer.transform(test_docs.body)\n",
    "test_dtm"
   ],
   "metadata": {
    "collapsed": false,
    "pycharm": {
     "name": "#%%\n"
    }
   }
  }
 ],
 "metadata": {
  "kernelspec": {
   "display_name": "Python 3",
   "language": "python",
   "name": "python3"
  },
  "language_info": {
   "codemirror_mode": {
    "name": "ipython",
    "version": 2
   },
   "file_extension": ".py",
   "mimetype": "text/x-python",
   "name": "python",
   "nbconvert_exporter": "python",
   "pygments_lexer": "ipython2",
   "version": "2.7.6"
  }
 },
 "nbformat": 4,
 "nbformat_minor": 0
}