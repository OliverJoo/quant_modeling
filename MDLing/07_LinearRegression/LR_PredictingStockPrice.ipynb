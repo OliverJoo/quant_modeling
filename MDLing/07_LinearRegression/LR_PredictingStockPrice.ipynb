{
 "cells": [
  {
   "cell_type": "code",
   "execution_count": 1,
   "metadata": {
    "collapsed": true,
    "pycharm": {
     "name": "#%%\n"
    }
   },
   "outputs": [],
   "source": [
    "import warnings\n",
    "warnings.filterwarnings('ignore')\n",
    "from pathlib import Path\n",
    "import sys, os\n",
    "from time import time\n",
    "\n",
    "import pandas as pd\n",
    "import numpy as np\n",
    "\n",
    "from scipy.stats import spearmanr\n",
    "\n",
    "from sklearn.metrics import roc_auc_score\n",
    "from sklearn.linear_model import LogisticRegression\n",
    "from sklearn.pipeline import Pipeline\n",
    "from sklearn.preprocessing import StandardScaler\n",
    "\n",
    "import seaborn as sns\n",
    "import matplotlib.pyplot as plt\n",
    "sys.path.insert(1, os.path.join(sys.path[0], '..'))\n",
    "sns.set_style('darkgrid')\n",
    "idx = pd.IndexSlice\n",
    "YEAR = 252"
   ]
  },
  {
   "cell_type": "code",
   "execution_count": 2,
   "outputs": [],
   "source": [
    "class MultipleTimeSeriesCV:\n",
    "    def __init__(self, n_splits=3, train_period_length=126, test_period_length=21, lookahead=None, shuffle=False):\n",
    "        self.n_splits = n_splits\n",
    "        self.lookahead = lookahead\n",
    "        self.test_length = test_period_length\n",
    "        self.train_length = train_period_length\n",
    "        self.shuffle = shuffle\n",
    "\n",
    "    def split(self, X, y=None, groups=None):\n",
    "        unique_dates = X.index.get_level_values('date').unique()\n",
    "        days = sorted(unique_dates, reverse=True)\n",
    "\n",
    "        split_idx = []\n",
    "        for i in range(self.n_splits):\n",
    "            test_end_idx = i * self.test_length\n",
    "            test_start_idx = test_end_idx + self.test_length\n",
    "            train_end_idx = test_start_idx + self.lookahead - 1\n",
    "            train_start_idx = train_end_idx + self.train_length + self.lookahead - 1\n",
    "            split_idx.append([train_start_idx, train_end_idx, test_start_idx, test_end_idx])\n",
    "\n",
    "        dates = X.reset_index()[['date']]\n",
    "        for train_start, train_end, test_start, test_end in split_idx:\n",
    "            train_idx = dates[(dates.date > days[train_start]) & (dates.date <= days[train_end])].index\n",
    "            test_idx = dates[(dates.date > days[test_start]) & (dates.date <= days[test_end])].index\n",
    "            if self.shuffle:\n",
    "                np.random.shuffle(list(train_idx))\n",
    "            yield train_idx, test_idx\n",
    "\n",
    "    def get_n_splits(self, X, y, groups=None):\n",
    "        return self.n_splits"
   ],
   "metadata": {
    "collapsed": false,
    "pycharm": {
     "name": "#%%\n"
    }
   }
  },
  {
   "cell_type": "code",
   "execution_count": 3,
   "outputs": [],
   "source": [
    "with pd.HDFStore('data/data.h5') as store:\n",
    "    data = (store['model_data'].dropna().drop(['open', 'close', 'low', 'high'], axis=1))\n",
    "data = data.drop([c for c in data.columns if 'year' in c or 'lag' in c], axis=1)"
   ],
   "metadata": {
    "collapsed": false,
    "pycharm": {
     "name": "#%%\n"
    }
   }
  },
  {
   "cell_type": "code",
   "execution_count": 5,
   "outputs": [
    {
     "data": {
      "text/plain": "                    volume  dollar_vol  dollar_vol_1m  dollar_vol_rank  \\\nticker date                                                              \nZUMZ   2017-11-22  265.795   4943.7870    5761.835586           1545.0   \n       2017-11-24  208.610   3974.0205    5720.920719           1536.0   \n       2017-11-27  443.388   8513.0496    5915.601226           1518.0   \n       2017-11-28  689.911  13867.2111    6376.928660           1491.0   \n       2017-11-29  724.964  15115.4994    6934.407026           1470.0   \n\n                         rsi   bb_high   bb_mid    bb_low       atr      macd  \\\nticker date                                                                     \nZUMZ   2017-11-22  55.097028  0.038098  18.1600  0.084078 -0.811466  0.561643   \n       2017-11-24  58.668474  0.020911  18.2100  0.104159 -0.743366  0.580630   \n       2017-11-27  59.815803  0.018437  18.2450  0.111935 -0.572586  0.605366   \n       2017-11-28  65.927314 -0.010605  18.3525  0.151383 -0.449853  0.716139   \n       2017-11-29  70.019337 -0.025148  18.5250  0.181312 -0.371734  0.876695   \n\n                   ...  consumer_durables  consumer_non-durables  \\\nticker date        ...                                             \nZUMZ   2017-11-22  ...                  0                      0   \n       2017-11-24  ...                  0                      0   \n       2017-11-27  ...                  0                      0   \n       2017-11-28  ...                  0                      0   \n       2017-11-29  ...                  0                      0   \n\n                   consumer_services  energy  finance  health_care  \\\nticker date                                                          \nZUMZ   2017-11-22                  1       0        0            0   \n       2017-11-24                  1       0        0            0   \n       2017-11-27                  1       0        0            0   \n       2017-11-28                  1       0        0            0   \n       2017-11-29                  1       0        0            0   \n\n                   miscellaneous  public_utilities  technology  transportation  \nticker date                                                                     \nZUMZ   2017-11-22              0                 0           0               0  \n       2017-11-24              0                 0           0               0  \n       2017-11-27              0                 0           0               0  \n       2017-11-28              0                 0           0               0  \n       2017-11-29              0                 0           0               0  \n\n[5 rows x 42 columns]",
      "text/html": "<div>\n<style scoped>\n    .dataframe tbody tr th:only-of-type {\n        vertical-align: middle;\n    }\n\n    .dataframe tbody tr th {\n        vertical-align: top;\n    }\n\n    .dataframe thead th {\n        text-align: right;\n    }\n</style>\n<table border=\"1\" class=\"dataframe\">\n  <thead>\n    <tr style=\"text-align: right;\">\n      <th></th>\n      <th></th>\n      <th>volume</th>\n      <th>dollar_vol</th>\n      <th>dollar_vol_1m</th>\n      <th>dollar_vol_rank</th>\n      <th>rsi</th>\n      <th>bb_high</th>\n      <th>bb_mid</th>\n      <th>bb_low</th>\n      <th>atr</th>\n      <th>macd</th>\n      <th>...</th>\n      <th>consumer_durables</th>\n      <th>consumer_non-durables</th>\n      <th>consumer_services</th>\n      <th>energy</th>\n      <th>finance</th>\n      <th>health_care</th>\n      <th>miscellaneous</th>\n      <th>public_utilities</th>\n      <th>technology</th>\n      <th>transportation</th>\n    </tr>\n    <tr>\n      <th>ticker</th>\n      <th>date</th>\n      <th></th>\n      <th></th>\n      <th></th>\n      <th></th>\n      <th></th>\n      <th></th>\n      <th></th>\n      <th></th>\n      <th></th>\n      <th></th>\n      <th></th>\n      <th></th>\n      <th></th>\n      <th></th>\n      <th></th>\n      <th></th>\n      <th></th>\n      <th></th>\n      <th></th>\n      <th></th>\n      <th></th>\n    </tr>\n  </thead>\n  <tbody>\n    <tr>\n      <th rowspan=\"5\" valign=\"top\">ZUMZ</th>\n      <th>2017-11-22</th>\n      <td>265.795</td>\n      <td>4943.7870</td>\n      <td>5761.835586</td>\n      <td>1545.0</td>\n      <td>55.097028</td>\n      <td>0.038098</td>\n      <td>18.1600</td>\n      <td>0.084078</td>\n      <td>-0.811466</td>\n      <td>0.561643</td>\n      <td>...</td>\n      <td>0</td>\n      <td>0</td>\n      <td>1</td>\n      <td>0</td>\n      <td>0</td>\n      <td>0</td>\n      <td>0</td>\n      <td>0</td>\n      <td>0</td>\n      <td>0</td>\n    </tr>\n    <tr>\n      <th>2017-11-24</th>\n      <td>208.610</td>\n      <td>3974.0205</td>\n      <td>5720.920719</td>\n      <td>1536.0</td>\n      <td>58.668474</td>\n      <td>0.020911</td>\n      <td>18.2100</td>\n      <td>0.104159</td>\n      <td>-0.743366</td>\n      <td>0.580630</td>\n      <td>...</td>\n      <td>0</td>\n      <td>0</td>\n      <td>1</td>\n      <td>0</td>\n      <td>0</td>\n      <td>0</td>\n      <td>0</td>\n      <td>0</td>\n      <td>0</td>\n      <td>0</td>\n    </tr>\n    <tr>\n      <th>2017-11-27</th>\n      <td>443.388</td>\n      <td>8513.0496</td>\n      <td>5915.601226</td>\n      <td>1518.0</td>\n      <td>59.815803</td>\n      <td>0.018437</td>\n      <td>18.2450</td>\n      <td>0.111935</td>\n      <td>-0.572586</td>\n      <td>0.605366</td>\n      <td>...</td>\n      <td>0</td>\n      <td>0</td>\n      <td>1</td>\n      <td>0</td>\n      <td>0</td>\n      <td>0</td>\n      <td>0</td>\n      <td>0</td>\n      <td>0</td>\n      <td>0</td>\n    </tr>\n    <tr>\n      <th>2017-11-28</th>\n      <td>689.911</td>\n      <td>13867.2111</td>\n      <td>6376.928660</td>\n      <td>1491.0</td>\n      <td>65.927314</td>\n      <td>-0.010605</td>\n      <td>18.3525</td>\n      <td>0.151383</td>\n      <td>-0.449853</td>\n      <td>0.716139</td>\n      <td>...</td>\n      <td>0</td>\n      <td>0</td>\n      <td>1</td>\n      <td>0</td>\n      <td>0</td>\n      <td>0</td>\n      <td>0</td>\n      <td>0</td>\n      <td>0</td>\n      <td>0</td>\n    </tr>\n    <tr>\n      <th>2017-11-29</th>\n      <td>724.964</td>\n      <td>15115.4994</td>\n      <td>6934.407026</td>\n      <td>1470.0</td>\n      <td>70.019337</td>\n      <td>-0.025148</td>\n      <td>18.5250</td>\n      <td>0.181312</td>\n      <td>-0.371734</td>\n      <td>0.876695</td>\n      <td>...</td>\n      <td>0</td>\n      <td>0</td>\n      <td>1</td>\n      <td>0</td>\n      <td>0</td>\n      <td>0</td>\n      <td>0</td>\n      <td>0</td>\n      <td>0</td>\n      <td>0</td>\n    </tr>\n  </tbody>\n</table>\n<p>5 rows × 42 columns</p>\n</div>"
     },
     "execution_count": 5,
     "metadata": {},
     "output_type": "execute_result"
    }
   ],
   "source": [
    "data.tail()"
   ],
   "metadata": {
    "collapsed": false,
    "pycharm": {
     "name": "#%%\n"
    }
   }
  },
  {
   "cell_type": "code",
   "execution_count": 6,
   "outputs": [],
   "source": [
    "data = data[data.dollar_vol_rank<100]\n",
    "\n",
    "y = data.filter(like='target')\n",
    "X = data.drop(y.columns, axis=1)\n",
    "X = X.drop(['dollar_vol', 'dollar_vol_rank', 'volume', 'consumer_durables'], axis=1)"
   ],
   "metadata": {
    "collapsed": false,
    "pycharm": {
     "name": "#%%\n"
    }
   }
  },
  {
   "cell_type": "code",
   "execution_count": 11,
   "outputs": [
    {
     "data": {
      "text/plain": "1    56486\n0    53189\nName: label, dtype: int64"
     },
     "execution_count": 11,
     "metadata": {},
     "output_type": "execute_result"
    }
   ],
   "source": [
    "train_period_length = 63 # 3 months\n",
    "test_period_length = 10 # 2 weeks\n",
    "lookahead =1\n",
    "n_splits = int(3 * YEAR/test_period_length)\n",
    "\n",
    "cv = MultipleTimeSeriesCV(n_splits=n_splits, test_period_length=test_period_length,\n",
    "                          lookahead=lookahead, train_period_length=train_period_length)\n",
    "\n",
    "target = f'target_{lookahead}d'\n",
    "y.loc[:, 'label'] = (y[target] > 0).astype(int)\n",
    "y.label.value_counts()"
   ],
   "metadata": {
    "collapsed": false,
    "pycharm": {
     "name": "#%%\n"
    }
   }
  },
  {
   "cell_type": "code",
   "execution_count": 16,
   "outputs": [
    {
     "data": {
      "text/plain": "ticker  date      \nZTS     2014-11-28    0\n        2014-12-01    1\n        2014-12-02    1\n        2014-12-03    0\n        2014-12-04    0\nName: label, dtype: int32"
     },
     "execution_count": 16,
     "metadata": {},
     "output_type": "execute_result"
    }
   ],
   "source": [
    "y.label.tail()"
   ],
   "metadata": {
    "collapsed": false,
    "pycharm": {
     "name": "#%%\n"
    }
   }
  },
  {
   "cell_type": "code",
   "execution_count": 17,
   "outputs": [],
   "source": [
    "Cs = np.logspace(-5, 5, 11)\n",
    "cols = ['C', 'date', 'auc', 'ic', 'pval']"
   ],
   "metadata": {
    "collapsed": false,
    "pycharm": {
     "name": "#%%\n"
    }
   }
  },
  {
   "cell_type": "code",
   "execution_count": 21,
   "outputs": [
    {
     "data": {
      "text/plain": "array([1.e-05, 1.e-04, 1.e-03, 1.e-02, 1.e-01, 1.e+00, 1.e+01, 1.e+02,\n       1.e+03, 1.e+04, 1.e+05])"
     },
     "execution_count": 21,
     "metadata": {},
     "output_type": "execute_result"
    }
   ],
   "source": [
    "Cs"
   ],
   "metadata": {
    "collapsed": false,
    "pycharm": {
     "name": "#%%\n"
    }
   }
  },
  {
   "cell_type": "code",
   "execution_count": 18,
   "outputs": [
    {
     "name": "stdout",
     "output_type": "stream",
     "text": [
      "1e-05\n",
      "\t 12.0 | 010 |  -0.27% |  50.42%\n",
      "\t 22.2 | 020 |   2.04% |  51.89%\n",
      "\t 33.4 | 030 |   2.92% |  52.01%\n",
      "\t 44.6 | 040 |   3.34% |  51.98%\n",
      "\t 55.7 | 050 |   4.01% |  52.44%\n",
      "\t 67.0 | 060 |   3.99% |  52.26%\n",
      "\t 78.1 | 070 |   4.75% |  52.59%\n",
      "0.0001\n",
      "\t 11.2 | 010 |  -0.03% |  50.61%\n",
      "\t 22.3 | 020 |   2.40% |  52.10%\n",
      "\t 33.4 | 030 |   3.28% |  52.27%\n",
      "\t 44.5 | 040 |   3.38% |  52.08%\n",
      "\t 55.6 | 050 |   4.05% |  52.52%\n",
      "\t 66.7 | 060 |   4.04% |  52.32%\n",
      "\t 77.8 | 070 |   4.84% |  52.66%\n",
      "0.001\n",
      "\t 11.2 | 010 |   0.46% |  50.95%\n",
      "\t 22.3 | 020 |   2.68% |  52.23%\n",
      "\t 33.5 | 030 |   3.63% |  52.49%\n",
      "\t 44.7 | 040 |   3.19% |  52.06%\n",
      "\t 55.8 | 050 |   3.86% |  52.49%\n",
      "\t 66.9 | 060 |   4.04% |  52.32%\n",
      "\t 78.1 | 070 |   4.88% |  52.69%\n",
      "0.01\n",
      "\t 11.2 | 010 |   0.70% |  51.10%\n",
      "\t 22.4 | 020 |   2.43% |  52.01%\n",
      "\t 33.5 | 030 |   3.61% |  52.39%\n",
      "\t 44.7 | 040 |   3.09% |  51.92%\n",
      "\t 55.9 | 050 |   3.90% |  52.44%\n",
      "\t 67.0 | 060 |   4.14% |  52.28%\n",
      "\t 78.2 | 070 |   4.88% |  52.62%\n",
      "0.1\n",
      "\t 11.2 | 010 |   0.65% |  51.07%\n",
      "\t 22.3 | 020 |   2.16% |  51.81%\n",
      "\t 33.5 | 030 |   3.42% |  52.24%\n",
      "\t 44.7 | 040 |   2.89% |  51.76%\n",
      "\t 55.9 | 050 |   3.69% |  52.29%\n",
      "\t 67.1 | 060 |   3.89% |  52.12%\n",
      "\t 78.3 | 070 |   4.54% |  52.43%\n",
      "1.0\n",
      "\t 11.2 | 010 |   0.61% |  51.04%\n",
      "\t 22.4 | 020 |   2.11% |  51.78%\n",
      "\t 33.6 | 030 |   3.39% |  52.22%\n",
      "\t 44.8 | 040 |   2.84% |  51.73%\n",
      "\t 56.1 | 050 |   3.63% |  52.25%\n",
      "\t 67.3 | 060 |   3.82% |  52.08%\n",
      "\t 78.6 | 070 |   4.45% |  52.38%\n",
      "10.0\n",
      "\t 20.5 | 010 |   0.60% |  51.04%\n",
      "\t 50.2 | 020 |   2.10% |  51.77%\n",
      "\t 61.4 | 030 |   3.38% |  52.21%\n",
      "\t 72.6 | 040 |   2.84% |  51.73%\n",
      "\t 83.9 | 050 |   3.62% |  52.24%\n",
      "\t 95.1 | 060 |   3.81% |  52.08%\n",
      "\t106.3 | 070 |   4.44% |  52.38%\n",
      "100.0\n",
      "\t 11.2 | 010 |   0.60% |  51.04%\n",
      "\t 22.4 | 020 |   2.10% |  51.77%\n",
      "\t 33.6 | 030 |   3.38% |  52.21%\n",
      "\t 44.8 | 040 |   2.84% |  51.73%\n",
      "\t 56.0 | 050 |   3.62% |  52.24%\n",
      "\t 67.2 | 060 |   3.81% |  52.08%\n",
      "\t 78.5 | 070 |   4.44% |  52.38%\n",
      "1000.0\n",
      "\t 11.2 | 010 |   0.60% |  51.04%\n",
      "\t 22.4 | 020 |   2.10% |  51.77%\n",
      "\t 33.5 | 030 |   3.38% |  52.21%\n",
      "\t 44.7 | 040 |   2.84% |  51.73%\n",
      "\t 55.9 | 050 |   3.62% |  52.24%\n",
      "\t 67.2 | 060 |   3.81% |  52.08%\n",
      "\t 78.4 | 070 |   4.44% |  52.38%\n",
      "10000.0\n",
      "\t 11.2 | 010 |   0.60% |  51.04%\n",
      "\t 22.4 | 020 |   2.10% |  51.77%\n",
      "\t 33.7 | 030 |   3.38% |  52.21%\n",
      "\t 44.9 | 040 |   2.84% |  51.73%\n",
      "\t 56.2 | 050 |   3.62% |  52.24%\n",
      "\t 67.3 | 060 |   3.81% |  52.08%\n",
      "\t 78.6 | 070 |   4.44% |  52.38%\n",
      "100000.0\n",
      "\t 11.2 | 010 |   0.60% |  51.04%\n",
      "\t 22.4 | 020 |   2.10% |  51.77%\n",
      "\t 33.6 | 030 |   3.38% |  52.21%\n",
      "\t 45.0 | 040 |   2.84% |  51.73%\n",
      "\t 71.0 | 050 |   3.62% |  52.24%\n",
      "\t 91.5 | 060 |   3.81% |  52.08%\n",
      "\t102.6 | 070 |   4.44% |  52.38%\n",
      "CPU times: total: 15.7 s\n",
      "Wall time: 16min 15s\n"
     ]
    }
   ],
   "source": [
    "%%time\n",
    "log_coeffs, log_scores, log_predictions = {}, [], []\n",
    "for C in Cs:\n",
    "    print(C)\n",
    "    # LogisticRegression: lower C higher regularization\n",
    "    # C(cost function): inverse of regularization strength\n",
    "    # penalty='l1' or 'l2'  regularization(default:l2)\n",
    "    model = LogisticRegression(C=C, fit_intercept=True, random_state=42, n_jobs=-1)\n",
    "\n",
    "    pipe = Pipeline([ ('scaler', StandardScaler()), ('model', model)])\n",
    "    ics = aucs = 0\n",
    "    start = time()\n",
    "    coeffs = []\n",
    "    for i, (train_idx, test_idx) in enumerate(cv.split(X), 1):\n",
    "        X_train, y_train, = X.iloc[train_idx], y.label.iloc[train_idx]\n",
    "        pipe.fit(X=X_train, y=y_train)\n",
    "        X_test, y_test = X.iloc[test_idx], y.label.iloc[test_idx]\n",
    "        actuals = y[target].iloc[test_idx]\n",
    "        if len(y_test) < 10 or len(np.unique(y_test)) < 2:\n",
    "            continue\n",
    "        y_score = pipe.predict_proba(X_test)[:, 1]\n",
    "\n",
    "        auc = roc_auc_score(y_score=y_score, y_true=y_test)\n",
    "        actuals = y[target].iloc[test_idx]\n",
    "        ic, pval = spearmanr(y_score, actuals)\n",
    "\n",
    "        log_predictions.append(y_test.to_frame('labels').assign(predicted=y_score, C=C, actuals=actuals))\n",
    "        date = y_test.index.get_level_values('date').min()\n",
    "        log_scores.append([C, date, auc, ic * 100, pval])\n",
    "        coeffs.append(pipe.named_steps['model'].coef_)\n",
    "        ics += ic\n",
    "        aucs += auc\n",
    "        if i % 10 == 0:\n",
    "            print(f'\\t{time()-start:5.1f} | {i:03} | {ics/i:>7.2%} | {aucs/i:>7.2%}')\n",
    "\n",
    "    log_coeffs[C] = np.mean(coeffs, axis=0).squeeze()"
   ],
   "metadata": {
    "collapsed": false,
    "pycharm": {
     "name": "#%%\n"
    }
   }
  },
  {
   "cell_type": "code",
   "execution_count": 28,
   "outputs": [
    {
     "data": {
      "text/plain": "                   labels  predicted         C   actuals\nticker date                                             \nXOM    2014-12-16       1   0.495484  100000.0  0.030205\n       2014-12-17       1   0.465964  100000.0  0.024040\n       2014-12-18       1   0.476350  100000.0  0.027205\n       2014-12-19       0   0.466757  100000.0 -0.003311\n       2014-12-22       1   0.489555  100000.0  0.013500",
      "text/html": "<div>\n<style scoped>\n    .dataframe tbody tr th:only-of-type {\n        vertical-align: middle;\n    }\n\n    .dataframe tbody tr th {\n        vertical-align: top;\n    }\n\n    .dataframe thead th {\n        text-align: right;\n    }\n</style>\n<table border=\"1\" class=\"dataframe\">\n  <thead>\n    <tr style=\"text-align: right;\">\n      <th></th>\n      <th></th>\n      <th>labels</th>\n      <th>predicted</th>\n      <th>C</th>\n      <th>actuals</th>\n    </tr>\n    <tr>\n      <th>ticker</th>\n      <th>date</th>\n      <th></th>\n      <th></th>\n      <th></th>\n      <th></th>\n    </tr>\n  </thead>\n  <tbody>\n    <tr>\n      <th rowspan=\"5\" valign=\"top\">XOM</th>\n      <th>2014-12-16</th>\n      <td>1</td>\n      <td>0.495484</td>\n      <td>100000.0</td>\n      <td>0.030205</td>\n    </tr>\n    <tr>\n      <th>2014-12-17</th>\n      <td>1</td>\n      <td>0.465964</td>\n      <td>100000.0</td>\n      <td>0.024040</td>\n    </tr>\n    <tr>\n      <th>2014-12-18</th>\n      <td>1</td>\n      <td>0.476350</td>\n      <td>100000.0</td>\n      <td>0.027205</td>\n    </tr>\n    <tr>\n      <th>2014-12-19</th>\n      <td>0</td>\n      <td>0.466757</td>\n      <td>100000.0</td>\n      <td>-0.003311</td>\n    </tr>\n    <tr>\n      <th>2014-12-22</th>\n      <td>1</td>\n      <td>0.489555</td>\n      <td>100000.0</td>\n      <td>0.013500</td>\n    </tr>\n  </tbody>\n</table>\n</div>"
     },
     "execution_count": 28,
     "metadata": {},
     "output_type": "execute_result"
    }
   ],
   "source": [
    "log_predictions.tail()\n",
    "# log_coeffs"
   ],
   "metadata": {
    "collapsed": false,
    "pycharm": {
     "name": "#%%\n"
    }
   }
  },
  {
   "cell_type": "code",
   "execution_count": 19,
   "outputs": [],
   "source": [
    "log_scores = pd.DataFrame(log_scores, columns=cols)\n",
    "log_scores.to_hdf('data/data.h5', 'logistic/scores')\n",
    "\n",
    "log_coeffs = pd.DataFrame(log_coeffs, index=X.columns).T\n",
    "log_coeffs.to_hdf('data/data.h5', 'logistic/coeffs')\n",
    "\n",
    "log_predictions = pd.concat(log_predictions)\n",
    "log_predictions.to_hdf('data/data.h5', 'logistic/predictions')\n",
    "\n",
    "log_scores = pd.read_hdf('data/data.h5', 'logistic/scores')"
   ],
   "metadata": {
    "collapsed": false,
    "pycharm": {
     "name": "#%%\n"
    }
   }
  },
  {
   "cell_type": "code",
   "execution_count": 20,
   "outputs": [
    {
     "data": {
      "text/plain": "            C       date       auc         ic      pval\n820  100000.0 2015-02-06  0.565541  13.256104  0.000029\n821  100000.0 2015-01-23  0.491174  -2.630411  0.408386\n822  100000.0 2015-01-08  0.499241   0.056892  0.985736\n823  100000.0 2014-12-23  0.501836   4.534953  0.153920\n824  100000.0 2014-12-09  0.495897  -1.289246  0.685363",
      "text/html": "<div>\n<style scoped>\n    .dataframe tbody tr th:only-of-type {\n        vertical-align: middle;\n    }\n\n    .dataframe tbody tr th {\n        vertical-align: top;\n    }\n\n    .dataframe thead th {\n        text-align: right;\n    }\n</style>\n<table border=\"1\" class=\"dataframe\">\n  <thead>\n    <tr style=\"text-align: right;\">\n      <th></th>\n      <th>C</th>\n      <th>date</th>\n      <th>auc</th>\n      <th>ic</th>\n      <th>pval</th>\n    </tr>\n  </thead>\n  <tbody>\n    <tr>\n      <th>820</th>\n      <td>100000.0</td>\n      <td>2015-02-06</td>\n      <td>0.565541</td>\n      <td>13.256104</td>\n      <td>0.000029</td>\n    </tr>\n    <tr>\n      <th>821</th>\n      <td>100000.0</td>\n      <td>2015-01-23</td>\n      <td>0.491174</td>\n      <td>-2.630411</td>\n      <td>0.408386</td>\n    </tr>\n    <tr>\n      <th>822</th>\n      <td>100000.0</td>\n      <td>2015-01-08</td>\n      <td>0.499241</td>\n      <td>0.056892</td>\n      <td>0.985736</td>\n    </tr>\n    <tr>\n      <th>823</th>\n      <td>100000.0</td>\n      <td>2014-12-23</td>\n      <td>0.501836</td>\n      <td>4.534953</td>\n      <td>0.153920</td>\n    </tr>\n    <tr>\n      <th>824</th>\n      <td>100000.0</td>\n      <td>2014-12-09</td>\n      <td>0.495897</td>\n      <td>-1.289246</td>\n      <td>0.685363</td>\n    </tr>\n  </tbody>\n</table>\n</div>"
     },
     "execution_count": 20,
     "metadata": {},
     "output_type": "execute_result"
    }
   ],
   "source": [
    "log_scores.tail()"
   ],
   "metadata": {
    "collapsed": false,
    "pycharm": {
     "name": "#%%\n"
    }
   }
  },
  {
   "cell_type": "code",
   "execution_count": 31,
   "outputs": [
    {
     "data": {
      "text/plain": "              count      mean       std       min       25%       50%  \\\nC                                                                       \n0.00001        75.0  0.524224  0.036165  0.433251  0.499613  0.521674   \n0.00010        75.0  0.524952  0.035504  0.444769  0.504354  0.523535   \n0.00100        75.0  0.525420  0.036050  0.438831  0.503380  0.521717   \n0.01000        75.0  0.524957  0.036439  0.435889  0.499990  0.522789   \n0.10000        75.0  0.523378  0.035923  0.427314  0.497781  0.522663   \n1.00000        75.0  0.522957  0.035852  0.424971  0.499003  0.520896   \n10.00000       75.0  0.522910  0.035833  0.424831  0.499171  0.520794   \n100.00000      75.0  0.522907  0.035829  0.424870  0.499171  0.520798   \n1000.00000     75.0  0.522903  0.035830  0.424870  0.499171  0.520802   \n10000.00000    75.0  0.522904  0.035830  0.424870  0.499171  0.520806   \n100000.00000   75.0  0.522904  0.035830  0.424870  0.499171  0.520806   \n\n                   75%       max  \nC                                 \n0.00001       0.545554  0.625854  \n0.00010       0.544725  0.635646  \n0.00100       0.545229  0.641384  \n0.01000       0.550733  0.642237  \n0.10000       0.546358  0.622452  \n1.00000       0.546347  0.617220  \n10.00000      0.546330  0.616478  \n100.00000     0.546334  0.616397  \n1000.00000    0.546300  0.616384  \n10000.00000   0.546300  0.616384  \n100000.00000  0.546300  0.616384  ",
      "text/html": "<div>\n<style scoped>\n    .dataframe tbody tr th:only-of-type {\n        vertical-align: middle;\n    }\n\n    .dataframe tbody tr th {\n        vertical-align: top;\n    }\n\n    .dataframe thead th {\n        text-align: right;\n    }\n</style>\n<table border=\"1\" class=\"dataframe\">\n  <thead>\n    <tr style=\"text-align: right;\">\n      <th></th>\n      <th>count</th>\n      <th>mean</th>\n      <th>std</th>\n      <th>min</th>\n      <th>25%</th>\n      <th>50%</th>\n      <th>75%</th>\n      <th>max</th>\n    </tr>\n    <tr>\n      <th>C</th>\n      <th></th>\n      <th></th>\n      <th></th>\n      <th></th>\n      <th></th>\n      <th></th>\n      <th></th>\n      <th></th>\n    </tr>\n  </thead>\n  <tbody>\n    <tr>\n      <th>0.00001</th>\n      <td>75.0</td>\n      <td>0.524224</td>\n      <td>0.036165</td>\n      <td>0.433251</td>\n      <td>0.499613</td>\n      <td>0.521674</td>\n      <td>0.545554</td>\n      <td>0.625854</td>\n    </tr>\n    <tr>\n      <th>0.00010</th>\n      <td>75.0</td>\n      <td>0.524952</td>\n      <td>0.035504</td>\n      <td>0.444769</td>\n      <td>0.504354</td>\n      <td>0.523535</td>\n      <td>0.544725</td>\n      <td>0.635646</td>\n    </tr>\n    <tr>\n      <th>0.00100</th>\n      <td>75.0</td>\n      <td>0.525420</td>\n      <td>0.036050</td>\n      <td>0.438831</td>\n      <td>0.503380</td>\n      <td>0.521717</td>\n      <td>0.545229</td>\n      <td>0.641384</td>\n    </tr>\n    <tr>\n      <th>0.01000</th>\n      <td>75.0</td>\n      <td>0.524957</td>\n      <td>0.036439</td>\n      <td>0.435889</td>\n      <td>0.499990</td>\n      <td>0.522789</td>\n      <td>0.550733</td>\n      <td>0.642237</td>\n    </tr>\n    <tr>\n      <th>0.10000</th>\n      <td>75.0</td>\n      <td>0.523378</td>\n      <td>0.035923</td>\n      <td>0.427314</td>\n      <td>0.497781</td>\n      <td>0.522663</td>\n      <td>0.546358</td>\n      <td>0.622452</td>\n    </tr>\n    <tr>\n      <th>1.00000</th>\n      <td>75.0</td>\n      <td>0.522957</td>\n      <td>0.035852</td>\n      <td>0.424971</td>\n      <td>0.499003</td>\n      <td>0.520896</td>\n      <td>0.546347</td>\n      <td>0.617220</td>\n    </tr>\n    <tr>\n      <th>10.00000</th>\n      <td>75.0</td>\n      <td>0.522910</td>\n      <td>0.035833</td>\n      <td>0.424831</td>\n      <td>0.499171</td>\n      <td>0.520794</td>\n      <td>0.546330</td>\n      <td>0.616478</td>\n    </tr>\n    <tr>\n      <th>100.00000</th>\n      <td>75.0</td>\n      <td>0.522907</td>\n      <td>0.035829</td>\n      <td>0.424870</td>\n      <td>0.499171</td>\n      <td>0.520798</td>\n      <td>0.546334</td>\n      <td>0.616397</td>\n    </tr>\n    <tr>\n      <th>1000.00000</th>\n      <td>75.0</td>\n      <td>0.522903</td>\n      <td>0.035830</td>\n      <td>0.424870</td>\n      <td>0.499171</td>\n      <td>0.520802</td>\n      <td>0.546300</td>\n      <td>0.616384</td>\n    </tr>\n    <tr>\n      <th>10000.00000</th>\n      <td>75.0</td>\n      <td>0.522904</td>\n      <td>0.035830</td>\n      <td>0.424870</td>\n      <td>0.499171</td>\n      <td>0.520806</td>\n      <td>0.546300</td>\n      <td>0.616384</td>\n    </tr>\n    <tr>\n      <th>100000.00000</th>\n      <td>75.0</td>\n      <td>0.522904</td>\n      <td>0.035830</td>\n      <td>0.424870</td>\n      <td>0.499171</td>\n      <td>0.520806</td>\n      <td>0.546300</td>\n      <td>0.616384</td>\n    </tr>\n  </tbody>\n</table>\n</div>"
     },
     "execution_count": 31,
     "metadata": {},
     "output_type": "execute_result"
    }
   ],
   "source": [
    "log_scores.groupby('C').auc.describe()"
   ],
   "metadata": {
    "collapsed": false,
    "pycharm": {
     "name": "#%%\n"
    }
   }
  },
  {
   "cell_type": "code",
   "execution_count": 43,
   "outputs": [],
   "source": [
    "def plot_ic_distribution(df, ax=None):\n",
    "    if ax is not None:\n",
    "        sns.distplot(df.ic, ax=ax)\n",
    "    else:\n",
    "        ax = sns.distplot(df.ic)\n",
    "    mean, median = df.ic.mean(), df.ic.median()\n",
    "    ax.axvline(0, lw=1, ls='--', c='k')\n",
    "    ax.text(x=.05, y=.9, s=f'Mean: {mean:8.2f}\\nMedian: {median:5.2f}', horizontalalignment='left',\n",
    "            verticalalignment='center', transform=ax.transAxes)"
   ],
   "metadata": {
    "collapsed": false,
    "pycharm": {
     "name": "#%%\n"
    }
   }
  },
  {
   "cell_type": "code",
   "execution_count": 44,
   "outputs": [
    {
     "name": "stdout",
     "output_type": "stream",
     "text": [
      "best_auc: 0.001 \n",
      "                   mean    median\n",
      "C                               \n",
      "0.00001       0.524224  0.521674\n",
      "0.00010       0.524952  0.523535\n",
      "0.00100       0.525420  0.521717\n",
      "0.01000       0.524957  0.522789\n",
      "0.10000       0.523378  0.522663\n",
      "1.00000       0.522957  0.520896\n",
      "10.00000      0.522910  0.520794\n",
      "100.00000     0.522907  0.520798\n",
      "1000.00000    0.522903  0.520802\n",
      "10000.00000   0.522904  0.520806\n",
      "100000.00000  0.522904  0.520806\n"
     ]
    },
    {
     "data": {
      "text/plain": "<Figure size 1080x360 with 2 Axes>",
      "image/png": "[encoded data removed]"
     },
     "metadata": {
      "needs_background": "light"
     },
     "output_type": "display_data"
    }
   ],
   "source": [
    "fig, axes= plt.subplots(ncols=2, figsize=(15, 5))\n",
    "\n",
    "sns.lineplot(x='C', y='auc', data=log_scores, estimator=np.mean, label='Mean', ax=axes[0])\n",
    "by_alpha = log_scores.groupby('C').auc.agg(['mean', 'median'])\n",
    "best_auc = by_alpha['mean'].idxmax()\n",
    "by_alpha['median'].plot(logx=True, ax=axes[0], label='Median', xlim=(10e-6, 10e5))\n",
    "axes[0].axvline(best_auc, ls='--', c='k', lw=1, label='Max. Mean')\n",
    "axes[0].axvline(by_alpha['median'].idxmax(), ls='-.', c='k', lw=1, label='Max. Median')\n",
    "axes[0].legend()\n",
    "axes[0].set_ylabel('AUC')\n",
    "axes[0].set_xscale('log')\n",
    "axes[0].set_title('Area Under the Curve')\n",
    "\n",
    "plot_ic_distribution(log_scores[log_scores.C==best_auc], ax=axes[1])\n",
    "axes[1].set_title('Information Coefficient')\n",
    "\n",
    "fig.suptitle('Logistic Regression', fontsize=14)\n",
    "fig.subplots_adjust(top=.9);\n",
    "print(f'best_auc: {best_auc} \\n {by_alpha}')"
   ],
   "metadata": {
    "collapsed": false,
    "pycharm": {
     "name": "#%%\n"
    }
   }
  }
 ],
 "metadata": {
  "kernelspec": {
   "display_name": "Python 3",
   "language": "python",
   "name": "python3"
  },
  "language_info": {
   "codemirror_mode": {
    "name": "ipython",
    "version": 2
   },
   "file_extension": ".py",
   "mimetype": "text/x-python",
   "name": "python",
   "nbconvert_exporter": "python",
   "pygments_lexer": "ipython2",
   "version": "2.7.6"
  }
 },
 "nbformat": 4,
 "nbformat_minor": 0
}