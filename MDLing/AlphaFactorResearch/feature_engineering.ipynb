{
 "cells": [
  {
   "cell_type": "code",
   "execution_count": 4,
   "outputs": [],
   "source": [
    "% matplotlib inline\n",
    "from datetime import datetime\n",
    "import pandas as pd\n",
    "import pandas_datareader.data as web\n",
    "\n",
    "from statsmodels.regression.rolling import RollingOLS\n",
    "import statsmodels.api as sm\n",
    "\n",
    "import matplotlib.pyplot as plt\n",
    "import seaborn as sns\n",
    "import warnings\n",
    "\n",
    "warnings.filterwarnings('ignore')"
   ],
   "metadata": {
    "collapsed": false,
    "pycharm": {
     "name": "#%%\n"
    }
   }
  },
  {
   "cell_type": "code",
   "execution_count": 5,
   "outputs": [],
   "source": [
    "sns.set_style('whitegrid')\n",
    "idx = pd.IndexSlice"
   ],
   "metadata": {
    "collapsed": false,
    "pycharm": {
     "name": "#%%\n"
    }
   }
  },
  {
   "cell_type": "code",
   "execution_count": 6,
   "outputs": [],
   "source": [
    "DATA_STORE = 'data/assets.h5'\n",
    "START = 2000\n",
    "END = 2018"
   ],
   "metadata": {
    "collapsed": false,
    "pycharm": {
     "name": "#%%\n"
    }
   }
  },
  {
   "cell_type": "code",
   "execution_count": 7,
   "outputs": [],
   "source": [
    "with pd.HDFStore(DATA_STORE) as store:\n",
    "    prices = (store['quandl/wiki/prices']).loc[idx[str(START):str(END), :], 'adj_close'].unstack('ticker')\n",
    "    stocks = store['us_equities/stocks'].loc[:, ['marketcap', 'ipoyear', 'sector']]"
   ],
   "metadata": {
    "collapsed": false,
    "pycharm": {
     "name": "#%%\n"
    }
   }
  },
  {
   "cell_type": "code",
   "execution_count": 8,
   "outputs": [
    {
     "data": {
      "text/plain": "ticker          A     AA    AAL   AAMC    AAN   AAOI   AAON     AAP     AAPL  \\\ndate                                                                           \n2018-03-21  69.40  47.95  54.09  60.80  47.37  26.71  39.05  115.24  171.270   \n2018-03-22  67.47  44.92  52.31  60.18  45.94  25.96  38.55  111.71  168.845   \n2018-03-23  66.06  44.71  51.01  58.35  45.30  25.36  37.20  110.84  164.940   \n2018-03-26  68.20  45.77  51.86  58.60  46.23  24.53  37.95  114.77  172.770   \n2018-03-27  67.00  44.90  50.90  65.25  45.42  24.60  38.00  115.01  168.340   \n\nticker        AAT  ...  ZIOP  ZIXI  ZLC  ZLTQ  ZMH  ZNGA   ZOES  ZQK    ZTS  \\\ndate               ...                                                        \n2018-03-21  32.46  ...  4.28  4.53  NaN   NaN  NaN  3.94  15.66  NaN  84.10   \n2018-03-22  32.52  ...  4.19  4.52  NaN   NaN  NaN  3.81  15.27  NaN  82.06   \n2018-03-23  31.78  ...  4.05  4.40  NaN   NaN  NaN  3.80  15.12  NaN  80.60   \n2018-03-26  32.22  ...  4.27  4.42  NaN   NaN  NaN  3.85  15.10  NaN  83.73   \n2018-03-27  32.75  ...  4.05  4.39  NaN   NaN  NaN  3.70  14.88  NaN  81.86   \n\nticker       ZUMZ  \ndate               \n2018-03-21  23.95  \n2018-03-22  23.35  \n2018-03-23  23.55  \n2018-03-26  24.65  \n2018-03-27  23.60  \n\n[5 rows x 3199 columns]",
      "text/html": "<div>\n<style scoped>\n    .dataframe tbody tr th:only-of-type {\n        vertical-align: middle;\n    }\n\n    .dataframe tbody tr th {\n        vertical-align: top;\n    }\n\n    .dataframe thead th {\n        text-align: right;\n    }\n</style>\n<table border=\"1\" class=\"dataframe\">\n  <thead>\n    <tr style=\"text-align: right;\">\n      <th>ticker</th>\n      <th>A</th>\n      <th>AA</th>\n      <th>AAL</th>\n      <th>AAMC</th>\n      <th>AAN</th>\n      <th>AAOI</th>\n      <th>AAON</th>\n      <th>AAP</th>\n      <th>AAPL</th>\n      <th>AAT</th>\n      <th>...</th>\n      <th>ZIOP</th>\n      <th>ZIXI</th>\n      <th>ZLC</th>\n      <th>ZLTQ</th>\n      <th>ZMH</th>\n      <th>ZNGA</th>\n      <th>ZOES</th>\n      <th>ZQK</th>\n      <th>ZTS</th>\n      <th>ZUMZ</th>\n    </tr>\n    <tr>\n      <th>date</th>\n      <th></th>\n      <th></th>\n      <th></th>\n      <th></th>\n      <th></th>\n      <th></th>\n      <th></th>\n      <th></th>\n      <th></th>\n      <th></th>\n      <th></th>\n      <th></th>\n      <th></th>\n      <th></th>\n      <th></th>\n      <th></th>\n      <th></th>\n      <th></th>\n      <th></th>\n      <th></th>\n      <th></th>\n    </tr>\n  </thead>\n  <tbody>\n    <tr>\n      <th>2018-03-21</th>\n      <td>69.40</td>\n      <td>47.95</td>\n      <td>54.09</td>\n      <td>60.80</td>\n      <td>47.37</td>\n      <td>26.71</td>\n      <td>39.05</td>\n      <td>115.24</td>\n      <td>171.270</td>\n      <td>32.46</td>\n      <td>...</td>\n      <td>4.28</td>\n      <td>4.53</td>\n      <td>NaN</td>\n      <td>NaN</td>\n      <td>NaN</td>\n      <td>3.94</td>\n      <td>15.66</td>\n      <td>NaN</td>\n      <td>84.10</td>\n      <td>23.95</td>\n    </tr>\n    <tr>\n      <th>2018-03-22</th>\n      <td>67.47</td>\n      <td>44.92</td>\n      <td>52.31</td>\n      <td>60.18</td>\n      <td>45.94</td>\n      <td>25.96</td>\n      <td>38.55</td>\n      <td>111.71</td>\n      <td>168.845</td>\n      <td>32.52</td>\n      <td>...</td>\n      <td>4.19</td>\n      <td>4.52</td>\n      <td>NaN</td>\n      <td>NaN</td>\n      <td>NaN</td>\n      <td>3.81</td>\n      <td>15.27</td>\n      <td>NaN</td>\n      <td>82.06</td>\n      <td>23.35</td>\n    </tr>\n    <tr>\n      <th>2018-03-23</th>\n      <td>66.06</td>\n      <td>44.71</td>\n      <td>51.01</td>\n      <td>58.35</td>\n      <td>45.30</td>\n      <td>25.36</td>\n      <td>37.20</td>\n      <td>110.84</td>\n      <td>164.940</td>\n      <td>31.78</td>\n      <td>...</td>\n      <td>4.05</td>\n      <td>4.40</td>\n      <td>NaN</td>\n      <td>NaN</td>\n      <td>NaN</td>\n      <td>3.80</td>\n      <td>15.12</td>\n      <td>NaN</td>\n      <td>80.60</td>\n      <td>23.55</td>\n    </tr>\n    <tr>\n      <th>2018-03-26</th>\n      <td>68.20</td>\n      <td>45.77</td>\n      <td>51.86</td>\n      <td>58.60</td>\n      <td>46.23</td>\n      <td>24.53</td>\n      <td>37.95</td>\n      <td>114.77</td>\n      <td>172.770</td>\n      <td>32.22</td>\n      <td>...</td>\n      <td>4.27</td>\n      <td>4.42</td>\n      <td>NaN</td>\n      <td>NaN</td>\n      <td>NaN</td>\n      <td>3.85</td>\n      <td>15.10</td>\n      <td>NaN</td>\n      <td>83.73</td>\n      <td>24.65</td>\n    </tr>\n    <tr>\n      <th>2018-03-27</th>\n      <td>67.00</td>\n      <td>44.90</td>\n      <td>50.90</td>\n      <td>65.25</td>\n      <td>45.42</td>\n      <td>24.60</td>\n      <td>38.00</td>\n      <td>115.01</td>\n      <td>168.340</td>\n      <td>32.75</td>\n      <td>...</td>\n      <td>4.05</td>\n      <td>4.39</td>\n      <td>NaN</td>\n      <td>NaN</td>\n      <td>NaN</td>\n      <td>3.70</td>\n      <td>14.88</td>\n      <td>NaN</td>\n      <td>81.86</td>\n      <td>23.60</td>\n    </tr>\n  </tbody>\n</table>\n<p>5 rows × 3199 columns</p>\n</div>"
     },
     "execution_count": 8,
     "metadata": {},
     "output_type": "execute_result"
    }
   ],
   "source": [
    "# stocks.iloc[:10]\n",
    "prices.tail(5)"
   ],
   "metadata": {
    "collapsed": false,
    "pycharm": {
     "name": "#%%\n"
    }
   }
  },
  {
   "cell_type": "code",
   "execution_count": 9,
   "outputs": [
    {
     "name": "stdout",
     "output_type": "stream",
     "text": [
      "<class 'pandas.core.frame.DataFrame'>\n",
      "Index: 2412 entries, A to ZUMZ\n",
      "Data columns (total 3 columns):\n",
      " #   Column     Non-Null Count  Dtype  \n",
      "---  ------     --------------  -----  \n",
      " 0   marketcap  2407 non-null   float64\n",
      " 1   ipoyear    1065 non-null   float64\n",
      " 2   sector     2372 non-null   object \n",
      "dtypes: float64(2), object(1)\n",
      "memory usage: 75.4+ KB\n"
     ]
    },
    {
     "data": {
      "text/plain": "           marketcap  ipoyear             sector\nticker                                          \nZIXI    2.944800e+08      NaN         Technology\nZNGA    3.550000e+09   2011.0         Technology\nZOES    1.974000e+08   2014.0  Consumer Services\nZTS     4.165000e+10   2013.0        Health Care\nZUMZ    6.316500e+08   2005.0  Consumer Services",
      "text/html": "<div>\n<style scoped>\n    .dataframe tbody tr th:only-of-type {\n        vertical-align: middle;\n    }\n\n    .dataframe tbody tr th {\n        vertical-align: top;\n    }\n\n    .dataframe thead th {\n        text-align: right;\n    }\n</style>\n<table border=\"1\" class=\"dataframe\">\n  <thead>\n    <tr style=\"text-align: right;\">\n      <th></th>\n      <th>marketcap</th>\n      <th>ipoyear</th>\n      <th>sector</th>\n    </tr>\n    <tr>\n      <th>ticker</th>\n      <th></th>\n      <th></th>\n      <th></th>\n    </tr>\n  </thead>\n  <tbody>\n    <tr>\n      <th>ZIXI</th>\n      <td>2.944800e+08</td>\n      <td>NaN</td>\n      <td>Technology</td>\n    </tr>\n    <tr>\n      <th>ZNGA</th>\n      <td>3.550000e+09</td>\n      <td>2011.0</td>\n      <td>Technology</td>\n    </tr>\n    <tr>\n      <th>ZOES</th>\n      <td>1.974000e+08</td>\n      <td>2014.0</td>\n      <td>Consumer Services</td>\n    </tr>\n    <tr>\n      <th>ZTS</th>\n      <td>4.165000e+10</td>\n      <td>2013.0</td>\n      <td>Health Care</td>\n    </tr>\n    <tr>\n      <th>ZUMZ</th>\n      <td>6.316500e+08</td>\n      <td>2005.0</td>\n      <td>Consumer Services</td>\n    </tr>\n  </tbody>\n</table>\n</div>"
     },
     "execution_count": 9,
     "metadata": {},
     "output_type": "execute_result"
    }
   ],
   "source": [
    "stocks = stocks[~stocks.index.duplicated()]\n",
    "stocks.index.name = 'ticker'\n",
    "shared = prices.columns.intersection(stocks.index)\n",
    "stocks = stocks.loc[shared, :]\n",
    "stocks.info()\n",
    "stocks.tail()"
   ],
   "metadata": {
    "collapsed": false,
    "pycharm": {
     "name": "#%%\n"
    }
   }
  },
  {
   "cell_type": "code",
   "execution_count": 10,
   "outputs": [
    {
     "name": "stdout",
     "output_type": "stream",
     "text": [
      "<class 'pandas.core.frame.DataFrame'>\n",
      "DatetimeIndex: 4706 entries, 2000-01-03 to 2018-03-27\n",
      "Columns: 2412 entries, A to ZUMZ\n",
      "dtypes: float64(2412)\n",
      "memory usage: 86.6 MB\n"
     ]
    },
    {
     "data": {
      "text/plain": "ticker          A     AA    AAL   AAMC    AAN   AAOI   AAON     AAP     AAPL  \\\ndate                                                                           \n2018-03-21  69.40  47.95  54.09  60.80  47.37  26.71  39.05  115.24  171.270   \n2018-03-22  67.47  44.92  52.31  60.18  45.94  25.96  38.55  111.71  168.845   \n2018-03-23  66.06  44.71  51.01  58.35  45.30  25.36  37.20  110.84  164.940   \n2018-03-26  68.20  45.77  51.86  58.60  46.23  24.53  37.95  114.77  172.770   \n2018-03-27  67.00  44.90  50.90  65.25  45.42  24.60  38.00  115.01  168.340   \n\nticker        AAT  ...    ZEN   ZEUS   ZGNX   ZION  ZIOP  ZIXI  ZNGA   ZOES  \\\ndate               ...                                                        \n2018-03-21  32.46  ...  48.89  22.12  42.10  55.10  4.28  4.53  3.94  15.66   \n2018-03-22  32.52  ...  48.12  20.65  41.05  53.07  4.19  4.52  3.81  15.27   \n2018-03-23  31.78  ...  46.70  20.00  40.35  51.23  4.05  4.40  3.80  15.12   \n2018-03-26  32.22  ...  49.04  20.42  40.35  53.24  4.27  4.42  3.85  15.10   \n2018-03-27  32.75  ...  47.52  20.25  38.50  52.02  4.05  4.39  3.70  14.88   \n\nticker        ZTS   ZUMZ  \ndate                      \n2018-03-21  84.10  23.95  \n2018-03-22  82.06  23.35  \n2018-03-23  80.60  23.55  \n2018-03-26  83.73  24.65  \n2018-03-27  81.86  23.60  \n\n[5 rows x 2412 columns]",
      "text/html": "<div>\n<style scoped>\n    .dataframe tbody tr th:only-of-type {\n        vertical-align: middle;\n    }\n\n    .dataframe tbody tr th {\n        vertical-align: top;\n    }\n\n    .dataframe thead th {\n        text-align: right;\n    }\n</style>\n<table border=\"1\" class=\"dataframe\">\n  <thead>\n    <tr style=\"text-align: right;\">\n      <th>ticker</th>\n      <th>A</th>\n      <th>AA</th>\n      <th>AAL</th>\n      <th>AAMC</th>\n      <th>AAN</th>\n      <th>AAOI</th>\n      <th>AAON</th>\n      <th>AAP</th>\n      <th>AAPL</th>\n      <th>AAT</th>\n      <th>...</th>\n      <th>ZEN</th>\n      <th>ZEUS</th>\n      <th>ZGNX</th>\n      <th>ZION</th>\n      <th>ZIOP</th>\n      <th>ZIXI</th>\n      <th>ZNGA</th>\n      <th>ZOES</th>\n      <th>ZTS</th>\n      <th>ZUMZ</th>\n    </tr>\n    <tr>\n      <th>date</th>\n      <th></th>\n      <th></th>\n      <th></th>\n      <th></th>\n      <th></th>\n      <th></th>\n      <th></th>\n      <th></th>\n      <th></th>\n      <th></th>\n      <th></th>\n      <th></th>\n      <th></th>\n      <th></th>\n      <th></th>\n      <th></th>\n      <th></th>\n      <th></th>\n      <th></th>\n      <th></th>\n      <th></th>\n    </tr>\n  </thead>\n  <tbody>\n    <tr>\n      <th>2018-03-21</th>\n      <td>69.40</td>\n      <td>47.95</td>\n      <td>54.09</td>\n      <td>60.80</td>\n      <td>47.37</td>\n      <td>26.71</td>\n      <td>39.05</td>\n      <td>115.24</td>\n      <td>171.270</td>\n      <td>32.46</td>\n      <td>...</td>\n      <td>48.89</td>\n      <td>22.12</td>\n      <td>42.10</td>\n      <td>55.10</td>\n      <td>4.28</td>\n      <td>4.53</td>\n      <td>3.94</td>\n      <td>15.66</td>\n      <td>84.10</td>\n      <td>23.95</td>\n    </tr>\n    <tr>\n      <th>2018-03-22</th>\n      <td>67.47</td>\n      <td>44.92</td>\n      <td>52.31</td>\n      <td>60.18</td>\n      <td>45.94</td>\n      <td>25.96</td>\n      <td>38.55</td>\n      <td>111.71</td>\n      <td>168.845</td>\n      <td>32.52</td>\n      <td>...</td>\n      <td>48.12</td>\n      <td>20.65</td>\n      <td>41.05</td>\n      <td>53.07</td>\n      <td>4.19</td>\n      <td>4.52</td>\n      <td>3.81</td>\n      <td>15.27</td>\n      <td>82.06</td>\n      <td>23.35</td>\n    </tr>\n    <tr>\n      <th>2018-03-23</th>\n      <td>66.06</td>\n      <td>44.71</td>\n      <td>51.01</td>\n      <td>58.35</td>\n      <td>45.30</td>\n      <td>25.36</td>\n      <td>37.20</td>\n      <td>110.84</td>\n      <td>164.940</td>\n      <td>31.78</td>\n      <td>...</td>\n      <td>46.70</td>\n      <td>20.00</td>\n      <td>40.35</td>\n      <td>51.23</td>\n      <td>4.05</td>\n      <td>4.40</td>\n      <td>3.80</td>\n      <td>15.12</td>\n      <td>80.60</td>\n      <td>23.55</td>\n    </tr>\n    <tr>\n      <th>2018-03-26</th>\n      <td>68.20</td>\n      <td>45.77</td>\n      <td>51.86</td>\n      <td>58.60</td>\n      <td>46.23</td>\n      <td>24.53</td>\n      <td>37.95</td>\n      <td>114.77</td>\n      <td>172.770</td>\n      <td>32.22</td>\n      <td>...</td>\n      <td>49.04</td>\n      <td>20.42</td>\n      <td>40.35</td>\n      <td>53.24</td>\n      <td>4.27</td>\n      <td>4.42</td>\n      <td>3.85</td>\n      <td>15.10</td>\n      <td>83.73</td>\n      <td>24.65</td>\n    </tr>\n    <tr>\n      <th>2018-03-27</th>\n      <td>67.00</td>\n      <td>44.90</td>\n      <td>50.90</td>\n      <td>65.25</td>\n      <td>45.42</td>\n      <td>24.60</td>\n      <td>38.00</td>\n      <td>115.01</td>\n      <td>168.340</td>\n      <td>32.75</td>\n      <td>...</td>\n      <td>47.52</td>\n      <td>20.25</td>\n      <td>38.50</td>\n      <td>52.02</td>\n      <td>4.05</td>\n      <td>4.39</td>\n      <td>3.70</td>\n      <td>14.88</td>\n      <td>81.86</td>\n      <td>23.60</td>\n    </tr>\n  </tbody>\n</table>\n<p>5 rows × 2412 columns</p>\n</div>"
     },
     "execution_count": 10,
     "metadata": {},
     "output_type": "execute_result"
    }
   ],
   "source": [
    "prices = prices.loc[:, shared]\n",
    "prices.info()\n",
    "prices.tail()"
   ],
   "metadata": {
    "collapsed": false,
    "pycharm": {
     "name": "#%%\n"
    }
   }
  },
  {
   "cell_type": "code",
   "execution_count": 11,
   "outputs": [],
   "source": [
    "assert prices.shape[1] == stocks.shape[0]"
   ],
   "metadata": {
    "collapsed": false,
    "pycharm": {
     "name": "#%%\n"
    }
   }
  },
  {
   "cell_type": "code",
   "execution_count": 12,
   "outputs": [
    {
     "name": "stdout",
     "output_type": "stream",
     "text": [
      "<class 'pandas.core.frame.DataFrame'>\n",
      "DatetimeIndex: 219 entries, 2000-01-31 to 2018-03-31\n",
      "Freq: M\n",
      "Columns: 2412 entries, A to ZUMZ\n",
      "dtypes: float64(2412)\n",
      "memory usage: 4.0 MB\n"
     ]
    },
    {
     "data": {
      "text/plain": "ticker              A  AA  AAL  AAMC       AAN  AAOI      AAON  AAP      AAPL  \\\ndate                                                                            \n2000-01-31  45.157511 NaN  NaN   NaN  4.766882   NaN  1.211345  NaN  3.333330   \n2000-02-29  70.884807 NaN  NaN   NaN  4.941969   NaN  1.296459  NaN  3.682567   \n2000-03-31  70.953031 NaN  NaN   NaN  4.834658   NaN  1.334456  NaN  4.363369   \n2000-04-30  60.466992 NaN  NaN   NaN  4.360229   NaN  1.595875  NaN  3.985860   \n2000-05-31  50.233382 NaN  NaN   NaN  4.312221   NaN  1.852735  NaN  2.698793   \n\nticker      AAT  ...  ZEN      ZEUS  ZGNX       ZION  ZIOP   ZIXI  ZNGA  ZOES  \\\ndate             ...                                                            \n2000-01-31  NaN  ...  NaN  4.176075   NaN  46.927728   NaN  30.88   NaN   NaN   \n2000-02-29  NaN  ...  NaN  4.176075   NaN  42.110354   NaN  53.78   NaN   NaN   \n2000-03-31  NaN  ...  NaN  3.712067   NaN  33.039089   NaN  72.81   NaN   NaN   \n2000-04-30  NaN  ...  NaN  4.408079   NaN  32.935916   NaN  36.94   NaN   NaN   \n2000-05-31  NaN  ...  NaN  4.118538   NaN  36.732135   NaN  28.00   NaN   NaN   \n\nticker      ZTS  ZUMZ  \ndate                   \n2000-01-31  NaN   NaN  \n2000-02-29  NaN   NaN  \n2000-03-31  NaN   NaN  \n2000-04-30  NaN   NaN  \n2000-05-31  NaN   NaN  \n\n[5 rows x 2412 columns]",
      "text/html": "<div>\n<style scoped>\n    .dataframe tbody tr th:only-of-type {\n        vertical-align: middle;\n    }\n\n    .dataframe tbody tr th {\n        vertical-align: top;\n    }\n\n    .dataframe thead th {\n        text-align: right;\n    }\n</style>\n<table border=\"1\" class=\"dataframe\">\n  <thead>\n    <tr style=\"text-align: right;\">\n      <th>ticker</th>\n      <th>A</th>\n      <th>AA</th>\n      <th>AAL</th>\n      <th>AAMC</th>\n      <th>AAN</th>\n      <th>AAOI</th>\n      <th>AAON</th>\n      <th>AAP</th>\n      <th>AAPL</th>\n      <th>AAT</th>\n      <th>...</th>\n      <th>ZEN</th>\n      <th>ZEUS</th>\n      <th>ZGNX</th>\n      <th>ZION</th>\n      <th>ZIOP</th>\n      <th>ZIXI</th>\n      <th>ZNGA</th>\n      <th>ZOES</th>\n      <th>ZTS</th>\n      <th>ZUMZ</th>\n    </tr>\n    <tr>\n      <th>date</th>\n      <th></th>\n      <th></th>\n      <th></th>\n      <th></th>\n      <th></th>\n      <th></th>\n      <th></th>\n      <th></th>\n      <th></th>\n      <th></th>\n      <th></th>\n      <th></th>\n      <th></th>\n      <th></th>\n      <th></th>\n      <th></th>\n      <th></th>\n      <th></th>\n      <th></th>\n      <th></th>\n      <th></th>\n    </tr>\n  </thead>\n  <tbody>\n    <tr>\n      <th>2000-01-31</th>\n      <td>45.157511</td>\n      <td>NaN</td>\n      <td>NaN</td>\n      <td>NaN</td>\n      <td>4.766882</td>\n      <td>NaN</td>\n      <td>1.211345</td>\n      <td>NaN</td>\n      <td>3.333330</td>\n      <td>NaN</td>\n      <td>...</td>\n      <td>NaN</td>\n      <td>4.176075</td>\n      <td>NaN</td>\n      <td>46.927728</td>\n      <td>NaN</td>\n      <td>30.88</td>\n      <td>NaN</td>\n      <td>NaN</td>\n      <td>NaN</td>\n      <td>NaN</td>\n    </tr>\n    <tr>\n      <th>2000-02-29</th>\n      <td>70.884807</td>\n      <td>NaN</td>\n      <td>NaN</td>\n      <td>NaN</td>\n      <td>4.941969</td>\n      <td>NaN</td>\n      <td>1.296459</td>\n      <td>NaN</td>\n      <td>3.682567</td>\n      <td>NaN</td>\n      <td>...</td>\n      <td>NaN</td>\n      <td>4.176075</td>\n      <td>NaN</td>\n      <td>42.110354</td>\n      <td>NaN</td>\n      <td>53.78</td>\n      <td>NaN</td>\n      <td>NaN</td>\n      <td>NaN</td>\n      <td>NaN</td>\n    </tr>\n    <tr>\n      <th>2000-03-31</th>\n      <td>70.953031</td>\n      <td>NaN</td>\n      <td>NaN</td>\n      <td>NaN</td>\n      <td>4.834658</td>\n      <td>NaN</td>\n      <td>1.334456</td>\n      <td>NaN</td>\n      <td>4.363369</td>\n      <td>NaN</td>\n      <td>...</td>\n      <td>NaN</td>\n      <td>3.712067</td>\n      <td>NaN</td>\n      <td>33.039089</td>\n      <td>NaN</td>\n      <td>72.81</td>\n      <td>NaN</td>\n      <td>NaN</td>\n      <td>NaN</td>\n      <td>NaN</td>\n    </tr>\n    <tr>\n      <th>2000-04-30</th>\n      <td>60.466992</td>\n      <td>NaN</td>\n      <td>NaN</td>\n      <td>NaN</td>\n      <td>4.360229</td>\n      <td>NaN</td>\n      <td>1.595875</td>\n      <td>NaN</td>\n      <td>3.985860</td>\n      <td>NaN</td>\n      <td>...</td>\n      <td>NaN</td>\n      <td>4.408079</td>\n      <td>NaN</td>\n      <td>32.935916</td>\n      <td>NaN</td>\n      <td>36.94</td>\n      <td>NaN</td>\n      <td>NaN</td>\n      <td>NaN</td>\n      <td>NaN</td>\n    </tr>\n    <tr>\n      <th>2000-05-31</th>\n      <td>50.233382</td>\n      <td>NaN</td>\n      <td>NaN</td>\n      <td>NaN</td>\n      <td>4.312221</td>\n      <td>NaN</td>\n      <td>1.852735</td>\n      <td>NaN</td>\n      <td>2.698793</td>\n      <td>NaN</td>\n      <td>...</td>\n      <td>NaN</td>\n      <td>4.118538</td>\n      <td>NaN</td>\n      <td>36.732135</td>\n      <td>NaN</td>\n      <td>28.00</td>\n      <td>NaN</td>\n      <td>NaN</td>\n      <td>NaN</td>\n      <td>NaN</td>\n    </tr>\n  </tbody>\n</table>\n<p>5 rows × 2412 columns</p>\n</div>"
     },
     "execution_count": 12,
     "metadata": {},
     "output_type": "execute_result"
    }
   ],
   "source": [
    "monthly_prices = prices.resample('M').last()\n",
    "monthly_prices.info()\n",
    "monthly_prices.head()"
   ],
   "metadata": {
    "collapsed": false,
    "pycharm": {
     "name": "#%%\n"
    }
   }
  },
  {
   "cell_type": "code",
   "execution_count": 13,
   "outputs": [
    {
     "data": {
      "text/plain": "           return_1m      return_2m      return_3m      return_6m  \\\ncount  399525.000000  399525.000000  399525.000000  399525.000000   \nmean        0.012106       0.009001       0.007973       0.006824   \nstd         0.115089       0.081865       0.067177       0.048929   \nmin        -0.329564      -0.255452      -0.214783      -0.162063   \n25%        -0.046976      -0.031264      -0.024437      -0.015424   \n50%         0.009317       0.009623       0.009641       0.009245   \n75%         0.066276       0.049457       0.042256       0.032103   \nmax         0.430943       0.281819       0.221789       0.154555   \n\n           return_9m     return_12m  \ncount  399525.000000  399525.000000  \nmean        0.006340       0.006087  \nstd         0.040329       0.035207  \nmin        -0.131996      -0.114283  \n25%        -0.011673      -0.009516  \n50%         0.008854       0.008597  \n75%         0.027308       0.024700  \nmax         0.124718       0.106371  ",
      "text/html": "<div>\n<style scoped>\n    .dataframe tbody tr th:only-of-type {\n        vertical-align: middle;\n    }\n\n    .dataframe tbody tr th {\n        vertical-align: top;\n    }\n\n    .dataframe thead th {\n        text-align: right;\n    }\n</style>\n<table border=\"1\" class=\"dataframe\">\n  <thead>\n    <tr style=\"text-align: right;\">\n      <th></th>\n      <th>return_1m</th>\n      <th>return_2m</th>\n      <th>return_3m</th>\n      <th>return_6m</th>\n      <th>return_9m</th>\n      <th>return_12m</th>\n    </tr>\n  </thead>\n  <tbody>\n    <tr>\n      <th>count</th>\n      <td>399525.000000</td>\n      <td>399525.000000</td>\n      <td>399525.000000</td>\n      <td>399525.000000</td>\n      <td>399525.000000</td>\n      <td>399525.000000</td>\n    </tr>\n    <tr>\n      <th>mean</th>\n      <td>0.012106</td>\n      <td>0.009001</td>\n      <td>0.007973</td>\n      <td>0.006824</td>\n      <td>0.006340</td>\n      <td>0.006087</td>\n    </tr>\n    <tr>\n      <th>std</th>\n      <td>0.115089</td>\n      <td>0.081865</td>\n      <td>0.067177</td>\n      <td>0.048929</td>\n      <td>0.040329</td>\n      <td>0.035207</td>\n    </tr>\n    <tr>\n      <th>min</th>\n      <td>-0.329564</td>\n      <td>-0.255452</td>\n      <td>-0.214783</td>\n      <td>-0.162063</td>\n      <td>-0.131996</td>\n      <td>-0.114283</td>\n    </tr>\n    <tr>\n      <th>25%</th>\n      <td>-0.046976</td>\n      <td>-0.031264</td>\n      <td>-0.024437</td>\n      <td>-0.015424</td>\n      <td>-0.011673</td>\n      <td>-0.009516</td>\n    </tr>\n    <tr>\n      <th>50%</th>\n      <td>0.009317</td>\n      <td>0.009623</td>\n      <td>0.009641</td>\n      <td>0.009245</td>\n      <td>0.008854</td>\n      <td>0.008597</td>\n    </tr>\n    <tr>\n      <th>75%</th>\n      <td>0.066276</td>\n      <td>0.049457</td>\n      <td>0.042256</td>\n      <td>0.032103</td>\n      <td>0.027308</td>\n      <td>0.024700</td>\n    </tr>\n    <tr>\n      <th>max</th>\n      <td>0.430943</td>\n      <td>0.281819</td>\n      <td>0.221789</td>\n      <td>0.154555</td>\n      <td>0.124718</td>\n      <td>0.106371</td>\n    </tr>\n  </tbody>\n</table>\n</div>"
     },
     "execution_count": 13,
     "metadata": {},
     "output_type": "execute_result"
    }
   ],
   "source": [
    "outlier_cutoff = 0.01\n",
    "data = pd.DataFrame()\n",
    "lags = [1, 2, 3, 6, 9, 12]\n",
    "# pandas.clip(threshold value - lower/upper)\n",
    "# pandas.pipe(function name)\n",
    "# pandas.pow(x) - x의 거듭제곱\n",
    "for lag in lags:\n",
    "    # data threshold 1% ~ 99%\n",
    "    # using geometric mean\n",
    "    data[f'return_{lag}m'] = (monthly_prices.pct_change(lag).stack().pipe(\n",
    "        lambda x: x.clip(lower=x.quantile(outlier_cutoff), upper=x.quantile(1 - outlier_cutoff))).add(1).pow(\n",
    "        1 / lag).sub(1))\n",
    "\n",
    "data = data.swaplevel().dropna()\n",
    "data.describe()"
   ],
   "metadata": {
    "collapsed": false,
    "pycharm": {
     "name": "#%%\n"
    }
   }
  },
  {
   "cell_type": "code",
   "execution_count": 14,
   "outputs": [
    {
     "name": "stdout",
     "output_type": "stream",
     "text": [
      "<class 'pandas.core.frame.DataFrame'>\n",
      "MultiIndex: 360752 entries, ('A', Timestamp('2001-01-31 00:00:00', freq='M')) to ('ZUMZ', Timestamp('2018-03-31 00:00:00', freq='M'))\n",
      "Data columns (total 6 columns):\n",
      " #   Column      Non-Null Count   Dtype  \n",
      "---  ------      --------------   -----  \n",
      " 0   return_1m   360752 non-null  float64\n",
      " 1   return_2m   360752 non-null  float64\n",
      " 2   return_3m   360752 non-null  float64\n",
      " 3   return_6m   360752 non-null  float64\n",
      " 4   return_9m   360752 non-null  float64\n",
      " 5   return_12m  360752 non-null  float64\n",
      "dtypes: float64(6)\n",
      "memory usage: 18.0+ MB\n"
     ]
    },
    {
     "data": {
      "text/plain": "                   return_1m  return_2m  return_3m  return_6m  return_9m  \\\nticker date                                                                \nZUMZ   2017-11-30   0.235127   0.097461   0.205302   0.073430   0.007402   \n       2017-12-31  -0.044725   0.086226   0.047857   0.090987   0.014465   \n       2018-01-31  -0.003601  -0.024380   0.055418   0.085265   0.016237   \n       2018-02-28  -0.050602  -0.027386  -0.033200   0.079484   0.036640   \n       2018-03-31   0.197970   0.066466   0.042579   0.045215   0.074606   \n\n                   return_12m  \nticker date                    \nZUMZ   2017-11-30   -0.010687  \n       2017-12-31   -0.003996  \n       2018-01-31    0.002864  \n       2018-02-28   -0.002905  \n       2018-03-31    0.021422  ",
      "text/html": "<div>\n<style scoped>\n    .dataframe tbody tr th:only-of-type {\n        vertical-align: middle;\n    }\n\n    .dataframe tbody tr th {\n        vertical-align: top;\n    }\n\n    .dataframe thead th {\n        text-align: right;\n    }\n</style>\n<table border=\"1\" class=\"dataframe\">\n  <thead>\n    <tr style=\"text-align: right;\">\n      <th></th>\n      <th></th>\n      <th>return_1m</th>\n      <th>return_2m</th>\n      <th>return_3m</th>\n      <th>return_6m</th>\n      <th>return_9m</th>\n      <th>return_12m</th>\n    </tr>\n    <tr>\n      <th>ticker</th>\n      <th>date</th>\n      <th></th>\n      <th></th>\n      <th></th>\n      <th></th>\n      <th></th>\n      <th></th>\n    </tr>\n  </thead>\n  <tbody>\n    <tr>\n      <th rowspan=\"5\" valign=\"top\">ZUMZ</th>\n      <th>2017-11-30</th>\n      <td>0.235127</td>\n      <td>0.097461</td>\n      <td>0.205302</td>\n      <td>0.073430</td>\n      <td>0.007402</td>\n      <td>-0.010687</td>\n    </tr>\n    <tr>\n      <th>2017-12-31</th>\n      <td>-0.044725</td>\n      <td>0.086226</td>\n      <td>0.047857</td>\n      <td>0.090987</td>\n      <td>0.014465</td>\n      <td>-0.003996</td>\n    </tr>\n    <tr>\n      <th>2018-01-31</th>\n      <td>-0.003601</td>\n      <td>-0.024380</td>\n      <td>0.055418</td>\n      <td>0.085265</td>\n      <td>0.016237</td>\n      <td>0.002864</td>\n    </tr>\n    <tr>\n      <th>2018-02-28</th>\n      <td>-0.050602</td>\n      <td>-0.027386</td>\n      <td>-0.033200</td>\n      <td>0.079484</td>\n      <td>0.036640</td>\n      <td>-0.002905</td>\n    </tr>\n    <tr>\n      <th>2018-03-31</th>\n      <td>0.197970</td>\n      <td>0.066466</td>\n      <td>0.042579</td>\n      <td>0.045215</td>\n      <td>0.074606</td>\n      <td>0.021422</td>\n    </tr>\n  </tbody>\n</table>\n</div>"
     },
     "execution_count": 14,
     "metadata": {},
     "output_type": "execute_result"
    }
   ],
   "source": [
    "min_obs = 120\n",
    "nobs = data.groupby(level='ticker').size()\n",
    "keep = nobs[nobs > min_obs].index\n",
    "\n",
    "data = data.loc[idx[keep, :], :]\n",
    "data.info()\n",
    "data.tail()"
   ],
   "metadata": {
    "collapsed": false,
    "pycharm": {
     "name": "#%%\n"
    }
   }
  },
  {
   "cell_type": "code",
   "execution_count": 15,
   "outputs": [
    {
     "data": {
      "text/plain": "Index         1665063\nreturn_1m     2886016\nreturn_2m     2886016\nreturn_3m     2886016\nreturn_6m     2886016\nreturn_9m     2886016\nreturn_12m    2886016\ndtype: int64"
     },
     "execution_count": 15,
     "metadata": {},
     "output_type": "execute_result"
    }
   ],
   "source": [
    "data.memory_usage(deep=True)"
   ],
   "metadata": {
    "collapsed": false,
    "pycharm": {
     "name": "#%%\n"
    }
   }
  },
  {
   "cell_type": "code",
   "execution_count": 16,
   "outputs": [
    {
     "data": {
      "text/plain": "<seaborn.matrix.ClusterGrid at 0x14a18060760>"
     },
     "execution_count": 16,
     "metadata": {},
     "output_type": "execute_result"
    },
    {
     "data": {
      "text/plain": "<Figure size 720x720 with 4 Axes>",
      "image/png": "[encoded data removed]"
     },
     "metadata": {},
     "output_type": "display_data"
    }
   ],
   "source": [
    "sns.clustermap(data.corr('spearman'), annot=True, center=0, cmap='Blues')"
   ],
   "metadata": {
    "collapsed": false,
    "pycharm": {
     "name": "#%%\n"
    }
   }
  },
  {
   "cell_type": "code",
   "execution_count": 17,
   "outputs": [
    {
     "data": {
      "text/plain": "Index(['A', 'AAL', 'AAN', 'AAON', 'AAP', 'AAPL', 'AAWW', 'ABAX', 'ABC', 'ABCB',\n       ...\n       'YORW', 'YRCW', 'YUM', 'ZBH', 'ZBRA', 'ZEUS', 'ZION', 'ZIOP', 'ZIXI',\n       'ZUMZ'],\n      dtype='object', name='ticker', length=1838)"
     },
     "execution_count": 17,
     "metadata": {},
     "output_type": "execute_result"
    }
   ],
   "source": [
    "data.index.get_level_values('ticker').unique()"
   ],
   "metadata": {
    "collapsed": false,
    "pycharm": {
     "name": "#%%\n"
    }
   }
  },
  {
   "cell_type": "code",
   "execution_count": 18,
   "outputs": [
    {
     "name": "stdout",
     "output_type": "stream",
     "text": [
      "<class 'pandas.core.frame.DataFrame'>\n",
      "DatetimeIndex: 277 entries, 2000-01-31 to 2023-01-31\n",
      "Freq: M\n",
      "Data columns (total 5 columns):\n",
      " #   Column  Non-Null Count  Dtype  \n",
      "---  ------  --------------  -----  \n",
      " 0   Mkt-RF  277 non-null    float64\n",
      " 1   SMB     277 non-null    float64\n",
      " 2   HML     277 non-null    float64\n",
      " 3   RMW     277 non-null    float64\n",
      " 4   CMA     277 non-null    float64\n",
      "dtypes: float64(5)\n",
      "memory usage: 13.0 KB\n"
     ]
    }
   ],
   "source": [
    "factors = ['Mkt-RF', 'SMB', 'HML', 'RMW', 'CMA']\n",
    "factor_data = web.DataReader('F-F_Research_Data_5_Factors_2x3', 'famafrench', start='2000')[0].drop('RF', axis=1)\n",
    "factor_data.index = factor_data.index.to_timestamp()\n",
    "factor_data = factor_data.resample('M').last().div(100)\n",
    "factor_data.index.name = 'date'\n",
    "factor_data.info()\n",
    "# factor_data"
   ],
   "metadata": {
    "collapsed": false,
    "pycharm": {
     "name": "#%%\n"
    }
   }
  },
  {
   "cell_type": "markdown",
   "source": [
    "# Fama-French Factor MDL with historical data\n",
    "## * Mkt-RF is the return spread between the capitalization-weighted stock market and cash\n",
    "## * SMB is the return spread of small minus large stocks (i.e. the size effect)\n",
    "## * HML is the return spread of cheap minus expensive stocks (i.e. the value effect)\n",
    "## * RMW is the return spread of the most profitable firms minus the least profitable\n",
    "## * CMA is the return spread of firms that invest conservatively minus aggressively (AQR, 2014)"
   ],
   "metadata": {
    "collapsed": false,
    "pycharm": {
     "name": "#%% md\n"
    }
   }
  },
  {
   "cell_type": "code",
   "execution_count": 19,
   "outputs": [
    {
     "name": "stdout",
     "output_type": "stream",
     "text": [
      "<class 'pandas.core.frame.DataFrame'>\n",
      "MultiIndex: 360752 entries, ('A', Timestamp('2001-01-31 00:00:00', freq='M')) to ('ZUMZ', Timestamp('2018-03-31 00:00:00', freq='M'))\n",
      "Data columns (total 6 columns):\n",
      " #   Column     Non-Null Count   Dtype  \n",
      "---  ------     --------------   -----  \n",
      " 0   Mkt-RF     360752 non-null  float64\n",
      " 1   SMB        360752 non-null  float64\n",
      " 2   HML        360752 non-null  float64\n",
      " 3   RMW        360752 non-null  float64\n",
      " 4   CMA        360752 non-null  float64\n",
      " 5   return_1m  360752 non-null  float64\n",
      "dtypes: float64(6)\n",
      "memory usage: 18.0+ MB\n"
     ]
    }
   ],
   "source": [
    "factor_data = factor_data.join(data['return_1m']).sort_index()\n",
    "factor_data.info()"
   ],
   "metadata": {
    "collapsed": false,
    "pycharm": {
     "name": "#%%\n"
    }
   }
  },
  {
   "cell_type": "code",
   "execution_count": 20,
   "outputs": [
    {
     "data": {
      "text/plain": "                   Mkt-RF     SMB     HML     RMW     CMA  return_1m\nticker date                                                         \nA      2001-01-31  0.0313  0.0550 -0.0509 -0.0470 -0.0500  -0.003653\n       2001-02-28 -0.1005  0.0282  0.1248  0.0911  0.0905  -0.329564\n       2001-03-31 -0.0726  0.0233  0.0642  0.0336  0.0391  -0.146389\n       2001-04-30  0.0794 -0.0086 -0.0468 -0.0307 -0.0319   0.269444\n       2001-05-31  0.0072  0.0359  0.0338  0.0026  0.0188  -0.140220\n...                   ...     ...     ...     ...     ...        ...\nZUMZ   2017-11-30  0.0312 -0.0036 -0.0008  0.0319 -0.0008   0.235127\n       2017-12-31  0.0106 -0.0107  0.0005  0.0075  0.0167  -0.044725\n       2018-01-31  0.0557 -0.0320 -0.0133 -0.0073 -0.0101  -0.003601\n       2018-02-28 -0.0365  0.0031 -0.0107  0.0054 -0.0239  -0.050602\n       2018-03-31 -0.0235  0.0358 -0.0023 -0.0045  0.0000   0.197970\n\n[360752 rows x 6 columns]",
      "text/html": "<div>\n<style scoped>\n    .dataframe tbody tr th:only-of-type {\n        vertical-align: middle;\n    }\n\n    .dataframe tbody tr th {\n        vertical-align: top;\n    }\n\n    .dataframe thead th {\n        text-align: right;\n    }\n</style>\n<table border=\"1\" class=\"dataframe\">\n  <thead>\n    <tr style=\"text-align: right;\">\n      <th></th>\n      <th></th>\n      <th>Mkt-RF</th>\n      <th>SMB</th>\n      <th>HML</th>\n      <th>RMW</th>\n      <th>CMA</th>\n      <th>return_1m</th>\n    </tr>\n    <tr>\n      <th>ticker</th>\n      <th>date</th>\n      <th></th>\n      <th></th>\n      <th></th>\n      <th></th>\n      <th></th>\n      <th></th>\n    </tr>\n  </thead>\n  <tbody>\n    <tr>\n      <th rowspan=\"5\" valign=\"top\">A</th>\n      <th>2001-01-31</th>\n      <td>0.0313</td>\n      <td>0.0550</td>\n      <td>-0.0509</td>\n      <td>-0.0470</td>\n      <td>-0.0500</td>\n      <td>-0.003653</td>\n    </tr>\n    <tr>\n      <th>2001-02-28</th>\n      <td>-0.1005</td>\n      <td>0.0282</td>\n      <td>0.1248</td>\n      <td>0.0911</td>\n      <td>0.0905</td>\n      <td>-0.329564</td>\n    </tr>\n    <tr>\n      <th>2001-03-31</th>\n      <td>-0.0726</td>\n      <td>0.0233</td>\n      <td>0.0642</td>\n      <td>0.0336</td>\n      <td>0.0391</td>\n      <td>-0.146389</td>\n    </tr>\n    <tr>\n      <th>2001-04-30</th>\n      <td>0.0794</td>\n      <td>-0.0086</td>\n      <td>-0.0468</td>\n      <td>-0.0307</td>\n      <td>-0.0319</td>\n      <td>0.269444</td>\n    </tr>\n    <tr>\n      <th>2001-05-31</th>\n      <td>0.0072</td>\n      <td>0.0359</td>\n      <td>0.0338</td>\n      <td>0.0026</td>\n      <td>0.0188</td>\n      <td>-0.140220</td>\n    </tr>\n    <tr>\n      <th>...</th>\n      <th>...</th>\n      <td>...</td>\n      <td>...</td>\n      <td>...</td>\n      <td>...</td>\n      <td>...</td>\n      <td>...</td>\n    </tr>\n    <tr>\n      <th rowspan=\"5\" valign=\"top\">ZUMZ</th>\n      <th>2017-11-30</th>\n      <td>0.0312</td>\n      <td>-0.0036</td>\n      <td>-0.0008</td>\n      <td>0.0319</td>\n      <td>-0.0008</td>\n      <td>0.235127</td>\n    </tr>\n    <tr>\n      <th>2017-12-31</th>\n      <td>0.0106</td>\n      <td>-0.0107</td>\n      <td>0.0005</td>\n      <td>0.0075</td>\n      <td>0.0167</td>\n      <td>-0.044725</td>\n    </tr>\n    <tr>\n      <th>2018-01-31</th>\n      <td>0.0557</td>\n      <td>-0.0320</td>\n      <td>-0.0133</td>\n      <td>-0.0073</td>\n      <td>-0.0101</td>\n      <td>-0.003601</td>\n    </tr>\n    <tr>\n      <th>2018-02-28</th>\n      <td>-0.0365</td>\n      <td>0.0031</td>\n      <td>-0.0107</td>\n      <td>0.0054</td>\n      <td>-0.0239</td>\n      <td>-0.050602</td>\n    </tr>\n    <tr>\n      <th>2018-03-31</th>\n      <td>-0.0235</td>\n      <td>0.0358</td>\n      <td>-0.0023</td>\n      <td>-0.0045</td>\n      <td>0.0000</td>\n      <td>0.197970</td>\n    </tr>\n  </tbody>\n</table>\n<p>360752 rows × 6 columns</p>\n</div>"
     },
     "execution_count": 20,
     "metadata": {},
     "output_type": "execute_result"
    }
   ],
   "source": [
    "factor_data"
   ],
   "metadata": {
    "collapsed": false,
    "pycharm": {
     "name": "#%%\n"
    }
   }
  },
  {
   "cell_type": "code",
   "execution_count": 21,
   "outputs": [],
   "source": [
    "T = 24\n",
    "betas = (factor_data.groupby(level='ticker', group_keys=False).apply(\n",
    "    lambda x: RollingOLS(endog=x.return_1m, exog=sm.add_constant(x.drop('return_1m', axis=1)),\n",
    "                         window=min(T, x.shape[0] - 1)).fit(params_only=True).params.drop('const', axis=1)))"
   ],
   "metadata": {
    "collapsed": false,
    "pycharm": {
     "name": "#%%\n"
    }
   }
  },
  {
   "cell_type": "code",
   "execution_count": 22,
   "outputs": [
    {
     "data": {
      "text/plain": "              Mkt-RF            SMB            HML            RMW  \\\ncount  318478.000000  318478.000000  318478.000000  318478.000000   \nmean        0.978877       0.626574       0.123491      -0.062149   \nstd         0.917586       1.254663       1.602559       1.907059   \nmin        -9.825518     -10.420754     -15.215922     -23.005713   \n25%         0.463498      -0.119207      -0.706456      -0.973597   \n50%         0.928597       0.541546       0.096100       0.038055   \n75%         1.444065       1.303979       0.947862       0.949469   \nmax        10.858294      10.459489      15.094963      16.977443   \n\n                 CMA          total  \ncount  318478.000000  360752.000000  \nmean        0.016887       1.486381  \nstd         2.155855       3.305914  \nmin       -18.423557     -33.251810  \n25%        -1.071361       0.000000  \n50%         0.040629       1.214857  \n75%         1.135087       3.146895  \nmax        16.657684      34.097389  ",
      "text/html": "<div>\n<style scoped>\n    .dataframe tbody tr th:only-of-type {\n        vertical-align: middle;\n    }\n\n    .dataframe tbody tr th {\n        vertical-align: top;\n    }\n\n    .dataframe thead th {\n        text-align: right;\n    }\n</style>\n<table border=\"1\" class=\"dataframe\">\n  <thead>\n    <tr style=\"text-align: right;\">\n      <th></th>\n      <th>Mkt-RF</th>\n      <th>SMB</th>\n      <th>HML</th>\n      <th>RMW</th>\n      <th>CMA</th>\n      <th>total</th>\n    </tr>\n  </thead>\n  <tbody>\n    <tr>\n      <th>count</th>\n      <td>318478.000000</td>\n      <td>318478.000000</td>\n      <td>318478.000000</td>\n      <td>318478.000000</td>\n      <td>318478.000000</td>\n      <td>360752.000000</td>\n    </tr>\n    <tr>\n      <th>mean</th>\n      <td>0.978877</td>\n      <td>0.626574</td>\n      <td>0.123491</td>\n      <td>-0.062149</td>\n      <td>0.016887</td>\n      <td>1.486381</td>\n    </tr>\n    <tr>\n      <th>std</th>\n      <td>0.917586</td>\n      <td>1.254663</td>\n      <td>1.602559</td>\n      <td>1.907059</td>\n      <td>2.155855</td>\n      <td>3.305914</td>\n    </tr>\n    <tr>\n      <th>min</th>\n      <td>-9.825518</td>\n      <td>-10.420754</td>\n      <td>-15.215922</td>\n      <td>-23.005713</td>\n      <td>-18.423557</td>\n      <td>-33.251810</td>\n    </tr>\n    <tr>\n      <th>25%</th>\n      <td>0.463498</td>\n      <td>-0.119207</td>\n      <td>-0.706456</td>\n      <td>-0.973597</td>\n      <td>-1.071361</td>\n      <td>0.000000</td>\n    </tr>\n    <tr>\n      <th>50%</th>\n      <td>0.928597</td>\n      <td>0.541546</td>\n      <td>0.096100</td>\n      <td>0.038055</td>\n      <td>0.040629</td>\n      <td>1.214857</td>\n    </tr>\n    <tr>\n      <th>75%</th>\n      <td>1.444065</td>\n      <td>1.303979</td>\n      <td>0.947862</td>\n      <td>0.949469</td>\n      <td>1.135087</td>\n      <td>3.146895</td>\n    </tr>\n    <tr>\n      <th>max</th>\n      <td>10.858294</td>\n      <td>10.459489</td>\n      <td>15.094963</td>\n      <td>16.977443</td>\n      <td>16.657684</td>\n      <td>34.097389</td>\n    </tr>\n  </tbody>\n</table>\n</div>"
     },
     "execution_count": 22,
     "metadata": {},
     "output_type": "execute_result"
    }
   ],
   "source": [
    "betas.describe().join(betas.sum(1).describe().to_frame('total'))"
   ],
   "metadata": {
    "collapsed": false,
    "pycharm": {
     "name": "#%%\n"
    }
   }
  },
  {
   "cell_type": "code",
   "execution_count": 23,
   "outputs": [
    {
     "data": {
      "text/plain": "<Figure size 720x720 with 4 Axes>",
      "image/png": "[encoded data removed]"
     },
     "metadata": {},
     "output_type": "display_data"
    }
   ],
   "source": [
    "cmap = sns.diverging_palette(10, 220, as_cmap=True)\n",
    "sns.clustermap(betas.corr(), annot=True, cmap=cmap, center=0);"
   ],
   "metadata": {
    "collapsed": false,
    "pycharm": {
     "name": "#%%\n"
    }
   }
  },
  {
   "cell_type": "code",
   "execution_count": 24,
   "outputs": [
    {
     "name": "stdout",
     "output_type": "stream",
     "text": [
      "<class 'pandas.core.frame.DataFrame'>\n",
      "MultiIndex: 360752 entries, ('A', Timestamp('2001-01-31 00:00:00', freq='M')) to ('ZUMZ', Timestamp('2018-03-31 00:00:00', freq='M'))\n",
      "Data columns (total 11 columns):\n",
      " #   Column      Non-Null Count   Dtype  \n",
      "---  ------      --------------   -----  \n",
      " 0   return_1m   360752 non-null  float64\n",
      " 1   return_2m   360752 non-null  float64\n",
      " 2   return_3m   360752 non-null  float64\n",
      " 3   return_6m   360752 non-null  float64\n",
      " 4   return_9m   360752 non-null  float64\n",
      " 5   return_12m  360752 non-null  float64\n",
      " 6   Mkt-RF      316640 non-null  float64\n",
      " 7   SMB         316640 non-null  float64\n",
      " 8   HML         316640 non-null  float64\n",
      " 9   RMW         316640 non-null  float64\n",
      " 10  CMA         316640 non-null  float64\n",
      "dtypes: float64(11)\n",
      "memory usage: 39.8+ MB\n"
     ]
    }
   ],
   "source": [
    "data = (data.join(betas.groupby(level='ticker').shift()))\n",
    "data.info()"
   ],
   "metadata": {
    "collapsed": false,
    "pycharm": {
     "name": "#%%\n"
    }
   }
  },
  {
   "cell_type": "code",
   "execution_count": 25,
   "outputs": [
    {
     "data": {
      "text/plain": "                   return_1m  return_2m  return_3m  return_6m  return_9m  \\\nticker date                                                                \nA      2001-01-31  -0.003653   0.022360   0.056104   0.049811  -0.052500   \n       2001-02-28  -0.329564  -0.189115  -0.116435  -0.084141  -0.076425   \n       2001-03-31  -0.146389  -0.249443  -0.175116  -0.074628  -0.092690   \n       2001-04-30   0.269444   0.040966  -0.105747  -0.028185  -0.004837   \n       2001-05-31  -0.140220   0.044721  -0.023317  -0.071042  -0.064299   \n...                      ...        ...        ...        ...        ...   \nZUMZ   2017-11-30   0.235127   0.097461   0.205302   0.073430   0.007402   \n       2017-12-31  -0.044725   0.086226   0.047857   0.090987   0.014465   \n       2018-01-31  -0.003601  -0.024380   0.055418   0.085265   0.016237   \n       2018-02-28  -0.050602  -0.027386  -0.033200   0.079484   0.036640   \n       2018-03-31   0.197970   0.066466   0.042579   0.045215   0.074606   \n\n                   return_12m    Mkt-RF       SMB       HML       RMW  \\\nticker date                                                             \nA      2001-01-31   -0.015988       NaN       NaN       NaN       NaN   \n       2001-02-28   -0.084537       NaN       NaN       NaN       NaN   \n       2001-03-31   -0.096606       NaN       NaN       NaN       NaN   \n       2001-04-30   -0.066102       NaN       NaN       NaN       NaN   \n       2001-05-31   -0.063425       NaN       NaN       NaN       NaN   \n...                       ...       ...       ...       ...       ...   \nZUMZ   2017-11-30   -0.010687 -0.772268  1.001880  1.353344  2.953964   \n       2017-12-31   -0.003996 -0.772493  1.331478  1.327658  3.467731   \n       2018-01-31    0.002864 -0.965140  1.664637  1.528651  3.650790   \n       2018-02-28   -0.002905  0.074156  1.167027  1.322157  2.983583   \n       2018-03-31    0.021422  0.332624  1.030480  1.347272  2.717652   \n\n                        CMA  \nticker date                  \nA      2001-01-31       NaN  \n       2001-02-28       NaN  \n       2001-03-31       NaN  \n       2001-04-30       NaN  \n       2001-05-31       NaN  \n...                     ...  \nZUMZ   2017-11-30  1.303924  \n       2017-12-31  1.009348  \n       2018-01-31  0.353161  \n       2018-02-28  0.641499  \n       2018-03-31  0.676412  \n\n[360752 rows x 11 columns]",
      "text/html": "<div>\n<style scoped>\n    .dataframe tbody tr th:only-of-type {\n        vertical-align: middle;\n    }\n\n    .dataframe tbody tr th {\n        vertical-align: top;\n    }\n\n    .dataframe thead th {\n        text-align: right;\n    }\n</style>\n<table border=\"1\" class=\"dataframe\">\n  <thead>\n    <tr style=\"text-align: right;\">\n      <th></th>\n      <th></th>\n      <th>return_1m</th>\n      <th>return_2m</th>\n      <th>return_3m</th>\n      <th>return_6m</th>\n      <th>return_9m</th>\n      <th>return_12m</th>\n      <th>Mkt-RF</th>\n      <th>SMB</th>\n      <th>HML</th>\n      <th>RMW</th>\n      <th>CMA</th>\n    </tr>\n    <tr>\n      <th>ticker</th>\n      <th>date</th>\n      <th></th>\n      <th></th>\n      <th></th>\n      <th></th>\n      <th></th>\n      <th></th>\n      <th></th>\n      <th></th>\n      <th></th>\n      <th></th>\n      <th></th>\n    </tr>\n  </thead>\n  <tbody>\n    <tr>\n      <th rowspan=\"5\" valign=\"top\">A</th>\n      <th>2001-01-31</th>\n      <td>-0.003653</td>\n      <td>0.022360</td>\n      <td>0.056104</td>\n      <td>0.049811</td>\n      <td>-0.052500</td>\n      <td>-0.015988</td>\n      <td>NaN</td>\n      <td>NaN</td>\n      <td>NaN</td>\n      <td>NaN</td>\n      <td>NaN</td>\n    </tr>\n    <tr>\n      <th>2001-02-28</th>\n      <td>-0.329564</td>\n      <td>-0.189115</td>\n      <td>-0.116435</td>\n      <td>-0.084141</td>\n      <td>-0.076425</td>\n      <td>-0.084537</td>\n      <td>NaN</td>\n      <td>NaN</td>\n      <td>NaN</td>\n      <td>NaN</td>\n      <td>NaN</td>\n    </tr>\n    <tr>\n      <th>2001-03-31</th>\n      <td>-0.146389</td>\n      <td>-0.249443</td>\n      <td>-0.175116</td>\n      <td>-0.074628</td>\n      <td>-0.092690</td>\n      <td>-0.096606</td>\n      <td>NaN</td>\n      <td>NaN</td>\n      <td>NaN</td>\n      <td>NaN</td>\n      <td>NaN</td>\n    </tr>\n    <tr>\n      <th>2001-04-30</th>\n      <td>0.269444</td>\n      <td>0.040966</td>\n      <td>-0.105747</td>\n      <td>-0.028185</td>\n      <td>-0.004837</td>\n      <td>-0.066102</td>\n      <td>NaN</td>\n      <td>NaN</td>\n      <td>NaN</td>\n      <td>NaN</td>\n      <td>NaN</td>\n    </tr>\n    <tr>\n      <th>2001-05-31</th>\n      <td>-0.140220</td>\n      <td>0.044721</td>\n      <td>-0.023317</td>\n      <td>-0.071042</td>\n      <td>-0.064299</td>\n      <td>-0.063425</td>\n      <td>NaN</td>\n      <td>NaN</td>\n      <td>NaN</td>\n      <td>NaN</td>\n      <td>NaN</td>\n    </tr>\n    <tr>\n      <th>...</th>\n      <th>...</th>\n      <td>...</td>\n      <td>...</td>\n      <td>...</td>\n      <td>...</td>\n      <td>...</td>\n      <td>...</td>\n      <td>...</td>\n      <td>...</td>\n      <td>...</td>\n      <td>...</td>\n      <td>...</td>\n    </tr>\n    <tr>\n      <th rowspan=\"5\" valign=\"top\">ZUMZ</th>\n      <th>2017-11-30</th>\n      <td>0.235127</td>\n      <td>0.097461</td>\n      <td>0.205302</td>\n      <td>0.073430</td>\n      <td>0.007402</td>\n      <td>-0.010687</td>\n      <td>-0.772268</td>\n      <td>1.001880</td>\n      <td>1.353344</td>\n      <td>2.953964</td>\n      <td>1.303924</td>\n    </tr>\n    <tr>\n      <th>2017-12-31</th>\n      <td>-0.044725</td>\n      <td>0.086226</td>\n      <td>0.047857</td>\n      <td>0.090987</td>\n      <td>0.014465</td>\n      <td>-0.003996</td>\n      <td>-0.772493</td>\n      <td>1.331478</td>\n      <td>1.327658</td>\n      <td>3.467731</td>\n      <td>1.009348</td>\n    </tr>\n    <tr>\n      <th>2018-01-31</th>\n      <td>-0.003601</td>\n      <td>-0.024380</td>\n      <td>0.055418</td>\n      <td>0.085265</td>\n      <td>0.016237</td>\n      <td>0.002864</td>\n      <td>-0.965140</td>\n      <td>1.664637</td>\n      <td>1.528651</td>\n      <td>3.650790</td>\n      <td>0.353161</td>\n    </tr>\n    <tr>\n      <th>2018-02-28</th>\n      <td>-0.050602</td>\n      <td>-0.027386</td>\n      <td>-0.033200</td>\n      <td>0.079484</td>\n      <td>0.036640</td>\n      <td>-0.002905</td>\n      <td>0.074156</td>\n      <td>1.167027</td>\n      <td>1.322157</td>\n      <td>2.983583</td>\n      <td>0.641499</td>\n    </tr>\n    <tr>\n      <th>2018-03-31</th>\n      <td>0.197970</td>\n      <td>0.066466</td>\n      <td>0.042579</td>\n      <td>0.045215</td>\n      <td>0.074606</td>\n      <td>0.021422</td>\n      <td>0.332624</td>\n      <td>1.030480</td>\n      <td>1.347272</td>\n      <td>2.717652</td>\n      <td>0.676412</td>\n    </tr>\n  </tbody>\n</table>\n<p>360752 rows × 11 columns</p>\n</div>"
     },
     "execution_count": 25,
     "metadata": {},
     "output_type": "execute_result"
    }
   ],
   "source": [
    "data"
   ],
   "metadata": {
    "collapsed": false,
    "pycharm": {
     "name": "#%%\n"
    }
   }
  },
  {
   "cell_type": "code",
   "execution_count": 26,
   "outputs": [
    {
     "name": "stdout",
     "output_type": "stream",
     "text": [
      "<class 'pandas.core.frame.DataFrame'>\n",
      "MultiIndex: 360752 entries, ('A', Timestamp('2001-01-31 00:00:00', freq='M')) to ('ZUMZ', Timestamp('2018-03-31 00:00:00', freq='M'))\n",
      "Data columns (total 11 columns):\n",
      " #   Column      Non-Null Count   Dtype  \n",
      "---  ------      --------------   -----  \n",
      " 0   return_1m   360752 non-null  float64\n",
      " 1   return_2m   360752 non-null  float64\n",
      " 2   return_3m   360752 non-null  float64\n",
      " 3   return_6m   360752 non-null  float64\n",
      " 4   return_9m   360752 non-null  float64\n",
      " 5   return_12m  360752 non-null  float64\n",
      " 6   Mkt-RF      360752 non-null  float64\n",
      " 7   SMB         360752 non-null  float64\n",
      " 8   HML         360752 non-null  float64\n",
      " 9   RMW         360752 non-null  float64\n",
      " 10  CMA         360752 non-null  float64\n",
      "dtypes: float64(11)\n",
      "memory usage: 39.8+ MB\n"
     ]
    }
   ],
   "source": [
    "# impute missing factor betas by mean\n",
    "data.loc[:, factors] = data.groupby('ticker')[factors].apply(lambda x: x.fillna(x.mean()))\n",
    "data.info()"
   ],
   "metadata": {
    "collapsed": false,
    "pycharm": {
     "name": "#%%\n"
    }
   }
  },
  {
   "cell_type": "code",
   "execution_count": 27,
   "outputs": [
    {
     "data": {
      "text/plain": "                   return_1m  return_2m  return_3m  return_6m  return_9m  \\\nticker date                                                                \nA      2001-01-31  -0.003653   0.022360   0.056104   0.049811  -0.052500   \n       2001-02-28  -0.329564  -0.189115  -0.116435  -0.084141  -0.076425   \n       2001-03-31  -0.146389  -0.249443  -0.175116  -0.074628  -0.092690   \n       2001-04-30   0.269444   0.040966  -0.105747  -0.028185  -0.004837   \n       2001-05-31  -0.140220   0.044721  -0.023317  -0.071042  -0.064299   \n...                      ...        ...        ...        ...        ...   \nZUMZ   2017-11-30   0.235127   0.097461   0.205302   0.073430   0.007402   \n       2017-12-31  -0.044725   0.086226   0.047857   0.090987   0.014465   \n       2018-01-31  -0.003601  -0.024380   0.055418   0.085265   0.016237   \n       2018-02-28  -0.050602  -0.027386  -0.033200   0.079484   0.036640   \n       2018-03-31   0.197970   0.066466   0.042579   0.045215   0.074606   \n\n                   return_12m    Mkt-RF       SMB       HML       RMW  \\\nticker date                                                             \nA      2001-01-31   -0.015988  1.262247  0.577372 -0.677952 -1.241965   \n       2001-02-28   -0.084537  1.262247  0.577372 -0.677952 -1.241965   \n       2001-03-31   -0.096606  1.262247  0.577372 -0.677952 -1.241965   \n       2001-04-30   -0.066102  1.262247  0.577372 -0.677952 -1.241965   \n       2001-05-31   -0.063425  1.262247  0.577372 -0.677952 -1.241965   \n...                       ...       ...       ...       ...       ...   \nZUMZ   2017-11-30   -0.010687 -0.772268  1.001880  1.353344  2.953964   \n       2017-12-31   -0.003996 -0.772493  1.331478  1.327658  3.467731   \n       2018-01-31    0.002864 -0.965140  1.664637  1.528651  3.650790   \n       2018-02-28   -0.002905  0.074156  1.167027  1.322157  2.983583   \n       2018-03-31    0.021422  0.332624  1.030480  1.347272  2.717652   \n\n                        CMA  \nticker date                  \nA      2001-01-31  0.698731  \n       2001-02-28  0.698731  \n       2001-03-31  0.698731  \n       2001-04-30  0.698731  \n       2001-05-31  0.698731  \n...                     ...  \nZUMZ   2017-11-30  1.303924  \n       2017-12-31  1.009348  \n       2018-01-31  0.353161  \n       2018-02-28  0.641499  \n       2018-03-31  0.676412  \n\n[360752 rows x 11 columns]",
      "text/html": "<div>\n<style scoped>\n    .dataframe tbody tr th:only-of-type {\n        vertical-align: middle;\n    }\n\n    .dataframe tbody tr th {\n        vertical-align: top;\n    }\n\n    .dataframe thead th {\n        text-align: right;\n    }\n</style>\n<table border=\"1\" class=\"dataframe\">\n  <thead>\n    <tr style=\"text-align: right;\">\n      <th></th>\n      <th></th>\n      <th>return_1m</th>\n      <th>return_2m</th>\n      <th>return_3m</th>\n      <th>return_6m</th>\n      <th>return_9m</th>\n      <th>return_12m</th>\n      <th>Mkt-RF</th>\n      <th>SMB</th>\n      <th>HML</th>\n      <th>RMW</th>\n      <th>CMA</th>\n    </tr>\n    <tr>\n      <th>ticker</th>\n      <th>date</th>\n      <th></th>\n      <th></th>\n      <th></th>\n      <th></th>\n      <th></th>\n      <th></th>\n      <th></th>\n      <th></th>\n      <th></th>\n      <th></th>\n      <th></th>\n    </tr>\n  </thead>\n  <tbody>\n    <tr>\n      <th rowspan=\"5\" valign=\"top\">A</th>\n      <th>2001-01-31</th>\n      <td>-0.003653</td>\n      <td>0.022360</td>\n      <td>0.056104</td>\n      <td>0.049811</td>\n      <td>-0.052500</td>\n      <td>-0.015988</td>\n      <td>1.262247</td>\n      <td>0.577372</td>\n      <td>-0.677952</td>\n      <td>-1.241965</td>\n      <td>0.698731</td>\n    </tr>\n    <tr>\n      <th>2001-02-28</th>\n      <td>-0.329564</td>\n      <td>-0.189115</td>\n      <td>-0.116435</td>\n      <td>-0.084141</td>\n      <td>-0.076425</td>\n      <td>-0.084537</td>\n      <td>1.262247</td>\n      <td>0.577372</td>\n      <td>-0.677952</td>\n      <td>-1.241965</td>\n      <td>0.698731</td>\n    </tr>\n    <tr>\n      <th>2001-03-31</th>\n      <td>-0.146389</td>\n      <td>-0.249443</td>\n      <td>-0.175116</td>\n      <td>-0.074628</td>\n      <td>-0.092690</td>\n      <td>-0.096606</td>\n      <td>1.262247</td>\n      <td>0.577372</td>\n      <td>-0.677952</td>\n      <td>-1.241965</td>\n      <td>0.698731</td>\n    </tr>\n    <tr>\n      <th>2001-04-30</th>\n      <td>0.269444</td>\n      <td>0.040966</td>\n      <td>-0.105747</td>\n      <td>-0.028185</td>\n      <td>-0.004837</td>\n      <td>-0.066102</td>\n      <td>1.262247</td>\n      <td>0.577372</td>\n      <td>-0.677952</td>\n      <td>-1.241965</td>\n      <td>0.698731</td>\n    </tr>\n    <tr>\n      <th>2001-05-31</th>\n      <td>-0.140220</td>\n      <td>0.044721</td>\n      <td>-0.023317</td>\n      <td>-0.071042</td>\n      <td>-0.064299</td>\n      <td>-0.063425</td>\n      <td>1.262247</td>\n      <td>0.577372</td>\n      <td>-0.677952</td>\n      <td>-1.241965</td>\n      <td>0.698731</td>\n    </tr>\n    <tr>\n      <th>...</th>\n      <th>...</th>\n      <td>...</td>\n      <td>...</td>\n      <td>...</td>\n      <td>...</td>\n      <td>...</td>\n      <td>...</td>\n      <td>...</td>\n      <td>...</td>\n      <td>...</td>\n      <td>...</td>\n      <td>...</td>\n    </tr>\n    <tr>\n      <th rowspan=\"5\" valign=\"top\">ZUMZ</th>\n      <th>2017-11-30</th>\n      <td>0.235127</td>\n      <td>0.097461</td>\n      <td>0.205302</td>\n      <td>0.073430</td>\n      <td>0.007402</td>\n      <td>-0.010687</td>\n      <td>-0.772268</td>\n      <td>1.001880</td>\n      <td>1.353344</td>\n      <td>2.953964</td>\n      <td>1.303924</td>\n    </tr>\n    <tr>\n      <th>2017-12-31</th>\n      <td>-0.044725</td>\n      <td>0.086226</td>\n      <td>0.047857</td>\n      <td>0.090987</td>\n      <td>0.014465</td>\n      <td>-0.003996</td>\n      <td>-0.772493</td>\n      <td>1.331478</td>\n      <td>1.327658</td>\n      <td>3.467731</td>\n      <td>1.009348</td>\n    </tr>\n    <tr>\n      <th>2018-01-31</th>\n      <td>-0.003601</td>\n      <td>-0.024380</td>\n      <td>0.055418</td>\n      <td>0.085265</td>\n      <td>0.016237</td>\n      <td>0.002864</td>\n      <td>-0.965140</td>\n      <td>1.664637</td>\n      <td>1.528651</td>\n      <td>3.650790</td>\n      <td>0.353161</td>\n    </tr>\n    <tr>\n      <th>2018-02-28</th>\n      <td>-0.050602</td>\n      <td>-0.027386</td>\n      <td>-0.033200</td>\n      <td>0.079484</td>\n      <td>0.036640</td>\n      <td>-0.002905</td>\n      <td>0.074156</td>\n      <td>1.167027</td>\n      <td>1.322157</td>\n      <td>2.983583</td>\n      <td>0.641499</td>\n    </tr>\n    <tr>\n      <th>2018-03-31</th>\n      <td>0.197970</td>\n      <td>0.066466</td>\n      <td>0.042579</td>\n      <td>0.045215</td>\n      <td>0.074606</td>\n      <td>0.021422</td>\n      <td>0.332624</td>\n      <td>1.030480</td>\n      <td>1.347272</td>\n      <td>2.717652</td>\n      <td>0.676412</td>\n    </tr>\n  </tbody>\n</table>\n<p>360752 rows × 11 columns</p>\n</div>"
     },
     "execution_count": 27,
     "metadata": {},
     "output_type": "execute_result"
    }
   ],
   "source": [
    "data"
   ],
   "metadata": {
    "collapsed": false,
    "pycharm": {
     "name": "#%%\n"
    }
   }
  },
  {
   "cell_type": "code",
   "execution_count": 29,
   "outputs": [],
   "source": [
    "for lag in [2, 3, 6, 9, 12]:\n",
    "    data[f'momentum_{lag}'] = data[f'return_{lag}m'].sub(data.return_1m)\n",
    "data[f'momentum_3_12'] = data[f'return_12m'].sub(data.return_3m)"
   ],
   "metadata": {
    "collapsed": false,
    "pycharm": {
     "name": "#%%\n"
    }
   }
  },
  {
   "cell_type": "code",
   "execution_count": 30,
   "outputs": [
    {
     "data": {
      "text/plain": "                   return_1m  return_2m  return_3m  return_6m  return_9m  \\\nticker date                                                                \nA      2001-01-31  -0.003653   0.022360   0.056104   0.049811  -0.052500   \n       2001-02-28  -0.329564  -0.189115  -0.116435  -0.084141  -0.076425   \n       2001-03-31  -0.146389  -0.249443  -0.175116  -0.074628  -0.092690   \n       2001-04-30   0.269444   0.040966  -0.105747  -0.028185  -0.004837   \n       2001-05-31  -0.140220   0.044721  -0.023317  -0.071042  -0.064299   \n...                      ...        ...        ...        ...        ...   \nZUMZ   2017-11-30   0.235127   0.097461   0.205302   0.073430   0.007402   \n       2017-12-31  -0.044725   0.086226   0.047857   0.090987   0.014465   \n       2018-01-31  -0.003601  -0.024380   0.055418   0.085265   0.016237   \n       2018-02-28  -0.050602  -0.027386  -0.033200   0.079484   0.036640   \n       2018-03-31   0.197970   0.066466   0.042579   0.045215   0.074606   \n\n                   return_12m    Mkt-RF       SMB       HML       RMW  \\\nticker date                                                             \nA      2001-01-31   -0.015988  1.262247  0.577372 -0.677952 -1.241965   \n       2001-02-28   -0.084537  1.262247  0.577372 -0.677952 -1.241965   \n       2001-03-31   -0.096606  1.262247  0.577372 -0.677952 -1.241965   \n       2001-04-30   -0.066102  1.262247  0.577372 -0.677952 -1.241965   \n       2001-05-31   -0.063425  1.262247  0.577372 -0.677952 -1.241965   \n...                       ...       ...       ...       ...       ...   \nZUMZ   2017-11-30   -0.010687 -0.772268  1.001880  1.353344  2.953964   \n       2017-12-31   -0.003996 -0.772493  1.331478  1.327658  3.467731   \n       2018-01-31    0.002864 -0.965140  1.664637  1.528651  3.650790   \n       2018-02-28   -0.002905  0.074156  1.167027  1.322157  2.983583   \n       2018-03-31    0.021422  0.332624  1.030480  1.347272  2.717652   \n\n                        CMA  momentum_2  momentum_3  momentum_6  momentum_9  \\\nticker date                                                                   \nA      2001-01-31  0.698731    0.026013    0.059757    0.053464   -0.048847   \n       2001-02-28  0.698731    0.140448    0.213128    0.245423    0.253138   \n       2001-03-31  0.698731   -0.103054   -0.028727    0.071761    0.053699   \n       2001-04-30  0.698731   -0.228477   -0.375191   -0.297629   -0.274280   \n       2001-05-31  0.698731    0.184941    0.116903    0.069178    0.075921   \n...                     ...         ...         ...         ...         ...   \nZUMZ   2017-11-30  1.303924   -0.137667   -0.029826   -0.161698   -0.227725   \n       2017-12-31  1.009348    0.130951    0.092582    0.135712    0.059190   \n       2018-01-31  0.353161   -0.020778    0.059019    0.088866    0.019838   \n       2018-02-28  0.641499    0.023217    0.017402    0.130086    0.087242   \n       2018-03-31  0.676412   -0.131504   -0.155390   -0.152755   -0.123363   \n\n                   momentum_12  momentum_3_12  \nticker date                                    \nA      2001-01-31    -0.012335      -0.072092  \n       2001-02-28     0.245026       0.031898  \n       2001-03-31     0.049783       0.078511  \n       2001-04-30    -0.335545       0.039645  \n       2001-05-31     0.076795      -0.040108  \n...                        ...            ...  \nZUMZ   2017-11-30    -0.245814      -0.215989  \n       2017-12-31     0.040729      -0.051853  \n       2018-01-31     0.006465      -0.052554  \n       2018-02-28     0.047697       0.030295  \n       2018-03-31    -0.176548      -0.021157  \n\n[360752 rows x 17 columns]",
      "text/html": "<div>\n<style scoped>\n    .dataframe tbody tr th:only-of-type {\n        vertical-align: middle;\n    }\n\n    .dataframe tbody tr th {\n        vertical-align: top;\n    }\n\n    .dataframe thead th {\n        text-align: right;\n    }\n</style>\n<table border=\"1\" class=\"dataframe\">\n  <thead>\n    <tr style=\"text-align: right;\">\n      <th></th>\n      <th></th>\n      <th>return_1m</th>\n      <th>return_2m</th>\n      <th>return_3m</th>\n      <th>return_6m</th>\n      <th>return_9m</th>\n      <th>return_12m</th>\n      <th>Mkt-RF</th>\n      <th>SMB</th>\n      <th>HML</th>\n      <th>RMW</th>\n      <th>CMA</th>\n      <th>momentum_2</th>\n      <th>momentum_3</th>\n      <th>momentum_6</th>\n      <th>momentum_9</th>\n      <th>momentum_12</th>\n      <th>momentum_3_12</th>\n    </tr>\n    <tr>\n      <th>ticker</th>\n      <th>date</th>\n      <th></th>\n      <th></th>\n      <th></th>\n      <th></th>\n      <th></th>\n      <th></th>\n      <th></th>\n      <th></th>\n      <th></th>\n      <th></th>\n      <th></th>\n      <th></th>\n      <th></th>\n      <th></th>\n      <th></th>\n      <th></th>\n      <th></th>\n    </tr>\n  </thead>\n  <tbody>\n    <tr>\n      <th rowspan=\"5\" valign=\"top\">A</th>\n      <th>2001-01-31</th>\n      <td>-0.003653</td>\n      <td>0.022360</td>\n      <td>0.056104</td>\n      <td>0.049811</td>\n      <td>-0.052500</td>\n      <td>-0.015988</td>\n      <td>1.262247</td>\n      <td>0.577372</td>\n      <td>-0.677952</td>\n      <td>-1.241965</td>\n      <td>0.698731</td>\n      <td>0.026013</td>\n      <td>0.059757</td>\n      <td>0.053464</td>\n      <td>-0.048847</td>\n      <td>-0.012335</td>\n      <td>-0.072092</td>\n    </tr>\n    <tr>\n      <th>2001-02-28</th>\n      <td>-0.329564</td>\n      <td>-0.189115</td>\n      <td>-0.116435</td>\n      <td>-0.084141</td>\n      <td>-0.076425</td>\n      <td>-0.084537</td>\n      <td>1.262247</td>\n      <td>0.577372</td>\n      <td>-0.677952</td>\n      <td>-1.241965</td>\n      <td>0.698731</td>\n      <td>0.140448</td>\n      <td>0.213128</td>\n      <td>0.245423</td>\n      <td>0.253138</td>\n      <td>0.245026</td>\n      <td>0.031898</td>\n    </tr>\n    <tr>\n      <th>2001-03-31</th>\n      <td>-0.146389</td>\n      <td>-0.249443</td>\n      <td>-0.175116</td>\n      <td>-0.074628</td>\n      <td>-0.092690</td>\n      <td>-0.096606</td>\n      <td>1.262247</td>\n      <td>0.577372</td>\n      <td>-0.677952</td>\n      <td>-1.241965</td>\n      <td>0.698731</td>\n      <td>-0.103054</td>\n      <td>-0.028727</td>\n      <td>0.071761</td>\n      <td>0.053699</td>\n      <td>0.049783</td>\n      <td>0.078511</td>\n    </tr>\n    <tr>\n      <th>2001-04-30</th>\n      <td>0.269444</td>\n      <td>0.040966</td>\n      <td>-0.105747</td>\n      <td>-0.028185</td>\n      <td>-0.004837</td>\n      <td>-0.066102</td>\n      <td>1.262247</td>\n      <td>0.577372</td>\n      <td>-0.677952</td>\n      <td>-1.241965</td>\n      <td>0.698731</td>\n      <td>-0.228477</td>\n      <td>-0.375191</td>\n      <td>-0.297629</td>\n      <td>-0.274280</td>\n      <td>-0.335545</td>\n      <td>0.039645</td>\n    </tr>\n    <tr>\n      <th>2001-05-31</th>\n      <td>-0.140220</td>\n      <td>0.044721</td>\n      <td>-0.023317</td>\n      <td>-0.071042</td>\n      <td>-0.064299</td>\n      <td>-0.063425</td>\n      <td>1.262247</td>\n      <td>0.577372</td>\n      <td>-0.677952</td>\n      <td>-1.241965</td>\n      <td>0.698731</td>\n      <td>0.184941</td>\n      <td>0.116903</td>\n      <td>0.069178</td>\n      <td>0.075921</td>\n      <td>0.076795</td>\n      <td>-0.040108</td>\n    </tr>\n    <tr>\n      <th>...</th>\n      <th>...</th>\n      <td>...</td>\n      <td>...</td>\n      <td>...</td>\n      <td>...</td>\n      <td>...</td>\n      <td>...</td>\n      <td>...</td>\n      <td>...</td>\n      <td>...</td>\n      <td>...</td>\n      <td>...</td>\n      <td>...</td>\n      <td>...</td>\n      <td>...</td>\n      <td>...</td>\n      <td>...</td>\n      <td>...</td>\n    </tr>\n    <tr>\n      <th rowspan=\"5\" valign=\"top\">ZUMZ</th>\n      <th>2017-11-30</th>\n      <td>0.235127</td>\n      <td>0.097461</td>\n      <td>0.205302</td>\n      <td>0.073430</td>\n      <td>0.007402</td>\n      <td>-0.010687</td>\n      <td>-0.772268</td>\n      <td>1.001880</td>\n      <td>1.353344</td>\n      <td>2.953964</td>\n      <td>1.303924</td>\n      <td>-0.137667</td>\n      <td>-0.029826</td>\n      <td>-0.161698</td>\n      <td>-0.227725</td>\n      <td>-0.245814</td>\n      <td>-0.215989</td>\n    </tr>\n    <tr>\n      <th>2017-12-31</th>\n      <td>-0.044725</td>\n      <td>0.086226</td>\n      <td>0.047857</td>\n      <td>0.090987</td>\n      <td>0.014465</td>\n      <td>-0.003996</td>\n      <td>-0.772493</td>\n      <td>1.331478</td>\n      <td>1.327658</td>\n      <td>3.467731</td>\n      <td>1.009348</td>\n      <td>0.130951</td>\n      <td>0.092582</td>\n      <td>0.135712</td>\n      <td>0.059190</td>\n      <td>0.040729</td>\n      <td>-0.051853</td>\n    </tr>\n    <tr>\n      <th>2018-01-31</th>\n      <td>-0.003601</td>\n      <td>-0.024380</td>\n      <td>0.055418</td>\n      <td>0.085265</td>\n      <td>0.016237</td>\n      <td>0.002864</td>\n      <td>-0.965140</td>\n      <td>1.664637</td>\n      <td>1.528651</td>\n      <td>3.650790</td>\n      <td>0.353161</td>\n      <td>-0.020778</td>\n      <td>0.059019</td>\n      <td>0.088866</td>\n      <td>0.019838</td>\n      <td>0.006465</td>\n      <td>-0.052554</td>\n    </tr>\n    <tr>\n      <th>2018-02-28</th>\n      <td>-0.050602</td>\n      <td>-0.027386</td>\n      <td>-0.033200</td>\n      <td>0.079484</td>\n      <td>0.036640</td>\n      <td>-0.002905</td>\n      <td>0.074156</td>\n      <td>1.167027</td>\n      <td>1.322157</td>\n      <td>2.983583</td>\n      <td>0.641499</td>\n      <td>0.023217</td>\n      <td>0.017402</td>\n      <td>0.130086</td>\n      <td>0.087242</td>\n      <td>0.047697</td>\n      <td>0.030295</td>\n    </tr>\n    <tr>\n      <th>2018-03-31</th>\n      <td>0.197970</td>\n      <td>0.066466</td>\n      <td>0.042579</td>\n      <td>0.045215</td>\n      <td>0.074606</td>\n      <td>0.021422</td>\n      <td>0.332624</td>\n      <td>1.030480</td>\n      <td>1.347272</td>\n      <td>2.717652</td>\n      <td>0.676412</td>\n      <td>-0.131504</td>\n      <td>-0.155390</td>\n      <td>-0.152755</td>\n      <td>-0.123363</td>\n      <td>-0.176548</td>\n      <td>-0.021157</td>\n    </tr>\n  </tbody>\n</table>\n<p>360752 rows × 17 columns</p>\n</div>"
     },
     "execution_count": 30,
     "metadata": {},
     "output_type": "execute_result"
    }
   ],
   "source": [
    "data"
   ],
   "metadata": {
    "collapsed": false,
    "pycharm": {
     "name": "#%%\n"
    }
   }
  },
  {
   "cell_type": "code",
   "execution_count": 41,
   "outputs": [],
   "source": [
    "dates = data.index.get_level_values('date')\n",
    "data['year'], data['month'] = dates.year, dates.month"
   ],
   "metadata": {
    "collapsed": false,
    "pycharm": {
     "name": "#%%\n"
    }
   }
  },
  {
   "cell_type": "code",
   "execution_count": 44,
   "outputs": [
    {
     "data": {
      "text/plain": "                   return_1m  return_2m  return_3m  return_6m  return_9m  \\\nticker date                                                                \nA      2001-01-31  -0.003653   0.022360   0.056104   0.049811  -0.052500   \n       2001-02-28  -0.329564  -0.189115  -0.116435  -0.084141  -0.076425   \n       2001-03-31  -0.146389  -0.249443  -0.175116  -0.074628  -0.092690   \n       2001-04-30   0.269444   0.040966  -0.105747  -0.028185  -0.004837   \n       2001-05-31  -0.140220   0.044721  -0.023317  -0.071042  -0.064299   \n...                      ...        ...        ...        ...        ...   \nZUMZ   2017-11-30   0.235127   0.097461   0.205302   0.073430   0.007402   \n       2017-12-31  -0.044725   0.086226   0.047857   0.090987   0.014465   \n       2018-01-31  -0.003601  -0.024380   0.055418   0.085265   0.016237   \n       2018-02-28  -0.050602  -0.027386  -0.033200   0.079484   0.036640   \n       2018-03-31   0.197970   0.066466   0.042579   0.045215   0.074606   \n\n                   return_12m    Mkt-RF       SMB       HML       RMW  ...  \\\nticker date                                                            ...   \nA      2001-01-31   -0.015988  1.262247  0.577372 -0.677952 -1.241965  ...   \n       2001-02-28   -0.084537  1.262247  0.577372 -0.677952 -1.241965  ...   \n       2001-03-31   -0.096606  1.262247  0.577372 -0.677952 -1.241965  ...   \n       2001-04-30   -0.066102  1.262247  0.577372 -0.677952 -1.241965  ...   \n       2001-05-31   -0.063425  1.262247  0.577372 -0.677952 -1.241965  ...   \n...                       ...       ...       ...       ...       ...  ...   \nZUMZ   2017-11-30   -0.010687 -0.772268  1.001880  1.353344  2.953964  ...   \n       2017-12-31   -0.003996 -0.772493  1.331478  1.327658  3.467731  ...   \n       2018-01-31    0.002864 -0.965140  1.664637  1.528651  3.650790  ...   \n       2018-02-28   -0.002905  0.074156  1.167027  1.322157  2.983583  ...   \n       2018-03-31    0.021422  0.332624  1.030480  1.347272  2.717652  ...   \n\n                   return_1m_t-2  return_1m_t-3  return_1m_t-4  return_1m_t-5  \\\nticker date                                                                     \nA      2001-01-31            NaN            NaN            NaN            NaN   \n       2001-02-28            NaN            NaN            NaN            NaN   \n       2001-03-31      -0.003653            NaN            NaN            NaN   \n       2001-04-30      -0.329564      -0.003653            NaN            NaN   \n       2001-05-31      -0.146389      -0.329564      -0.003653            NaN   \n...                          ...            ...            ...            ...   \nZUMZ   2017-11-30       0.430943      -0.019685       0.028340      -0.133333   \n       2017-12-31      -0.024862       0.430943      -0.019685       0.028340   \n       2018-01-31       0.235127      -0.024862       0.430943      -0.019685   \n       2018-02-28      -0.044725       0.235127      -0.024862       0.430943   \n       2018-03-31      -0.003601      -0.044725       0.235127      -0.024862   \n\n                   return_1m_t-6  target_1m  target_2m  target_3m  target_6m  \\\nticker date                                                                    \nA      2001-01-31            NaN  -0.329564  -0.249443  -0.105747  -0.101978   \n       2001-02-28            NaN  -0.146389   0.040966  -0.023317  -0.049781   \n       2001-03-31            NaN   0.269444   0.044721   0.018842  -0.072607   \n       2001-04-30            NaN  -0.140220  -0.087246  -0.098192  -0.089198   \n       2001-05-31            NaN  -0.031008  -0.076414  -0.075527  -0.033904   \n...                          ...        ...        ...        ...        ...   \nZUMZ   2017-11-30      -0.206128  -0.044725  -0.024380  -0.033200        NaN   \n       2017-12-31      -0.133333  -0.003601  -0.027386   0.042579        NaN   \n       2018-01-31       0.028340  -0.050602   0.066466        NaN        NaN   \n       2018-02-28      -0.019685   0.197970        NaN        NaN        NaN   \n       2018-03-31       0.430943        NaN        NaN        NaN        NaN   \n\n                   target_12m  \nticker date                    \nA      2001-01-31   -0.047686  \n       2001-02-28   -0.011986  \n       2001-03-31    0.010805  \n       2001-04-30   -0.021512  \n       2001-05-31   -0.019843  \n...                       ...  \nZUMZ   2017-11-30         NaN  \n       2017-12-31         NaN  \n       2018-01-31         NaN  \n       2018-02-28         NaN  \n       2018-03-31         NaN  \n\n[360752 rows x 30 columns]",
      "text/html": "<div>\n<style scoped>\n    .dataframe tbody tr th:only-of-type {\n        vertical-align: middle;\n    }\n\n    .dataframe tbody tr th {\n        vertical-align: top;\n    }\n\n    .dataframe thead th {\n        text-align: right;\n    }\n</style>\n<table border=\"1\" class=\"dataframe\">\n  <thead>\n    <tr style=\"text-align: right;\">\n      <th></th>\n      <th></th>\n      <th>return_1m</th>\n      <th>return_2m</th>\n      <th>return_3m</th>\n      <th>return_6m</th>\n      <th>return_9m</th>\n      <th>return_12m</th>\n      <th>Mkt-RF</th>\n      <th>SMB</th>\n      <th>HML</th>\n      <th>RMW</th>\n      <th>...</th>\n      <th>return_1m_t-2</th>\n      <th>return_1m_t-3</th>\n      <th>return_1m_t-4</th>\n      <th>return_1m_t-5</th>\n      <th>return_1m_t-6</th>\n      <th>target_1m</th>\n      <th>target_2m</th>\n      <th>target_3m</th>\n      <th>target_6m</th>\n      <th>target_12m</th>\n    </tr>\n    <tr>\n      <th>ticker</th>\n      <th>date</th>\n      <th></th>\n      <th></th>\n      <th></th>\n      <th></th>\n      <th></th>\n      <th></th>\n      <th></th>\n      <th></th>\n      <th></th>\n      <th></th>\n      <th></th>\n      <th></th>\n      <th></th>\n      <th></th>\n      <th></th>\n      <th></th>\n      <th></th>\n      <th></th>\n      <th></th>\n      <th></th>\n      <th></th>\n    </tr>\n  </thead>\n  <tbody>\n    <tr>\n      <th rowspan=\"5\" valign=\"top\">A</th>\n      <th>2001-01-31</th>\n      <td>-0.003653</td>\n      <td>0.022360</td>\n      <td>0.056104</td>\n      <td>0.049811</td>\n      <td>-0.052500</td>\n      <td>-0.015988</td>\n      <td>1.262247</td>\n      <td>0.577372</td>\n      <td>-0.677952</td>\n      <td>-1.241965</td>\n      <td>...</td>\n      <td>NaN</td>\n      <td>NaN</td>\n      <td>NaN</td>\n      <td>NaN</td>\n      <td>NaN</td>\n      <td>-0.329564</td>\n      <td>-0.249443</td>\n      <td>-0.105747</td>\n      <td>-0.101978</td>\n      <td>-0.047686</td>\n    </tr>\n    <tr>\n      <th>2001-02-28</th>\n      <td>-0.329564</td>\n      <td>-0.189115</td>\n      <td>-0.116435</td>\n      <td>-0.084141</td>\n      <td>-0.076425</td>\n      <td>-0.084537</td>\n      <td>1.262247</td>\n      <td>0.577372</td>\n      <td>-0.677952</td>\n      <td>-1.241965</td>\n      <td>...</td>\n      <td>NaN</td>\n      <td>NaN</td>\n      <td>NaN</td>\n      <td>NaN</td>\n      <td>NaN</td>\n      <td>-0.146389</td>\n      <td>0.040966</td>\n      <td>-0.023317</td>\n      <td>-0.049781</td>\n      <td>-0.011986</td>\n    </tr>\n    <tr>\n      <th>2001-03-31</th>\n      <td>-0.146389</td>\n      <td>-0.249443</td>\n      <td>-0.175116</td>\n      <td>-0.074628</td>\n      <td>-0.092690</td>\n      <td>-0.096606</td>\n      <td>1.262247</td>\n      <td>0.577372</td>\n      <td>-0.677952</td>\n      <td>-1.241965</td>\n      <td>...</td>\n      <td>-0.003653</td>\n      <td>NaN</td>\n      <td>NaN</td>\n      <td>NaN</td>\n      <td>NaN</td>\n      <td>0.269444</td>\n      <td>0.044721</td>\n      <td>0.018842</td>\n      <td>-0.072607</td>\n      <td>0.010805</td>\n    </tr>\n    <tr>\n      <th>2001-04-30</th>\n      <td>0.269444</td>\n      <td>0.040966</td>\n      <td>-0.105747</td>\n      <td>-0.028185</td>\n      <td>-0.004837</td>\n      <td>-0.066102</td>\n      <td>1.262247</td>\n      <td>0.577372</td>\n      <td>-0.677952</td>\n      <td>-1.241965</td>\n      <td>...</td>\n      <td>-0.329564</td>\n      <td>-0.003653</td>\n      <td>NaN</td>\n      <td>NaN</td>\n      <td>NaN</td>\n      <td>-0.140220</td>\n      <td>-0.087246</td>\n      <td>-0.098192</td>\n      <td>-0.089198</td>\n      <td>-0.021512</td>\n    </tr>\n    <tr>\n      <th>2001-05-31</th>\n      <td>-0.140220</td>\n      <td>0.044721</td>\n      <td>-0.023317</td>\n      <td>-0.071042</td>\n      <td>-0.064299</td>\n      <td>-0.063425</td>\n      <td>1.262247</td>\n      <td>0.577372</td>\n      <td>-0.677952</td>\n      <td>-1.241965</td>\n      <td>...</td>\n      <td>-0.146389</td>\n      <td>-0.329564</td>\n      <td>-0.003653</td>\n      <td>NaN</td>\n      <td>NaN</td>\n      <td>-0.031008</td>\n      <td>-0.076414</td>\n      <td>-0.075527</td>\n      <td>-0.033904</td>\n      <td>-0.019843</td>\n    </tr>\n    <tr>\n      <th>...</th>\n      <th>...</th>\n      <td>...</td>\n      <td>...</td>\n      <td>...</td>\n      <td>...</td>\n      <td>...</td>\n      <td>...</td>\n      <td>...</td>\n      <td>...</td>\n      <td>...</td>\n      <td>...</td>\n      <td>...</td>\n      <td>...</td>\n      <td>...</td>\n      <td>...</td>\n      <td>...</td>\n      <td>...</td>\n      <td>...</td>\n      <td>...</td>\n      <td>...</td>\n      <td>...</td>\n      <td>...</td>\n    </tr>\n    <tr>\n      <th rowspan=\"5\" valign=\"top\">ZUMZ</th>\n      <th>2017-11-30</th>\n      <td>0.235127</td>\n      <td>0.097461</td>\n      <td>0.205302</td>\n      <td>0.073430</td>\n      <td>0.007402</td>\n      <td>-0.010687</td>\n      <td>-0.772268</td>\n      <td>1.001880</td>\n      <td>1.353344</td>\n      <td>2.953964</td>\n      <td>...</td>\n      <td>0.430943</td>\n      <td>-0.019685</td>\n      <td>0.028340</td>\n      <td>-0.133333</td>\n      <td>-0.206128</td>\n      <td>-0.044725</td>\n      <td>-0.024380</td>\n      <td>-0.033200</td>\n      <td>NaN</td>\n      <td>NaN</td>\n    </tr>\n    <tr>\n      <th>2017-12-31</th>\n      <td>-0.044725</td>\n      <td>0.086226</td>\n      <td>0.047857</td>\n      <td>0.090987</td>\n      <td>0.014465</td>\n      <td>-0.003996</td>\n      <td>-0.772493</td>\n      <td>1.331478</td>\n      <td>1.327658</td>\n      <td>3.467731</td>\n      <td>...</td>\n      <td>-0.024862</td>\n      <td>0.430943</td>\n      <td>-0.019685</td>\n      <td>0.028340</td>\n      <td>-0.133333</td>\n      <td>-0.003601</td>\n      <td>-0.027386</td>\n      <td>0.042579</td>\n      <td>NaN</td>\n      <td>NaN</td>\n    </tr>\n    <tr>\n      <th>2018-01-31</th>\n      <td>-0.003601</td>\n      <td>-0.024380</td>\n      <td>0.055418</td>\n      <td>0.085265</td>\n      <td>0.016237</td>\n      <td>0.002864</td>\n      <td>-0.965140</td>\n      <td>1.664637</td>\n      <td>1.528651</td>\n      <td>3.650790</td>\n      <td>...</td>\n      <td>0.235127</td>\n      <td>-0.024862</td>\n      <td>0.430943</td>\n      <td>-0.019685</td>\n      <td>0.028340</td>\n      <td>-0.050602</td>\n      <td>0.066466</td>\n      <td>NaN</td>\n      <td>NaN</td>\n      <td>NaN</td>\n    </tr>\n    <tr>\n      <th>2018-02-28</th>\n      <td>-0.050602</td>\n      <td>-0.027386</td>\n      <td>-0.033200</td>\n      <td>0.079484</td>\n      <td>0.036640</td>\n      <td>-0.002905</td>\n      <td>0.074156</td>\n      <td>1.167027</td>\n      <td>1.322157</td>\n      <td>2.983583</td>\n      <td>...</td>\n      <td>-0.044725</td>\n      <td>0.235127</td>\n      <td>-0.024862</td>\n      <td>0.430943</td>\n      <td>-0.019685</td>\n      <td>0.197970</td>\n      <td>NaN</td>\n      <td>NaN</td>\n      <td>NaN</td>\n      <td>NaN</td>\n    </tr>\n    <tr>\n      <th>2018-03-31</th>\n      <td>0.197970</td>\n      <td>0.066466</td>\n      <td>0.042579</td>\n      <td>0.045215</td>\n      <td>0.074606</td>\n      <td>0.021422</td>\n      <td>0.332624</td>\n      <td>1.030480</td>\n      <td>1.347272</td>\n      <td>2.717652</td>\n      <td>...</td>\n      <td>-0.003601</td>\n      <td>-0.044725</td>\n      <td>0.235127</td>\n      <td>-0.024862</td>\n      <td>0.430943</td>\n      <td>NaN</td>\n      <td>NaN</td>\n      <td>NaN</td>\n      <td>NaN</td>\n      <td>NaN</td>\n    </tr>\n  </tbody>\n</table>\n<p>360752 rows × 30 columns</p>\n</div>"
     },
     "execution_count": 44,
     "metadata": {},
     "output_type": "execute_result"
    }
   ],
   "source": [
    "data"
   ],
   "metadata": {
    "collapsed": false,
    "pycharm": {
     "name": "#%%\n"
    }
   }
  },
  {
   "cell_type": "code",
   "execution_count": 45,
   "outputs": [
    {
     "name": "stdout",
     "output_type": "stream",
     "text": [
      "<class 'pandas.core.frame.DataFrame'>\n",
      "MultiIndex: 360752 entries, ('A', Timestamp('2001-01-31 00:00:00', freq='M')) to ('ZUMZ', Timestamp('2018-03-31 00:00:00', freq='M'))\n",
      "Data columns (total 30 columns):\n",
      " #   Column         Non-Null Count   Dtype  \n",
      "---  ------         --------------   -----  \n",
      " 0   return_1m      360752 non-null  float64\n",
      " 1   return_2m      360752 non-null  float64\n",
      " 2   return_3m      360752 non-null  float64\n",
      " 3   return_6m      360752 non-null  float64\n",
      " 4   return_9m      360752 non-null  float64\n",
      " 5   return_12m     360752 non-null  float64\n",
      " 6   Mkt-RF         360752 non-null  float64\n",
      " 7   SMB            360752 non-null  float64\n",
      " 8   HML            360752 non-null  float64\n",
      " 9   RMW            360752 non-null  float64\n",
      " 10  CMA            360752 non-null  float64\n",
      " 11  momentum_2     360752 non-null  float64\n",
      " 12  momentum_3     360752 non-null  float64\n",
      " 13  momentum_6     360752 non-null  float64\n",
      " 14  momentum_9     360752 non-null  float64\n",
      " 15  momentum_12    360752 non-null  float64\n",
      " 16  momentum_3_12  360752 non-null  float64\n",
      " 17  year           360752 non-null  int64  \n",
      " 18  month          360752 non-null  int64  \n",
      " 19  return_1m_t-1  358914 non-null  float64\n",
      " 20  return_1m_t-2  357076 non-null  float64\n",
      " 21  return_1m_t-3  355238 non-null  float64\n",
      " 22  return_1m_t-4  353400 non-null  float64\n",
      " 23  return_1m_t-5  351562 non-null  float64\n",
      " 24  return_1m_t-6  349724 non-null  float64\n",
      " 25  target_1m      358914 non-null  float64\n",
      " 26  target_2m      357076 non-null  float64\n",
      " 27  target_3m      355238 non-null  float64\n",
      " 28  target_6m      349724 non-null  float64\n",
      " 29  target_12m     338696 non-null  float64\n",
      "dtypes: float64(28), int64(2)\n",
      "memory usage: 92.1+ MB\n"
     ]
    }
   ],
   "source": [
    "for t in range(1, 7):\n",
    "    data[f'return_1m_t-{t}'] = data.groupby(level='ticker').return_1m.shift(t)\n",
    "data.info()"
   ],
   "metadata": {
    "collapsed": false,
    "pycharm": {
     "name": "#%%\n"
    }
   }
  },
  {
   "cell_type": "markdown",
   "source": [
    "# For Holding Period Returns"
   ],
   "metadata": {
    "collapsed": false,
    "pycharm": {
     "name": "#%% md\n"
    }
   }
  },
  {
   "cell_type": "code",
   "execution_count": null,
   "outputs": [],
   "source": [
    "for t in [1, 2, 3, 6, 12]:\n",
    "    data[f'target_{t}m'] = data.groupby(level='ticker')[f'return_{t}m'].shift(-t)"
   ],
   "metadata": {
    "collapsed": false,
    "pycharm": {
     "name": "#%%\n"
    }
   }
  },
  {
   "cell_type": "code",
   "execution_count": 47,
   "outputs": [
    {
     "data": {
      "text/plain": "                   return_1m  return_2m  return_3m  return_6m  return_9m  \\\nticker date                                                                \nA      2001-01-31  -0.003653   0.022360   0.056104   0.049811  -0.052500   \n       2001-02-28  -0.329564  -0.189115  -0.116435  -0.084141  -0.076425   \n       2001-03-31  -0.146389  -0.249443  -0.175116  -0.074628  -0.092690   \n       2001-04-30   0.269444   0.040966  -0.105747  -0.028185  -0.004837   \n       2001-05-31  -0.140220   0.044721  -0.023317  -0.071042  -0.064299   \n...                      ...        ...        ...        ...        ...   \nZUMZ   2017-11-30   0.235127   0.097461   0.205302   0.073430   0.007402   \n       2017-12-31  -0.044725   0.086226   0.047857   0.090987   0.014465   \n       2018-01-31  -0.003601  -0.024380   0.055418   0.085265   0.016237   \n       2018-02-28  -0.050602  -0.027386  -0.033200   0.079484   0.036640   \n       2018-03-31   0.197970   0.066466   0.042579   0.045215   0.074606   \n\n                   return_12m    Mkt-RF       SMB       HML       RMW  ...  \\\nticker date                                                            ...   \nA      2001-01-31   -0.015988  1.262247  0.577372 -0.677952 -1.241965  ...   \n       2001-02-28   -0.084537  1.262247  0.577372 -0.677952 -1.241965  ...   \n       2001-03-31   -0.096606  1.262247  0.577372 -0.677952 -1.241965  ...   \n       2001-04-30   -0.066102  1.262247  0.577372 -0.677952 -1.241965  ...   \n       2001-05-31   -0.063425  1.262247  0.577372 -0.677952 -1.241965  ...   \n...                       ...       ...       ...       ...       ...  ...   \nZUMZ   2017-11-30   -0.010687 -0.772268  1.001880  1.353344  2.953964  ...   \n       2017-12-31   -0.003996 -0.772493  1.331478  1.327658  3.467731  ...   \n       2018-01-31    0.002864 -0.965140  1.664637  1.528651  3.650790  ...   \n       2018-02-28   -0.002905  0.074156  1.167027  1.322157  2.983583  ...   \n       2018-03-31    0.021422  0.332624  1.030480  1.347272  2.717652  ...   \n\n                   return_1m_t-2  return_1m_t-3  return_1m_t-4  return_1m_t-5  \\\nticker date                                                                     \nA      2001-01-31            NaN            NaN            NaN            NaN   \n       2001-02-28            NaN            NaN            NaN            NaN   \n       2001-03-31      -0.003653            NaN            NaN            NaN   \n       2001-04-30      -0.329564      -0.003653            NaN            NaN   \n       2001-05-31      -0.146389      -0.329564      -0.003653            NaN   \n...                          ...            ...            ...            ...   \nZUMZ   2017-11-30       0.430943      -0.019685       0.028340      -0.133333   \n       2017-12-31      -0.024862       0.430943      -0.019685       0.028340   \n       2018-01-31       0.235127      -0.024862       0.430943      -0.019685   \n       2018-02-28      -0.044725       0.235127      -0.024862       0.430943   \n       2018-03-31      -0.003601      -0.044725       0.235127      -0.024862   \n\n                   return_1m_t-6  target_1m  target_2m  target_3m  target_6m  \\\nticker date                                                                    \nA      2001-01-31            NaN  -0.329564  -0.249443  -0.105747  -0.101978   \n       2001-02-28            NaN  -0.146389   0.040966  -0.023317  -0.049781   \n       2001-03-31            NaN   0.269444   0.044721   0.018842  -0.072607   \n       2001-04-30            NaN  -0.140220  -0.087246  -0.098192  -0.089198   \n       2001-05-31            NaN  -0.031008  -0.076414  -0.075527  -0.033904   \n...                          ...        ...        ...        ...        ...   \nZUMZ   2017-11-30      -0.206128  -0.044725  -0.024380  -0.033200        NaN   \n       2017-12-31      -0.133333  -0.003601  -0.027386   0.042579        NaN   \n       2018-01-31       0.028340  -0.050602   0.066466        NaN        NaN   \n       2018-02-28      -0.019685   0.197970        NaN        NaN        NaN   \n       2018-03-31       0.430943        NaN        NaN        NaN        NaN   \n\n                   target_12m  \nticker date                    \nA      2001-01-31   -0.047686  \n       2001-02-28   -0.011986  \n       2001-03-31    0.010805  \n       2001-04-30   -0.021512  \n       2001-05-31   -0.019843  \n...                       ...  \nZUMZ   2017-11-30         NaN  \n       2017-12-31         NaN  \n       2018-01-31         NaN  \n       2018-02-28         NaN  \n       2018-03-31         NaN  \n\n[360752 rows x 30 columns]",
      "text/html": "<div>\n<style scoped>\n    .dataframe tbody tr th:only-of-type {\n        vertical-align: middle;\n    }\n\n    .dataframe tbody tr th {\n        vertical-align: top;\n    }\n\n    .dataframe thead th {\n        text-align: right;\n    }\n</style>\n<table border=\"1\" class=\"dataframe\">\n  <thead>\n    <tr style=\"text-align: right;\">\n      <th></th>\n      <th></th>\n      <th>return_1m</th>\n      <th>return_2m</th>\n      <th>return_3m</th>\n      <th>return_6m</th>\n      <th>return_9m</th>\n      <th>return_12m</th>\n      <th>Mkt-RF</th>\n      <th>SMB</th>\n      <th>HML</th>\n      <th>RMW</th>\n      <th>...</th>\n      <th>return_1m_t-2</th>\n      <th>return_1m_t-3</th>\n      <th>return_1m_t-4</th>\n      <th>return_1m_t-5</th>\n      <th>return_1m_t-6</th>\n      <th>target_1m</th>\n      <th>target_2m</th>\n      <th>target_3m</th>\n      <th>target_6m</th>\n      <th>target_12m</th>\n    </tr>\n    <tr>\n      <th>ticker</th>\n      <th>date</th>\n      <th></th>\n      <th></th>\n      <th></th>\n      <th></th>\n      <th></th>\n      <th></th>\n      <th></th>\n      <th></th>\n      <th></th>\n      <th></th>\n      <th></th>\n      <th></th>\n      <th></th>\n      <th></th>\n      <th></th>\n      <th></th>\n      <th></th>\n      <th></th>\n      <th></th>\n      <th></th>\n      <th></th>\n    </tr>\n  </thead>\n  <tbody>\n    <tr>\n      <th rowspan=\"5\" valign=\"top\">A</th>\n      <th>2001-01-31</th>\n      <td>-0.003653</td>\n      <td>0.022360</td>\n      <td>0.056104</td>\n      <td>0.049811</td>\n      <td>-0.052500</td>\n      <td>-0.015988</td>\n      <td>1.262247</td>\n      <td>0.577372</td>\n      <td>-0.677952</td>\n      <td>-1.241965</td>\n      <td>...</td>\n      <td>NaN</td>\n      <td>NaN</td>\n      <td>NaN</td>\n      <td>NaN</td>\n      <td>NaN</td>\n      <td>-0.329564</td>\n      <td>-0.249443</td>\n      <td>-0.105747</td>\n      <td>-0.101978</td>\n      <td>-0.047686</td>\n    </tr>\n    <tr>\n      <th>2001-02-28</th>\n      <td>-0.329564</td>\n      <td>-0.189115</td>\n      <td>-0.116435</td>\n      <td>-0.084141</td>\n      <td>-0.076425</td>\n      <td>-0.084537</td>\n      <td>1.262247</td>\n      <td>0.577372</td>\n      <td>-0.677952</td>\n      <td>-1.241965</td>\n      <td>...</td>\n      <td>NaN</td>\n      <td>NaN</td>\n      <td>NaN</td>\n      <td>NaN</td>\n      <td>NaN</td>\n      <td>-0.146389</td>\n      <td>0.040966</td>\n      <td>-0.023317</td>\n      <td>-0.049781</td>\n      <td>-0.011986</td>\n    </tr>\n    <tr>\n      <th>2001-03-31</th>\n      <td>-0.146389</td>\n      <td>-0.249443</td>\n      <td>-0.175116</td>\n      <td>-0.074628</td>\n      <td>-0.092690</td>\n      <td>-0.096606</td>\n      <td>1.262247</td>\n      <td>0.577372</td>\n      <td>-0.677952</td>\n      <td>-1.241965</td>\n      <td>...</td>\n      <td>-0.003653</td>\n      <td>NaN</td>\n      <td>NaN</td>\n      <td>NaN</td>\n      <td>NaN</td>\n      <td>0.269444</td>\n      <td>0.044721</td>\n      <td>0.018842</td>\n      <td>-0.072607</td>\n      <td>0.010805</td>\n    </tr>\n    <tr>\n      <th>2001-04-30</th>\n      <td>0.269444</td>\n      <td>0.040966</td>\n      <td>-0.105747</td>\n      <td>-0.028185</td>\n      <td>-0.004837</td>\n      <td>-0.066102</td>\n      <td>1.262247</td>\n      <td>0.577372</td>\n      <td>-0.677952</td>\n      <td>-1.241965</td>\n      <td>...</td>\n      <td>-0.329564</td>\n      <td>-0.003653</td>\n      <td>NaN</td>\n      <td>NaN</td>\n      <td>NaN</td>\n      <td>-0.140220</td>\n      <td>-0.087246</td>\n      <td>-0.098192</td>\n      <td>-0.089198</td>\n      <td>-0.021512</td>\n    </tr>\n    <tr>\n      <th>2001-05-31</th>\n      <td>-0.140220</td>\n      <td>0.044721</td>\n      <td>-0.023317</td>\n      <td>-0.071042</td>\n      <td>-0.064299</td>\n      <td>-0.063425</td>\n      <td>1.262247</td>\n      <td>0.577372</td>\n      <td>-0.677952</td>\n      <td>-1.241965</td>\n      <td>...</td>\n      <td>-0.146389</td>\n      <td>-0.329564</td>\n      <td>-0.003653</td>\n      <td>NaN</td>\n      <td>NaN</td>\n      <td>-0.031008</td>\n      <td>-0.076414</td>\n      <td>-0.075527</td>\n      <td>-0.033904</td>\n      <td>-0.019843</td>\n    </tr>\n    <tr>\n      <th>...</th>\n      <th>...</th>\n      <td>...</td>\n      <td>...</td>\n      <td>...</td>\n      <td>...</td>\n      <td>...</td>\n      <td>...</td>\n      <td>...</td>\n      <td>...</td>\n      <td>...</td>\n      <td>...</td>\n      <td>...</td>\n      <td>...</td>\n      <td>...</td>\n      <td>...</td>\n      <td>...</td>\n      <td>...</td>\n      <td>...</td>\n      <td>...</td>\n      <td>...</td>\n      <td>...</td>\n      <td>...</td>\n    </tr>\n    <tr>\n      <th rowspan=\"5\" valign=\"top\">ZUMZ</th>\n      <th>2017-11-30</th>\n      <td>0.235127</td>\n      <td>0.097461</td>\n      <td>0.205302</td>\n      <td>0.073430</td>\n      <td>0.007402</td>\n      <td>-0.010687</td>\n      <td>-0.772268</td>\n      <td>1.001880</td>\n      <td>1.353344</td>\n      <td>2.953964</td>\n      <td>...</td>\n      <td>0.430943</td>\n      <td>-0.019685</td>\n      <td>0.028340</td>\n      <td>-0.133333</td>\n      <td>-0.206128</td>\n      <td>-0.044725</td>\n      <td>-0.024380</td>\n      <td>-0.033200</td>\n      <td>NaN</td>\n      <td>NaN</td>\n    </tr>\n    <tr>\n      <th>2017-12-31</th>\n      <td>-0.044725</td>\n      <td>0.086226</td>\n      <td>0.047857</td>\n      <td>0.090987</td>\n      <td>0.014465</td>\n      <td>-0.003996</td>\n      <td>-0.772493</td>\n      <td>1.331478</td>\n      <td>1.327658</td>\n      <td>3.467731</td>\n      <td>...</td>\n      <td>-0.024862</td>\n      <td>0.430943</td>\n      <td>-0.019685</td>\n      <td>0.028340</td>\n      <td>-0.133333</td>\n      <td>-0.003601</td>\n      <td>-0.027386</td>\n      <td>0.042579</td>\n      <td>NaN</td>\n      <td>NaN</td>\n    </tr>\n    <tr>\n      <th>2018-01-31</th>\n      <td>-0.003601</td>\n      <td>-0.024380</td>\n      <td>0.055418</td>\n      <td>0.085265</td>\n      <td>0.016237</td>\n      <td>0.002864</td>\n      <td>-0.965140</td>\n      <td>1.664637</td>\n      <td>1.528651</td>\n      <td>3.650790</td>\n      <td>...</td>\n      <td>0.235127</td>\n      <td>-0.024862</td>\n      <td>0.430943</td>\n      <td>-0.019685</td>\n      <td>0.028340</td>\n      <td>-0.050602</td>\n      <td>0.066466</td>\n      <td>NaN</td>\n      <td>NaN</td>\n      <td>NaN</td>\n    </tr>\n    <tr>\n      <th>2018-02-28</th>\n      <td>-0.050602</td>\n      <td>-0.027386</td>\n      <td>-0.033200</td>\n      <td>0.079484</td>\n      <td>0.036640</td>\n      <td>-0.002905</td>\n      <td>0.074156</td>\n      <td>1.167027</td>\n      <td>1.322157</td>\n      <td>2.983583</td>\n      <td>...</td>\n      <td>-0.044725</td>\n      <td>0.235127</td>\n      <td>-0.024862</td>\n      <td>0.430943</td>\n      <td>-0.019685</td>\n      <td>0.197970</td>\n      <td>NaN</td>\n      <td>NaN</td>\n      <td>NaN</td>\n      <td>NaN</td>\n    </tr>\n    <tr>\n      <th>2018-03-31</th>\n      <td>0.197970</td>\n      <td>0.066466</td>\n      <td>0.042579</td>\n      <td>0.045215</td>\n      <td>0.074606</td>\n      <td>0.021422</td>\n      <td>0.332624</td>\n      <td>1.030480</td>\n      <td>1.347272</td>\n      <td>2.717652</td>\n      <td>...</td>\n      <td>-0.003601</td>\n      <td>-0.044725</td>\n      <td>0.235127</td>\n      <td>-0.024862</td>\n      <td>0.430943</td>\n      <td>NaN</td>\n      <td>NaN</td>\n      <td>NaN</td>\n      <td>NaN</td>\n      <td>NaN</td>\n    </tr>\n  </tbody>\n</table>\n<p>360752 rows × 30 columns</p>\n</div>"
     },
     "execution_count": 47,
     "metadata": {},
     "output_type": "execute_result"
    }
   ],
   "source": [
    "data"
   ],
   "metadata": {
    "collapsed": false,
    "pycharm": {
     "name": "#%%\n"
    }
   }
  },
  {
   "cell_type": "code",
   "execution_count": 48,
   "outputs": [
    {
     "data": {
      "text/plain": "                   target_1m  target_2m  target_3m  return_1m  return_2m  \\\nticker date                                                                \nA      2001-04-30  -0.140220  -0.087246  -0.098192   0.269444   0.040966   \n       2001-05-31  -0.031008  -0.076414  -0.075527  -0.140220   0.044721   \n       2001-06-30  -0.119692  -0.097014  -0.155847  -0.031008  -0.087246   \n       2001-07-31  -0.073750  -0.173364  -0.080114  -0.119692  -0.076414   \n       2001-08-31  -0.262264  -0.083279   0.009593  -0.073750  -0.097014   \n       2001-09-30   0.139130   0.181052   0.134010  -0.262264  -0.173364   \n       2001-10-31   0.224517   0.131458   0.108697   0.139130  -0.083279   \n       2001-11-30   0.045471   0.054962   0.045340   0.224517   0.181052   \n       2001-12-31   0.064539   0.045275   0.070347   0.045471   0.131458   \n       2002-01-31   0.026359   0.073264  -0.003306   0.064539   0.054962   \n\n                   return_3m  return_1m_t-1  return_1m_t-2  return_1m_t-3  \nticker date                                                                \nA      2001-04-30  -0.105747      -0.146389      -0.329564      -0.003653  \n       2001-05-31  -0.023317       0.269444      -0.146389      -0.329564  \n       2001-06-30   0.018842      -0.140220       0.269444      -0.146389  \n       2001-07-31  -0.098192      -0.031008      -0.140220       0.269444  \n       2001-08-31  -0.075527      -0.119692      -0.031008      -0.140220  \n       2001-09-30  -0.155847      -0.073750      -0.119692      -0.031008  \n       2001-10-31  -0.080114      -0.262264      -0.073750      -0.119692  \n       2001-11-30   0.009593       0.139130      -0.262264      -0.073750  \n       2001-12-31   0.134010       0.224517       0.139130      -0.262264  \n       2002-01-31   0.108697       0.045471       0.224517       0.139130  ",
      "text/html": "<div>\n<style scoped>\n    .dataframe tbody tr th:only-of-type {\n        vertical-align: middle;\n    }\n\n    .dataframe tbody tr th {\n        vertical-align: top;\n    }\n\n    .dataframe thead th {\n        text-align: right;\n    }\n</style>\n<table border=\"1\" class=\"dataframe\">\n  <thead>\n    <tr style=\"text-align: right;\">\n      <th></th>\n      <th></th>\n      <th>target_1m</th>\n      <th>target_2m</th>\n      <th>target_3m</th>\n      <th>return_1m</th>\n      <th>return_2m</th>\n      <th>return_3m</th>\n      <th>return_1m_t-1</th>\n      <th>return_1m_t-2</th>\n      <th>return_1m_t-3</th>\n    </tr>\n    <tr>\n      <th>ticker</th>\n      <th>date</th>\n      <th></th>\n      <th></th>\n      <th></th>\n      <th></th>\n      <th></th>\n      <th></th>\n      <th></th>\n      <th></th>\n      <th></th>\n    </tr>\n  </thead>\n  <tbody>\n    <tr>\n      <th rowspan=\"10\" valign=\"top\">A</th>\n      <th>2001-04-30</th>\n      <td>-0.140220</td>\n      <td>-0.087246</td>\n      <td>-0.098192</td>\n      <td>0.269444</td>\n      <td>0.040966</td>\n      <td>-0.105747</td>\n      <td>-0.146389</td>\n      <td>-0.329564</td>\n      <td>-0.003653</td>\n    </tr>\n    <tr>\n      <th>2001-05-31</th>\n      <td>-0.031008</td>\n      <td>-0.076414</td>\n      <td>-0.075527</td>\n      <td>-0.140220</td>\n      <td>0.044721</td>\n      <td>-0.023317</td>\n      <td>0.269444</td>\n      <td>-0.146389</td>\n      <td>-0.329564</td>\n    </tr>\n    <tr>\n      <th>2001-06-30</th>\n      <td>-0.119692</td>\n      <td>-0.097014</td>\n      <td>-0.155847</td>\n      <td>-0.031008</td>\n      <td>-0.087246</td>\n      <td>0.018842</td>\n      <td>-0.140220</td>\n      <td>0.269444</td>\n      <td>-0.146389</td>\n    </tr>\n    <tr>\n      <th>2001-07-31</th>\n      <td>-0.073750</td>\n      <td>-0.173364</td>\n      <td>-0.080114</td>\n      <td>-0.119692</td>\n      <td>-0.076414</td>\n      <td>-0.098192</td>\n      <td>-0.031008</td>\n      <td>-0.140220</td>\n      <td>0.269444</td>\n    </tr>\n    <tr>\n      <th>2001-08-31</th>\n      <td>-0.262264</td>\n      <td>-0.083279</td>\n      <td>0.009593</td>\n      <td>-0.073750</td>\n      <td>-0.097014</td>\n      <td>-0.075527</td>\n      <td>-0.119692</td>\n      <td>-0.031008</td>\n      <td>-0.140220</td>\n    </tr>\n    <tr>\n      <th>2001-09-30</th>\n      <td>0.139130</td>\n      <td>0.181052</td>\n      <td>0.134010</td>\n      <td>-0.262264</td>\n      <td>-0.173364</td>\n      <td>-0.155847</td>\n      <td>-0.073750</td>\n      <td>-0.119692</td>\n      <td>-0.031008</td>\n    </tr>\n    <tr>\n      <th>2001-10-31</th>\n      <td>0.224517</td>\n      <td>0.131458</td>\n      <td>0.108697</td>\n      <td>0.139130</td>\n      <td>-0.083279</td>\n      <td>-0.080114</td>\n      <td>-0.262264</td>\n      <td>-0.073750</td>\n      <td>-0.119692</td>\n    </tr>\n    <tr>\n      <th>2001-11-30</th>\n      <td>0.045471</td>\n      <td>0.054962</td>\n      <td>0.045340</td>\n      <td>0.224517</td>\n      <td>0.181052</td>\n      <td>0.009593</td>\n      <td>0.139130</td>\n      <td>-0.262264</td>\n      <td>-0.073750</td>\n    </tr>\n    <tr>\n      <th>2001-12-31</th>\n      <td>0.064539</td>\n      <td>0.045275</td>\n      <td>0.070347</td>\n      <td>0.045471</td>\n      <td>0.131458</td>\n      <td>0.134010</td>\n      <td>0.224517</td>\n      <td>0.139130</td>\n      <td>-0.262264</td>\n    </tr>\n    <tr>\n      <th>2002-01-31</th>\n      <td>0.026359</td>\n      <td>0.073264</td>\n      <td>-0.003306</td>\n      <td>0.064539</td>\n      <td>0.054962</td>\n      <td>0.108697</td>\n      <td>0.045471</td>\n      <td>0.224517</td>\n      <td>0.139130</td>\n    </tr>\n  </tbody>\n</table>\n</div>"
     },
     "execution_count": 48,
     "metadata": {},
     "output_type": "execute_result"
    }
   ],
   "source": [
    "cols = ['target_1m', 'target_2m', 'target_3m', 'return_1m', 'return_2m', 'return_3m', 'return_1m_t-1', 'return_1m_t-2',\n",
    "        'return_1m_t-3']\n",
    "\n",
    "data[cols].dropna().sort_index().head(10)"
   ],
   "metadata": {
    "collapsed": false,
    "pycharm": {
     "name": "#%%\n"
    }
   }
  },
  {
   "cell_type": "code",
   "execution_count": 39,
   "outputs": [
    {
     "name": "stdout",
     "output_type": "stream",
     "text": [
      "<class 'pandas.core.frame.DataFrame'>\n",
      "MultiIndex: 360752 entries, ('A', Timestamp('2001-01-31 00:00:00', freq='M')) to ('ZUMZ', Timestamp('2018-03-31 00:00:00', freq='M'))\n",
      "Data columns (total 30 columns):\n",
      " #   Column         Non-Null Count   Dtype  \n",
      "---  ------         --------------   -----  \n",
      " 0   return_1m      360752 non-null  float64\n",
      " 1   return_2m      360752 non-null  float64\n",
      " 2   return_3m      360752 non-null  float64\n",
      " 3   return_6m      360752 non-null  float64\n",
      " 4   return_9m      360752 non-null  float64\n",
      " 5   return_12m     360752 non-null  float64\n",
      " 6   Mkt-RF         360752 non-null  float64\n",
      " 7   SMB            360752 non-null  float64\n",
      " 8   HML            360752 non-null  float64\n",
      " 9   RMW            360752 non-null  float64\n",
      " 10  CMA            360752 non-null  float64\n",
      " 11  momentum_2     360752 non-null  float64\n",
      " 12  momentum_3     360752 non-null  float64\n",
      " 13  momentum_6     360752 non-null  float64\n",
      " 14  momentum_9     360752 non-null  float64\n",
      " 15  momentum_12    360752 non-null  float64\n",
      " 16  momentum_3_12  360752 non-null  float64\n",
      " 17  year           360752 non-null  int64  \n",
      " 18  month          360752 non-null  int64  \n",
      " 19  return_1m_t-1  358914 non-null  float64\n",
      " 20  return_1m_t-2  357076 non-null  float64\n",
      " 21  return_1m_t-3  355238 non-null  float64\n",
      " 22  return_1m_t-4  353400 non-null  float64\n",
      " 23  return_1m_t-5  351562 non-null  float64\n",
      " 24  return_1m_t-6  349724 non-null  float64\n",
      " 25  target_1m      358914 non-null  float64\n",
      " 26  target_2m      357076 non-null  float64\n",
      " 27  target_3m      355238 non-null  float64\n",
      " 28  target_6m      349724 non-null  float64\n",
      " 29  target_12m     338696 non-null  float64\n",
      "dtypes: float64(28), int64(2)\n",
      "memory usage: 92.1+ MB\n"
     ]
    }
   ],
   "source": [
    "data.info()"
   ],
   "metadata": {
    "collapsed": false,
    "pycharm": {
     "name": "#%%\n"
    }
   }
  },
  {
   "cell_type": "code",
   "execution_count": 51,
   "outputs": [
    {
     "ename": "ValueError",
     "evalue": "columns overlap but no suffix specified: Index(['age'], dtype='object')",
     "output_type": "error",
     "traceback": [
      "\u001B[1;31m---------------------------------------------------------------------------\u001B[0m",
      "\u001B[1;31mValueError\u001B[0m                                Traceback (most recent call last)",
      "Input \u001B[1;32mIn [51]\u001B[0m, in \u001B[0;36m<cell line: 1>\u001B[1;34m()\u001B[0m\n\u001B[1;32m----> 1\u001B[0m data \u001B[38;5;241m=\u001B[39m (\u001B[43mdata\u001B[49m\u001B[38;5;241;43m.\u001B[39;49m\u001B[43mjoin\u001B[49m\u001B[43m(\u001B[49m\u001B[43mpd\u001B[49m\u001B[38;5;241;43m.\u001B[39;49m\u001B[43mqcut\u001B[49m\u001B[43m(\u001B[49m\u001B[43mstocks\u001B[49m\u001B[38;5;241;43m.\u001B[39;49m\u001B[43mipoyear\u001B[49m\u001B[43m,\u001B[49m\u001B[43m \u001B[49m\u001B[43mq\u001B[49m\u001B[38;5;241;43m=\u001B[39;49m\u001B[38;5;241;43m5\u001B[39;49m\u001B[43m,\u001B[49m\u001B[43m \u001B[49m\u001B[43mlabels\u001B[49m\u001B[38;5;241;43m=\u001B[39;49m\u001B[38;5;28;43mlist\u001B[39;49m\u001B[43m(\u001B[49m\u001B[38;5;28;43mrange\u001B[39;49m\u001B[43m(\u001B[49m\u001B[38;5;241;43m1\u001B[39;49m\u001B[43m,\u001B[49m\u001B[43m \u001B[49m\u001B[38;5;241;43m6\u001B[39;49m\u001B[43m)\u001B[49m\u001B[43m)\u001B[49m\u001B[43m)\u001B[49m\u001B[38;5;241;43m.\u001B[39;49m\u001B[43mastype\u001B[49m\u001B[43m(\u001B[49m\u001B[38;5;28;43mfloat\u001B[39;49m\u001B[43m)\u001B[49m\u001B[38;5;241;43m.\u001B[39;49m\u001B[43mfillna\u001B[49m\u001B[43m(\u001B[49m\u001B[38;5;241;43m0\u001B[39;49m\u001B[43m)\u001B[49m\u001B[38;5;241;43m.\u001B[39;49m\u001B[43mastype\u001B[49m\u001B[43m(\u001B[49m\u001B[38;5;28;43mint\u001B[39;49m\u001B[43m)\u001B[49m\u001B[38;5;241;43m.\u001B[39;49m\u001B[43mto_frame\u001B[49m\u001B[43m(\u001B[49m\u001B[38;5;124;43m'\u001B[39;49m\u001B[38;5;124;43mage\u001B[39;49m\u001B[38;5;124;43m'\u001B[39;49m\u001B[43m)\u001B[49m\u001B[43m)\u001B[49m)\n\u001B[0;32m      2\u001B[0m data\u001B[38;5;241m.\u001B[39mage \u001B[38;5;241m=\u001B[39m data\u001B[38;5;241m.\u001B[39mage\u001B[38;5;241m.\u001B[39mfillna(\u001B[38;5;241m-\u001B[39m\u001B[38;5;241m1\u001B[39m)\n\u001B[0;32m      3\u001B[0m data\u001B[38;5;241m.\u001B[39minfo()\n",
      "File \u001B[1;32mD:\\99.Dev\\Python\\pythonProject\\lib\\site-packages\\pandas\\core\\frame.py:9979\u001B[0m, in \u001B[0;36mDataFrame.join\u001B[1;34m(self, other, on, how, lsuffix, rsuffix, sort, validate)\u001B[0m\n\u001B[0;32m   9816\u001B[0m \u001B[38;5;28;01mdef\u001B[39;00m \u001B[38;5;21mjoin\u001B[39m(\n\u001B[0;32m   9817\u001B[0m     \u001B[38;5;28mself\u001B[39m,\n\u001B[0;32m   9818\u001B[0m     other: DataFrame \u001B[38;5;241m|\u001B[39m Series \u001B[38;5;241m|\u001B[39m \u001B[38;5;28mlist\u001B[39m[DataFrame \u001B[38;5;241m|\u001B[39m Series],\n\u001B[1;32m   (...)\u001B[0m\n\u001B[0;32m   9824\u001B[0m     validate: \u001B[38;5;28mstr\u001B[39m \u001B[38;5;241m|\u001B[39m \u001B[38;5;28;01mNone\u001B[39;00m \u001B[38;5;241m=\u001B[39m \u001B[38;5;28;01mNone\u001B[39;00m,\n\u001B[0;32m   9825\u001B[0m ) \u001B[38;5;241m-\u001B[39m\u001B[38;5;241m>\u001B[39m DataFrame:\n\u001B[0;32m   9826\u001B[0m     \u001B[38;5;124;03m\"\"\"\u001B[39;00m\n\u001B[0;32m   9827\u001B[0m \u001B[38;5;124;03m    Join columns of another DataFrame.\u001B[39;00m\n\u001B[0;32m   9828\u001B[0m \n\u001B[1;32m   (...)\u001B[0m\n\u001B[0;32m   9977\u001B[0m \u001B[38;5;124;03m    5  K1  A5   B1\u001B[39;00m\n\u001B[0;32m   9978\u001B[0m \u001B[38;5;124;03m    \"\"\"\u001B[39;00m\n\u001B[1;32m-> 9979\u001B[0m     \u001B[38;5;28;01mreturn\u001B[39;00m \u001B[38;5;28;43mself\u001B[39;49m\u001B[38;5;241;43m.\u001B[39;49m\u001B[43m_join_compat\u001B[49m\u001B[43m(\u001B[49m\n\u001B[0;32m   9980\u001B[0m \u001B[43m        \u001B[49m\u001B[43mother\u001B[49m\u001B[43m,\u001B[49m\n\u001B[0;32m   9981\u001B[0m \u001B[43m        \u001B[49m\u001B[43mon\u001B[49m\u001B[38;5;241;43m=\u001B[39;49m\u001B[43mon\u001B[49m\u001B[43m,\u001B[49m\n\u001B[0;32m   9982\u001B[0m \u001B[43m        \u001B[49m\u001B[43mhow\u001B[49m\u001B[38;5;241;43m=\u001B[39;49m\u001B[43mhow\u001B[49m\u001B[43m,\u001B[49m\n\u001B[0;32m   9983\u001B[0m \u001B[43m        \u001B[49m\u001B[43mlsuffix\u001B[49m\u001B[38;5;241;43m=\u001B[39;49m\u001B[43mlsuffix\u001B[49m\u001B[43m,\u001B[49m\n\u001B[0;32m   9984\u001B[0m \u001B[43m        \u001B[49m\u001B[43mrsuffix\u001B[49m\u001B[38;5;241;43m=\u001B[39;49m\u001B[43mrsuffix\u001B[49m\u001B[43m,\u001B[49m\n\u001B[0;32m   9985\u001B[0m \u001B[43m        \u001B[49m\u001B[43msort\u001B[49m\u001B[38;5;241;43m=\u001B[39;49m\u001B[43msort\u001B[49m\u001B[43m,\u001B[49m\n\u001B[0;32m   9986\u001B[0m \u001B[43m        \u001B[49m\u001B[43mvalidate\u001B[49m\u001B[38;5;241;43m=\u001B[39;49m\u001B[43mvalidate\u001B[49m\u001B[43m,\u001B[49m\n\u001B[0;32m   9987\u001B[0m \u001B[43m    \u001B[49m\u001B[43m)\u001B[49m\n",
      "File \u001B[1;32mD:\\99.Dev\\Python\\pythonProject\\lib\\site-packages\\pandas\\core\\frame.py:10018\u001B[0m, in \u001B[0;36mDataFrame._join_compat\u001B[1;34m(self, other, on, how, lsuffix, rsuffix, sort, validate)\u001B[0m\n\u001B[0;32m  10008\u001B[0m     \u001B[38;5;28;01mif\u001B[39;00m how \u001B[38;5;241m==\u001B[39m \u001B[38;5;124m\"\u001B[39m\u001B[38;5;124mcross\u001B[39m\u001B[38;5;124m\"\u001B[39m:\n\u001B[0;32m  10009\u001B[0m         \u001B[38;5;28;01mreturn\u001B[39;00m merge(\n\u001B[0;32m  10010\u001B[0m             \u001B[38;5;28mself\u001B[39m,\n\u001B[0;32m  10011\u001B[0m             other,\n\u001B[1;32m   (...)\u001B[0m\n\u001B[0;32m  10016\u001B[0m             validate\u001B[38;5;241m=\u001B[39mvalidate,\n\u001B[0;32m  10017\u001B[0m         )\n\u001B[1;32m> 10018\u001B[0m     \u001B[38;5;28;01mreturn\u001B[39;00m \u001B[43mmerge\u001B[49m\u001B[43m(\u001B[49m\n\u001B[0;32m  10019\u001B[0m \u001B[43m        \u001B[49m\u001B[38;5;28;43mself\u001B[39;49m\u001B[43m,\u001B[49m\n\u001B[0;32m  10020\u001B[0m \u001B[43m        \u001B[49m\u001B[43mother\u001B[49m\u001B[43m,\u001B[49m\n\u001B[0;32m  10021\u001B[0m \u001B[43m        \u001B[49m\u001B[43mleft_on\u001B[49m\u001B[38;5;241;43m=\u001B[39;49m\u001B[43mon\u001B[49m\u001B[43m,\u001B[49m\n\u001B[0;32m  10022\u001B[0m \u001B[43m        \u001B[49m\u001B[43mhow\u001B[49m\u001B[38;5;241;43m=\u001B[39;49m\u001B[43mhow\u001B[49m\u001B[43m,\u001B[49m\n\u001B[0;32m  10023\u001B[0m \u001B[43m        \u001B[49m\u001B[43mleft_index\u001B[49m\u001B[38;5;241;43m=\u001B[39;49m\u001B[43mon\u001B[49m\u001B[43m \u001B[49m\u001B[38;5;129;43;01mis\u001B[39;49;00m\u001B[43m \u001B[49m\u001B[38;5;28;43;01mNone\u001B[39;49;00m\u001B[43m,\u001B[49m\n\u001B[0;32m  10024\u001B[0m \u001B[43m        \u001B[49m\u001B[43mright_index\u001B[49m\u001B[38;5;241;43m=\u001B[39;49m\u001B[38;5;28;43;01mTrue\u001B[39;49;00m\u001B[43m,\u001B[49m\n\u001B[0;32m  10025\u001B[0m \u001B[43m        \u001B[49m\u001B[43msuffixes\u001B[49m\u001B[38;5;241;43m=\u001B[39;49m\u001B[43m(\u001B[49m\u001B[43mlsuffix\u001B[49m\u001B[43m,\u001B[49m\u001B[43m \u001B[49m\u001B[43mrsuffix\u001B[49m\u001B[43m)\u001B[49m\u001B[43m,\u001B[49m\n\u001B[0;32m  10026\u001B[0m \u001B[43m        \u001B[49m\u001B[43msort\u001B[49m\u001B[38;5;241;43m=\u001B[39;49m\u001B[43msort\u001B[49m\u001B[43m,\u001B[49m\n\u001B[0;32m  10027\u001B[0m \u001B[43m        \u001B[49m\u001B[43mvalidate\u001B[49m\u001B[38;5;241;43m=\u001B[39;49m\u001B[43mvalidate\u001B[49m\u001B[43m,\u001B[49m\n\u001B[0;32m  10028\u001B[0m \u001B[43m    \u001B[49m\u001B[43m)\u001B[49m\n\u001B[0;32m  10029\u001B[0m \u001B[38;5;28;01melse\u001B[39;00m:\n\u001B[0;32m  10030\u001B[0m     \u001B[38;5;28;01mif\u001B[39;00m on \u001B[38;5;129;01mis\u001B[39;00m \u001B[38;5;129;01mnot\u001B[39;00m \u001B[38;5;28;01mNone\u001B[39;00m:\n",
      "File \u001B[1;32mD:\\99.Dev\\Python\\pythonProject\\lib\\site-packages\\pandas\\core\\reshape\\merge.py:124\u001B[0m, in \u001B[0;36mmerge\u001B[1;34m(left, right, how, on, left_on, right_on, left_index, right_index, sort, suffixes, copy, indicator, validate)\u001B[0m\n\u001B[0;32m     93\u001B[0m \u001B[38;5;129m@Substitution\u001B[39m(\u001B[38;5;124m\"\u001B[39m\u001B[38;5;130;01m\\n\u001B[39;00m\u001B[38;5;124mleft : DataFrame or named Series\u001B[39m\u001B[38;5;124m\"\u001B[39m)\n\u001B[0;32m     94\u001B[0m \u001B[38;5;129m@Appender\u001B[39m(_merge_doc, indents\u001B[38;5;241m=\u001B[39m\u001B[38;5;241m0\u001B[39m)\n\u001B[0;32m     95\u001B[0m \u001B[38;5;28;01mdef\u001B[39;00m \u001B[38;5;21mmerge\u001B[39m(\n\u001B[1;32m   (...)\u001B[0m\n\u001B[0;32m    108\u001B[0m     validate: \u001B[38;5;28mstr\u001B[39m \u001B[38;5;241m|\u001B[39m \u001B[38;5;28;01mNone\u001B[39;00m \u001B[38;5;241m=\u001B[39m \u001B[38;5;28;01mNone\u001B[39;00m,\n\u001B[0;32m    109\u001B[0m ) \u001B[38;5;241m-\u001B[39m\u001B[38;5;241m>\u001B[39m DataFrame:\n\u001B[0;32m    110\u001B[0m     op \u001B[38;5;241m=\u001B[39m _MergeOperation(\n\u001B[0;32m    111\u001B[0m         left,\n\u001B[0;32m    112\u001B[0m         right,\n\u001B[1;32m   (...)\u001B[0m\n\u001B[0;32m    122\u001B[0m         validate\u001B[38;5;241m=\u001B[39mvalidate,\n\u001B[0;32m    123\u001B[0m     )\n\u001B[1;32m--> 124\u001B[0m     \u001B[38;5;28;01mreturn\u001B[39;00m \u001B[43mop\u001B[49m\u001B[38;5;241;43m.\u001B[39;49m\u001B[43mget_result\u001B[49m\u001B[43m(\u001B[49m\u001B[43mcopy\u001B[49m\u001B[38;5;241;43m=\u001B[39;49m\u001B[43mcopy\u001B[49m\u001B[43m)\u001B[49m\n",
      "File \u001B[1;32mD:\\99.Dev\\Python\\pythonProject\\lib\\site-packages\\pandas\\core\\reshape\\merge.py:775\u001B[0m, in \u001B[0;36m_MergeOperation.get_result\u001B[1;34m(self, copy)\u001B[0m\n\u001B[0;32m    771\u001B[0m     \u001B[38;5;28mself\u001B[39m\u001B[38;5;241m.\u001B[39mleft, \u001B[38;5;28mself\u001B[39m\u001B[38;5;241m.\u001B[39mright \u001B[38;5;241m=\u001B[39m \u001B[38;5;28mself\u001B[39m\u001B[38;5;241m.\u001B[39m_indicator_pre_merge(\u001B[38;5;28mself\u001B[39m\u001B[38;5;241m.\u001B[39mleft, \u001B[38;5;28mself\u001B[39m\u001B[38;5;241m.\u001B[39mright)\n\u001B[0;32m    773\u001B[0m join_index, left_indexer, right_indexer \u001B[38;5;241m=\u001B[39m \u001B[38;5;28mself\u001B[39m\u001B[38;5;241m.\u001B[39m_get_join_info()\n\u001B[1;32m--> 775\u001B[0m result \u001B[38;5;241m=\u001B[39m \u001B[38;5;28;43mself\u001B[39;49m\u001B[38;5;241;43m.\u001B[39;49m\u001B[43m_reindex_and_concat\u001B[49m\u001B[43m(\u001B[49m\n\u001B[0;32m    776\u001B[0m \u001B[43m    \u001B[49m\u001B[43mjoin_index\u001B[49m\u001B[43m,\u001B[49m\u001B[43m \u001B[49m\u001B[43mleft_indexer\u001B[49m\u001B[43m,\u001B[49m\u001B[43m \u001B[49m\u001B[43mright_indexer\u001B[49m\u001B[43m,\u001B[49m\u001B[43m \u001B[49m\u001B[43mcopy\u001B[49m\u001B[38;5;241;43m=\u001B[39;49m\u001B[43mcopy\u001B[49m\n\u001B[0;32m    777\u001B[0m \u001B[43m\u001B[49m\u001B[43m)\u001B[49m\n\u001B[0;32m    778\u001B[0m result \u001B[38;5;241m=\u001B[39m result\u001B[38;5;241m.\u001B[39m__finalize__(\u001B[38;5;28mself\u001B[39m, method\u001B[38;5;241m=\u001B[39m\u001B[38;5;28mself\u001B[39m\u001B[38;5;241m.\u001B[39m_merge_type)\n\u001B[0;32m    780\u001B[0m \u001B[38;5;28;01mif\u001B[39;00m \u001B[38;5;28mself\u001B[39m\u001B[38;5;241m.\u001B[39mindicator:\n",
      "File \u001B[1;32mD:\\99.Dev\\Python\\pythonProject\\lib\\site-packages\\pandas\\core\\reshape\\merge.py:729\u001B[0m, in \u001B[0;36m_MergeOperation._reindex_and_concat\u001B[1;34m(self, join_index, left_indexer, right_indexer, copy)\u001B[0m\n\u001B[0;32m    726\u001B[0m left \u001B[38;5;241m=\u001B[39m \u001B[38;5;28mself\u001B[39m\u001B[38;5;241m.\u001B[39mleft[:]\n\u001B[0;32m    727\u001B[0m right \u001B[38;5;241m=\u001B[39m \u001B[38;5;28mself\u001B[39m\u001B[38;5;241m.\u001B[39mright[:]\n\u001B[1;32m--> 729\u001B[0m llabels, rlabels \u001B[38;5;241m=\u001B[39m \u001B[43m_items_overlap_with_suffix\u001B[49m\u001B[43m(\u001B[49m\n\u001B[0;32m    730\u001B[0m \u001B[43m    \u001B[49m\u001B[38;5;28;43mself\u001B[39;49m\u001B[38;5;241;43m.\u001B[39;49m\u001B[43mleft\u001B[49m\u001B[38;5;241;43m.\u001B[39;49m\u001B[43m_info_axis\u001B[49m\u001B[43m,\u001B[49m\u001B[43m \u001B[49m\u001B[38;5;28;43mself\u001B[39;49m\u001B[38;5;241;43m.\u001B[39;49m\u001B[43mright\u001B[49m\u001B[38;5;241;43m.\u001B[39;49m\u001B[43m_info_axis\u001B[49m\u001B[43m,\u001B[49m\u001B[43m \u001B[49m\u001B[38;5;28;43mself\u001B[39;49m\u001B[38;5;241;43m.\u001B[39;49m\u001B[43msuffixes\u001B[49m\n\u001B[0;32m    731\u001B[0m \u001B[43m\u001B[49m\u001B[43m)\u001B[49m\n\u001B[0;32m    733\u001B[0m \u001B[38;5;28;01mif\u001B[39;00m left_indexer \u001B[38;5;129;01mis\u001B[39;00m \u001B[38;5;129;01mnot\u001B[39;00m \u001B[38;5;28;01mNone\u001B[39;00m:\n\u001B[0;32m    734\u001B[0m     \u001B[38;5;66;03m# Pinning the index here (and in the right code just below) is not\u001B[39;00m\n\u001B[0;32m    735\u001B[0m     \u001B[38;5;66;03m#  necessary, but makes the `.take` more performant if we have e.g.\u001B[39;00m\n\u001B[0;32m    736\u001B[0m     \u001B[38;5;66;03m#  a MultiIndex for left.index.\u001B[39;00m\n\u001B[0;32m    737\u001B[0m     lmgr \u001B[38;5;241m=\u001B[39m left\u001B[38;5;241m.\u001B[39m_mgr\u001B[38;5;241m.\u001B[39mreindex_indexer(\n\u001B[0;32m    738\u001B[0m         join_index,\n\u001B[0;32m    739\u001B[0m         left_indexer,\n\u001B[1;32m   (...)\u001B[0m\n\u001B[0;32m    744\u001B[0m         use_na_proxy\u001B[38;5;241m=\u001B[39m\u001B[38;5;28;01mTrue\u001B[39;00m,\n\u001B[0;32m    745\u001B[0m     )\n",
      "File \u001B[1;32mD:\\99.Dev\\Python\\pythonProject\\lib\\site-packages\\pandas\\core\\reshape\\merge.py:2458\u001B[0m, in \u001B[0;36m_items_overlap_with_suffix\u001B[1;34m(left, right, suffixes)\u001B[0m\n\u001B[0;32m   2455\u001B[0m lsuffix, rsuffix \u001B[38;5;241m=\u001B[39m suffixes\n\u001B[0;32m   2457\u001B[0m \u001B[38;5;28;01mif\u001B[39;00m \u001B[38;5;129;01mnot\u001B[39;00m lsuffix \u001B[38;5;129;01mand\u001B[39;00m \u001B[38;5;129;01mnot\u001B[39;00m rsuffix:\n\u001B[1;32m-> 2458\u001B[0m     \u001B[38;5;28;01mraise\u001B[39;00m \u001B[38;5;167;01mValueError\u001B[39;00m(\u001B[38;5;124mf\u001B[39m\u001B[38;5;124m\"\u001B[39m\u001B[38;5;124mcolumns overlap but no suffix specified: \u001B[39m\u001B[38;5;132;01m{\u001B[39;00mto_rename\u001B[38;5;132;01m}\u001B[39;00m\u001B[38;5;124m\"\u001B[39m)\n\u001B[0;32m   2460\u001B[0m \u001B[38;5;28;01mdef\u001B[39;00m \u001B[38;5;21mrenamer\u001B[39m(x, suffix):\n\u001B[0;32m   2461\u001B[0m     \u001B[38;5;124;03m\"\"\"\u001B[39;00m\n\u001B[0;32m   2462\u001B[0m \u001B[38;5;124;03m    Rename the left and right indices.\u001B[39;00m\n\u001B[0;32m   2463\u001B[0m \n\u001B[1;32m   (...)\u001B[0m\n\u001B[0;32m   2474\u001B[0m \u001B[38;5;124;03m    x : renamed column name\u001B[39;00m\n\u001B[0;32m   2475\u001B[0m \u001B[38;5;124;03m    \"\"\"\u001B[39;00m\n",
      "\u001B[1;31mValueError\u001B[0m: columns overlap but no suffix specified: Index(['age'], dtype='object')"
     ]
    }
   ],
   "source": [
    "data = (data.join(\n",
    "    pd.qcut(stocks.ipoyear, q=5, labels=list(range(1, 6))).astype(float).fillna(0).astype(int).to_frame('age')))\n",
    "data.age = data.age.fillna(-1)"
   ],
   "metadata": {
    "collapsed": false,
    "pycharm": {
     "name": "#%%\n"
    }
   }
  },
  {
   "cell_type": "code",
   "execution_count": 66,
   "outputs": [
    {
     "name": "stdout",
     "output_type": "stream",
     "text": [
      "<class 'pandas.core.frame.DataFrame'>\n",
      "DatetimeIndex: 207 entries, 2018-03-31 to 2001-01-31\n",
      "Columns: 1838 entries, A to ZUMZ\n",
      "dtypes: float64(1838)\n",
      "memory usage: 2.9 MB\n"
     ]
    }
   ],
   "source": [
    "size_factor = (monthly_prices.loc[data.index.get_level_values('date').unique(),data.index.get_level_values('ticker').unique()].sort_index(ascending=False).pct_change().fillna(0).add(1).cumprod())\n",
    "size_factor.info()"
   ],
   "metadata": {
    "collapsed": false,
    "pycharm": {
     "name": "#%%\n"
    }
   }
  },
  {
   "cell_type": "code",
   "execution_count": 80,
   "outputs": [
    {
     "data": {
      "text/plain": "ticker             A       AAL       AAN      AAON       AAP      AAPL  \\\ndate                                                                     \n2018-03-31  1.000000  1.000000  1.000000  1.000000  1.000000  1.000000   \n2018-02-28  1.023731  1.065815  1.017393  0.967105  0.993392  1.058097   \n2018-01-31  1.095970  1.067191  0.900264  0.957895  1.017216  0.994594   \n2017-12-31  0.999552  1.022200  0.877367  0.965789  0.866794  1.005287   \n2017-11-30  1.033433  0.991945  0.830471  0.959211  0.878185  1.020851   \n...              ...       ...       ...       ...       ...       ...   \n2001-05-31  0.341528  1.072518  0.099870  0.044896  0.118576  0.007615   \n2001-04-30  0.397227  1.072518  0.098187  0.037997  0.118576  0.009730   \n2001-03-31  0.312914  1.072518  0.096628  0.038757  0.118576  0.008424   \n2001-02-28  0.366577  1.072518  0.098187  0.041257  0.118576  0.006966   \n2001-01-31  0.555466  1.072518  0.093511  0.045996  0.118576  0.008253   \n\nticker          AAWW      ABAX       ABC      ABCB  ...      YORW  \\\ndate                                                ...             \n2018-03-31  1.000000  1.000000  1.000000  1.000000  ...  1.000000   \n2018-02-28  1.030483  0.955842  1.132722  1.012381  ...  0.912338   \n2018-01-31  0.952583  1.027240  1.186406  1.020000  ...  1.027597   \n2017-12-31  0.993226  0.709964  1.092965  0.918095  ...  1.100649   \n2017-11-30  0.977985  0.698781  1.009642  0.944762  ...  1.206169   \n...              ...       ...       ...       ...  ...       ...   \n2001-05-31  0.585097  0.081291  0.143071  0.133726  ...  0.159492   \n2001-04-30  0.585097  0.063871  0.133873  0.130464  ...  0.156495   \n2001-03-31  0.585097  0.067936  0.121602  0.133959  ...  0.161490   \n2001-02-28  0.585097  0.069205  0.133179  0.131178  ...  0.117718   \n2001-01-31  0.585097  0.074269  0.118577  0.123916  ...  0.125022   \n\nticker              YRCW       YUM       ZBH      ZBRA      ZEUS      ZION  \\\ndate                                                                         \n2018-03-31      1.000000  1.000000  1.000000  1.000000  1.000000  1.000000   \n2018-02-28      1.024677  0.970196  1.071626  1.019784  1.112593  1.056709   \n2018-01-31      1.876616  1.008464  1.171829  0.909198  1.151111  1.038639   \n2017-12-31      1.689777  0.972938  1.112371  0.766278  1.061235  0.977124   \n2017-11-30      1.447709  0.995112  1.079462  0.814410  0.983704  0.952518   \n...                  ...       ...       ...       ...       ...       ...   \n2001-05-31  16303.937720  0.071803  0.250196  0.147743  0.184687  0.842713   \n2001-04-30  15593.955347  0.070420  0.250196  0.141936  0.116861  0.826400   \n2001-03-31  14648.737955  0.060003  0.250196  0.125105  0.106000  0.807791   \n2001-02-28  16947.626322  0.060490  0.250196  0.147842  0.120298  0.890757   \n2001-01-31  20208.842538  0.056594  0.250196  0.182719  0.103113  0.863603   \n\nticker          ZIOP      ZIXI      ZUMZ  \ndate                                      \n2018-03-31  1.000000  1.000000  1.000000  \n2018-02-28  0.920988  0.922551  0.834746  \n2018-01-31  0.974074  0.963554  0.879237  \n2017-12-31  1.022222  0.997722  0.882415  \n2017-11-30  1.128395  1.002278  0.923729  \n...              ...       ...       ...  \n2001-05-31  3.950617  2.211845  0.543008  \n2001-04-30  3.950617  2.842825  0.543008  \n2001-03-31  3.950617  1.601595  0.543008  \n2001-02-28  3.950617  1.872210  0.543008  \n2001-01-31  3.950617  3.075171  0.543008  \n\n[207 rows x 1838 columns]",
      "text/html": "<div>\n<style scoped>\n    .dataframe tbody tr th:only-of-type {\n        vertical-align: middle;\n    }\n\n    .dataframe tbody tr th {\n        vertical-align: top;\n    }\n\n    .dataframe thead th {\n        text-align: right;\n    }\n</style>\n<table border=\"1\" class=\"dataframe\">\n  <thead>\n    <tr style=\"text-align: right;\">\n      <th>ticker</th>\n      <th>A</th>\n      <th>AAL</th>\n      <th>AAN</th>\n      <th>AAON</th>\n      <th>AAP</th>\n      <th>AAPL</th>\n      <th>AAWW</th>\n      <th>ABAX</th>\n      <th>ABC</th>\n      <th>ABCB</th>\n      <th>...</th>\n      <th>YORW</th>\n      <th>YRCW</th>\n      <th>YUM</th>\n      <th>ZBH</th>\n      <th>ZBRA</th>\n      <th>ZEUS</th>\n      <th>ZION</th>\n      <th>ZIOP</th>\n      <th>ZIXI</th>\n      <th>ZUMZ</th>\n    </tr>\n    <tr>\n      <th>date</th>\n      <th></th>\n      <th></th>\n      <th></th>\n      <th></th>\n      <th></th>\n      <th></th>\n      <th></th>\n      <th></th>\n      <th></th>\n      <th></th>\n      <th></th>\n      <th></th>\n      <th></th>\n      <th></th>\n      <th></th>\n      <th></th>\n      <th></th>\n      <th></th>\n      <th></th>\n      <th></th>\n      <th></th>\n    </tr>\n  </thead>\n  <tbody>\n    <tr>\n      <th>2018-03-31</th>\n      <td>1.000000</td>\n      <td>1.000000</td>\n      <td>1.000000</td>\n      <td>1.000000</td>\n      <td>1.000000</td>\n      <td>1.000000</td>\n      <td>1.000000</td>\n      <td>1.000000</td>\n      <td>1.000000</td>\n      <td>1.000000</td>\n      <td>...</td>\n      <td>1.000000</td>\n      <td>1.000000</td>\n      <td>1.000000</td>\n      <td>1.000000</td>\n      <td>1.000000</td>\n      <td>1.000000</td>\n      <td>1.000000</td>\n      <td>1.000000</td>\n      <td>1.000000</td>\n      <td>1.000000</td>\n    </tr>\n    <tr>\n      <th>2018-02-28</th>\n      <td>1.023731</td>\n      <td>1.065815</td>\n      <td>1.017393</td>\n      <td>0.967105</td>\n      <td>0.993392</td>\n      <td>1.058097</td>\n      <td>1.030483</td>\n      <td>0.955842</td>\n      <td>1.132722</td>\n      <td>1.012381</td>\n      <td>...</td>\n      <td>0.912338</td>\n      <td>1.024677</td>\n      <td>0.970196</td>\n      <td>1.071626</td>\n      <td>1.019784</td>\n      <td>1.112593</td>\n      <td>1.056709</td>\n      <td>0.920988</td>\n      <td>0.922551</td>\n      <td>0.834746</td>\n    </tr>\n    <tr>\n      <th>2018-01-31</th>\n      <td>1.095970</td>\n      <td>1.067191</td>\n      <td>0.900264</td>\n      <td>0.957895</td>\n      <td>1.017216</td>\n      <td>0.994594</td>\n      <td>0.952583</td>\n      <td>1.027240</td>\n      <td>1.186406</td>\n      <td>1.020000</td>\n      <td>...</td>\n      <td>1.027597</td>\n      <td>1.876616</td>\n      <td>1.008464</td>\n      <td>1.171829</td>\n      <td>0.909198</td>\n      <td>1.151111</td>\n      <td>1.038639</td>\n      <td>0.974074</td>\n      <td>0.963554</td>\n      <td>0.879237</td>\n    </tr>\n    <tr>\n      <th>2017-12-31</th>\n      <td>0.999552</td>\n      <td>1.022200</td>\n      <td>0.877367</td>\n      <td>0.965789</td>\n      <td>0.866794</td>\n      <td>1.005287</td>\n      <td>0.993226</td>\n      <td>0.709964</td>\n      <td>1.092965</td>\n      <td>0.918095</td>\n      <td>...</td>\n      <td>1.100649</td>\n      <td>1.689777</td>\n      <td>0.972938</td>\n      <td>1.112371</td>\n      <td>0.766278</td>\n      <td>1.061235</td>\n      <td>0.977124</td>\n      <td>1.022222</td>\n      <td>0.997722</td>\n      <td>0.882415</td>\n    </tr>\n    <tr>\n      <th>2017-11-30</th>\n      <td>1.033433</td>\n      <td>0.991945</td>\n      <td>0.830471</td>\n      <td>0.959211</td>\n      <td>0.878185</td>\n      <td>1.020851</td>\n      <td>0.977985</td>\n      <td>0.698781</td>\n      <td>1.009642</td>\n      <td>0.944762</td>\n      <td>...</td>\n      <td>1.206169</td>\n      <td>1.447709</td>\n      <td>0.995112</td>\n      <td>1.079462</td>\n      <td>0.814410</td>\n      <td>0.983704</td>\n      <td>0.952518</td>\n      <td>1.128395</td>\n      <td>1.002278</td>\n      <td>0.923729</td>\n    </tr>\n    <tr>\n      <th>...</th>\n      <td>...</td>\n      <td>...</td>\n      <td>...</td>\n      <td>...</td>\n      <td>...</td>\n      <td>...</td>\n      <td>...</td>\n      <td>...</td>\n      <td>...</td>\n      <td>...</td>\n      <td>...</td>\n      <td>...</td>\n      <td>...</td>\n      <td>...</td>\n      <td>...</td>\n      <td>...</td>\n      <td>...</td>\n      <td>...</td>\n      <td>...</td>\n      <td>...</td>\n      <td>...</td>\n    </tr>\n    <tr>\n      <th>2001-05-31</th>\n      <td>0.341528</td>\n      <td>1.072518</td>\n      <td>0.099870</td>\n      <td>0.044896</td>\n      <td>0.118576</td>\n      <td>0.007615</td>\n      <td>0.585097</td>\n      <td>0.081291</td>\n      <td>0.143071</td>\n      <td>0.133726</td>\n      <td>...</td>\n      <td>0.159492</td>\n      <td>16303.937720</td>\n      <td>0.071803</td>\n      <td>0.250196</td>\n      <td>0.147743</td>\n      <td>0.184687</td>\n      <td>0.842713</td>\n      <td>3.950617</td>\n      <td>2.211845</td>\n      <td>0.543008</td>\n    </tr>\n    <tr>\n      <th>2001-04-30</th>\n      <td>0.397227</td>\n      <td>1.072518</td>\n      <td>0.098187</td>\n      <td>0.037997</td>\n      <td>0.118576</td>\n      <td>0.009730</td>\n      <td>0.585097</td>\n      <td>0.063871</td>\n      <td>0.133873</td>\n      <td>0.130464</td>\n      <td>...</td>\n      <td>0.156495</td>\n      <td>15593.955347</td>\n      <td>0.070420</td>\n      <td>0.250196</td>\n      <td>0.141936</td>\n      <td>0.116861</td>\n      <td>0.826400</td>\n      <td>3.950617</td>\n      <td>2.842825</td>\n      <td>0.543008</td>\n    </tr>\n    <tr>\n      <th>2001-03-31</th>\n      <td>0.312914</td>\n      <td>1.072518</td>\n      <td>0.096628</td>\n      <td>0.038757</td>\n      <td>0.118576</td>\n      <td>0.008424</td>\n      <td>0.585097</td>\n      <td>0.067936</td>\n      <td>0.121602</td>\n      <td>0.133959</td>\n      <td>...</td>\n      <td>0.161490</td>\n      <td>14648.737955</td>\n      <td>0.060003</td>\n      <td>0.250196</td>\n      <td>0.125105</td>\n      <td>0.106000</td>\n      <td>0.807791</td>\n      <td>3.950617</td>\n      <td>1.601595</td>\n      <td>0.543008</td>\n    </tr>\n    <tr>\n      <th>2001-02-28</th>\n      <td>0.366577</td>\n      <td>1.072518</td>\n      <td>0.098187</td>\n      <td>0.041257</td>\n      <td>0.118576</td>\n      <td>0.006966</td>\n      <td>0.585097</td>\n      <td>0.069205</td>\n      <td>0.133179</td>\n      <td>0.131178</td>\n      <td>...</td>\n      <td>0.117718</td>\n      <td>16947.626322</td>\n      <td>0.060490</td>\n      <td>0.250196</td>\n      <td>0.147842</td>\n      <td>0.120298</td>\n      <td>0.890757</td>\n      <td>3.950617</td>\n      <td>1.872210</td>\n      <td>0.543008</td>\n    </tr>\n    <tr>\n      <th>2001-01-31</th>\n      <td>0.555466</td>\n      <td>1.072518</td>\n      <td>0.093511</td>\n      <td>0.045996</td>\n      <td>0.118576</td>\n      <td>0.008253</td>\n      <td>0.585097</td>\n      <td>0.074269</td>\n      <td>0.118577</td>\n      <td>0.123916</td>\n      <td>...</td>\n      <td>0.125022</td>\n      <td>20208.842538</td>\n      <td>0.056594</td>\n      <td>0.250196</td>\n      <td>0.182719</td>\n      <td>0.103113</td>\n      <td>0.863603</td>\n      <td>3.950617</td>\n      <td>3.075171</td>\n      <td>0.543008</td>\n    </tr>\n  </tbody>\n</table>\n<p>207 rows × 1838 columns</p>\n</div>"
     },
     "execution_count": 80,
     "metadata": {},
     "output_type": "execute_result"
    }
   ],
   "source": [
    "size_factor"
   ],
   "metadata": {
    "collapsed": false,
    "pycharm": {
     "name": "#%%\n"
    }
   }
  },
  {
   "cell_type": "code",
   "execution_count": 79,
   "outputs": [
    {
     "data": {
      "text/plain": "ticker                 A           AAL           AAN          AAON  \\\ndate                                                                 \n2018-03-31  1.960000e+10  1.767000e+10  3.200000e+09  1.810000e+09   \n2018-02-28  2.006513e+10  1.883296e+10  3.255658e+09  1.750461e+09   \n2018-01-31  2.148101e+10  1.885726e+10  2.880845e+09  1.733789e+09   \n2017-12-31  1.959122e+10  1.806228e+10  2.807574e+09  1.748079e+09   \n2017-11-30  2.025528e+10  1.752767e+10  2.657508e+09  1.736171e+09   \n...                  ...           ...           ...           ...   \n2001-05-31  6.693942e+09  1.895139e+10  3.195840e+08  8.126265e+07   \n2001-04-30  7.785649e+09  1.895139e+10  3.141977e+08  6.877462e+07   \n2001-03-31  6.133120e+09  1.895139e+10  3.092105e+08  7.015011e+07   \n2001-02-28  7.184911e+09  1.895139e+10  3.141977e+08  7.467476e+07   \n2001-01-31  1.088714e+10  1.895139e+10  2.992359e+08  8.325349e+07   \n\nticker               AAP          AAPL          AAWW          ABAX  \\\ndate                                                                 \n2018-03-31  9.990000e+09  9.039900e+11  1.830000e+09  1.900000e+09   \n2018-02-28  9.923985e+09  9.565088e+11  1.885783e+09  1.816100e+09   \n2018-01-31  1.016199e+10  8.991033e+11  1.743226e+09  1.951756e+09   \n2017-12-31  8.659274e+09  9.087693e+11  1.817604e+09  1.348932e+09   \n2017-11-30  8.773063e+09  9.228388e+11  1.789712e+09  1.327685e+09   \n...                  ...           ...           ...           ...   \n2001-05-31  1.184578e+09  6.883977e+09  1.070728e+09  1.544523e+08   \n2001-04-30  1.184578e+09  8.795618e+09  1.070728e+09  1.213554e+08   \n2001-03-31  1.184578e+09  7.615508e+09  1.070728e+09  1.290780e+08   \n2001-02-28  1.184578e+09  6.297373e+09  1.070728e+09  1.314897e+08   \n2001-01-31  1.184578e+09  7.460230e+09  1.070728e+09  1.411109e+08   \n\nticker               ABC          ABCB  ...          YORW          YRCW  \\\ndate                                    ...                               \n2018-03-31  1.905000e+10  2.160000e+09  ...  4.268100e+08  3.429500e+08   \n2018-02-28  2.157836e+10  2.186743e+09  ...  3.893948e+08  3.514129e+08   \n2018-01-31  2.260104e+10  2.203200e+09  ...  4.385888e+08  6.435854e+08   \n2017-12-31  2.082099e+10  1.983086e+09  ...  4.697681e+08  5.795089e+08   \n2017-11-30  1.923367e+10  2.040686e+09  ...  5.148049e+08  4.964917e+08   \n...                  ...           ...  ...           ...           ...   \n2001-05-31  2.725500e+09  2.888478e+08  ...  6.807274e+07  5.591435e+12   \n2001-04-30  2.550286e+09  2.818027e+08  ...  6.679371e+07  5.347947e+12   \n2001-03-31  2.316510e+09  2.893510e+08  ...  6.892543e+07  5.023785e+12   \n2001-02-28  2.537062e+09  2.833439e+08  ...  5.024315e+07  5.812188e+12   \n2001-01-31  2.258892e+09  2.676579e+08  ...  5.336053e+07  6.930623e+12   \n\nticker               YUM           ZBH          ZBRA          ZEUS  \\\ndate                                                                 \n2018-03-31  2.516000e+10  2.275000e+10  7.920000e+09  2.295400e+08   \n2018-02-28  2.441012e+10  2.437949e+10  8.076693e+09  2.553845e+08   \n2018-01-31  2.537297e+10  2.665911e+10  7.200850e+09  2.642260e+08   \n2017-12-31  2.447911e+10  2.530644e+10  6.068921e+09  2.435958e+08   \n2017-11-30  2.503702e+10  2.455775e+10  6.450128e+09  2.257993e+08   \n...                  ...           ...           ...           ...   \n2001-05-31  1.806558e+09  5.691953e+09  1.170128e+09  4.239300e+07   \n2001-04-30  1.771770e+09  5.691953e+09  1.124134e+09  2.682436e+07   \n2001-03-31  1.509681e+09  5.691953e+09  9.908283e+08  2.433127e+07   \n2001-02-28  1.521936e+09  5.691953e+09  1.170908e+09  2.761331e+07   \n2001-01-31  1.423899e+09  5.691953e+09  1.447134e+09  2.366855e+07   \n\nticker              ZION          ZIOP          ZIXI          ZUMZ  \ndate                                                                \n2018-03-31  1.032000e+10  4.357400e+08  2.944800e+08  6.316500e+08  \n2018-02-28  1.090524e+10  4.013112e+08  2.716729e+08  5.272672e+08  \n2018-01-31  1.071875e+10  4.244430e+08  2.837472e+08  5.553702e+08  \n2017-12-31  1.008392e+10  4.454231e+08  2.938092e+08  5.573776e+08  \n2017-11-30  9.829988e+09  4.916869e+08  2.951508e+08  5.834733e+08  \n...                  ...           ...           ...           ...  \n2001-05-31  8.696794e+09  1.721442e+09  6.513441e+08  3.429913e+08  \n2001-04-30  8.528450e+09  1.721442e+09  8.371550e+08  3.429913e+08  \n2001-03-31  8.336404e+09  1.721442e+09  4.716376e+08  3.429913e+08  \n2001-02-28  9.192609e+09  1.721442e+09  5.513283e+08  3.429913e+08  \n2001-01-31  8.912380e+09  1.721442e+09  9.055763e+08  3.429913e+08  \n\n[207 rows x 1834 columns]",
      "text/html": "<div>\n<style scoped>\n    .dataframe tbody tr th:only-of-type {\n        vertical-align: middle;\n    }\n\n    .dataframe tbody tr th {\n        vertical-align: top;\n    }\n\n    .dataframe thead th {\n        text-align: right;\n    }\n</style>\n<table border=\"1\" class=\"dataframe\">\n  <thead>\n    <tr style=\"text-align: right;\">\n      <th>ticker</th>\n      <th>A</th>\n      <th>AAL</th>\n      <th>AAN</th>\n      <th>AAON</th>\n      <th>AAP</th>\n      <th>AAPL</th>\n      <th>AAWW</th>\n      <th>ABAX</th>\n      <th>ABC</th>\n      <th>ABCB</th>\n      <th>...</th>\n      <th>YORW</th>\n      <th>YRCW</th>\n      <th>YUM</th>\n      <th>ZBH</th>\n      <th>ZBRA</th>\n      <th>ZEUS</th>\n      <th>ZION</th>\n      <th>ZIOP</th>\n      <th>ZIXI</th>\n      <th>ZUMZ</th>\n    </tr>\n    <tr>\n      <th>date</th>\n      <th></th>\n      <th></th>\n      <th></th>\n      <th></th>\n      <th></th>\n      <th></th>\n      <th></th>\n      <th></th>\n      <th></th>\n      <th></th>\n      <th></th>\n      <th></th>\n      <th></th>\n      <th></th>\n      <th></th>\n      <th></th>\n      <th></th>\n      <th></th>\n      <th></th>\n      <th></th>\n      <th></th>\n    </tr>\n  </thead>\n  <tbody>\n    <tr>\n      <th>2018-03-31</th>\n      <td>1.960000e+10</td>\n      <td>1.767000e+10</td>\n      <td>3.200000e+09</td>\n      <td>1.810000e+09</td>\n      <td>9.990000e+09</td>\n      <td>9.039900e+11</td>\n      <td>1.830000e+09</td>\n      <td>1.900000e+09</td>\n      <td>1.905000e+10</td>\n      <td>2.160000e+09</td>\n      <td>...</td>\n      <td>4.268100e+08</td>\n      <td>3.429500e+08</td>\n      <td>2.516000e+10</td>\n      <td>2.275000e+10</td>\n      <td>7.920000e+09</td>\n      <td>2.295400e+08</td>\n      <td>1.032000e+10</td>\n      <td>4.357400e+08</td>\n      <td>2.944800e+08</td>\n      <td>6.316500e+08</td>\n    </tr>\n    <tr>\n      <th>2018-02-28</th>\n      <td>2.006513e+10</td>\n      <td>1.883296e+10</td>\n      <td>3.255658e+09</td>\n      <td>1.750461e+09</td>\n      <td>9.923985e+09</td>\n      <td>9.565088e+11</td>\n      <td>1.885783e+09</td>\n      <td>1.816100e+09</td>\n      <td>2.157836e+10</td>\n      <td>2.186743e+09</td>\n      <td>...</td>\n      <td>3.893948e+08</td>\n      <td>3.514129e+08</td>\n      <td>2.441012e+10</td>\n      <td>2.437949e+10</td>\n      <td>8.076693e+09</td>\n      <td>2.553845e+08</td>\n      <td>1.090524e+10</td>\n      <td>4.013112e+08</td>\n      <td>2.716729e+08</td>\n      <td>5.272672e+08</td>\n    </tr>\n    <tr>\n      <th>2018-01-31</th>\n      <td>2.148101e+10</td>\n      <td>1.885726e+10</td>\n      <td>2.880845e+09</td>\n      <td>1.733789e+09</td>\n      <td>1.016199e+10</td>\n      <td>8.991033e+11</td>\n      <td>1.743226e+09</td>\n      <td>1.951756e+09</td>\n      <td>2.260104e+10</td>\n      <td>2.203200e+09</td>\n      <td>...</td>\n      <td>4.385888e+08</td>\n      <td>6.435854e+08</td>\n      <td>2.537297e+10</td>\n      <td>2.665911e+10</td>\n      <td>7.200850e+09</td>\n      <td>2.642260e+08</td>\n      <td>1.071875e+10</td>\n      <td>4.244430e+08</td>\n      <td>2.837472e+08</td>\n      <td>5.553702e+08</td>\n    </tr>\n    <tr>\n      <th>2017-12-31</th>\n      <td>1.959122e+10</td>\n      <td>1.806228e+10</td>\n      <td>2.807574e+09</td>\n      <td>1.748079e+09</td>\n      <td>8.659274e+09</td>\n      <td>9.087693e+11</td>\n      <td>1.817604e+09</td>\n      <td>1.348932e+09</td>\n      <td>2.082099e+10</td>\n      <td>1.983086e+09</td>\n      <td>...</td>\n      <td>4.697681e+08</td>\n      <td>5.795089e+08</td>\n      <td>2.447911e+10</td>\n      <td>2.530644e+10</td>\n      <td>6.068921e+09</td>\n      <td>2.435958e+08</td>\n      <td>1.008392e+10</td>\n      <td>4.454231e+08</td>\n      <td>2.938092e+08</td>\n      <td>5.573776e+08</td>\n    </tr>\n    <tr>\n      <th>2017-11-30</th>\n      <td>2.025528e+10</td>\n      <td>1.752767e+10</td>\n      <td>2.657508e+09</td>\n      <td>1.736171e+09</td>\n      <td>8.773063e+09</td>\n      <td>9.228388e+11</td>\n      <td>1.789712e+09</td>\n      <td>1.327685e+09</td>\n      <td>1.923367e+10</td>\n      <td>2.040686e+09</td>\n      <td>...</td>\n      <td>5.148049e+08</td>\n      <td>4.964917e+08</td>\n      <td>2.503702e+10</td>\n      <td>2.455775e+10</td>\n      <td>6.450128e+09</td>\n      <td>2.257993e+08</td>\n      <td>9.829988e+09</td>\n      <td>4.916869e+08</td>\n      <td>2.951508e+08</td>\n      <td>5.834733e+08</td>\n    </tr>\n    <tr>\n      <th>...</th>\n      <td>...</td>\n      <td>...</td>\n      <td>...</td>\n      <td>...</td>\n      <td>...</td>\n      <td>...</td>\n      <td>...</td>\n      <td>...</td>\n      <td>...</td>\n      <td>...</td>\n      <td>...</td>\n      <td>...</td>\n      <td>...</td>\n      <td>...</td>\n      <td>...</td>\n      <td>...</td>\n      <td>...</td>\n      <td>...</td>\n      <td>...</td>\n      <td>...</td>\n      <td>...</td>\n    </tr>\n    <tr>\n      <th>2001-05-31</th>\n      <td>6.693942e+09</td>\n      <td>1.895139e+10</td>\n      <td>3.195840e+08</td>\n      <td>8.126265e+07</td>\n      <td>1.184578e+09</td>\n      <td>6.883977e+09</td>\n      <td>1.070728e+09</td>\n      <td>1.544523e+08</td>\n      <td>2.725500e+09</td>\n      <td>2.888478e+08</td>\n      <td>...</td>\n      <td>6.807274e+07</td>\n      <td>5.591435e+12</td>\n      <td>1.806558e+09</td>\n      <td>5.691953e+09</td>\n      <td>1.170128e+09</td>\n      <td>4.239300e+07</td>\n      <td>8.696794e+09</td>\n      <td>1.721442e+09</td>\n      <td>6.513441e+08</td>\n      <td>3.429913e+08</td>\n    </tr>\n    <tr>\n      <th>2001-04-30</th>\n      <td>7.785649e+09</td>\n      <td>1.895139e+10</td>\n      <td>3.141977e+08</td>\n      <td>6.877462e+07</td>\n      <td>1.184578e+09</td>\n      <td>8.795618e+09</td>\n      <td>1.070728e+09</td>\n      <td>1.213554e+08</td>\n      <td>2.550286e+09</td>\n      <td>2.818027e+08</td>\n      <td>...</td>\n      <td>6.679371e+07</td>\n      <td>5.347947e+12</td>\n      <td>1.771770e+09</td>\n      <td>5.691953e+09</td>\n      <td>1.124134e+09</td>\n      <td>2.682436e+07</td>\n      <td>8.528450e+09</td>\n      <td>1.721442e+09</td>\n      <td>8.371550e+08</td>\n      <td>3.429913e+08</td>\n    </tr>\n    <tr>\n      <th>2001-03-31</th>\n      <td>6.133120e+09</td>\n      <td>1.895139e+10</td>\n      <td>3.092105e+08</td>\n      <td>7.015011e+07</td>\n      <td>1.184578e+09</td>\n      <td>7.615508e+09</td>\n      <td>1.070728e+09</td>\n      <td>1.290780e+08</td>\n      <td>2.316510e+09</td>\n      <td>2.893510e+08</td>\n      <td>...</td>\n      <td>6.892543e+07</td>\n      <td>5.023785e+12</td>\n      <td>1.509681e+09</td>\n      <td>5.691953e+09</td>\n      <td>9.908283e+08</td>\n      <td>2.433127e+07</td>\n      <td>8.336404e+09</td>\n      <td>1.721442e+09</td>\n      <td>4.716376e+08</td>\n      <td>3.429913e+08</td>\n    </tr>\n    <tr>\n      <th>2001-02-28</th>\n      <td>7.184911e+09</td>\n      <td>1.895139e+10</td>\n      <td>3.141977e+08</td>\n      <td>7.467476e+07</td>\n      <td>1.184578e+09</td>\n      <td>6.297373e+09</td>\n      <td>1.070728e+09</td>\n      <td>1.314897e+08</td>\n      <td>2.537062e+09</td>\n      <td>2.833439e+08</td>\n      <td>...</td>\n      <td>5.024315e+07</td>\n      <td>5.812188e+12</td>\n      <td>1.521936e+09</td>\n      <td>5.691953e+09</td>\n      <td>1.170908e+09</td>\n      <td>2.761331e+07</td>\n      <td>9.192609e+09</td>\n      <td>1.721442e+09</td>\n      <td>5.513283e+08</td>\n      <td>3.429913e+08</td>\n    </tr>\n    <tr>\n      <th>2001-01-31</th>\n      <td>1.088714e+10</td>\n      <td>1.895139e+10</td>\n      <td>2.992359e+08</td>\n      <td>8.325349e+07</td>\n      <td>1.184578e+09</td>\n      <td>7.460230e+09</td>\n      <td>1.070728e+09</td>\n      <td>1.411109e+08</td>\n      <td>2.258892e+09</td>\n      <td>2.676579e+08</td>\n      <td>...</td>\n      <td>5.336053e+07</td>\n      <td>6.930623e+12</td>\n      <td>1.423899e+09</td>\n      <td>5.691953e+09</td>\n      <td>1.447134e+09</td>\n      <td>2.366855e+07</td>\n      <td>8.912380e+09</td>\n      <td>1.721442e+09</td>\n      <td>9.055763e+08</td>\n      <td>3.429913e+08</td>\n    </tr>\n  </tbody>\n</table>\n<p>207 rows × 1834 columns</p>\n</div>"
     },
     "execution_count": 79,
     "metadata": {},
     "output_type": "execute_result"
    }
   ],
   "source": [
    "msize = (size_factor.mul(stocks.loc[size_factor.columns, 'marketcap'])).dropna(axis=1, how='all')\n",
    "msize"
   ],
   "metadata": {
    "collapsed": false,
    "pycharm": {
     "name": "#%%\n"
    }
   }
  },
  {
   "cell_type": "code",
   "execution_count": 96,
   "outputs": [],
   "source": [
    "data['msize'] = (msize.apply(lambda x: pd.qcut(x, q=10, labels=list(range(1, 11)))\n",
    "                        .astype(int), axis=1).stack().swaplevel())\n",
    "data.msize = data.msize.fillna(-1)"
   ],
   "metadata": {
    "collapsed": false,
    "pycharm": {
     "name": "#%%\n"
    }
   }
  },
  {
   "cell_type": "code",
   "execution_count": 97,
   "outputs": [
    {
     "name": "stdout",
     "output_type": "stream",
     "text": [
      "<class 'pandas.core.frame.DataFrame'>\n",
      "MultiIndex: 360752 entries, ('A', Timestamp('2001-01-31 00:00:00', freq='M')) to ('ZUMZ', Timestamp('2018-03-31 00:00:00', freq='M'))\n",
      "Data columns (total 33 columns):\n",
      " #   Column         Non-Null Count   Dtype  \n",
      "---  ------         --------------   -----  \n",
      " 0   return_1m      360752 non-null  float64\n",
      " 1   return_2m      360752 non-null  float64\n",
      " 2   return_3m      360752 non-null  float64\n",
      " 3   return_6m      360752 non-null  float64\n",
      " 4   return_9m      360752 non-null  float64\n",
      " 5   return_12m     360752 non-null  float64\n",
      " 6   Mkt-RF         360752 non-null  float64\n",
      " 7   SMB            360752 non-null  float64\n",
      " 8   HML            360752 non-null  float64\n",
      " 9   RMW            360752 non-null  float64\n",
      " 10  CMA            360752 non-null  float64\n",
      " 11  momentum_2     360752 non-null  float64\n",
      " 12  momentum_3     360752 non-null  float64\n",
      " 13  momentum_6     360752 non-null  float64\n",
      " 14  momentum_9     360752 non-null  float64\n",
      " 15  momentum_12    360752 non-null  float64\n",
      " 16  momentum_3_12  360752 non-null  float64\n",
      " 17  year           360752 non-null  int64  \n",
      " 18  month          360752 non-null  int64  \n",
      " 19  return_1m_t-1  358914 non-null  float64\n",
      " 20  return_1m_t-2  357076 non-null  float64\n",
      " 21  return_1m_t-3  355238 non-null  float64\n",
      " 22  return_1m_t-4  353400 non-null  float64\n",
      " 23  return_1m_t-5  351562 non-null  float64\n",
      " 24  return_1m_t-6  349724 non-null  float64\n",
      " 25  target_1m      358914 non-null  float64\n",
      " 26  target_2m      357076 non-null  float64\n",
      " 27  target_3m      355238 non-null  float64\n",
      " 28  target_6m      349724 non-null  float64\n",
      " 29  target_12m     338696 non-null  float64\n",
      " 30  age            360752 non-null  int32  \n",
      " 31  msize          360752 non-null  float64\n",
      " 32  sector         360752 non-null  object \n",
      "dtypes: float64(29), int32(1), int64(2), object(1)\n",
      "memory usage: 99.0+ MB\n"
     ]
    }
   ],
   "source": [
    "data = data.join(stocks[['sector']])\n",
    "data.sector = data.sector.fillna('Unknown')\n",
    "data.info()"
   ],
   "metadata": {
    "collapsed": false,
    "pycharm": {
     "name": "#%%\n"
    }
   }
  },
  {
   "cell_type": "code",
   "execution_count": 98,
   "outputs": [
    {
     "name": "stdout",
     "output_type": "stream",
     "text": [
      "<class 'pandas.io.pytables.HDFStore'>\n",
      "File path: data/assets.h5\n",
      "/engineered_features            frame        (shape->[358914,33])  \n",
      "/quandl/wiki/prices             frame        (shape->[15389314,12])\n",
      "/quandl/wiki/stocks             frame        (shape->[1,2])        \n",
      "/sp500/fred                     frame        (shape->[2608,1])     \n",
      "/sp500/stocks                   frame        (shape->[503,7])      \n",
      "/sp500/stooq                    frame        (shape->[18517,5])    \n",
      "/us_equities/stocks             frame        (shape->[6834,6])     \n"
     ]
    }
   ],
   "source": [
    "with pd.HDFStore(DATA_STORE) as store:\n",
    "    store.put('engineered_features', data.sort_index().loc[idx[:, :datetime(2018, 3, 1)], :])\n",
    "    print(store.info())"
   ],
   "metadata": {
    "collapsed": false,
    "pycharm": {
     "name": "#%%\n"
    }
   }
  },
  {
   "cell_type": "code",
   "execution_count": 99,
   "outputs": [
    {
     "name": "stdout",
     "output_type": "stream",
     "text": [
      "<class 'pandas.core.frame.DataFrame'>\n",
      "MultiIndex: 360752 entries, ('A', Timestamp('2001-01-31 00:00:00', freq='M')) to ('ZUMZ', Timestamp('2018-03-31 00:00:00', freq='M'))\n",
      "Data columns (total 88 columns):\n",
      " #   Column                 Non-Null Count   Dtype  \n",
      "---  ------                 --------------   -----  \n",
      " 0   return_1m              360752 non-null  float64\n",
      " 1   return_2m              360752 non-null  float64\n",
      " 2   return_3m              360752 non-null  float64\n",
      " 3   return_6m              360752 non-null  float64\n",
      " 4   return_9m              360752 non-null  float64\n",
      " 5   return_12m             360752 non-null  float64\n",
      " 6   Mkt-RF                 360752 non-null  float64\n",
      " 7   SMB                    360752 non-null  float64\n",
      " 8   HML                    360752 non-null  float64\n",
      " 9   RMW                    360752 non-null  float64\n",
      " 10  CMA                    360752 non-null  float64\n",
      " 11  momentum_2             360752 non-null  float64\n",
      " 12  momentum_3             360752 non-null  float64\n",
      " 13  momentum_6             360752 non-null  float64\n",
      " 14  momentum_9             360752 non-null  float64\n",
      " 15  momentum_12            360752 non-null  float64\n",
      " 16  momentum_3_12          360752 non-null  float64\n",
      " 17  return_1m_t-1          358914 non-null  float64\n",
      " 18  return_1m_t-2          357076 non-null  float64\n",
      " 19  return_1m_t-3          355238 non-null  float64\n",
      " 20  return_1m_t-4          353400 non-null  float64\n",
      " 21  return_1m_t-5          351562 non-null  float64\n",
      " 22  return_1m_t-6          349724 non-null  float64\n",
      " 23  target_1m              358914 non-null  float64\n",
      " 24  target_2m              357076 non-null  float64\n",
      " 25  target_3m              355238 non-null  float64\n",
      " 26  target_6m              349724 non-null  float64\n",
      " 27  target_12m             338696 non-null  float64\n",
      " 28  year_2001              360752 non-null  uint8  \n",
      " 29  year_2002              360752 non-null  uint8  \n",
      " 30  year_2003              360752 non-null  uint8  \n",
      " 31  year_2004              360752 non-null  uint8  \n",
      " 32  year_2005              360752 non-null  uint8  \n",
      " 33  year_2006              360752 non-null  uint8  \n",
      " 34  year_2007              360752 non-null  uint8  \n",
      " 35  year_2008              360752 non-null  uint8  \n",
      " 36  year_2009              360752 non-null  uint8  \n",
      " 37  year_2010              360752 non-null  uint8  \n",
      " 38  year_2011              360752 non-null  uint8  \n",
      " 39  year_2012              360752 non-null  uint8  \n",
      " 40  year_2013              360752 non-null  uint8  \n",
      " 41  year_2014              360752 non-null  uint8  \n",
      " 42  year_2015              360752 non-null  uint8  \n",
      " 43  year_2016              360752 non-null  uint8  \n",
      " 44  year_2017              360752 non-null  uint8  \n",
      " 45  year_2018              360752 non-null  uint8  \n",
      " 46  month_1                360752 non-null  uint8  \n",
      " 47  month_2                360752 non-null  uint8  \n",
      " 48  month_3                360752 non-null  uint8  \n",
      " 49  month_4                360752 non-null  uint8  \n",
      " 50  month_5                360752 non-null  uint8  \n",
      " 51  month_6                360752 non-null  uint8  \n",
      " 52  month_7                360752 non-null  uint8  \n",
      " 53  month_8                360752 non-null  uint8  \n",
      " 54  month_9                360752 non-null  uint8  \n",
      " 55  month_10               360752 non-null  uint8  \n",
      " 56  month_11               360752 non-null  uint8  \n",
      " 57  month_12               360752 non-null  uint8  \n",
      " 58  msize_-1               360752 non-null  uint8  \n",
      " 59  msize_1                360752 non-null  uint8  \n",
      " 60  msize_2                360752 non-null  uint8  \n",
      " 61  msize_3                360752 non-null  uint8  \n",
      " 62  msize_4                360752 non-null  uint8  \n",
      " 63  msize_5                360752 non-null  uint8  \n",
      " 64  msize_6                360752 non-null  uint8  \n",
      " 65  msize_7                360752 non-null  uint8  \n",
      " 66  msize_8                360752 non-null  uint8  \n",
      " 67  msize_9                360752 non-null  uint8  \n",
      " 68  msize_10               360752 non-null  uint8  \n",
      " 69  age_0                  360752 non-null  uint8  \n",
      " 70  age_1                  360752 non-null  uint8  \n",
      " 71  age_2                  360752 non-null  uint8  \n",
      " 72  age_3                  360752 non-null  uint8  \n",
      " 73  age_4                  360752 non-null  uint8  \n",
      " 74  age_5                  360752 non-null  uint8  \n",
      " 75  Basic Industries       360752 non-null  uint8  \n",
      " 76  Capital Goods          360752 non-null  uint8  \n",
      " 77  Consumer Durables      360752 non-null  uint8  \n",
      " 78  Consumer Non-Durables  360752 non-null  uint8  \n",
      " 79  Consumer Services      360752 non-null  uint8  \n",
      " 80  Energy                 360752 non-null  uint8  \n",
      " 81  Finance                360752 non-null  uint8  \n",
      " 82  Health Care            360752 non-null  uint8  \n",
      " 83  Miscellaneous          360752 non-null  uint8  \n",
      " 84  Public Utilities       360752 non-null  uint8  \n",
      " 85  Technology             360752 non-null  uint8  \n",
      " 86  Transportation         360752 non-null  uint8  \n",
      " 87  Unknown                360752 non-null  uint8  \n",
      "dtypes: float64(28), uint8(60)\n",
      "memory usage: 107.2+ MB\n"
     ]
    }
   ],
   "source": [
    "dummy_data = pd.get_dummies(data, columns=['year','month', 'msize', 'age',  'sector'],\n",
    "                            prefix=['year','month', 'msize', 'age', ''],\n",
    "                            prefix_sep=['_', '_', '_', '_', ''])\n",
    "dummy_data = dummy_data.rename(columns={c:c.replace('.0', '') for c in dummy_data.columns})\n",
    "dummy_data.info()"
   ],
   "metadata": {
    "collapsed": false,
    "pycharm": {
     "name": "#%%\n"
    }
   }
  },
  {
   "cell_type": "code",
   "execution_count": 100,
   "outputs": [
    {
     "data": {
      "text/plain": "                   return_1m  return_2m  return_3m  return_6m  return_9m  \\\nticker date                                                                \nA      2001-01-31  -0.003653   0.022360   0.056104   0.049811  -0.052500   \n       2001-02-28  -0.329564  -0.189115  -0.116435  -0.084141  -0.076425   \n       2001-03-31  -0.146389  -0.249443  -0.175116  -0.074628  -0.092690   \n       2001-04-30   0.269444   0.040966  -0.105747  -0.028185  -0.004837   \n       2001-05-31  -0.140220   0.044721  -0.023317  -0.071042  -0.064299   \n...                      ...        ...        ...        ...        ...   \nZUMZ   2017-11-30   0.235127   0.097461   0.205302   0.073430   0.007402   \n       2017-12-31  -0.044725   0.086226   0.047857   0.090987   0.014465   \n       2018-01-31  -0.003601  -0.024380   0.055418   0.085265   0.016237   \n       2018-02-28  -0.050602  -0.027386  -0.033200   0.079484   0.036640   \n       2018-03-31   0.197970   0.066466   0.042579   0.045215   0.074606   \n\n                   return_12m    Mkt-RF       SMB       HML       RMW  ...  \\\nticker date                                                            ...   \nA      2001-01-31   -0.015988  1.262247  0.577372 -0.677952 -1.241965  ...   \n       2001-02-28   -0.084537  1.262247  0.577372 -0.677952 -1.241965  ...   \n       2001-03-31   -0.096606  1.262247  0.577372 -0.677952 -1.241965  ...   \n       2001-04-30   -0.066102  1.262247  0.577372 -0.677952 -1.241965  ...   \n       2001-05-31   -0.063425  1.262247  0.577372 -0.677952 -1.241965  ...   \n...                       ...       ...       ...       ...       ...  ...   \nZUMZ   2017-11-30   -0.010687 -0.772268  1.001880  1.353344  2.953964  ...   \n       2017-12-31   -0.003996 -0.772493  1.331478  1.327658  3.467731  ...   \n       2018-01-31    0.002864 -0.965140  1.664637  1.528651  3.650790  ...   \n       2018-02-28   -0.002905  0.074156  1.167027  1.322157  2.983583  ...   \n       2018-03-31    0.021422  0.332624  1.030480  1.347272  2.717652  ...   \n\n                   Consumer Non-Durables  Consumer Services  Energy  Finance  \\\nticker date                                                                    \nA      2001-01-31                      0                  0       0        0   \n       2001-02-28                      0                  0       0        0   \n       2001-03-31                      0                  0       0        0   \n       2001-04-30                      0                  0       0        0   \n       2001-05-31                      0                  0       0        0   \n...                                  ...                ...     ...      ...   \nZUMZ   2017-11-30                      0                  1       0        0   \n       2017-12-31                      0                  1       0        0   \n       2018-01-31                      0                  1       0        0   \n       2018-02-28                      0                  1       0        0   \n       2018-03-31                      0                  1       0        0   \n\n                   Health Care  Miscellaneous  Public Utilities  Technology  \\\nticker date                                                                   \nA      2001-01-31            0              0                 0           0   \n       2001-02-28            0              0                 0           0   \n       2001-03-31            0              0                 0           0   \n       2001-04-30            0              0                 0           0   \n       2001-05-31            0              0                 0           0   \n...                        ...            ...               ...         ...   \nZUMZ   2017-11-30            0              0                 0           0   \n       2017-12-31            0              0                 0           0   \n       2018-01-31            0              0                 0           0   \n       2018-02-28            0              0                 0           0   \n       2018-03-31            0              0                 0           0   \n\n                   Transportation  Unknown  \nticker date                                 \nA      2001-01-31               0        0  \n       2001-02-28               0        0  \n       2001-03-31               0        0  \n       2001-04-30               0        0  \n       2001-05-31               0        0  \n...                           ...      ...  \nZUMZ   2017-11-30               0        0  \n       2017-12-31               0        0  \n       2018-01-31               0        0  \n       2018-02-28               0        0  \n       2018-03-31               0        0  \n\n[360752 rows x 88 columns]",
      "text/html": "<div>\n<style scoped>\n    .dataframe tbody tr th:only-of-type {\n        vertical-align: middle;\n    }\n\n    .dataframe tbody tr th {\n        vertical-align: top;\n    }\n\n    .dataframe thead th {\n        text-align: right;\n    }\n</style>\n<table border=\"1\" class=\"dataframe\">\n  <thead>\n    <tr style=\"text-align: right;\">\n      <th></th>\n      <th></th>\n      <th>return_1m</th>\n      <th>return_2m</th>\n      <th>return_3m</th>\n      <th>return_6m</th>\n      <th>return_9m</th>\n      <th>return_12m</th>\n      <th>Mkt-RF</th>\n      <th>SMB</th>\n      <th>HML</th>\n      <th>RMW</th>\n      <th>...</th>\n      <th>Consumer Non-Durables</th>\n      <th>Consumer Services</th>\n      <th>Energy</th>\n      <th>Finance</th>\n      <th>Health Care</th>\n      <th>Miscellaneous</th>\n      <th>Public Utilities</th>\n      <th>Technology</th>\n      <th>Transportation</th>\n      <th>Unknown</th>\n    </tr>\n    <tr>\n      <th>ticker</th>\n      <th>date</th>\n      <th></th>\n      <th></th>\n      <th></th>\n      <th></th>\n      <th></th>\n      <th></th>\n      <th></th>\n      <th></th>\n      <th></th>\n      <th></th>\n      <th></th>\n      <th></th>\n      <th></th>\n      <th></th>\n      <th></th>\n      <th></th>\n      <th></th>\n      <th></th>\n      <th></th>\n      <th></th>\n      <th></th>\n    </tr>\n  </thead>\n  <tbody>\n    <tr>\n      <th rowspan=\"5\" valign=\"top\">A</th>\n      <th>2001-01-31</th>\n      <td>-0.003653</td>\n      <td>0.022360</td>\n      <td>0.056104</td>\n      <td>0.049811</td>\n      <td>-0.052500</td>\n      <td>-0.015988</td>\n      <td>1.262247</td>\n      <td>0.577372</td>\n      <td>-0.677952</td>\n      <td>-1.241965</td>\n      <td>...</td>\n      <td>0</td>\n      <td>0</td>\n      <td>0</td>\n      <td>0</td>\n      <td>0</td>\n      <td>0</td>\n      <td>0</td>\n      <td>0</td>\n      <td>0</td>\n      <td>0</td>\n    </tr>\n    <tr>\n      <th>2001-02-28</th>\n      <td>-0.329564</td>\n      <td>-0.189115</td>\n      <td>-0.116435</td>\n      <td>-0.084141</td>\n      <td>-0.076425</td>\n      <td>-0.084537</td>\n      <td>1.262247</td>\n      <td>0.577372</td>\n      <td>-0.677952</td>\n      <td>-1.241965</td>\n      <td>...</td>\n      <td>0</td>\n      <td>0</td>\n      <td>0</td>\n      <td>0</td>\n      <td>0</td>\n      <td>0</td>\n      <td>0</td>\n      <td>0</td>\n      <td>0</td>\n      <td>0</td>\n    </tr>\n    <tr>\n      <th>2001-03-31</th>\n      <td>-0.146389</td>\n      <td>-0.249443</td>\n      <td>-0.175116</td>\n      <td>-0.074628</td>\n      <td>-0.092690</td>\n      <td>-0.096606</td>\n      <td>1.262247</td>\n      <td>0.577372</td>\n      <td>-0.677952</td>\n      <td>-1.241965</td>\n      <td>...</td>\n      <td>0</td>\n      <td>0</td>\n      <td>0</td>\n      <td>0</td>\n      <td>0</td>\n      <td>0</td>\n      <td>0</td>\n      <td>0</td>\n      <td>0</td>\n      <td>0</td>\n    </tr>\n    <tr>\n      <th>2001-04-30</th>\n      <td>0.269444</td>\n      <td>0.040966</td>\n      <td>-0.105747</td>\n      <td>-0.028185</td>\n      <td>-0.004837</td>\n      <td>-0.066102</td>\n      <td>1.262247</td>\n      <td>0.577372</td>\n      <td>-0.677952</td>\n      <td>-1.241965</td>\n      <td>...</td>\n      <td>0</td>\n      <td>0</td>\n      <td>0</td>\n      <td>0</td>\n      <td>0</td>\n      <td>0</td>\n      <td>0</td>\n      <td>0</td>\n      <td>0</td>\n      <td>0</td>\n    </tr>\n    <tr>\n      <th>2001-05-31</th>\n      <td>-0.140220</td>\n      <td>0.044721</td>\n      <td>-0.023317</td>\n      <td>-0.071042</td>\n      <td>-0.064299</td>\n      <td>-0.063425</td>\n      <td>1.262247</td>\n      <td>0.577372</td>\n      <td>-0.677952</td>\n      <td>-1.241965</td>\n      <td>...</td>\n      <td>0</td>\n      <td>0</td>\n      <td>0</td>\n      <td>0</td>\n      <td>0</td>\n      <td>0</td>\n      <td>0</td>\n      <td>0</td>\n      <td>0</td>\n      <td>0</td>\n    </tr>\n    <tr>\n      <th>...</th>\n      <th>...</th>\n      <td>...</td>\n      <td>...</td>\n      <td>...</td>\n      <td>...</td>\n      <td>...</td>\n      <td>...</td>\n      <td>...</td>\n      <td>...</td>\n      <td>...</td>\n      <td>...</td>\n      <td>...</td>\n      <td>...</td>\n      <td>...</td>\n      <td>...</td>\n      <td>...</td>\n      <td>...</td>\n      <td>...</td>\n      <td>...</td>\n      <td>...</td>\n      <td>...</td>\n      <td>...</td>\n    </tr>\n    <tr>\n      <th rowspan=\"5\" valign=\"top\">ZUMZ</th>\n      <th>2017-11-30</th>\n      <td>0.235127</td>\n      <td>0.097461</td>\n      <td>0.205302</td>\n      <td>0.073430</td>\n      <td>0.007402</td>\n      <td>-0.010687</td>\n      <td>-0.772268</td>\n      <td>1.001880</td>\n      <td>1.353344</td>\n      <td>2.953964</td>\n      <td>...</td>\n      <td>0</td>\n      <td>1</td>\n      <td>0</td>\n      <td>0</td>\n      <td>0</td>\n      <td>0</td>\n      <td>0</td>\n      <td>0</td>\n      <td>0</td>\n      <td>0</td>\n    </tr>\n    <tr>\n      <th>2017-12-31</th>\n      <td>-0.044725</td>\n      <td>0.086226</td>\n      <td>0.047857</td>\n      <td>0.090987</td>\n      <td>0.014465</td>\n      <td>-0.003996</td>\n      <td>-0.772493</td>\n      <td>1.331478</td>\n      <td>1.327658</td>\n      <td>3.467731</td>\n      <td>...</td>\n      <td>0</td>\n      <td>1</td>\n      <td>0</td>\n      <td>0</td>\n      <td>0</td>\n      <td>0</td>\n      <td>0</td>\n      <td>0</td>\n      <td>0</td>\n      <td>0</td>\n    </tr>\n    <tr>\n      <th>2018-01-31</th>\n      <td>-0.003601</td>\n      <td>-0.024380</td>\n      <td>0.055418</td>\n      <td>0.085265</td>\n      <td>0.016237</td>\n      <td>0.002864</td>\n      <td>-0.965140</td>\n      <td>1.664637</td>\n      <td>1.528651</td>\n      <td>3.650790</td>\n      <td>...</td>\n      <td>0</td>\n      <td>1</td>\n      <td>0</td>\n      <td>0</td>\n      <td>0</td>\n      <td>0</td>\n      <td>0</td>\n      <td>0</td>\n      <td>0</td>\n      <td>0</td>\n    </tr>\n    <tr>\n      <th>2018-02-28</th>\n      <td>-0.050602</td>\n      <td>-0.027386</td>\n      <td>-0.033200</td>\n      <td>0.079484</td>\n      <td>0.036640</td>\n      <td>-0.002905</td>\n      <td>0.074156</td>\n      <td>1.167027</td>\n      <td>1.322157</td>\n      <td>2.983583</td>\n      <td>...</td>\n      <td>0</td>\n      <td>1</td>\n      <td>0</td>\n      <td>0</td>\n      <td>0</td>\n      <td>0</td>\n      <td>0</td>\n      <td>0</td>\n      <td>0</td>\n      <td>0</td>\n    </tr>\n    <tr>\n      <th>2018-03-31</th>\n      <td>0.197970</td>\n      <td>0.066466</td>\n      <td>0.042579</td>\n      <td>0.045215</td>\n      <td>0.074606</td>\n      <td>0.021422</td>\n      <td>0.332624</td>\n      <td>1.030480</td>\n      <td>1.347272</td>\n      <td>2.717652</td>\n      <td>...</td>\n      <td>0</td>\n      <td>1</td>\n      <td>0</td>\n      <td>0</td>\n      <td>0</td>\n      <td>0</td>\n      <td>0</td>\n      <td>0</td>\n      <td>0</td>\n      <td>0</td>\n    </tr>\n  </tbody>\n</table>\n<p>360752 rows × 88 columns</p>\n</div>"
     },
     "execution_count": 100,
     "metadata": {},
     "output_type": "execute_result"
    }
   ],
   "source": [
    "dummy_data"
   ],
   "metadata": {
    "collapsed": false,
    "pycharm": {
     "name": "#%%\n"
    }
   }
  }
 ],
 "metadata": {
  "kernelspec": {
   "display_name": "Python 3",
   "language": "python",
   "name": "python3"
  },
  "language_info": {
   "codemirror_mode": {
    "name": "ipython",
    "version": 2
   },
   "file_extension": ".py",
   "mimetype": "text/x-python",
   "name": "python",
   "nbconvert_exporter": "python",
   "pygments_lexer": "ipython2",
   "version": "2.7.6"
  }
 },
 "nbformat": 4,
 "nbformat_minor": 0
}