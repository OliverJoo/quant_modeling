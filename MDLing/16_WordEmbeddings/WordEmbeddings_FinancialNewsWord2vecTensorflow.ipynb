{
 "cells": [
  {
   "cell_type": "code",
   "execution_count": 1,
   "metadata": {
    "collapsed": true,
    "pycharm": {
     "name": "#%%\n"
    }
   },
   "outputs": [],
   "source": [
    "%matplotlib inline\n",
    "\n",
    "from pathlib import Path\n",
    "from collections import Counter\n",
    "\n",
    "import pandas as pd\n",
    "import numpy as np\n",
    "from scipy.spatial.distance import cdist\n",
    "\n",
    "import tensorflow as tf\n",
    "from tensorflow.keras.models import Model\n",
    "from tensorflow.keras.layers import Input, Dense, Reshape, Dot, Embedding\n",
    "from tensorflow.keras.preprocessing.sequence import skipgrams, make_sampling_table\n",
    "from tensorflow.keras.callbacks import Callback, TensorBoard\n",
    "\n",
    "import matplotlib.pyplot as plt\n",
    "import seaborn as sns\n",
    "gpu_devices = tf.config.experimental.list_physical_devices('GPU')\n",
    "tf.config.experimental.set_memory_growth(gpu_devices[0], True)\n",
    "\n",
    "sns.set_style('white')\n",
    "np.random.seed(42)\n",
    "\n",
    "results_path = Path('results', 'financial_news')\n",
    "analogy_path = Path('data', 'analogies-en.txt')\n",
    "def format_time(t):\n",
    "    m, s = divmod(t, 60)\n",
    "    h, m = divmod(m, 60)\n",
    "    return f'{h:02.0f}:{m:02.0f}:{s:02.0f}'"
   ]
  },
  {
   "cell_type": "code",
   "execution_count": 2,
   "outputs": [],
   "source": [
    "# word2vec - skipgram Architecture using Keras\n",
    "SAMPLE_SIZE=.5              # portion of sentences to use for model\n",
    "NGRAMS = 3                  # Longest ngram in text\n",
    "MIN_FREQ = 10\n",
    "SAMPLING_FACTOR = 1e-4\n",
    "WINDOW_SIZE = 3\n",
    "EMBEDDING_SIZE = 300\n",
    "EPOCHS = 1\n",
    "BATCH_SIZE = 2500\n",
    "\n",
    "VALID_SET = 10      # Random set of words to get nearest neighbors for\n",
    "VALID_WINDOW = 150  # Most frequent words to draw validation set from\n",
    "NN = 10             # Number of nearest neighbors for evaluation\n",
    "\n",
    "valid_examples = np.random.choice(VALID_WINDOW, size=VALID_SET, replace=False)\n",
    "FILE_NAME = f'articles_{NGRAMS}_grams.txt'\n",
    "file_path = results_path / FILE_NAME\n",
    "tb_path = results_path / 'tensorboard'\n",
    "if not tb_path.exists():\n",
    "    tb_path.mkdir(parents=True, exist_ok=True)"
   ],
   "metadata": {
    "collapsed": false,
    "pycharm": {
     "name": "#%%\n"
    }
   }
  },
  {
   "cell_type": "code",
   "execution_count": 3,
   "outputs": [
    {
     "name": "stdout",
     "output_type": "stream",
     "text": [
      "Removed 59,554 sentences containing more than 50 tokens\n"
     ]
    }
   ],
   "source": [
    "# Build Data Set\n",
    "sentences = file_path.read_text(encoding='UTF8').split('\\n')\n",
    "n = len(sentences)\n",
    "max_length = 50\n",
    "sentences = [s for s in sentences if len(s.split()) <= max_length]\n",
    "print(f'Removed {n-len(sentences):,.0f} sentences containing more than {max_length} tokens')"
   ],
   "metadata": {
    "collapsed": false,
    "pycharm": {
     "name": "#%%\n"
    }
   }
  },
  {
   "cell_type": "code",
   "execution_count": 4,
   "outputs": [
    {
     "data": {
      "text/plain": "60876"
     },
     "execution_count": 4,
     "metadata": {},
     "output_type": "execute_result"
    }
   ],
   "source": [
    "words = ' '.join(np.random.choice(sentences, size=int(SAMPLE_SIZE*len(sentences)), replace=False)).split()\n",
    "# Get (token, count) tuples for tokens meeting MIN_FREQ\n",
    "token_counts = [t for t in Counter(words).most_common() if t[1] >= MIN_FREQ]\n",
    "tokens, counts = list(zip(*token_counts))\n",
    "\n",
    "# create id-token dicts & reverse dicts\n",
    "id_to_token = pd.Series(tokens, index=range(1, len(tokens) + 1)).to_dict()\n",
    "id_to_token.update({0: 'UNK'}) # set dummy value\n",
    "token_to_id = {t: i for i, t in id_to_token.items()}\n",
    "data = [token_to_id.get(word, 0) for word in words]\n",
    "vocab_size = len(token_to_id)\n",
    "vocab_size"
   ],
   "metadata": {
    "collapsed": false,
    "pycharm": {
     "name": "#%%\n"
    }
   }
  },
  {
   "cell_type": "code",
   "execution_count": 5,
   "outputs": [
    {
     "data": {
      "text/plain": "   id   count      token\n0   0  411254        UNK\n1   1  173082    company\n2   2  171905    million\n3   3  149588       said\n4   4  119586       year\n5   5  108890    quarter\n6   6   83581  financial\n7   7   75711    percent\n8   8   75434        net\n9   9   72558        new",
      "text/html": "<div>\n<style scoped>\n    .dataframe tbody tr th:only-of-type {\n        vertical-align: middle;\n    }\n\n    .dataframe tbody tr th {\n        vertical-align: top;\n    }\n\n    .dataframe thead th {\n        text-align: right;\n    }\n</style>\n<table border=\"1\" class=\"dataframe\">\n  <thead>\n    <tr style=\"text-align: right;\">\n      <th></th>\n      <th>id</th>\n      <th>count</th>\n      <th>token</th>\n    </tr>\n  </thead>\n  <tbody>\n    <tr>\n      <th>0</th>\n      <td>0</td>\n      <td>411254</td>\n      <td>UNK</td>\n    </tr>\n    <tr>\n      <th>1</th>\n      <td>1</td>\n      <td>173082</td>\n      <td>company</td>\n    </tr>\n    <tr>\n      <th>2</th>\n      <td>2</td>\n      <td>171905</td>\n      <td>million</td>\n    </tr>\n    <tr>\n      <th>3</th>\n      <td>3</td>\n      <td>149588</td>\n      <td>said</td>\n    </tr>\n    <tr>\n      <th>4</th>\n      <td>4</td>\n      <td>119586</td>\n      <td>year</td>\n    </tr>\n    <tr>\n      <th>5</th>\n      <td>5</td>\n      <td>108890</td>\n      <td>quarter</td>\n    </tr>\n    <tr>\n      <th>6</th>\n      <td>6</td>\n      <td>83581</td>\n      <td>financial</td>\n    </tr>\n    <tr>\n      <th>7</th>\n      <td>7</td>\n      <td>75711</td>\n      <td>percent</td>\n    </tr>\n    <tr>\n      <th>8</th>\n      <td>8</td>\n      <td>75434</td>\n      <td>net</td>\n    </tr>\n    <tr>\n      <th>9</th>\n      <td>9</td>\n      <td>72558</td>\n      <td>new</td>\n    </tr>\n  </tbody>\n</table>\n</div>"
     },
     "execution_count": 5,
     "metadata": {},
     "output_type": "execute_result"
    }
   ],
   "source": [
    "s = pd.Series(data).value_counts().reset_index()\n",
    "s.columns = ['id', 'count']\n",
    "s['token'] = s.id.map(id_to_token)\n",
    "s.sort_values('count', ascending=False).head(10)"
   ],
   "metadata": {
    "collapsed": false,
    "pycharm": {
     "name": "#%%\n"
    }
   }
  },
  {
   "cell_type": "code",
   "execution_count": 6,
   "outputs": [
    {
     "data": {
      "text/plain": "18006618"
     },
     "execution_count": 6,
     "metadata": {},
     "output_type": "execute_result"
    }
   ],
   "source": [
    "s['count'].sum()"
   ],
   "metadata": {
    "collapsed": false,
    "pycharm": {
     "name": "#%%\n"
    }
   }
  },
  {
   "cell_type": "code",
   "execution_count": 7,
   "outputs": [],
   "source": [
    "s.sort_values('id').token.dropna().to_csv(tb_path / 'meta.tsv', index=False)"
   ],
   "metadata": {
    "collapsed": false,
    "pycharm": {
     "name": "#%%\n"
    }
   }
  },
  {
   "cell_type": "code",
   "execution_count": 8,
   "outputs": [
    {
     "name": "stderr",
     "output_type": "stream",
     "text": [
      "C:\\Users\\19498\\AppData\\Local\\Temp\\ipykernel_8748\\191787428.py:3: FutureWarning: The squeeze argument has been deprecated and will be removed in a future version. Append .squeeze(\"columns\") to the call to squeeze.\n",
      "\n",
      "\n",
      "  df = pd.read_csv(analogy_path, header=None, squeeze=True, encoding='UTF8')\n"
     ]
    },
    {
     "data": {
      "text/plain": "        a       b        c            d\n1  athens  greece  baghdad         iraq\n2  athens  greece  bangkok     thailand\n3  athens  greece  beijing        china\n4  athens  greece   berlin      germany\n5  athens  greece     bern  switzerland",
      "text/html": "<div>\n<style scoped>\n    .dataframe tbody tr th:only-of-type {\n        vertical-align: middle;\n    }\n\n    .dataframe tbody tr th {\n        vertical-align: top;\n    }\n\n    .dataframe thead th {\n        text-align: right;\n    }\n</style>\n<table border=\"1\" class=\"dataframe\">\n  <thead>\n    <tr style=\"text-align: right;\">\n      <th></th>\n      <th>a</th>\n      <th>b</th>\n      <th>c</th>\n      <th>d</th>\n    </tr>\n  </thead>\n  <tbody>\n    <tr>\n      <th>1</th>\n      <td>athens</td>\n      <td>greece</td>\n      <td>baghdad</td>\n      <td>iraq</td>\n    </tr>\n    <tr>\n      <th>2</th>\n      <td>athens</td>\n      <td>greece</td>\n      <td>bangkok</td>\n      <td>thailand</td>\n    </tr>\n    <tr>\n      <th>3</th>\n      <td>athens</td>\n      <td>greece</td>\n      <td>beijing</td>\n      <td>china</td>\n    </tr>\n    <tr>\n      <th>4</th>\n      <td>athens</td>\n      <td>greece</td>\n      <td>berlin</td>\n      <td>germany</td>\n    </tr>\n    <tr>\n      <th>5</th>\n      <td>athens</td>\n      <td>greece</td>\n      <td>bern</td>\n      <td>switzerland</td>\n    </tr>\n  </tbody>\n</table>\n</div>"
     },
     "execution_count": 8,
     "metadata": {},
     "output_type": "execute_result"
    }
   ],
   "source": [
    "# Analogies to ID\n",
    "def get_analogies():\n",
    "    df = pd.read_csv(analogy_path, header=None, squeeze=True, encoding='UTF8')\n",
    "    categories = df[df.str.startswith(':')]\n",
    "    analogies = df[~df.str.startswith(':')].str.split(expand=True)\n",
    "    analogies.columns = list('abcd')\n",
    "    return analogies\n",
    "analogies = get_analogies()\n",
    "analogies.head()"
   ],
   "metadata": {
    "collapsed": false,
    "pycharm": {
     "name": "#%%\n"
    }
   }
  },
  {
   "cell_type": "code",
   "execution_count": 9,
   "outputs": [
    {
     "data": {
      "text/plain": "                a          b          c           d\n5682     monrovia    liberia    caracas   venezuela\n3501     funafuti     tuvalu    managua   nicaragua\n24005        lion      lions        cow        cows\n15776       clear    unclear     likely    unlikely\n4870    ljubljana   slovenia  kathmandu       nepal\n1706       beirut    lebanon    algiers     algeria\n11774   henderson     nevada    modesto  california\n17595        tall     taller      small     smaller\n2855   copenhagen    denmark     luanda      angola\n2544      caracas  venezuela     banjul      gambia",
      "text/html": "<div>\n<style scoped>\n    .dataframe tbody tr th:only-of-type {\n        vertical-align: middle;\n    }\n\n    .dataframe tbody tr th {\n        vertical-align: top;\n    }\n\n    .dataframe thead th {\n        text-align: right;\n    }\n</style>\n<table border=\"1\" class=\"dataframe\">\n  <thead>\n    <tr style=\"text-align: right;\">\n      <th></th>\n      <th>a</th>\n      <th>b</th>\n      <th>c</th>\n      <th>d</th>\n    </tr>\n  </thead>\n  <tbody>\n    <tr>\n      <th>5682</th>\n      <td>monrovia</td>\n      <td>liberia</td>\n      <td>caracas</td>\n      <td>venezuela</td>\n    </tr>\n    <tr>\n      <th>3501</th>\n      <td>funafuti</td>\n      <td>tuvalu</td>\n      <td>managua</td>\n      <td>nicaragua</td>\n    </tr>\n    <tr>\n      <th>24005</th>\n      <td>lion</td>\n      <td>lions</td>\n      <td>cow</td>\n      <td>cows</td>\n    </tr>\n    <tr>\n      <th>15776</th>\n      <td>clear</td>\n      <td>unclear</td>\n      <td>likely</td>\n      <td>unlikely</td>\n    </tr>\n    <tr>\n      <th>4870</th>\n      <td>ljubljana</td>\n      <td>slovenia</td>\n      <td>kathmandu</td>\n      <td>nepal</td>\n    </tr>\n    <tr>\n      <th>1706</th>\n      <td>beirut</td>\n      <td>lebanon</td>\n      <td>algiers</td>\n      <td>algeria</td>\n    </tr>\n    <tr>\n      <th>11774</th>\n      <td>henderson</td>\n      <td>nevada</td>\n      <td>modesto</td>\n      <td>california</td>\n    </tr>\n    <tr>\n      <th>17595</th>\n      <td>tall</td>\n      <td>taller</td>\n      <td>small</td>\n      <td>smaller</td>\n    </tr>\n    <tr>\n      <th>2855</th>\n      <td>copenhagen</td>\n      <td>denmark</td>\n      <td>luanda</td>\n      <td>angola</td>\n    </tr>\n    <tr>\n      <th>2544</th>\n      <td>caracas</td>\n      <td>venezuela</td>\n      <td>banjul</td>\n      <td>gambia</td>\n    </tr>\n  </tbody>\n</table>\n</div>"
     },
     "execution_count": 9,
     "metadata": {},
     "output_type": "execute_result"
    }
   ],
   "source": [
    "analogies.sample(10)"
   ],
   "metadata": {
    "collapsed": false,
    "pycharm": {
     "name": "#%%\n"
    }
   }
  },
  {
   "cell_type": "code",
   "execution_count": 10,
   "outputs": [
    {
     "data": {
      "text/plain": "0.7232199117832389"
     },
     "execution_count": 10,
     "metadata": {},
     "output_type": "execute_result"
    }
   ],
   "source": [
    "analogies_id = analogies.apply(lambda x: x.map(token_to_id))\n",
    "analogies_id.notnull().all(1).sum()/len(analogies_id)"
   ],
   "metadata": {
    "collapsed": false,
    "pycharm": {
     "name": "#%%\n"
    }
   }
  },
  {
   "cell_type": "code",
   "execution_count": 11,
   "outputs": [
    {
     "data": {
      "text/plain": "<Figure size 432x288 with 1 Axes>",
      "image/png": "[encoded data removed]"
     },
     "metadata": {},
     "output_type": "display_data"
    }
   ],
   "source": [
    "# Generate Sampling Probabilities\n",
    "df = s['count'].to_frame('freq')\n",
    "factors = [1, 1e-2, 1e-4, 1e-6, 1e-8]\n",
    "for f in factors:\n",
    "    sf = make_sampling_table(vocab_size, sampling_factor=f)\n",
    "    df[f] = df.freq.mul(sf)\n",
    "\n",
    "df.loc[:, factors].plot(logy=True, xlim=(0, 60000));"
   ],
   "metadata": {
    "collapsed": false,
    "pycharm": {
     "name": "#%%\n"
    }
   }
  },
  {
   "cell_type": "code",
   "execution_count": 12,
   "outputs": [
    {
     "data": {
      "text/plain": "       freq  1e-08\n3256    740  740.0\n6395    269  269.0\n13125    90   90.0\n19614    50   50.0\n19843    49   49.0\n25493    34   34.0\n28770    29   29.0\n40831    17   17.0\n42759    16   16.0\n43531    16   16.0",
      "text/html": "<div>\n<style scoped>\n    .dataframe tbody tr th:only-of-type {\n        vertical-align: middle;\n    }\n\n    .dataframe tbody tr th {\n        vertical-align: top;\n    }\n\n    .dataframe thead th {\n        text-align: right;\n    }\n</style>\n<table border=\"1\" class=\"dataframe\">\n  <thead>\n    <tr style=\"text-align: right;\">\n      <th></th>\n      <th>freq</th>\n      <th>1e-08</th>\n    </tr>\n  </thead>\n  <tbody>\n    <tr>\n      <th>3256</th>\n      <td>740</td>\n      <td>740.0</td>\n    </tr>\n    <tr>\n      <th>6395</th>\n      <td>269</td>\n      <td>269.0</td>\n    </tr>\n    <tr>\n      <th>13125</th>\n      <td>90</td>\n      <td>90.0</td>\n    </tr>\n    <tr>\n      <th>19614</th>\n      <td>50</td>\n      <td>50.0</td>\n    </tr>\n    <tr>\n      <th>19843</th>\n      <td>49</td>\n      <td>49.0</td>\n    </tr>\n    <tr>\n      <th>25493</th>\n      <td>34</td>\n      <td>34.0</td>\n    </tr>\n    <tr>\n      <th>28770</th>\n      <td>29</td>\n      <td>29.0</td>\n    </tr>\n    <tr>\n      <th>40831</th>\n      <td>17</td>\n      <td>17.0</td>\n    </tr>\n    <tr>\n      <th>42759</th>\n      <td>16</td>\n      <td>16.0</td>\n    </tr>\n    <tr>\n      <th>43531</th>\n      <td>16</td>\n      <td>16.0</td>\n    </tr>\n  </tbody>\n</table>\n</div>"
     },
     "execution_count": 12,
     "metadata": {},
     "output_type": "execute_result"
    }
   ],
   "source": [
    "df = s['count'].to_frame('freq')\n",
    "sf = make_sampling_table(vocab_size, sampling_factor=1e-2)\n",
    "df[f] = df.freq.mul(sf)\n",
    "df.sample(10).sort_values(by='freq', ascending=False)"
   ],
   "metadata": {
    "collapsed": false,
    "pycharm": {
     "name": "#%%\n"
    }
   }
  },
  {
   "cell_type": "code",
   "execution_count": 13,
   "outputs": [
    {
     "data": {
      "text/plain": "<Figure size 432x288 with 1 Axes>",
      "image/png": "[encoded data removed]"
     },
     "metadata": {},
     "output_type": "display_data"
    }
   ],
   "source": [
    "#  make_sampling_table: return array that is sorted by the highest probability of each word appearing\n",
    "#  the return array of the function can be used to sampling_table of skipgram\n",
    "sampling_table = make_sampling_table(vocab_size, sampling_factor=SAMPLING_FACTOR/10)\n",
    "pd.Series(sampling_table).plot(title='Skip-Gram Sampling Probabilities')\n",
    "plt.tight_layout();"
   ],
   "metadata": {
    "collapsed": false,
    "pycharm": {
     "name": "#%%\n"
    }
   }
  },
  {
   "cell_type": "code",
   "execution_count": 14,
   "outputs": [
    {
     "data": {
      "text/plain": "array([0.98985748, 0.98991197, 0.98996646, 0.99002095, 0.99007543,\n       0.99012992, 0.9901844 , 0.99023887])"
     },
     "execution_count": 14,
     "metadata": {},
     "output_type": "execute_result"
    }
   ],
   "source": [
    "sampling_table[10010:10018]"
   ],
   "metadata": {
    "collapsed": false,
    "pycharm": {
     "name": "#%%\n"
    }
   }
  },
  {
   "cell_type": "code",
   "execution_count": 15,
   "outputs": [
    {
     "name": "stdout",
     "output_type": "stream",
     "text": [
      "65,126,100 pairs created\n"
     ]
    }
   ],
   "source": [
    "# Generate target-context word pairs\n",
    "pairs, labels = skipgrams(sequence=data, vocabulary_size=vocab_size, window_size=WINDOW_SIZE,\n",
    "                          sampling_table=sampling_table, negative_samples=1.0, shuffle=True)\n",
    "\n",
    "print('{:,d} pairs created'.format(len(pairs)))"
   ],
   "metadata": {
    "collapsed": false,
    "pycharm": {
     "name": "#%%\n"
    }
   }
  },
  {
   "cell_type": "code",
   "execution_count": 16,
   "outputs": [
    {
     "data": {
      "text/plain": "array([15619,  6045, 15616,  2362,  5286])"
     },
     "execution_count": 16,
     "metadata": {},
     "output_type": "execute_result"
    }
   ],
   "source": [
    "target_word, context_word = np.array(pairs, dtype=np.int32).T\n",
    "labels = np.array(labels, dtype=np.int8)\n",
    "del pairs\n",
    "target_word[:5]"
   ],
   "metadata": {
    "collapsed": false,
    "pycharm": {
     "name": "#%%\n"
    }
   }
  },
  {
   "cell_type": "code",
   "execution_count": 17,
   "outputs": [
    {
     "data": {
      "text/plain": "   target  context  label\n0   15619    33727      0\n1    6045    22193      0\n2   15616    11374      0\n3    2362    56211      0\n4    5286    17268      1",
      "text/html": "<div>\n<style scoped>\n    .dataframe tbody tr th:only-of-type {\n        vertical-align: middle;\n    }\n\n    .dataframe tbody tr th {\n        vertical-align: top;\n    }\n\n    .dataframe thead th {\n        text-align: right;\n    }\n</style>\n<table border=\"1\" class=\"dataframe\">\n  <thead>\n    <tr style=\"text-align: right;\">\n      <th></th>\n      <th>target</th>\n      <th>context</th>\n      <th>label</th>\n    </tr>\n  </thead>\n  <tbody>\n    <tr>\n      <th>0</th>\n      <td>15619</td>\n      <td>33727</td>\n      <td>0</td>\n    </tr>\n    <tr>\n      <th>1</th>\n      <td>6045</td>\n      <td>22193</td>\n      <td>0</td>\n    </tr>\n    <tr>\n      <th>2</th>\n      <td>15616</td>\n      <td>11374</td>\n      <td>0</td>\n    </tr>\n    <tr>\n      <th>3</th>\n      <td>2362</td>\n      <td>56211</td>\n      <td>0</td>\n    </tr>\n    <tr>\n      <th>4</th>\n      <td>5286</td>\n      <td>17268</td>\n      <td>1</td>\n    </tr>\n  </tbody>\n</table>\n</div>"
     },
     "execution_count": 17,
     "metadata": {},
     "output_type": "execute_result"
    }
   ],
   "source": [
    "df = pd.DataFrame({'target': target_word[:5], 'context': context_word[:5], 'label': labels[:5]})\n",
    "df"
   ],
   "metadata": {
    "collapsed": false,
    "pycharm": {
     "name": "#%%\n"
    }
   }
  },
  {
   "cell_type": "code",
   "execution_count": 18,
   "outputs": [
    {
     "data": {
      "text/plain": "0    32563050\n1    32563050\ndtype: int64"
     },
     "execution_count": 18,
     "metadata": {},
     "output_type": "execute_result"
    }
   ],
   "source": [
    "pd.Series(labels).value_counts()"
   ],
   "metadata": {
    "collapsed": false,
    "pycharm": {
     "name": "#%%\n"
    }
   }
  },
  {
   "cell_type": "code",
   "execution_count": 19,
   "outputs": [],
   "source": [
    "with pd.HDFStore(results_path / 'data.h5') as store:\n",
    "    store.put('id_to_token', pd.Series(id_to_token))\n",
    "    store.put('pairs', pd.DataFrame({'target' : target_word, 'context': context_word, 'labels': labels}))\n",
    "\n",
    "with pd.HDFStore(results_path / 'data.h5') as store:\n",
    "    id_to_token = store['id_to_token']\n",
    "    pairs = store['pairs']\n",
    "\n",
    "target_word, context_word, labels = pairs.target, pairs.context, pairs.labels"
   ],
   "metadata": {
    "collapsed": false,
    "pycharm": {
     "name": "#%%\n"
    }
   }
  },
  {
   "cell_type": "code",
   "execution_count": 20,
   "outputs": [
    {
     "name": "stdout",
     "output_type": "stream",
     "text": [
      "Model: \"model\"\n",
      "__________________________________________________________________________________________________\n",
      " Layer (type)                   Output Shape         Param #     Connected to                     \n",
      "==================================================================================================\n",
      " target_input (InputLayer)      [(None, 1)]          0           []                               \n",
      "                                                                                                  \n",
      " context_input (InputLayer)     [(None, 1)]          0           []                               \n",
      "                                                                                                  \n",
      " embedding_layer (Embedding)    (None, 1, 300)       18262800    ['target_input[0][0]',           \n",
      "                                                                  'context_input[0][0]']          \n",
      "                                                                                                  \n",
      " target_embedding (Reshape)     (None, 300, 1)       0           ['embedding_layer[0][0]']        \n",
      "                                                                                                  \n",
      " context_embedding (Reshape)    (None, 300, 1)       0           ['embedding_layer[1][0]']        \n",
      "                                                                                                  \n",
      " dot (Dot)                      (None, 1, 1)         0           ['target_embedding[0][0]',       \n",
      "                                                                  'context_embedding[0][0]']      \n",
      "                                                                                                  \n",
      " similarity (Reshape)           (None, 1)            0           ['dot[0][0]']                    \n",
      "                                                                                                  \n",
      " output (Dense)                 (None, 1)            2           ['similarity[0][0]']             \n",
      "                                                                                                  \n",
      "==================================================================================================\n",
      "Total params: 18,262,802\n",
      "Trainable params: 18,262,802\n",
      "Non-trainable params: 0\n",
      "__________________________________________________________________________________________________\n"
     ]
    }
   ],
   "source": [
    "# Define Keras Model Components\n",
    "# Word2vec MDL contains - 2 input layer, shared embedding layer, sigmoid output layer\n",
    "\n",
    "# Scalar Input Variables\n",
    "input_target = Input((1,), name='target_input')\n",
    "input_context = Input((1,), name='context_input')\n",
    "\n",
    "# Shared Embedding Layer\n",
    "embedding = Embedding(input_dim=vocab_size, output_dim=EMBEDDING_SIZE, input_length=1, name='embedding_layer')\n",
    "# 1st input layer\n",
    "target = embedding(input_target)\n",
    "target = Reshape((EMBEDDING_SIZE, 1), name='target_embedding')(target) # reshape inputs into the given shape\n",
    "# 2nd input layer\n",
    "context = embedding(input_context)\n",
    "context = Reshape((EMBEDDING_SIZE, 1), name='context_embedding')(context)\n",
    "\n",
    "# Create Similarity Measure(compute Dot project btw samples in two tensors)\n",
    "dot_product = Dot(axes=1)([target, context])\n",
    "dot_product = Reshape((1,), name='similarity')(dot_product)\n",
    "\n",
    "# Sigmoid Output Layer\n",
    "output = Dense(units=1, activation='sigmoid', name='output')(dot_product)\n",
    "\n",
    "# Compile Training Model\n",
    "model = Model(inputs=[input_target, input_context], outputs=output)\n",
    "model.compile(loss='binary_crossentropy', optimizer='rmsprop')\n",
    "\n",
    "model.summary()"
   ],
   "metadata": {
    "collapsed": false,
    "pycharm": {
     "name": "#%%\n"
    }
   }
  },
  {
   "cell_type": "code",
   "execution_count": 21,
   "outputs": [
    {
     "name": "stdout",
     "output_type": "stream",
     "text": [
      "Model: \"model_1\"\n",
      "__________________________________________________________________________________________________\n",
      " Layer (type)                   Output Shape         Param #     Connected to                     \n",
      "==================================================================================================\n",
      " target_input (InputLayer)      [(None, 1)]          0           []                               \n",
      "                                                                                                  \n",
      " context_input (InputLayer)     [(None, 1)]          0           []                               \n",
      "                                                                                                  \n",
      " embedding_layer (Embedding)    (None, 1, 300)       18262800    ['target_input[0][0]',           \n",
      "                                                                  'context_input[0][0]']          \n",
      "                                                                                                  \n",
      " target_embedding (Reshape)     (None, 300, 1)       0           ['embedding_layer[0][0]']        \n",
      "                                                                                                  \n",
      " context_embedding (Reshape)    (None, 300, 1)       0           ['embedding_layer[1][0]']        \n",
      "                                                                                                  \n",
      " cosine_similarity (Dot)        (None, 1, 1)         0           ['target_embedding[0][0]',       \n",
      "                                                                  'context_embedding[0][0]']      \n",
      "                                                                                                  \n",
      "==================================================================================================\n",
      "Total params: 18,262,800\n",
      "Trainable params: 18,262,800\n",
      "Non-trainable params: 0\n",
      "__________________________________________________________________________________________________\n"
     ]
    }
   ],
   "source": [
    "# Validation Model\n",
    "similarity = Dot(normalize=True, axes=1, name='cosine_similarity')([target, context])\n",
    "\n",
    "# create a secondary validation model to run our similarity checks during training\n",
    "validation_model = Model(inputs=[input_target, input_context], outputs=similarity)\n",
    "validation_model.summary()"
   ],
   "metadata": {
    "collapsed": false,
    "pycharm": {
     "name": "#%%\n"
    }
   }
  },
  {
   "cell_type": "code",
   "execution_count": 22,
   "outputs": [
    {
     "name": "stdout",
     "output_type": "stream",
     "text": [
      "KerasTensor(type_spec=TensorSpec(shape=(None, 1, 1), dtype=tf.float32, name=None), name='cosine_similarity/MatMul:0', description=\"created by layer 'cosine_similarity'\")\n"
     ]
    }
   ],
   "source": [
    "print(similarity)"
   ],
   "metadata": {
    "collapsed": false,
    "pycharm": {
     "name": "#%%\n"
    }
   }
  },
  {
   "cell_type": "code",
   "execution_count": 23,
   "outputs": [],
   "source": [
    "# Create Keras Callbacks\n",
    "\n",
    "# Nearest Neighors & Analogies\n",
    "test_set = analogies_id.dropna().astype(int)\n",
    "a, b, c, actual = test_set.values.T\n",
    "actual = actual.reshape(-1, 1)\n",
    "n_analogies = len(actual)\n",
    "\n",
    "class EvalCallback(Callback):\n",
    "\n",
    "    def on_train_begin(self, logs={}):\n",
    "        self.eval_nn()\n",
    "        self.test_analogies()\n",
    "\n",
    "    def on_train_end(self, logs={}):\n",
    "        self.eval_nn()\n",
    "\n",
    "    def on_epoch_end(self, batch, logs={}):\n",
    "        self.test_analogies()\n",
    "\n",
    "    @staticmethod\n",
    "    def test_analogies():\n",
    "        print('\\nAnalogy Accuracy:\\n\\t', end='')\n",
    "        embeddings = embedding.get_weights()[0]\n",
    "        target = embeddings[c] + embeddings[b] - embeddings[a]\n",
    "        neighbors = np.argsort(cdist(target, embeddings, metric='cosine'))\n",
    "        match_id = np.argwhere(neighbors == actual)[:, 1]\n",
    "        print('\\n\\t'.join(['Top {}: {:.2%}'.format(i, (match_id < i).sum() / n_analogies) for i in [1, 5, 10]]))\n",
    "\n",
    "    def eval_nn(self):\n",
    "        print('\\n{} Nearest Neighbors:'.format(NN))\n",
    "        for i in range(VALID_SET):\n",
    "            valid_id = valid_examples[i]\n",
    "            valid_word = id_to_token[valid_id]\n",
    "            similarity = self._get_similiarity(valid_id).reshape(-1)\n",
    "            nearest = (-similarity).argsort()[1:NN + 1]\n",
    "            neighbors = [id_to_token[nearest[n]] for n in range(NN)]\n",
    "            print('{}:\\t{}'.format(valid_word, ', '.join(neighbors)))\n",
    "\n",
    "    @staticmethod\n",
    "    def _get_similiarity(valid_word_idx):\n",
    "        target = np.full(shape=vocab_size, fill_value=valid_word_idx)\n",
    "        context = np.arange(vocab_size)\n",
    "        return validation_model.predict([target, context])\n",
    "\n",
    "\n",
    "evaluation = EvalCallback()"
   ],
   "metadata": {
    "collapsed": false,
    "pycharm": {
     "name": "#%%\n"
    }
   }
  },
  {
   "cell_type": "code",
   "execution_count": 24,
   "outputs": [],
   "source": [
    "# Tensorboard Callback\n",
    "tensorboard = TensorBoard(log_dir=str(tb_path), write_graph=True, embeddings_freq=1,\n",
    "                          embeddings_metadata={'embedding_layer': str(tb_path / 'meta.tsv')})"
   ],
   "metadata": {
    "collapsed": false,
    "pycharm": {
     "name": "#%%\n"
    }
   }
  },
  {
   "cell_type": "code",
   "execution_count": 25,
   "outputs": [
    {
     "name": "stdout",
     "output_type": "stream",
     "text": [
      "\n",
      "10 Nearest Neighbors:\n",
      "we:\tchinchillas, caught, materialize_prove_correct, conceptual, vivendi, hacienda, darya_korsunskaya, grace, rm, interconnection\n",
      "looking:\tscenery, dodged, notoriety, polling, editing_sam_holmes, arrives_downing, confirmatory, failed_adequately, autoadapt, scythian_biosciences_corp\n",
      "website:\tcpcu, dispensers, kan, insys_therapeutics, their, ezcorp, topics, lula_da_silva, quetta, rohingya\n",
      "assets:\tforescout, cereals, rebuilding, take_or, avx, construction, jm, proliferation_treaty, nameplate_political_consultancy, roblin\n",
      "april:\tprosecutes_class, fixtures, contact_robert_willoughby, hsn, worked_tirelessly, toys, virtual_coin, eric_auchard, outage, gender_equality\n",
      "adjusted:\tinsight_cnbc_contributors, blended, fries, digit, coyote, movement, vaca_muerta_shale, produces_sponsored, min, holds_bs\n",
      "months:\tknown_hon_hai, merger, integer, syntel, lifetime_achievement_award, dismayed, spreadsheets, unprofitable, momenta, channeling\n",
      "long:\tholy, women_channel_honorees, eased_somewhat, consistently_denied_wrongdoing, suffered_minor, ovarian_breast_cancer, programmatic_advertising, aytu, avangrid_renewables, global_headquarters_englewood\n",
      "chief:\tbuy, approve, milstein, fve, liviu_dragnea, probability, madeleine, logistic, sqm, succumbing\n",
      "people:\tbond_yields, crn_registered_trademark, alden, earthmoving, resist, volunteers, pronto, wind_down, jorge, lodged\n",
      "\n",
      "Analogy Accuracy:\n",
      "\tTop 1: 0.00%\n",
      "\tTop 5: 0.00%\n",
      "\tTop 10: 0.02%\n",
      "    3/26051 [..............................] - ETA: 51:04 - loss: 0.6932WARNING:tensorflow:Callback method `on_train_batch_end` is slow compared to the batch time (batch time: 0.0332s vs `on_train_batch_end` time: 0.0511s). Check your callbacks.\n",
      "26047/26051 [============================>.] - ETA: 0s - loss: 0.4971\n",
      "Analogy Accuracy:\n",
      "\tTop 1: 0.65%\n",
      "\tTop 5: 4.01%\n",
      "\tTop 10: 6.40%\n",
      "26051/26051 [==============================] - 620s 24ms/step - loss: 0.4971\n",
      "\n",
      "10 Nearest Neighbors:\n",
      "we:\tsucceed, i, welcome, researcher, role, scientist, hired, guy, worked, academy\n",
      "looking:\tforward, statements, publicly_update_revise, obligation_update, update_revise, implied_by, undertake_obligation_update_revise, disclaims_intention_obligation_update, qualified_cautionary, obligation_update_revise\n",
      "website:\tevents_presentations, available, presentation_slides, webcast, clicking, web_cast, accompanying_slide, webcasts, listen_only_mode, accessed\n",
      "assets:\taccretion, severance, depreciation, decrease, partially_offset_decrease, annualized, revenues, partially_offset, costs, plant_equipment\n",
      "april:\tfeb, jan, files, march, february, pm_updated_minutes, alexander, stockholm, lima, brief\n",
      "adjusted:\tebitda, income, ebitdax, eps, ffo, considered_alternative, net, computed_accordance, ebitdare, noncontrolling_interests\n",
      "months:\tending, rupees, settled, outflows, better_than, cent, consecutive, narrowed, trillion_won, pesos\n",
      "long:\tdeals, block, bigger, enjoyed, signal, stakes, having, puts, out, initially\n",
      "chief:\tceo, executive, vice, contact, officer, rosen, denise, chairman, president, larson\n",
      "people:\tmilitary, forces, killing, accused, attack, government, syrian, opposition, army, called\n"
     ]
    }
   ],
   "source": [
    "# Train Model\n",
    "loss = model.fit(x=[target_word, context_word], y=labels, shuffle=True, batch_size=BATCH_SIZE, epochs=EPOCHS,\n",
    "                 callbacks=[evaluation, tensorboard]) # uncomment if tensorboard bug is fixed\n",
    "                 # callbacks=[evaluation])"
   ],
   "metadata": {
    "collapsed": false,
    "pycharm": {
     "name": "#%%\n"
    }
   }
  },
  {
   "cell_type": "code",
   "execution_count": 26,
   "outputs": [],
   "source": [
    "model.save(str(results_path / 'skipgram_model.h5'))"
   ],
   "metadata": {
    "collapsed": false,
    "pycharm": {
     "name": "#%%\n"
    }
   }
  },
  {
   "cell_type": "code",
   "execution_count": 27,
   "outputs": [],
   "source": [
    "# Visualize Embeddings using Tensorboard\n",
    "%load_ext tensorboard"
   ],
   "metadata": {
    "collapsed": false,
    "pycharm": {
     "name": "#%%\n"
    }
   }
  },
  {
   "cell_type": "code",
   "execution_count": 28,
   "outputs": [
    {
     "data": {
      "text/plain": "Launching TensorBoard..."
     },
     "metadata": {},
     "output_type": "display_data"
    }
   ],
   "source": [
    "%tensorboard --logdir results/financial_news/tensorboard/train"
   ],
   "metadata": {
    "collapsed": false,
    "pycharm": {
     "name": "#%%\n"
    }
   }
  }
 ],
 "metadata": {
  "kernelspec": {
   "display_name": "Python 3",
   "language": "python",
   "name": "python3"
  },
  "language_info": {
   "codemirror_mode": {
    "name": "ipython",
    "version": 2
   },
   "file_extension": ".py",
   "mimetype": "text/x-python",
   "name": "python",
   "nbconvert_exporter": "python",
   "pygments_lexer": "ipython2",
   "version": "2.7.6"
  }
 },
 "nbformat": 4,
 "nbformat_minor": 0
}