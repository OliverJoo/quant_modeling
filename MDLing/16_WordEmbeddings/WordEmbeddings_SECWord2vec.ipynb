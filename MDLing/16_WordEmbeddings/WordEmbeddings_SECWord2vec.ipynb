{
 "cells": [
  {
   "cell_type": "code",
   "execution_count": 6,
   "metadata": {
    "collapsed": true,
    "pycharm": {
     "name": "#%%\n"
    }
   },
   "outputs": [],
   "source": [
    "import warnings\n",
    "warnings.filterwarnings('ignore')\n",
    "from pathlib import Path\n",
    "from time import time\n",
    "import logging\n",
    "\n",
    "import numpy as np\n",
    "import pandas as pd\n",
    "\n",
    "from gensim.models import Word2Vec, KeyedVectors\n",
    "from gensim.models.word2vec import LineSentence\n",
    "\n",
    "import matplotlib.pyplot as plt\n",
    "from matplotlib.ticker import FuncFormatter\n",
    "import seaborn as sns\n",
    "\n",
    "sns.set_style('white')\n",
    "np.random.seed(42)\n",
    "\n",
    "def format_time(t):\n",
    "    m, s = divmod(t, 60)\n",
    "    h, m = divmod(m, 60)\n",
    "    return f'{h:02.0f}:{m:02.0f}:{s:02.0f}'"
   ]
  },
  {
   "cell_type": "code",
   "execution_count": 7,
   "outputs": [],
   "source": [
    "sec_path = Path('data', 'sec-filings')\n",
    "ngram_path = sec_path / 'ngrams'\n",
    "results_path = Path('results', 'sec-filings')\n",
    "\n",
    "model_path = results_path / 'models'\n",
    "if not model_path.exists():\n",
    "    model_path.mkdir(parents=True)\n",
    "\n",
    "log_path = results_path / 'logs'\n",
    "if not log_path.exists():\n",
    "    log_path.mkdir(parents=True)\n",
    "\n",
    "logging.basicConfig(filename=log_path / 'word2vec.log', level=logging.DEBUG,\n",
    "    format='%(asctime)s - %(name)s - %(levelname)s - %(message)s', datefmt='%H:%M:%S')"
   ],
   "metadata": {
    "collapsed": false,
    "pycharm": {
     "name": "#%%\n"
    }
   }
  },
  {
   "cell_type": "code",
   "execution_count": 8,
   "outputs": [],
   "source": [
    "# word2vec\n",
    "analogies_path = Path('data', 'analogies-en.txt')"
   ],
   "metadata": {
    "collapsed": false,
    "pycharm": {
     "name": "#%%\n"
    }
   }
  },
  {
   "cell_type": "code",
   "execution_count": 9,
   "outputs": [],
   "source": [
    "# Set up Sentence Generator\n",
    "NGRAMS = 2\n",
    "\n",
    "sentence_path = ngram_path  / f'ngrams_{NGRAMS}.txt'\n",
    "sentences = LineSentence(sentence_path)"
   ],
   "metadata": {
    "collapsed": false,
    "pycharm": {
     "name": "#%%\n"
    }
   }
  },
  {
   "cell_type": "code",
   "execution_count": 10,
   "outputs": [
    {
     "name": "stdout",
     "output_type": "stream",
     "text": [
      "Duration: 00:26:21\n"
     ]
    }
   ],
   "source": [
    "# Train word2vec Model\n",
    "start = time()\n",
    "model = Word2Vec(sentences,\n",
    "                 sg=1,          # 1 for skip-gram; otherwise CBOW\n",
    "                 hs=0,          # hierarchical softmax if 1, negative sampling if 0\n",
    "                 vector_size=300,      # Vector dimensionality\n",
    "                 window=5,      # Max distance betw. current and predicted word\n",
    "                 min_count=50,  # Ignore words with lower frequency\n",
    "                 negative=15,    # noise word count for negative sampling\n",
    "                 workers=4,     # no threads\n",
    "                 epochs=1,        # no epochs = iterations over corpus\n",
    "                 alpha=0.05,   # initial learning rate\n",
    "                 min_alpha=0.0001 # final learning rate\n",
    "                )\n",
    "print('Duration:', format_time(time() - start))"
   ],
   "metadata": {
    "collapsed": false,
    "pycharm": {
     "name": "#%%\n"
    }
   }
  },
  {
   "cell_type": "code",
   "execution_count": 83,
   "outputs": [
    {
     "name": "stdout",
     "output_type": "stream",
     "text": [
      "[['million', 0, 2341139]]\n",
      "<class 'pandas.core.frame.DataFrame'>\n",
      "Int64Index: 57661 entries, 0 to 57660\n",
      "Data columns (total 3 columns):\n",
      " #   Column  Non-Null Count  Dtype \n",
      "---  ------  --------------  ----- \n",
      " 0   token   57661 non-null  object\n",
      " 1   idx     57661 non-null  int64 \n",
      " 2   count   57661 non-null  int64 \n",
      "dtypes: int64(2), object(1)\n",
      "memory usage: 1.8+ MB\n"
     ]
    }
   ],
   "source": [
    "# ersist model & vectors\n",
    "model.save((model_path / 'word2vec_0.model').as_posix())\n",
    "model.wv.save((model_path / 'word_vectors_0.bin').as_posix())\n",
    "\n",
    "# Load model and vectors\n",
    "model = Word2Vec.load((model_path / 'word2vec_0.model').as_posix())\n",
    "wv = KeyedVectors.load((model_path / 'word_vectors_0.bin').as_posix())\n",
    "\n",
    "# Get vocabulary\n",
    "# code usage has been updated at gensim version over 4.0\n",
    "vocab = []\n",
    "for k, v in model.wv.key_to_index.items():\n",
    "    # be aware of different word btw get_vector() & get_vecattr()\n",
    "    vocab.append([k, v, model.wv.get_vecattr(k, \"count\")])\n",
    "\n",
    "# gensim usage for below 4.0\n",
    "# for k, _ in model.wv.vocab.items():\n",
    "#     v_ = model.wv.vocab[k]\n",
    "#     vocab.append([k, v_.index, v_.count])\n",
    "\n",
    "vocab = (pd.DataFrame(vocab, columns=['token', 'idx', 'count']).sort_values('count', ascending=False))\n",
    "vocab.info()"
   ],
   "metadata": {
    "collapsed": false,
    "pycharm": {
     "name": "#%%\n"
    }
   }
  },
  {
   "cell_type": "code",
   "execution_count": 84,
   "outputs": [
    {
     "data": {
      "text/plain": "       token  idx    count\n0    million    0  2341139\n1   business    1  1702656\n2   december    2  1519278\n3    company    3  1491442\n4   products    4  1368864\n5        net    5  1254712\n6     market    6  1149272\n7  including    7  1109873\n8      sales    8  1099668\n9      costs    9  1020150",
      "text/html": "<div>\n<style scoped>\n    .dataframe tbody tr th:only-of-type {\n        vertical-align: middle;\n    }\n\n    .dataframe tbody tr th {\n        vertical-align: top;\n    }\n\n    .dataframe thead th {\n        text-align: right;\n    }\n</style>\n<table border=\"1\" class=\"dataframe\">\n  <thead>\n    <tr style=\"text-align: right;\">\n      <th></th>\n      <th>token</th>\n      <th>idx</th>\n      <th>count</th>\n    </tr>\n  </thead>\n  <tbody>\n    <tr>\n      <th>0</th>\n      <td>million</td>\n      <td>0</td>\n      <td>2341139</td>\n    </tr>\n    <tr>\n      <th>1</th>\n      <td>business</td>\n      <td>1</td>\n      <td>1702656</td>\n    </tr>\n    <tr>\n      <th>2</th>\n      <td>december</td>\n      <td>2</td>\n      <td>1519278</td>\n    </tr>\n    <tr>\n      <th>3</th>\n      <td>company</td>\n      <td>3</td>\n      <td>1491442</td>\n    </tr>\n    <tr>\n      <th>4</th>\n      <td>products</td>\n      <td>4</td>\n      <td>1368864</td>\n    </tr>\n    <tr>\n      <th>5</th>\n      <td>net</td>\n      <td>5</td>\n      <td>1254712</td>\n    </tr>\n    <tr>\n      <th>6</th>\n      <td>market</td>\n      <td>6</td>\n      <td>1149272</td>\n    </tr>\n    <tr>\n      <th>7</th>\n      <td>including</td>\n      <td>7</td>\n      <td>1109873</td>\n    </tr>\n    <tr>\n      <th>8</th>\n      <td>sales</td>\n      <td>8</td>\n      <td>1099668</td>\n    </tr>\n    <tr>\n      <th>9</th>\n      <td>costs</td>\n      <td>9</td>\n      <td>1020150</td>\n    </tr>\n  </tbody>\n</table>\n</div>"
     },
     "execution_count": 84,
     "metadata": {},
     "output_type": "execute_result"
    }
   ],
   "source": [
    "vocab.head(10)"
   ],
   "metadata": {
    "collapsed": false,
    "pycharm": {
     "name": "#%%\n"
    }
   }
  },
  {
   "cell_type": "code",
   "execution_count": 85,
   "outputs": [
    {
     "data": {
      "text/plain": "count      57661\nmean        4515\nstd        35183\nmin           50\n10%           60\n20%           75\n30%           96\n40%          127\n50%          175\n60%          262\n70%          440\n80%          942\n90%         3657\nmax      2341139\nName: count, dtype: int32"
     },
     "execution_count": 85,
     "metadata": {},
     "output_type": "execute_result"
    }
   ],
   "source": [
    "vocab['count'].describe(percentiles=np.arange(.1, 1, .1)).astype(int)"
   ],
   "metadata": {
    "collapsed": false,
    "pycharm": {
     "name": "#%%\n"
    }
   }
  },
  {
   "cell_type": "code",
   "execution_count": 88,
   "outputs": [
    {
     "name": "stdout",
     "output_type": "stream",
     "text": [
      "                       category  correct  incorrect   average\n",
      "10  gram6-nationality-adjective      477        645  0.425134\n",
      "12                 gram8-plural      263        667  0.282796\n",
      "7             gram3-comparative      280        842  0.249554\n",
      "9      gram5-present-participle      137        415  0.248188\n",
      "2                 city-in-state      993       3249  0.234088\n",
      "14               Total accuracy     2529       8817  0.222898\n",
      "13           gram9-plural-verbs       83        297  0.218421\n",
      "5     gram1-adjective-to-adverb       64        356  0.152381\n",
      "6                gram2-opposite       46        296  0.134503\n",
      "11             gram7-past-tense      102        768  0.117241\n",
      "8             gram4-superlative       44        462  0.086957\n",
      "0      capital-common-countries       18        222  0.075000\n",
      "4                        family        4         68  0.055556\n",
      "1                 capital-world       12        330  0.035088\n",
      "3                      currency        6        200  0.029126\n"
     ]
    }
   ],
   "source": [
    "# Evaluate Analogies\n",
    "def accuracy_by_category(acc, detail=True):\n",
    "    results = [[c['section'], len(c['correct']), len(c['incorrect'])] for c in acc]\n",
    "    results = pd.DataFrame(results, columns=['category', 'correct', 'incorrect'])\n",
    "    results['average'] = results.correct.div(results[['correct', 'incorrect']].sum(1))\n",
    "    if detail:\n",
    "        print(results.sort_values('average', ascending=False))\n",
    "    return results.loc[results.category=='Total accuracy', ['correct', 'incorrect', 'average']].squeeze().tolist()\n",
    "\n",
    "score, detailed_accuracy = model.wv.evaluate_word_analogies(analogies_path.as_posix(), case_insensitive=True)\n",
    "summary = accuracy_by_category(detailed_accuracy)"
   ],
   "metadata": {
    "collapsed": false,
    "pycharm": {
     "name": "#%%\n"
    }
   }
  },
  {
   "cell_type": "code",
   "execution_count": 89,
   "outputs": [
    {
     "data": {
      "text/plain": "                       category  correct  incorrect   average\n0      capital-common-countries        2         10  0.166667\n1                 capital-world        0          0       NaN\n2                 city-in-state      250        474  0.345304\n3                      currency        2         50  0.038462\n4                        family        0          0       NaN\n5     gram1-adjective-to-adverb       45        165  0.214286\n6                gram2-opposite       19         71  0.211111\n7             gram3-comparative      238        362  0.396667\n8             gram4-superlative       19         71  0.211111\n9      gram5-present-participle      107        199  0.349673\n10  gram6-nationality-adjective      292        170  0.632035\n11             gram7-past-tense       86        376  0.186147\n12                 gram8-plural      106         76  0.582418\n13           gram9-plural-verbs       68        142  0.323810\n14               Total accuracy     1234       2166  0.362941",
      "text/html": "<div>\n<style scoped>\n    .dataframe tbody tr th:only-of-type {\n        vertical-align: middle;\n    }\n\n    .dataframe tbody tr th {\n        vertical-align: top;\n    }\n\n    .dataframe thead th {\n        text-align: right;\n    }\n</style>\n<table border=\"1\" class=\"dataframe\">\n  <thead>\n    <tr style=\"text-align: right;\">\n      <th></th>\n      <th>category</th>\n      <th>correct</th>\n      <th>incorrect</th>\n      <th>average</th>\n    </tr>\n  </thead>\n  <tbody>\n    <tr>\n      <th>0</th>\n      <td>capital-common-countries</td>\n      <td>2</td>\n      <td>10</td>\n      <td>0.166667</td>\n    </tr>\n    <tr>\n      <th>1</th>\n      <td>capital-world</td>\n      <td>0</td>\n      <td>0</td>\n      <td>NaN</td>\n    </tr>\n    <tr>\n      <th>2</th>\n      <td>city-in-state</td>\n      <td>250</td>\n      <td>474</td>\n      <td>0.345304</td>\n    </tr>\n    <tr>\n      <th>3</th>\n      <td>currency</td>\n      <td>2</td>\n      <td>50</td>\n      <td>0.038462</td>\n    </tr>\n    <tr>\n      <th>4</th>\n      <td>family</td>\n      <td>0</td>\n      <td>0</td>\n      <td>NaN</td>\n    </tr>\n    <tr>\n      <th>5</th>\n      <td>gram1-adjective-to-adverb</td>\n      <td>45</td>\n      <td>165</td>\n      <td>0.214286</td>\n    </tr>\n    <tr>\n      <th>6</th>\n      <td>gram2-opposite</td>\n      <td>19</td>\n      <td>71</td>\n      <td>0.211111</td>\n    </tr>\n    <tr>\n      <th>7</th>\n      <td>gram3-comparative</td>\n      <td>238</td>\n      <td>362</td>\n      <td>0.396667</td>\n    </tr>\n    <tr>\n      <th>8</th>\n      <td>gram4-superlative</td>\n      <td>19</td>\n      <td>71</td>\n      <td>0.211111</td>\n    </tr>\n    <tr>\n      <th>9</th>\n      <td>gram5-present-participle</td>\n      <td>107</td>\n      <td>199</td>\n      <td>0.349673</td>\n    </tr>\n    <tr>\n      <th>10</th>\n      <td>gram6-nationality-adjective</td>\n      <td>292</td>\n      <td>170</td>\n      <td>0.632035</td>\n    </tr>\n    <tr>\n      <th>11</th>\n      <td>gram7-past-tense</td>\n      <td>86</td>\n      <td>376</td>\n      <td>0.186147</td>\n    </tr>\n    <tr>\n      <th>12</th>\n      <td>gram8-plural</td>\n      <td>106</td>\n      <td>76</td>\n      <td>0.582418</td>\n    </tr>\n    <tr>\n      <th>13</th>\n      <td>gram9-plural-verbs</td>\n      <td>68</td>\n      <td>142</td>\n      <td>0.323810</td>\n    </tr>\n    <tr>\n      <th>14</th>\n      <td>Total accuracy</td>\n      <td>1234</td>\n      <td>2166</td>\n      <td>0.362941</td>\n    </tr>\n  </tbody>\n</table>\n</div>"
     },
     "execution_count": 89,
     "metadata": {},
     "output_type": "execute_result"
    }
   ],
   "source": [
    "def eval_analogies(w2v, max_vocab=15000):\n",
    "    score, accuracy = w2v.wv.evaluate_word_analogies(analogies_path, restrict_vocab=15000,\n",
    "                               case_insensitive=True)\n",
    "    return (pd.DataFrame([[c['section'], len(c['correct']), len(c['incorrect'])] for c in accuracy],\n",
    "                      columns=['category', 'correct', 'incorrect'])\n",
    "          .assign(average=lambda x: x.correct.div(x.correct.add(x.incorrect))))\n",
    "\n",
    "def total_accuracy(w2v):\n",
    "    df = eval_analogies(w2v)\n",
    "    return df.loc[df.category == 'Total accuracy', ['correct', 'incorrect', 'average']].squeeze().tolist()\n",
    "accuracy = eval_analogies(model)\n",
    "accuracy"
   ],
   "metadata": {
    "collapsed": false,
    "pycharm": {
     "name": "#%%\n"
    }
   }
  },
  {
   "cell_type": "code",
   "execution_count": 90,
   "outputs": [
    {
     "name": "stdout",
     "output_type": "stream",
     "text": [
      "                  term  similarity\n",
      "0                 ipad    0.708613\n",
      "1              android    0.654367\n",
      "2                  app    0.615558\n",
      "3          smartphones    0.604784\n",
      "4           smartphone    0.598609\n",
      "5  smartphones_tablets    0.556871\n",
      "6       mobile_devices    0.546527\n",
      "7         smart_phones    0.540127\n",
      "8          smart_phone    0.539178\n",
      "9             keyboard    0.535181\n"
     ]
    }
   ],
   "source": [
    "# Validate Vector Arithmetic\n",
    "sims=model.wv.most_similar(positive=['iphone'], restrict_vocab=15000)\n",
    "print(pd.DataFrame(sims, columns=['term', 'similarity']))"
   ],
   "metadata": {
    "collapsed": false,
    "pycharm": {
     "name": "#%%\n"
    }
   }
  },
  {
   "cell_type": "code",
   "execution_count": 91,
   "outputs": [
    {
     "name": "stdout",
     "output_type": "stream",
     "text": [
      "             term  similarity\n",
      "0         germany    0.580225\n",
      "1  united_kingdom    0.556751\n",
      "2  germany_france    0.520393\n",
      "3          poland    0.510427\n",
      "4         belgium    0.505797\n",
      "5     netherlands    0.505068\n",
      "6       australia    0.503371\n",
      "7  czech_republic    0.496944\n",
      "8          sweden    0.493358\n",
      "9         austria    0.491993\n"
     ]
    }
   ],
   "source": [
    "analogy = model.wv.most_similar(positive=['france', 'london'], negative=['paris'], restrict_vocab=15000)\n",
    "print(pd.DataFrame(analogy, columns=['term', 'similarity']))"
   ],
   "metadata": {
    "collapsed": false,
    "pycharm": {
     "name": "#%%\n"
    }
   }
  },
  {
   "cell_type": "code",
   "execution_count": 92,
   "outputs": [
    {
     "data": {
      "text/plain": "         addition           information            credit    table_contents  \\\n0    additionally                  data  revolving_credit          addition   \n1     furthermore               details              omfh      additionally   \n2         example    stored_transmitted         revolving      baylake_corp   \n3  table_contents       inference_drawn           lenders          december   \n4         finally            nformation   credit_facility  stag_predecessor   \n5       including            disclosure    sublimit_swing                 s   \n6          result             disclosed              loan       premierwest   \n7       similarly         annual_report         borrowing          included   \n8      connection            discussion           lending         following   \n9     accordingly  transmitting_storing         standings         including   \n\n              activities  \n0               activity  \n1             operations  \n2   investing_activities  \n3   financing_activities  \n4              investing  \n5              activites  \n6                efforts  \n7  adjustments_reconcile  \n8                   fhcs  \n9                 engage  ",
      "text/html": "<div>\n<style scoped>\n    .dataframe tbody tr th:only-of-type {\n        vertical-align: middle;\n    }\n\n    .dataframe tbody tr th {\n        vertical-align: top;\n    }\n\n    .dataframe thead th {\n        text-align: right;\n    }\n</style>\n<table border=\"1\" class=\"dataframe\">\n  <thead>\n    <tr style=\"text-align: right;\">\n      <th></th>\n      <th>addition</th>\n      <th>information</th>\n      <th>credit</th>\n      <th>table_contents</th>\n      <th>activities</th>\n    </tr>\n  </thead>\n  <tbody>\n    <tr>\n      <th>0</th>\n      <td>additionally</td>\n      <td>data</td>\n      <td>revolving_credit</td>\n      <td>addition</td>\n      <td>activity</td>\n    </tr>\n    <tr>\n      <th>1</th>\n      <td>furthermore</td>\n      <td>details</td>\n      <td>omfh</td>\n      <td>additionally</td>\n      <td>operations</td>\n    </tr>\n    <tr>\n      <th>2</th>\n      <td>example</td>\n      <td>stored_transmitted</td>\n      <td>revolving</td>\n      <td>baylake_corp</td>\n      <td>investing_activities</td>\n    </tr>\n    <tr>\n      <th>3</th>\n      <td>table_contents</td>\n      <td>inference_drawn</td>\n      <td>lenders</td>\n      <td>december</td>\n      <td>financing_activities</td>\n    </tr>\n    <tr>\n      <th>4</th>\n      <td>finally</td>\n      <td>nformation</td>\n      <td>credit_facility</td>\n      <td>stag_predecessor</td>\n      <td>investing</td>\n    </tr>\n    <tr>\n      <th>5</th>\n      <td>including</td>\n      <td>disclosure</td>\n      <td>sublimit_swing</td>\n      <td>s</td>\n      <td>activites</td>\n    </tr>\n    <tr>\n      <th>6</th>\n      <td>result</td>\n      <td>disclosed</td>\n      <td>loan</td>\n      <td>premierwest</td>\n      <td>efforts</td>\n    </tr>\n    <tr>\n      <th>7</th>\n      <td>similarly</td>\n      <td>annual_report</td>\n      <td>borrowing</td>\n      <td>included</td>\n      <td>adjustments_reconcile</td>\n    </tr>\n    <tr>\n      <th>8</th>\n      <td>connection</td>\n      <td>discussion</td>\n      <td>lending</td>\n      <td>following</td>\n      <td>fhcs</td>\n    </tr>\n    <tr>\n      <th>9</th>\n      <td>accordingly</td>\n      <td>transmitting_storing</td>\n      <td>standings</td>\n      <td>including</td>\n      <td>engage</td>\n    </tr>\n  </tbody>\n</table>\n</div>"
     },
     "execution_count": 92,
     "metadata": {},
     "output_type": "execute_result"
    }
   ],
   "source": [
    "# Check similarity for random words\n",
    "VALID_SET = 5  # Random set of words to get nearest neighbors for\n",
    "VALID_WINDOW = 100  # Most frequent words to draw validation set from\n",
    "valid_examples = np.random.choice(VALID_WINDOW, size=VALID_SET, replace=False)\n",
    "similars = pd.DataFrame()\n",
    "\n",
    "for id in sorted(valid_examples):\n",
    "    word = vocab.loc[id, 'token']\n",
    "    similars[word] = [s[0] for s in model.wv.most_similar(word)]\n",
    "\n",
    "similars"
   ],
   "metadata": {
    "collapsed": false,
    "pycharm": {
     "name": "#%%\n"
    }
   }
  },
  {
   "cell_type": "code",
   "execution_count": 94,
   "outputs": [
    {
     "name": "stdout",
     "output_type": "stream",
     "text": [
      "01 | Duration: 00:25:03 | Accuracy: 29.04% \n",
      "02 | Duration: 00:23:18 | Accuracy: 29.46% \n",
      "03 | Duration: 00:23:04 | Accuracy: 29.61% \n",
      "04 | Duration: 00:22:57 | Accuracy: 30.04% \n",
      "05 | Duration: 00:23:17 | Accuracy: 30.04% \n",
      "06 | Duration: 00:22:48 | Accuracy: 30.23% \n",
      "07 | Duration: 00:22:19 | Accuracy: 29.22% \n",
      "08 | Duration: 00:22:19 | Accuracy: 30.34% \n",
      "09 | Duration: 00:22:45 | Accuracy: 30.29% \n",
      "10 | Duration: 00:22:42 | Accuracy: 30.78% \n",
      "11 | Duration: 00:22:48 | Accuracy: 30.05% \n",
      "12 | Duration: 00:22:31 | Accuracy: 30.81% \n",
      "13 | Duration: 00:22:41 | Accuracy: 30.53% \n",
      "14 | Duration: 00:23:42 | Accuracy: 29.90% \n"
     ]
    }
   ],
   "source": [
    "# Continue Training\n",
    "accuracies = [summary]\n",
    "best_accuracy = summary[-1]\n",
    "for i in range(1, 15):\n",
    "    start = time()\n",
    "    model.train(sentences, epochs=1, total_examples=model.corpus_count)\n",
    "    score, detailed_accuracy = model.wv.evaluate_word_analogies(analogies_path)\n",
    "    accuracies.append(accuracy_by_category(detailed_accuracy, detail=False))\n",
    "    print(f'{i:02} | Duration: {format_time(time() - start)} | Accuracy: {accuracies[-1][-1]:.2%} ')\n",
    "    if accuracies[-1][-1] > best_accuracy:\n",
    "        model.save((model_path / f'word2vec_{i:02}.model').as_posix())\n",
    "        model.wv.save((model_path / f'word_vectors_{i:02}.bin').as_posix())\n",
    "        best_accuracy = accuracies[-1][-1]\n",
    "\n",
    "    (pd.DataFrame(accuracies, columns=['correct', 'wrong', 'average'])\n",
    "     .to_csv(model_path / 'accuracies.csv', index=False))\n",
    "\n",
    "model.wv.save((model_path / 'word_vectors_final.bin').as_posix())"
   ],
   "metadata": {
    "collapsed": false,
    "pycharm": {
     "name": "#%%\n"
    }
   }
  },
  {
   "cell_type": "code",
   "execution_count": 97,
   "outputs": [
    {
     "name": "stdout",
     "output_type": "stream",
     "text": [
      "                       category  correct  incorrect   average\n",
      "10  gram6-nationality-adjective      592        530  0.527629\n",
      "2                 city-in-state     1590       2652  0.374823\n",
      "12                 gram8-plural      335        595  0.360215\n",
      "9      gram5-present-participle      171        381  0.309783\n",
      "14               Total accuracy     3496       7850  0.308126\n",
      "7             gram3-comparative      334        788  0.297683\n",
      "13           gram9-plural-verbs       90        290  0.236842\n",
      "5     gram1-adjective-to-adverb       75        345  0.178571\n",
      "0      capital-common-countries       39        201  0.162500\n",
      "11             gram7-past-tense      132        738  0.151724\n",
      "6                gram2-opposite       51        291  0.149123\n",
      "1                 capital-world       42        300  0.122807\n",
      "8             gram4-superlative       37        469  0.073123\n",
      "4                        family        3         69  0.041667\n",
      "3                      currency        5        201  0.024272\n",
      "Base Accuracy: Correct 3,496 | Wrong 7,850 | Avg 30.81%\n",
      "\n"
     ]
    }
   ],
   "source": [
    "# Sample Output\n",
    "(pd.DataFrame(accuracies, columns=['correct', 'wrong', 'average'])\n",
    " .to_csv(results_path / 'accuracies.csv', index=False))\n",
    "best_model = Word2Vec.load((results_path / 'models/word2vec_12.model').as_posix())\n",
    "score, detailed_accuracy = best_model.wv.evaluate_word_analogies(analogies_path.as_posix(), case_insensitive=True)\n",
    "summary = accuracy_by_category(detailed_accuracy)\n",
    "print('Base Accuracy: Correct {:,.0f} | Wrong {:,.0f} | Avg {:,.2%}\\n'.format(*summary))"
   ],
   "metadata": {
    "collapsed": false,
    "pycharm": {
     "name": "#%%\n"
    }
   }
  },
  {
   "cell_type": "code",
   "execution_count": 102,
   "outputs": [],
   "source": [
    "cat_dict = {'capital-common-countries':'Capitals',\n",
    "            'capital-world':'Capitals RoW',\n",
    "            'city-in-state':'City-State',\n",
    "            'currency':'Currency',\n",
    "            'family':'Famliy',\n",
    "            'gram1-adjective-to-adverb':'Adj-Adverb',\n",
    "            'gram2-opposite':'Opposite',\n",
    "            'gram3-comparative':'Comparative',\n",
    "            'gram4-superlative':'Superlative',\n",
    "            'gram5-present-participle':'Pres. Part.',\n",
    "            'gram6-nationality-adjective':'Natisonality',\n",
    "            'gram7-past-tense':'Past Tense',\n",
    "            'gram8-plural':'Plural',\n",
    "            'gram9-plural-verbs':'Plural Verbs',\n",
    "            'Total accuracy':'Total accuracy'}"
   ],
   "metadata": {
    "collapsed": false,
    "pycharm": {
     "name": "#%%\n"
    }
   }
  },
  {
   "cell_type": "code",
   "execution_count": 103,
   "outputs": [],
   "source": [
    "results = [[c['section'], len(c['correct']), len(c['incorrect'])] for c in detailed_accuracy]\n",
    "results = pd.DataFrame(results, columns=['category', 'correct', 'incorrect'])\n",
    "results['category'] = results.category.map(cat_dict)\n",
    "results['average'] = results.correct.div(results[['correct', 'incorrect']].sum(1))\n",
    "results = results.rename(columns=str.capitalize).set_index('Category')\n",
    "total = results.loc['Total accuracy']\n",
    "results = results.drop('Total accuracy')"
   ],
   "metadata": {
    "collapsed": false,
    "pycharm": {
     "name": "#%%\n"
    }
   }
  },
  {
   "cell_type": "code",
   "execution_count": 107,
   "outputs": [
    {
     "data": {
      "text/plain": "Correct      3496.000000\nIncorrect    7850.000000\nAverage         0.308126\nName: Total accuracy, dtype: float64"
     },
     "execution_count": 107,
     "metadata": {},
     "output_type": "execute_result"
    }
   ],
   "source": [
    "total"
   ],
   "metadata": {
    "collapsed": false,
    "pycharm": {
     "name": "#%%\n"
    }
   }
  },
  {
   "cell_type": "code",
   "execution_count": 104,
   "outputs": [
    {
     "data": {
      "text/plain": "        token  similarity\n0       women    0.391287\n1    spalding    0.372898\n2        kids    0.368618\n3     st_mary    0.362969\n4    magazine    0.340280\n5     college    0.338167\n6      female    0.337399\n7    michelle    0.333034\n8        love    0.327213\n9        baby    0.327128\n10     pierce    0.322278\n11   toddlers    0.321581\n12      stern    0.321487\n13      girls    0.321292\n14     yakima    0.320938\n15   bellevue    0.317208\n16        men    0.316409\n17    jackson    0.316301\n18  kennewick    0.315017\n19      clark    0.313924",
      "text/html": "<div>\n<style scoped>\n    .dataframe tbody tr th:only-of-type {\n        vertical-align: middle;\n    }\n\n    .dataframe tbody tr th {\n        vertical-align: top;\n    }\n\n    .dataframe thead th {\n        text-align: right;\n    }\n</style>\n<table border=\"1\" class=\"dataframe\">\n  <thead>\n    <tr style=\"text-align: right;\">\n      <th></th>\n      <th>token</th>\n      <th>similarity</th>\n    </tr>\n  </thead>\n  <tbody>\n    <tr>\n      <th>0</th>\n      <td>women</td>\n      <td>0.391287</td>\n    </tr>\n    <tr>\n      <th>1</th>\n      <td>spalding</td>\n      <td>0.372898</td>\n    </tr>\n    <tr>\n      <th>2</th>\n      <td>kids</td>\n      <td>0.368618</td>\n    </tr>\n    <tr>\n      <th>3</th>\n      <td>st_mary</td>\n      <td>0.362969</td>\n    </tr>\n    <tr>\n      <th>4</th>\n      <td>magazine</td>\n      <td>0.340280</td>\n    </tr>\n    <tr>\n      <th>5</th>\n      <td>college</td>\n      <td>0.338167</td>\n    </tr>\n    <tr>\n      <th>6</th>\n      <td>female</td>\n      <td>0.337399</td>\n    </tr>\n    <tr>\n      <th>7</th>\n      <td>michelle</td>\n      <td>0.333034</td>\n    </tr>\n    <tr>\n      <th>8</th>\n      <td>love</td>\n      <td>0.327213</td>\n    </tr>\n    <tr>\n      <th>9</th>\n      <td>baby</td>\n      <td>0.327128</td>\n    </tr>\n    <tr>\n      <th>10</th>\n      <td>pierce</td>\n      <td>0.322278</td>\n    </tr>\n    <tr>\n      <th>11</th>\n      <td>toddlers</td>\n      <td>0.321581</td>\n    </tr>\n    <tr>\n      <th>12</th>\n      <td>stern</td>\n      <td>0.321487</td>\n    </tr>\n    <tr>\n      <th>13</th>\n      <td>girls</td>\n      <td>0.321292</td>\n    </tr>\n    <tr>\n      <th>14</th>\n      <td>yakima</td>\n      <td>0.320938</td>\n    </tr>\n    <tr>\n      <th>15</th>\n      <td>bellevue</td>\n      <td>0.317208</td>\n    </tr>\n    <tr>\n      <th>16</th>\n      <td>men</td>\n      <td>0.316409</td>\n    </tr>\n    <tr>\n      <th>17</th>\n      <td>jackson</td>\n      <td>0.316301</td>\n    </tr>\n    <tr>\n      <th>18</th>\n      <td>kennewick</td>\n      <td>0.315017</td>\n    </tr>\n    <tr>\n      <th>19</th>\n      <td>clark</td>\n      <td>0.313924</td>\n    </tr>\n  </tbody>\n</table>\n</div>"
     },
     "execution_count": 104,
     "metadata": {},
     "output_type": "execute_result"
    }
   ],
   "source": [
    "most_sim = best_model.wv.most_similar(positive=['woman', 'king'], negative=['man'], topn=20)\n",
    "pd.DataFrame(most_sim, columns=['token', 'similarity'])"
   ],
   "metadata": {
    "collapsed": false,
    "pycharm": {
     "name": "#%%\n"
    }
   }
  },
  {
   "cell_type": "code",
   "execution_count": 105,
   "outputs": [
    {
     "data": {
      "text/plain": "<Figure size 1152x720 with 3 Axes>",
      "image/png": "[encoded data removed]"
     },
     "metadata": {
      "needs_background": "light"
     },
     "output_type": "display_data"
    }
   ],
   "source": [
    "fig, axes = plt.subplots(figsize=(16, 10), ncols=2)\n",
    "\n",
    "axes[0] = results.loc[:, ['Correct', 'Incorrect']].plot.bar(stacked=True, ax=axes[0] , title='Analogy Accuracy')\n",
    "ax1 = results.loc[:, ['Average']].plot(ax=axes[0], secondary_y=True, lw=1, c='k', rot=35)\n",
    "ax1.yaxis.set_major_formatter(FuncFormatter(lambda y, _: '{:.0%}'.format(y)))\n",
    "\n",
    "(pd.DataFrame(most_sim, columns=['token', 'similarity']).set_index('token').similarity\n",
    " .sort_values().tail(10).plot.barh(xlim=(.3, .37), ax=axes[1], title='Closest matches for Woman + King - Man'))\n",
    "\n",
    "fig.tight_layout();"
   ],
   "metadata": {
    "collapsed": false,
    "pycharm": {
     "name": "#%%\n"
    }
   }
  }
 ],
 "metadata": {
  "kernelspec": {
   "display_name": "Python 3",
   "language": "python",
   "name": "python3"
  },
  "language_info": {
   "codemirror_mode": {
    "name": "ipython",
    "version": 2
   },
   "file_extension": ".py",
   "mimetype": "text/x-python",
   "name": "python",
   "nbconvert_exporter": "python",
   "pygments_lexer": "ipython2",
   "version": "2.7.6"
  }
 },
 "nbformat": 4,
 "nbformat_minor": 0
}