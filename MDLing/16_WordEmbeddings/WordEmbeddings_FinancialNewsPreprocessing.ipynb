{
 "cells": [
  {
   "cell_type": "code",
   "execution_count": 1,
   "metadata": {
    "collapsed": true,
    "pycharm": {
     "name": "#%%\n"
    }
   },
   "outputs": [
    {
     "name": "stderr",
     "output_type": "stream",
     "text": [
      "C:\\Users\\19498\\AppData\\Local\\Temp\\ipykernel_3932\\3049755264.py:28: FutureWarning: The squeeze argument has been deprecated and will be removed in a future version. Append .squeeze(\"columns\") to the call to squeeze.\n",
      "\n",
      "\n",
      "  stop_words = set(pd.read_csv('http://ir.dcs.gla.ac.uk/resources/linguistic_utils/stop_words', header=None,\n"
     ]
    }
   ],
   "source": [
    "# Financial News - Preprocessing for word2vec\n",
    "import os, tarfile, sys, json\n",
    "from pathlib import Path\n",
    "from time import time\n",
    "from pprint import pprint\n",
    "from collections import Counter\n",
    "\n",
    "import numpy as np\n",
    "from numpy.random import choice\n",
    "import pandas as pd\n",
    "import seaborn as sns\n",
    "\n",
    "import spacy\n",
    "from spacy.lang.en import English\n",
    "\n",
    "from gensim.models.word2vec import LineSentence\n",
    "from gensim.models.phrases import Phrases, Phraser\n",
    "\n",
    "pd.set_option('float_format', '{:,.2f}'.format)\n",
    "sns.set_style('white')\n",
    "np.random.seed(42)\n",
    "\n",
    "def format_time(t):\n",
    "    m, s = divmod(t, 60)\n",
    "    h, m = divmod(m, 60)\n",
    "    return '{:02.0f}:{:02.0f}:{:02.0f}'.format(h, m, s)\n",
    "\n",
    "stop_words = set(pd.read_csv('http://ir.dcs.gla.ac.uk/resources/linguistic_utils/stop_words', header=None,\n",
    "                             squeeze=True).tolist())"
   ]
  },
  {
   "cell_type": "code",
   "execution_count": 2,
   "outputs": [],
   "source": [
    "data_path = Path('data', 'us-financial-news')\n",
    "results_path = Path('results', 'financial_news')\n",
    "if not results_path.exists():\n",
    "    results_path.mkdir(exist_ok=True)\n",
    "\n",
    "article_path = results_path / 'articles.txt'\n",
    "clean_article_path = results_path / 'articles_clean.txt'"
   ],
   "metadata": {
    "collapsed": false,
    "pycharm": {
     "name": "#%%\n"
    }
   }
  },
  {
   "cell_type": "code",
   "execution_count": 3,
   "outputs": [],
   "source": [
    "# Load Data\n",
    "section_titles = ['Press Releases - CNBC', 'Reuters: Company News', 'Reuters: World News',\n",
    "                  'Reuters: Business News', 'Reuters: Financial Services and Real Estate',\n",
    "                  'Top News and Analysis (pro)', 'Reuters: Top News',\n",
    "                  'The Wall Street Journal &amp; Breaking News, Business, Financial and Economic News, World News and Video',\n",
    "                  'Business &amp; Financial News, U.S &amp; International Breaking News | Reuters',\n",
    "                  'Reuters: Money News', 'Reuters: Technology News']"
   ],
   "metadata": {
    "collapsed": false,
    "pycharm": {
     "name": "#%%\n"
    }
   }
  },
  {
   "cell_type": "code",
   "execution_count": 5,
   "outputs": [
    {
     "name": "stdout",
     "output_type": "stream",
     "text": [
      "Done loading 125,964 articles in 00:18:12\n"
     ]
    }
   ],
   "source": [
    "articles = []\n",
    "counter = Counter()\n",
    "start = time()\n",
    "for f in data_path.glob('*/**/*.json'):\n",
    "    # print(f)\n",
    "    article = json.load(open(f, 'rt', encoding='UTF8'))\n",
    "    if article['thread']['section_title'] in set(section_titles):\n",
    "        text = article['text'].lower().split()\n",
    "        counter.update(text)\n",
    "        articles.append(' '.join([t for t in text if t not in stop_words]))\n",
    "\n",
    "print(f'Done loading {len(articles):,.0f} articles in {format_time(time()-start)}')"
   ],
   "metadata": {
    "collapsed": false,
    "pycharm": {
     "name": "#%%\n"
    }
   }
  },
  {
   "cell_type": "code",
   "execution_count": 6,
   "outputs": [
    {
     "data": {
      "text/plain": "418422851"
     },
     "execution_count": 6,
     "metadata": {},
     "output_type": "execute_result"
    }
   ],
   "source": [
    "article_path.write_text('\\n'.join(articles))"
   ],
   "metadata": {
    "collapsed": false,
    "pycharm": {
     "name": "#%%\n"
    }
   }
  },
  {
   "cell_type": "code",
   "execution_count": 8,
   "outputs": [
    {
     "data": {
      "text/plain": "125964"
     },
     "execution_count": 8,
     "metadata": {},
     "output_type": "execute_result"
    }
   ],
   "source": [
    "# Clean Financial News Articles\n",
    "articles = article_path.read_text(encoding='UTF8').split('\\n')\n",
    "len(articles)"
   ],
   "metadata": {
    "collapsed": false,
    "pycharm": {
     "name": "#%%\n"
    }
   }
  },
  {
   "cell_type": "code",
   "execution_count": 27,
   "outputs": [
    {
     "data": {
      "text/plain": "['17 hours ago | 02:56 emerging markets soared 33 percent 2017, todd gordon tradinganalysis.com says rally won\\'t stop. big rally emerging markets, tracked emerging market etf eem , weak dollar. given gordon sees inverse relationship eem dollar, measured charts dollar-tracking etf uup , believes u.s. currency continue help group. \"we falling u.s. dollar, support international emerging market currencies eem stocks boost,\" gordon said tuesday cnbc\\'s \"trading nation.\" u.s. dollar 2017 posted worst annual performance 14 years, eem saw best performance 2013. high go, gordon says eem broken \"resistance\" $45, etf\\'s 2014 highs. $45 region calls \"support,\" sees rallying $50, etf hasn\\'t hit mid-2011. play higher, gordon suggested buying february 48/50 spread 72 cents, $72 options contract. means eem closes $50 feb. 16, gordon make maximum reward $128 trade. eem close $48, gordon lose $72 paid trade. result, gordon wants establish point out. \"if 72 cent premium just laid gets cut half 36 cents, let\\'s cut trade on,\" said. eem started year strong, rallying 1 percent tuesday.']"
     },
     "execution_count": 27,
     "metadata": {},
     "output_type": "execute_result"
    }
   ],
   "source": [
    "articles[:1]"
   ],
   "metadata": {
    "collapsed": false,
    "pycharm": {
     "name": "#%%\n"
    }
   }
  },
  {
   "cell_type": "code",
   "execution_count": 12,
   "outputs": [
    {
     "data": {
      "text/plain": "356895840"
     },
     "execution_count": 12,
     "metadata": {},
     "output_type": "execute_result"
    }
   ],
   "source": [
    "# Sentence Boundary Detection\n",
    "def clean_doc(d):\n",
    "    doc = []\n",
    "    for sent in d.sents:\n",
    "        s = [t.text.lower() for t in sent if not\n",
    "        any([t.is_digit, not t.is_alpha, t.is_punct, t.is_space])]\n",
    "        if len(s) > 5 or len(sent) < 100: # keep the result if it's btw 6 & 99 tokens long\n",
    "            doc.append(' '.join(s))\n",
    "    return doc\n",
    "\n",
    "nlp = English()\n",
    "sentencizer = nlp.create_pipe(\"sentencizer\")\n",
    "\n",
    "# for spaCy ver2: nlp.add_pipe(sentencizer)\n",
    "# for spaCy ver3: nlp.add_pipe(\"sentencizer\")\n",
    "nlp.add_pipe(\"sentencizer\")\n",
    "\n",
    "clean_articles = []\n",
    "iter_articles = (article for article in articles)\n",
    "for i, doc in enumerate(nlp.pipe(iter_articles, batch_size=100, n_process=6), 1):\n",
    "    if i % int(len(articles) / 100) + 1 == 0:\n",
    "        print(f'{i / len(articles):.1%}', end=' ', flush=True)\n",
    "    clean_articles.extend(clean_doc(doc))\n",
    "\n",
    "clean_article_path.write_text('\\n'.join(clean_articles))"
   ],
   "metadata": {
    "collapsed": false,
    "pycharm": {
     "name": "#%%\n"
    }
   }
  },
  {
   "cell_type": "code",
   "execution_count": 13,
   "outputs": [
    {
     "data": {
      "text/plain": "2982031"
     },
     "execution_count": 13,
     "metadata": {},
     "output_type": "execute_result"
    }
   ],
   "source": [
    "len(clean_articles)"
   ],
   "metadata": {
    "collapsed": false,
    "pycharm": {
     "name": "#%%\n"
    }
   }
  },
  {
   "cell_type": "code",
   "execution_count": 31,
   "outputs": [
    {
     "data": {
      "text/plain": "['hours ago emerging markets soared percent todd gordon says rally wo stop',\n 'big rally emerging markets tracked emerging market etf eem weak dollar',\n 'given gordon sees inverse relationship eem dollar measured charts dollar tracking etf uup believes',\n 'currency continue help group',\n 'we falling',\n 'dollar support international emerging market currencies eem stocks boost gordon said tuesday cnbc trading nation',\n '',\n 'dollar posted worst annual performance years eem saw best performance',\n 'high go gordon says eem broken resistance etf highs',\n 'region calls support sees rallying etf has hit']"
     },
     "execution_count": 31,
     "metadata": {},
     "output_type": "execute_result"
    }
   ],
   "source": [
    "clean_articles[:10]"
   ],
   "metadata": {
    "collapsed": false,
    "pycharm": {
     "name": "#%%\n"
    }
   }
  },
  {
   "cell_type": "code",
   "execution_count": 14,
   "outputs": [
    {
     "data": {
      "text/plain": "2982031"
     },
     "execution_count": 14,
     "metadata": {},
     "output_type": "execute_result"
    }
   ],
   "source": [
    "vocab = Counter()\n",
    "sent_length = []\n",
    "for sentence in clean_articles:\n",
    "    tokens = sentence.lower().split()\n",
    "    sent_length.append(len(tokens))\n",
    "    vocab.update(tokens)\n",
    "\n",
    "len(sent_length)"
   ],
   "metadata": {
    "collapsed": false,
    "pycharm": {
     "name": "#%%\n"
    }
   }
  },
  {
   "cell_type": "code",
   "execution_count": 40,
   "outputs": [
    {
     "data": {
      "text/plain": "[('company', 385668),\n ('million', 378101),\n ('net', 324073),\n ('said', 300511),\n ('income', 284230)]"
     },
     "execution_count": 40,
     "metadata": {},
     "output_type": "execute_result"
    }
   ],
   "source": [
    "vocab.most_common(5)"
   ],
   "metadata": {
    "collapsed": false,
    "pycharm": {
     "name": "#%%\n"
    }
   }
  },
  {
   "cell_type": "code",
   "execution_count": 15,
   "outputs": [
    {
     "data": {
      "text/plain": "count   2,982,031.00\nmean           15.40\nstd            20.75\nmin             0.00\n10%             4.00\n20%             6.00\n30%             8.00\n40%            10.00\n50%            12.00\n60%            14.00\n70%            17.00\n80%            20.00\n90%            25.00\nmax         6,910.00\ndtype: float64"
     },
     "execution_count": 15,
     "metadata": {},
     "output_type": "execute_result"
    }
   ],
   "source": [
    "pd.Series(sent_length).describe(percentiles=np.arange(.1, 1, .1).round(1))"
   ],
   "metadata": {
    "collapsed": false,
    "pycharm": {
     "name": "#%%\n"
    }
   }
  },
  {
   "cell_type": "code",
   "execution_count": 41,
   "outputs": [
    {
     "data": {
      "text/plain": "<Figure size 1152x864 with 1 Axes>",
      "image/png": "[encoded data removed]"
     },
     "metadata": {
      "needs_background": "light"
     },
     "output_type": "display_data"
    }
   ],
   "source": [
    "most_common = (pd.DataFrame(vocab.most_common(), columns=['token', 'count'])\n",
    "               .pipe(lambda x: x[~x.token.str.lower().isin(stop_words)]))\n",
    "\n",
    "most_common.head(25).set_index('token')['count'].sort_values().plot.barh(title='Most Common Tokens', figsize=(16, 12));"
   ],
   "metadata": {
    "collapsed": false,
    "pycharm": {
     "name": "#%%\n"
    }
   }
  },
  {
   "cell_type": "code",
   "execution_count": 57,
   "outputs": [
    {
     "data": {
      "text/plain": "'results/financial_news/articles_clean.txt'"
     },
     "execution_count": 57,
     "metadata": {},
     "output_type": "execute_result"
    }
   ],
   "source": [
    "clean_article_path.as_posix()  # pahtlib package"
   ],
   "metadata": {
    "collapsed": false,
    "pycharm": {
     "name": "#%%\n"
    }
   }
  },
  {
   "cell_type": "code",
   "execution_count": 24,
   "outputs": [
    {
     "name": "stdout",
     "output_type": "stream",
     "text": [
      "2 3 \n",
      "\tDuration:  00:04:14\n",
      "\tngrams: 66,468\n",
      "\n",
      "length\n",
      "2    29501\n",
      "3    36967\n",
      "dtype: int64\n"
     ]
    }
   ],
   "source": [
    "# Create n-grams\n",
    "max_length = 3\n",
    "n_grams = pd.DataFrame()\n",
    "start = time()\n",
    "\n",
    "sentences = LineSentence(clean_article_path.as_posix())\n",
    "for n in range(2, max_length + 1):\n",
    "    print(n, end=' ')\n",
    "    if n>2:\n",
    "        sentences = LineSentence((results_path / f'articles_{n-1}_grams.txt').as_posix())\n",
    "    # only phrases with higher score\n",
    "    # min_count : ignore terms with a lower count\n",
    "    phrases = Phrases(sentences, threshold=100, min_count=10)\n",
    "\n",
    "    # phrases.export_phrases() usage has been changed\n",
    "    s = pd.Series({k : v for k, v in phrases.export_phrases().items()})\n",
    "    s = s.to_frame('score').reset_index().rename(columns={'index': 'phrase'}).assign(length=n)\n",
    "\n",
    "    n_grams = pd.concat([n_grams, s])\n",
    "    grams = Phraser(phrases)\n",
    "    sentences = grams[sentences]\n",
    "\n",
    "    # because of Ver.Kor Windows user, encoding is mandatory to UTF-8 from CP949\n",
    "    with (results_path / f'articles_{n}_grams.txt').open('w', encoding='UTF8') as f:\n",
    "        for sentence in sentences:\n",
    "            f.write(' '.join(sentence) + '\\n')\n",
    "\n",
    "n_grams = n_grams.sort_values('score', ascending=False)\n",
    "n_grams.phrase = n_grams.phrase.str.replace('_', ' ')\n",
    "n_grams['ngram'] = n_grams.phrase.str.replace(' ', '_')\n",
    "\n",
    "print('\\n\\tDuration: ', format_time(time() - start))\n",
    "print(f'\\tngrams: {len(n_grams):,d}\\n')\n",
    "print(n_grams.groupby('length').size())"
   ],
   "metadata": {
    "collapsed": false,
    "pycharm": {
     "name": "#%%\n"
    }
   }
  },
  {
   "cell_type": "code",
   "execution_count": 46,
   "outputs": [
    {
     "data": {
      "text/plain": "                            phrase     score  length  \\\n1441              remains shrouded    489.55       3   \n34710                 sawa eastern    504.71       3   \n27524                   schull nic  2,870.25       2   \n2865                   stress test    150.62       3   \n4659                 simon cameron  1,746.29       2   \n26690              xeljanz xeljanz 23,484.26       3   \n2656                archer daniels  4,090.18       2   \n21373           safely efficiently    271.60       3   \n18095  jimmie blotter pahl shipley 35,081.43       3   \n11051      musculoskeletal healing    480.11       2   \n\n                             ngram  \n1441              remains_shrouded  \n34710                 sawa_eastern  \n27524                   schull_nic  \n2865                   stress_test  \n4659                 simon_cameron  \n26690              xeljanz_xeljanz  \n2656                archer_daniels  \n21373           safely_efficiently  \n18095  jimmie_blotter_pahl_shipley  \n11051      musculoskeletal_healing  ",
      "text/html": "<div>\n<style scoped>\n    .dataframe tbody tr th:only-of-type {\n        vertical-align: middle;\n    }\n\n    .dataframe tbody tr th {\n        vertical-align: top;\n    }\n\n    .dataframe thead th {\n        text-align: right;\n    }\n</style>\n<table border=\"1\" class=\"dataframe\">\n  <thead>\n    <tr style=\"text-align: right;\">\n      <th></th>\n      <th>phrase</th>\n      <th>score</th>\n      <th>length</th>\n      <th>ngram</th>\n    </tr>\n  </thead>\n  <tbody>\n    <tr>\n      <th>1441</th>\n      <td>remains shrouded</td>\n      <td>489.55</td>\n      <td>3</td>\n      <td>remains_shrouded</td>\n    </tr>\n    <tr>\n      <th>34710</th>\n      <td>sawa eastern</td>\n      <td>504.71</td>\n      <td>3</td>\n      <td>sawa_eastern</td>\n    </tr>\n    <tr>\n      <th>27524</th>\n      <td>schull nic</td>\n      <td>2,870.25</td>\n      <td>2</td>\n      <td>schull_nic</td>\n    </tr>\n    <tr>\n      <th>2865</th>\n      <td>stress test</td>\n      <td>150.62</td>\n      <td>3</td>\n      <td>stress_test</td>\n    </tr>\n    <tr>\n      <th>4659</th>\n      <td>simon cameron</td>\n      <td>1,746.29</td>\n      <td>2</td>\n      <td>simon_cameron</td>\n    </tr>\n    <tr>\n      <th>26690</th>\n      <td>xeljanz xeljanz</td>\n      <td>23,484.26</td>\n      <td>3</td>\n      <td>xeljanz_xeljanz</td>\n    </tr>\n    <tr>\n      <th>2656</th>\n      <td>archer daniels</td>\n      <td>4,090.18</td>\n      <td>2</td>\n      <td>archer_daniels</td>\n    </tr>\n    <tr>\n      <th>21373</th>\n      <td>safely efficiently</td>\n      <td>271.60</td>\n      <td>3</td>\n      <td>safely_efficiently</td>\n    </tr>\n    <tr>\n      <th>18095</th>\n      <td>jimmie blotter pahl shipley</td>\n      <td>35,081.43</td>\n      <td>3</td>\n      <td>jimmie_blotter_pahl_shipley</td>\n    </tr>\n    <tr>\n      <th>11051</th>\n      <td>musculoskeletal healing</td>\n      <td>480.11</td>\n      <td>2</td>\n      <td>musculoskeletal_healing</td>\n    </tr>\n  </tbody>\n</table>\n</div>"
     },
     "execution_count": 46,
     "metadata": {},
     "output_type": "execute_result"
    }
   ],
   "source": [
    "n_grams.sample(10)"
   ],
   "metadata": {
    "collapsed": false,
    "pycharm": {
     "name": "#%%\n"
    }
   }
  },
  {
   "cell_type": "code",
   "execution_count": 25,
   "outputs": [
    {
     "data": {
      "text/plain": "                                  phrase            score  length  \\\nlength                                                              \n2      24827          bruckhaus deringer       182,440.40       2   \n       12365       pracha hariraksapitak       182,440.40       2   \n       19269               citigate dewe       182,440.40       2   \n       25805  mukhammadsharif mamatkulov       182,440.40       2   \n       13976    hidradenitis suppurativa       182,440.40       2   \n       29232                nidaa tounes       182,026.70       2   \n       27458            navesh chitrakar       182,026.70       2   \n       24385      axalimogene filolisbac       182,026.70       2   \n       21537             koustav samanta       182,026.70       2   \n       27908     munkhchimeg davaasharav       181,935.02       2   \n3      73                   kuala lumpur 1,395,223,390.50       3   \n       7847              sanjana shivdas   719,870,860.00       3   \n       4112              marguerita choy   422,450,531.00       3   \n       94            petroleo brasileiro   358,672,498.67       3   \n       20970            aeterna zentaris   333,413,872.00       3   \n       6613                   dado ruvic   308,349,542.46       3   \n       14040                kaori kaneko   231,116,434.00       3   \n       5463           abhinav ramnarayan   229,222,037.00       3   \n       5822                 fathin ungku   214,066,861.00       3   \n       9966                 leika kihara   209,330,868.50       3   \n\n                                   ngram  \nlength                                    \n2      24827          bruckhaus_deringer  \n       12365       pracha_hariraksapitak  \n       19269               citigate_dewe  \n       25805  mukhammadsharif_mamatkulov  \n       13976    hidradenitis_suppurativa  \n       29232                nidaa_tounes  \n       27458            navesh_chitrakar  \n       24385      axalimogene_filolisbac  \n       21537             koustav_samanta  \n       27908     munkhchimeg_davaasharav  \n3      73                   kuala_lumpur  \n       7847              sanjana_shivdas  \n       4112              marguerita_choy  \n       94            petroleo_brasileiro  \n       20970            aeterna_zentaris  \n       6613                   dado_ruvic  \n       14040                kaori_kaneko  \n       5463           abhinav_ramnarayan  \n       5822                 fathin_ungku  \n       9966                 leika_kihara  ",
      "text/html": "<div>\n<style scoped>\n    .dataframe tbody tr th:only-of-type {\n        vertical-align: middle;\n    }\n\n    .dataframe tbody tr th {\n        vertical-align: top;\n    }\n\n    .dataframe thead th {\n        text-align: right;\n    }\n</style>\n<table border=\"1\" class=\"dataframe\">\n  <thead>\n    <tr style=\"text-align: right;\">\n      <th></th>\n      <th></th>\n      <th>phrase</th>\n      <th>score</th>\n      <th>length</th>\n      <th>ngram</th>\n    </tr>\n    <tr>\n      <th>length</th>\n      <th></th>\n      <th></th>\n      <th></th>\n      <th></th>\n      <th></th>\n    </tr>\n  </thead>\n  <tbody>\n    <tr>\n      <th rowspan=\"10\" valign=\"top\">2</th>\n      <th>24827</th>\n      <td>bruckhaus deringer</td>\n      <td>182,440.40</td>\n      <td>2</td>\n      <td>bruckhaus_deringer</td>\n    </tr>\n    <tr>\n      <th>12365</th>\n      <td>pracha hariraksapitak</td>\n      <td>182,440.40</td>\n      <td>2</td>\n      <td>pracha_hariraksapitak</td>\n    </tr>\n    <tr>\n      <th>19269</th>\n      <td>citigate dewe</td>\n      <td>182,440.40</td>\n      <td>2</td>\n      <td>citigate_dewe</td>\n    </tr>\n    <tr>\n      <th>25805</th>\n      <td>mukhammadsharif mamatkulov</td>\n      <td>182,440.40</td>\n      <td>2</td>\n      <td>mukhammadsharif_mamatkulov</td>\n    </tr>\n    <tr>\n      <th>13976</th>\n      <td>hidradenitis suppurativa</td>\n      <td>182,440.40</td>\n      <td>2</td>\n      <td>hidradenitis_suppurativa</td>\n    </tr>\n    <tr>\n      <th>29232</th>\n      <td>nidaa tounes</td>\n      <td>182,026.70</td>\n      <td>2</td>\n      <td>nidaa_tounes</td>\n    </tr>\n    <tr>\n      <th>27458</th>\n      <td>navesh chitrakar</td>\n      <td>182,026.70</td>\n      <td>2</td>\n      <td>navesh_chitrakar</td>\n    </tr>\n    <tr>\n      <th>24385</th>\n      <td>axalimogene filolisbac</td>\n      <td>182,026.70</td>\n      <td>2</td>\n      <td>axalimogene_filolisbac</td>\n    </tr>\n    <tr>\n      <th>21537</th>\n      <td>koustav samanta</td>\n      <td>182,026.70</td>\n      <td>2</td>\n      <td>koustav_samanta</td>\n    </tr>\n    <tr>\n      <th>27908</th>\n      <td>munkhchimeg davaasharav</td>\n      <td>181,935.02</td>\n      <td>2</td>\n      <td>munkhchimeg_davaasharav</td>\n    </tr>\n    <tr>\n      <th rowspan=\"10\" valign=\"top\">3</th>\n      <th>73</th>\n      <td>kuala lumpur</td>\n      <td>1,395,223,390.50</td>\n      <td>3</td>\n      <td>kuala_lumpur</td>\n    </tr>\n    <tr>\n      <th>7847</th>\n      <td>sanjana shivdas</td>\n      <td>719,870,860.00</td>\n      <td>3</td>\n      <td>sanjana_shivdas</td>\n    </tr>\n    <tr>\n      <th>4112</th>\n      <td>marguerita choy</td>\n      <td>422,450,531.00</td>\n      <td>3</td>\n      <td>marguerita_choy</td>\n    </tr>\n    <tr>\n      <th>94</th>\n      <td>petroleo brasileiro</td>\n      <td>358,672,498.67</td>\n      <td>3</td>\n      <td>petroleo_brasileiro</td>\n    </tr>\n    <tr>\n      <th>20970</th>\n      <td>aeterna zentaris</td>\n      <td>333,413,872.00</td>\n      <td>3</td>\n      <td>aeterna_zentaris</td>\n    </tr>\n    <tr>\n      <th>6613</th>\n      <td>dado ruvic</td>\n      <td>308,349,542.46</td>\n      <td>3</td>\n      <td>dado_ruvic</td>\n    </tr>\n    <tr>\n      <th>14040</th>\n      <td>kaori kaneko</td>\n      <td>231,116,434.00</td>\n      <td>3</td>\n      <td>kaori_kaneko</td>\n    </tr>\n    <tr>\n      <th>5463</th>\n      <td>abhinav ramnarayan</td>\n      <td>229,222,037.00</td>\n      <td>3</td>\n      <td>abhinav_ramnarayan</td>\n    </tr>\n    <tr>\n      <th>5822</th>\n      <td>fathin ungku</td>\n      <td>214,066,861.00</td>\n      <td>3</td>\n      <td>fathin_ungku</td>\n    </tr>\n    <tr>\n      <th>9966</th>\n      <td>leika kihara</td>\n      <td>209,330,868.50</td>\n      <td>3</td>\n      <td>leika_kihara</td>\n    </tr>\n  </tbody>\n</table>\n</div>"
     },
     "execution_count": 25,
     "metadata": {},
     "output_type": "execute_result"
    }
   ],
   "source": [
    "n_grams.groupby('length').apply(lambda x: x.nlargest(10, 'score'))"
   ],
   "metadata": {
    "collapsed": false,
    "pycharm": {
     "name": "#%%\n"
    }
   }
  }
 ],
 "metadata": {
  "kernelspec": {
   "display_name": "Python 3",
   "language": "python",
   "name": "python3"
  },
  "language_info": {
   "codemirror_mode": {
    "name": "ipython",
    "version": 2
   },
   "file_extension": ".py",
   "mimetype": "text/x-python",
   "name": "python",
   "nbconvert_exporter": "python",
   "pygments_lexer": "ipython2",
   "version": "2.7.6"
  }
 },
 "nbformat": 4,
 "nbformat_minor": 0
}