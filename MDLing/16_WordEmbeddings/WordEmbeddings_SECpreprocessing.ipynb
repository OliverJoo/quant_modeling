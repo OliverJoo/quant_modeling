{
 "cells": [
  {
   "cell_type": "code",
   "execution_count": 1,
   "outputs": [],
   "source": [
    "import warnings\n",
    "warnings.filterwarnings('ignore')\n",
    "from dateutil.relativedelta import relativedelta\n",
    "from pathlib import Path\n",
    "import numpy as np\n",
    "import pandas as pd\n",
    "from time import time\n",
    "from collections import Counter\n",
    "import logging\n",
    "import spacy\n",
    "\n",
    "from gensim.models import Word2Vec\n",
    "from gensim.models.word2vec import LineSentence\n",
    "from gensim.models.phrases import Phrases, Phraser\n",
    "\n",
    "np.random.seed(42)\n",
    "\n",
    "def format_time(t):\n",
    "    m, s = divmod(t, 60)\n",
    "    h, m = divmod(m, 60)\n",
    "    return f'{h:02.0f}:{m:02.0f}:{s:02.0f}'\n",
    "\n",
    "logging.basicConfig(filename='preprocessing.log', level=logging.DEBUG,\n",
    "        format='%(asctime)s - %(name)s - %(levelname)s - %(message)s', datefmt='%H:%M:%S')"
   ],
   "metadata": {
    "collapsed": false,
    "pycharm": {
     "name": "#%%\n"
    }
   }
  },
  {
   "cell_type": "code",
   "execution_count": 2,
   "outputs": [],
   "source": [
    "sec_path = Path('data', 'sec-filings')\n",
    "filing_path = sec_path / 'filings'\n",
    "sections_path = sec_path / 'sections'\n",
    "if not sections_path.exists():\n",
    "    sections_path.mkdir(exist_ok=True, parents=True)"
   ],
   "metadata": {
    "collapsed": false,
    "pycharm": {
     "name": "#%%\n"
    }
   }
  },
  {
   "cell_type": "code",
   "execution_count": 78,
   "outputs": [
    {
     "name": "stdout",
     "output_type": "stream",
     "text": [
      "500 1000 1500 2000 2500 3000 3500 4000 4500 5000 5500 6000 6500 7000 7500 8000 8500 9000 9500 10000 10500 11000 11500 12000 12500 13000 13500 14000 14500 15000 15500 16000 16500 17000 17500 18000 18500 19000 19500 20000 20500 21000 21500 22000 22500 "
     ]
    }
   ],
   "source": [
    "for i, filing in enumerate(filing_path.glob('*.txt'), 1):\n",
    "    if i % 500 == 0:\n",
    "        print(i, end=' ', flush=True)\n",
    "    filing_id = int(filing.stem)\n",
    "    items = {}\n",
    "    for section in filing.read_text(encoding='UTF8').lower().split('°'):\n",
    "        if section.startswith('item '):\n",
    "            if len(section.split()) > 1:\n",
    "                item = section.split()[1].replace('.', '').replace(':', '').replace(',', '')\n",
    "                text = ' '.join([t for t in section.split()[2:]])\n",
    "\n",
    "                # if i == 13:\n",
    "                #     print(f'2 filing.stem:{item} \\t{filing.stem}\\n{text[:40]}')\n",
    "\n",
    "                if items.get(item) is None or len(items.get(item)) < len(text):\n",
    "                    items[item] = text\n",
    "\n",
    "    txt = pd.Series(items).reset_index()\n",
    "    txt.columns = ['item', 'text']\n",
    "\n",
    "    txt.to_csv(sections_path / (filing.stem + '.csv'), index=False)"
   ],
   "metadata": {
    "collapsed": false,
    "pycharm": {
     "name": "#%%\n"
    }
   }
  },
  {
   "cell_type": "code",
   "execution_count": 85,
   "outputs": [
    {
     "name": "stdout",
     "output_type": "stream",
     "text": [
      "  100\t00:03:48\t12,635\t14:14:50\n",
      "  200\t00:06:45\t12,620\t12:37:42\n",
      "  300\t00:08:52\t12,667\t11:00:23\n",
      "  400\t00:11:58\t12,640\t11:04:45\n",
      "  500\t00:14:27\t12,692\t10:39:45\n",
      "  600\t00:16:40\t12,773\t10:12:11\n",
      "  700\t00:18:47\t12,883\t09:48:27\n",
      "  800\t00:21:23\t12,996\t09:43:36\n",
      "  900\t00:23:38\t13,126\t09:30:36\n",
      " 1000\t00:26:06\t13,240\t09:24:25\n",
      " 1100\t00:28:28\t13,339\t09:17:19\n",
      " 1200\t00:31:12\t13,457\t09:17:11\n",
      " 1300\t00:33:40\t13,539\t09:12:33\n",
      " 1400\t00:36:25\t13,609\t09:12:14\n",
      " 1500\t00:38:59\t13,693\t09:09:08\n",
      " 1600\t00:41:23\t13,755\t09:04:03\n",
      " 1700\t00:43:53\t13,830\t09:00:13\n",
      " 1800\t00:46:08\t13,886\t08:53:56\n",
      " 1900\t00:48:55\t13,942\t08:53:39\n",
      " 2000\t00:51:24\t13,996\t08:50:10\n",
      " 2100\t00:54:18\t14,043\t08:50:48\n",
      " 2200\t00:57:44\t14,103\t08:56:08\n",
      " 2300\t01:00:50\t14,146\t08:57:44\n",
      " 2400\t01:04:11\t14,178\t09:01:01\n",
      " 2500\t01:07:42\t14,206\t09:05:09\n",
      " 2600\t01:11:01\t14,238\t09:07:08\n",
      " 2700\t01:13:60\t14,270\t09:06:15\n",
      " 2800\t01:16:51\t14,291\t09:04:15\n",
      " 2900\t01:20:26\t14,294\t09:07:18\n",
      " 3000\t01:23:55\t14,309\t09:09:08\n",
      " 3100\t01:27:35\t14,324\t09:11:50\n",
      " 3200\t01:31:23\t14,343\t09:14:52\n",
      " 3300\t01:35:25\t14,359\t09:18:56\n",
      " 3400\t01:39:23\t14,386\t09:22:06\n",
      " 3500\t01:42:48\t14,415\t09:21:53\n",
      " 3600\t01:46:06\t14,434\t09:20:54\n",
      " 3700\t01:50:05\t14,453\t09:23:15\n",
      " 3800\t01:53:55\t14,473\t09:24:31\n",
      " 3900\t01:57:23\t14,499\t09:23:45\n",
      " 4000\t02:00:57\t14,524\t09:23:21\n",
      " 4100\t02:04:20\t14,549\t09:21:57\n",
      " 4200\t02:07:35\t14,571\t09:19:53\n",
      " 4300\t02:11:15\t14,587\t09:19:30\n",
      " 4400\t02:15:15\t14,609\t09:20:23\n",
      " 4500\t02:19:05\t14,626\t09:20:24\n",
      " 4600\t02:23:12\t14,649\t09:21:17\n",
      " 4700\t02:27:07\t14,667\t09:21:14\n",
      " 4800\t02:31:20\t14,684\t09:22:09\n",
      " 4900\t02:34:58\t14,701\t09:20:45\n",
      " 5000\t02:38:13\t14,714\t09:17:56\n",
      " 5100\t02:41:02\t14,727\t09:13:32\n",
      " 5200\t02:44:00\t14,739\t09:09:45\n",
      " 5300\t02:46:51\t14,751\t09:05:36\n",
      " 5400\t02:49:50\t14,766\t09:01:55\n",
      " 5500\t02:52:43\t14,780\t08:57:57\n",
      " 5600\t02:55:40\t14,794\t08:54:15\n",
      " 5700\t02:58:35\t14,807\t08:50:28\n",
      " 5800\t03:01:27\t14,818\t08:46:32\n",
      " 5900\t03:04:01\t14,827\t08:41:51\n",
      " 6000\t03:06:47\t14,838\t08:37:43\n",
      " 6100\t03:10:32\t14,843\t08:36:20\n",
      " 6200\t03:13:34\t14,851\t08:32:58\n",
      " 6300\t03:16:51\t14,858\t08:30:17\n",
      " 6400\t03:20:01\t14,863\t08:27:15\n",
      " 6500\t03:23:10\t14,870\t08:24:12\n",
      " 6600\t03:25:55\t14,878\t08:20:10\n",
      " 6700\t03:28:19\t14,883\t08:15:19\n",
      " 6800\t03:30:29\t14,887\t08:10:01\n",
      " 6900\t03:32:29\t14,890\t08:04:26\n",
      " 7000\t03:34:32\t14,887\t07:59:04\n",
      " 7100\t03:37:03\t14,891\t07:54:47\n",
      " 7200\t03:39:13\t14,893\t07:49:48\n",
      " 7300\t03:41:19\t14,894\t07:44:48\n",
      " 7400\t03:43:38\t14,896\t07:40:17\n",
      " 7500\t03:46:19\t14,895\t07:36:34\n",
      " 7600\t03:48:39\t14,896\t07:32:13\n",
      " 7700\t03:51:10\t14,896\t07:28:14\n",
      " 7800\t03:53:22\t14,901\t07:23:44\n",
      " 7900\t03:55:46\t14,903\t07:19:38\n",
      " 8000\t03:58:29\t14,903\t07:16:09\n",
      " 8100\t04:01:05\t14,908\t07:12:30\n",
      " 8200\t04:03:53\t14,915\t07:09:13\n",
      " 8300\t04:06:36\t14,919\t07:05:47\n",
      " 8400\t04:09:50\t14,923\t07:03:16\n",
      " 8500\t04:12:48\t14,925\t07:00:17\n",
      " 8600\t04:16:01\t14,926\t06:57:41\n",
      " 8700\t04:19:12\t14,930\t06:55:04\n",
      " 8800\t04:22:38\t14,936\t06:52:46\n",
      " 8900\t04:25:33\t14,936\t06:49:42\n",
      " 9000\t04:28:49\t14,940\t06:47:09\n",
      " 9100\t04:32:13\t14,945\t06:44:47\n",
      " 9200\t04:35:38\t14,949\t06:42:24\n",
      " 9300\t04:39:23\t14,953\t06:40:29\n",
      " 9400\t04:43:19\t14,956\t06:38:47\n",
      " 9500\t04:47:10\t14,963\t06:36:56\n",
      " 9600\t04:50:49\t14,967\t06:34:45\n",
      " 9700\t04:54:21\t14,970\t06:32:23\n",
      " 9800\t04:58:13\t14,973\t06:30:27\n",
      " 9900\t05:02:01\t14,976\t06:28:23\n",
      "10000\t05:05:34\t14,980\t06:25:58\n",
      "10100\t05:09:12\t14,983\t06:23:37\n",
      "10200\t05:12:38\t14,985\t06:21:01\n",
      "10300\t05:16:33\t14,986\t06:18:58\n",
      "10400\t05:20:41\t14,983\t06:17:08\n",
      "10500\t05:24:32\t14,988\t06:14:56\n",
      "10600\t05:28:56\t14,988\t06:13:20\n",
      "10700\t05:33:01\t14,990\t06:11:20\n",
      "10800\t05:37:20\t14,994\t06:09:32\n",
      "10900\t05:41:37\t14,993\t06:07:39\n",
      "11000\t05:45:37\t14,992\t06:05:26\n",
      "11100\t05:48:35\t14,988\t06:02:07\n",
      "11200\t05:51:47\t14,988\t05:59:03\n",
      "11300\t05:54:53\t14,987\t05:55:52\n",
      "11400\t05:57:59\t14,985\t05:52:41\n",
      "11500\t06:00:39\t14,994\t05:49:05\n",
      "11600\t06:03:34\t15,003\t05:45:44\n",
      "11700\t06:06:32\t15,011\t05:42:27\n",
      "11800\t06:09:17\t15,021\t05:38:57\n",
      "11900\t06:11:51\t15,030\t05:35:19\n",
      "12000\t06:14:54\t15,039\t05:32:08\n",
      "12100\t06:18:07\t15,049\t05:29:05\n",
      "12200\t06:21:14\t15,059\t05:25:57\n",
      "12300\t06:24:13\t15,068\t05:22:43\n",
      "12400\t06:27:24\t15,078\t05:19:38\n",
      "12500\t06:30:18\t15,087\t05:16:20\n",
      "12600\t06:32:46\t15,095\t05:12:41\n",
      "12700\t06:34:46\t15,100\t05:08:42\n",
      "12800\t06:37:09\t15,106\t05:05:02\n",
      "12900\t06:39:03\t15,111\t05:01:01\n",
      "13000\t06:41:22\t15,117\t04:57:21\n",
      "13100\t06:43:29\t15,123\t04:53:33\n",
      "13200\t06:45:42\t15,129\t04:49:51\n",
      "13300\t06:48:11\t15,136\t04:46:23\n",
      "13400\t06:50:22\t15,142\t04:42:41\n",
      "13500\t06:52:41\t15,148\t04:39:08\n",
      "13600\t06:54:57\t15,152\t04:35:33\n",
      "13700\t06:57:02\t15,157\t04:31:52\n",
      "13800\t06:59:34\t15,165\t04:28:30\n",
      "13900\t07:02:31\t15,171\t04:25:24\n",
      "14000\t07:04:54\t15,177\t04:21:57\n",
      "14100\t07:07:33\t15,184\t04:18:41\n",
      "14200\t07:10:06\t15,190\t04:15:22\n",
      "14300\t07:12:54\t15,198\t04:12:12\n",
      "14400\t07:15:31\t15,205\t04:08:56\n",
      "14500\t07:18:36\t15,213\t04:05:57\n",
      "14600\t07:21:16\t15,219\t04:02:43\n",
      "14700\t07:23:48\t15,226\t03:59:27\n",
      "14800\t07:26:42\t15,233\t03:56:22\n",
      "14900\t07:29:18\t15,239\t03:53:07\n",
      "15000\t07:32:02\t15,245\t03:49:58\n",
      "15100\t07:34:49\t15,251\t03:46:50\n",
      "15200\t07:37:53\t15,258\t03:43:51\n",
      "15300\t07:40:41\t15,265\t03:40:44\n",
      "15400\t07:43:43\t15,267\t03:37:44\n",
      "15500\t07:46:47\t15,269\t03:34:45\n",
      "15600\t07:50:04\t15,270\t03:31:51\n",
      "15700\t07:53:01\t15,268\t03:28:49\n",
      "15800\t07:55:17\t15,266\t03:25:29\n",
      "15900\t07:57:19\t15,266\t03:22:04\n",
      "16000\t07:59:14\t15,267\t03:18:37\n",
      "16100\t08:01:44\t15,267\t03:15:25\n",
      "16200\t08:03:56\t15,268\t03:12:06\n",
      "16300\t08:05:51\t15,268\t03:08:43\n",
      "16400\t08:07:46\t15,268\t03:05:19\n",
      "16500\t08:09:36\t15,270\t03:01:55\n",
      "16600\t08:11:36\t15,273\t02:58:36\n",
      "16700\t08:13:43\t15,274\t02:55:21\n",
      "16800\t08:15:55\t15,275\t02:52:07\n",
      "16900\t08:17:54\t15,276\t02:48:51\n",
      "17000\t08:20:03\t15,276\t02:45:38\n",
      "17100\t08:22:36\t15,275\t02:42:34\n",
      "17200\t08:24:54\t15,274\t02:39:25\n",
      "17300\t08:26:59\t15,273\t02:36:14\n",
      "17400\t08:28:56\t15,273\t02:33:00\n",
      "17500\t08:30:60\t15,274\t02:29:49\n",
      "17600\t08:33:16\t15,274\t02:26:43\n",
      "17700\t08:35:23\t15,277\t02:23:35\n",
      "17800\t08:37:38\t15,279\t02:20:29\n",
      "17900\t08:39:58\t15,279\t02:17:26\n",
      "18000\t08:42:13\t15,279\t02:14:21\n",
      "18100\t08:44:35\t15,280\t02:11:19\n",
      "18200\t08:46:59\t15,283\t02:08:18\n",
      "18300\t08:49:57\t15,285\t02:05:25\n",
      "18400\t08:52:51\t15,289\t02:02:32\n",
      "18500\t08:55:55\t15,294\t01:59:40\n",
      "18600\t08:59:09\t15,298\t01:56:51\n",
      "18700\t09:02:30\t15,304\t01:54:02\n",
      "18800\t09:05:36\t15,305\t01:51:11\n",
      "18900\t09:08:22\t15,307\t01:48:15\n",
      "19000\t09:11:29\t15,310\t01:45:23\n",
      "19100\t09:14:47\t15,311\t01:42:34\n",
      "19200\t09:18:08\t15,314\t01:39:44\n",
      "19300\t09:21:13\t15,320\t01:36:52\n",
      "19400\t09:24:28\t15,326\t01:34:01\n",
      "19500\t09:28:18\t15,330\t01:31:15\n",
      "19600\t09:32:03\t15,331\t01:28:28\n",
      "19700\t09:35:17\t15,336\t01:25:36\n",
      "19800\t09:38:24\t15,341\t01:22:42\n",
      "19900\t09:41:56\t15,347\t01:19:52\n",
      "20000\t09:45:21\t15,353\t01:17:00\n",
      "20100\t09:48:18\t15,356\t01:14:05\n",
      "20200\t09:51:34\t15,356\t01:11:12\n",
      "20300\t09:54:51\t15,359\t01:08:18\n",
      "20400\t09:57:36\t15,363\t01:05:21\n",
      "20500\t10:00:38\t15,367\t01:02:26\n",
      "20600\t10:04:14\t15,370\t00:59:34\n",
      "20700\t10:07:34\t15,372\t00:56:41\n",
      "20800\t10:11:07\t15,376\t00:53:48\n",
      "20900\t10:14:53\t15,380\t00:50:56\n",
      "21000\t10:18:44\t15,383\t00:48:03\n",
      "21100\t10:22:08\t15,386\t00:45:09\n",
      "21200\t10:25:02\t15,387\t00:42:11\n",
      "21300\t10:27:46\t15,387\t00:39:14\n",
      "21400\t10:30:35\t15,389\t00:36:16\n",
      "21500\t10:33:20\t15,391\t00:33:19\n",
      "21600\t10:36:19\t15,392\t00:30:22\n",
      "21700\t10:39:04\t15,391\t00:27:25\n",
      "21800\t10:41:49\t15,393\t00:24:28\n",
      "21900\t10:44:33\t15,397\t00:21:31\n",
      "22000\t10:47:14\t15,401\t00:18:34\n",
      "22100\t10:49:50\t15,404\t00:15:37\n",
      "22200\t10:52:58\t15,409\t00:12:41\n",
      "22300\t10:55:52\t15,414\t00:09:44\n",
      "22400\t10:58:42\t15,417\t00:06:48\n",
      "22500\t11:01:31\t15,421\t00:03:51\n",
      "22600\t11:04:43\t15,425\t00:00:55\n"
     ]
    }
   ],
   "source": [
    "# Parse Sections\n",
    "\n",
    "# Item 1 and 1A: Business and Risk Factors\n",
    "# Item 7: Management's Discussion\n",
    "# Item 7a: Disclosures about Market Risks\n",
    "sections = ['1', '1a', '7', '7a']\n",
    "\n",
    "clean_path = sec_path / 'selected_sections'\n",
    "\n",
    "if not clean_path.exists():\n",
    "    clean_path.mkdir(exist_ok=True)\n",
    "\n",
    "# load english version MDL: en_core_web_sm\n",
    "# pipeline disable : tokenizer, tagger, parser, ner(Named Entity Recognizer), lemmatizer, textcat, custom\n",
    "nlp = spacy.load('en_core_web_sm', disable=['ner'])\n",
    "nlp.max_length = 6000000\n",
    "\n",
    "vocab = Counter()\n",
    "t = total_tokens = 0\n",
    "stats = []\n",
    "\n",
    "start = time()\n",
    "to_do = len(list(sections_path.glob('*.csv')))\n",
    "done = len(list(clean_path.glob('*.csv'))) + 1\n",
    "# print(f'to_do:{to_do} : {sections_path}')\n",
    "\n",
    "for text_file in sections_path.glob('*.csv'):\n",
    "    file_id = int(text_file.stem)\n",
    "    clean_file = clean_path / f'{file_id}.csv'\n",
    "\n",
    "    if clean_file.exists():\n",
    "        continue\n",
    "\n",
    "    items = pd.read_csv(text_file, encoding='UTF8').dropna()\n",
    "    items.item = items.item.astype(str)\n",
    "    items = items[items.item.isin(sections)]\n",
    "\n",
    "    # print(f'file from {file_id} to {clean_file}\\nitems:{items}')\n",
    "\n",
    "    if done % 100 == 0:\n",
    "        duration = time() - start\n",
    "        to_go = (to_do - done) * duration / done\n",
    "        print(f'{done:>5}\\t{format_time(duration)}\\t{total_tokens / duration:,.0f}\\t{format_time(to_go)}')\n",
    "\n",
    "    clean_doc = []\n",
    "    for _, (item, text) in items.iterrows():\n",
    "        doc = nlp(text)\n",
    "        # print(f'\\titem & text : {item} \\t {text[:30]}')\n",
    "        for s, sentence in enumerate(doc.sents):\n",
    "            clean_sentence = []\n",
    "            if sentence is not None:\n",
    "                for t, token in enumerate(sentence, 1):\n",
    "                    if not any([token.is_stop, token.is_digit, not token.is_alpha, token.is_punct,\n",
    "                                token.is_space, token.lemma_ == '-PRON-',\n",
    "                                token.pos_ in ['PUNCT', 'SYM', 'X']]):\n",
    "                        clean_sentence.append(token.text.lower())\n",
    "                total_tokens += t\n",
    "                if len(clean_sentence) > 0:\n",
    "                    clean_doc.append([item, s, ' '.join(clean_sentence)])\n",
    "    (pd.DataFrame(clean_doc, columns=['item', 'sentence', 'text']).dropna().to_csv(clean_file, index=False))\n",
    "    done += 1"
   ],
   "metadata": {
    "collapsed": false,
    "pycharm": {
     "name": "#%%\n"
    }
   }
  },
  {
   "cell_type": "code",
   "execution_count": 92,
   "outputs": [
    {
     "name": "stdout",
     "output_type": "stream",
     "text": [
      "0 1000 2000 3000 4000 5000 6000 7000 8000 9000 10000 11000 12000 13000 14000 15000 16000 17000 18000 19000 20000 21000 22000 \n",
      "Reading:  00:33:46\n"
     ]
    }
   ],
   "source": [
    "# Create ngrams\n",
    "ngram_path = sec_path / 'ngrams'\n",
    "stats_path = sec_path / 'corpus_stats'\n",
    "\n",
    "for path in [ngram_path, stats_path]:\n",
    "    if not path.exists():\n",
    "        path.mkdir(parents=True)\n",
    "\n",
    "unigrams = ngram_path / 'ngrams_1.txt'\n",
    "\n",
    "def create_unigrams(min_length=3):\n",
    "    texts = []\n",
    "    sentence_counter = Counter()\n",
    "    vocab = Counter()\n",
    "    for i, f in enumerate(clean_path.glob('*.csv')):\n",
    "        if i % 1000 == 0:\n",
    "            print(i, end=' ', flush=True)\n",
    "        df = pd.read_csv(f, encoding='UTF8')\n",
    "        df.item = df.item.astype(str)\n",
    "        df = df[df.item.isin(sections)]\n",
    "        sentence_counter.update(df.groupby('item').size().to_dict())\n",
    "        for sentence in df.text.dropna().str.split().tolist():\n",
    "            if len(sentence) >= min_length:\n",
    "                vocab.update(sentence)\n",
    "                texts.append(' '.join(sentence))\n",
    "\n",
    "    (pd.DataFrame(sentence_counter.most_common(), columns=['item', 'sentences'])\n",
    "     .to_csv(stats_path / 'selected_sentences.csv', index=False))\n",
    "    (pd.DataFrame(vocab.most_common(), columns=['token', 'n'])\n",
    "     .to_csv(stats_path / 'sections_vocab.csv', index=False))\n",
    "\n",
    "    unigrams.write_text('\\n'.join(texts))\n",
    "    return [l.split() for l in texts]\n",
    "\n",
    "start = time()\n",
    "if not unigrams.exists():\n",
    "    texts = create_unigrams()\n",
    "else:\n",
    "    texts = [l.split() for l in unigrams.open()]\n",
    "print('\\nReading: ', format_time(time() - start))"
   ],
   "metadata": {
    "collapsed": false,
    "pycharm": {
     "name": "#%%\n"
    }
   }
  },
  {
   "cell_type": "code",
   "execution_count": 7,
   "outputs": [],
   "source": [
    "stats_path"
   ],
   "metadata": {
    "collapsed": false,
    "pycharm": {
     "name": "#%%\n"
    }
   }
  },
  {
   "cell_type": "code",
   "execution_count": 5,
   "outputs": [
    {
     "name": "stdout",
     "output_type": "stream",
     "text": [
      "2 3 \n",
      "\tDuration:  00:19:39\n",
      "\tngrams: 73,856\n",
      "\n",
      "length\n",
      "2    31791\n",
      "3    42065\n",
      "dtype: int64\n"
     ]
    }
   ],
   "source": [
    "def create_ngrams(max_length=3):\n",
    "    \"\"\"Using gensim to create ngrams\"\"\"\n",
    "\n",
    "    n_grams = pd.DataFrame()\n",
    "    start = time()\n",
    "    for n in range(2, max_length + 1):\n",
    "        print(n, end=' ', flush=True)\n",
    "\n",
    "        sentences = LineSentence(ngram_path / f'ngrams_{n - 1}.txt')\n",
    "        phrases = Phrases(sentences=sentences, min_count=25,  # ignore terms with a lower count\n",
    "                          threshold=0.5,  # accept phrases with higher score\n",
    "                          max_vocab_size=40000000,  # prune of less common words to limit memory use\n",
    "                          delimiter='_',  # how to join ngram tokens\n",
    "                          progress_per=50000,  # log progress every\n",
    "                          scoring='npmi')\n",
    "\n",
    "        s = pd.DataFrame([[k, v] for k, v in phrases.export_phrases().items()],\n",
    "                         columns=['phrase', 'score']).assign(length=n)\n",
    "\n",
    "        # print(f's : {s}')\n",
    "        n_grams = pd.concat([n_grams, s])\n",
    "        grams = Phraser(phrases)\n",
    "        sentences = grams[sentences]\n",
    "        (ngram_path / f'ngrams_{n}.txt').write_text('\\n'.join([' '.join(s) for s in sentences]))\n",
    "\n",
    "    n_grams = n_grams.sort_values('score', ascending=False)\n",
    "    n_grams.phrase = n_grams.phrase.str.replace('_', ' ')\n",
    "    n_grams['ngram'] = n_grams.phrase.str.replace(' ', '_')\n",
    "\n",
    "    n_grams.to_parquet(sec_path / 'ngrams.parquet')\n",
    "\n",
    "    print('\\n\\tDuration: ', format_time(time() - start))\n",
    "    print('\\tngrams: {:,d}\\n'.format(len(n_grams)))\n",
    "    print(n_grams.groupby('length').size())\n",
    "\n",
    "create_ngrams()"
   ],
   "metadata": {
    "collapsed": false,
    "pycharm": {
     "name": "#%%\n"
    }
   }
  },
  {
   "cell_type": "code",
   "execution_count": 8,
   "outputs": [
    {
     "data": {
      "text/plain": "<Figure size 432x288 with 2 Axes>",
      "image/png": "[encoded data removed]"
     },
     "metadata": {
      "needs_background": "light"
     },
     "output_type": "display_data"
    }
   ],
   "source": [
    "# Inspect Corpus\n",
    "percentiles=np.arange(.1, 1, .1).round(2)\n",
    "\n",
    "nsents, ntokens = Counter(), Counter()\n",
    "for f in clean_path.glob('*.csv'):\n",
    "    df = pd.read_csv(f)\n",
    "    nsents.update({str(k): v for k, v in df.item.value_counts().to_dict().items()})\n",
    "    df['ntokens'] = df.text.str.split().str.len()\n",
    "    ntokens.update({str(k): v for k, v in df.groupby('item').ntokens.sum().to_dict().items()})\n",
    "\n",
    "ntokens = pd.DataFrame(ntokens.most_common(), columns=['Item', '# Tokens'])\n",
    "nsents = pd.DataFrame(nsents.most_common(), columns=['Item', '# Sentences'])\n",
    "nsents.set_index('Item').join(ntokens.set_index('Item')).plot.bar(secondary_y='# Tokens', rot=0);"
   ],
   "metadata": {
    "collapsed": false,
    "pycharm": {
     "name": "#%%\n"
    }
   }
  },
  {
   "cell_type": "code",
   "execution_count": 9,
   "outputs": [],
   "source": [
    "ngrams = pd.read_parquet(sec_path / 'ngrams.parquet')\n",
    "ngrams.score.describe(percentiles=percentiles)\n",
    "ngrams[ngrams.score>.7].sort_values(['length', 'score']).head(10)\n",
    "vocab = pd.read_csv(stats_path / 'sections_vocab.csv').dropna()"
   ],
   "metadata": {
    "collapsed": false,
    "pycharm": {
     "name": "#%%\n"
    }
   }
  },
  {
   "cell_type": "code",
   "execution_count": 10,
   "outputs": [
    {
     "name": "stdout",
     "output_type": "stream",
     "text": [
      "<class 'pandas.core.frame.DataFrame'>\n",
      "Int64Index: 73856 entries, 1001 to 6601\n",
      "Data columns (total 4 columns):\n",
      " #   Column  Non-Null Count  Dtype  \n",
      "---  ------  --------------  -----  \n",
      " 0   phrase  73856 non-null  object \n",
      " 1   score   73856 non-null  float64\n",
      " 2   length  73856 non-null  int64  \n",
      " 3   ngram   73856 non-null  object \n",
      "dtypes: float64(1), int64(1), object(2)\n",
      "memory usage: 2.8+ MB\n"
     ]
    }
   ],
   "source": [
    "ngrams.info()"
   ],
   "metadata": {
    "collapsed": false,
    "pycharm": {
     "name": "#%%\n"
    }
   }
  },
  {
   "cell_type": "code",
   "execution_count": 11,
   "outputs": [
    {
     "name": "stdout",
     "output_type": "stream",
     "text": [
      "<class 'pandas.core.frame.DataFrame'>\n",
      "Int64Index: 201560 entries, 0 to 201561\n",
      "Data columns (total 2 columns):\n",
      " #   Column  Non-Null Count   Dtype \n",
      "---  ------  --------------   ----- \n",
      " 0   token   201560 non-null  object\n",
      " 1   n       201560 non-null  int64 \n",
      "dtypes: int64(1), object(1)\n",
      "memory usage: 4.6+ MB\n"
     ]
    }
   ],
   "source": [
    "vocab.info()"
   ],
   "metadata": {
    "collapsed": false,
    "pycharm": {
     "name": "#%%\n"
    }
   }
  },
  {
   "cell_type": "code",
   "execution_count": 12,
   "outputs": [
    {
     "data": {
      "text/plain": "              phrase     score  length           ngram\n1001      dodd frank  2.307825       3      dodd_frank\n654   table contents  2.085622       3  table_contents\n999   sarbanes oxley  1.895722       3  sarbanes_oxley\n1679      fannie mae  1.871327       3      fannie_mae\n1399   black scholes  1.868592       3   black_scholes",
      "text/html": "<div>\n<style scoped>\n    .dataframe tbody tr th:only-of-type {\n        vertical-align: middle;\n    }\n\n    .dataframe tbody tr th {\n        vertical-align: top;\n    }\n\n    .dataframe thead th {\n        text-align: right;\n    }\n</style>\n<table border=\"1\" class=\"dataframe\">\n  <thead>\n    <tr style=\"text-align: right;\">\n      <th></th>\n      <th>phrase</th>\n      <th>score</th>\n      <th>length</th>\n      <th>ngram</th>\n    </tr>\n  </thead>\n  <tbody>\n    <tr>\n      <th>1001</th>\n      <td>dodd frank</td>\n      <td>2.307825</td>\n      <td>3</td>\n      <td>dodd_frank</td>\n    </tr>\n    <tr>\n      <th>654</th>\n      <td>table contents</td>\n      <td>2.085622</td>\n      <td>3</td>\n      <td>table_contents</td>\n    </tr>\n    <tr>\n      <th>999</th>\n      <td>sarbanes oxley</td>\n      <td>1.895722</td>\n      <td>3</td>\n      <td>sarbanes_oxley</td>\n    </tr>\n    <tr>\n      <th>1679</th>\n      <td>fannie mae</td>\n      <td>1.871327</td>\n      <td>3</td>\n      <td>fannie_mae</td>\n    </tr>\n    <tr>\n      <th>1399</th>\n      <td>black scholes</td>\n      <td>1.868592</td>\n      <td>3</td>\n      <td>black_scholes</td>\n    </tr>\n  </tbody>\n</table>\n</div>"
     },
     "execution_count": 12,
     "metadata": {},
     "output_type": "execute_result"
    }
   ],
   "source": [
    "ngrams.head()"
   ],
   "metadata": {
    "collapsed": false,
    "pycharm": {
     "name": "#%%\n"
    }
   }
  },
  {
   "cell_type": "code",
   "execution_count": 13,
   "outputs": [
    {
     "data": {
      "text/plain": "count     201560\nmean        1439\nstd        22330\nmin            1\n10%            1\n20%            2\n30%            3\n40%            4\n50%            7\n60%           12\n70%           24\n80%           61\n90%          260\nmax      2575605\nName: n, dtype: int32"
     },
     "execution_count": 13,
     "metadata": {},
     "output_type": "execute_result"
    }
   ],
   "source": [
    "vocab.n.describe(percentiles).astype(int)"
   ],
   "metadata": {
    "collapsed": false,
    "pycharm": {
     "name": "#%%\n"
    }
   }
  },
  {
   "cell_type": "code",
   "execution_count": 14,
   "outputs": [
    {
     "name": "stdout",
     "output_type": "stream",
     "text": [
      "<class 'pandas.core.frame.DataFrame'>\n",
      "RangeIndex: 231142 entries, 0 to 231141\n",
      "Data columns (total 2 columns):\n",
      " #   Column  Non-Null Count   Dtype \n",
      "---  ------  --------------   ----- \n",
      " 0   token   231142 non-null  object\n",
      " 1   count   231142 non-null  int64 \n",
      "dtypes: int64(1), object(1)\n",
      "memory usage: 3.5+ MB\n"
     ]
    }
   ],
   "source": [
    "tokens = Counter()\n",
    "\n",
    "for l in (ngram_path / 'ngrams_2.txt').open(encoding='UTF8'):\n",
    "    tokens.update(l.split())\n",
    "\n",
    "tokens = pd.DataFrame(tokens.most_common(), columns=['token', 'count'])\n",
    "tokens.info()"
   ],
   "metadata": {
    "collapsed": false,
    "pycharm": {
     "name": "#%%\n"
    }
   }
  },
  {
   "cell_type": "code",
   "execution_count": 15,
   "outputs": [
    {
     "data": {
      "text/plain": "      token    count\n0   million  2341139\n1  business  1702656\n2  december  1519278\n3   company  1491442\n4  products  1368864",
      "text/html": "<div>\n<style scoped>\n    .dataframe tbody tr th:only-of-type {\n        vertical-align: middle;\n    }\n\n    .dataframe tbody tr th {\n        vertical-align: top;\n    }\n\n    .dataframe thead th {\n        text-align: right;\n    }\n</style>\n<table border=\"1\" class=\"dataframe\">\n  <thead>\n    <tr style=\"text-align: right;\">\n      <th></th>\n      <th>token</th>\n      <th>count</th>\n    </tr>\n  </thead>\n  <tbody>\n    <tr>\n      <th>0</th>\n      <td>million</td>\n      <td>2341139</td>\n    </tr>\n    <tr>\n      <th>1</th>\n      <td>business</td>\n      <td>1702656</td>\n    </tr>\n    <tr>\n      <th>2</th>\n      <td>december</td>\n      <td>1519278</td>\n    </tr>\n    <tr>\n      <th>3</th>\n      <td>company</td>\n      <td>1491442</td>\n    </tr>\n    <tr>\n      <th>4</th>\n      <td>products</td>\n      <td>1368864</td>\n    </tr>\n  </tbody>\n</table>\n</div>"
     },
     "execution_count": 15,
     "metadata": {},
     "output_type": "execute_result"
    }
   ],
   "source": [
    "tokens.head()"
   ],
   "metadata": {
    "collapsed": false,
    "pycharm": {
     "name": "#%%\n"
    }
   }
  },
  {
   "cell_type": "code",
   "execution_count": 16,
   "outputs": [
    {
     "data": {
      "text/plain": "count     30345\nmean        921\nstd        9577\nmin           1\n10%          26\n20%          31\n30%          37\n40%          46\n50%          60\n60%          85\n70%         130\n80%         235\n90%         660\nmax      594569\nName: count, dtype: int32"
     },
     "execution_count": 16,
     "metadata": {},
     "output_type": "execute_result"
    }
   ],
   "source": [
    "tokens.loc[tokens.token.str.contains('_'), 'count'].describe(percentiles).astype(int)"
   ],
   "metadata": {
    "collapsed": false,
    "pycharm": {
     "name": "#%%\n"
    }
   }
  },
  {
   "cell_type": "code",
   "execution_count": 17,
   "outputs": [
    {
     "data": {
      "text/plain": "                     token   count\n47              year_ended  594569\n64      results_operations  492465\n70          table_contents  440550\n79               company_s  414269\n85     financial_condition  396221\n86            common_stock  387690\n107             fair_value  341206\n152          united_states  276758\n158             cash_flows  266939\n169   financial_statements  255244\n187          interest_rate  234647\n188  approximately_million  234466\n199       adversely_affect  227983\n223              long_term  203678\n239            real_estate  192551\n240            fiscal_year  192284\n241       material_adverse  192253\n244         interest_rates  190812\n247             income_tax  187255\n267            natural_gas  178808",
      "text/html": "<div>\n<style scoped>\n    .dataframe tbody tr th:only-of-type {\n        vertical-align: middle;\n    }\n\n    .dataframe tbody tr th {\n        vertical-align: top;\n    }\n\n    .dataframe thead th {\n        text-align: right;\n    }\n</style>\n<table border=\"1\" class=\"dataframe\">\n  <thead>\n    <tr style=\"text-align: right;\">\n      <th></th>\n      <th>token</th>\n      <th>count</th>\n    </tr>\n  </thead>\n  <tbody>\n    <tr>\n      <th>47</th>\n      <td>year_ended</td>\n      <td>594569</td>\n    </tr>\n    <tr>\n      <th>64</th>\n      <td>results_operations</td>\n      <td>492465</td>\n    </tr>\n    <tr>\n      <th>70</th>\n      <td>table_contents</td>\n      <td>440550</td>\n    </tr>\n    <tr>\n      <th>79</th>\n      <td>company_s</td>\n      <td>414269</td>\n    </tr>\n    <tr>\n      <th>85</th>\n      <td>financial_condition</td>\n      <td>396221</td>\n    </tr>\n    <tr>\n      <th>86</th>\n      <td>common_stock</td>\n      <td>387690</td>\n    </tr>\n    <tr>\n      <th>107</th>\n      <td>fair_value</td>\n      <td>341206</td>\n    </tr>\n    <tr>\n      <th>152</th>\n      <td>united_states</td>\n      <td>276758</td>\n    </tr>\n    <tr>\n      <th>158</th>\n      <td>cash_flows</td>\n      <td>266939</td>\n    </tr>\n    <tr>\n      <th>169</th>\n      <td>financial_statements</td>\n      <td>255244</td>\n    </tr>\n    <tr>\n      <th>187</th>\n      <td>interest_rate</td>\n      <td>234647</td>\n    </tr>\n    <tr>\n      <th>188</th>\n      <td>approximately_million</td>\n      <td>234466</td>\n    </tr>\n    <tr>\n      <th>199</th>\n      <td>adversely_affect</td>\n      <td>227983</td>\n    </tr>\n    <tr>\n      <th>223</th>\n      <td>long_term</td>\n      <td>203678</td>\n    </tr>\n    <tr>\n      <th>239</th>\n      <td>real_estate</td>\n      <td>192551</td>\n    </tr>\n    <tr>\n      <th>240</th>\n      <td>fiscal_year</td>\n      <td>192284</td>\n    </tr>\n    <tr>\n      <th>241</th>\n      <td>material_adverse</td>\n      <td>192253</td>\n    </tr>\n    <tr>\n      <th>244</th>\n      <td>interest_rates</td>\n      <td>190812</td>\n    </tr>\n    <tr>\n      <th>247</th>\n      <td>income_tax</td>\n      <td>187255</td>\n    </tr>\n    <tr>\n      <th>267</th>\n      <td>natural_gas</td>\n      <td>178808</td>\n    </tr>\n  </tbody>\n</table>\n</div>"
     },
     "execution_count": 17,
     "metadata": {},
     "output_type": "execute_result"
    }
   ],
   "source": [
    "tokens[tokens.token.str.contains('_')].head(20).to_csv(sec_path / 'ngram_examples.csv', index=False)\n",
    "tokens[tokens.token.str.contains('_')].head(20)"
   ],
   "metadata": {
    "collapsed": false,
    "pycharm": {
     "name": "#%%\n"
    }
   }
  },
  {
   "cell_type": "code",
   "execution_count": 18,
   "outputs": [
    {
     "name": "stdout",
     "output_type": "stream",
     "text": [
      "<class 'pandas.core.frame.DataFrame'>\n",
      "RangeIndex: 22631 entries, 0 to 22630\n",
      "Data columns (total 11 columns):\n",
      " #   Column        Non-Null Count  Dtype         \n",
      "---  ------        --------------  -----         \n",
      " 0   cik           22631 non-null  int64         \n",
      " 1   company_name  22631 non-null  object        \n",
      " 2   form_type     22631 non-null  object        \n",
      " 3   date_filed    22631 non-null  datetime64[ns]\n",
      " 4   edgar_link    22631 non-null  object        \n",
      " 5   quarter       22631 non-null  int64         \n",
      " 6   ticker        22631 non-null  object        \n",
      " 7   sic           22461 non-null  object        \n",
      " 8   exchange      20619 non-null  object        \n",
      " 9   hits          22555 non-null  object        \n",
      " 10  year          22631 non-null  int64         \n",
      "dtypes: datetime64[ns](1), int64(3), object(7)\n",
      "memory usage: 1.9+ MB\n"
     ]
    }
   ],
   "source": [
    "# Get returns\n",
    "DATA_FOLDER = Path('data')\n",
    "\n",
    "with pd.HDFStore(DATA_FOLDER / 'assets.h5') as store:\n",
    "    prices = store['quandl/wiki/prices'].adj_close\n",
    "\n",
    "sec = pd.read_csv(sec_path / 'filing_index.csv', encoding='UTF8').rename(columns=str.lower)\n",
    "sec.date_filed = pd.to_datetime(sec.date_filed)\n",
    "sec.info()"
   ],
   "metadata": {
    "collapsed": false,
    "pycharm": {
     "name": "#%%\n"
    }
   }
  },
  {
   "cell_type": "code",
   "execution_count": 19,
   "outputs": [
    {
     "data": {
      "text/plain": "count    11101.000000\nmean         0.022839\nstd          0.126137\nmin         -0.555556\n25%         -0.032213\n50%          0.017349\n75%          0.067330\nmax          1.928826\nName: returns, dtype: float64"
     },
     "execution_count": 19,
     "metadata": {},
     "output_type": "execute_result"
    }
   ],
   "source": [
    "# Labeling filings with returns to predict earnings surprises\n",
    "idx = pd.IndexSlice\n",
    "first = sec.date_filed.min() + relativedelta(months=-1) # sec.date_filed.min() -1 month\n",
    "last = sec.date_filed.max() + relativedelta(months=1) # sec.date_filed.min() +1 month\n",
    "# resample('D') dividing by specific period - options: Y, M, D, H, T(min), S ...\n",
    "# dropna(how='all') : toall axis=0/1 have to NaN to drop\n",
    "# ffill() fill data by previous one\n",
    "prices = (prices.loc[idx[first:last, :]].unstack().resample('D').ffill().dropna(how='all', axis=1)\n",
    "          .filter(sec.ticker.unique()))\n",
    "sec = sec.loc[sec.ticker.isin(prices.columns), ['ticker', 'date_filed']]\n",
    "\n",
    "price_data = []\n",
    "for ticker, date in sec.values.tolist():\n",
    "    target = date + relativedelta(months=1)\n",
    "    s = prices.loc[date: target, ticker]\n",
    "    price_data.append(s.iloc[-1] / s.iloc[0] - 1)\n",
    "\n",
    "df = pd.DataFrame(price_data, columns=['returns'], index=sec.index)\n",
    "df.returns.describe()"
   ],
   "metadata": {
    "collapsed": false,
    "pycharm": {
     "name": "#%%\n"
    }
   }
  },
  {
   "cell_type": "code",
   "execution_count": 20,
   "outputs": [
    {
     "name": "stdout",
     "output_type": "stream",
     "text": [
      "<class 'pandas.core.frame.DataFrame'>\n",
      "Int64Index: 11375 entries, 0 to 22629\n",
      "Data columns (total 3 columns):\n",
      " #   Column      Non-Null Count  Dtype         \n",
      "---  ------      --------------  -----         \n",
      " 0   ticker      11375 non-null  object        \n",
      " 1   date_filed  11375 non-null  datetime64[ns]\n",
      " 2   returns     11101 non-null  float64       \n",
      "dtypes: datetime64[ns](1), float64(1), object(1)\n",
      "memory usage: 355.5+ KB\n"
     ]
    }
   ],
   "source": [
    "sec['returns'] = price_data\n",
    "sec.info()"
   ],
   "metadata": {
    "collapsed": false,
    "pycharm": {
     "name": "#%%\n"
    }
   }
  },
  {
   "cell_type": "code",
   "execution_count": 21,
   "outputs": [],
   "source": [
    "sec.dropna().to_csv(sec_path / 'sec_returns.csv', index=False)"
   ],
   "metadata": {
    "collapsed": false,
    "pycharm": {
     "name": "#%%\n"
    }
   }
  }
 ],
 "metadata": {
  "kernelspec": {
   "display_name": "Python 3",
   "language": "python",
   "name": "python3"
  },
  "language_info": {
   "codemirror_mode": {
    "name": "ipython",
    "version": 2
   },
   "file_extension": ".py",
   "mimetype": "text/x-python",
   "name": "python",
   "nbconvert_exporter": "python",
   "pygments_lexer": "ipython2",
   "version": "2.7.6"
  }
 },
 "nbformat": 4,
 "nbformat_minor": 0
}
