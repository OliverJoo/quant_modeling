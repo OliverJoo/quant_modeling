{
 "cells": [
  {
   "cell_type": "code",
   "execution_count": 16,
   "metadata": {
    "collapsed": true,
    "pycharm": {
     "name": "#%%\n"
    },
    "ExecuteTime": {
     "end_time": "2023-09-19T02:44:08.578861Z",
     "start_time": "2023-09-19T02:44:07.190650600Z"
    }
   },
   "outputs": [],
   "source": [
    "import warnings\n",
    "warnings.filterwarnings('ignore')\n",
    "from collections import Counter\n",
    "\n",
    "from time import time\n",
    "from pathlib import Path\n",
    "\n",
    "import numpy as np\n",
    "import pandas as pd\n",
    "\n",
    "from pykalman import KalmanFilter\n",
    "from statsmodels.tsa.stattools import coint\n",
    "from statsmodels.tsa.vector_ar.vecm import coint_johansen\n",
    "from statsmodels.tsa.api import VAR\n",
    "\n",
    "import matplotlib.pyplot as plt\n",
    "import seaborn as sns\n",
    "idx = pd.IndexSlice\n",
    "sns.set_style('whitegrid')\n",
    "def format_time(t):\n",
    "    m_, s = divmod(t, 60)\n",
    "    h, m = divmod(m_, 60)\n",
    "    return f'{h:>02.0f}:{m:>02.0f}:{s:>02.0f}'"
   ]
  },
  {
   "cell_type": "code",
   "execution_count": 17,
   "outputs": [],
   "source": [
    "# Johansen Test Critical Values\n",
    "critical_values = {0: {.9: 13.4294, .95: 15.4943, .99: 19.9349}, 1: {.9: 2.7055, .95: 3.8415, .99: 6.6349}}\n",
    "trace0_cv = critical_values[0][.95] # critical value for 0 cointegration relationships\n",
    "trace1_cv = critical_values[1][.95] # critical value for 1 cointegration relationship"
   ],
   "metadata": {
    "collapsed": false,
    "pycharm": {
     "name": "#%%\n"
    },
    "ExecuteTime": {
     "end_time": "2023-09-19T02:44:08.618139100Z",
     "start_time": "2023-09-19T02:44:07.195638600Z"
    }
   }
  },
  {
   "cell_type": "code",
   "execution_count": 18,
   "outputs": [],
   "source": [
    "DATA_PATH = Path('data')\n",
    "STORE = DATA_PATH / 'assets.h5'"
   ],
   "metadata": {
    "collapsed": false,
    "pycharm": {
     "name": "#%%\n"
    },
    "ExecuteTime": {
     "end_time": "2023-09-19T02:44:08.619136600Z",
     "start_time": "2023-09-19T02:44:07.212592100Z"
    }
   }
  },
  {
   "cell_type": "code",
   "execution_count": 19,
   "outputs": [
    {
     "name": "stdout",
     "output_type": "stream",
     "text": [
      "<class 'pandas.core.frame.DataFrame'>\n",
      "MultiIndex: 305824 entries, ('AA.US', Timestamp('2016-01-04 00:00:00')) to ('WYNN.US', Timestamp('2019-12-31 00:00:00'))\n",
      "Data columns (total 5 columns):\n",
      " #   Column  Non-Null Count   Dtype  \n",
      "---  ------  --------------   -----  \n",
      " 0   open    305824 non-null  float64\n",
      " 1   high    305824 non-null  float64\n",
      " 2   low     305824 non-null  float64\n",
      " 3   close   305824 non-null  float64\n",
      " 4   volume  305824 non-null  float64\n",
      "dtypes: float64(5)\n",
      "memory usage: 13.3+ MB\n",
      "None\n"
     ]
    }
   ],
   "source": [
    "def get_backtest_prices():\n",
    "    with pd.HDFStore('data/data.h5') as store:\n",
    "        tickers = store['tickers']\n",
    "\n",
    "    with pd.HDFStore(STORE) as store:\n",
    "        prices = (pd.concat([ store['stooq/us/nyse/stocks/prices'], store['stooq/us/nyse/etfs/prices'],\n",
    "            store['stooq/us/nasdaq/etfs/prices'], store['stooq/us/nasdaq/stocks/prices']])\n",
    "                  .sort_index().loc[idx[tickers.index, '2016':'2019'], :])\n",
    "    print(prices.info(null_counts=True))\n",
    "    prices.to_hdf('data/backtest.h5', 'prices')\n",
    "    tickers.to_hdf('data/backtest.h5', 'tickers')\n",
    "\n",
    "get_backtest_prices()"
   ],
   "metadata": {
    "collapsed": false,
    "pycharm": {
     "name": "#%%\n"
    },
    "ExecuteTime": {
     "end_time": "2023-09-19T02:44:54.766354100Z",
     "start_time": "2023-09-19T02:44:07.226555Z"
    }
   }
  },
  {
   "cell_type": "code",
   "execution_count": 20,
   "outputs": [
    {
     "name": "stdout",
     "output_type": "stream",
     "text": [
      "<class 'pandas.core.frame.DataFrame'>\n",
      "DatetimeIndex: 1258 entries, 2015-01-02 to 2019-12-31\n",
      "Columns: 172 entries, AAPL.US to FSLR.US\n",
      "dtypes: float64(172)\n",
      "memory usage: 1.7 MB\n"
     ]
    }
   ],
   "source": [
    "# see notebook 05_cointagration_tests\n",
    "stocks = pd.read_hdf('data/data.h5', 'stocks/close').loc['2015':]\n",
    "stocks.info()"
   ],
   "metadata": {
    "collapsed": false,
    "pycharm": {
     "name": "#%%\n"
    },
    "ExecuteTime": {
     "end_time": "2023-09-19T02:44:55.566317100Z",
     "start_time": "2023-09-19T02:44:54.686818300Z"
    }
   }
  },
  {
   "cell_type": "code",
   "execution_count": 21,
   "outputs": [
    {
     "name": "stdout",
     "output_type": "stream",
     "text": [
      "<class 'pandas.core.frame.DataFrame'>\n",
      "DatetimeIndex: 1258 entries, 2015-01-02 to 2019-12-31\n",
      "Columns: 132 entries, SPY.US to EWN.US\n",
      "dtypes: float64(132)\n",
      "memory usage: 1.3 MB\n"
     ]
    }
   ],
   "source": [
    "# see notebook 05_cointagration_tests\n",
    "etfs = pd.read_hdf('data/data.h5', 'etfs/close').loc['2015':]\n",
    "etfs.info()"
   ],
   "metadata": {
    "collapsed": false,
    "pycharm": {
     "name": "#%%\n"
    },
    "ExecuteTime": {
     "end_time": "2023-09-19T02:44:55.684994100Z",
     "start_time": "2023-09-19T02:44:55.556339700Z"
    }
   }
  },
  {
   "cell_type": "code",
   "execution_count": 22,
   "outputs": [
    {
     "data": {
      "text/plain": "304"
     },
     "execution_count": 22,
     "metadata": {},
     "output_type": "execute_result"
    }
   ],
   "source": [
    "names = pd.read_hdf('data/data.h5', 'tickers').to_dict()\n",
    "pd.Series(names).count()"
   ],
   "metadata": {
    "collapsed": false,
    "pycharm": {
     "name": "#%%\n"
    },
    "ExecuteTime": {
     "end_time": "2023-09-19T02:44:55.759795500Z",
     "start_time": "2023-09-19T02:44:55.683996900Z"
    }
   }
  },
  {
   "cell_type": "code",
   "execution_count": 23,
   "outputs": [],
   "source": [
    "# Precompute Cointegration\n",
    "def test_cointegration(etfs, stocks, test_end, lookback=2):\n",
    "    start = time()\n",
    "    results = []\n",
    "    test_start = test_end - pd.DateOffset(years=lookback) + pd.DateOffset(days=1)\n",
    "    etf_tickers = etfs.columns.tolist()\n",
    "    etf_data = etfs.loc[str(test_start):str(test_end)]\n",
    "\n",
    "    stock_tickers = stocks.columns.tolist()\n",
    "    stock_data = stocks.loc[str(test_start):str(test_end)]\n",
    "    n = len(etf_tickers) * len(stock_tickers)\n",
    "    j = 0\n",
    "    for i, s1 in enumerate(etf_tickers, 1):\n",
    "        for s2 in stock_tickers:\n",
    "            j += 1\n",
    "            if j % 1000 == 0:\n",
    "                print(f'\\t{j:5,.0f} ({j/n:3.1%}) | {time() - start:.2f}')\n",
    "            df = etf_data.loc[:, [s1]].dropna().join(stock_data.loc[:, [s2]].dropna(), how='inner')\n",
    "            with warnings.catch_warnings():\n",
    "                warnings.simplefilter('ignore')\n",
    "                var = VAR(df)\n",
    "                lags = var.select_order()\n",
    "                result = [test_end, s1, s2]\n",
    "                order = lags.selected_orders['aic']\n",
    "                result += [coint(df[s1], df[s2], trend='c')[1], coint(df[s2], df[s1], trend='c')[1]]\n",
    "\n",
    "            cj = coint_johansen(df, det_order=0, k_ar_diff=order)\n",
    "            result += (list(cj.lr1) + list(cj.lr2) + list(cj.evec[:, cj.ind[0]]))\n",
    "            results.append(result)\n",
    "    return results"
   ],
   "metadata": {
    "collapsed": false,
    "pycharm": {
     "name": "#%%\n"
    },
    "ExecuteTime": {
     "end_time": "2023-09-19T02:44:55.788045Z",
     "start_time": "2023-09-19T02:44:55.768801800Z"
    }
   }
  },
  {
   "cell_type": "code",
   "execution_count": 24,
   "outputs": [
    {
     "data": {
      "text/plain": "DatetimeIndex(['2016-12-31', '2017-03-31', '2017-06-30', '2017-09-30',\n               '2017-12-31', '2018-03-31', '2018-06-30', '2018-09-30',\n               '2018-12-31', '2019-03-31', '2019-06-30'],\n              dtype='datetime64[ns]', name='date', freq='Q-DEC')"
     },
     "execution_count": 24,
     "metadata": {},
     "output_type": "execute_result"
    }
   ],
   "source": [
    "dates = stocks.loc['2016-12':'2019-6'].resample('Q').last().index\n",
    "dates"
   ],
   "metadata": {
    "collapsed": false,
    "pycharm": {
     "name": "#%%\n"
    },
    "ExecuteTime": {
     "end_time": "2023-09-19T02:44:56.053307600Z",
     "start_time": "2023-09-19T02:44:55.774754100Z"
    }
   }
  },
  {
   "cell_type": "code",
   "execution_count": 25,
   "outputs": [
    {
     "name": "stdout",
     "output_type": "stream",
     "text": [
      "2016-12-31 00:00:00\n",
      "\t1,000 (4.4%) | 51.54\n",
      "\t2,000 (8.8%) | 102.44\n",
      "\t3,000 (13.2%) | 152.55\n",
      "\t4,000 (17.6%) | 202.73\n",
      "\t5,000 (22.0%) | 253.32\n",
      "\t6,000 (26.4%) | 305.79\n",
      "\t7,000 (30.8%) | 357.57\n",
      "\t8,000 (35.2%) | 408.95\n",
      "\t9,000 (39.6%) | 459.78\n",
      "\t10,000 (44.0%) | 510.40\n",
      "\t11,000 (48.4%) | 561.66\n",
      "\t12,000 (52.9%) | 614.05\n",
      "\t13,000 (57.3%) | 667.86\n",
      "\t14,000 (61.7%) | 722.51\n",
      "\t15,000 (66.1%) | 775.96\n",
      "\t16,000 (70.5%) | 830.78\n",
      "\t17,000 (74.9%) | 884.10\n",
      "\t18,000 (79.3%) | 937.49\n",
      "\t19,000 (83.7%) | 990.88\n",
      "\t20,000 (88.1%) | 1044.43\n",
      "\t21,000 (92.5%) | 1097.76\n",
      "\t22,000 (96.9%) | 1151.63\n",
      "2017-03-31 00:00:00\n",
      "\t1,000 (4.4%) | 53.93\n",
      "\t2,000 (8.8%) | 107.93\n",
      "\t3,000 (13.2%) | 162.38\n",
      "\t4,000 (17.6%) | 216.14\n",
      "\t5,000 (22.0%) | 270.16\n",
      "\t6,000 (26.4%) | 325.58\n",
      "\t7,000 (30.8%) | 379.33\n",
      "\t8,000 (35.2%) | 433.13\n",
      "\t9,000 (39.6%) | 487.56\n",
      "\t10,000 (44.0%) | 541.42\n",
      "\t11,000 (48.4%) | 595.25\n",
      "\t12,000 (52.9%) | 649.42\n",
      "\t13,000 (57.3%) | 704.10\n",
      "\t14,000 (61.7%) | 755.31\n",
      "\t15,000 (66.1%) | 805.55\n",
      "\t16,000 (70.5%) | 856.69\n",
      "\t17,000 (74.9%) | 907.70\n",
      "\t18,000 (79.3%) | 958.16\n",
      "\t19,000 (83.7%) | 1009.38\n",
      "\t20,000 (88.1%) | 1060.86\n",
      "\t21,000 (92.5%) | 1112.06\n",
      "\t22,000 (96.9%) | 1162.75\n",
      "2017-06-30 00:00:00\n",
      "\t1,000 (4.4%) | 51.67\n",
      "\t2,000 (8.8%) | 103.43\n",
      "\t3,000 (13.2%) | 154.43\n",
      "\t4,000 (17.6%) | 205.34\n",
      "\t5,000 (22.0%) | 255.51\n",
      "\t6,000 (26.4%) | 305.83\n",
      "\t7,000 (30.8%) | 357.13\n",
      "\t8,000 (35.2%) | 408.27\n",
      "\t9,000 (39.6%) | 458.82\n",
      "\t10,000 (44.0%) | 509.47\n",
      "\t11,000 (48.4%) | 560.61\n",
      "\t12,000 (52.9%) | 611.92\n",
      "\t13,000 (57.3%) | 662.48\n",
      "\t14,000 (61.7%) | 713.03\n",
      "\t15,000 (66.1%) | 764.56\n",
      "\t16,000 (70.5%) | 815.87\n",
      "\t17,000 (74.9%) | 866.66\n",
      "\t18,000 (79.3%) | 917.40\n",
      "\t19,000 (83.7%) | 968.73\n",
      "\t20,000 (88.1%) | 1020.20\n",
      "\t21,000 (92.5%) | 1070.98\n",
      "\t22,000 (96.9%) | 1121.90\n",
      "2017-09-30 00:00:00\n",
      "\t1,000 (4.4%) | 51.46\n",
      "\t2,000 (8.8%) | 102.35\n",
      "\t3,000 (13.2%) | 153.02\n",
      "\t4,000 (17.6%) | 204.19\n",
      "\t5,000 (22.0%) | 255.62\n",
      "\t6,000 (26.4%) | 306.22\n",
      "\t7,000 (30.8%) | 356.88\n",
      "\t8,000 (35.2%) | 409.01\n",
      "\t9,000 (39.6%) | 464.08\n",
      "\t10,000 (44.0%) | 514.43\n",
      "\t11,000 (48.4%) | 564.68\n",
      "\t12,000 (52.9%) | 616.05\n",
      "\t13,000 (57.3%) | 666.58\n",
      "\t14,000 (61.7%) | 717.67\n",
      "\t15,000 (66.1%) | 768.45\n",
      "\t16,000 (70.5%) | 820.26\n",
      "\t17,000 (74.9%) | 871.45\n",
      "\t18,000 (79.3%) | 923.15\n",
      "\t19,000 (83.7%) | 973.84\n",
      "\t20,000 (88.1%) | 1023.84\n",
      "\t21,000 (92.5%) | 1074.47\n",
      "\t22,000 (96.9%) | 1125.42\n",
      "2017-12-31 00:00:00\n",
      "\t1,000 (4.4%) | 53.58\n",
      "\t2,000 (8.8%) | 105.16\n",
      "\t3,000 (13.2%) | 156.26\n",
      "\t4,000 (17.6%) | 207.17\n",
      "\t5,000 (22.0%) | 258.69\n",
      "\t6,000 (26.4%) | 309.40\n",
      "\t7,000 (30.8%) | 360.78\n",
      "\t8,000 (35.2%) | 411.42\n",
      "\t9,000 (39.6%) | 461.71\n",
      "\t10,000 (44.0%) | 512.63\n",
      "\t11,000 (48.4%) | 562.83\n",
      "\t12,000 (52.9%) | 613.44\n",
      "\t13,000 (57.3%) | 665.78\n",
      "\t14,000 (61.7%) | 717.66\n",
      "\t15,000 (66.1%) | 768.83\n",
      "\t16,000 (70.5%) | 820.38\n",
      "\t17,000 (74.9%) | 871.53\n",
      "\t18,000 (79.3%) | 923.14\n",
      "\t19,000 (83.7%) | 973.82\n",
      "\t20,000 (88.1%) | 1024.46\n",
      "\t21,000 (92.5%) | 1076.50\n",
      "\t22,000 (96.9%) | 1128.14\n",
      "2018-03-31 00:00:00\n",
      "\t1,000 (4.4%) | 51.31\n",
      "\t2,000 (8.8%) | 103.43\n",
      "\t3,000 (13.2%) | 155.76\n",
      "\t4,000 (17.6%) | 207.38\n",
      "\t5,000 (22.0%) | 258.74\n",
      "\t6,000 (26.4%) | 311.51\n",
      "\t7,000 (30.8%) | 364.08\n",
      "\t8,000 (35.2%) | 415.96\n",
      "\t9,000 (39.6%) | 467.15\n",
      "\t10,000 (44.0%) | 517.76\n",
      "\t11,000 (48.4%) | 567.89\n",
      "\t12,000 (52.9%) | 619.37\n",
      "\t13,000 (57.3%) | 670.33\n",
      "\t14,000 (61.7%) | 721.78\n",
      "\t15,000 (66.1%) | 772.81\n",
      "\t16,000 (70.5%) | 825.66\n",
      "\t17,000 (74.9%) | 877.75\n",
      "\t18,000 (79.3%) | 930.58\n",
      "\t19,000 (83.7%) | 981.53\n",
      "\t20,000 (88.1%) | 1032.31\n",
      "\t21,000 (92.5%) | 1083.00\n",
      "\t22,000 (96.9%) | 1135.49\n",
      "2018-06-30 00:00:00\n",
      "\t1,000 (4.4%) | 50.87\n",
      "\t2,000 (8.8%) | 102.26\n",
      "\t3,000 (13.2%) | 153.62\n",
      "\t4,000 (17.6%) | 204.57\n",
      "\t5,000 (22.0%) | 255.23\n",
      "\t6,000 (26.4%) | 307.07\n",
      "\t7,000 (30.8%) | 358.37\n",
      "\t8,000 (35.2%) | 411.62\n",
      "\t9,000 (39.6%) | 463.36\n",
      "\t10,000 (44.0%) | 515.69\n",
      "\t11,000 (48.4%) | 566.34\n",
      "\t12,000 (52.9%) | 617.76\n",
      "\t13,000 (57.3%) | 669.79\n",
      "\t14,000 (61.7%) | 721.60\n",
      "\t15,000 (66.1%) | 773.93\n",
      "\t16,000 (70.5%) | 826.00\n",
      "\t17,000 (74.9%) | 876.45\n",
      "\t18,000 (79.3%) | 927.13\n",
      "\t19,000 (83.7%) | 980.32\n",
      "\t20,000 (88.1%) | 1034.86\n",
      "\t21,000 (92.5%) | 1088.49\n",
      "\t22,000 (96.9%) | 1140.56\n",
      "2018-09-30 00:00:00\n",
      "\t1,000 (4.4%) | 51.98\n",
      "\t2,000 (8.8%) | 103.32\n",
      "\t3,000 (13.2%) | 155.87\n",
      "\t4,000 (17.6%) | 208.69\n",
      "\t5,000 (22.0%) | 260.27\n",
      "\t6,000 (26.4%) | 311.05\n",
      "\t7,000 (30.8%) | 361.73\n",
      "\t8,000 (35.2%) | 412.55\n",
      "\t9,000 (39.6%) | 462.86\n",
      "\t10,000 (44.0%) | 512.91\n",
      "\t11,000 (48.4%) | 565.53\n",
      "\t12,000 (52.9%) | 617.49\n",
      "\t13,000 (57.3%) | 667.95\n",
      "\t14,000 (61.7%) | 719.29\n",
      "\t15,000 (66.1%) | 772.59\n",
      "\t16,000 (70.5%) | 825.08\n",
      "\t17,000 (74.9%) | 876.78\n",
      "\t18,000 (79.3%) | 927.95\n",
      "\t19,000 (83.7%) | 979.56\n",
      "\t20,000 (88.1%) | 1031.13\n",
      "\t21,000 (92.5%) | 1081.49\n",
      "\t22,000 (96.9%) | 1134.10\n",
      "2018-12-31 00:00:00\n",
      "\t1,000 (4.4%) | 53.55\n",
      "\t2,000 (8.8%) | 106.56\n",
      "\t3,000 (13.2%) | 159.55\n",
      "\t4,000 (17.6%) | 212.48\n",
      "\t5,000 (22.0%) | 264.53\n",
      "\t6,000 (26.4%) | 315.68\n",
      "\t7,000 (30.8%) | 366.81\n",
      "\t8,000 (35.2%) | 418.69\n",
      "\t9,000 (39.6%) | 470.16\n",
      "\t10,000 (44.0%) | 521.36\n",
      "\t11,000 (48.4%) | 572.62\n",
      "\t12,000 (52.9%) | 624.13\n",
      "\t13,000 (57.3%) | 676.21\n",
      "\t14,000 (61.7%) | 727.78\n",
      "\t15,000 (66.1%) | 779.60\n",
      "\t16,000 (70.5%) | 832.26\n",
      "\t17,000 (74.9%) | 883.78\n",
      "\t18,000 (79.3%) | 937.27\n",
      "\t19,000 (83.7%) | 989.59\n",
      "\t20,000 (88.1%) | 1040.93\n",
      "\t21,000 (92.5%) | 1092.63\n",
      "\t22,000 (96.9%) | 1144.97\n",
      "2019-03-31 00:00:00\n",
      "\t1,000 (4.4%) | 51.07\n",
      "\t2,000 (8.8%) | 103.08\n",
      "\t3,000 (13.2%) | 155.34\n",
      "\t4,000 (17.6%) | 206.72\n",
      "\t5,000 (22.0%) | 257.29\n",
      "\t6,000 (26.4%) | 308.42\n",
      "\t7,000 (30.8%) | 360.25\n",
      "\t8,000 (35.2%) | 412.03\n",
      "\t9,000 (39.6%) | 464.13\n",
      "\t10,000 (44.0%) | 515.82\n",
      "\t11,000 (48.4%) | 567.60\n",
      "\t12,000 (52.9%) | 619.11\n",
      "\t13,000 (57.3%) | 670.49\n",
      "\t14,000 (61.7%) | 722.98\n",
      "\t15,000 (66.1%) | 774.91\n",
      "\t16,000 (70.5%) | 826.50\n",
      "\t17,000 (74.9%) | 877.66\n",
      "\t18,000 (79.3%) | 929.94\n",
      "\t19,000 (83.7%) | 982.36\n",
      "\t20,000 (88.1%) | 1033.73\n",
      "\t21,000 (92.5%) | 1085.29\n",
      "\t22,000 (96.9%) | 1137.31\n",
      "2019-06-30 00:00:00\n",
      "\t1,000 (4.4%) | 52.21\n",
      "\t2,000 (8.8%) | 104.80\n",
      "\t3,000 (13.2%) | 158.15\n",
      "\t4,000 (17.6%) | 210.35\n",
      "\t5,000 (22.0%) | 262.08\n",
      "\t6,000 (26.4%) | 313.09\n",
      "\t7,000 (30.8%) | 363.53\n",
      "\t8,000 (35.2%) | 413.96\n",
      "\t9,000 (39.6%) | 464.72\n",
      "\t10,000 (44.0%) | 515.60\n",
      "\t11,000 (48.4%) | 566.76\n",
      "\t12,000 (52.9%) | 618.05\n",
      "\t13,000 (57.3%) | 669.35\n",
      "\t14,000 (61.7%) | 719.99\n",
      "\t15,000 (66.1%) | 771.10\n",
      "\t16,000 (70.5%) | 823.25\n",
      "\t17,000 (74.9%) | 874.26\n",
      "\t18,000 (79.3%) | 925.60\n",
      "\t19,000 (83.7%) | 976.49\n",
      "\t20,000 (88.1%) | 1027.56\n",
      "\t21,000 (92.5%) | 1077.85\n",
      "\t22,000 (96.9%) | 1128.00\n"
     ]
    }
   ],
   "source": [
    "# Run Tests\n",
    "test_results = []\n",
    "columns = ['test_end', 's1', 's2', 'eg1', 'eg2', 'trace0', 'trace1', 'eig0', 'eig1', 'w1', 'w2']\n",
    "\n",
    "for test_end in dates:\n",
    "    print(test_end)\n",
    "    result = test_cointegration(etfs, stocks, test_end=test_end)\n",
    "    test_results.append(pd.DataFrame(result, columns=columns))\n",
    "\n",
    "pd.concat(test_results).to_hdf('data/backtest.h5', 'cointegration_test')"
   ],
   "metadata": {
    "collapsed": false,
    "pycharm": {
     "name": "#%%\n"
    },
    "ExecuteTime": {
     "end_time": "2023-09-19T06:20:09.850478700Z",
     "start_time": "2023-09-19T02:44:56.023390100Z"
    }
   }
  },
  {
   "cell_type": "code",
   "execution_count": 26,
   "outputs": [
    {
     "name": "stdout",
     "output_type": "stream",
     "text": [
      "<class 'pandas.core.frame.DataFrame'>\n",
      "Int64Index: 249744 entries, 0 to 22703\n",
      "Data columns (total 11 columns):\n",
      " #   Column    Non-Null Count   Dtype         \n",
      "---  ------    --------------   -----         \n",
      " 0   test_end  249744 non-null  datetime64[ns]\n",
      " 1   s1        249744 non-null  object        \n",
      " 2   s2        249744 non-null  object        \n",
      " 3   eg1       249744 non-null  float64       \n",
      " 4   eg2       249744 non-null  float64       \n",
      " 5   trace0    249744 non-null  float64       \n",
      " 6   trace1    249744 non-null  float64       \n",
      " 7   eig0      249744 non-null  float64       \n",
      " 8   eig1      249744 non-null  float64       \n",
      " 9   w1        249744 non-null  float64       \n",
      " 10  w2        249744 non-null  float64       \n",
      "dtypes: datetime64[ns](1), float64(8), object(2)\n",
      "memory usage: 22.9+ MB\n"
     ]
    }
   ],
   "source": [
    "# Reload Test Results\n",
    "test_results = pd.read_hdf('data/backtest.h5', 'cointegration_test')\n",
    "test_results.info()"
   ],
   "metadata": {
    "collapsed": false,
    "pycharm": {
     "name": "#%%\n"
    },
    "ExecuteTime": {
     "end_time": "2023-09-19T06:20:10.037613200Z",
     "start_time": "2023-09-19T06:20:09.874414800Z"
    }
   }
  },
  {
   "cell_type": "code",
   "execution_count": 27,
   "outputs": [
    {
     "data": {
      "text/plain": "False    0.947883\nTrue     0.052117\nName: joh_sig, dtype: float64"
     },
     "execution_count": 27,
     "metadata": {},
     "output_type": "execute_result"
    }
   ],
   "source": [
    "# Identify Cointegrated Pairs\n",
    "# Significant Johansen Trace Statistic\n",
    "test_results['joh_sig'] = ((test_results.trace0 > trace0_cv) & (test_results.trace1 > trace1_cv))\n",
    "test_results.joh_sig.value_counts(normalize=True)"
   ],
   "metadata": {
    "collapsed": false,
    "pycharm": {
     "name": "#%%\n"
    },
    "ExecuteTime": {
     "end_time": "2023-09-19T06:20:10.150918Z",
     "start_time": "2023-09-19T06:20:10.038611Z"
    }
   }
  },
  {
   "cell_type": "code",
   "execution_count": 28,
   "outputs": [
    {
     "data": {
      "text/plain": "False    0.912683\nTrue     0.087317\nName: eg_sig, dtype: float64"
     },
     "execution_count": 28,
     "metadata": {},
     "output_type": "execute_result"
    }
   ],
   "source": [
    "# Significant Engle Granger Test\n",
    "test_results['eg'] = test_results[['eg1', 'eg2']].min(axis=1)\n",
    "test_results['s1_dep'] = test_results.eg1 < test_results.eg2\n",
    "test_results['eg_sig'] = (test_results.eg < .05)\n",
    "test_results.eg_sig.value_counts(normalize=True)"
   ],
   "metadata": {
    "collapsed": false,
    "pycharm": {
     "name": "#%%\n"
    },
    "ExecuteTime": {
     "end_time": "2023-09-19T06:20:10.199790700Z",
     "start_time": "2023-09-19T06:20:10.071349800Z"
    }
   }
  },
  {
   "cell_type": "code",
   "execution_count": 29,
   "outputs": [
    {
     "data": {
      "text/plain": "False    0.987439\nTrue     0.012561\nName: coint, dtype: float64"
     },
     "execution_count": 29,
     "metadata": {},
     "output_type": "execute_result"
    }
   ],
   "source": [
    "# Comparison Engle-Granger vs Johansen\n",
    "test_results['coint'] = (test_results.eg_sig & test_results.joh_sig)\n",
    "test_results.coint.value_counts(normalize=True)"
   ],
   "metadata": {
    "collapsed": false,
    "pycharm": {
     "name": "#%%\n"
    },
    "ExecuteTime": {
     "end_time": "2023-09-19T06:20:10.221780800Z",
     "start_time": "2023-09-19T06:20:10.179843Z"
    }
   }
  },
  {
   "cell_type": "code",
   "execution_count": 30,
   "outputs": [
    {
     "name": "stdout",
     "output_type": "stream",
     "text": [
      "<class 'pandas.core.frame.DataFrame'>\n",
      "Int64Index: 249744 entries, 0 to 22703\n",
      "Data columns (total 10 columns):\n",
      " #   Column    Non-Null Count   Dtype         \n",
      "---  ------    --------------   -----         \n",
      " 0   test_end  249744 non-null  datetime64[ns]\n",
      " 1   s1        249744 non-null  object        \n",
      " 2   s2        249744 non-null  object        \n",
      " 3   w1        249744 non-null  float64       \n",
      " 4   w2        249744 non-null  float64       \n",
      " 5   joh_sig   249744 non-null  bool          \n",
      " 6   eg        249744 non-null  float64       \n",
      " 7   s1_dep    249744 non-null  bool          \n",
      " 8   eg_sig    249744 non-null  bool          \n",
      " 9   coint     249744 non-null  bool          \n",
      "dtypes: bool(4), datetime64[ns](1), float64(3), object(2)\n",
      "memory usage: 14.3+ MB\n"
     ]
    }
   ],
   "source": [
    "test_results = test_results.drop(['eg1', 'eg2', 'trace0', 'trace1', 'eig0', 'eig1'], axis=1)\n",
    "test_results.info()"
   ],
   "metadata": {
    "collapsed": false,
    "pycharm": {
     "name": "#%%\n"
    },
    "ExecuteTime": {
     "end_time": "2023-09-19T06:20:10.339764Z",
     "start_time": "2023-09-19T06:20:10.206771600Z"
    }
   }
  },
  {
   "cell_type": "code",
   "execution_count": 31,
   "outputs": [
    {
     "data": {
      "text/plain": "<Figure size 432x288 with 1 Axes>",
      "image/png": "[encoded data removed]"
     },
     "metadata": {
      "needs_background": "light"
     },
     "output_type": "display_data"
    }
   ],
   "source": [
    "# Comparison\n",
    "ax = test_results.groupby('test_end').coint.mean().to_frame('# Pairs').plot()\n",
    "ax.axhline(.05, lw=1, ls='--', c='k');"
   ],
   "metadata": {
    "collapsed": false,
    "pycharm": {
     "name": "#%%\n"
    },
    "ExecuteTime": {
     "end_time": "2023-09-19T06:20:11.281982200Z",
     "start_time": "2023-09-19T06:20:10.333228200Z"
    }
   }
  },
  {
   "cell_type": "code",
   "execution_count": 32,
   "outputs": [
    {
     "name": "stdout",
     "output_type": "stream",
     "text": [
      "<class 'pandas.core.frame.DataFrame'>\n",
      "Int64Index: 31686 entries, 8 to 22693\n",
      "Data columns (total 9 columns):\n",
      " #   Column    Non-Null Count  Dtype         \n",
      "---  ------    --------------  -----         \n",
      " 0   test_end  31686 non-null  datetime64[ns]\n",
      " 1   w1        31686 non-null  float64       \n",
      " 2   w2        31686 non-null  float64       \n",
      " 3   joh_sig   31686 non-null  bool          \n",
      " 4   eg        31686 non-null  float64       \n",
      " 5   eg_sig    31686 non-null  bool          \n",
      " 6   coint     31686 non-null  bool          \n",
      " 7   y         31686 non-null  object        \n",
      " 8   x         31686 non-null  object        \n",
      "dtypes: bool(3), datetime64[ns](1), float64(3), object(2)\n",
      "memory usage: 1.8+ MB\n"
     ]
    }
   ],
   "source": [
    "# Select Candidate Pairs\n",
    "def select_candidate_pairs(data):\n",
    "    candidates = data[data.joh_sig | data.eg_sig]\n",
    "    candidates['y'] = candidates.apply(lambda x: x.s1 if x.s1_dep else x.s2, axis=1)\n",
    "    candidates['x'] = candidates.apply(lambda x: x.s2 if x.s1_dep else x.s1, axis=1)\n",
    "    return candidates.drop(['s1_dep', 's1', 's2'], axis=1)\n",
    "candidates = select_candidate_pairs(test_results)\n",
    "candidates.to_hdf('data/backtest.h5', 'candidates')\n",
    "candidates = pd.read_hdf('data/backtest.h5', 'candidates')\n",
    "candidates.info()"
   ],
   "metadata": {
    "collapsed": false,
    "pycharm": {
     "name": "#%%\n"
    },
    "ExecuteTime": {
     "end_time": "2023-09-19T06:20:12.256293300Z",
     "start_time": "2023-09-19T06:20:11.282971900Z"
    }
   }
  },
  {
   "cell_type": "code",
   "execution_count": 33,
   "outputs": [
    {
     "data": {
      "text/plain": "<AxesSubplot: xlabel='test_end'>"
     },
     "execution_count": 33,
     "metadata": {},
     "output_type": "execute_result"
    },
    {
     "data": {
      "text/plain": "<Figure size 576x360 with 1 Axes>",
      "image/png": "[encoded data removed]"
     },
     "metadata": {
      "needs_background": "light"
     },
     "output_type": "display_data"
    }
   ],
   "source": [
    "# Candidates over Time\n",
    "candidates.groupby('test_end').size().plot(figsize=(8, 5))"
   ],
   "metadata": {
    "collapsed": false,
    "pycharm": {
     "name": "#%%\n"
    },
    "ExecuteTime": {
     "end_time": "2023-09-19T06:20:12.445779600Z",
     "start_time": "2023-09-19T06:20:12.256293300Z"
    }
   }
  },
  {
   "cell_type": "code",
   "execution_count": 34,
   "outputs": [
    {
     "name": "stdout",
     "output_type": "stream",
     "text": [
      "<class 'pandas.io.pytables.HDFStore'>\n",
      "File path: data/data.h5\n",
      "/best_params                             series       (shape->[7])          \n",
      "/etfs/close                              frame        (shape->[2516,132])   \n",
      "/features                                frame        (shape->[2576938,225])\n",
      "/lasso/coeffs                            frame        (shape->[8,34])       \n",
      "/lasso/predictions                       frame        (shape->[592432,3])   \n",
      "/lasso/scores                            frame        (shape->[6000,3])     \n",
      "/logistic/coeffs                         frame        (shape->[11,34])      \n",
      "/logistic/predictions                    frame        (shape->[814594,4])   \n",
      "/logistic/scores                         frame        (shape->[825,5])      \n",
      "/lr/predictions                          frame        (shape->[74054,2])    \n",
      "/lr/scores                               frame        (shape->[750,2])      \n",
      "/model_data                              frame        (shape->[1926804,34]) \n",
      "/ridge/coeffs                            frame        (shape->[18,34])      \n",
      "/ridge/predictions                       frame        (shape->[1332972,3])  \n",
      "/ridge/scores                            frame        (shape->[13500,3])    \n",
      "/stocks/close                            frame        (shape->[2516,172])   \n",
      "/stooq/japan/equities                    frame        (shape->[3081645,23]) \n",
      "/stooq/japan/equities/cv_data            frame        (shape->[674160,23])  \n",
      "/tickers                                 series       (shape->[1])          \n",
      "/universe                                frame        (shape->[2576938,5])  \n",
      "/us/equities/monthly                     frame        (shape->[77788,27])   \n",
      "/us/equities/prices                      frame        (shape->[9532628,16]) \n"
     ]
    }
   ],
   "source": [
    "# Most Common Pairs\n",
    "with pd.HDFStore('data/data.h5') as store:\n",
    "    print(store.info())\n",
    "    tickers = store['tickers']"
   ],
   "metadata": {
    "collapsed": false,
    "pycharm": {
     "name": "#%%\n"
    },
    "ExecuteTime": {
     "end_time": "2023-09-19T06:20:13.351633Z",
     "start_time": "2023-09-19T06:20:12.445779600Z"
    }
   }
  },
  {
   "cell_type": "code",
   "execution_count": 35,
   "outputs": [
    {
     "name": "stdout",
     "output_type": "stream",
     "text": [
      "<class 'pandas.io.pytables.HDFStore'>\n",
      "File path: data/backtest.h5\n",
      "/candidates                    frame        (shape->[31686,9])  \n",
      "/cointegration_test            frame        (shape->[249744,11])\n",
      "/data                          frame        (shape->[190451,6]) \n",
      "/prices                        frame        (shape->[305824,5]) \n",
      "/tickers                       series       (shape->[1])        \n"
     ]
    },
    {
     "data": {
      "text/plain": "        s1       s2\n0     T.US   VOX.US\n1  MDLZ.US   XOP.US\n2   ERX.US  MDLZ.US\n3   AMJ.US  MDLZ.US\n4  MDLZ.US   VDE.US\n5   DIG.US  MDLZ.US\n6   DJP.US  MDLZ.US\n7   GSG.US  MDLZ.US\n8   FXN.US  MDLZ.US\n9   OIH.US   WBA.US",
      "text/html": "<div>\n<style scoped>\n    .dataframe tbody tr th:only-of-type {\n        vertical-align: middle;\n    }\n\n    .dataframe tbody tr th {\n        vertical-align: top;\n    }\n\n    .dataframe thead th {\n        text-align: right;\n    }\n</style>\n<table border=\"1\" class=\"dataframe\">\n  <thead>\n    <tr style=\"text-align: right;\">\n      <th></th>\n      <th>s1</th>\n      <th>s2</th>\n    </tr>\n  </thead>\n  <tbody>\n    <tr>\n      <th>0</th>\n      <td>T.US</td>\n      <td>VOX.US</td>\n    </tr>\n    <tr>\n      <th>1</th>\n      <td>MDLZ.US</td>\n      <td>XOP.US</td>\n    </tr>\n    <tr>\n      <th>2</th>\n      <td>ERX.US</td>\n      <td>MDLZ.US</td>\n    </tr>\n    <tr>\n      <th>3</th>\n      <td>AMJ.US</td>\n      <td>MDLZ.US</td>\n    </tr>\n    <tr>\n      <th>4</th>\n      <td>MDLZ.US</td>\n      <td>VDE.US</td>\n    </tr>\n    <tr>\n      <th>5</th>\n      <td>DIG.US</td>\n      <td>MDLZ.US</td>\n    </tr>\n    <tr>\n      <th>6</th>\n      <td>DJP.US</td>\n      <td>MDLZ.US</td>\n    </tr>\n    <tr>\n      <th>7</th>\n      <td>GSG.US</td>\n      <td>MDLZ.US</td>\n    </tr>\n    <tr>\n      <th>8</th>\n      <td>FXN.US</td>\n      <td>MDLZ.US</td>\n    </tr>\n    <tr>\n      <th>9</th>\n      <td>OIH.US</td>\n      <td>WBA.US</td>\n    </tr>\n  </tbody>\n</table>\n</div>"
     },
     "execution_count": 35,
     "metadata": {},
     "output_type": "execute_result"
    }
   ],
   "source": [
    "with pd.HDFStore('data/backtest.h5') as store:\n",
    "    print(store.info())\n",
    "\n",
    "counter = Counter()\n",
    "for s1, s2 in zip(candidates[candidates.joh_sig & candidates.eg_sig].y,\n",
    "                  candidates[candidates.joh_sig & candidates.eg_sig].x):\n",
    "    if s1 > s2:\n",
    "        counter[(s2, s1)] += 1\n",
    "    else:\n",
    "        counter[(s1, s2)] += 1\n",
    "most_common_pairs = pd.DataFrame(counter.most_common(10))\n",
    "most_common_pairs = pd.DataFrame(most_common_pairs[0].values.tolist(), columns=['s1', 's2'])\n",
    "most_common_pairs"
   ],
   "metadata": {
    "collapsed": false,
    "pycharm": {
     "name": "#%%\n"
    },
    "ExecuteTime": {
     "end_time": "2023-09-19T06:20:13.489589600Z",
     "start_time": "2023-09-19T06:20:13.348633800Z"
    }
   }
  },
  {
   "cell_type": "code",
   "execution_count": 36,
   "outputs": [
    {
     "data": {
      "text/plain": "           s1       s2  n                                     name1  \\\n1151     T.US   VOX.US  6                                      AT&T   \n494   MDLZ.US   XOP.US  5                              MONDELEZ INT   \n525    ERX.US  MDLZ.US  5      DIREXION DAILY ENERGY BULL 2X SHARES   \n529    AMJ.US  MDLZ.US  5            JPMORGAN ALERIAN MLP INDEX ETN   \n555   MDLZ.US   VDE.US  5                              MONDELEZ INT   \n563    DIG.US  MDLZ.US  5                    PROSHARES ULTRA ENERGY   \n583    DJP.US  MDLZ.US  5    IPATH BLOOMBERG COMMODITY INDEX TR ETN   \n604    GSG.US  MDLZ.US  5  ISHARES S&P GSCI COMMODITY INDEXED TRUST   \n613    FXN.US  MDLZ.US  5          FIRST TRUST ENERGY ALPHADEX FUND   \n50     OIH.US   WBA.US  4                   VANECK OIL SERVICES ETF   \n\n                                                name2  \n1151              VANGUARD COMMUNICATION SERVICES ETF  \n494   SPDR S&P OIL & GAS EXPLORATION & PRODUCTION ETF  \n525                                      MONDELEZ INT  \n529                                      MONDELEZ INT  \n555                               VANGUARD ENERGY ETF  \n563                                      MONDELEZ INT  \n583                                      MONDELEZ INT  \n604                                      MONDELEZ INT  \n613                                      MONDELEZ INT  \n50                           WALGREENS BOOTS ALLIANCE  ",
      "text/html": "<div>\n<style scoped>\n    .dataframe tbody tr th:only-of-type {\n        vertical-align: middle;\n    }\n\n    .dataframe tbody tr th {\n        vertical-align: top;\n    }\n\n    .dataframe thead th {\n        text-align: right;\n    }\n</style>\n<table border=\"1\" class=\"dataframe\">\n  <thead>\n    <tr style=\"text-align: right;\">\n      <th></th>\n      <th>s1</th>\n      <th>s2</th>\n      <th>n</th>\n      <th>name1</th>\n      <th>name2</th>\n    </tr>\n  </thead>\n  <tbody>\n    <tr>\n      <th>1151</th>\n      <td>T.US</td>\n      <td>VOX.US</td>\n      <td>6</td>\n      <td>AT&amp;T</td>\n      <td>VANGUARD COMMUNICATION SERVICES ETF</td>\n    </tr>\n    <tr>\n      <th>494</th>\n      <td>MDLZ.US</td>\n      <td>XOP.US</td>\n      <td>5</td>\n      <td>MONDELEZ INT</td>\n      <td>SPDR S&amp;P OIL &amp; GAS EXPLORATION &amp; PRODUCTION ETF</td>\n    </tr>\n    <tr>\n      <th>525</th>\n      <td>ERX.US</td>\n      <td>MDLZ.US</td>\n      <td>5</td>\n      <td>DIREXION DAILY ENERGY BULL 2X SHARES</td>\n      <td>MONDELEZ INT</td>\n    </tr>\n    <tr>\n      <th>529</th>\n      <td>AMJ.US</td>\n      <td>MDLZ.US</td>\n      <td>5</td>\n      <td>JPMORGAN ALERIAN MLP INDEX ETN</td>\n      <td>MONDELEZ INT</td>\n    </tr>\n    <tr>\n      <th>555</th>\n      <td>MDLZ.US</td>\n      <td>VDE.US</td>\n      <td>5</td>\n      <td>MONDELEZ INT</td>\n      <td>VANGUARD ENERGY ETF</td>\n    </tr>\n    <tr>\n      <th>563</th>\n      <td>DIG.US</td>\n      <td>MDLZ.US</td>\n      <td>5</td>\n      <td>PROSHARES ULTRA ENERGY</td>\n      <td>MONDELEZ INT</td>\n    </tr>\n    <tr>\n      <th>583</th>\n      <td>DJP.US</td>\n      <td>MDLZ.US</td>\n      <td>5</td>\n      <td>IPATH BLOOMBERG COMMODITY INDEX TR ETN</td>\n      <td>MONDELEZ INT</td>\n    </tr>\n    <tr>\n      <th>604</th>\n      <td>GSG.US</td>\n      <td>MDLZ.US</td>\n      <td>5</td>\n      <td>ISHARES S&amp;P GSCI COMMODITY INDEXED TRUST</td>\n      <td>MONDELEZ INT</td>\n    </tr>\n    <tr>\n      <th>613</th>\n      <td>FXN.US</td>\n      <td>MDLZ.US</td>\n      <td>5</td>\n      <td>FIRST TRUST ENERGY ALPHADEX FUND</td>\n      <td>MONDELEZ INT</td>\n    </tr>\n    <tr>\n      <th>50</th>\n      <td>OIH.US</td>\n      <td>WBA.US</td>\n      <td>4</td>\n      <td>VANECK OIL SERVICES ETF</td>\n      <td>WALGREENS BOOTS ALLIANCE</td>\n    </tr>\n  </tbody>\n</table>\n</div>"
     },
     "execution_count": 36,
     "metadata": {},
     "output_type": "execute_result"
    }
   ],
   "source": [
    "with pd.HDFStore('data/backtest.h5') as store:\n",
    "    prices = store['prices'].close.unstack('ticker').ffill(limit=5)\n",
    "    tickers = store['tickers'].to_dict()\n",
    "cnt = pd.Series(counter).reset_index()\n",
    "cnt.columns = ['s1', 's2', 'n']\n",
    "cnt['name1'] = cnt.s1.map(tickers)\n",
    "cnt['name2'] = cnt.s2.map(tickers)\n",
    "cnt.nlargest(10, columns='n')"
   ],
   "metadata": {
    "collapsed": false,
    "pycharm": {
     "name": "#%%\n"
    },
    "ExecuteTime": {
     "end_time": "2023-09-19T06:20:14.044683500Z",
     "start_time": "2023-09-19T06:20:13.485600Z"
    }
   }
  },
  {
   "cell_type": "code",
   "execution_count": 37,
   "outputs": [
    {
     "data": {
      "text/plain": "<Figure size 1008x360 with 4 Axes>",
      "image/png": "[encoded data removed]"
     },
     "metadata": {
      "needs_background": "light"
     },
     "output_type": "display_data"
    }
   ],
   "source": [
    "fig, axes = plt.subplots(ncols=2, figsize=(14, 5))\n",
    "for i in [0, 1]:\n",
    "    s1, s2 = most_common_pairs.at[i, 's1'], most_common_pairs.at[i, 's2']\n",
    "    prices.loc[:, [s1, s2]].rename(columns=tickers).plot(secondary_y=tickers[s2], ax=axes[i], rot=0)\n",
    "    axes[i].grid(False)\n",
    "    axes[i].set_xlabel('')\n",
    "\n",
    "sns.despine()\n",
    "fig.tight_layout()"
   ],
   "metadata": {
    "collapsed": false,
    "pycharm": {
     "name": "#%%\n"
    },
    "ExecuteTime": {
     "end_time": "2023-09-19T06:20:15.313699100Z",
     "start_time": "2023-09-19T06:20:14.042688100Z"
    }
   }
  },
  {
   "cell_type": "code",
   "execution_count": 38,
   "outputs": [],
   "source": [
    "# Get Entry and Exit Dates\n",
    "# Smooth prices using Kalman filter\n",
    "def KFSmoother(prices):\n",
    "    \"\"\"Estimate rolling mean\"\"\"\n",
    "    kf = KalmanFilter(transition_matrices=np.eye(1), observation_matrices=np.eye(1),\n",
    "                      initial_state_mean=0, initial_state_covariance=1,\n",
    "                      observation_covariance=1, transition_covariance=.05)\n",
    "\n",
    "    state_means, _ = kf.filter(prices.values)\n",
    "    return pd.Series(state_means.flatten(), index=prices.index)"
   ],
   "metadata": {
    "collapsed": false,
    "pycharm": {
     "name": "#%%\n"
    },
    "ExecuteTime": {
     "end_time": "2023-09-19T06:20:15.327661Z",
     "start_time": "2023-09-19T06:20:15.313699100Z"
    }
   }
  },
  {
   "cell_type": "code",
   "execution_count": 39,
   "outputs": [],
   "source": [
    "smoothed_prices = prices.apply(KFSmoother)\n",
    "smoothed_prices.to_hdf('data/tmp.h5', 'smoothed')\n",
    "smoothed_prices = pd.read_hdf('data/tmp.h5', 'smoothed')"
   ],
   "metadata": {
    "collapsed": false,
    "pycharm": {
     "name": "#%%\n"
    },
    "ExecuteTime": {
     "end_time": "2023-09-19T06:21:04.104186200Z",
     "start_time": "2023-09-19T06:20:15.324669600Z"
    }
   }
  },
  {
   "cell_type": "code",
   "execution_count": 40,
   "outputs": [],
   "source": [
    "# Compute rolling hedge ratio using Kalman Filter\n",
    "def KFHedgeRatio(x, y):\n",
    "    \"\"\"Estimate Hedge Ratio\"\"\"\n",
    "    delta = 1e-3\n",
    "    trans_cov = delta / (1 - delta) * np.eye(2)\n",
    "    obs_mat = np.expand_dims(np.vstack([[x], [np.ones(len(x))]]).T, axis=1)\n",
    "\n",
    "    kf = KalmanFilter(n_dim_obs=1, n_dim_state=2, initial_state_mean=[0, 0],\n",
    "                      initial_state_covariance=np.ones((2, 2)), transition_matrices=np.eye(2),\n",
    "                      observation_matrices=obs_mat, observation_covariance=2, transition_covariance=trans_cov)\n",
    "\n",
    "    state_means, _ = kf.filter(y.values)\n",
    "    return -state_means"
   ],
   "metadata": {
    "collapsed": false,
    "pycharm": {
     "name": "#%%\n"
    },
    "ExecuteTime": {
     "end_time": "2023-09-19T06:21:04.119146300Z",
     "start_time": "2023-09-19T06:21:04.106180700Z"
    }
   }
  },
  {
   "cell_type": "code",
   "execution_count": 41,
   "outputs": [],
   "source": [
    "# Estimate mean reversion half life by Ornstein-Uhlenbeck Process: dXt=θ(μ−Xt)dt+σdWt\n",
    "def estimate_half_life(spread):\n",
    "    X = spread.shift().iloc[1:].to_frame().assign(const=1)\n",
    "    y = spread.diff().iloc[1:]\n",
    "    beta = (np.linalg.inv(X.T @ X) @ X.T @ y).iloc[0]\n",
    "    halflife = int(round(-np.log(2) / beta, 0))\n",
    "    return max(halflife, 1)"
   ],
   "metadata": {
    "collapsed": false,
    "pycharm": {
     "name": "#%%\n"
    },
    "ExecuteTime": {
     "end_time": "2023-09-19T06:21:04.154080200Z",
     "start_time": "2023-09-19T06:21:04.122138400Z"
    }
   }
  },
  {
   "cell_type": "code",
   "execution_count": 42,
   "outputs": [
    {
     "name": "stdout",
     "output_type": "stream",
     "text": [
      "<class 'pandas.core.frame.DataFrame'>\n",
      "Int64Index: 31686 entries, 8 to 22693\n",
      "Data columns (total 9 columns):\n",
      " #   Column    Non-Null Count  Dtype         \n",
      "---  ------    --------------  -----         \n",
      " 0   test_end  31686 non-null  datetime64[ns]\n",
      " 1   w1        31686 non-null  float64       \n",
      " 2   w2        31686 non-null  float64       \n",
      " 3   joh_sig   31686 non-null  bool          \n",
      " 4   eg        31686 non-null  float64       \n",
      " 5   eg_sig    31686 non-null  bool          \n",
      " 6   coint     31686 non-null  bool          \n",
      " 7   y         31686 non-null  object        \n",
      " 8   x         31686 non-null  object        \n",
      "dtypes: bool(3), datetime64[ns](1), float64(3), object(2)\n",
      "memory usage: 1.8+ MB\n"
     ]
    }
   ],
   "source": [
    "# Compute Spread & Bollinger Bands\n",
    "def get_spread(candidates, prices):\n",
    "    pairs = []\n",
    "    half_lives = []\n",
    "\n",
    "    periods = pd.DatetimeIndex(sorted(candidates.test_end.unique()))\n",
    "    start = time()\n",
    "    for p, test_end in enumerate(periods, 1):\n",
    "        start_iteration = time()\n",
    "\n",
    "        period_candidates = candidates.loc[candidates.test_end == test_end, ['y', 'x']]\n",
    "        trading_start = test_end + pd.DateOffset(days=1)\n",
    "        t = trading_start - pd.DateOffset(years=2)\n",
    "        T = trading_start + pd.DateOffset(months=6) - pd.DateOffset(days=1)\n",
    "        max_window = len(prices.loc[t: test_end].index)\n",
    "        print(test_end.date(), len(period_candidates))\n",
    "        for i, (y, x) in enumerate(zip(period_candidates.y, period_candidates.x), 1):\n",
    "            if i % 1000 == 0:\n",
    "                msg = f'{i:5.0f} | {time() - start_iteration:7.1f} | {time() - start:10.1f}'\n",
    "                print(msg)\n",
    "            pair = prices.loc[t: T, [y, x]]\n",
    "            pair['hedge_ratio'] = KFHedgeRatio(y=KFSmoother(prices.loc[t: T, y]),\n",
    "                                               x=KFSmoother(prices.loc[t: T, x]))[:, 0]\n",
    "            pair['spread'] = pair[y].add(pair[x].mul(pair.hedge_ratio))\n",
    "            half_life = estimate_half_life(pair.spread.loc[t: test_end])\n",
    "\n",
    "            spread = pair.spread.rolling(window=min(2 * half_life, max_window))\n",
    "            pair['z_score'] = pair.spread.sub(spread.mean()).div(spread.std())\n",
    "            pairs.append(pair.loc[trading_start: T].assign(s1=y, s2=x, period=p, pair=i).drop([x, y], axis=1))\n",
    "\n",
    "            half_lives.append([test_end, y, x, half_life])\n",
    "    return pairs, half_lives\n",
    "candidates = pd.read_hdf('data/backtest.h5', 'candidates')\n",
    "candidates.info()"
   ],
   "metadata": {
    "collapsed": false,
    "pycharm": {
     "name": "#%%\n"
    },
    "ExecuteTime": {
     "end_time": "2023-09-19T06:21:04.212928100Z",
     "start_time": "2023-09-19T06:21:04.143083500Z"
    }
   }
  },
  {
   "cell_type": "code",
   "execution_count": 43,
   "outputs": [
    {
     "name": "stdout",
     "output_type": "stream",
     "text": [
      "2016-12-31 3520\n",
      " 1000 |   190.1 |      190.1\n",
      " 2000 |   390.6 |      390.6\n",
      " 3000 |   589.3 |      589.3\n",
      "2017-03-31 2009\n",
      " 1000 |   226.4 |      916.2\n",
      " 2000 |   455.9 |     1145.8\n",
      "2017-06-30 4052\n",
      " 1000 |   266.5 |     1414.6\n",
      " 2000 |   535.3 |     1683.4\n",
      " 3000 |   806.0 |     1954.1\n",
      " 4000 |  1066.5 |     2214.6\n",
      "2017-09-30 2088\n",
      " 1000 |   291.2 |     2519.4\n",
      " 2000 |   591.4 |     2819.5\n",
      "2017-12-31 2918\n",
      " 1000 |   329.9 |     3175.6\n",
      " 2000 |   657.4 |     3503.0\n",
      "2018-03-31 3576\n",
      " 1000 |   332.6 |     4141.1\n",
      " 2000 |   660.9 |     4469.5\n",
      " 3000 |   987.3 |     4795.9\n",
      "2018-06-30 2395\n",
      " 1000 |   328.5 |     5312.2\n",
      " 2000 |   654.0 |     5637.7\n",
      "2018-09-30 2899\n",
      " 1000 |   333.2 |     6103.0\n",
      " 2000 |   666.7 |     6436.5\n",
      "2018-12-31 2867\n",
      " 1000 |   332.6 |     7065.7\n",
      " 2000 |   658.5 |     7391.7\n",
      "2019-03-31 2687\n",
      " 1000 |   339.0 |     8017.8\n",
      " 2000 |   679.6 |     8358.4\n",
      "2019-06-30 2675\n",
      " 1000 |   337.4 |     8928.0\n",
      " 2000 |   671.4 |     9262.0\n"
     ]
    }
   ],
   "source": [
    "pairs, half_lives = get_spread(candidates, smoothed_prices)"
   ],
   "metadata": {
    "collapsed": false,
    "pycharm": {
     "name": "#%%\n"
    },
    "ExecuteTime": {
     "end_time": "2023-09-19T08:59:11.634859Z",
     "start_time": "2023-09-19T06:21:04.184977500Z"
    }
   }
  },
  {
   "cell_type": "code",
   "execution_count": 44,
   "outputs": [
    {
     "name": "stdout",
     "output_type": "stream",
     "text": [
      "<class 'pandas.core.frame.DataFrame'>\n",
      "RangeIndex: 31686 entries, 0 to 31685\n",
      "Data columns (total 4 columns):\n",
      " #   Column     Non-Null Count  Dtype         \n",
      "---  ------     --------------  -----         \n",
      " 0   test_end   31686 non-null  datetime64[ns]\n",
      " 1   s1         31686 non-null  object        \n",
      " 2   s2         31686 non-null  object        \n",
      " 3   half_life  31686 non-null  int64         \n",
      "dtypes: datetime64[ns](1), int64(1), object(2)\n",
      "memory usage: 990.3+ KB\n"
     ]
    }
   ],
   "source": [
    "# Collect Results\n",
    "# Half Lives\n",
    "hl = pd.DataFrame(half_lives, columns=['test_end', 's1', 's2', 'half_life'])\n",
    "hl.info()"
   ],
   "metadata": {
    "collapsed": false,
    "pycharm": {
     "name": "#%%\n"
    },
    "ExecuteTime": {
     "end_time": "2023-09-19T08:59:12.133375Z",
     "start_time": "2023-09-19T08:59:12.131353900Z"
    }
   }
  },
  {
   "cell_type": "code",
   "execution_count": 45,
   "outputs": [
    {
     "data": {
      "text/plain": "count    31686.000000\nmean        25.017737\nstd          8.466813\nmin          5.000000\n25%         20.000000\n50%         24.000000\n75%         28.000000\nmax        261.000000\nName: half_life, dtype: float64"
     },
     "execution_count": 45,
     "metadata": {},
     "output_type": "execute_result"
    }
   ],
   "source": [
    "hl.half_life.describe()"
   ],
   "metadata": {
    "collapsed": false,
    "pycharm": {
     "name": "#%%\n"
    },
    "ExecuteTime": {
     "end_time": "2023-09-19T08:59:12.317560700Z",
     "start_time": "2023-09-19T08:59:12.131353900Z"
    }
   }
  },
  {
   "cell_type": "code",
   "execution_count": 46,
   "outputs": [],
   "source": [
    "hl.to_hdf('data/backtest.h5', 'half_lives')"
   ],
   "metadata": {
    "collapsed": false,
    "pycharm": {
     "name": "#%%\n"
    },
    "ExecuteTime": {
     "end_time": "2023-09-19T08:59:12.488174900Z",
     "start_time": "2023-09-19T08:59:12.167129400Z"
    }
   }
  },
  {
   "cell_type": "code",
   "execution_count": 47,
   "outputs": [
    {
     "name": "stdout",
     "output_type": "stream",
     "text": [
      "<class 'pandas.core.frame.DataFrame'>\n",
      "DatetimeIndex: 3981903 entries, 2017-01-03 to 2019-12-31\n",
      "Data columns (total 7 columns):\n",
      " #   Column       Non-Null Count    Dtype  \n",
      "---  ------       --------------    -----  \n",
      " 0   hedge_ratio  3981903 non-null  float64\n",
      " 1   spread       3981903 non-null  float64\n",
      " 2   z_score      3981903 non-null  float64\n",
      " 3   s1           3981903 non-null  object \n",
      " 4   s2           3981903 non-null  object \n",
      " 5   period       3981903 non-null  int64  \n",
      " 6   pair         3981903 non-null  int64  \n",
      "dtypes: float64(3), int64(2), object(2)\n",
      "memory usage: 243.0+ MB\n"
     ]
    }
   ],
   "source": [
    "# Pair Data\n",
    "pair_data = pd.concat(pairs)\n",
    "pair_data.info(null_counts=True)"
   ],
   "metadata": {
    "collapsed": false,
    "pycharm": {
     "name": "#%%\n"
    },
    "ExecuteTime": {
     "end_time": "2023-09-19T08:59:16.938543400Z",
     "start_time": "2023-09-19T08:59:12.492164400Z"
    }
   }
  },
  {
   "cell_type": "code",
   "execution_count": 48,
   "outputs": [],
   "source": [
    "pair_data.to_hdf('data/backtest.h5', 'pair_data')\n",
    "pair_data = pd.read_hdf('data/backtest.h5', 'pair_data')"
   ],
   "metadata": {
    "collapsed": false,
    "pycharm": {
     "name": "#%%\n"
    },
    "ExecuteTime": {
     "end_time": "2023-09-19T08:59:19.998220500Z",
     "start_time": "2023-09-19T08:59:16.936548800Z"
    }
   }
  },
  {
   "cell_type": "code",
   "execution_count": 49,
   "outputs": [
    {
     "name": "stdout",
     "output_type": "stream",
     "text": [
      "100\n",
      "200\n",
      "300\n",
      "400\n",
      "500\n",
      "600\n",
      "700\n",
      "800\n",
      "900\n",
      "1000\n",
      "1100\n",
      "1200\n",
      "1300\n",
      "1400\n",
      "1500\n",
      "1600\n",
      "1700\n",
      "1800\n",
      "1900\n",
      "2000\n",
      "2100\n",
      "2200\n",
      "2300\n",
      "2400\n",
      "2500\n",
      "2600\n",
      "2700\n",
      "2800\n",
      "2900\n",
      "3000\n",
      "3100\n",
      "3200\n",
      "3300\n",
      "3400\n",
      "3500\n",
      "3600\n",
      "3700\n",
      "3800\n",
      "3900\n",
      "4000\n",
      "4100\n",
      "4200\n",
      "4300\n",
      "4400\n",
      "4500\n",
      "4600\n",
      "4700\n",
      "4800\n",
      "4900\n",
      "5000\n",
      "5100\n",
      "5200\n",
      "5300\n",
      "5400\n",
      "5500\n",
      "5600\n",
      "5700\n",
      "5800\n",
      "5900\n",
      "6000\n",
      "6100\n",
      "6200\n",
      "6300\n",
      "6400\n",
      "6500\n",
      "6600\n",
      "6700\n",
      "6800\n",
      "6900\n",
      "7000\n",
      "7100\n",
      "7200\n",
      "7300\n",
      "7400\n",
      "7500\n",
      "7600\n",
      "7700\n",
      "7800\n",
      "7900\n",
      "8000\n",
      "8100\n",
      "8200\n",
      "8300\n",
      "8400\n",
      "8500\n",
      "8600\n",
      "8700\n",
      "8800\n",
      "8900\n",
      "9000\n",
      "9100\n",
      "9200\n",
      "9300\n",
      "9400\n",
      "9500\n",
      "9600\n",
      "9700\n",
      "9800\n",
      "9900\n",
      "10000\n",
      "10100\n",
      "10200\n",
      "10300\n",
      "10400\n",
      "10500\n",
      "10600\n",
      "10700\n",
      "10800\n",
      "10900\n",
      "11000\n",
      "11100\n",
      "11200\n",
      "11300\n",
      "11400\n",
      "11500\n",
      "11600\n",
      "11700\n",
      "11800\n",
      "11900\n",
      "12000\n",
      "12100\n",
      "12200\n",
      "12300\n",
      "12400\n",
      "12500\n",
      "12600\n",
      "12700\n",
      "12800\n",
      "12900\n",
      "13000\n",
      "13100\n",
      "13200\n",
      "13300\n",
      "13400\n",
      "13500\n",
      "13600\n",
      "13700\n",
      "13800\n",
      "13900\n",
      "14000\n",
      "14100\n",
      "14200\n",
      "14300\n",
      "14400\n",
      "14500\n",
      "14600\n",
      "14700\n",
      "14800\n",
      "14900\n",
      "15000\n",
      "15100\n",
      "15200\n",
      "15300\n",
      "15400\n",
      "15500\n",
      "15600\n",
      "15700\n",
      "15800\n",
      "15900\n",
      "16000\n",
      "16100\n",
      "16200\n",
      "16300\n",
      "16400\n",
      "16500\n",
      "16600\n",
      "16700\n",
      "16800\n",
      "16900\n",
      "17000\n",
      "17100\n",
      "17200\n",
      "17300\n",
      "17400\n",
      "17500\n",
      "17600\n",
      "17700\n",
      "17800\n",
      "17900\n",
      "18000\n",
      "18100\n",
      "18200\n",
      "18300\n",
      "18400\n",
      "18500\n",
      "18600\n",
      "18700\n",
      "18800\n",
      "18900\n",
      "19000\n",
      "19100\n",
      "19200\n",
      "19300\n",
      "19400\n",
      "19500\n",
      "19600\n",
      "19700\n",
      "19800\n",
      "19900\n",
      "20000\n",
      "20100\n",
      "20200\n",
      "20300\n",
      "20400\n",
      "20500\n",
      "20600\n",
      "20700\n",
      "20800\n",
      "20900\n",
      "21000\n",
      "21100\n",
      "21200\n",
      "21300\n",
      "21400\n",
      "21500\n",
      "21600\n",
      "21700\n",
      "21800\n",
      "21900\n",
      "22000\n",
      "22100\n",
      "22200\n",
      "22300\n",
      "22400\n",
      "22500\n",
      "22600\n",
      "22700\n",
      "22800\n",
      "22900\n",
      "23000\n",
      "23100\n",
      "23200\n",
      "23300\n",
      "23400\n",
      "23500\n",
      "23600\n",
      "23700\n",
      "23800\n",
      "23900\n",
      "24000\n",
      "24100\n",
      "24200\n",
      "24300\n",
      "24400\n",
      "24500\n",
      "24600\n",
      "24700\n",
      "24800\n",
      "24900\n",
      "25000\n",
      "25100\n",
      "25200\n",
      "25300\n",
      "25400\n",
      "25500\n",
      "25600\n",
      "25700\n",
      "25800\n",
      "25900\n",
      "26000\n",
      "26100\n",
      "26200\n",
      "26300\n",
      "26400\n",
      "26500\n",
      "26600\n",
      "26700\n",
      "26800\n",
      "26900\n",
      "27000\n",
      "27100\n",
      "27200\n",
      "27300\n",
      "27400\n",
      "27500\n",
      "27600\n",
      "27700\n",
      "27800\n",
      "27900\n",
      "28000\n",
      "28100\n",
      "28200\n",
      "28300\n",
      "28400\n",
      "28500\n",
      "28600\n",
      "28700\n",
      "28800\n",
      "28900\n",
      "29000\n",
      "29100\n",
      "29200\n",
      "29300\n",
      "29400\n",
      "29500\n",
      "29600\n",
      "29700\n",
      "29800\n",
      "29900\n",
      "30000\n",
      "30100\n",
      "30200\n",
      "30300\n",
      "30400\n",
      "30500\n",
      "30600\n",
      "30700\n",
      "30800\n",
      "30900\n",
      "31000\n",
      "31100\n",
      "31200\n",
      "31300\n",
      "31400\n",
      "31500\n",
      "31600\n"
     ]
    }
   ],
   "source": [
    "# Identify Long & Short Entry and Exit Dates\n",
    "def get_trades(data):\n",
    "    pair_trades = []\n",
    "    for i, ((period, s1, s2), pair) in enumerate(data.groupby(['period', 's1', 's2']), 1):\n",
    "        if i % 100 == 0:\n",
    "            print(i)\n",
    "\n",
    "        # clear the position in 3 month\n",
    "        first3m = pair.first('3M').index\n",
    "        last3m = pair.last('3M').index\n",
    "\n",
    "        entry = pair.z_score.abs() > 2 # spread range : +- 2 standard deviation from mean\n",
    "        entry = ((entry.shift() != entry).mul(np.sign(pair.z_score)).fillna(0).astype(int).sub(2))\n",
    "\n",
    "        exit = (np.sign(pair.z_score.shift().fillna(method='bfill')) != np.sign(pair.z_score)).astype(int) - 1\n",
    "\n",
    "        trades = (entry[entry != -2].append(exit[exit == 0]).to_frame('side').sort_values(['date', 'side']).squeeze())\n",
    "        if not isinstance(trades, pd.Series):\n",
    "            continue\n",
    "        try:\n",
    "            trades.loc[trades < 0] += 2\n",
    "        except:\n",
    "            print(type(trades))\n",
    "            print(trades)\n",
    "            print(pair.z_score.describe())\n",
    "            break\n",
    "\n",
    "        trades = trades[trades.abs().shift() != trades.abs()]\n",
    "        window = trades.loc[first3m.min():first3m.max()]\n",
    "        extra = trades.loc[last3m.min():last3m.max()]\n",
    "        n = len(trades)\n",
    "\n",
    "        if window.iloc[0] == 0:\n",
    "            if n > 1:\n",
    "                print('shift')\n",
    "                window = window.iloc[1:]\n",
    "        if window.iloc[-1] != 0:\n",
    "            extra_exits = extra[extra == 0].head(1)\n",
    "            if extra_exits.empty:\n",
    "                continue\n",
    "            else:\n",
    "                window = window.append(extra_exits)\n",
    "\n",
    "        trades = pair[['s1', 's2', 'hedge_ratio', 'period', 'pair']].join(window.to_frame('side'), how='right')\n",
    "        trades.loc[trades.side == 0, 'hedge_ratio'] = np.nan\n",
    "        trades.hedge_ratio = trades.hedge_ratio.ffill()\n",
    "        pair_trades.append(trades)\n",
    "    return pair_trades\n",
    "pair_trades = get_trades(pair_data)"
   ],
   "metadata": {
    "collapsed": false,
    "pycharm": {
     "name": "#%%\n"
    },
    "ExecuteTime": {
     "end_time": "2023-09-19T09:02:30.857641Z",
     "start_time": "2023-09-19T08:59:20.011756700Z"
    }
   }
  },
  {
   "cell_type": "code",
   "execution_count": 50,
   "outputs": [
    {
     "name": "stdout",
     "output_type": "stream",
     "text": [
      "<class 'pandas.core.frame.DataFrame'>\n",
      "DatetimeIndex: 126842 entries, 2017-01-03 to 2019-10-04\n",
      "Data columns (total 6 columns):\n",
      " #   Column       Non-Null Count   Dtype  \n",
      "---  ------       --------------   -----  \n",
      " 0   s1           126842 non-null  object \n",
      " 1   s2           126842 non-null  object \n",
      " 2   hedge_ratio  126842 non-null  float64\n",
      " 3   period       126842 non-null  int64  \n",
      " 4   pair         126842 non-null  int64  \n",
      " 5   side         126842 non-null  int32  \n",
      "dtypes: float64(1), int32(1), int64(2), object(2)\n",
      "memory usage: 6.3+ MB\n"
     ]
    }
   ],
   "source": [
    "pair_trade_data = pd.concat(pair_trades)\n",
    "pair_trade_data.info()"
   ],
   "metadata": {
    "collapsed": false,
    "pycharm": {
     "name": "#%%\n"
    },
    "ExecuteTime": {
     "end_time": "2023-09-19T09:02:33.284792Z",
     "start_time": "2023-09-19T09:02:30.860232700Z"
    }
   }
  },
  {
   "cell_type": "code",
   "execution_count": 51,
   "outputs": [
    {
     "data": {
      "text/plain": "               s1      s2  hedge_ratio  period  pair  side\ndate                                                      \n2017-01-03  AA.US  DEM.US    -1.037475       1  2244    -1\n2017-01-13  AA.US  DEM.US    -1.037475       1  2244     0\n2017-01-03  AA.US  DIG.US    -0.600162       1  1978    -1\n2017-01-10  AA.US  DIG.US    -0.600162       1  1978     0\n2017-01-03  AA.US  DWX.US    -1.036419       1  3053    -1",
      "text/html": "<div>\n<style scoped>\n    .dataframe tbody tr th:only-of-type {\n        vertical-align: middle;\n    }\n\n    .dataframe tbody tr th {\n        vertical-align: top;\n    }\n\n    .dataframe thead th {\n        text-align: right;\n    }\n</style>\n<table border=\"1\" class=\"dataframe\">\n  <thead>\n    <tr style=\"text-align: right;\">\n      <th></th>\n      <th>s1</th>\n      <th>s2</th>\n      <th>hedge_ratio</th>\n      <th>period</th>\n      <th>pair</th>\n      <th>side</th>\n    </tr>\n    <tr>\n      <th>date</th>\n      <th></th>\n      <th></th>\n      <th></th>\n      <th></th>\n      <th></th>\n      <th></th>\n    </tr>\n  </thead>\n  <tbody>\n    <tr>\n      <th>2017-01-03</th>\n      <td>AA.US</td>\n      <td>DEM.US</td>\n      <td>-1.037475</td>\n      <td>1</td>\n      <td>2244</td>\n      <td>-1</td>\n    </tr>\n    <tr>\n      <th>2017-01-13</th>\n      <td>AA.US</td>\n      <td>DEM.US</td>\n      <td>-1.037475</td>\n      <td>1</td>\n      <td>2244</td>\n      <td>0</td>\n    </tr>\n    <tr>\n      <th>2017-01-03</th>\n      <td>AA.US</td>\n      <td>DIG.US</td>\n      <td>-0.600162</td>\n      <td>1</td>\n      <td>1978</td>\n      <td>-1</td>\n    </tr>\n    <tr>\n      <th>2017-01-10</th>\n      <td>AA.US</td>\n      <td>DIG.US</td>\n      <td>-0.600162</td>\n      <td>1</td>\n      <td>1978</td>\n      <td>0</td>\n    </tr>\n    <tr>\n      <th>2017-01-03</th>\n      <td>AA.US</td>\n      <td>DWX.US</td>\n      <td>-1.036419</td>\n      <td>1</td>\n      <td>3053</td>\n      <td>-1</td>\n    </tr>\n  </tbody>\n</table>\n</div>"
     },
     "execution_count": 51,
     "metadata": {},
     "output_type": "execute_result"
    }
   ],
   "source": [
    "pair_trade_data.head()"
   ],
   "metadata": {
    "collapsed": false,
    "pycharm": {
     "name": "#%%\n"
    },
    "ExecuteTime": {
     "end_time": "2023-09-19T09:02:33.648688100Z",
     "start_time": "2023-09-19T09:02:33.283794200Z"
    }
   }
  },
  {
   "cell_type": "code",
   "execution_count": 52,
   "outputs": [
    {
     "data": {
      "text/plain": "<Figure size 1008x288 with 1 Axes>",
      "image/png": "[encoded data removed]"
     },
     "metadata": {
      "needs_background": "light"
     },
     "output_type": "display_data"
    }
   ],
   "source": [
    "trades = pair_trade_data['side'].copy()\n",
    "trades.loc[trades != 0] = 1\n",
    "trades.loc[trades == 0] = -1\n",
    "trades.sort_index().cumsum().plot(figsize=(14, 4))\n",
    "sns.despine()"
   ],
   "metadata": {
    "collapsed": false,
    "pycharm": {
     "name": "#%%\n"
    },
    "ExecuteTime": {
     "end_time": "2023-09-19T09:02:34.322567300Z",
     "start_time": "2023-09-19T09:02:33.643702900Z"
    }
   }
  },
  {
   "cell_type": "code",
   "execution_count": 53,
   "outputs": [],
   "source": [
    "pair_trade_data.to_hdf('data/backtest.h5', 'pair_trades')"
   ],
   "metadata": {
    "collapsed": false,
    "pycharm": {
     "name": "#%%\n"
    },
    "ExecuteTime": {
     "end_time": "2023-09-19T09:02:34.323564100Z",
     "start_time": "2023-09-19T09:02:34.147896400Z"
    }
   }
  }
 ],
 "metadata": {
  "kernelspec": {
   "display_name": "Python 3",
   "language": "python",
   "name": "python3"
  },
  "language_info": {
   "codemirror_mode": {
    "name": "ipython",
    "version": 2
   },
   "file_extension": ".py",
   "mimetype": "text/x-python",
   "name": "python",
   "nbconvert_exporter": "python",
   "pygments_lexer": "ipython2",
   "version": "2.7.6"
  }
 },
 "nbformat": 4,
 "nbformat_minor": 0
}
