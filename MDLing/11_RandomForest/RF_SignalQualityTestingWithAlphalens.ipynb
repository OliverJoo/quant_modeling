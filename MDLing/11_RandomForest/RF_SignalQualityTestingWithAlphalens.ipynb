{
 "cells": [
  {
   "cell_type": "code",
   "execution_count": 67,
   "outputs": [],
   "source": [
    "import warnings\n",
    "warnings.filterwarnings('ignore')\n",
    "%matplotlib inline\n",
    "\n",
    "from pathlib import Path\n",
    "import pandas as pd\n",
    "import seaborn as sns\n",
    "\n",
    "from alphalens.tears import (create_summary_tear_sheet, create_full_tear_sheet)\n",
    "\n",
    "from alphalens.utils import get_clean_factor_and_forward_returns\n",
    "sns.set_style('whitegrid')\n",
    "idx = pd.IndexSlice\n",
    "results_path = Path('results', 'return_predictions')\n",
    "\n",
    "if not results_path.exists():\n",
    "    results_path.mkdir(parents=True)"
   ],
   "metadata": {
    "collapsed": false,
    "pycharm": {
     "name": "#%%\n"
    }
   }
  },
  {
   "cell_type": "code",
   "execution_count": 68,
   "outputs": [],
   "source": [
    "lookahead = 1\n",
    "cv_store = Path(results_path / 'parameter_tuning.h5')\n",
    "\n",
    "DATA_DIR = Path('data')"
   ],
   "metadata": {
    "collapsed": false,
    "pycharm": {
     "name": "#%%\n"
    }
   }
  },
  {
   "cell_type": "code",
   "execution_count": 69,
   "outputs": [],
   "source": [
    "def get_trade_prices(tickers):\n",
    "    store = DATA_DIR / 'assets.h5'\n",
    "    prices = pd.read_hdf(store, 'stooq/jp/tse/stocks/prices')\n",
    "    return (prices.loc[idx[tickers, '2014': '2022'], 'open'].unstack('ticker').sort_index()\n",
    "            .shift(-1).dropna().tz_localize('UTC'))"
   ],
   "metadata": {
    "collapsed": false,
    "pycharm": {
     "name": "#%%\n"
    }
   }
  },
  {
   "cell_type": "code",
   "execution_count": 70,
   "outputs": [
    {
     "name": "stdout",
     "output_type": "stream",
     "text": [
      "<class 'pandas.core.frame.DataFrame'>\n",
      "MultiIndex: 472500 entries, ('9984.JP', Timestamp('2023-04-24 00:00:00')) to ('3053.JP', Timestamp('2021-04-20 00:00:00'))\n",
      "Data columns (total 11 columns):\n",
      " #   Column  Non-Null Count   Dtype  \n",
      "---  ------  --------------   -----  \n",
      " 0   y_test  472500 non-null  float64\n",
      " 1   0       472500 non-null  float64\n",
      " 2   1       472500 non-null  float64\n",
      " 3   2       472500 non-null  float64\n",
      " 4   3       472500 non-null  float64\n",
      " 5   4       472500 non-null  float64\n",
      " 6   5       472500 non-null  float64\n",
      " 7   6       472500 non-null  float64\n",
      " 8   7       472500 non-null  float64\n",
      " 9   8       472500 non-null  float64\n",
      " 10  9       472500 non-null  float64\n",
      "dtypes: float64(11)\n",
      "memory usage: 41.5+ MB\n"
     ]
    }
   ],
   "source": [
    "best_predictions = pd.read_hdf(results_path / 'predictions.h5', f'test/{lookahead:02}')\n",
    "best_predictions.info()"
   ],
   "metadata": {
    "collapsed": false,
    "pycharm": {
     "name": "#%%\n"
    }
   }
  },
  {
   "cell_type": "code",
   "execution_count": 71,
   "outputs": [
    {
     "data": {
      "text/plain": "                      y_test         0         1         2         3  \\\nticker  date                                                           \n3053.JP 2021-04-14 -0.020270  0.003314  0.003058  0.003063  0.004365   \n        2021-04-15 -0.013793  0.002764  0.002664  0.002634  0.003514   \n        2021-04-16 -0.013986  0.007023  0.006646  0.006924  0.006521   \n        2021-04-19 -0.014184  0.008021  0.007252  0.007379  0.005815   \n        2021-04-20 -0.028777  0.003034  0.003008  0.003036  0.003637   \n\n                           4         5         6         7         8         9  \nticker  date                                                                    \n3053.JP 2021-04-14 -0.002736  0.004350  0.003175 -0.002793 -0.002767 -0.002098  \n        2021-04-15 -0.003067  0.003495  0.002564 -0.003069 -0.003022 -0.002165  \n        2021-04-16  0.003319  0.006028  0.007363  0.003329  0.003268  0.005295  \n        2021-04-19 -0.003073  0.005300  0.007627 -0.003105 -0.003056 -0.002772  \n        2021-04-20  0.004085  0.003631  0.002830  0.004069  0.004053  0.005168  ",
      "text/html": "<div>\n<style scoped>\n    .dataframe tbody tr th:only-of-type {\n        vertical-align: middle;\n    }\n\n    .dataframe tbody tr th {\n        vertical-align: top;\n    }\n\n    .dataframe thead th {\n        text-align: right;\n    }\n</style>\n<table border=\"1\" class=\"dataframe\">\n  <thead>\n    <tr style=\"text-align: right;\">\n      <th></th>\n      <th></th>\n      <th>y_test</th>\n      <th>0</th>\n      <th>1</th>\n      <th>2</th>\n      <th>3</th>\n      <th>4</th>\n      <th>5</th>\n      <th>6</th>\n      <th>7</th>\n      <th>8</th>\n      <th>9</th>\n    </tr>\n    <tr>\n      <th>ticker</th>\n      <th>date</th>\n      <th></th>\n      <th></th>\n      <th></th>\n      <th></th>\n      <th></th>\n      <th></th>\n      <th></th>\n      <th></th>\n      <th></th>\n      <th></th>\n      <th></th>\n    </tr>\n  </thead>\n  <tbody>\n    <tr>\n      <th rowspan=\"5\" valign=\"top\">3053.JP</th>\n      <th>2021-04-14</th>\n      <td>-0.020270</td>\n      <td>0.003314</td>\n      <td>0.003058</td>\n      <td>0.003063</td>\n      <td>0.004365</td>\n      <td>-0.002736</td>\n      <td>0.004350</td>\n      <td>0.003175</td>\n      <td>-0.002793</td>\n      <td>-0.002767</td>\n      <td>-0.002098</td>\n    </tr>\n    <tr>\n      <th>2021-04-15</th>\n      <td>-0.013793</td>\n      <td>0.002764</td>\n      <td>0.002664</td>\n      <td>0.002634</td>\n      <td>0.003514</td>\n      <td>-0.003067</td>\n      <td>0.003495</td>\n      <td>0.002564</td>\n      <td>-0.003069</td>\n      <td>-0.003022</td>\n      <td>-0.002165</td>\n    </tr>\n    <tr>\n      <th>2021-04-16</th>\n      <td>-0.013986</td>\n      <td>0.007023</td>\n      <td>0.006646</td>\n      <td>0.006924</td>\n      <td>0.006521</td>\n      <td>0.003319</td>\n      <td>0.006028</td>\n      <td>0.007363</td>\n      <td>0.003329</td>\n      <td>0.003268</td>\n      <td>0.005295</td>\n    </tr>\n    <tr>\n      <th>2021-04-19</th>\n      <td>-0.014184</td>\n      <td>0.008021</td>\n      <td>0.007252</td>\n      <td>0.007379</td>\n      <td>0.005815</td>\n      <td>-0.003073</td>\n      <td>0.005300</td>\n      <td>0.007627</td>\n      <td>-0.003105</td>\n      <td>-0.003056</td>\n      <td>-0.002772</td>\n    </tr>\n    <tr>\n      <th>2021-04-20</th>\n      <td>-0.028777</td>\n      <td>0.003034</td>\n      <td>0.003008</td>\n      <td>0.003036</td>\n      <td>0.003637</td>\n      <td>0.004085</td>\n      <td>0.003631</td>\n      <td>0.002830</td>\n      <td>0.004069</td>\n      <td>0.004053</td>\n      <td>0.005168</td>\n    </tr>\n  </tbody>\n</table>\n</div>"
     },
     "execution_count": 71,
     "metadata": {},
     "output_type": "execute_result"
    }
   ],
   "source": [
    "best_predictions.tail()"
   ],
   "metadata": {
    "collapsed": false,
    "pycharm": {
     "name": "#%%\n"
    }
   }
  },
  {
   "cell_type": "code",
   "execution_count": 95,
   "outputs": [
    {
     "data": {
      "text/plain": "ticker   date      \n9984.JP  2023-04-24    0.021858\n         2023-04-25    0.006186\n         2023-04-26   -0.010927\n         2023-04-27    0.010761\n         2023-04-28   -0.028518\n                         ...   \n3053.JP  2021-04-14    0.010929\n         2021-04-15    0.006312\n         2021-04-16    0.055717\n         2021-04-19    0.029389\n         2021-04-20    0.036550\nLength: 472500, dtype: float64"
     },
     "execution_count": 95,
     "metadata": {},
     "output_type": "execute_result"
    }
   ],
   "source": [
    "best_predictions.iloc[:, 1:].sum(axis=1)"
   ],
   "metadata": {
    "collapsed": false,
    "pycharm": {
     "name": "#%%\n"
    }
   }
  },
  {
   "cell_type": "code",
   "execution_count": 72,
   "outputs": [
    {
     "name": "stdout",
     "output_type": "stream",
     "text": [
      "<class 'pandas.core.frame.DataFrame'>\n",
      "DatetimeIndex: 2193 entries, 2014-01-06 00:00:00+00:00 to 2022-12-29 00:00:00+00:00\n",
      "Columns: 945 entries, 9984.JP to 3053.JP\n",
      "dtypes: float64(945)\n",
      "memory usage: 15.8 MB\n"
     ]
    }
   ],
   "source": [
    "test_tickers = best_predictions.index.get_level_values('ticker').unique()\n",
    "trade_prices = get_trade_prices(test_tickers)\n",
    "trade_prices.info()"
   ],
   "metadata": {
    "collapsed": false,
    "pycharm": {
     "name": "#%%\n"
    }
   }
  },
  {
   "cell_type": "code",
   "execution_count": 73,
   "outputs": [
    {
     "data": {
      "text/plain": "                      y_test         0         1         2         3  \\\nticker  date                                                           \n9984.JP 2023-04-24 -0.004749  0.003837  0.003789  0.003848  0.004731   \n        2023-04-25  0.001988  0.001827  0.001846  0.001781  0.001832   \n        2023-04-26 -0.018254  0.001759  0.001754  0.001801  0.001760   \n        2023-04-27  0.029507  0.001772  0.001784  0.001810  0.001951   \n        2023-04-28  0.013545  0.000106  0.000086  0.000040  0.000065   \n\n                           4         5         6         7         8         9  \nticker  date                                                                    \n9984.JP 2023-04-24 -0.000623  0.004747  0.003911 -0.000626 -0.000596 -0.001160  \n        2023-04-25 -0.001163  0.001819  0.001823 -0.001183 -0.001165 -0.001230  \n        2023-04-26 -0.005722  0.001822  0.001728 -0.005828 -0.005850 -0.004151  \n        2023-04-27 -0.000200  0.001932  0.001802 -0.000212 -0.000215  0.000337  \n        2023-04-28 -0.007380  0.000026  0.000076 -0.007411 -0.007411 -0.006716  ",
      "text/html": "<div>\n<style scoped>\n    .dataframe tbody tr th:only-of-type {\n        vertical-align: middle;\n    }\n\n    .dataframe tbody tr th {\n        vertical-align: top;\n    }\n\n    .dataframe thead th {\n        text-align: right;\n    }\n</style>\n<table border=\"1\" class=\"dataframe\">\n  <thead>\n    <tr style=\"text-align: right;\">\n      <th></th>\n      <th></th>\n      <th>y_test</th>\n      <th>0</th>\n      <th>1</th>\n      <th>2</th>\n      <th>3</th>\n      <th>4</th>\n      <th>5</th>\n      <th>6</th>\n      <th>7</th>\n      <th>8</th>\n      <th>9</th>\n    </tr>\n    <tr>\n      <th>ticker</th>\n      <th>date</th>\n      <th></th>\n      <th></th>\n      <th></th>\n      <th></th>\n      <th></th>\n      <th></th>\n      <th></th>\n      <th></th>\n      <th></th>\n      <th></th>\n      <th></th>\n    </tr>\n  </thead>\n  <tbody>\n    <tr>\n      <th rowspan=\"5\" valign=\"top\">9984.JP</th>\n      <th>2023-04-24</th>\n      <td>-0.004749</td>\n      <td>0.003837</td>\n      <td>0.003789</td>\n      <td>0.003848</td>\n      <td>0.004731</td>\n      <td>-0.000623</td>\n      <td>0.004747</td>\n      <td>0.003911</td>\n      <td>-0.000626</td>\n      <td>-0.000596</td>\n      <td>-0.001160</td>\n    </tr>\n    <tr>\n      <th>2023-04-25</th>\n      <td>0.001988</td>\n      <td>0.001827</td>\n      <td>0.001846</td>\n      <td>0.001781</td>\n      <td>0.001832</td>\n      <td>-0.001163</td>\n      <td>0.001819</td>\n      <td>0.001823</td>\n      <td>-0.001183</td>\n      <td>-0.001165</td>\n      <td>-0.001230</td>\n    </tr>\n    <tr>\n      <th>2023-04-26</th>\n      <td>-0.018254</td>\n      <td>0.001759</td>\n      <td>0.001754</td>\n      <td>0.001801</td>\n      <td>0.001760</td>\n      <td>-0.005722</td>\n      <td>0.001822</td>\n      <td>0.001728</td>\n      <td>-0.005828</td>\n      <td>-0.005850</td>\n      <td>-0.004151</td>\n    </tr>\n    <tr>\n      <th>2023-04-27</th>\n      <td>0.029507</td>\n      <td>0.001772</td>\n      <td>0.001784</td>\n      <td>0.001810</td>\n      <td>0.001951</td>\n      <td>-0.000200</td>\n      <td>0.001932</td>\n      <td>0.001802</td>\n      <td>-0.000212</td>\n      <td>-0.000215</td>\n      <td>0.000337</td>\n    </tr>\n    <tr>\n      <th>2023-04-28</th>\n      <td>0.013545</td>\n      <td>0.000106</td>\n      <td>0.000086</td>\n      <td>0.000040</td>\n      <td>0.000065</td>\n      <td>-0.007380</td>\n      <td>0.000026</td>\n      <td>0.000076</td>\n      <td>-0.007411</td>\n      <td>-0.007411</td>\n      <td>-0.006716</td>\n    </tr>\n  </tbody>\n</table>\n</div>"
     },
     "execution_count": 73,
     "metadata": {},
     "output_type": "execute_result"
    }
   ],
   "source": [
    "best_predictions.head()"
   ],
   "metadata": {
    "collapsed": false,
    "pycharm": {
     "name": "#%%\n"
    }
   }
  },
  {
   "cell_type": "code",
   "execution_count": 75,
   "outputs": [],
   "source": [
    "factor = (best_predictions.iloc[:, :1].tz_localize('UTC', level='date').swaplevel().dropna().reset_index()\n",
    "          .drop_duplicates().set_index(['date', 'ticker']))\n",
    "# factor = pd.DataFrame(factor, columns=['asset', 'y_test', '0', '1'], index=['date'])"
   ],
   "metadata": {
    "collapsed": false,
    "pycharm": {
     "name": "#%%\n"
    }
   }
  },
  {
   "cell_type": "code",
   "execution_count": 76,
   "outputs": [
    {
     "data": {
      "text/plain": "                                     y_test\ndate                      ticker           \n2023-04-24 00:00:00+00:00 9984.JP -0.004749\n2023-04-25 00:00:00+00:00 9984.JP  0.001988\n2023-04-26 00:00:00+00:00 9984.JP -0.018254\n2023-04-27 00:00:00+00:00 9984.JP  0.029507\n2023-04-28 00:00:00+00:00 9984.JP  0.013545\n2021-04-14 00:00:00+00:00 3053.JP -0.020270\n2021-04-15 00:00:00+00:00 3053.JP -0.013793\n2021-04-16 00:00:00+00:00 3053.JP -0.013986\n2021-04-19 00:00:00+00:00 3053.JP -0.014184\n2021-04-20 00:00:00+00:00 3053.JP -0.028777",
      "text/html": "<div>\n<style scoped>\n    .dataframe tbody tr th:only-of-type {\n        vertical-align: middle;\n    }\n\n    .dataframe tbody tr th {\n        vertical-align: top;\n    }\n\n    .dataframe thead th {\n        text-align: right;\n    }\n</style>\n<table border=\"1\" class=\"dataframe\">\n  <thead>\n    <tr style=\"text-align: right;\">\n      <th></th>\n      <th></th>\n      <th>y_test</th>\n    </tr>\n    <tr>\n      <th>date</th>\n      <th>ticker</th>\n      <th></th>\n    </tr>\n  </thead>\n  <tbody>\n    <tr>\n      <th>2023-04-24 00:00:00+00:00</th>\n      <th>9984.JP</th>\n      <td>-0.004749</td>\n    </tr>\n    <tr>\n      <th>2023-04-25 00:00:00+00:00</th>\n      <th>9984.JP</th>\n      <td>0.001988</td>\n    </tr>\n    <tr>\n      <th>2023-04-26 00:00:00+00:00</th>\n      <th>9984.JP</th>\n      <td>-0.018254</td>\n    </tr>\n    <tr>\n      <th>2023-04-27 00:00:00+00:00</th>\n      <th>9984.JP</th>\n      <td>0.029507</td>\n    </tr>\n    <tr>\n      <th>2023-04-28 00:00:00+00:00</th>\n      <th>9984.JP</th>\n      <td>0.013545</td>\n    </tr>\n    <tr>\n      <th>2021-04-14 00:00:00+00:00</th>\n      <th>3053.JP</th>\n      <td>-0.020270</td>\n    </tr>\n    <tr>\n      <th>2021-04-15 00:00:00+00:00</th>\n      <th>3053.JP</th>\n      <td>-0.013793</td>\n    </tr>\n    <tr>\n      <th>2021-04-16 00:00:00+00:00</th>\n      <th>3053.JP</th>\n      <td>-0.013986</td>\n    </tr>\n    <tr>\n      <th>2021-04-19 00:00:00+00:00</th>\n      <th>3053.JP</th>\n      <td>-0.014184</td>\n    </tr>\n    <tr>\n      <th>2021-04-20 00:00:00+00:00</th>\n      <th>3053.JP</th>\n      <td>-0.028777</td>\n    </tr>\n  </tbody>\n</table>\n</div>"
     },
     "execution_count": 76,
     "metadata": {},
     "output_type": "execute_result"
    }
   ],
   "source": [
    "pd.concat([factor.head(), factor.tail()])"
   ],
   "metadata": {
    "collapsed": false,
    "pycharm": {
     "name": "#%%\n"
    }
   }
  },
  {
   "cell_type": "code",
   "execution_count": 77,
   "outputs": [
    {
     "name": "stdout",
     "output_type": "stream",
     "text": [
      "Dropped 20.6% entries from factor data: 20.6% in forward returns computation and 0.0% in binning phase (set max_loss=0 to see potentially suppressed Exceptions).\n",
      "max_loss is 35.0%, not exceeded: OK!\n",
      "<class 'pandas.core.frame.DataFrame'>\n",
      "MultiIndex: 375165 entries, (Timestamp('2021-04-14 00:00:00+0000', tz='UTC', freq='C'), '1332.JP') to (Timestamp('2022-11-30 00:00:00+0000', tz='UTC', freq='C'), '9997.JP')\n",
      "Data columns (total 6 columns):\n",
      " #   Column           Non-Null Count   Dtype  \n",
      "---  ------           --------------   -----  \n",
      " 0   1D               375165 non-null  float64\n",
      " 1   5D               375165 non-null  float64\n",
      " 2   10D              375165 non-null  float64\n",
      " 3   21D              375165 non-null  float64\n",
      " 4   factor           375165 non-null  float64\n",
      " 5   factor_quantile  375165 non-null  int64  \n",
      "dtypes: float64(5), int64(1)\n",
      "memory usage: 18.7+ MB\n"
     ]
    }
   ],
   "source": [
    "factor_data = get_clean_factor_and_forward_returns(factor=factor,prices=trade_prices,quantiles=5,\n",
    "                                                   periods=(1, 5, 10, 21))\n",
    "factor_data.sort_index().info()"
   ],
   "metadata": {
    "collapsed": false,
    "pycharm": {
     "name": "#%%\n"
    }
   }
  },
  {
   "cell_type": "code",
   "execution_count": 78,
   "outputs": [
    {
     "name": "stdout",
     "output_type": "stream",
     "text": [
      "Quantiles Statistics\n"
     ]
    },
    {
     "data": {
      "text/plain": "                      min       max      mean       std  count    count %\nfactor_quantile                                                          \n1               -0.228013  0.026018 -0.020386  0.017239  75069  20.009596\n2               -0.047444  0.036112 -0.006462  0.010612  75373  20.090627\n3               -0.030846  0.044000 -0.000033  0.010232  74900  19.964549\n4               -0.021927  0.053507  0.006505  0.010400  74894  19.962950\n5               -0.013382  0.370370  0.021773  0.019404  74929  19.972279",
      "text/html": "<div>\n<style scoped>\n    .dataframe tbody tr th:only-of-type {\n        vertical-align: middle;\n    }\n\n    .dataframe tbody tr th {\n        vertical-align: top;\n    }\n\n    .dataframe thead th {\n        text-align: right;\n    }\n</style>\n<table border=\"1\" class=\"dataframe\">\n  <thead>\n    <tr style=\"text-align: right;\">\n      <th></th>\n      <th>min</th>\n      <th>max</th>\n      <th>mean</th>\n      <th>std</th>\n      <th>count</th>\n      <th>count %</th>\n    </tr>\n    <tr>\n      <th>factor_quantile</th>\n      <th></th>\n      <th></th>\n      <th></th>\n      <th></th>\n      <th></th>\n      <th></th>\n    </tr>\n  </thead>\n  <tbody>\n    <tr>\n      <th>1</th>\n      <td>-0.228013</td>\n      <td>0.026018</td>\n      <td>-0.020386</td>\n      <td>0.017239</td>\n      <td>75069</td>\n      <td>20.009596</td>\n    </tr>\n    <tr>\n      <th>2</th>\n      <td>-0.047444</td>\n      <td>0.036112</td>\n      <td>-0.006462</td>\n      <td>0.010612</td>\n      <td>75373</td>\n      <td>20.090627</td>\n    </tr>\n    <tr>\n      <th>3</th>\n      <td>-0.030846</td>\n      <td>0.044000</td>\n      <td>-0.000033</td>\n      <td>0.010232</td>\n      <td>74900</td>\n      <td>19.964549</td>\n    </tr>\n    <tr>\n      <th>4</th>\n      <td>-0.021927</td>\n      <td>0.053507</td>\n      <td>0.006505</td>\n      <td>0.010400</td>\n      <td>74894</td>\n      <td>19.962950</td>\n    </tr>\n    <tr>\n      <th>5</th>\n      <td>-0.013382</td>\n      <td>0.370370</td>\n      <td>0.021773</td>\n      <td>0.019404</td>\n      <td>74929</td>\n      <td>19.972279</td>\n    </tr>\n  </tbody>\n</table>\n</div>"
     },
     "metadata": {},
     "output_type": "display_data"
    },
    {
     "name": "stdout",
     "output_type": "stream",
     "text": [
      "Returns Analysis\n"
     ]
    },
    {
     "data": {
      "text/plain": "                                                    1D      5D     10D     21D\nAnn. alpha                                      47.537   1.213   0.474   0.199\nbeta                                            -0.009  -0.014  -0.007   0.044\nMean Period Wise Return Top Quantile (bps)     145.424  28.958  13.959   6.493\nMean Period Wise Return Bottom Quantile (bps) -141.365 -28.935 -14.121  -6.689\nMean Period Wise Spread (bps)                  286.789  57.898  28.084  13.181",
      "text/html": "<div>\n<style scoped>\n    .dataframe tbody tr th:only-of-type {\n        vertical-align: middle;\n    }\n\n    .dataframe tbody tr th {\n        vertical-align: top;\n    }\n\n    .dataframe thead th {\n        text-align: right;\n    }\n</style>\n<table border=\"1\" class=\"dataframe\">\n  <thead>\n    <tr style=\"text-align: right;\">\n      <th></th>\n      <th>1D</th>\n      <th>5D</th>\n      <th>10D</th>\n      <th>21D</th>\n    </tr>\n  </thead>\n  <tbody>\n    <tr>\n      <th>Ann. alpha</th>\n      <td>47.537</td>\n      <td>1.213</td>\n      <td>0.474</td>\n      <td>0.199</td>\n    </tr>\n    <tr>\n      <th>beta</th>\n      <td>-0.009</td>\n      <td>-0.014</td>\n      <td>-0.007</td>\n      <td>0.044</td>\n    </tr>\n    <tr>\n      <th>Mean Period Wise Return Top Quantile (bps)</th>\n      <td>145.424</td>\n      <td>28.958</td>\n      <td>13.959</td>\n      <td>6.493</td>\n    </tr>\n    <tr>\n      <th>Mean Period Wise Return Bottom Quantile (bps)</th>\n      <td>-141.365</td>\n      <td>-28.935</td>\n      <td>-14.121</td>\n      <td>-6.689</td>\n    </tr>\n    <tr>\n      <th>Mean Period Wise Spread (bps)</th>\n      <td>286.789</td>\n      <td>57.898</td>\n      <td>28.084</td>\n      <td>13.181</td>\n    </tr>\n  </tbody>\n</table>\n</div>"
     },
     "metadata": {},
     "output_type": "display_data"
    },
    {
     "name": "stdout",
     "output_type": "stream",
     "text": [
      "Information Analysis\n"
     ]
    },
    {
     "data": {
      "text/plain": "                       1D      5D     10D     21D\nIC Mean             0.646   0.283   0.192   0.128\nIC Std.             0.094   0.111   0.114   0.110\nRisk-Adjusted IC    6.870   2.547   1.675   1.162\nt-stat(IC)        136.886  50.754  33.384  23.159\np-value(IC)         0.000   0.000   0.000   0.000\nIC Skew            -0.952  -0.142  -0.118  -0.071\nIC Kurtosis         2.003   0.432   0.192   0.075",
      "text/html": "<div>\n<style scoped>\n    .dataframe tbody tr th:only-of-type {\n        vertical-align: middle;\n    }\n\n    .dataframe tbody tr th {\n        vertical-align: top;\n    }\n\n    .dataframe thead th {\n        text-align: right;\n    }\n</style>\n<table border=\"1\" class=\"dataframe\">\n  <thead>\n    <tr style=\"text-align: right;\">\n      <th></th>\n      <th>1D</th>\n      <th>5D</th>\n      <th>10D</th>\n      <th>21D</th>\n    </tr>\n  </thead>\n  <tbody>\n    <tr>\n      <th>IC Mean</th>\n      <td>0.646</td>\n      <td>0.283</td>\n      <td>0.192</td>\n      <td>0.128</td>\n    </tr>\n    <tr>\n      <th>IC Std.</th>\n      <td>0.094</td>\n      <td>0.111</td>\n      <td>0.114</td>\n      <td>0.110</td>\n    </tr>\n    <tr>\n      <th>Risk-Adjusted IC</th>\n      <td>6.870</td>\n      <td>2.547</td>\n      <td>1.675</td>\n      <td>1.162</td>\n    </tr>\n    <tr>\n      <th>t-stat(IC)</th>\n      <td>136.886</td>\n      <td>50.754</td>\n      <td>33.384</td>\n      <td>23.159</td>\n    </tr>\n    <tr>\n      <th>p-value(IC)</th>\n      <td>0.000</td>\n      <td>0.000</td>\n      <td>0.000</td>\n      <td>0.000</td>\n    </tr>\n    <tr>\n      <th>IC Skew</th>\n      <td>-0.952</td>\n      <td>-0.142</td>\n      <td>-0.118</td>\n      <td>-0.071</td>\n    </tr>\n    <tr>\n      <th>IC Kurtosis</th>\n      <td>2.003</td>\n      <td>0.432</td>\n      <td>0.192</td>\n      <td>0.075</td>\n    </tr>\n  </tbody>\n</table>\n</div>"
     },
     "metadata": {},
     "output_type": "display_data"
    },
    {
     "name": "stdout",
     "output_type": "stream",
     "text": [
      "Turnover Analysis\n"
     ]
    },
    {
     "data": {
      "text/plain": "                              1D     5D    10D    21D\nQuantile 1 Mean Turnover   0.779  0.779  0.779  0.784\nQuantile 2 Mean Turnover   0.792  0.791  0.794  0.794\nQuantile 3 Mean Turnover   0.776  0.782  0.787  0.787\nQuantile 4 Mean Turnover   0.794  0.792  0.792  0.794\nQuantile 5 Mean Turnover   0.777  0.782  0.779  0.785",
      "text/html": "<div>\n<style scoped>\n    .dataframe tbody tr th:only-of-type {\n        vertical-align: middle;\n    }\n\n    .dataframe tbody tr th {\n        vertical-align: top;\n    }\n\n    .dataframe thead th {\n        text-align: right;\n    }\n</style>\n<table border=\"1\" class=\"dataframe\">\n  <thead>\n    <tr style=\"text-align: right;\">\n      <th></th>\n      <th>1D</th>\n      <th>5D</th>\n      <th>10D</th>\n      <th>21D</th>\n    </tr>\n  </thead>\n  <tbody>\n    <tr>\n      <th>Quantile 1 Mean Turnover</th>\n      <td>0.779</td>\n      <td>0.779</td>\n      <td>0.779</td>\n      <td>0.784</td>\n    </tr>\n    <tr>\n      <th>Quantile 2 Mean Turnover</th>\n      <td>0.792</td>\n      <td>0.791</td>\n      <td>0.794</td>\n      <td>0.794</td>\n    </tr>\n    <tr>\n      <th>Quantile 3 Mean Turnover</th>\n      <td>0.776</td>\n      <td>0.782</td>\n      <td>0.787</td>\n      <td>0.787</td>\n    </tr>\n    <tr>\n      <th>Quantile 4 Mean Turnover</th>\n      <td>0.794</td>\n      <td>0.792</td>\n      <td>0.792</td>\n      <td>0.794</td>\n    </tr>\n    <tr>\n      <th>Quantile 5 Mean Turnover</th>\n      <td>0.777</td>\n      <td>0.782</td>\n      <td>0.779</td>\n      <td>0.785</td>\n    </tr>\n  </tbody>\n</table>\n</div>"
     },
     "metadata": {},
     "output_type": "display_data"
    },
    {
     "data": {
      "text/plain": "                                     1D     5D    10D    21D\nMean Factor Rank Autocorrelation -0.023 -0.004  0.003 -0.006",
      "text/html": "<div>\n<style scoped>\n    .dataframe tbody tr th:only-of-type {\n        vertical-align: middle;\n    }\n\n    .dataframe tbody tr th {\n        vertical-align: top;\n    }\n\n    .dataframe thead th {\n        text-align: right;\n    }\n</style>\n<table border=\"1\" class=\"dataframe\">\n  <thead>\n    <tr style=\"text-align: right;\">\n      <th></th>\n      <th>1D</th>\n      <th>5D</th>\n      <th>10D</th>\n      <th>21D</th>\n    </tr>\n  </thead>\n  <tbody>\n    <tr>\n      <th>Mean Factor Rank Autocorrelation</th>\n      <td>-0.023</td>\n      <td>-0.004</td>\n      <td>0.003</td>\n      <td>-0.006</td>\n    </tr>\n  </tbody>\n</table>\n</div>"
     },
     "metadata": {},
     "output_type": "display_data"
    },
    {
     "data": {
      "text/plain": "<Figure size 432x288 with 0 Axes>"
     },
     "metadata": {},
     "output_type": "display_data"
    },
    {
     "data": {
      "text/plain": "<Figure size 1008x7056 with 1 Axes>",
      "image/png": "[encoded data removed]"
     },
     "metadata": {},
     "output_type": "display_data"
    }
   ],
   "source": [
    "create_summary_tear_sheet(factor_data)"
   ],
   "metadata": {
    "collapsed": false,
    "pycharm": {
     "name": "#%%\n"
    }
   }
  },
  {
   "cell_type": "code",
   "execution_count": 56,
   "outputs": [
    {
     "name": "stdout",
     "output_type": "stream",
     "text": [
      "<class 'pandas.core.frame.DataFrame'>\n",
      "MultiIndex: 472500 entries, ('9984.JP', Timestamp('2023-04-24 00:00:00')) to ('3053.JP', Timestamp('2021-04-20 00:00:00'))\n",
      "Data columns (total 10 columns):\n",
      " #   Column  Non-Null Count   Dtype  \n",
      "---  ------  --------------   -----  \n",
      " 0   0       472500 non-null  float64\n",
      " 1   1       472500 non-null  float64\n",
      " 2   2       472500 non-null  float64\n",
      " 3   3       472500 non-null  float64\n",
      " 4   4       472500 non-null  float64\n",
      " 5   5       472500 non-null  float64\n",
      " 6   6       472500 non-null  float64\n",
      " 7   7       472500 non-null  float64\n",
      " 8   8       472500 non-null  float64\n",
      " 9   9       472500 non-null  float64\n",
      "dtypes: float64(10)\n",
      "memory usage: 37.9+ MB\n"
     ]
    }
   ],
   "source": [
    "# Evaluating the Out-of-sample predictions\n",
    "t = 1\n",
    "predictions = pd.read_hdf(results_path / 'predictions.h5', f'test/{t:02}').drop('y_test', axis=1)\n",
    "predictions.info()"
   ],
   "metadata": {
    "collapsed": false,
    "pycharm": {
     "name": "#%%\n"
    }
   }
  },
  {
   "cell_type": "code",
   "execution_count": 97,
   "outputs": [
    {
     "data": {
      "text/plain": "                           0         1         2         3         4  \\\nticker  date                                                           \n3053.JP 2021-04-14  0.003314  0.003058  0.003063  0.004365 -0.002736   \n        2021-04-15  0.002764  0.002664  0.002634  0.003514 -0.003067   \n        2021-04-16  0.007023  0.006646  0.006924  0.006521  0.003319   \n        2021-04-19  0.008021  0.007252  0.007379  0.005815 -0.003073   \n        2021-04-20  0.003034  0.003008  0.003036  0.003637  0.004085   \n\n                           5         6         7         8         9  \nticker  date                                                          \n3053.JP 2021-04-14  0.004350  0.003175 -0.002793 -0.002767 -0.002098  \n        2021-04-15  0.003495  0.002564 -0.003069 -0.003022 -0.002165  \n        2021-04-16  0.006028  0.007363  0.003329  0.003268  0.005295  \n        2021-04-19  0.005300  0.007627 -0.003105 -0.003056 -0.002772  \n        2021-04-20  0.003631  0.002830  0.004069  0.004053  0.005168  ",
      "text/html": "<div>\n<style scoped>\n    .dataframe tbody tr th:only-of-type {\n        vertical-align: middle;\n    }\n\n    .dataframe tbody tr th {\n        vertical-align: top;\n    }\n\n    .dataframe thead th {\n        text-align: right;\n    }\n</style>\n<table border=\"1\" class=\"dataframe\">\n  <thead>\n    <tr style=\"text-align: right;\">\n      <th></th>\n      <th></th>\n      <th>0</th>\n      <th>1</th>\n      <th>2</th>\n      <th>3</th>\n      <th>4</th>\n      <th>5</th>\n      <th>6</th>\n      <th>7</th>\n      <th>8</th>\n      <th>9</th>\n    </tr>\n    <tr>\n      <th>ticker</th>\n      <th>date</th>\n      <th></th>\n      <th></th>\n      <th></th>\n      <th></th>\n      <th></th>\n      <th></th>\n      <th></th>\n      <th></th>\n      <th></th>\n      <th></th>\n    </tr>\n  </thead>\n  <tbody>\n    <tr>\n      <th rowspan=\"5\" valign=\"top\">3053.JP</th>\n      <th>2021-04-14</th>\n      <td>0.003314</td>\n      <td>0.003058</td>\n      <td>0.003063</td>\n      <td>0.004365</td>\n      <td>-0.002736</td>\n      <td>0.004350</td>\n      <td>0.003175</td>\n      <td>-0.002793</td>\n      <td>-0.002767</td>\n      <td>-0.002098</td>\n    </tr>\n    <tr>\n      <th>2021-04-15</th>\n      <td>0.002764</td>\n      <td>0.002664</td>\n      <td>0.002634</td>\n      <td>0.003514</td>\n      <td>-0.003067</td>\n      <td>0.003495</td>\n      <td>0.002564</td>\n      <td>-0.003069</td>\n      <td>-0.003022</td>\n      <td>-0.002165</td>\n    </tr>\n    <tr>\n      <th>2021-04-16</th>\n      <td>0.007023</td>\n      <td>0.006646</td>\n      <td>0.006924</td>\n      <td>0.006521</td>\n      <td>0.003319</td>\n      <td>0.006028</td>\n      <td>0.007363</td>\n      <td>0.003329</td>\n      <td>0.003268</td>\n      <td>0.005295</td>\n    </tr>\n    <tr>\n      <th>2021-04-19</th>\n      <td>0.008021</td>\n      <td>0.007252</td>\n      <td>0.007379</td>\n      <td>0.005815</td>\n      <td>-0.003073</td>\n      <td>0.005300</td>\n      <td>0.007627</td>\n      <td>-0.003105</td>\n      <td>-0.003056</td>\n      <td>-0.002772</td>\n    </tr>\n    <tr>\n      <th>2021-04-20</th>\n      <td>0.003034</td>\n      <td>0.003008</td>\n      <td>0.003036</td>\n      <td>0.003637</td>\n      <td>0.004085</td>\n      <td>0.003631</td>\n      <td>0.002830</td>\n      <td>0.004069</td>\n      <td>0.004053</td>\n      <td>0.005168</td>\n    </tr>\n  </tbody>\n</table>\n</div>"
     },
     "execution_count": 97,
     "metadata": {},
     "output_type": "execute_result"
    }
   ],
   "source": [
    "predictions.tail()"
   ],
   "metadata": {
    "collapsed": false,
    "pycharm": {
     "name": "#%%\n"
    }
   }
  },
  {
   "cell_type": "code",
   "execution_count": 99,
   "outputs": [
    {
     "data": {
      "text/plain": "date                       ticker \n2021-04-14 00:00:00+00:00  1332.JP    0.000363\n2021-04-15 00:00:00+00:00  1332.JP   -0.000582\n2021-04-16 00:00:00+00:00  1332.JP    0.001736\n2021-04-19 00:00:00+00:00  1332.JP   -0.000264\n2021-04-20 00:00:00+00:00  1332.JP    0.003238\n2021-04-21 00:00:00+00:00  1332.JP   -0.000155\n2021-04-22 00:00:00+00:00  1332.JP   -0.002612\n2021-04-23 00:00:00+00:00  1332.JP    0.000624\n2021-04-26 00:00:00+00:00  1332.JP   -0.002178\n2021-04-27 00:00:00+00:00  1332.JP    0.000922\ndtype: float64"
     },
     "execution_count": 99,
     "metadata": {},
     "output_type": "execute_result"
    }
   ],
   "source": [
    "factor = (predictions.iloc[:, :10].mean(1).sort_index().tz_localize('UTC', level='date').swaplevel().dropna())\n",
    "factor.head(10)"
   ],
   "metadata": {
    "collapsed": false,
    "pycharm": {
     "name": "#%%\n"
    }
   }
  },
  {
   "cell_type": "code",
   "execution_count": 58,
   "outputs": [
    {
     "name": "stdout",
     "output_type": "stream",
     "text": [
      "<class 'pandas.core.frame.DataFrame'>\n",
      "DatetimeIndex: 2193 entries, 2014-01-06 00:00:00+00:00 to 2022-12-29 00:00:00+00:00\n",
      "Columns: 945 entries, 1332.JP to 9997.JP\n",
      "dtypes: float64(945)\n",
      "memory usage: 15.8 MB\n"
     ]
    }
   ],
   "source": [
    "tickers = factor.index.get_level_values('ticker').unique()\n",
    "trade_prices = get_trade_prices(tickers)\n",
    "trade_prices.info()"
   ],
   "metadata": {
    "collapsed": false,
    "pycharm": {
     "name": "#%%\n"
    }
   }
  },
  {
   "cell_type": "code",
   "execution_count": 101,
   "outputs": [
    {
     "data": {
      "text/plain": "ticker                     9984.JP  7203.JP  8306.JP  6758.JP  8316.JP  \\\ndate                                                                     \n2022-12-23 00:00:00+00:00   5772.0   1821.0    885.0  10180.0   5310.0   \n2022-12-26 00:00:00+00:00   5797.0   1840.0    886.8  10295.0   5270.0   \n2022-12-27 00:00:00+00:00   5770.0   1811.5    900.0  10100.0   5355.0   \n2022-12-28 00:00:00+00:00   5650.0   1809.0    899.8  10080.0   5350.0   \n2022-12-29 00:00:00+00:00   5681.0   1817.0    871.9  10195.0   5219.0   \n\nticker                     9983.JP  8411.JP  6954.JP  7267.JP  9433.JP  ...  \\\ndate                                                                    ...   \n2022-12-23 00:00:00+00:00  26366.7   1834.5  20145.0   3061.0   4079.0  ...   \n2022-12-26 00:00:00+00:00  27186.7   1850.0  20260.0   3089.0   4063.0  ...   \n2022-12-27 00:00:00+00:00  27300.0   1875.0  19925.0   3043.0   4030.0  ...   \n2022-12-28 00:00:00+00:00  26853.3   1876.0  19865.0   3018.0   4008.0  ...   \n2022-12-29 00:00:00+00:00  26616.7   1847.0  20025.0   3040.0   4004.0  ...   \n\nticker                     7952.JP  4745.JP  7990.JP  2301.JP  4212.JP  \\\ndate                                                                     \n2022-12-23 00:00:00+00:00   2529.0    519.0   2530.0   1365.0   1806.0   \n2022-12-26 00:00:00+00:00   2528.0    526.0   2600.0   1372.0   1800.0   \n2022-12-27 00:00:00+00:00   2541.0    526.0   2532.0   1381.0   1831.0   \n2022-12-28 00:00:00+00:00   2538.0    522.0   2564.0   1351.0   1830.0   \n2022-12-29 00:00:00+00:00   2586.0    528.0   2567.0   1395.0   1850.0   \n\nticker                     6445.JP  6962.JP  5192.JP  8360.JP  3053.JP  \ndate                                                                    \n2022-12-23 00:00:00+00:00    578.0    687.0   3390.0   1130.0    173.0  \n2022-12-26 00:00:00+00:00    572.0    707.0   3485.0   1101.0    172.0  \n2022-12-27 00:00:00+00:00    570.0    680.0   3450.0   1123.0    171.0  \n2022-12-28 00:00:00+00:00    567.0    683.0   3425.0   1123.0    165.0  \n2022-12-29 00:00:00+00:00    575.0    697.0   3445.0   1117.0    179.0  \n\n[5 rows x 945 columns]",
      "text/html": "<div>\n<style scoped>\n    .dataframe tbody tr th:only-of-type {\n        vertical-align: middle;\n    }\n\n    .dataframe tbody tr th {\n        vertical-align: top;\n    }\n\n    .dataframe thead th {\n        text-align: right;\n    }\n</style>\n<table border=\"1\" class=\"dataframe\">\n  <thead>\n    <tr style=\"text-align: right;\">\n      <th>ticker</th>\n      <th>9984.JP</th>\n      <th>7203.JP</th>\n      <th>8306.JP</th>\n      <th>6758.JP</th>\n      <th>8316.JP</th>\n      <th>9983.JP</th>\n      <th>8411.JP</th>\n      <th>6954.JP</th>\n      <th>7267.JP</th>\n      <th>9433.JP</th>\n      <th>...</th>\n      <th>7952.JP</th>\n      <th>4745.JP</th>\n      <th>7990.JP</th>\n      <th>2301.JP</th>\n      <th>4212.JP</th>\n      <th>6445.JP</th>\n      <th>6962.JP</th>\n      <th>5192.JP</th>\n      <th>8360.JP</th>\n      <th>3053.JP</th>\n    </tr>\n    <tr>\n      <th>date</th>\n      <th></th>\n      <th></th>\n      <th></th>\n      <th></th>\n      <th></th>\n      <th></th>\n      <th></th>\n      <th></th>\n      <th></th>\n      <th></th>\n      <th></th>\n      <th></th>\n      <th></th>\n      <th></th>\n      <th></th>\n      <th></th>\n      <th></th>\n      <th></th>\n      <th></th>\n      <th></th>\n      <th></th>\n    </tr>\n  </thead>\n  <tbody>\n    <tr>\n      <th>2022-12-23 00:00:00+00:00</th>\n      <td>5772.0</td>\n      <td>1821.0</td>\n      <td>885.0</td>\n      <td>10180.0</td>\n      <td>5310.0</td>\n      <td>26366.7</td>\n      <td>1834.5</td>\n      <td>20145.0</td>\n      <td>3061.0</td>\n      <td>4079.0</td>\n      <td>...</td>\n      <td>2529.0</td>\n      <td>519.0</td>\n      <td>2530.0</td>\n      <td>1365.0</td>\n      <td>1806.0</td>\n      <td>578.0</td>\n      <td>687.0</td>\n      <td>3390.0</td>\n      <td>1130.0</td>\n      <td>173.0</td>\n    </tr>\n    <tr>\n      <th>2022-12-26 00:00:00+00:00</th>\n      <td>5797.0</td>\n      <td>1840.0</td>\n      <td>886.8</td>\n      <td>10295.0</td>\n      <td>5270.0</td>\n      <td>27186.7</td>\n      <td>1850.0</td>\n      <td>20260.0</td>\n      <td>3089.0</td>\n      <td>4063.0</td>\n      <td>...</td>\n      <td>2528.0</td>\n      <td>526.0</td>\n      <td>2600.0</td>\n      <td>1372.0</td>\n      <td>1800.0</td>\n      <td>572.0</td>\n      <td>707.0</td>\n      <td>3485.0</td>\n      <td>1101.0</td>\n      <td>172.0</td>\n    </tr>\n    <tr>\n      <th>2022-12-27 00:00:00+00:00</th>\n      <td>5770.0</td>\n      <td>1811.5</td>\n      <td>900.0</td>\n      <td>10100.0</td>\n      <td>5355.0</td>\n      <td>27300.0</td>\n      <td>1875.0</td>\n      <td>19925.0</td>\n      <td>3043.0</td>\n      <td>4030.0</td>\n      <td>...</td>\n      <td>2541.0</td>\n      <td>526.0</td>\n      <td>2532.0</td>\n      <td>1381.0</td>\n      <td>1831.0</td>\n      <td>570.0</td>\n      <td>680.0</td>\n      <td>3450.0</td>\n      <td>1123.0</td>\n      <td>171.0</td>\n    </tr>\n    <tr>\n      <th>2022-12-28 00:00:00+00:00</th>\n      <td>5650.0</td>\n      <td>1809.0</td>\n      <td>899.8</td>\n      <td>10080.0</td>\n      <td>5350.0</td>\n      <td>26853.3</td>\n      <td>1876.0</td>\n      <td>19865.0</td>\n      <td>3018.0</td>\n      <td>4008.0</td>\n      <td>...</td>\n      <td>2538.0</td>\n      <td>522.0</td>\n      <td>2564.0</td>\n      <td>1351.0</td>\n      <td>1830.0</td>\n      <td>567.0</td>\n      <td>683.0</td>\n      <td>3425.0</td>\n      <td>1123.0</td>\n      <td>165.0</td>\n    </tr>\n    <tr>\n      <th>2022-12-29 00:00:00+00:00</th>\n      <td>5681.0</td>\n      <td>1817.0</td>\n      <td>871.9</td>\n      <td>10195.0</td>\n      <td>5219.0</td>\n      <td>26616.7</td>\n      <td>1847.0</td>\n      <td>20025.0</td>\n      <td>3040.0</td>\n      <td>4004.0</td>\n      <td>...</td>\n      <td>2586.0</td>\n      <td>528.0</td>\n      <td>2567.0</td>\n      <td>1395.0</td>\n      <td>1850.0</td>\n      <td>575.0</td>\n      <td>697.0</td>\n      <td>3445.0</td>\n      <td>1117.0</td>\n      <td>179.0</td>\n    </tr>\n  </tbody>\n</table>\n<p>5 rows × 945 columns</p>\n</div>"
     },
     "execution_count": 101,
     "metadata": {},
     "output_type": "execute_result"
    }
   ],
   "source": [
    "trade_prices.tail()"
   ],
   "metadata": {
    "collapsed": false,
    "pycharm": {
     "name": "#%%\n"
    }
   }
  },
  {
   "cell_type": "code",
   "execution_count": 59,
   "outputs": [
    {
     "name": "stdout",
     "output_type": "stream",
     "text": [
      "Dropped 20.6% entries from factor data: 20.6% in forward returns computation and 0.0% in binning phase (set max_loss=0 to see potentially suppressed Exceptions).\n",
      "max_loss is 35.0%, not exceeded: OK!\n",
      "<class 'pandas.core.frame.DataFrame'>\n",
      "MultiIndex: 375165 entries, (Timestamp('2021-04-14 00:00:00+0000', tz='UTC', freq='C'), '1332.JP') to (Timestamp('2022-11-30 00:00:00+0000', tz='UTC', freq='C'), '9997.JP')\n",
      "Data columns (total 6 columns):\n",
      " #   Column           Non-Null Count   Dtype  \n",
      "---  ------           --------------   -----  \n",
      " 0   1D               375165 non-null  float64\n",
      " 1   5D               375165 non-null  float64\n",
      " 2   10D              375165 non-null  float64\n",
      " 3   21D              375165 non-null  float64\n",
      " 4   factor           375165 non-null  float64\n",
      " 5   factor_quantile  375165 non-null  int64  \n",
      "dtypes: float64(5), int64(1)\n",
      "memory usage: 18.7+ MB\n"
     ]
    }
   ],
   "source": [
    "# Get AlphaLens Inputs\n",
    "factor_data = get_clean_factor_and_forward_returns(factor=factor, prices=trade_prices, quantiles=5,\n",
    "                                                   periods=(1, 5, 10, 21))\n",
    "factor_data.sort_index().info()"
   ],
   "metadata": {
    "collapsed": false,
    "pycharm": {
     "name": "#%%\n"
    }
   }
  },
  {
   "cell_type": "code",
   "execution_count": 60,
   "outputs": [
    {
     "name": "stdout",
     "output_type": "stream",
     "text": [
      "Quantiles Statistics\n"
     ]
    },
    {
     "data": {
      "text/plain": "                      min       max      mean       std  count  count %\nfactor_quantile                                                        \n1               -0.012713  0.007915 -0.001404  0.002784  75033     20.0\n2               -0.010627  0.010437 -0.000736  0.002732  75033     20.0\n3               -0.010072  0.012020 -0.000283  0.002770  75033     20.0\n4               -0.009543  0.013202  0.000244  0.002841  75033     20.0\n5               -0.008901  0.016812  0.001221  0.003165  75033     20.0",
      "text/html": "<div>\n<style scoped>\n    .dataframe tbody tr th:only-of-type {\n        vertical-align: middle;\n    }\n\n    .dataframe tbody tr th {\n        vertical-align: top;\n    }\n\n    .dataframe thead th {\n        text-align: right;\n    }\n</style>\n<table border=\"1\" class=\"dataframe\">\n  <thead>\n    <tr style=\"text-align: right;\">\n      <th></th>\n      <th>min</th>\n      <th>max</th>\n      <th>mean</th>\n      <th>std</th>\n      <th>count</th>\n      <th>count %</th>\n    </tr>\n    <tr>\n      <th>factor_quantile</th>\n      <th></th>\n      <th></th>\n      <th></th>\n      <th></th>\n      <th></th>\n      <th></th>\n    </tr>\n  </thead>\n  <tbody>\n    <tr>\n      <th>1</th>\n      <td>-0.012713</td>\n      <td>0.007915</td>\n      <td>-0.001404</td>\n      <td>0.002784</td>\n      <td>75033</td>\n      <td>20.0</td>\n    </tr>\n    <tr>\n      <th>2</th>\n      <td>-0.010627</td>\n      <td>0.010437</td>\n      <td>-0.000736</td>\n      <td>0.002732</td>\n      <td>75033</td>\n      <td>20.0</td>\n    </tr>\n    <tr>\n      <th>3</th>\n      <td>-0.010072</td>\n      <td>0.012020</td>\n      <td>-0.000283</td>\n      <td>0.002770</td>\n      <td>75033</td>\n      <td>20.0</td>\n    </tr>\n    <tr>\n      <th>4</th>\n      <td>-0.009543</td>\n      <td>0.013202</td>\n      <td>0.000244</td>\n      <td>0.002841</td>\n      <td>75033</td>\n      <td>20.0</td>\n    </tr>\n    <tr>\n      <th>5</th>\n      <td>-0.008901</td>\n      <td>0.016812</td>\n      <td>0.001221</td>\n      <td>0.003165</td>\n      <td>75033</td>\n      <td>20.0</td>\n    </tr>\n  </tbody>\n</table>\n</div>"
     },
     "metadata": {},
     "output_type": "display_data"
    },
    {
     "name": "stdout",
     "output_type": "stream",
     "text": [
      "Returns Analysis\n"
     ]
    },
    {
     "data": {
      "text/plain": "                                                  1D     5D    10D    21D\nAnn. alpha                                     0.054  0.027  0.011  0.014\nbeta                                           0.050  0.062  0.088  0.130\nMean Period Wise Return Top Quantile (bps)     2.215  0.953  0.278  0.730\nMean Period Wise Return Bottom Quantile (bps) -2.546 -2.038 -1.346 -1.188\nMean Period Wise Spread (bps)                  4.761  2.989  1.624  1.908",
      "text/html": "<div>\n<style scoped>\n    .dataframe tbody tr th:only-of-type {\n        vertical-align: middle;\n    }\n\n    .dataframe tbody tr th {\n        vertical-align: top;\n    }\n\n    .dataframe thead th {\n        text-align: right;\n    }\n</style>\n<table border=\"1\" class=\"dataframe\">\n  <thead>\n    <tr style=\"text-align: right;\">\n      <th></th>\n      <th>1D</th>\n      <th>5D</th>\n      <th>10D</th>\n      <th>21D</th>\n    </tr>\n  </thead>\n  <tbody>\n    <tr>\n      <th>Ann. alpha</th>\n      <td>0.054</td>\n      <td>0.027</td>\n      <td>0.011</td>\n      <td>0.014</td>\n    </tr>\n    <tr>\n      <th>beta</th>\n      <td>0.050</td>\n      <td>0.062</td>\n      <td>0.088</td>\n      <td>0.130</td>\n    </tr>\n    <tr>\n      <th>Mean Period Wise Return Top Quantile (bps)</th>\n      <td>2.215</td>\n      <td>0.953</td>\n      <td>0.278</td>\n      <td>0.730</td>\n    </tr>\n    <tr>\n      <th>Mean Period Wise Return Bottom Quantile (bps)</th>\n      <td>-2.546</td>\n      <td>-2.038</td>\n      <td>-1.346</td>\n      <td>-1.188</td>\n    </tr>\n    <tr>\n      <th>Mean Period Wise Spread (bps)</th>\n      <td>4.761</td>\n      <td>2.989</td>\n      <td>1.624</td>\n      <td>1.908</td>\n    </tr>\n  </tbody>\n</table>\n</div>"
     },
     "metadata": {},
     "output_type": "display_data"
    },
    {
     "name": "stdout",
     "output_type": "stream",
     "text": [
      "Information Analysis\n"
     ]
    },
    {
     "data": {
      "text/plain": "                     1D     5D    10D    21D\nIC Mean           0.011  0.016  0.011  0.017\nIC Std.           0.118  0.115  0.109  0.104\nRisk-Adjusted IC  0.090  0.139  0.104  0.164\nt-stat(IC)        1.799  2.773  2.069  3.258\np-value(IC)       0.073  0.006  0.039  0.001\nIC Skew          -0.062 -0.150  0.276  0.437\nIC Kurtosis       2.800  1.111  0.562  0.275",
      "text/html": "<div>\n<style scoped>\n    .dataframe tbody tr th:only-of-type {\n        vertical-align: middle;\n    }\n\n    .dataframe tbody tr th {\n        vertical-align: top;\n    }\n\n    .dataframe thead th {\n        text-align: right;\n    }\n</style>\n<table border=\"1\" class=\"dataframe\">\n  <thead>\n    <tr style=\"text-align: right;\">\n      <th></th>\n      <th>1D</th>\n      <th>5D</th>\n      <th>10D</th>\n      <th>21D</th>\n    </tr>\n  </thead>\n  <tbody>\n    <tr>\n      <th>IC Mean</th>\n      <td>0.011</td>\n      <td>0.016</td>\n      <td>0.011</td>\n      <td>0.017</td>\n    </tr>\n    <tr>\n      <th>IC Std.</th>\n      <td>0.118</td>\n      <td>0.115</td>\n      <td>0.109</td>\n      <td>0.104</td>\n    </tr>\n    <tr>\n      <th>Risk-Adjusted IC</th>\n      <td>0.090</td>\n      <td>0.139</td>\n      <td>0.104</td>\n      <td>0.164</td>\n    </tr>\n    <tr>\n      <th>t-stat(IC)</th>\n      <td>1.799</td>\n      <td>2.773</td>\n      <td>2.069</td>\n      <td>3.258</td>\n    </tr>\n    <tr>\n      <th>p-value(IC)</th>\n      <td>0.073</td>\n      <td>0.006</td>\n      <td>0.039</td>\n      <td>0.001</td>\n    </tr>\n    <tr>\n      <th>IC Skew</th>\n      <td>-0.062</td>\n      <td>-0.150</td>\n      <td>0.276</td>\n      <td>0.437</td>\n    </tr>\n    <tr>\n      <th>IC Kurtosis</th>\n      <td>2.800</td>\n      <td>1.111</td>\n      <td>0.562</td>\n      <td>0.275</td>\n    </tr>\n  </tbody>\n</table>\n</div>"
     },
     "metadata": {},
     "output_type": "display_data"
    },
    {
     "name": "stdout",
     "output_type": "stream",
     "text": [
      "Turnover Analysis\n"
     ]
    },
    {
     "data": {
      "text/plain": "                              1D     5D    10D    21D\nQuantile 1 Mean Turnover   0.679  0.739  0.769  0.796\nQuantile 2 Mean Turnover   0.762  0.780  0.792  0.798\nQuantile 3 Mean Turnover   0.772  0.789  0.794  0.800\nQuantile 4 Mean Turnover   0.761  0.780  0.796  0.798\nQuantile 5 Mean Turnover   0.631  0.700  0.751  0.790",
      "text/html": "<div>\n<style scoped>\n    .dataframe tbody tr th:only-of-type {\n        vertical-align: middle;\n    }\n\n    .dataframe tbody tr th {\n        vertical-align: top;\n    }\n\n    .dataframe thead th {\n        text-align: right;\n    }\n</style>\n<table border=\"1\" class=\"dataframe\">\n  <thead>\n    <tr style=\"text-align: right;\">\n      <th></th>\n      <th>1D</th>\n      <th>5D</th>\n      <th>10D</th>\n      <th>21D</th>\n    </tr>\n  </thead>\n  <tbody>\n    <tr>\n      <th>Quantile 1 Mean Turnover</th>\n      <td>0.679</td>\n      <td>0.739</td>\n      <td>0.769</td>\n      <td>0.796</td>\n    </tr>\n    <tr>\n      <th>Quantile 2 Mean Turnover</th>\n      <td>0.762</td>\n      <td>0.780</td>\n      <td>0.792</td>\n      <td>0.798</td>\n    </tr>\n    <tr>\n      <th>Quantile 3 Mean Turnover</th>\n      <td>0.772</td>\n      <td>0.789</td>\n      <td>0.794</td>\n      <td>0.800</td>\n    </tr>\n    <tr>\n      <th>Quantile 4 Mean Turnover</th>\n      <td>0.761</td>\n      <td>0.780</td>\n      <td>0.796</td>\n      <td>0.798</td>\n    </tr>\n    <tr>\n      <th>Quantile 5 Mean Turnover</th>\n      <td>0.631</td>\n      <td>0.700</td>\n      <td>0.751</td>\n      <td>0.790</td>\n    </tr>\n  </tbody>\n</table>\n</div>"
     },
     "metadata": {},
     "output_type": "display_data"
    },
    {
     "data": {
      "text/plain": "                                     1D     5D    10D    21D\nMean Factor Rank Autocorrelation  0.274  0.158  0.071  0.008",
      "text/html": "<div>\n<style scoped>\n    .dataframe tbody tr th:only-of-type {\n        vertical-align: middle;\n    }\n\n    .dataframe tbody tr th {\n        vertical-align: top;\n    }\n\n    .dataframe thead th {\n        text-align: right;\n    }\n</style>\n<table border=\"1\" class=\"dataframe\">\n  <thead>\n    <tr style=\"text-align: right;\">\n      <th></th>\n      <th>1D</th>\n      <th>5D</th>\n      <th>10D</th>\n      <th>21D</th>\n    </tr>\n  </thead>\n  <tbody>\n    <tr>\n      <th>Mean Factor Rank Autocorrelation</th>\n      <td>0.274</td>\n      <td>0.158</td>\n      <td>0.071</td>\n      <td>0.008</td>\n    </tr>\n  </tbody>\n</table>\n</div>"
     },
     "metadata": {},
     "output_type": "display_data"
    },
    {
     "data": {
      "text/plain": "<Figure size 432x288 with 0 Axes>"
     },
     "metadata": {},
     "output_type": "display_data"
    },
    {
     "data": {
      "text/plain": "<Figure size 1008x7056 with 1 Axes>",
      "image/png": "[encoded data removed]"
     },
     "metadata": {},
     "output_type": "display_data"
    }
   ],
   "source": [
    "create_summary_tear_sheet(factor_data)"
   ],
   "metadata": {
    "collapsed": false,
    "pycharm": {
     "name": "#%%\n"
    }
   }
  }
 ],
 "metadata": {
  "kernelspec": {
   "display_name": "Python 3",
   "language": "python",
   "name": "python3"
  },
  "language_info": {
   "codemirror_mode": {
    "name": "ipython",
    "version": 2
   },
   "file_extension": ".py",
   "mimetype": "text/x-python",
   "name": "python",
   "nbconvert_exporter": "python",
   "pygments_lexer": "ipython2",
   "version": "2.7.6"
  }
 },
 "nbformat": 4,
 "nbformat_minor": 0
}