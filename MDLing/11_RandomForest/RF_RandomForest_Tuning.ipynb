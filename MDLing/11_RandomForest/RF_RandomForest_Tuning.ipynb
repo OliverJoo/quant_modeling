{
 "cells": [
  {
   "cell_type": "code",
   "execution_count": 1,
   "metadata": {
    "collapsed": true,
    "pycharm": {
     "name": "#%%\n"
    }
   },
   "outputs": [],
   "source": [
    "import warnings\n",
    "\n",
    "warnings.filterwarnings('ignore')\n",
    "%matplotlib inline\n",
    "\n",
    "from pathlib import Path\n",
    "import os, sys\n",
    "import numpy as np\n",
    "\n",
    "from numpy.random import choice\n",
    "import pandas as pd\n",
    "from scipy.stats import spearmanr\n",
    "\n",
    "from sklearn.ensemble import RandomForestRegressor, RandomForestClassifier\n",
    "from sklearn.model_selection import GridSearchCV, cross_val_score\n",
    "from sklearn.metrics import make_scorer\n",
    "import joblib\n",
    "\n",
    "import matplotlib.pyplot as plt\n",
    "import seaborn as sns\n",
    "\n",
    "sys.path.insert(1, os.path.join(sys.path[0], '..'))\n",
    "sns.set_style('white')\n",
    "np.random.seed(seed=42)\n",
    "results_path = Path('results', 'random_forest')\n",
    "if not results_path.exists():\n",
    "    results_path.mkdir(parents=True)"
   ]
  },
  {
   "cell_type": "code",
   "execution_count": 2,
   "outputs": [],
   "source": [
    "class MultipleTimeSeriesCV:\n",
    "    def __init__(self, n_splits=3, train_period_length=126, test_period_length=21, lookahead=None, date_idx='date',\n",
    "                 shuffle=False):\n",
    "        self.n_splits = n_splits\n",
    "        self.lookahead = lookahead\n",
    "        self.test_length = test_period_length\n",
    "        self.train_length = train_period_length\n",
    "        self.shuffle = shuffle\n",
    "        self.date_idx = date_idx\n",
    "\n",
    "    def split(self, X, y=None, groups=None):\n",
    "        unique_dates = X.index.get_level_values(self.date_idx).unique()\n",
    "        days = sorted(unique_dates, reverse=True)\n",
    "        split_idx = []\n",
    "        for i in range(self.n_splits):\n",
    "            test_end_idx = i * self.test_length\n",
    "            test_start_idx = test_end_idx + self.test_length\n",
    "            train_end_idx = test_start_idx + self.lookahead - 1\n",
    "            train_start_idx = train_end_idx + self.train_length + self.lookahead - 1\n",
    "            split_idx.append([train_start_idx, train_end_idx, test_start_idx, test_end_idx])\n",
    "\n",
    "        dates = X.reset_index()[[self.date_idx]]\n",
    "        for train_start, train_end, test_start, test_end in split_idx:\n",
    "\n",
    "            train_idx = dates[\n",
    "                (dates[self.date_idx] > days[train_start]) & (dates[self.date_idx] <= days[train_end])].index\n",
    "            test_idx = dates[(dates[self.date_idx] > days[test_start]) & (dates[self.date_idx] <= days[test_end])].index\n",
    "            if self.shuffle:\n",
    "                np.random.shuffle(list(train_idx))\n",
    "            yield train_idx.to_numpy(), test_idx.to_numpy()\n",
    "\n",
    "    def get_n_splits(self, X, y, groups=None):\n",
    "        return self.n_splits"
   ],
   "metadata": {
    "collapsed": false,
    "pycharm": {
     "name": "#%%\n"
    }
   }
  },
  {
   "cell_type": "code",
   "execution_count": 3,
   "outputs": [
    {
     "name": "stdout",
     "output_type": "stream",
     "text": [
      "<class 'pandas.core.frame.DataFrame'>\n",
      "MultiIndex: 77788 entries, ('A', Timestamp('2006-12-31 00:00:00')) to ('ZION', Timestamp('2017-11-30 00:00:00'))\n",
      "Data columns (total 27 columns):\n",
      " #   Column         Non-Null Count  Dtype  \n",
      "---  ------         --------------  -----  \n",
      " 0   atr            77788 non-null  float64\n",
      " 1   bb_down        77788 non-null  float64\n",
      " 2   bb_high        77788 non-null  float64\n",
      " 3   bb_low         77788 non-null  float64\n",
      " 4   bb_mid         77788 non-null  float64\n",
      " 5   bb_up          77788 non-null  float64\n",
      " 6   macd           77788 non-null  float64\n",
      " 7   natr           77788 non-null  float64\n",
      " 8   rsi            77788 non-null  float64\n",
      " 9   sector         77788 non-null  object \n",
      " 10  return_1m      77788 non-null  float64\n",
      " 11  return_3m      77788 non-null  float64\n",
      " 12  return_6m      77788 non-null  float64\n",
      " 13  return_12m     77788 non-null  float64\n",
      " 14  beta           77788 non-null  float64\n",
      " 15  SMB            77788 non-null  float64\n",
      " 16  HML            77788 non-null  float64\n",
      " 17  RMW            77788 non-null  float64\n",
      " 18  CMA            77788 non-null  float64\n",
      " 19  momentum_3     77788 non-null  float64\n",
      " 20  momentum_6     77788 non-null  float64\n",
      " 21  momentum_3_6   77788 non-null  float64\n",
      " 22  momentum_12    77788 non-null  float64\n",
      " 23  momentum_3_12  77788 non-null  float64\n",
      " 24  year           77788 non-null  int64  \n",
      " 25  month          77788 non-null  int64  \n",
      " 26  target         77788 non-null  float64\n",
      "dtypes: float64(24), int64(2), object(1)\n",
      "memory usage: 16.4+ MB\n"
     ]
    }
   ],
   "source": [
    "with pd.HDFStore('data/data.h5') as store:\n",
    "    data = store['us/equities/monthly']\n",
    "data.info()"
   ],
   "metadata": {
    "collapsed": false,
    "pycharm": {
     "name": "#%%\n"
    }
   }
  },
  {
   "cell_type": "code",
   "execution_count": 4,
   "outputs": [],
   "source": [
    "y = data.target\n",
    "y_binary = (y > 0).astype(int)\n",
    "X = pd.get_dummies(data.drop('target', axis=1))\n",
    "# y_binary"
   ],
   "metadata": {
    "collapsed": false,
    "pycharm": {
     "name": "#%%\n"
    }
   }
  },
  {
   "cell_type": "code",
   "execution_count": 5,
   "outputs": [],
   "source": [
    "# Cross-validation parameters\n",
    "n_splits = 10\n",
    "train_period_length = 60\n",
    "test_period_length = 6\n",
    "lookahead = 1\n",
    "\n",
    "cv = MultipleTimeSeriesCV(n_splits=n_splits, train_period_length=train_period_length,\n",
    "                          test_period_length=test_period_length, lookahead=lookahead)"
   ],
   "metadata": {
    "collapsed": false,
    "pycharm": {
     "name": "#%%\n"
    }
   }
  },
  {
   "cell_type": "code",
   "execution_count": 6,
   "outputs": [
    {
     "name": "stderr",
     "output_type": "stream",
     "text": [
      "[Parallel(n_jobs=-1)]: Using backend LokyBackend with 12 concurrent workers.\n",
      "[Parallel(n_jobs=-1)]: Done  10 out of  10 | elapsed:   15.3s finished\n"
     ]
    }
   ],
   "source": [
    "# Classifier\n",
    "rf_clf = RandomForestClassifier(n_estimators=100, criterion='gini', max_depth=None, min_samples_split=2,\n",
    "                                min_samples_leaf=1, min_weight_fraction_leaf=0.0, max_features='auto',\n",
    "                                max_leaf_nodes=None, min_impurity_decrease=0.0, bootstrap=True,\n",
    "                                oob_score=True, n_jobs=-1, random_state=42, verbose=1)\n",
    "\n",
    "cv_score = cross_val_score(estimator=rf_clf, X=X, y=y_binary, scoring='roc_auc', cv=cv, n_jobs=-1, verbose=1)"
   ],
   "metadata": {
    "collapsed": false,
    "pycharm": {
     "name": "#%%\n"
    }
   }
  },
  {
   "cell_type": "code",
   "execution_count": 7,
   "outputs": [
    {
     "data": {
      "text/plain": "0.5171907263130099"
     },
     "execution_count": 7,
     "metadata": {},
     "output_type": "execute_result"
    }
   ],
   "source": [
    "np.mean(cv_score)"
   ],
   "metadata": {
    "collapsed": false,
    "pycharm": {
     "name": "#%%\n"
    }
   }
  },
  {
   "cell_type": "code",
   "execution_count": 8,
   "outputs": [
    {
     "name": "stderr",
     "output_type": "stream",
     "text": [
      "[Parallel(n_jobs=-1)]: Using backend LokyBackend with 12 concurrent workers.\n",
      "[Parallel(n_jobs=-1)]: Done  10 out of  10 | elapsed:  1.3min finished\n"
     ]
    }
   ],
   "source": [
    "# Regression RF\n",
    "def rank_correl(y, y_pred):\n",
    "    # spearmanr: using ranked value for correlation to understand Nonlinear relationships\n",
    "    # pearson : using the real value for correlation\n",
    "    return spearmanr(y, y_pred)[0]\n",
    "\n",
    "ic = make_scorer(rank_correl)\n",
    "rf_reg = RandomForestRegressor(n_estimators=100, max_depth=None, min_samples_split=2, min_samples_leaf=1,\n",
    "                                min_weight_fraction_leaf=0.0,  max_features='auto', max_leaf_nodes=None,\n",
    "                                min_impurity_decrease=0.0,  bootstrap=True,  oob_score=False, n_jobs=-1,\n",
    "                                random_state=None, verbose=0,  warm_start=False)\n",
    "\n",
    "cv_score = cross_val_score(estimator=rf_reg, X=X, y=y, scoring=ic, cv=cv, n_jobs=-1, verbose=1)"
   ],
   "metadata": {
    "collapsed": false,
    "pycharm": {
     "name": "#%%\n"
    }
   }
  },
  {
   "cell_type": "code",
   "execution_count": 9,
   "outputs": [
    {
     "data": {
      "text/plain": "0.014899954652669727"
     },
     "execution_count": 9,
     "metadata": {},
     "output_type": "execute_result"
    }
   ],
   "source": [
    "np.mean(cv_score)"
   ],
   "metadata": {
    "collapsed": false,
    "pycharm": {
     "name": "#%%\n"
    }
   }
  },
  {
   "cell_type": "code",
   "execution_count": 10,
   "outputs": [
    {
     "name": "stdout",
     "output_type": "stream",
     "text": [
      "Fitting 10 folds for each of 27 candidates, totalling 270 fits\n"
     ]
    },
    {
     "name": "stderr",
     "output_type": "stream",
     "text": [
      "[Parallel(n_jobs=-1)]: Using backend ThreadingBackend with 12 concurrent workers.\n",
      "[Parallel(n_jobs=-1)]: Done  26 tasks      | elapsed:    1.4s\n",
      "[Parallel(n_jobs=-1)]: Done  50 out of  50 | elapsed:    2.4s finished\n"
     ]
    },
    {
     "data": {
      "text/plain": "GridSearchCV(cv=<__main__.MultipleTimeSeriesCV object at 0x000001875E667D30>,\n             estimator=RandomForestClassifier(n_jobs=-1, oob_score=True,\n                                              random_state=42, verbose=1),\n             n_jobs=-1,\n             param_grid={'max_depth': [5, 15, None],\n                         'min_samples_leaf': [5, 25, 100],\n                         'n_estimators': [50, 100, 250]},\n             return_train_score=True, scoring='roc_auc', verbose=1)"
     },
     "execution_count": 10,
     "metadata": {},
     "output_type": "execute_result"
    }
   ],
   "source": [
    "# Define Parameter Grid\n",
    "param_grid = {'n_estimators': [50, 100, 250], 'max_depth': [5, 15, None], 'min_samples_leaf': [5, 25, 100]}\n",
    "\n",
    "# GridSearchCV\n",
    "gridsearch_clf = GridSearchCV(estimator=rf_clf, param_grid=param_grid, scoring='roc_auc', n_jobs=-1, cv=cv,\n",
    "                              refit=True, return_train_score=True, verbose=1)\n",
    "\n",
    "gridsearch_clf.fit(X=X, y=y_binary)"
   ],
   "metadata": {
    "collapsed": false,
    "pycharm": {
     "name": "#%%\n"
    }
   }
  },
  {
   "cell_type": "code",
   "execution_count": 11,
   "outputs": [
    {
     "data": {
      "text/plain": "({'max_depth': 15, 'min_samples_leaf': 5, 'n_estimators': 50},\n 0.5209888914455425)"
     },
     "execution_count": 11,
     "metadata": {},
     "output_type": "execute_result"
    }
   ],
   "source": [
    "joblib.dump(gridsearch_clf, results_path / 'gridsearch_clf.joblib')\n",
    "gridsearch_clf = joblib.load(results_path / 'gridsearch_clf.joblib')\n",
    "gridsearch_clf.best_params_, gridsearch_clf.best_score_"
   ],
   "metadata": {
    "collapsed": false,
    "pycharm": {
     "name": "#%%\n"
    }
   }
  },
  {
   "cell_type": "code",
   "execution_count": 18,
   "outputs": [
    {
     "data": {
      "text/plain": "<Figure size 864x576 with 1 Axes>",
      "image/png": "[encoded data removed]"
     },
     "metadata": {},
     "output_type": "display_data"
    }
   ],
   "source": [
    "# Feature Importance\n",
    "fig, ax = plt.subplots(figsize=(12,8))\n",
    "(pd.Series(gridsearch_clf.best_estimator_.feature_importances_, index=X.columns).sort_values(ascending=False)\n",
    " .iloc[:20].sort_values().plot.barh(ax=ax, title='RF Feature Importance'))\n",
    "sns.despine()"
   ],
   "metadata": {
    "collapsed": false,
    "pycharm": {
     "name": "#%%\n"
    }
   }
  },
  {
   "cell_type": "code",
   "execution_count": 13,
   "outputs": [
    {
     "name": "stdout",
     "output_type": "stream",
     "text": [
      "Fitting 10 folds for each of 27 candidates, totalling 270 fits\n"
     ]
    },
    {
     "data": {
      "text/plain": "GridSearchCV(cv=<__main__.MultipleTimeSeriesCV object at 0x000001875E667D30>,\n             estimator=RandomForestRegressor(n_jobs=-1), n_jobs=-1,\n             param_grid={'max_depth': [5, 15, None],\n                         'min_samples_leaf': [5, 25, 100],\n                         'n_estimators': [50, 100, 250]},\n             return_train_score=True, scoring=make_scorer(rank_correl),\n             verbose=1)"
     },
     "execution_count": 13,
     "metadata": {},
     "output_type": "execute_result"
    }
   ],
   "source": [
    "# Fit Regressor\n",
    "gridsearch_reg = GridSearchCV(estimator=rf_reg, param_grid=param_grid, scoring=ic, n_jobs=-1, cv=cv,\n",
    "                      refit=True, return_train_score=True, verbose=1)\n",
    "gs_reg = gridsearch_reg\n",
    "gridsearch_reg.fit(X=X, y=y)"
   ],
   "metadata": {
    "collapsed": false,
    "pycharm": {
     "name": "#%%\n"
    }
   }
  },
  {
   "cell_type": "code",
   "execution_count": 14,
   "outputs": [
    {
     "data": {
      "text/plain": "({'max_depth': 5, 'min_samples_leaf': 5, 'n_estimators': 50}, '4.66')"
     },
     "execution_count": 14,
     "metadata": {},
     "output_type": "execute_result"
    }
   ],
   "source": [
    "joblib.dump(gridsearch_reg, results_path / 'rf_reg_gridsearch.joblib')\n",
    "gridsearch_reg = joblib.load(results_path / 'rf_reg_gridsearch.joblib')\n",
    "gridsearch_reg.best_params_, f'{gridsearch_reg.best_score_*100:.2f}'"
   ],
   "metadata": {
    "collapsed": false,
    "pycharm": {
     "name": "#%%\n"
    }
   }
  },
  {
   "cell_type": "code",
   "execution_count": 15,
   "outputs": [
    {
     "data": {
      "text/plain": "                  Regression  Classification\nmax_depth                  5              15\nmin_samples_leaf           5               5\nn_estimators              50              50",
      "text/html": "<div>\n<style scoped>\n    .dataframe tbody tr th:only-of-type {\n        vertical-align: middle;\n    }\n\n    .dataframe tbody tr th {\n        vertical-align: top;\n    }\n\n    .dataframe thead th {\n        text-align: right;\n    }\n</style>\n<table border=\"1\" class=\"dataframe\">\n  <thead>\n    <tr style=\"text-align: right;\">\n      <th></th>\n      <th>Regression</th>\n      <th>Classification</th>\n    </tr>\n  </thead>\n  <tbody>\n    <tr>\n      <th>max_depth</th>\n      <td>5</td>\n      <td>15</td>\n    </tr>\n    <tr>\n      <th>min_samples_leaf</th>\n      <td>5</td>\n      <td>5</td>\n    </tr>\n    <tr>\n      <th>n_estimators</th>\n      <td>50</td>\n      <td>50</td>\n    </tr>\n  </tbody>\n</table>\n</div>"
     },
     "execution_count": 15,
     "metadata": {},
     "output_type": "execute_result"
    }
   ],
   "source": [
    "pd.DataFrame({'Regression': pd.Series(gridsearch_reg.best_params_), 'Classification': pd.Series(gridsearch_clf.best_params_)})"
   ],
   "metadata": {
    "collapsed": false,
    "pycharm": {
     "name": "#%%\n"
    }
   }
  },
  {
   "cell_type": "code",
   "execution_count": 16,
   "outputs": [
    {
     "data": {
      "text/plain": "<Figure size 1008x288 with 2 Axes>",
      "image/png": "[encoded data removed]"
     },
     "metadata": {},
     "output_type": "display_data"
    }
   ],
   "source": [
    "# Feature Importance\n",
    "fi_clf = gridsearch_clf.best_estimator_.feature_importances_\n",
    "fi_reg = gridsearch_reg.best_estimator_.feature_importances_\n",
    "idx = [c.replace('_', ' ').upper() for c in X.columns]\n",
    "fig, axes = plt.subplots(figsize=(14, 4), ncols=2)\n",
    "(pd.Series(fi_clf, index=idx).sort_values(ascending=False).iloc[:15].sort_values().plot\n",
    " .barh(ax=axes[1], title='Classifier'))\n",
    "(pd.Series(fi_reg, index=idx).sort_values(ascending=False).iloc[:15].sort_values().plot\n",
    " .barh(ax=axes[0], title='Regression'))\n",
    "sns.despine()"
   ],
   "metadata": {
    "collapsed": false,
    "pycharm": {
     "name": "#%%\n"
    }
   }
  }
 ],
 "metadata": {
  "kernelspec": {
   "display_name": "Python 3",
   "language": "python",
   "name": "python3"
  },
  "language_info": {
   "codemirror_mode": {
    "name": "ipython",
    "version": 2
   },
   "file_extension": ".py",
   "mimetype": "text/x-python",
   "name": "python",
   "nbconvert_exporter": "python",
   "pygments_lexer": "ipython2",
   "version": "2.7.6"
  }
 },
 "nbformat": 4,
 "nbformat_minor": 0
}