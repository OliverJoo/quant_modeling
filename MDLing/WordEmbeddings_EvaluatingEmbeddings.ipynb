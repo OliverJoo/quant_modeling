{
 "cells": [
  {
   "cell_type": "code",
   "execution_count": 1,
   "metadata": {
    "collapsed": true,
    "pycharm": {
     "name": "#%%\n"
    }
   },
   "outputs": [],
   "source": [
    "%matplotlib inline\n",
    "from pathlib import Path\n",
    "import pandas as pd\n",
    "import numpy as np\n",
    "\n",
    "import matplotlib.pyplot as plt\n",
    "import seaborn as sns"
   ]
  },
  {
   "cell_type": "code",
   "execution_count": 2,
   "outputs": [],
   "source": [
    "sns.set_style('white')\n",
    "pd.set_option('float_format', '{:,.2f}'.format)\n",
    "np.random.seed(42)\n",
    "analogy_path = Path('data', 'analogies-en.txt')\n",
    "\n",
    "def format_time(t):\n",
    "    m, s = divmod(t, 60)\n",
    "    h, m = divmod(m, 60)\n",
    "    return f'{h:02.0f}:{m:02.0f}:{s:02.0f}'"
   ],
   "metadata": {
    "collapsed": false,
    "pycharm": {
     "name": "#%%\n"
    }
   }
  },
  {
   "cell_type": "code",
   "execution_count": 3,
   "outputs": [
    {
     "name": "stderr",
     "output_type": "stream",
     "text": [
      "C:\\Users\\19498\\AppData\\Local\\Temp\\ipykernel_24748\\3055656098.py:2: FutureWarning: The squeeze argument has been deprecated and will be removed in a future version. Append .squeeze(\"columns\") to the call to squeeze.\n",
      "\n",
      "\n",
      "  df = pd.read_csv(analogy_path, header=None, names=['category'], squeeze=True)\n"
     ]
    },
    {
     "data": {
      "text/plain": "                 category       a       b        c            d\n1  : gram9-plural-verbs    athens  greece  baghdad         iraq\n2  : gram9-plural-verbs    athens  greece  bangkok     thailand\n3  : gram9-plural-verbs    athens  greece  beijing        china\n4  : gram9-plural-verbs    athens  greece   berlin      germany\n5  : gram9-plural-verbs    athens  greece     bern  switzerland",
      "text/html": "<div>\n<style scoped>\n    .dataframe tbody tr th:only-of-type {\n        vertical-align: middle;\n    }\n\n    .dataframe tbody tr th {\n        vertical-align: top;\n    }\n\n    .dataframe thead th {\n        text-align: right;\n    }\n</style>\n<table border=\"1\" class=\"dataframe\">\n  <thead>\n    <tr style=\"text-align: right;\">\n      <th></th>\n      <th>category</th>\n      <th>a</th>\n      <th>b</th>\n      <th>c</th>\n      <th>d</th>\n    </tr>\n  </thead>\n  <tbody>\n    <tr>\n      <th>1</th>\n      <td>: gram9-plural-verbs</td>\n      <td>athens</td>\n      <td>greece</td>\n      <td>baghdad</td>\n      <td>iraq</td>\n    </tr>\n    <tr>\n      <th>2</th>\n      <td>: gram9-plural-verbs</td>\n      <td>athens</td>\n      <td>greece</td>\n      <td>bangkok</td>\n      <td>thailand</td>\n    </tr>\n    <tr>\n      <th>3</th>\n      <td>: gram9-plural-verbs</td>\n      <td>athens</td>\n      <td>greece</td>\n      <td>beijing</td>\n      <td>china</td>\n    </tr>\n    <tr>\n      <th>4</th>\n      <td>: gram9-plural-verbs</td>\n      <td>athens</td>\n      <td>greece</td>\n      <td>berlin</td>\n      <td>germany</td>\n    </tr>\n    <tr>\n      <th>5</th>\n      <td>: gram9-plural-verbs</td>\n      <td>athens</td>\n      <td>greece</td>\n      <td>bern</td>\n      <td>switzerland</td>\n    </tr>\n  </tbody>\n</table>\n</div>"
     },
     "execution_count": 3,
     "metadata": {},
     "output_type": "execute_result"
    }
   ],
   "source": [
    "# Evaluation: Analogies\n",
    "df = pd.read_csv(analogy_path, header=None, names=['category'], squeeze=True)\n",
    "categories = df[df.str.startswith(':')]\n",
    "analogies = df[~df.str.startswith(':')].str.split(expand=True)\n",
    "analogies.columns = list('abcd')\n",
    "df = pd.concat([categories, analogies], axis=1)\n",
    "df.category = df.category.ffill()\n",
    "df = df[df['a'].notnull()]\n",
    "df.head()"
   ],
   "metadata": {
    "collapsed": false,
    "pycharm": {
     "name": "#%%\n"
    }
   }
  },
  {
   "cell_type": "code",
   "execution_count": 6,
   "outputs": [
    {
     "data": {
      "text/plain": "                     category             a             b             c  \\\n9392   : gram9-plural-verbs    jacksonville       florida      portland   \n2273   : gram9-plural-verbs       bucharest       romania    bratislava   \n25190  : gram9-plural-verbs           speak        speaks        search   \n1165   : gram9-plural-verbs        ashgabat  turkmenistan      belgrade   \n14557  : gram9-plural-verbs             son      daughter         groom   \n3424   : gram9-plural-verbs        dushanbe    tajikistan    paramaribo   \n12508  : gram9-plural-verbs         fremont    california        tacoma   \n9296   : gram9-plural-verbs         phoenix       arizona       orlando   \n12403  : gram9-plural-verbs          irving         texas  jacksonville   \n17257  : gram9-plural-verbs           quick       quicker          high   \n\n                d  \n9392       oregon  \n2273     slovakia  \n25190    searches  \n1165       serbia  \n14557       bride  \n3424     suriname  \n12508  washington  \n9296      florida  \n12403     florida  \n17257      higher  ",
      "text/html": "<div>\n<style scoped>\n    .dataframe tbody tr th:only-of-type {\n        vertical-align: middle;\n    }\n\n    .dataframe tbody tr th {\n        vertical-align: top;\n    }\n\n    .dataframe thead th {\n        text-align: right;\n    }\n</style>\n<table border=\"1\" class=\"dataframe\">\n  <thead>\n    <tr style=\"text-align: right;\">\n      <th></th>\n      <th>category</th>\n      <th>a</th>\n      <th>b</th>\n      <th>c</th>\n      <th>d</th>\n    </tr>\n  </thead>\n  <tbody>\n    <tr>\n      <th>9392</th>\n      <td>: gram9-plural-verbs</td>\n      <td>jacksonville</td>\n      <td>florida</td>\n      <td>portland</td>\n      <td>oregon</td>\n    </tr>\n    <tr>\n      <th>2273</th>\n      <td>: gram9-plural-verbs</td>\n      <td>bucharest</td>\n      <td>romania</td>\n      <td>bratislava</td>\n      <td>slovakia</td>\n    </tr>\n    <tr>\n      <th>25190</th>\n      <td>: gram9-plural-verbs</td>\n      <td>speak</td>\n      <td>speaks</td>\n      <td>search</td>\n      <td>searches</td>\n    </tr>\n    <tr>\n      <th>1165</th>\n      <td>: gram9-plural-verbs</td>\n      <td>ashgabat</td>\n      <td>turkmenistan</td>\n      <td>belgrade</td>\n      <td>serbia</td>\n    </tr>\n    <tr>\n      <th>14557</th>\n      <td>: gram9-plural-verbs</td>\n      <td>son</td>\n      <td>daughter</td>\n      <td>groom</td>\n      <td>bride</td>\n    </tr>\n    <tr>\n      <th>3424</th>\n      <td>: gram9-plural-verbs</td>\n      <td>dushanbe</td>\n      <td>tajikistan</td>\n      <td>paramaribo</td>\n      <td>suriname</td>\n    </tr>\n    <tr>\n      <th>12508</th>\n      <td>: gram9-plural-verbs</td>\n      <td>fremont</td>\n      <td>california</td>\n      <td>tacoma</td>\n      <td>washington</td>\n    </tr>\n    <tr>\n      <th>9296</th>\n      <td>: gram9-plural-verbs</td>\n      <td>phoenix</td>\n      <td>arizona</td>\n      <td>orlando</td>\n      <td>florida</td>\n    </tr>\n    <tr>\n      <th>12403</th>\n      <td>: gram9-plural-verbs</td>\n      <td>irving</td>\n      <td>texas</td>\n      <td>jacksonville</td>\n      <td>florida</td>\n    </tr>\n    <tr>\n      <th>17257</th>\n      <td>: gram9-plural-verbs</td>\n      <td>quick</td>\n      <td>quicker</td>\n      <td>high</td>\n      <td>higher</td>\n    </tr>\n  </tbody>\n</table>\n</div>"
     },
     "execution_count": 6,
     "metadata": {},
     "output_type": "execute_result"
    }
   ],
   "source": [
    "df.sample(10)"
   ],
   "metadata": {
    "collapsed": false,
    "pycharm": {
     "name": "#%%\n"
    }
   }
  },
  {
   "cell_type": "code",
   "execution_count": 9,
   "outputs": [
    {
     "data": {
      "text/plain": "category\n: gram9-plural-verbs      25392\ndtype: int64"
     },
     "execution_count": 9,
     "metadata": {},
     "output_type": "execute_result"
    }
   ],
   "source": [
    "df.groupby('category').size().sort_values(ascending=True)"
   ],
   "metadata": {
    "collapsed": false,
    "pycharm": {
     "name": "#%%\n"
    }
   }
  },
  {
   "cell_type": "code",
   "execution_count": 7,
   "outputs": [
    {
     "data": {
      "text/plain": "                            n       a       b        c     d\ncategory                                                    \n: gram9-plural-verbs    25392  athens  greece  baghdad  iraq",
      "text/html": "<div>\n<style scoped>\n    .dataframe tbody tr th:only-of-type {\n        vertical-align: middle;\n    }\n\n    .dataframe tbody tr th {\n        vertical-align: top;\n    }\n\n    .dataframe thead th {\n        text-align: right;\n    }\n</style>\n<table border=\"1\" class=\"dataframe\">\n  <thead>\n    <tr style=\"text-align: right;\">\n      <th></th>\n      <th>n</th>\n      <th>a</th>\n      <th>b</th>\n      <th>c</th>\n      <th>d</th>\n    </tr>\n    <tr>\n      <th>category</th>\n      <th></th>\n      <th></th>\n      <th></th>\n      <th></th>\n      <th></th>\n    </tr>\n  </thead>\n  <tbody>\n    <tr>\n      <th>: gram9-plural-verbs</th>\n      <td>25392</td>\n      <td>athens</td>\n      <td>greece</td>\n      <td>baghdad</td>\n      <td>iraq</td>\n    </tr>\n  </tbody>\n</table>\n</div>"
     },
     "execution_count": 7,
     "metadata": {},
     "output_type": "execute_result"
    }
   ],
   "source": [
    "analogy_cnt = df.groupby('category').size().sort_values(ascending=False).to_frame('n')\n",
    "analogy_example = df.groupby('category').first()\n",
    "\n",
    "analogy_cnt.join(analogy_example)"
   ],
   "metadata": {
    "collapsed": false,
    "pycharm": {
     "name": "#%%\n"
    }
   }
  },
  {
   "cell_type": "code",
   "execution_count": 5,
   "outputs": [
    {
     "data": {
      "text/plain": "<Figure size 1008x432 with 1 Axes>",
      "image/png": "[encoded data removed]"
     },
     "metadata": {},
     "output_type": "display_data"
    }
   ],
   "source": [
    "analogy_cnt.join(analogy_example)['n'].sort_values().plot.barh(title='# Analogies by Category', figsize=(14, 6))\n",
    "sns.despine()\n",
    "plt.tight_layout()\n",
    "\n",
    "# since 1 category data, stop here"
   ],
   "metadata": {
    "collapsed": false,
    "pycharm": {
     "name": "#%%\n"
    }
   }
  }
 ],
 "metadata": {
  "kernelspec": {
   "display_name": "Python 3",
   "language": "python",
   "name": "python3"
  },
  "language_info": {
   "codemirror_mode": {
    "name": "ipython",
    "version": 2
   },
   "file_extension": ".py",
   "mimetype": "text/x-python",
   "name": "python",
   "nbconvert_exporter": "python",
   "pygments_lexer": "ipython2",
   "version": "2.7.6"
  }
 },
 "nbformat": 4,
 "nbformat_minor": 0
}