{
 "cells": [
  {
   "cell_type": "code",
   "execution_count": 1,
   "metadata": {
    "collapsed": true,
    "ExecuteTime": {
     "end_time": "2024-03-06T04:57:29.217Z",
     "start_time": "2024-03-06T04:57:28.755755Z"
    }
   },
   "outputs": [],
   "source": [
    "import warnings\n",
    "warnings.filterwarnings('ignore')\n",
    "\n",
    "%matplotlib inline\n",
    "\n",
    "from pathlib import Path\n",
    "from datetime import date\n",
    "from pprint import pprint\n",
    "from io import BytesIO\n",
    "from zipfile import ZipFile, BadZipFile\n",
    "from tqdm import tqdm\n",
    "import yfinance as yf\n",
    "import os\n",
    "from datetime import datetime\n",
    "import pandas_datareader.data as web\n",
    "import mplfinance as mpf\n",
    "import seaborn as sns\n",
    "import json\n",
    "import requests\n",
    "import pandas_datareader.data as web\n",
    "import pandas as pd\n",
    "import matplotlib.pyplot as plt\n",
    "import matplotlib.ticker as mticker"
   ]
  },
  {
   "cell_type": "code",
   "execution_count": 2,
   "outputs": [],
   "source": [
    "sp_url = 'https://en.wikipedia.org/wiki/List_of_S%26P_500_companies'\n",
    "sp500_companies = pd.read_html(sp_url, header=0)[0]"
   ],
   "metadata": {
    "collapsed": false,
    "ExecuteTime": {
     "end_time": "2024-03-06T04:57:30.033663Z",
     "start_time": "2024-03-06T04:57:29.217676Z"
    }
   }
  },
  {
   "cell_type": "code",
   "execution_count": 3,
   "outputs": [
    {
     "data": {
      "text/plain": "    Symbol              Security             GICS Sector  \\\n0      MMM                    3M             Industrials   \n1      AOS           A. O. Smith             Industrials   \n2      ABT                Abbott             Health Care   \n3     ABBV                AbbVie             Health Care   \n4      ACN             Accenture  Information Technology   \n..     ...                   ...                     ...   \n498    YUM           Yum! Brands  Consumer Discretionary   \n499   ZBRA    Zebra Technologies  Information Technology   \n500    ZBH         Zimmer Biomet             Health Care   \n501   ZION  Zions Bancorporation              Financials   \n502    ZTS                Zoetis             Health Care   \n\n                      GICS Sub-Industry    Headquarters Location  Date added  \\\n0              Industrial Conglomerates    Saint Paul, Minnesota  1957-03-04   \n1                     Building Products     Milwaukee, Wisconsin  2017-07-26   \n2                 Health Care Equipment  North Chicago, Illinois  1957-03-04   \n3                         Biotechnology  North Chicago, Illinois  2012-12-31   \n4        IT Consulting & Other Services          Dublin, Ireland  2011-07-06   \n..                                  ...                      ...         ...   \n498                         Restaurants     Louisville, Kentucky  1997-10-06   \n499  Electronic Equipment & Instruments   Lincolnshire, Illinois  2019-12-23   \n500               Health Care Equipment          Warsaw, Indiana  2001-08-07   \n501                      Regional Banks     Salt Lake City, Utah  2001-06-22   \n502                     Pharmaceuticals   Parsippany, New Jersey  2013-06-21   \n\n         CIK      Founded  \n0      66740         1902  \n1      91142         1916  \n2       1800         1888  \n3    1551152  2013 (1888)  \n4    1467373         1989  \n..       ...          ...  \n498  1041061         1997  \n499   877212         1969  \n500  1136869         1927  \n501   109380         1873  \n502  1555280         1952  \n\n[503 rows x 8 columns]",
      "text/html": "<div>\n<style scoped>\n    .dataframe tbody tr th:only-of-type {\n        vertical-align: middle;\n    }\n\n    .dataframe tbody tr th {\n        vertical-align: top;\n    }\n\n    .dataframe thead th {\n        text-align: right;\n    }\n</style>\n<table border=\"1\" class=\"dataframe\">\n  <thead>\n    <tr style=\"text-align: right;\">\n      <th></th>\n      <th>Symbol</th>\n      <th>Security</th>\n      <th>GICS Sector</th>\n      <th>GICS Sub-Industry</th>\n      <th>Headquarters Location</th>\n      <th>Date added</th>\n      <th>CIK</th>\n      <th>Founded</th>\n    </tr>\n  </thead>\n  <tbody>\n    <tr>\n      <th>0</th>\n      <td>MMM</td>\n      <td>3M</td>\n      <td>Industrials</td>\n      <td>Industrial Conglomerates</td>\n      <td>Saint Paul, Minnesota</td>\n      <td>1957-03-04</td>\n      <td>66740</td>\n      <td>1902</td>\n    </tr>\n    <tr>\n      <th>1</th>\n      <td>AOS</td>\n      <td>A. O. Smith</td>\n      <td>Industrials</td>\n      <td>Building Products</td>\n      <td>Milwaukee, Wisconsin</td>\n      <td>2017-07-26</td>\n      <td>91142</td>\n      <td>1916</td>\n    </tr>\n    <tr>\n      <th>2</th>\n      <td>ABT</td>\n      <td>Abbott</td>\n      <td>Health Care</td>\n      <td>Health Care Equipment</td>\n      <td>North Chicago, Illinois</td>\n      <td>1957-03-04</td>\n      <td>1800</td>\n      <td>1888</td>\n    </tr>\n    <tr>\n      <th>3</th>\n      <td>ABBV</td>\n      <td>AbbVie</td>\n      <td>Health Care</td>\n      <td>Biotechnology</td>\n      <td>North Chicago, Illinois</td>\n      <td>2012-12-31</td>\n      <td>1551152</td>\n      <td>2013 (1888)</td>\n    </tr>\n    <tr>\n      <th>4</th>\n      <td>ACN</td>\n      <td>Accenture</td>\n      <td>Information Technology</td>\n      <td>IT Consulting &amp; Other Services</td>\n      <td>Dublin, Ireland</td>\n      <td>2011-07-06</td>\n      <td>1467373</td>\n      <td>1989</td>\n    </tr>\n    <tr>\n      <th>...</th>\n      <td>...</td>\n      <td>...</td>\n      <td>...</td>\n      <td>...</td>\n      <td>...</td>\n      <td>...</td>\n      <td>...</td>\n      <td>...</td>\n    </tr>\n    <tr>\n      <th>498</th>\n      <td>YUM</td>\n      <td>Yum! Brands</td>\n      <td>Consumer Discretionary</td>\n      <td>Restaurants</td>\n      <td>Louisville, Kentucky</td>\n      <td>1997-10-06</td>\n      <td>1041061</td>\n      <td>1997</td>\n    </tr>\n    <tr>\n      <th>499</th>\n      <td>ZBRA</td>\n      <td>Zebra Technologies</td>\n      <td>Information Technology</td>\n      <td>Electronic Equipment &amp; Instruments</td>\n      <td>Lincolnshire, Illinois</td>\n      <td>2019-12-23</td>\n      <td>877212</td>\n      <td>1969</td>\n    </tr>\n    <tr>\n      <th>500</th>\n      <td>ZBH</td>\n      <td>Zimmer Biomet</td>\n      <td>Health Care</td>\n      <td>Health Care Equipment</td>\n      <td>Warsaw, Indiana</td>\n      <td>2001-08-07</td>\n      <td>1136869</td>\n      <td>1927</td>\n    </tr>\n    <tr>\n      <th>501</th>\n      <td>ZION</td>\n      <td>Zions Bancorporation</td>\n      <td>Financials</td>\n      <td>Regional Banks</td>\n      <td>Salt Lake City, Utah</td>\n      <td>2001-06-22</td>\n      <td>109380</td>\n      <td>1873</td>\n    </tr>\n    <tr>\n      <th>502</th>\n      <td>ZTS</td>\n      <td>Zoetis</td>\n      <td>Health Care</td>\n      <td>Pharmaceuticals</td>\n      <td>Parsippany, New Jersey</td>\n      <td>2013-06-21</td>\n      <td>1555280</td>\n      <td>1952</td>\n    </tr>\n  </tbody>\n</table>\n<p>503 rows × 8 columns</p>\n</div>"
     },
     "execution_count": 3,
     "metadata": {},
     "output_type": "execute_result"
    }
   ],
   "source": [
    "sp500_companies"
   ],
   "metadata": {
    "collapsed": false,
    "ExecuteTime": {
     "end_time": "2024-03-06T04:57:30.043173Z",
     "start_time": "2024-03-06T04:57:30.034290Z"
    }
   }
  },
  {
   "cell_type": "code",
   "execution_count": 4,
   "outputs": [],
   "source": [
    "# import yaml\n",
    "# import nasdaqdatalink\n",
    "# import quandl\n",
    "# \n",
    "# \n",
    "# with open('config.yaml', encoding='UTF-8') as f:\n",
    "#     _cfg = yaml.load(f, Loader=yaml.FullLoader)\n",
    "# \n",
    "# QUANDL_API_KEY = _cfg['NASDAQ_API_KEY_SECRET']"
   ],
   "metadata": {
    "collapsed": false,
    "ExecuteTime": {
     "end_time": "2024-03-06T04:57:30.045749Z",
     "start_time": "2024-03-06T04:57:30.044021Z"
    }
   }
  },
  {
   "cell_type": "code",
   "execution_count": 5,
   "outputs": [],
   "source": [
    "# # data = quandl.get('FRED/GDP', start_date='2020-12-31', end_date='2023-12-31')\n",
    "# oil = quandl.get('EIA/PET_RWTC_D', api_key=QUANDL_API_KEY).squeeze()\n",
    "# oil.plot(lw=2, title='WTI Crude Oil Price', figsize=(15, 5))\n",
    "# sns.despine()\n",
    "# plt.tight_layout();"
   ],
   "metadata": {
    "collapsed": false,
    "ExecuteTime": {
     "end_time": "2024-03-06T04:57:30.048387Z",
     "start_time": "2024-03-06T04:57:30.046678Z"
    }
   }
  },
  {
   "cell_type": "code",
   "execution_count": 6,
   "outputs": [
    {
     "data": {
      "text/plain": "{'Dividend Date': datetime.date(2024, 3, 14),\n 'Ex-Dividend Date': datetime.date(2024, 2, 14),\n 'Earnings Date': [datetime.date(2024, 4, 23), datetime.date(2024, 4, 29)],\n 'Earnings High': 3.06,\n 'Earnings Low': 2.78,\n 'Earnings Average': 2.83,\n 'Revenue High': 62059100000,\n 'Revenue Low': 60460000000,\n 'Revenue Average': 60797500000}"
     },
     "execution_count": 6,
     "metadata": {},
     "output_type": "execute_result"
    }
   ],
   "source": [
    "ticker = yf.Ticker('MSFT')\n",
    "data = ticker.history(period='5d', interval='1m', actions=True, auto_adjust=True)\n",
    "ticker.calendar"
   ],
   "metadata": {
    "collapsed": false,
    "ExecuteTime": {
     "end_time": "2024-03-06T04:57:31.716761Z",
     "start_time": "2024-03-06T04:57:30.048970Z"
    }
   }
  },
  {
   "cell_type": "code",
   "execution_count": 7,
   "outputs": [
    {
     "data": {
      "text/plain": "         contractSymbol             lastTradeDate  strike  lastPrice     bid  \\\n0   MSFT240308P00245000 2024-02-16 14:30:16+00:00   245.0       0.05    0.00   \n1   MSFT240308P00250000 2024-02-16 19:01:25+00:00   250.0       0.01    0.00   \n2   MSFT240308P00255000 2024-02-05 16:37:27+00:00   255.0       0.03    0.00   \n3   MSFT240308P00260000 2024-02-23 14:36:29+00:00   260.0       0.01    0.00   \n4   MSFT240308P00265000 2024-02-20 15:42:36+00:00   265.0       0.01    0.00   \n..                  ...                       ...     ...        ...     ...   \n56  MSFT240308P00455000 2024-01-26 20:21:50+00:00   455.0      51.87   43.20   \n57  MSFT240308P00460000 2024-03-01 20:49:59+00:00   460.0      44.70   56.40   \n58  MSFT240308P00480000 2024-02-09 17:36:01+00:00   480.0      60.80   76.35   \n59  MSFT240308P00520000 2024-03-01 20:56:22+00:00   520.0     104.79  116.40   \n60  MSFT240308P00525000 2024-03-05 15:13:08+00:00   525.0     120.00  121.45   \n\n       ask     change  percentChange  volume  openInterest  impliedVolatility  \\\n0     0.02   0.000000       0.000000     3.0             3           1.718751   \n1     0.02   0.000000       0.000000     1.0             7           1.656252   \n2     0.02   0.000000       0.000000     NaN             1           1.593752   \n3     0.02   0.000000       0.000000     1.0             1           1.531252   \n4     0.02   0.000000       0.000000   100.0           110           1.468753   \n..     ...        ...            ...     ...           ...                ...   \n56   45.75   0.000000       0.000000     2.0             0           0.000010   \n57   58.40   0.000000       0.000000     2.0             0           0.593754   \n58   78.75   0.000000       0.000000     3.0             0           0.900392   \n59  118.25   0.000000       0.000000     2.0             0           1.559573   \n60  123.25  13.989998      13.196866     1.0             0           0.500005   \n\n    inTheMoney contractSize currency  \n0        False      REGULAR      USD  \n1        False      REGULAR      USD  \n2        False      REGULAR      USD  \n3        False      REGULAR      USD  \n4        False      REGULAR      USD  \n..         ...          ...      ...  \n56        True      REGULAR      USD  \n57        True      REGULAR      USD  \n58        True      REGULAR      USD  \n59        True      REGULAR      USD  \n60        True      REGULAR      USD  \n\n[61 rows x 14 columns]",
      "text/html": "<div>\n<style scoped>\n    .dataframe tbody tr th:only-of-type {\n        vertical-align: middle;\n    }\n\n    .dataframe tbody tr th {\n        vertical-align: top;\n    }\n\n    .dataframe thead th {\n        text-align: right;\n    }\n</style>\n<table border=\"1\" class=\"dataframe\">\n  <thead>\n    <tr style=\"text-align: right;\">\n      <th></th>\n      <th>contractSymbol</th>\n      <th>lastTradeDate</th>\n      <th>strike</th>\n      <th>lastPrice</th>\n      <th>bid</th>\n      <th>ask</th>\n      <th>change</th>\n      <th>percentChange</th>\n      <th>volume</th>\n      <th>openInterest</th>\n      <th>impliedVolatility</th>\n      <th>inTheMoney</th>\n      <th>contractSize</th>\n      <th>currency</th>\n    </tr>\n  </thead>\n  <tbody>\n    <tr>\n      <th>0</th>\n      <td>MSFT240308P00245000</td>\n      <td>2024-02-16 14:30:16+00:00</td>\n      <td>245.0</td>\n      <td>0.05</td>\n      <td>0.00</td>\n      <td>0.02</td>\n      <td>0.000000</td>\n      <td>0.000000</td>\n      <td>3.0</td>\n      <td>3</td>\n      <td>1.718751</td>\n      <td>False</td>\n      <td>REGULAR</td>\n      <td>USD</td>\n    </tr>\n    <tr>\n      <th>1</th>\n      <td>MSFT240308P00250000</td>\n      <td>2024-02-16 19:01:25+00:00</td>\n      <td>250.0</td>\n      <td>0.01</td>\n      <td>0.00</td>\n      <td>0.02</td>\n      <td>0.000000</td>\n      <td>0.000000</td>\n      <td>1.0</td>\n      <td>7</td>\n      <td>1.656252</td>\n      <td>False</td>\n      <td>REGULAR</td>\n      <td>USD</td>\n    </tr>\n    <tr>\n      <th>2</th>\n      <td>MSFT240308P00255000</td>\n      <td>2024-02-05 16:37:27+00:00</td>\n      <td>255.0</td>\n      <td>0.03</td>\n      <td>0.00</td>\n      <td>0.02</td>\n      <td>0.000000</td>\n      <td>0.000000</td>\n      <td>NaN</td>\n      <td>1</td>\n      <td>1.593752</td>\n      <td>False</td>\n      <td>REGULAR</td>\n      <td>USD</td>\n    </tr>\n    <tr>\n      <th>3</th>\n      <td>MSFT240308P00260000</td>\n      <td>2024-02-23 14:36:29+00:00</td>\n      <td>260.0</td>\n      <td>0.01</td>\n      <td>0.00</td>\n      <td>0.02</td>\n      <td>0.000000</td>\n      <td>0.000000</td>\n      <td>1.0</td>\n      <td>1</td>\n      <td>1.531252</td>\n      <td>False</td>\n      <td>REGULAR</td>\n      <td>USD</td>\n    </tr>\n    <tr>\n      <th>4</th>\n      <td>MSFT240308P00265000</td>\n      <td>2024-02-20 15:42:36+00:00</td>\n      <td>265.0</td>\n      <td>0.01</td>\n      <td>0.00</td>\n      <td>0.02</td>\n      <td>0.000000</td>\n      <td>0.000000</td>\n      <td>100.0</td>\n      <td>110</td>\n      <td>1.468753</td>\n      <td>False</td>\n      <td>REGULAR</td>\n      <td>USD</td>\n    </tr>\n    <tr>\n      <th>...</th>\n      <td>...</td>\n      <td>...</td>\n      <td>...</td>\n      <td>...</td>\n      <td>...</td>\n      <td>...</td>\n      <td>...</td>\n      <td>...</td>\n      <td>...</td>\n      <td>...</td>\n      <td>...</td>\n      <td>...</td>\n      <td>...</td>\n      <td>...</td>\n    </tr>\n    <tr>\n      <th>56</th>\n      <td>MSFT240308P00455000</td>\n      <td>2024-01-26 20:21:50+00:00</td>\n      <td>455.0</td>\n      <td>51.87</td>\n      <td>43.20</td>\n      <td>45.75</td>\n      <td>0.000000</td>\n      <td>0.000000</td>\n      <td>2.0</td>\n      <td>0</td>\n      <td>0.000010</td>\n      <td>True</td>\n      <td>REGULAR</td>\n      <td>USD</td>\n    </tr>\n    <tr>\n      <th>57</th>\n      <td>MSFT240308P00460000</td>\n      <td>2024-03-01 20:49:59+00:00</td>\n      <td>460.0</td>\n      <td>44.70</td>\n      <td>56.40</td>\n      <td>58.40</td>\n      <td>0.000000</td>\n      <td>0.000000</td>\n      <td>2.0</td>\n      <td>0</td>\n      <td>0.593754</td>\n      <td>True</td>\n      <td>REGULAR</td>\n      <td>USD</td>\n    </tr>\n    <tr>\n      <th>58</th>\n      <td>MSFT240308P00480000</td>\n      <td>2024-02-09 17:36:01+00:00</td>\n      <td>480.0</td>\n      <td>60.80</td>\n      <td>76.35</td>\n      <td>78.75</td>\n      <td>0.000000</td>\n      <td>0.000000</td>\n      <td>3.0</td>\n      <td>0</td>\n      <td>0.900392</td>\n      <td>True</td>\n      <td>REGULAR</td>\n      <td>USD</td>\n    </tr>\n    <tr>\n      <th>59</th>\n      <td>MSFT240308P00520000</td>\n      <td>2024-03-01 20:56:22+00:00</td>\n      <td>520.0</td>\n      <td>104.79</td>\n      <td>116.40</td>\n      <td>118.25</td>\n      <td>0.000000</td>\n      <td>0.000000</td>\n      <td>2.0</td>\n      <td>0</td>\n      <td>1.559573</td>\n      <td>True</td>\n      <td>REGULAR</td>\n      <td>USD</td>\n    </tr>\n    <tr>\n      <th>60</th>\n      <td>MSFT240308P00525000</td>\n      <td>2024-03-05 15:13:08+00:00</td>\n      <td>525.0</td>\n      <td>120.00</td>\n      <td>121.45</td>\n      <td>123.25</td>\n      <td>13.989998</td>\n      <td>13.196866</td>\n      <td>1.0</td>\n      <td>0</td>\n      <td>0.500005</td>\n      <td>True</td>\n      <td>REGULAR</td>\n      <td>USD</td>\n    </tr>\n  </tbody>\n</table>\n<p>61 rows × 14 columns</p>\n</div>"
     },
     "execution_count": 7,
     "metadata": {},
     "output_type": "execute_result"
    }
   ],
   "source": [
    "# get option price\n",
    "options = ticker.option_chain(ticker.options[0])\n",
    "options.puts # options.calls"
   ],
   "metadata": {
    "collapsed": false,
    "ExecuteTime": {
     "end_time": "2024-03-06T04:57:32.020877Z",
     "start_time": "2024-03-06T04:57:31.718513Z"
    }
   }
  },
  {
   "cell_type": "code",
   "execution_count": 8,
   "outputs": [],
   "source": [
    "sns.set_style('whitegrid')\n",
    "\n",
    "data_path = Path('data')\n",
    "if not data_path.exists():\n",
    "    data_path.mkdir()"
   ],
   "metadata": {
    "collapsed": false,
    "ExecuteTime": {
     "end_time": "2024-03-06T04:57:32.023619Z",
     "start_time": "2024-03-06T04:57:32.021583Z"
    }
   }
  },
  {
   "cell_type": "code",
   "execution_count": 9,
   "outputs": [],
   "source": [
    "SEC_URL = 'https://www.sec.gov/'\n",
    "FSN_PATH = 'files/dera/data/financial-statement-and-notes-data-sets/'"
   ],
   "metadata": {
    "collapsed": false,
    "ExecuteTime": {
     "end_time": "2024-03-06T04:57:32.026018Z",
     "start_time": "2024-03-06T04:57:32.024307Z"
    }
   }
  },
  {
   "cell_type": "code",
   "execution_count": 10,
   "outputs": [
    {
     "data": {
      "text/plain": "[(2019, 1),\n (2019, 2),\n (2019, 3),\n (2019, 4),\n (2020, 1),\n (2020, 2),\n (2020, 3),\n (2020, 4),\n (2021, 1),\n (2021, 2),\n (2021, 3),\n (2021, 4),\n (2022, 1),\n (2022, 2),\n (2022, 3),\n (2022, 4)]"
     },
     "execution_count": 10,
     "metadata": {},
     "output_type": "execute_result"
    }
   ],
   "source": [
    "filing_periods = [(d.year, d.quarter) for d in pd.date_range('2019', '2023-03-30', freq='Q')]\n",
    "filing_periods"
   ],
   "metadata": {
    "collapsed": false,
    "ExecuteTime": {
     "end_time": "2024-03-06T04:57:32.032395Z",
     "start_time": "2024-03-06T04:57:32.028265Z"
    }
   }
  },
  {
   "cell_type": "code",
   "execution_count": 11,
   "outputs": [
    {
     "name": "stderr",
     "output_type": "stream",
     "text": [
      " 12%|█▎        | 2/16 [00:00<00:01, 10.17it/s]"
     ]
    },
    {
     "name": "stdout",
     "output_type": "stream",
     "text": [
      "\n",
      "Bad zip file: 2019 1\n",
      "\n",
      "\n",
      "Bad zip file: 2019 2\n",
      "\n",
      "\n",
      "Bad zip file: 2019 3\n"
     ]
    },
    {
     "name": "stderr",
     "output_type": "stream",
     "text": [
      " 50%|█████     | 8/16 [00:00<00:00, 18.99it/s]"
     ]
    },
    {
     "name": "stdout",
     "output_type": "stream",
     "text": [
      "\n",
      "Bad zip file: 2019 4\n",
      "\n",
      "\n",
      "Bad zip file: 2020 1\n",
      "\n",
      "\n",
      "Bad zip file: 2020 2\n",
      "\n",
      "\n",
      "Bad zip file: 2020 3\n",
      "\n",
      "\n",
      "Bad zip file: 2020 4\n"
     ]
    },
    {
     "name": "stderr",
     "output_type": "stream",
     "text": [
      " 62%|██████▎   | 10/16 [00:00<00:00, 18.54it/s]"
     ]
    },
    {
     "name": "stdout",
     "output_type": "stream",
     "text": [
      "\n",
      "Bad zip file: 2021 1\n",
      "\n",
      "\n",
      "Bad zip file: 2021 2\n",
      "\n",
      "\n",
      "Bad zip file: 2021 3\n"
     ]
    },
    {
     "name": "stderr",
     "output_type": "stream",
     "text": [
      "100%|██████████| 16/16 [00:00<00:00, 16.88it/s]"
     ]
    },
    {
     "name": "stdout",
     "output_type": "stream",
     "text": [
      "\n",
      "Bad zip file: 2021 4\n",
      "\n",
      "\n",
      "Bad zip file: 2022 1\n",
      "\n",
      "\n",
      "Bad zip file: 2022 2\n",
      "\n",
      "\n",
      "Bad zip file: 2022 3\n",
      "\n",
      "\n",
      "Bad zip file: 2022 4\n"
     ]
    },
    {
     "name": "stderr",
     "output_type": "stream",
     "text": [
      "\n"
     ]
    }
   ],
   "source": [
    "for yr, qtr in tqdm(filing_periods):\n",
    "    # set (and create) directory\n",
    "    path = data_path / f'{yr}_{qtr}' / 'source'\n",
    "    if not path.exists():\n",
    "        path.mkdir(parents=True)\n",
    "\n",
    "    # define url and get file\n",
    "    filing = f'{yr}q{qtr}_notes.zip'\n",
    "    url = SEC_URL + FSN_PATH + filing\n",
    "    response = requests.get(url).content\n",
    "\n",
    "    # decompress and save\n",
    "    try:\n",
    "        with ZipFile(BytesIO(response)) as zip_file:\n",
    "            for file in zip_file.namelist():\n",
    "                local_file = path / file\n",
    "                if local_file.exists():\n",
    "                    continue\n",
    "                with local_file.open('wb') as output:\n",
    "                    for line in zip_file.open(file).readlines():\n",
    "                        output.write(line)\n",
    "    except BadZipFile:\n",
    "        print(f'\\nBad zip file: {yr} {qtr}\\n')\n",
    "        continue"
   ],
   "metadata": {
    "collapsed": false,
    "ExecuteTime": {
     "end_time": "2024-03-06T04:57:32.994999Z",
     "start_time": "2024-03-06T04:57:32.032977Z"
    }
   }
  },
  {
   "cell_type": "code",
   "execution_count": 12,
   "outputs": [
    {
     "name": "stderr",
     "output_type": "stream",
     "text": [
      "0it [00:00, ?it/s]\n"
     ]
    }
   ],
   "source": [
    "for f in tqdm(sorted(list(data_path.glob('**/*.tsv')))):\n",
    "    # set (and create) directory\n",
    "    parquet_path = f.parent.parent / 'parquet'\n",
    "    if not parquet_path.exists():\n",
    "        parquet_path.mkdir(parents=True)\n",
    "\n",
    "    # write content to .parquet\n",
    "    file_name = f.stem  + '.parquet'\n",
    "    if not (parquet_path / file_name).exists():\n",
    "        try:\n",
    "            df = pd.read_csv(f, sep='\\t', encoding='utf-8', low_memory=False, error_bad_lines=False)\n",
    "            df.to_parquet(parquet_path / file_name)\n",
    "        except Exception as e:\n",
    "            print(e, ' | ', f)\n",
    "        # optional: uncomment to delete original .tsv\n",
    "#         else:\n",
    "            # f.unlink"
   ],
   "metadata": {
    "collapsed": false,
    "ExecuteTime": {
     "end_time": "2024-03-06T04:57:33.000555Z",
     "start_time": "2024-03-06T04:57:32.995852Z"
    }
   }
  },
  {
   "cell_type": "code",
   "execution_count": 13,
   "outputs": [
    {
     "ename": "FileNotFoundError",
     "evalue": "[Errno 2] No such file or directory: 'data/2020_3/source/2020q3_notes-metadata.json'",
     "output_type": "error",
     "traceback": [
      "\u001B[0;31m---------------------------------------------------------------------------\u001B[0m",
      "\u001B[0;31mFileNotFoundError\u001B[0m                         Traceback (most recent call last)",
      "Cell \u001B[0;32mIn[13], line 3\u001B[0m\n\u001B[1;32m      1\u001B[0m \u001B[38;5;66;03m# file = data_path / '2022_3' / 'source' / '2022q3_notes-metadata.json'\u001B[39;00m\n\u001B[1;32m      2\u001B[0m file \u001B[38;5;241m=\u001B[39m data_path \u001B[38;5;241m/\u001B[39m \u001B[38;5;124m'\u001B[39m\u001B[38;5;124m2020_3\u001B[39m\u001B[38;5;124m'\u001B[39m \u001B[38;5;241m/\u001B[39m \u001B[38;5;124m'\u001B[39m\u001B[38;5;124msource\u001B[39m\u001B[38;5;124m'\u001B[39m \u001B[38;5;241m/\u001B[39m \u001B[38;5;124m'\u001B[39m\u001B[38;5;124m2020q3_notes-metadata.json\u001B[39m\u001B[38;5;124m'\u001B[39m\n\u001B[0;32m----> 3\u001B[0m \u001B[38;5;28;01mwith\u001B[39;00m \u001B[43mfile\u001B[49m\u001B[38;5;241;43m.\u001B[39;49m\u001B[43mopen\u001B[49m\u001B[43m(\u001B[49m\u001B[43m)\u001B[49m \u001B[38;5;28;01mas\u001B[39;00m f:\n\u001B[1;32m      4\u001B[0m     data \u001B[38;5;241m=\u001B[39m json\u001B[38;5;241m.\u001B[39mload(f)\n\u001B[1;32m      6\u001B[0m pprint(data)\n",
      "File \u001B[0;32m~/Dev/Anaconda/anaconda3/envs/tf_finance/lib/python3.9/pathlib.py:1252\u001B[0m, in \u001B[0;36mPath.open\u001B[0;34m(self, mode, buffering, encoding, errors, newline)\u001B[0m\n\u001B[1;32m   1246\u001B[0m \u001B[38;5;28;01mdef\u001B[39;00m \u001B[38;5;21mopen\u001B[39m(\u001B[38;5;28mself\u001B[39m, mode\u001B[38;5;241m=\u001B[39m\u001B[38;5;124m'\u001B[39m\u001B[38;5;124mr\u001B[39m\u001B[38;5;124m'\u001B[39m, buffering\u001B[38;5;241m=\u001B[39m\u001B[38;5;241m-\u001B[39m\u001B[38;5;241m1\u001B[39m, encoding\u001B[38;5;241m=\u001B[39m\u001B[38;5;28;01mNone\u001B[39;00m,\n\u001B[1;32m   1247\u001B[0m          errors\u001B[38;5;241m=\u001B[39m\u001B[38;5;28;01mNone\u001B[39;00m, newline\u001B[38;5;241m=\u001B[39m\u001B[38;5;28;01mNone\u001B[39;00m):\n\u001B[1;32m   1248\u001B[0m \u001B[38;5;250m    \u001B[39m\u001B[38;5;124;03m\"\"\"\u001B[39;00m\n\u001B[1;32m   1249\u001B[0m \u001B[38;5;124;03m    Open the file pointed by this path and return a file object, as\u001B[39;00m\n\u001B[1;32m   1250\u001B[0m \u001B[38;5;124;03m    the built-in open() function does.\u001B[39;00m\n\u001B[1;32m   1251\u001B[0m \u001B[38;5;124;03m    \"\"\"\u001B[39;00m\n\u001B[0;32m-> 1252\u001B[0m     \u001B[38;5;28;01mreturn\u001B[39;00m \u001B[43mio\u001B[49m\u001B[38;5;241;43m.\u001B[39;49m\u001B[43mopen\u001B[49m\u001B[43m(\u001B[49m\u001B[38;5;28;43mself\u001B[39;49m\u001B[43m,\u001B[49m\u001B[43m \u001B[49m\u001B[43mmode\u001B[49m\u001B[43m,\u001B[49m\u001B[43m \u001B[49m\u001B[43mbuffering\u001B[49m\u001B[43m,\u001B[49m\u001B[43m \u001B[49m\u001B[43mencoding\u001B[49m\u001B[43m,\u001B[49m\u001B[43m \u001B[49m\u001B[43merrors\u001B[49m\u001B[43m,\u001B[49m\u001B[43m \u001B[49m\u001B[43mnewline\u001B[49m\u001B[43m,\u001B[49m\n\u001B[1;32m   1253\u001B[0m \u001B[43m                   \u001B[49m\u001B[43mopener\u001B[49m\u001B[38;5;241;43m=\u001B[39;49m\u001B[38;5;28;43mself\u001B[39;49m\u001B[38;5;241;43m.\u001B[39;49m\u001B[43m_opener\u001B[49m\u001B[43m)\u001B[49m\n",
      "File \u001B[0;32m~/Dev/Anaconda/anaconda3/envs/tf_finance/lib/python3.9/pathlib.py:1120\u001B[0m, in \u001B[0;36mPath._opener\u001B[0;34m(self, name, flags, mode)\u001B[0m\n\u001B[1;32m   1118\u001B[0m \u001B[38;5;28;01mdef\u001B[39;00m \u001B[38;5;21m_opener\u001B[39m(\u001B[38;5;28mself\u001B[39m, name, flags, mode\u001B[38;5;241m=\u001B[39m\u001B[38;5;241m0o666\u001B[39m):\n\u001B[1;32m   1119\u001B[0m     \u001B[38;5;66;03m# A stub for the opener argument to built-in open()\u001B[39;00m\n\u001B[0;32m-> 1120\u001B[0m     \u001B[38;5;28;01mreturn\u001B[39;00m \u001B[38;5;28;43mself\u001B[39;49m\u001B[38;5;241;43m.\u001B[39;49m\u001B[43m_accessor\u001B[49m\u001B[38;5;241;43m.\u001B[39;49m\u001B[43mopen\u001B[49m\u001B[43m(\u001B[49m\u001B[38;5;28;43mself\u001B[39;49m\u001B[43m,\u001B[49m\u001B[43m \u001B[49m\u001B[43mflags\u001B[49m\u001B[43m,\u001B[49m\u001B[43m \u001B[49m\u001B[43mmode\u001B[49m\u001B[43m)\u001B[49m\n",
      "\u001B[0;31mFileNotFoundError\u001B[0m: [Errno 2] No such file or directory: 'data/2020_3/source/2020q3_notes-metadata.json'"
     ]
    }
   ],
   "source": [
    "# file = data_path / '2022_3' / 'source' / '2022q3_notes-metadata.json'\n",
    "file = data_path / '2020_3' / 'source' / '2020q3_notes-metadata.json'\n",
    "with file.open() as f:\n",
    "    data = json.load(f)\n",
    "\n",
    "pprint(data)"
   ],
   "metadata": {
    "collapsed": false,
    "ExecuteTime": {
     "end_time": "2024-03-06T04:57:33.429546Z",
     "start_time": "2024-03-06T04:57:33.001231Z"
    }
   }
  },
  {
   "cell_type": "code",
   "execution_count": null,
   "outputs": [],
   "source": [
    "sub = pd.read_parquet(data_path / '2020_3' / 'parquet' / 'sub.parquet')\n",
    "sub.columns"
   ],
   "metadata": {
    "collapsed": false
   }
  },
  {
   "cell_type": "code",
   "execution_count": null,
   "outputs": [],
   "source": [
    "name = 'APPLE INC'\n",
    "apple = sub[sub.name == name].T.dropna().squeeze()\n",
    "key_cols = ['name', 'adsh', 'cik', 'name', 'sic', 'countryba', 'stprba', 'cityba', 'zipba', 'bas1', 'form', 'period','filed']\n",
    "# apple.loc[key_cols]\n",
    "apple.loc[key_cols]"
   ],
   "metadata": {
    "collapsed": false
   }
  },
  {
   "cell_type": "code",
   "execution_count": null,
   "outputs": [],
   "source": [
    "aapl_subs = pd.DataFrame()\n",
    "for sub in data_path.glob('**/sub.parquet'):\n",
    "    sub = pd.read_parquet(sub)\n",
    "\n",
    "    aapl_sub = sub[(sub.cik.astype(int) == apple.cik) & (sub.form.isin(['10-Q', '10-K']))]\n",
    "    aapl_subs = pd.concat([aapl_subs, aapl_sub])\n",
    "\n",
    "aapl_subs.form.value_counts()"
   ],
   "metadata": {
    "collapsed": false
   }
  },
  {
   "cell_type": "code",
   "execution_count": null,
   "outputs": [],
   "source": [
    "aapl_nums = pd.DataFrame()\n",
    "for num in data_path.glob('**/num.parquet'):\n",
    "    num = pd.read_parquet(num).drop('dimh', axis=1)\n",
    "    aapl_num = num[num.adsh.isin(aapl_subs.adsh)]\n",
    "    print(len(aapl_num))\n",
    "    aapl_nums = pd.concat([aapl_nums, aapl_num])\n",
    "aapl_nums.ddate = pd.to_datetime(aapl_nums.ddate, format='%Y%m%d')\n",
    "aapl_nums.to_parquet(data_path / 'aapl_nums.parquet')"
   ],
   "metadata": {
    "collapsed": false
   }
  },
  {
   "cell_type": "code",
   "execution_count": null,
   "outputs": [],
   "source": [
    "aapl_nums.info()\n",
    "aapl_nums"
   ],
   "metadata": {
    "collapsed": false
   }
  },
  {
   "cell_type": "code",
   "execution_count": null,
   "outputs": [],
   "source": [
    "stock_split = 7\n",
    "split_date = pd.to_datetime('20180604')\n",
    "\n",
    "# Filter by tag; keep only values measuring 1 quarter\n",
    "eps = aapl_nums[(aapl_nums.tag == 'EarningsPerShareDiluted')\n",
    "                & (aapl_nums.qtrs == 1)].drop('tag', axis=1)\n",
    "\n",
    "# Keep only most recent data point from each filing\n",
    "eps = eps.groupby('adsh').apply(lambda x: x.nlargest(n=1, columns=['ddate']))\n",
    "\n",
    "# Adjust earnings prior to stock split downward\n",
    "eps.loc[eps.ddate < split_date,'value'] = eps.loc[eps.ddate < split_date, 'value'].div(7)\n",
    "eps = eps[['ddate', 'value']].set_index('ddate').squeeze().sort_index()\n",
    "eps = eps.rolling(4,min_periods=4).sum().dropna()\n",
    "eps.plot(lw=2, figsize=(14, 6), title='Diluted Earnings per Share')\n",
    "plt.xlabel('')\n",
    "plt.savefig('diluted eps', dps=300);"
   ],
   "metadata": {
    "collapsed": false
   }
  },
  {
   "cell_type": "code",
   "execution_count": null,
   "outputs": [],
   "source": [],
   "metadata": {
    "collapsed": false
   }
  }
 ],
 "metadata": {
  "kernelspec": {
   "display_name": "Python 3",
   "language": "python",
   "name": "python3"
  },
  "language_info": {
   "codemirror_mode": {
    "name": "ipython",
    "version": 2
   },
   "file_extension": ".py",
   "mimetype": "text/x-python",
   "name": "python",
   "nbconvert_exporter": "python",
   "pygments_lexer": "ipython2",
   "version": "2.7.6"
  }
 },
 "nbformat": 4,
 "nbformat_minor": 0
}
